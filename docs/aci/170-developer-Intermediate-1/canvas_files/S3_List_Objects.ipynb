{
 "cells": [
  {
   "cell_type": "markdown",
   "metadata": {},
   "source": [
    "# Basic Steps with AWS SDK\n",
    "Regardless of the service or programming language, programming with AWS generally comes down to three steps. In this notebook, we'll be shoing an example with Python and S3, but the same general flow would apply to Java with DynamoDB for instance."
   ]
  },
  {
   "cell_type": "markdown",
   "metadata": {},
   "source": [
    "## 1) Import AWS Python SDK (Boto) library"
   ]
  },
  {
   "cell_type": "markdown",
   "metadata": {},
   "source": [
    "To work with AWS, you need to import the SDK for the programming language you are using. For Python, **Boto3** is the name of the AWS Python SDK. You must have installed it already, before running this program."
   ]
  },
  {
   "cell_type": "code",
   "execution_count": null,
   "metadata": {},
   "outputs": [],
   "source": [
    "import boto3"
   ]
  },
  {
   "cell_type": "markdown",
   "metadata": {},
   "source": [
    "## 2) Create an AWS client object for the service you want to use"
   ]
  },
  {
   "cell_type": "markdown",
   "metadata": {},
   "source": [
    "When programming using the AWS SDK, you will need a client object to interact with the AWS service. Depending on the service multiple types of client objects may be available. In this example, we will use the S3 service client.\n",
    "\n",
    "You can specify login credentials when creating your client. If none are specified, the SDK will use the default AWS credentials in your environment. If you get authentication error here, make sure you check the documentation on setting up AWS credentials."
   ]
  },
  {
   "cell_type": "code",
   "execution_count": null,
   "metadata": {},
   "outputs": [],
   "source": [
    "s3Client = boto3.client('s3')"
   ]
  },
  {
   "cell_type": "markdown",
   "metadata": {},
   "source": [
    "## 3) Use client object to perform operations"
   ]
  },
  {
   "cell_type": "markdown",
   "metadata": {},
   "source": [
    "After creating a client object, you will use it to perform operations supported by the AWS service. Check the specific service API to see which operations are supported. In our case, we use the client object to list the objects in a specified S3 bucket. The response is generally in JSON format, and the AWS API reference will document for the format.\n",
    "\n",
    "For this S3 operation, the S3 objects are are stored in a list under the \"Contents\" attribute. We can iterate through the list using standard Python mechanisms, and retrieve information about each object. For our demo, we will output the object name, and when it was last modified. The bucket I'm using stores images for a photo album.\n",
    "\n",
    "**Please note** that in a real application, you would want to check for errors when calling the APIs."
   ]
  },
  {
   "cell_type": "code",
   "execution_count": null,
   "metadata": {},
   "outputs": [],
   "source": [
    "# Use client object to load objects for specified bucket\n",
    "response = s3Client.list_objects(Bucket='tucker-photo-album')\n",
    "\n",
    "# Parse through response object\n",
    "for content in response['Contents']:\n",
    "    print(\"File:\", content['Key'],\" - Last Modified: \", content['LastModified']) "
   ]
  }
 ],
 "metadata": {
  "kernelspec": {
   "display_name": "Python 3 (ipykernel)",
   "language": "python",
   "name": "python3"
  },
  "language_info": {
   "codemirror_mode": {
    "name": "ipython",
    "version": 3
   },
   "file_extension": ".py",
   "mimetype": "text/x-python",
   "name": "python",
   "nbconvert_exporter": "python",
   "pygments_lexer": "ipython3",
   "version": "3.9.2"
  }
 },
 "nbformat": 4,
 "nbformat_minor": 4
}
