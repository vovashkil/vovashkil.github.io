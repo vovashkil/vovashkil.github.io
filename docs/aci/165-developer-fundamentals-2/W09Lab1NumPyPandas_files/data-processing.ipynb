{
 "cells": [
  {
   "cell_type": "markdown",
   "id": "405b9255-b1c3-4d91-adef-3a92322534f6",
   "metadata": {},
   "source": [
    "# Navigating Jupyter Notebook\n",
    "The Jupyter notebook is made up of cells that can contain either markdown text or executable code. In this lab, markdown cells are used for instructions, while code cells contain Python code.\n",
    "\n",
    "To run the code in a code cell, first click on that cell to select it. Then either press the play button in the toolbar or use the keyboard shortcut **Shift+Enter**. You will see a set of empty square brackets [ ] to the left of each code cell. When the code is running an asterisk will appear inside the square brackets [*]. When the code completes the square brackets will contain a number, and any results will be displayed below the code cell. This number will increase with each cell you run. You can use this to see the order the cells were run in. The data cells in this notebook need to be run in order, but you can run a cell multiple times. Make sure to run the cells in order from top to bottom to avoid errors.This allows you to step through the analysis one cell at a time."
   ]
  },
  {
   "cell_type": "markdown",
   "id": "8af8ccc3-96d1-4025-be4a-711b510aa5b0",
   "metadata": {},
   "source": [
    "# Overview:\n",
    "In the following tasks, which will be performed inside this notebook environment, you will get hands-on experience in loading, cleaning, analyzing, and visualizing movie ratings data. First, you will import the raw dataset and transform it into a usable format by ensuring that the data types are correct. Next, you will calculate summary statistics on the movie ratings and filter the data to find the highest and lowest rated movies. Then, you will load the cleaned data into a Pandas DataFrame to further analyze the data and prepare it for visualization. Finally, you will use Matplotlib to generate plots that provide insights into movie ratings across genres and the relationship between runtime and ratings. Through these four key tasks, you will gain practical data analysis skills in data wrangling, summary statistics, using Pandas, and data visualization. This lab provides practical experience with a typical data analysis workflow."
   ]
  },
  {
   "cell_type": "markdown",
   "id": "d8522d33-05ce-4670-bd60-8f3b7275e73b",
   "metadata": {
    "tags": []
   },
   "source": [
    "# Task 1: Import the dataset\n",
    "The first step in data analysis is to import the dataset. In this task, you learn how to load the data into NumPy, and observe the dataset's structure by previewing the first few lines. Then you start cleaning and transforming the data by making sure that the numeric data is the right data type."
   ]
  },
  {
   "cell_type": "markdown",
   "id": "dd0cb602-e6e5-4b57-8d3c-97bbae39b272",
   "metadata": {
    "tags": []
   },
   "source": [
    "1.  Run the following code block to import NumPy library and use the  **genfromtxt()** function to load the **movies.csv** dataset."
   ]
  },
  {
   "cell_type": "code",
   "execution_count": 1,
   "id": "a464acd3-11ff-4436-9519-e8270f948b49",
   "metadata": {
    "tags": []
   },
   "outputs": [],
   "source": [
    "import numpy as np\n",
    "# Load the Dataset\n",
    "data = np.genfromtxt(\"movies.csv\", delimiter=',', dtype=None, names=True, encoding=None)"
   ]
  },
  {
   "cell_type": "markdown",
   "id": "a2ddab64-249a-460e-a25c-3508d4c5cddf",
   "metadata": {},
   "source": [
    "The data is loaded from a CSV file into a NumPy structured array by using np.genfromtxt. The **dtype** is set to **None** so NumPy will automatically infer the types. The **names=True** parameter means that the first row of the CSV is used as column names. The output will be a structured NumPy array with those column names and inferred data types."
   ]
  },
  {
   "cell_type": "markdown",
   "id": "bf0d587f-280b-46ff-945a-a4dd3905b77e",
   "metadata": {},
   "source": [
    "2.  To print the loaded data array to understand its schema, run the following code block.\n",
    "\n",
    "    <i aria-hidden=\"true\" class=\"fas fa-sticky-note\" style=\"color:#563377\"></i> **Note:**\n",
    "    \n",
    "    - Jupyter notebooks display the last expression in a code cell as output.\n",
    "    \n",
    "    - Jupyter notebooks display large datasets shortened so that you can glimpse a portion of the output."
   ]
  },
  {
   "cell_type": "code",
   "execution_count": 2,
   "id": "39b34b49-a64a-44a2-b1a5-ac9aefc7701b",
   "metadata": {
    "tags": []
   },
   "outputs": [
    {
     "data": {
      "text/plain": [
       "array([(2013, 'Rush', 'Ron Howard', 8.3, 'Action', 'Biography',    2, 7380, 'Daniel Bruhl', 'Chris Hemsworth', 'Olivia Wilde', '', ''),\n",
       "       (2013, 'Prisoners', 'Denis Villeneuve', 8.2, 'Crime', 'Drama',    3, 9180, 'Hugh Jackman', 'Jake Gyllenhaal', 'Viola Davis', '', ''),\n",
       "       (2013, 'The Hunger Games: Catching Fire', 'Francis Lawrence', nan, 'Action', 'Adventure',    4, 8760, 'Jennifer Lawrence', 'Josh Hutcherson', 'Liam Hemsworth', '', ''),\n",
       "       ...,\n",
       "       (2006, 'The Contract', 'Bruce Beresford', 5.6, 'Action', 'Crime', 4996, 5760, 'John Cusack', 'Morgan Freeman', 'Jamie Anderson', '', ''),\n",
       "       (2010, 'The Clinic', 'James Rabbitts', 5.2, 'Crime', 'Horror', 4999, 5640, 'Tabrett Bethell', 'Freya Stafford', 'Andy Whitfield', '', ''),\n",
       "       (2004, 'Little Black Book', 'Nick Hurran', 5.1, 'Comedy', 'Romance', 5000, 6660, 'Brittany Murphy', 'Ron Livingston', 'Holly Hunter', '', '')],\n",
       "      dtype=[('year', '<i8'), ('title', '<U104'), ('directors_0', '<U32'), ('rating', '<f8'), ('genres_0', '<U11'), ('genres_1', '<U9'), ('rank', '<i8'), ('running_time_secs', '<i8'), ('actors_0', '<U28'), ('actors_1', '<U27'), ('actors_2', '<U27'), ('directors_1', '<U23'), ('directors_2', '<U20')])"
      ]
     },
     "execution_count": 2,
     "metadata": {},
     "output_type": "execute_result"
    }
   ],
   "source": [
    "# Print the loaded data array\n",
    "data"
   ]
  },
  {
   "cell_type": "markdown",
   "id": "16969893-bed7-4fce-ac42-c0ee09bc78fc",
   "metadata": {},
   "source": [
    "<i aria-hidden=\"true\" class=\"fas fa-clipboard-check\" style=\"color:#18ab4b\"></i> **Expected output:** Based on the Python code and sample data provided, the schema of the output would contain the following columns:\n",
    "\n",
    "year - integer,\n",
    "title - string,\n",
    "directors_0 - string,\n",
    "rating - float,\n",
    "genres_0 - string,\n",
    "genres_1 - string,\n",
    "rank - integer,\n",
    "running_time_secs - integer,\n",
    "actors_0 - string,\n",
    "actors_1 - string,\n",
    "actors_2 - string,\n",
    "directors_1 - string,\n",
    "directors_2 - string\n",
    "\n",
    "You can see that the movie **'The Hunger Games: Catching Fire'** has no rating specified (**nan**)."
   ]
  },
  {
   "cell_type": "markdown",
   "id": "58a24968-efa2-4af8-b026-627f936c6b59",
   "metadata": {},
   "source": [
    "3. To perform these operations on the rating column and print the dataset, run the following code block:\n",
    "    - Convert the rating column to a float value.\n",
    "    - Handle missing values in the column by converting NaN to a float data type."
   ]
  },
  {
   "cell_type": "code",
   "execution_count": 3,
   "id": "338d173b-8932-455a-a125-313bc67c13a5",
   "metadata": {
    "tags": []
   },
   "outputs": [
    {
     "data": {
      "text/plain": [
       "array([(2013, 'Rush', 'Ron Howard', 8.3, 'Action', 'Biography',    2, 7380, 'Daniel Bruhl', 'Chris Hemsworth', 'Olivia Wilde', '', ''),\n",
       "       (2013, 'Prisoners', 'Denis Villeneuve', 8.2, 'Crime', 'Drama',    3, 9180, 'Hugh Jackman', 'Jake Gyllenhaal', 'Viola Davis', '', ''),\n",
       "       (2013, 'The Hunger Games: Catching Fire', 'Francis Lawrence', 0. , 'Action', 'Adventure',    4, 8760, 'Jennifer Lawrence', 'Josh Hutcherson', 'Liam Hemsworth', '', ''),\n",
       "       ...,\n",
       "       (2006, 'The Contract', 'Bruce Beresford', 5.6, 'Action', 'Crime', 4996, 5760, 'John Cusack', 'Morgan Freeman', 'Jamie Anderson', '', ''),\n",
       "       (2010, 'The Clinic', 'James Rabbitts', 5.2, 'Crime', 'Horror', 4999, 5640, 'Tabrett Bethell', 'Freya Stafford', 'Andy Whitfield', '', ''),\n",
       "       (2004, 'Little Black Book', 'Nick Hurran', 5.1, 'Comedy', 'Romance', 5000, 6660, 'Brittany Murphy', 'Ron Livingston', 'Holly Hunter', '', '')],\n",
       "      dtype=[('year', '<i8'), ('title', '<U104'), ('directors_0', '<U32'), ('rating', '<f8'), ('genres_0', '<U11'), ('genres_1', '<U9'), ('rank', '<i8'), ('running_time_secs', '<i8'), ('actors_0', '<U28'), ('actors_1', '<U27'), ('actors_2', '<U27'), ('directors_1', '<U23'), ('directors_2', '<U20')])"
      ]
     },
     "execution_count": 3,
     "metadata": {},
     "output_type": "execute_result"
    }
   ],
   "source": [
    "# Convert the rating column to a float value and handle missing values\n",
    "data['rating'] = np.nan_to_num(data['rating'].astype(float))\n",
    "data"
   ]
  },
  {
   "cell_type": "markdown",
   "id": "d2cbb29a-70c8-4937-8640-e0fcdddedc1d",
   "metadata": {},
   "source": [
    "<i aria-hidden=\"true\" class=\"fas fa-clipboard-check\" style=\"color:#18ab4b\"></i> **Expected output:**  You can see that the missing (**nan**) rating value for the movie **'The Hunger Games: Catching Fire'** has now been converted to **0.**"
   ]
  },
  {
   "cell_type": "markdown",
   "id": "bdcc5787-f1e2-4c00-8920-d49a85ac2c72",
   "metadata": {},
   "source": [
    "<i aria-hidden=\"true\" class=\"far fa-thumbs-up\" style=\"color:#008296\"></i> **Task complete:** In this task, you gained practical experience importing libraries like NumPy and using functions like **genfromtxt()** to load in CSV datasets. By printing the first few rows, you could understand the structure of the dataset and identify columns that you wanted to manipulate, like the 'rating' column. You learned how to convert data types, like changing the 'rating' column from an object to a float datatype. Finally, you learned techniques for handling missing data, converting any NaN values to a float type.  \n",
    "\n",
    "The skills covered in this task, from importing libraries to cleaning and preparing datasets, are essential building blocks for working with data in Python. Going forward, you can apply this knowledge to load, understand, and wrangle new datasets to perform numerical analysis on a dataset."
   ]
  },
  {
   "cell_type": "markdown",
   "id": "ec6a4eb4-e8c2-4056-abf8-9374e0bda6b7",
   "metadata": {},
   "source": [
    "# Task 2: Perform numerical analysis\n",
    "\n",
    "In this task, you perform initial analysis on movie rating data by calculating summary statistics like mean, median, and standard deviation. You script code to identify the movies with the highest and lowest average ratings. You modify the code to filter the movies so that only those released after a certain year are included in the calculations."
   ]
  },
  {
   "cell_type": "markdown",
   "id": "e0902105-3afc-4b0d-aa1c-a1de6afb2672",
   "metadata": {},
   "source": [
    "4. Now load the data into a Pandas DataFrame and calculate the mean, median, and standard deviation of the 'rating' column and store in variables **rating_mean, rating_median, and rating_std** respectively. To do so, run the following code block:"
   ]
  },
  {
   "cell_type": "code",
   "execution_count": 5,
   "id": "4f83587f-2929-4dc6-8aea-b342730055dd",
   "metadata": {
    "tags": []
   },
   "outputs": [],
   "source": [
    "# Load the data into a pandas DataFrame and calculate the mean, median, and standard deviation and store in variables\n",
    "rating_mean = np.mean(data['rating'])\n",
    "rating_median = np.median(data['rating'])\n",
    "rating_std = np.std(data['rating'])"
   ]
  },
  {
   "cell_type": "markdown",
   "id": "64a4d6ba-2f10-4526-b32a-366fa8b2d82d",
   "metadata": {},
   "source": [
    "5. To print the results, run the following code block:"
   ]
  },
  {
   "cell_type": "code",
   "execution_count": 6,
   "id": "6ec739ef-ab26-4d49-9440-d358eb89e558",
   "metadata": {
    "tags": []
   },
   "outputs": [
    {
     "name": "stdout",
     "output_type": "stream",
     "text": [
      "Rating Statistics:\n",
      "\n",
      "Mean: 6.122104577999566\n",
      "\n",
      "Median: 6.4\n",
      "\n",
      "Standard Deviation: 1.7149069079985637\n"
     ]
    }
   ],
   "source": [
    "# Print statistics about the data\n",
    "print(\"Rating Statistics:\")\n",
    "print(\"\\nMean:\", rating_mean)\n",
    "print(\"\\nMedian:\", rating_median)\n",
    "print(\"\\nStandard Deviation:\", rating_std)"
   ]
  },
  {
   "cell_type": "markdown",
   "id": "2233f1cb-22da-413c-ac3a-4ef2b564b045",
   "metadata": {},
   "source": [
    "<i aria-hidden=\"true\" class=\"fas fa-clipboard-check\" style=\"color:#18ab4b\"></i> **Expected output:**\n",
    "\n",
    "Rating Statistics:\n",
    "\n",
    "Mean: 6.122104577999566\n",
    "\n",
    "Median: 6.4\n",
    "\n",
    "Standard Deviation: 1.7149069079985637"
   ]
  },
  {
   "cell_type": "markdown",
   "id": "caf05ab2-b882-4626-afaf-c21dbe64502b",
   "metadata": {},
   "source": [
    "6. To find the index of the maximum and minimum 'rating' value using **np.argmax** and **np.argmin** and store the result in **highest_rated_movie** and **lowest_rated_movie** variables respectively, run the following code:"
   ]
  },
  {
   "cell_type": "code",
   "execution_count": 7,
   "id": "b12f089b-6db8-4727-871e-8f6a43bf1bb8",
   "metadata": {
    "tags": []
   },
   "outputs": [],
   "source": [
    "# Find movies with the highest and lowest ratings\n",
    "highest_rated_movie = data[np.argmax(data['rating'])]\n",
    "lowest_rated_movie = data[np.argmin(data['rating'])]"
   ]
  },
  {
   "cell_type": "markdown",
   "id": "8d31e8cb-d68a-4b3d-85c3-1b4a72063fc7",
   "metadata": {},
   "source": [
    "7.  To print the results, run the following code block:"
   ]
  },
  {
   "cell_type": "code",
   "execution_count": 8,
   "id": "809ed421-66fb-4df3-befb-f2bed66ea517",
   "metadata": {
    "tags": []
   },
   "outputs": [
    {
     "name": "stdout",
     "output_type": "stream",
     "text": [
      "Highest Rated Movie: The Shawshank Redemption\n",
      "\n",
      "Lowest Rated Movie: The Hunger Games: Catching Fire\n"
     ]
    }
   ],
   "source": [
    "# Print the title of the highest and lowest rated movie\n",
    "highest_rated_movie = data[np.argmax(data['rating'])]\n",
    "lowest_rated_movie = data[np.argmin(data['rating'])]\n",
    " \n",
    "print(\"Highest Rated Movie:\", highest_rated_movie[1])\n",
    "print(\"\\nLowest Rated Movie:\", lowest_rated_movie[1])"
   ]
  },
  {
   "cell_type": "markdown",
   "id": "5583c25d-3c2a-481a-ac72-2cf1e73883a6",
   "metadata": {
    "tags": []
   },
   "source": [
    "<i aria-hidden=\"true\" class=\"fas fa-clipboard-check\" style=\"color:#18ab4b\"></i> **Expected output:**\n",
    "\n",
    "Highest Rated Movie: The Shawshank Redemption\n",
    "\n",
    "Lowest Rated Movie: The Hunger Games: Catching Fire\n"
   ]
  },
  {
   "cell_type": "markdown",
   "id": "d397ad2f-82bc-4570-83a2-f023ca3f2e0e",
   "metadata": {
    "tags": []
   },
   "source": [
    "8. Filter the data to only show movies released after 2012 with a rating greater than 8.0. To do this, convert the 'year' column to integers and create separate 'rating' and 'year' columns. Set the minimum year and rating thresholds, find indices where both conditions are met, and index the original data with those indices."
   ]
  },
  {
   "cell_type": "code",
   "execution_count": 9,
   "id": "ccdcb735-db99-459e-9921-82d570fb8404",
   "metadata": {
    "tags": []
   },
   "outputs": [],
   "source": [
    "# Show movies having rating more than 7 for movies released after 2012\n",
    "data['year'] = data['year'].astype(int)\n",
    "ratings = data['rating']\n",
    "years = data['year']\n",
    "min_year = 2012\n",
    "min_rating = 8.0\n",
    "indices = np.where((years > min_year) & (ratings > min_rating))\n",
    "filtered_movies = data[indices]"
   ]
  },
  {
   "cell_type": "markdown",
   "id": "88457aba-48e7-42b8-8301-2e6c2f7d9481",
   "metadata": {
    "tags": []
   },
   "source": [
    "9. To print the results, run the following code block:"
   ]
  },
  {
   "cell_type": "code",
   "execution_count": 10,
   "id": "4c0ac329-7bc1-4418-8f3f-c91f385f7dd9",
   "metadata": {
    "tags": []
   },
   "outputs": [
    {
     "name": "stdout",
     "output_type": "stream",
     "text": [
      "Movies released after 2012 with a rating higher than 8.0\n",
      "[(2013, 'Rush', 'Ron Howard', 8.3, 'Action', 'Biography',    2,  7380, 'Daniel Bruhl', 'Chris Hemsworth', 'Olivia Wilde', '', '')\n",
      " (2013, 'Prisoners', 'Denis Villeneuve', 8.2, 'Crime', 'Drama',    3,  9180, 'Hugh Jackman', 'Jake Gyllenhaal', 'Viola Davis', '', '')\n",
      " (2013, 'Gravity', 'Alfonso Cuaron', 8.2, 'Drama', 'Sci-Fi',   12,  5400, 'Sandra Bullock', 'George Clooney', 'Ed Harris', '', '')\n",
      " (2013, 'Before Midnight', 'Richard Linklater', 8.3, 'Drama', 'Romance',  302,  6540, 'Ethan Hawke', 'Julie Delpy', 'Seamus Davey-Fitzpatrick', '', '')\n",
      " (2013, 'The Last of Robin Hood', 'Richard Glatzer', 8.1, 'Biography', 'Drama', 3321,    -1, 'Dakota Fanning', 'Susan Sarandon', 'Kevin Kline', 'Wash Westmoreland', '')\n",
      " (2013, 'Le passe', 'Asghar Farhadi', 8.2, 'Drama', 'Mystery', 3596,  7800, 'Berenice Bejo', 'Tahar Rahim', 'Ali Mosaffa', '', '')\n",
      " (2013, 'Grand Piano', 'Eugenio Mira', 8.3, 'Thriller', '', 3743,    -1, 'John Cusack', 'Elijah Wood', 'Kerry Bishe', '', '')\n",
      " (2013, 'The Short Game', 'Josh Greenbaum', 8.7, 'Documentary', 'Sport', 4197,  5940, 'Edd Hall', 'Jennifer Van Horn', '', '', '')\n",
      " (2013, 'Bhaag Milkha Bhaag', 'Rakeysh Omprakash Mehra', 8.2, 'Biography', 'Drama', 4288, 11160, 'Farhan Akhtar', 'Sonam Kapoor', 'Pavan Malhotra', '', '')]\n"
     ]
    }
   ],
   "source": [
    "print(\"Movies released after\", min_year, \"with a rating higher than\", min_rating)\n",
    "print(filtered_movies)"
   ]
  },
  {
   "cell_type": "markdown",
   "id": "76516e18-333f-4cf9-b8bb-497027154081",
   "metadata": {},
   "source": [
    "<i aria-hidden=\"true\" class=\"fas fa-clipboard-check\" style=\"color:#18ab4b\"></i> **Expected output:** You now see nine movies released after 2012 with a rating higher than 8.0.\n"
   ]
  },
  {
   "cell_type": "markdown",
   "id": "72c83f33-4edd-4cdd-a571-69568da763da",
   "metadata": {},
   "source": [
    "<i aria-hidden=\"true\" class=\"far fa-thumbs-up\" style=\"color:#008296\"></i> **Task complete:**   This task provided a practical application of numerical and statistical analysis tools in Python. You learned to manipulate, analyze, and gain insights from data using NumPy library. The skills developed in cleaning, processing, and analyzing data programmatically will be applied in the following task where you further analyze the data descriptively. "
   ]
  },
  {
   "cell_type": "markdown",
   "id": "6d622fd2-7387-428c-926c-cc48125ea2fa",
   "metadata": {},
   "source": [
    "# Task 3: Use Pandas to explore the data\n",
    "\n",
    "In this task, you load the cleaned data into a Pandas DataFrame to further analyze the data descriptively after having already done some initial data cleaning and exploratory analysis. Creating the DataFrame makes it possible for you to calculate additional summary statistics and continue reviewing the dataset using Pandas' capabilities. This also helps prepare the data for visualization in the upcoming task. Loading the data into a DataFrame provides additional tools for exploring the data before moving on to visualizing and modeling."
   ]
  },
  {
   "cell_type": "markdown",
   "id": "bee40696-3104-47d1-a79d-2b31a6a36d3b",
   "metadata": {},
   "source": [
    "10. To create a Pandas DataFrame from NumPy array data, run the following code block:"
   ]
  },
  {
   "cell_type": "code",
   "execution_count": 11,
   "id": "c6d43734-0ad3-43d2-b128-7374c24ba672",
   "metadata": {
    "tags": []
   },
   "outputs": [],
   "source": [
    "import pandas as pd\n",
    "\n",
    "# Convert NumPy array to Pandas DataFrame\n",
    "movies_df = pd.DataFrame(data)"
   ]
  },
  {
   "cell_type": "markdown",
   "id": "47f7e208-cfb1-4fb1-aadf-dcbbe3050ff3",
   "metadata": {},
   "source": [
    "11. To display the DataFrame and print the first five rows and summary statistics of the DataFrame, run the following code block:"
   ]
  },
  {
   "cell_type": "code",
   "execution_count": 13,
   "id": "57626ffa-f3e5-4b94-af8b-541733ddacfc",
   "metadata": {
    "tags": []
   },
   "outputs": [
    {
     "name": "stdout",
     "output_type": "stream",
     "text": [
      "   year                            title       directors_0  rating genres_0  \\\n",
      "0  2013                             Rush        Ron Howard     8.3   Action   \n",
      "1  2013                        Prisoners  Denis Villeneuve     8.2    Crime   \n",
      "2  2013  The Hunger Games: Catching Fire  Francis Lawrence     0.0   Action   \n",
      "3  2013             Thor: The Dark World       Alan Taylor     0.0   Action   \n",
      "4  2013                  This Is the End     Evan Goldberg     7.2   Comedy   \n",
      "\n",
      "    genres_1  rank  running_time_secs           actors_0         actors_1  \\\n",
      "0  Biography     2               7380       Daniel Bruhl  Chris Hemsworth   \n",
      "1      Drama     3               9180       Hugh Jackman  Jake Gyllenhaal   \n",
      "2  Adventure     4               8760  Jennifer Lawrence  Josh Hutcherson   \n",
      "3  Adventure     5                 -1    Chris Hemsworth  Natalie Portman   \n",
      "4    Fantasy     6               6420       James Franco       Jonah Hill   \n",
      "\n",
      "         actors_2 directors_1 directors_2  \n",
      "0    Olivia Wilde                          \n",
      "1     Viola Davis                          \n",
      "2  Liam Hemsworth                          \n",
      "3  Tom Hiddleston                          \n",
      "4      Seth Rogen  Seth Rogen              \n",
      "Summary Statistics:\n",
      "              year       rating         rank  running_time_secs\n",
      "count  4609.000000  4609.000000  4609.000000        4609.000000\n",
      "mean   2000.880668     6.122105  2479.101540        6099.347147\n",
      "std      14.310259     1.715093  1444.192322        1898.140658\n",
      "min    1920.000000     0.000000     2.000000          -1.000000\n",
      "25%    1996.000000     5.600000  1224.000000        5580.000000\n",
      "50%    2006.000000     6.400000  2470.000000        6180.000000\n",
      "75%    2011.000000     7.200000  3726.000000        7020.000000\n",
      "max    2018.000000     9.300000  5000.000000       16260.000000\n"
     ]
    }
   ],
   "source": [
    "# Display the Pandas DataFrame\n",
    "print(movies_df.head())\n",
    "\n",
    "# Print statistics of the data\n",
    "print(\"Summary Statistics:\")\n",
    "print(movies_df.describe())"
   ]
  },
  {
   "cell_type": "markdown",
   "id": "1e9b9826-89dc-42ca-bf6c-312c852aeb8d",
   "metadata": {},
   "source": [
    "<i aria-hidden=\"true\" class=\"fas fa-clipboard-check\" style=\"color:#18ab4b\"></i> **Expected output:** The first five rows of the DataFrame and summary statistics are presented."
   ]
  },
  {
   "cell_type": "markdown",
   "id": "36c6195b-24e4-40b4-87e8-7b1782b0263f",
   "metadata": {},
   "source": [
    "12. To print the unique values in the **'genres_0'** column of the **movies_df** DataFrame, run the following code:"
   ]
  },
  {
   "cell_type": "code",
   "execution_count": 14,
   "id": "6a2d1668-ca28-4579-ba5a-16a5f7fa1438",
   "metadata": {
    "tags": []
   },
   "outputs": [
    {
     "name": "stdout",
     "output_type": "stream",
     "text": [
      "Unique Genres:\n",
      "['Action' 'Crime' 'Comedy' 'Horror' 'Drama' 'Animation' 'Music'\n",
      " 'Biography' 'Adventure' 'Sci-Fi' 'Documentary' 'Mystery' 'Musical'\n",
      " 'Thriller' 'Family' 'Western' 'Fantasy' 'Film-Noir' 'War' 'Adult'\n",
      " 'Romance' 'Sport' '']\n"
     ]
    }
   ],
   "source": [
    "# Show the unique genres in the data\n",
    "print(\"Unique Genres:\")\n",
    "print(movies_df['genres_0'].unique())"
   ]
  },
  {
   "cell_type": "markdown",
   "id": "99dd7b3a-8fad-4192-be58-6a056ea41090",
   "metadata": {},
   "source": [
    "<i aria-hidden=\"true\" class=\"fas fa-clipboard-check\" style=\"color:#18ab4b\"></i> **Expected output:**\n",
    "\n",
    "Unique Genres:\n",
    "\n",
    "['Action' 'Crime' 'Comedy' 'Horror' 'Drama' 'Animation' 'Music'\n",
    " 'Biography' 'Adventure' 'Sci-Fi' 'Documentary' 'Mystery' 'Musical'\n",
    " 'Thriller' 'Family' 'Western' 'Fantasy' 'Film-Noir' 'War' 'Adult'\n",
    " 'Romance' 'Sport' '']"
   ]
  },
  {
   "cell_type": "markdown",
   "id": "543ed5f1-183b-4571-b8d4-59c6d0913861",
   "metadata": {},
   "source": [
    "13. To print movies with rating **greater than 9** from **movies_df** DataFrame, run the following code.\n",
    "\n",
    "       <i aria-hidden=\"true\" class=\"fas fa-sticky-note\" style=\"color:#563377\"></i> **Note:** The **movies_df[movies_df['rating'] > 9.0** code is using a feature of DataFrames to select data. **movies_df['rating'] > 9.0** evaluates to a Boolean array. You use this boolean array to index the **movies_df** DataFrame, whereas earlier you used the NumPy **where** procedure to select data."
   ]
  },
  {
   "cell_type": "code",
   "execution_count": 15,
   "id": "5706af34-95d0-4fae-8976-c157dd2db1d4",
   "metadata": {
    "tags": []
   },
   "outputs": [
    {
     "name": "stdout",
     "output_type": "stream",
     "text": [
      "The highest rated movies are:\n",
      "     year                     title           directors_0  rating genres_0  \\\n",
      "74   1994  The Shawshank Redemption        Frank Darabont     9.3    Crime   \n",
      "133  1972             The Godfather  Francis Ford Coppola     9.2    Crime   \n",
      "\n",
      "    genres_1  rank  running_time_secs       actors_0        actors_1  \\\n",
      "74     Drama    80               8520    Tim Robbins  Morgan Freeman   \n",
      "133    Drama   143              10500  Marlon Brando       Al Pacino   \n",
      "\n",
      "       actors_2 directors_1 directors_2  \n",
      "74   Bob Gunton                          \n",
      "133  James Caan                          \n"
     ]
    }
   ],
   "source": [
    "# Print the movies having rating more than 9\n",
    "high_rated_movies = movies_df[movies_df['rating'] > 9.0]\n",
    "print(\"The highest rated movies are:\")\n",
    "print(high_rated_movies)"
   ]
  },
  {
   "cell_type": "markdown",
   "id": "0ce4e2aa-6804-447b-9c45-f08d6d0f3bac",
   "metadata": {},
   "source": [
    "<i aria-hidden=\"true\" class=\"fas fa-clipboard-check\" style=\"color:#18ab4b\"></i> **Expected output:** **The Shawshank Redemption** and **The Godfather** are shown as the highest rated movies."
   ]
  },
  {
   "cell_type": "markdown",
   "id": "73c64d3c-fb15-4de4-ae49-8c50de01753b",
   "metadata": {},
   "source": [
    "14. To show the average movie rating per year from **movies_df** DataFrame, run the following code block:"
   ]
  },
  {
   "cell_type": "code",
   "execution_count": 16,
   "id": "90f186d6-409e-4f4e-a853-6a64a7cd507a",
   "metadata": {
    "tags": []
   },
   "outputs": [
    {
     "name": "stdout",
     "output_type": "stream",
     "text": [
      "Average Rating by Year\n",
      "year\n",
      "1920    8.000000\n",
      "1921    8.300000\n",
      "1922    8.000000\n",
      "1925    7.950000\n",
      "1927    8.400000\n",
      "          ...   \n",
      "2013    5.329815\n",
      "2014    0.000000\n",
      "2016    0.000000\n",
      "2017    0.000000\n",
      "2018    0.000000\n",
      "Name: rating, Length: 92, dtype: float64\n"
     ]
    }
   ],
   "source": [
    "# Show the average rating by year\n",
    "average_ratings_year = movies_df.groupby('year')['rating'].mean()\n",
    "print(\"Average Rating by Year\")\n",
    "print(average_ratings_year)"
   ]
  },
  {
   "cell_type": "markdown",
   "id": "0e390371-41d3-43d1-8e70-1b0738bbbf9e",
   "metadata": {},
   "source": [
    "<i aria-hidden=\"true\" class=\"fas fa-clipboard-check\" style=\"color:#18ab4b\"></i> **Expected output:**  The average ratings per year from 1920 to 2018 will be output. \n",
    "\n",
    "<i aria-hidden=\"true\" class=\"fas fa-sticky-note\" style=\"color:#563377\"></i> **Note:** Remember that some movies like *'The Hunger Games: Catching Fire'* did not have a rating. All of the movies listed in *movies.csv* from years 2014 to 2018 do not include a rating, which explains why the average ratings per year from 2014 to 2018 are 0.000000."
   ]
  },
  {
   "cell_type": "markdown",
   "id": "7544e251-4120-45d9-bdb7-0ea356a58d13",
   "metadata": {},
   "source": [
    "<i aria-hidden=\"true\" class=\"far fa-thumbs-up\" style=\"color:#008296\"></i> **Task complete:**\n",
    "You have successfully imported Pandas to work with a movies dataset. By converting the NumPy array into a Pandas DataFrame, you were able to explore and analyze the data. You displayed the first few rows, calculated summary statistics, found unique genre values, filtered for highly rated movies, and calculated average ratings per year. You should now have a solid understanding of how to load, explore, and gain insights from tabular data using Pandas. With this knowledge, you are well on your way toward performing data visualization using Python!"
   ]
  },
  {
   "cell_type": "markdown",
   "id": "eeb1f278-147d-4747-9209-726510ec8b0a",
   "metadata": {},
   "source": [
    "# Task 4: Performing Data Visualization \n",
    "\n",
    "In this task, you import the matplotlib library and load/import a movies dataset.. You calculate average ratings for each movie genre and plot a bar chart to visualize the average ratings. You create a scatter plot showing the relationship between running time and rating for the movies. You can then explore ratings and runtimes for different movie genres."
   ]
  },
  {
   "cell_type": "markdown",
   "id": "0529f044-307b-482e-882b-e721eaa57035",
   "metadata": {},
   "source": [
    "15. To import **pandas** and **matplotlib**, read movies.csv into dataframe, and print the first five rows of dataframe, run the following code:"
   ]
  },
  {
   "cell_type": "code",
   "execution_count": 18,
   "id": "5749a65e-1aca-42d6-bc95-8895e8421b83",
   "metadata": {
    "tags": []
   },
   "outputs": [
    {
     "name": "stdout",
     "output_type": "stream",
     "text": [
      "   year                            title       directors_0  rating genres_0  \\\n",
      "0  2013                             Rush        Ron Howard     8.3   Action   \n",
      "1  2013                        Prisoners  Denis Villeneuve     8.2    Crime   \n",
      "2  2013  The Hunger Games: Catching Fire  Francis Lawrence     0.0   Action   \n",
      "3  2013             Thor: The Dark World       Alan Taylor     0.0   Action   \n",
      "4  2013                  This Is the End     Evan Goldberg     7.2   Comedy   \n",
      "\n",
      "    genres_1  rank  running_time_secs           actors_0         actors_1  \\\n",
      "0  Biography     2               7380       Daniel Bruhl  Chris Hemsworth   \n",
      "1      Drama     3               9180       Hugh Jackman  Jake Gyllenhaal   \n",
      "2  Adventure     4               8760  Jennifer Lawrence  Josh Hutcherson   \n",
      "3  Adventure     5                 -1    Chris Hemsworth  Natalie Portman   \n",
      "4    Fantasy     6               6420       James Franco       Jonah Hill   \n",
      "\n",
      "         actors_2 directors_1 directors_2  \n",
      "0    Olivia Wilde                          \n",
      "1     Viola Davis                          \n",
      "2  Liam Hemsworth                          \n",
      "3  Tom Hiddleston                          \n",
      "4      Seth Rogen  Seth Rogen              \n"
     ]
    }
   ],
   "source": [
    "# import pandas, matplotlib and read data into DataFrame\n",
    "import pandas as pd\n",
    "import matplotlib.pyplot as plt\n",
    "print(movies_df.head())"
   ]
  },
  {
   "cell_type": "markdown",
   "id": "b72b55db-735e-4434-91aa-3ef516c3a0d2",
   "metadata": {},
   "source": [
    "16. To plot a bar chart of the average movie rating for each genre, with genre on the x-axis and average rating on the y-axis, run the following code block.\n",
    "\n",
    "    <i aria-hidden=\"true\" class=\"fas fa-sticky-note\" style=\"color:#563377\"></i> **Note:** It might take up to 60 seconds for the bar graph to be generated."
   ]
  },
  {
   "cell_type": "code",
   "execution_count": 19,
   "id": "711fd8e7-41c1-41e0-9846-f71dc5dbb82e",
   "metadata": {
    "tags": []
   },
   "outputs": [
    {
     "data": {
      "image/png": "[encoded data removed]",
      "text/plain": [
       "<Figure size 1000x600 with 1 Axes>"
      ]
     },
     "metadata": {},
     "output_type": "display_data"
    }
   ],
   "source": [
    "# Calculate the average rating for every genre\n",
    "average_rating_by_genre = movies_df.groupby('genres_0')['rating'].mean().sort_values(ascending=False)\n",
    " \n",
    "# Plot the histogram\n",
    "plt.figure(figsize=(10, 6))\n",
    "average_rating_by_genre.plot(kind='bar', color='skyblue')\n",
    "plt.title('Average Rating by Genre')\n",
    "plt.xlabel('Genre')\n",
    "plt.ylabel('Average Rating')\n",
    "plt.show()"
   ]
  },
  {
   "cell_type": "markdown",
   "id": "cd7a0f69-45f0-4979-8628-3885000458a3",
   "metadata": {},
   "source": [
    "<i aria-hidden=\"true\" class=\"fas fa-clipboard-check\" style=\"color:#18ab4b\"></i> **Expected output:** A bar chart is plotted that shows the average movie rating for each genre, with **film-noir** and **sport** genres having the highest average ratings."
   ]
  },
  {
   "cell_type": "markdown",
   "id": "de983cce-3e84-4447-a462-fef2debb2fee",
   "metadata": {},
   "source": [
    "You now look at the relationship between movie ratings and length by making a **scatterplot**.\n",
    "\n",
    "A scatterplot shows individual data points on a graph. Each dot represents one data point with two values, normally from two variables in a dataset. Scatterplots help visualize the connection or correlation between two continuous variables."
   ]
  },
  {
   "cell_type": "markdown",
   "id": "d90e23e4-395b-4ba8-84a1-4ceaa80fda47",
   "metadata": {
    "tags": []
   },
   "source": [
    "17.To plot a scatterplot of running time compared with rating for the movies_df DataFrame, with a title, axis labels, grid lines, and customizations for size, color, and transparency, run the following code block:"
   ]
  },
  {
   "cell_type": "code",
   "execution_count": 20,
   "id": "1fd014e9-7c63-4c3f-a0aa-8555e10f6578",
   "metadata": {
    "tags": []
   },
   "outputs": [
    {
     "data": {
      "text/plain": [
       "<Figure size 1000x600 with 0 Axes>"
      ]
     },
     "metadata": {},
     "output_type": "display_data"
    },
    {
     "data": {
      "image/png": "[encoded data removed]",
      "text/plain": [
       "<Figure size 640x480 with 1 Axes>"
      ]
     },
     "metadata": {},
     "output_type": "display_data"
    }
   ],
   "source": [
    "# Plotting a scatterplot of running time compared with rating\n",
    "plt.figure(figsize=(10, 6))\n",
    "movies_df.plot.scatter(x='running_time_secs', y='rating', color='coral', alpha=0.7)\n",
    "plt.title('Running Time vs. Rating')\n",
    "plt.xlabel('Running Time (seconds)')\n",
    "plt.ylabel('Rating')\n",
    "plt.grid(True)\n",
    "plt.show()"
   ]
  },
  {
   "cell_type": "markdown",
   "id": "fcc71a5d-861e-49c7-bedc-e7fc1c00a7f7",
   "metadata": {},
   "source": [
    "<i aria-hidden=\"true\" class=\"fas fa-clipboard-check\" style=\"color:#18ab4b\"></i> **Expected output:** A scatterplot of running time compared with rating is created."
   ]
  },
  {
   "cell_type": "markdown",
   "id": "66cf07d7-112b-4abd-8629-4be1d006c7bf",
   "metadata": {},
   "source": [
    "The scatterplot indicates that there is not a clear correlation between a movie's running time and its rating, with the exception of a few outliers. Specifically, increased duration does not reliably lead to higher ratings, because there are many examples of longer movies that received mediocre or poor ratings. Overall, the data suggests that a movie's quality, as measured by its rating, depends on factors other than just its length.\n"
   ]
  },
  {
   "cell_type": "markdown",
   "id": "65ca58d0-677d-4da7-b374-0440d13cef84",
   "metadata": {},
   "source": [
    "<i aria-hidden=\"true\" class=\"far fa-thumbs-up\" style=\"color:#008296\"></i> **Task complete:**  Through importing Matplotlib and analyzing movie data, you have successfully created informative plots to visualize key insights. By calculating average ratings per genre and plotting a bar chart, you revealed differences across genres. Additionally, by plotting running time compared with rating in a scatterplot, you identified interesting relationships between these variables. Creating effective data visualizations is a crucial skill for communicating findings. You have demonstrated proficiency in using Python for exploratory data analysis and visualization. With these skills, you can gain deeper insight from data to tell compelling stories."
   ]
  },
  {
   "cell_type": "markdown",
   "id": "4a4e68e8-6d36-4cba-bca6-e0d36971e84a",
   "metadata": {},
   "source": [
    "**Conclusion:**  In this lab, you gained hands-on experience with the core tasks involved in the data analysis process. You started by importing the movies dataset and inspecting its structure. You then performed numerical analysis to calculate summary statistics and identify movies with extreme average ratings. Using Pandas, you were able to further explore the data by loading it into a DataFrame so that you could use Pandas' methods for descriptive analysis. Finally, you used Matplotlib to visualize the data through plots showing average ratings by genre and the relationship between runtime and ratings. Through these key tasks of data importing, cleaning, analysis, manipulation, and visualization, you got exposure to the workflow for exploring, analyzing, and visualizing a dataset as part of the data analysis workflow.."
   ]
  },
  {
   "cell_type": "markdown",
   "id": "ca635830-0f9a-49b1-b859-6f3ada8c9da8",
   "metadata": {},
   "source": [
    "18. Navigate back to the internet browser page from where you started the lab and follow the instructions to end the lab."
   ]
  }
 ],
 "metadata": {
  "kernelspec": {
   "display_name": "conda_python3",
   "language": "python",
   "name": "conda_python3"
  },
  "language_info": {
   "codemirror_mode": {
    "name": "ipython",
    "version": 3
   },
   "file_extension": ".py",
   "mimetype": "text/x-python",
   "name": "python",
   "nbconvert_exporter": "python",
   "pygments_lexer": "ipython3",
   "version": "3.10.15"
  }
 },
 "nbformat": 4,
 "nbformat_minor": 5
}
