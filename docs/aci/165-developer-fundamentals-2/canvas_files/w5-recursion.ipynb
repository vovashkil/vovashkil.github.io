{
 "cells": [
  {
   "cell_type": "markdown",
   "id": "26f38eb3-341c-4af5-834e-6105b2b784ec",
   "metadata": {
    "slideshow": {
     "slide_type": ""
    },
    "tags": []
   },
   "source": [
    "# <span style=\"color:blue\">Recursion\n",
    "AWS CLOUD INSTITUTE: PROVIDED FOR EDUCATIONAL INSTRUCTIONAL PURPOSES ONLY."
   ]
  },
  {
   "cell_type": "markdown",
   "id": "caa9acff-b479-44cd-ba31-18902560c09e",
   "metadata": {},
   "source": [
    "**Recursion** is a concept in computer science where a **function calls itself**. A recursive function generally has **two parts**, a recursive portion and a base case:\n",
    "- The **recursive portion** is the **part of the **code** that **repeats each time**, and **calls itself**\n",
    "- The **base case** is the **part of the code** that **checks for** a **condition to end** the **recursion**\n",
    "\n",
    "We will look at several examples of recursion."
   ]
  },
  {
   "cell_type": "markdown",
   "id": "d50f415c-d560-4559-9a24-0df9dddfb0eb",
   "metadata": {},
   "source": [
    "# Example: Calculating Factorial\n",
    "**Factorial** is **one of the most common examples** of a **recursive solution**, though as we'll see, it's not one without issues."
   ]
  },
  {
   "cell_type": "code",
   "execution_count": null,
   "id": "6fb755f4-c42a-439b-9d05-0e8004643e6b",
   "metadata": {},
   "outputs": [],
   "source": [
    "def factorial(n):\n",
    "    '''\n",
    "    Recursive implementation of factorials\n",
    "    '''\n",
    "    # Base case: factorial of 0 or 1 is 1\n",
    "    if n < 2:\n",
    "        return 1\n",
    "    # Recursive case: n! = n * (n-1)!\n",
    "    else:\n",
    "        return n * factorial(n-1)"
   ]
  },
  {
   "cell_type": "markdown",
   "id": "c6444bee-5e5b-4b4d-9834-a3e205a1c8b0",
   "metadata": {},
   "source": [
    "## Basic test"
   ]
  },
  {
   "cell_type": "code",
   "execution_count": null,
   "id": "16ebed8e-07f7-49a5-862c-db285d6a8153",
   "metadata": {},
   "outputs": [],
   "source": [
    "for n in range(21):\n",
    "    print(f\"Factorial of {n}: {factorial(n)}\")"
   ]
  },
  {
   "cell_type": "markdown",
   "id": "fbe590ed-4b6c-41ad-9288-9c34ba49dc80",
   "metadata": {},
   "source": [
    "Ok, that **works well** enough for these **small numbers**.\n",
    "\n",
    "But we **may run into problems** for a **bigger number**."
   ]
  },
  {
   "cell_type": "markdown",
   "id": "cca097bd-939d-45cd-9fce-1bdd95be93ba",
   "metadata": {},
   "source": [
    "## Recursion and infinite loops\n",
    "**Recursions depend on** a **base case to stop** them. **If** you **make a mistake** on that end case, you **may end up going on forever** ... (or until you **hit the recursion limit**)."
   ]
  },
  {
   "cell_type": "markdown",
   "id": "5265c5f6-04a6-4764-86c5-5a221bcc490e",
   "metadata": {},
   "source": [
    "### A broken factorial\n",
    "Let's make a **small change to our base case**. **Instead of** checking for **n < 2**, we'll check for **n == 1**. That's reasonable, since n will eventually get to 1."
   ]
  },
  {
   "cell_type": "code",
   "execution_count": null,
   "id": "e19c3ebc-4bb2-4c99-98a1-b6a3a62de766",
   "metadata": {},
   "outputs": [],
   "source": [
    "def bad_factorial(n):\n",
    "    '''\n",
    "    Recursive implementation of factorials\n",
    "    '''\n",
    "    # Base case: factorial of 1 is 1\n",
    "    if n == 1:\n",
    "        return 1\n",
    "    # Recursive case: n! = n * (n-1)!\n",
    "    else:\n",
    "        return n * bad_factorial(n-1)"
   ]
  },
  {
   "cell_type": "code",
   "execution_count": null,
   "id": "5cc201e1-c7fb-44bb-92a9-1d8cf2aa41d5",
   "metadata": {},
   "outputs": [],
   "source": [
    "n = 5"
   ]
  },
  {
   "cell_type": "code",
   "execution_count": null,
   "id": "9ee07f8d-a551-47ac-a15d-d43c75524048",
   "metadata": {},
   "outputs": [],
   "source": [
    "print(f\"Factorial of {n} is {bad_factorial(n)}\")"
   ]
  },
  {
   "cell_type": "markdown",
   "id": "07f55aa3-eb94-4741-a89a-b36c07ab47ea",
   "metadata": {},
   "source": [
    "No problem. What was I worried about?\n",
    "\n",
    "Well, let's try factorial of 0 now. That's a valid operation."
   ]
  },
  {
   "cell_type": "markdown",
   "id": "d27d4fa7-79a0-4623-9f0d-391c638974ae",
   "metadata": {},
   "source": [
    "<span style=\"color:red\">**WARNING: This next step will probably crash your Python kernel**</span>\n",
    "<span style=\"color:red\"> Save your notebook if you made changes.</span>"
   ]
  },
  {
   "cell_type": "code",
   "execution_count": null,
   "id": "9ef4970b-09b1-42d7-80cf-06796e708122",
   "metadata": {},
   "outputs": [],
   "source": [
    "#n = 0"
   ]
  },
  {
   "cell_type": "code",
   "execution_count": null,
   "id": "b6bcb0b9-8b72-4432-9e34-d78d1ed7ec59",
   "metadata": {},
   "outputs": [],
   "source": [
    "print(f\"Factorial of {n} is {bad_factorial(n)}\")"
   ]
  },
  {
   "cell_type": "markdown",
   "id": "3a587c90-467f-432b-bcc2-3ae2a767f134",
   "metadata": {},
   "source": [
    "<span style=\"color:red\">**Kaboom!!!**</span> **If** you **don't want to keep crashing**, make sure you **change *n* to** something **greater than 0**."
   ]
  },
  {
   "cell_type": "markdown",
   "id": "cd2e31c5-a5d4-49f2-9769-08232447935f",
   "metadata": {},
   "source": [
    "You may think that you wouldn't make a simple mistake like that in your base class, and that may be true for a simple problem like factorial. However, **for some recursions**, the **base case may not be** as **obvious**, so you **need to be carefull**."
   ]
  },
  {
   "cell_type": "markdown",
   "id": "f0e0b57e-c43d-4a6c-a781-d48179aae26d",
   "metadata": {},
   "source": [
    "## Recursion and stack memory\n",
    "**When** an **application makes a function call**, it **requires stack memory** to be allocated to maintain local variables. The **memory** will be **released when** the **function is completed**. \n",
    "\n",
    "In the case of recursion, **each recursive call** will **require additional** stack **memory**, and the **memory will not be released until** the **recursion stops**, and **all** the cascading **calls complete**. If the recursion level is very deep, this **can be extremely costly in terms of memory**, so **Python** will **impose** a **limit on recursions**. Let's see this in action."
   ]
  },
  {
   "cell_type": "markdown",
   "id": "08cbd7fa-8877-4192-a750-bfdfa6571052",
   "metadata": {},
   "source": [
    "### The recursion limit"
   ]
  },
  {
   "cell_type": "markdown",
   "id": "c2206a73-2c29-4a3c-a1d5-98c486318291",
   "metadata": {},
   "source": [
    "<span style=\"color:red\">**WARNING: This next step will probably crash your Python kernel**</span>\n",
    "<span style=\"color:red\"> Save your notebook if you made changes.</span>"
   ]
  },
  {
   "cell_type": "markdown",
   "id": "51201ea3-6b4c-48e1-89b6-afc5f718b56c",
   "metadata": {},
   "source": [
    "Let's see **what happens if we do** the **factorial of 10,000**.\n",
    "\n",
    "We use a little **fancy if statement** here, because **factorials get so big** so fast, we **don't want to fill up** our **screen** with numbers. So we'll **cap** our **printable results at 1 trillion**."
   ]
  },
  {
   "cell_type": "code",
   "execution_count": null,
   "id": "6f4e1f54-8ea5-4761-99c4-2aaeb802b6c8",
   "metadata": {},
   "outputs": [],
   "source": [
    "n = 10"
   ]
  },
  {
   "cell_type": "code",
   "execution_count": null,
   "id": "29af10ad-f103-46a3-b18c-880f94419708",
   "metadata": {},
   "outputs": [],
   "source": [
    "# calculate the factorial\n",
    "result = factorial(n)\n",
    "\n",
    "# print factorial, or a message if the number is bigger than 1 trillion\n",
    "if (result > 1000000000000):\n",
    "    print(f\"Wow! Factorial of {n} is bigger than one trillion!\")\n",
    "else:\n",
    "    print(f\"Factorial of {n}: {result}\")"
   ]
  },
  {
   "cell_type": "markdown",
   "id": "89d89579-cd48-4d45-abf7-824586508b24",
   "metadata": {},
   "source": [
    "<span style=\"color:red\">**Kaboom!!!**</span> (if you didn't crash your notebook, try 100000)\n",
    "You'll **probably need to retart your notebook**.\n",
    "\n",
    "**If** you **don't want to keep crashing**, make sure you **change *n* to** something smaller like **10**."
   ]
  },
  {
   "cell_type": "markdown",
   "id": "a53a6ffc-bdec-48b6-8312-edcaed4bf45a",
   "metadata": {},
   "source": [
    "### Why did I crash?\n",
    "As I mentioned, **recursion uses** extra **memory to maintain** the **call stack**. We don't want a misbehaving program to take over all of our memory, so **there is a system limit**. The **value can vary**, but you can **verify it using** the ***sys.getrecursionlimit()***"
   ]
  },
  {
   "cell_type": "code",
   "execution_count": null,
   "id": "26420ae6-25cf-4f49-b968-b48ac35aa7a1",
   "metadata": {},
   "outputs": [],
   "source": [
    "import sys\n",
    "\n",
    "# print the recursion limit\n",
    "print(f\"My current recursion limit is: {sys.getrecursionlimit()}\")"
   ]
  },
  {
   "cell_type": "markdown",
   "id": "e603672b-3caf-4fcc-a5b4-dff4148c1c88",
   "metadata": {},
   "source": [
    "So **in my case**, my **recursion limit was 3000**, so the **number of recursions required to calculate 10,000!** (which is 10,000 recursions) was **over the limit**. You **can update** that **limit** with a ***sys.setrecursionlimit()*** call, **but** that would mean you are **taking up a lot of memory.**"
   ]
  },
  {
   "cell_type": "markdown",
   "id": "8042e1de-424f-4649-bea2-b64168eac326",
   "metadata": {},
   "source": [
    "# Example: Binary Tree Traversal\n",
    "We have already looked at a binary search tree (BST) before. Just to recal, it is a **tree data structure** with the following properties:\n",
    "- **No duplicate** elements.\n",
    "- **Each node** has no more than **two children**, a left child and a right child\n",
    "    - **Left** child value is always **less than** the current node.\n",
    "    - **Right** child value is always **greater than** the current node.\n",
    "\n",
    "There are **multiple recursive methods** used in it, but **for this discussion**, we will **focus primarily on** the **tree traversal**. Traversing a tree means walking through every node of the tree. For a BST, the **most common traversal** is what we call an **in-order** traversal, which will r**eturn the nodes in sorted order**."
   ]
  },
  {
   "cell_type": "markdown",
   "id": "62d2d9a0-b807-4f15-b621-01fd7d1829b6",
   "metadata": {},
   "source": [
    "### TreeNode Class"
   ]
  },
  {
   "cell_type": "code",
   "execution_count": null,
   "id": "f43a87db-decb-493c-8c6e-efa3210c1a79",
   "metadata": {},
   "outputs": [],
   "source": [
    "class TreeNode:\n",
    "    '''\n",
    "    Node for a binary tree\n",
    "    '''\n",
    "    def __init__(self, key):\n",
    "        '''\n",
    "        Parameters:\n",
    "            key: The key to be stored in the node\n",
    "            left: Pointer to the left child node\n",
    "            right: Pointer to the right child node\n",
    "        '''\n",
    "        self.key = key\n",
    "        self.left = None\n",
    "        self.right = None\n",
    "        \n",
    "    def __str__():\n",
    "        return self.key"
   ]
  },
  {
   "cell_type": "markdown",
   "id": "ff234d04-b349-49c7-9511-51dc847fb15b",
   "metadata": {},
   "source": [
    "### BinarySearchTree Class\n",
    "The binary search tree class will perform the basic operations required to implementain and maintain the properties we defined. **For our discussion**, **pay close attention** to the ***traverse* method**. Not how simple it is."
   ]
  },
  {
   "cell_type": "code",
   "execution_count": null,
   "id": "df147023-2fa0-4f35-be76-55ce5d87a87b",
   "metadata": {
    "slideshow": {
     "slide_type": ""
    },
    "tags": []
   },
   "outputs": [],
   "source": [
    "class BinarySearchTree:\n",
    "    '''\n",
    "    A Binary Search Tree\n",
    "    '''\n",
    "    def __init__(self):\n",
    "        # initialize the root of the tree\n",
    "        self.root = None\n",
    "\n",
    "    def traverse(self):\n",
    "        '''\n",
    "        Returns a list of the tree's data, in order from smallest to largest\n",
    "        '''\n",
    "\n",
    "        # kick off a recursive traversal of the tree, starting at the root\n",
    "        return self._traverse(self.root, [])\n",
    "\n",
    "    def _traverse(self, node, result):\n",
    "        '''\n",
    "        This method will recursively traverse a tree in order from lowest to highest, \n",
    "        starting from the input node.\n",
    "        '''\n",
    "\n",
    "        # if the node is not None\n",
    "        if node is not None:\n",
    "            # recursively traverse the left sub-tree first for the smaller items\n",
    "            self._traverse(node.left, result)\n",
    "\n",
    "            # now append current node to result list\n",
    "            result.append(node.key)\n",
    "\n",
    "            # recursively traverse the right sub-tree for the larger items\n",
    "            self._traverse(node.right, result)\n",
    "\n",
    "        return result\n",
    "    \n",
    "    def _insert_node(self, curr_node, new_key):\n",
    "        '''\n",
    "        This method will insert a node in the binary tree, by recursively trying to insert \n",
    "        on the left or right subtree, depending on whether the key is smaller or larger \n",
    "        than the current node.\n",
    "\n",
    "        Returns the node that was inserted.\n",
    "        '''\n",
    "        # if the current node is None, than we found the right place to insert, so create a node for the key\n",
    "        if curr_node is None:\n",
    "            return TreeNode(new_key)\n",
    "        \n",
    "        # else, if the new key is less than the current key, recursively try to insert on the left\n",
    "        elif new_key < curr_node.key:\n",
    "            curr_node.left = self._insert_node(curr_node.left, new_key)\n",
    "            \n",
    "        # else, if the new key is greater than the current key, recursively try to insert on the right\n",
    "        elif new_key > curr_node.key:\n",
    "            curr_node.right = self._insert_node(curr_node.right, new_key)\n",
    "            \n",
    "        # if we went through both comparisons, then the key is equal to the current key, so do nothing\n",
    "\n",
    "        # return the updated node\n",
    "        return curr_node\n",
    "\n",
    "\n",
    "    def insert(self, new_key):\n",
    "        '''\n",
    "        Starting at the root, invoke recursive method to insert node for this key\n",
    "        '''\n",
    "        self.root = self._insert_node(self.root, new_key)\n",
    "        \n",
    "    def _search(self, curr_node, search_key):\n",
    "        '''\n",
    "        Search for a value in the binary search tree, by recursively looking for it on the left and right subtree,\n",
    "        depending on whether the value is smaller or larger than the current node.\n",
    "        '''\n",
    "        # if the current node is None, then the value is not in the tree\n",
    "        if (curr_node is None):\n",
    "            return False\n",
    "\n",
    "        # if the current node value is the same as the search value, return True\n",
    "        elif (curr_node.key == search_key):\n",
    "            return True\n",
    "\n",
    "        # else, if the search value is larger, then try to find on the right\n",
    "        elif (search_key > curr_node.key):\n",
    "            return self._search(curr_node.right, search_key)\n",
    "\n",
    "        # else the search value is smaller, so try to find on the left\n",
    "        else:\n",
    "            return self._search(curr_node.left, search_key)\n",
    "\n",
    "    def search(self, search_key):\n",
    "        '''\n",
    "        Search for a value in the binary search tree.\n",
    "        This will trigger a recursive lookup, starting at the root of the tree.\n",
    "        '''\n",
    "        return self._search(self.root, search_key)\n",
    "        \n",
    "    def _to_str(self, curr_node, level):\n",
    "        '''\n",
    "        Recursive function that will print elements of a tree, indenting to the right based on level\n",
    "        '''\n",
    "        # initialize return string\n",
    "        curr_str = \"\"\n",
    "        edge_indicator = \"\"\n",
    "        \n",
    "        # if the current node is not None ...\n",
    "        if curr_node:\n",
    "            # set an indicator to help visualize which children nodes\n",
    "            if (curr_node.left and curr_node.right):\n",
    "                edge_indicator = \"<\"\n",
    "            elif (curr_node.left):\n",
    "                edge_indicator = \"\\\\\"\n",
    "            elif (curr_node.right):\n",
    "                edge_indicator = \"/\"\n",
    "            else:\n",
    "                edge_indicator = \"\"\n",
    "                \n",
    "            # recusively add the right sub-tree, incresing the level (indentation)\n",
    "            curr_str += self._to_str(curr_node.right, level + 1) \n",
    "\n",
    "            # add the data in this node\n",
    "            curr_str += \"          \" * level + str(curr_node.key) + edge_indicator + \"\\n\"\n",
    "\n",
    "            # recusively add the left sub-tree, incresing the level (indentation)\n",
    "            curr_str += self._to_str(curr_node.left, level + 1)\n",
    "\n",
    "        # return string for this node/sub-tree\n",
    "        return curr_str\n",
    "\n",
    "    def __str__(self):\n",
    "        '''\n",
    "        Call internal method that will recursively print all nodes, starting with the root\n",
    "        '''\n",
    "        # starting add the root, generate string recursively\n",
    "        return self._to_str(self.root, 0)"
   ]
  },
  {
   "cell_type": "markdown",
   "id": "ae227bc7-e136-4f55-a45f-334916014b82",
   "metadata": {
    "slideshow": {
     "slide_type": ""
    },
    "tags": []
   },
   "source": [
    "#### Create and add data\n",
    "Add a few simple nodes and print it"
   ]
  },
  {
   "cell_type": "code",
   "execution_count": null,
   "id": "dcb0fdfe-8f59-4c99-9058-491ca5835fc6",
   "metadata": {
    "slideshow": {
     "slide_type": ""
    },
    "tags": []
   },
   "outputs": [],
   "source": [
    "# create a new binary tree\n",
    "test_tree= BinarySearchTree()\n",
    "\n",
    "# add data to the tree\n",
    "test_tree.insert(4)\n",
    "test_tree.insert(6)\n",
    "test_tree.insert(2)\n",
    "test_tree.insert(5)\n",
    "test_tree.insert(7)\n",
    "test_tree.insert(1)\n",
    "\n",
    "print(test_tree)"
   ]
  },
  {
   "cell_type": "markdown",
   "id": "a8282551-d6b0-449e-8059-6049f3625b84",
   "metadata": {},
   "source": [
    "#### Test tree traversal"
   ]
  },
  {
   "cell_type": "code",
   "execution_count": null,
   "id": "65094708-4b8e-4845-ac0c-6a1581df2662",
   "metadata": {},
   "outputs": [],
   "source": [
    "tree_nodes = test_tree.traverse()\n",
    "print(tree_nodes)"
   ]
  },
  {
   "cell_type": "markdown",
   "id": "7e1844fe-2a68-4e46-954f-4b313b9d3061",
   "metadata": {},
   "source": [
    "# To recurse or not to recurse, that is the question\n",
    "I'm referencing a little Shakespeare here to bring an often asked question. **When should I use recursion?**\n",
    "\n",
    "As we've just seen, **recursion can raise** a number of **concerns** in terms of **resource utilization**. So **why should you use it at all?** Well, the **fact is** there are **some problems** which **are solved much easier and ellagantly with recursion**. So my personal suggestion, and that's not an official AWS position, is ... **use recursion when you need to**.\n",
    "\n",
    "Yes, that may sound like a silly answer, but it's not. **If there is** an **equivalent iterative solution** (something something using a regular loop), which is **still relatively simple**, I would **suggest using that**. **Save** the **recursion for** those **cases where** a **non-recursive solution** is **very complex**.\n",
    "\n",
    "Let's look at some examples."
   ]
  },
  {
   "cell_type": "markdown",
   "id": "5816caeb-9a96-4781-9bb2-1e8953f343aa",
   "metadata": {},
   "source": [
    "## Factorial without recursion\n",
    "We've seen a recursive implementation of factorial, but it **can** just as **easily be done with simple iteration**."
   ]
  },
  {
   "cell_type": "code",
   "execution_count": null,
   "id": "065152b0-1a7a-4f5c-a146-9c18d5d107a1",
   "metadata": {},
   "outputs": [],
   "source": [
    "def factorial_nr(n):\n",
    "    '''\n",
    "    Non-recursice implementation of factorials\n",
    "    '''\n",
    "\n",
    "    result = 1\n",
    "    for i in range(2, n + 1):\n",
    "        result = result * i\n",
    "\n",
    "    return result"
   ]
  },
  {
   "cell_type": "markdown",
   "id": "86dd3010-3375-41c9-a7e2-976263075e69",
   "metadata": {},
   "source": [
    "### Basic test"
   ]
  },
  {
   "cell_type": "code",
   "execution_count": null,
   "id": "771d414f-de3f-4294-8e57-00343cf7587b",
   "metadata": {},
   "outputs": [],
   "source": [
    "for n in range(21):\n",
    "    print(f\"Factorial of {n}: {factorial_nr(n)}\")"
   ]
  },
  {
   "cell_type": "markdown",
   "id": "43120c96-33c4-4e1f-b075-d80a3e7bb6d8",
   "metadata": {},
   "source": [
    "### Testing with a big number\n",
    "Remember that **10,000 broke our recursive solution**. Will it work here?"
   ]
  },
  {
   "cell_type": "code",
   "execution_count": null,
   "id": "93910342-f420-4a22-935a-86037ce92e14",
   "metadata": {},
   "outputs": [],
   "source": [
    "n = 10000"
   ]
  },
  {
   "cell_type": "code",
   "execution_count": null,
   "id": "54c10d67-f930-4904-904b-e5266416f9f1",
   "metadata": {},
   "outputs": [],
   "source": [
    "# calculate the factorial using recursion\n",
    "result = factorial_nr(n)\n",
    "\n",
    "# print factorial, or a message if the number is bigger than 1 trillion\n",
    "if (result > 1000000000000):\n",
    "    print(f\"Wow! Factorial of {n} is bigger than one trillion!\")\n",
    "else:\n",
    "    print(f\"Factorial of {n}: {result}\")"
   ]
  },
  {
   "cell_type": "markdown",
   "id": "5da1325e-7675-4a1d-bdce-24fc4ca6447f",
   "metadata": {},
   "source": [
    "**No problem!** The code above doesn't print out the result of 10000!, because that would be a huge value going across multiple pages of our notebook. But the the code worked without an error."
   ]
  },
  {
   "cell_type": "markdown",
   "id": "e6e9b9c6-3229-4ab7-82a6-634991fbdb5a",
   "metadata": {},
   "source": [
    "### Conclusion\n",
    "This **solution** seems **just as simple**, **doesn't use extra memory**, and **doesn't** run the **risk** of **breaking my kernel**. So other than being a good academic example, the plain factorial recursive solution doesn't seem like a good option here."
   ]
  },
  {
   "cell_type": "markdown",
   "id": "b8d0b1d5-07c8-4316-921d-f5627b2bc6f5",
   "metadata": {},
   "source": [
    "## Binary Search Tree Traversal without recursion\n",
    "Let's return to our Binary Search Tree. We will now show an **updated implementation**, where the **traversal** is performed **without using recursion**. "
   ]
  },
  {
   "cell_type": "markdown",
   "id": "09623f12-c54c-42d2-83cc-3ee133709580",
   "metadata": {},
   "source": [
    "This is **mostly the same class** as the one seen earlier **except for the traverse method**. That method was **changed to implement traversal without using recursion**. **Note** the level of **complexity** required."
   ]
  },
  {
   "cell_type": "code",
   "execution_count": null,
   "id": "ab6ef191-c89a-450d-a56e-50b0b14083eb",
   "metadata": {
    "slideshow": {
     "slide_type": ""
    },
    "tags": []
   },
   "outputs": [],
   "source": [
    "class BinarySearchTreeNR:\n",
    "    '''\n",
    "    A Binary Search Tree\n",
    "    '''\n",
    "    def __init__(self):\n",
    "        # initialize the root of the tree\n",
    "        self.root = None\n",
    "\n",
    "    def traverse(self):\n",
    "        '''\n",
    "        Traverse the tree in order without using recursion\n",
    "        '''\n",
    "        # initialize the result list\n",
    "        result = []\n",
    "\n",
    "        # initialize the current node to the root\n",
    "        curr_node = self.root\n",
    "\n",
    "        # while the current node is not None\n",
    "        while curr_node:\n",
    "            # if the current node has no left child\n",
    "            if curr_node.left is None:\n",
    "                # append the current node's value to the result list\n",
    "                result.append(curr_node.key)\n",
    "\n",
    "                # move to the right child\n",
    "                curr_node = curr_node.right\n",
    "            else:\n",
    "                # find the inorder predecessor of the current node\n",
    "                pre = curr_node.left\n",
    "                while pre.right and pre.right != curr_node:\n",
    "                    pre = pre.right\n",
    "\n",
    "                # if the inorder predecessor's right child is the current node\n",
    "                if pre.right == curr_node:\n",
    "                    # append the current node's value to the result list\n",
    "                    result.append(curr_node.key)\n",
    "\n",
    "                    # move to the right child\n",
    "                    curr_node = curr_node.right\n",
    "\n",
    "                    # remove the inorder predecessor's right child\n",
    "                    pre.right = None\n",
    "                else:\n",
    "                    # set the inorder predecessor's right child to the current node\n",
    "                    pre.right = curr_node\n",
    "\n",
    "                    # move to the left child\n",
    "                    curr_node = curr_node.left\n",
    "\n",
    "        # return the result list\n",
    "        return result\n",
    "\n",
    "    \n",
    "    def _insert_node(self, curr_node, new_key):\n",
    "        '''\n",
    "        This method will insert a node in the binary tree, by recursively trying to insert \n",
    "        on the left or right subtree, depending on whether the key is smaller or larger \n",
    "        than the current node.\n",
    "\n",
    "        Returns the node that was inserted.\n",
    "        '''\n",
    "        # if the current node is None, than we found the right place to insert, so create a node for the key\n",
    "        if curr_node is None:\n",
    "            return TreeNode(new_key)\n",
    "        \n",
    "        # else, if the new key is less than the current key, recursively try to insert on the left\n",
    "        elif new_key < curr_node.key:\n",
    "            curr_node.left = self._insert_node(curr_node.left, new_key)\n",
    "            \n",
    "        # else, if the new key is greater than the current key, recursively try to insert on the right\n",
    "        elif new_key > curr_node.key:\n",
    "            curr_node.right = self._insert_node(curr_node.right, new_key)\n",
    "            \n",
    "        # if we went through both comparisons, then the key is equal to the current key, so do nothing\n",
    "\n",
    "        # return the updated node\n",
    "        return curr_node\n",
    "\n",
    "\n",
    "    def insert(self, new_key):\n",
    "        '''\n",
    "        Starting at the root, invoke recursive method to insert node for this key\n",
    "        '''\n",
    "        self.root = self._insert_node(self.root, new_key)\n",
    "        \n",
    "    def _search(self, curr_node, search_key):\n",
    "        '''\n",
    "        Search for a value in the binary search tree, by recursively looking for it on the left and right subtree,\n",
    "        depending on whether the value is smaller or larger than the current node.\n",
    "        '''\n",
    "        # if the current node is None, then the value is not in the tree\n",
    "        if (curr_node is None):\n",
    "            return False\n",
    "\n",
    "        # if the current node value is the same as the search value, return True\n",
    "        elif (curr_node.key == search_key):\n",
    "            return True\n",
    "\n",
    "        # else, if the search value is larger, then try to find on the right\n",
    "        elif (search_key > curr_node.key):\n",
    "            return self._search(curr_node.right, search_key)\n",
    "\n",
    "        # else the search value is smaller, so try to find on the left\n",
    "        else:\n",
    "            return self._search(curr_node.left, search_key)\n",
    "\n",
    "    def search(self, search_key):\n",
    "        '''\n",
    "        Search for a value in the binary search tree.\n",
    "        This will trigger a recursive lookup, starting at the root of the tree.\n",
    "        '''\n",
    "        return self._search(self.root, search_key)\n",
    "        \n",
    "    def _to_str(self, curr_node, level):\n",
    "        '''\n",
    "        Recursive function that will print elements of a tree, indenting to the right based on level\n",
    "        '''\n",
    "        # initialize return string\n",
    "        curr_str = \"\"\n",
    "        edge_indicator = \"\"\n",
    "        \n",
    "        # if the current node is not None ...\n",
    "        if curr_node:\n",
    "            # set an indicator to help visualize which children nodes\n",
    "            if (curr_node.left and curr_node.right):\n",
    "                edge_indicator = \"<\"\n",
    "            elif (curr_node.left):\n",
    "                edge_indicator = \"\\\\\"\n",
    "            elif (curr_node.right):\n",
    "                edge_indicator = \"/\"\n",
    "            else:\n",
    "                edge_indicator = \"\"\n",
    "                \n",
    "            # recusively add the right sub-tree, incresing the level (indentation)\n",
    "            curr_str += self._to_str(curr_node.right, level + 1) \n",
    "\n",
    "            # add the data in this node\n",
    "            curr_str += \"          \" * level + str(curr_node.key) + edge_indicator + \"\\n\"\n",
    "\n",
    "            # recusively add the left sub-tree, incresing the level (indentation)\n",
    "            curr_str += self._to_str(curr_node.left, level + 1)\n",
    "\n",
    "        # return string for this node/sub-tree\n",
    "        return curr_str\n",
    "\n",
    "    def __str__(self):\n",
    "        '''\n",
    "        Call internal method that will recursively print all nodes, starting with the root\n",
    "        '''\n",
    "        # starting add the root, generate string recursively\n",
    "        return self._to_str(self.root, 0)"
   ]
  },
  {
   "cell_type": "markdown",
   "id": "9c8d117f-f0ae-4f3c-8f11-26899ab38b08",
   "metadata": {
    "slideshow": {
     "slide_type": ""
    },
    "tags": []
   },
   "source": [
    "#### Create and add data\n",
    "Add a few simple nodes and print it"
   ]
  },
  {
   "cell_type": "code",
   "execution_count": null,
   "id": "98e322e4-c3b1-4b70-80ee-6ae15ef76efa",
   "metadata": {
    "slideshow": {
     "slide_type": ""
    },
    "tags": []
   },
   "outputs": [],
   "source": [
    "# create a new binary tree\n",
    "test_tree= BinarySearchTreeNR()\n",
    "\n",
    "# add data to the tree\n",
    "test_tree.insert(4)\n",
    "test_tree.insert(1)\n",
    "test_tree.insert(6)\n",
    "test_tree.insert(3)\n",
    "test_tree.insert(5)\n",
    "test_tree.insert(2)\n",
    "test_tree.insert(7)\n",
    "\n",
    "print(test_tree)"
   ]
  },
  {
   "cell_type": "markdown",
   "id": "b33ca66a-45b1-4ec1-8d9a-8d6981503b5d",
   "metadata": {},
   "source": [
    "#### Test tree traversal"
   ]
  },
  {
   "cell_type": "code",
   "execution_count": null,
   "id": "e583c83f-9578-4cbc-9be6-9dcb722e7b4c",
   "metadata": {},
   "outputs": [],
   "source": [
    "tree_nodes = test_tree.traverse()\n",
    "print(tree_nodes)"
   ]
  },
  {
   "cell_type": "markdown",
   "id": "c8953787-f583-4280-b1e5-a59645c261bc",
   "metadata": {},
   "source": [
    "### Conclusion\n",
    "This **works ... but** if we look at the **code**, it is **very long**, and **difficult to follow**. **Tree operations** are one of those cases where **recursion generates** far **simpler code than iteration**. So in this case, I would **favor the recursive solution**."
   ]
  },
  {
   "cell_type": "markdown",
   "id": "37e5010c-0a00-4f0d-9d56-9cbba5b32efd",
   "metadata": {},
   "source": [
    "# N-Queens Problem"
   ]
  },
  {
   "cell_type": "markdown",
   "id": "e4e96b2f-2c19-4e1b-af47-71b789c922c8",
   "metadata": {},
   "source": [
    "The N-Queens problem is a puzzle that involves **placing N chess queens on an N×N chessboard** so that **no two queens threaten each other**. In other words, **no two queens should share** the **same row, column, or diagonal** line. "
   ]
  },
  {
   "cell_type": "markdown",
   "id": "024f9445-8633-4b3c-9d7b-7d29f2f65992",
   "metadata": {},
   "source": [
    "#### Main recursive function implementing backtracking"
   ]
  },
  {
   "cell_type": "code",
   "execution_count": null,
   "id": "93fbcc75-e800-47b2-80d9-9f94b845aaf5",
   "metadata": {},
   "outputs": [],
   "source": [
    "QUEEN = 'Q'\n",
    "FREE_SPACE = '-'\n",
    "\n",
    "def _queens_helper(board, row):\n",
    "    \"\"\"\n",
    "    Recursive solver function. This solution attempts to position queens, top to bottom, row by row.\n",
    "    As we recurse, we'll move down one row.\n",
    "\n",
    "    Parameters:\n",
    "    - board(List[List[int]]): chess board\n",
    "    - row(int): current row\n",
    "\n",
    "    Returns:\n",
    "    - bool\n",
    "    \"\"\"\n",
    "\n",
    "    # This is the exit condition. \n",
    "    # If we reached the end of the board, and have not backtracked, than we have a solution\n",
    "    if row >= len(board):\n",
    "        return True\n",
    "    \n",
    "    # for the current row, start looking for a possible column, from left to right\n",
    "    for col in range(len(board)):\n",
    "        # if placing a queen in this column would be valid so far ... \n",
    "        if _is_valid_position(board, col, row):           \n",
    "            # Place the queen on given position (for now), and recursively call for the next row\n",
    "            board[row][col] = QUEEN\n",
    "            \n",
    "            # if all the recursive calls ultimately return true. The found a solution, stored in the board variable\n",
    "            if _queens_helper(board, row + 1):\n",
    "                return True\n",
    "\n",
    "            # If the placement didn't lead to solution, backtrack by marking the posiion empty\n",
    "            # the algorithm will move to the next column and try again\n",
    "            else:\n",
    "                board[row][col] = FREE_SPACE\n",
    "\n",
    "    return False"
   ]
  },
  {
   "cell_type": "markdown",
   "id": "5e25fdaa-24a3-48fb-ba62-2f12b0b9a14d",
   "metadata": {},
   "source": [
    "#### Evaluate if current position is a valid position"
   ]
  },
  {
   "cell_type": "code",
   "execution_count": null,
   "id": "3890e25d-a3b2-4e71-85f9-53ae3fa38ac7",
   "metadata": {},
   "outputs": [],
   "source": [
    "def _is_valid_position(board, curr_col, curr_row):\n",
    "    \"\"\"\n",
    "    Checks if a queen could be placed on given position. This alogorith assumes that queens are being placed\n",
    "    top to bottom row by row. Therefore, it only checks for queens above the current row, since rows below \n",
    "    would be empty.\n",
    "\n",
    "    Parameters:\n",
    "    - board(List[List[str]]): chess board\n",
    "    - row(int): row to check\n",
    "    - col(int) column to check\n",
    "\n",
    "    Returns:\n",
    "    - bool\n",
    "    \"\"\"\n",
    "\n",
    "    # set row and col variables that we'll use to iterate to current position we're checking\n",
    "    row, col = curr_row, curr_col\n",
    "            \n",
    "    # Check if the left diagonal has any queen\n",
    "    while row > -1 and col > -1:\n",
    "        if board[row][col] == QUEEN:\n",
    "            return False\n",
    "\n",
    "        row -= 1\n",
    "        col -= 1\n",
    "        \n",
    "    # reset row and col variables that we'll use to iterate to current position we're checking\n",
    "    row, col = curr_row, curr_col\n",
    "    \n",
    "    # Check if the right diagonal has any queen\n",
    "    while row > -1 and col < len(board):\n",
    "        if board[row][col] == QUEEN:\n",
    "            return False\n",
    "\n",
    "        row -= 1\n",
    "        col += 1\n",
    "\n",
    "    # reset row and col variables that we'll use to iterate to current position we're checking\n",
    "    row, col = curr_row, curr_col\n",
    "\n",
    "    # Check if the columns have any queen\n",
    "    while row > -1:\n",
    "        if board[row][col] == QUEEN:\n",
    "            return False\n",
    "\n",
    "        row -= 1\n",
    "\n",
    "    return True"
   ]
  },
  {
   "cell_type": "markdown",
   "id": "727cc0d5-0107-4a33-a964-4be63128ad16",
   "metadata": {},
   "source": [
    "#### Initializes an empty board of the specified size"
   ]
  },
  {
   "cell_type": "code",
   "execution_count": null,
   "id": "d790fb90-9ea2-4737-90c7-02391e367377",
   "metadata": {},
   "outputs": [],
   "source": [
    "def _initialize_board(size):\n",
    "    \"\"\"\n",
    "    Initialize empty chess board\n",
    "\n",
    "    Parameters:\n",
    "    - size(int)\n",
    "\n",
    "    Returns:\n",
    "    - List[List[str]]\n",
    "    \"\"\"\n",
    "    return [[FREE_SPACE for _ in range(size)] for _ in range(size)]"
   ]
  },
  {
   "cell_type": "markdown",
   "id": "f4a4ee32-10a4-4bdd-bde6-7467dd9186a2",
   "metadata": {},
   "source": [
    "#### Print board\n",
    "Prints a board. Not needed for solution, but good for troubleshooting and verifyin results."
   ]
  },
  {
   "cell_type": "code",
   "execution_count": null,
   "id": "61725f09-f8b2-404d-a268-1f1ad97c5bb5",
   "metadata": {},
   "outputs": [],
   "source": [
    "def print_board(board, indent = 0):\n",
    "    \"\"\"\n",
    "    Prints chess board.\n",
    "\n",
    "    Parameters:\n",
    "    - board(List[List[str]])\n",
    "    - indent(int): number of spaces to indent the board\n",
    "    \"\"\"\n",
    "  \n",
    "    for row in board:\n",
    "        print(\"\".rjust(indent), end='')\n",
    "        for col in row:\n",
    "            print(col, end=' ')\n",
    "        print(flush=True)"
   ]
  },
  {
   "cell_type": "markdown",
   "id": "e611be56-f74f-433f-b73b-7532771ff9e3",
   "metadata": {},
   "source": [
    "#### Main Function\n",
    "This is the function that is **called to start the solution process**.\n",
    "It initializes the board, and initiates the algorithm."
   ]
  },
  {
   "cell_type": "code",
   "execution_count": null,
   "id": "693c764f-d0fd-42aa-a80e-22184196a08d",
   "metadata": {},
   "outputs": [],
   "source": [
    "def queens(size):\n",
    "    \"\"\"\n",
    "    Solves Queens problem if possible\n",
    "\n",
    "    Parameters:\n",
    "    - size(int)\n",
    "\n",
    "    Returns:\n",
    "    - bool: is any solution found\n",
    "    - List[List[str]]: chess board with queens placed\n",
    "    \"\"\"\n",
    "\n",
    "    # initialize the board variable with an empty board\n",
    "    board = _initialize_board(size)\n",
    "\n",
    "    # Call method to recursively find solution\n",
    "    # Method tries top to bottom, so start it at row 0\n",
    "    solved = _queens_helper(board, 0)\n",
    "    \n",
    "    return solved, board"
   ]
  },
  {
   "cell_type": "markdown",
   "id": "599d5d45-947b-4bf4-b30f-9f1defb31cf0",
   "metadata": {},
   "source": [
    "#### Test\n",
    "Let's try our algorithm."
   ]
  },
  {
   "cell_type": "code",
   "execution_count": null,
   "id": "1062950a-5376-4dbd-8d29-e5b6efc7f407",
   "metadata": {
    "scrolled": true
   },
   "outputs": [],
   "source": [
    "size = 3\n",
    "\n",
    "solved, board = queens(size)\n",
    "if solved:\n",
    "    print(f'\\nSolved for a {size} X {size} board!')\n",
    "    print_board(board)\n",
    "else:\n",
    "    print(f'\\nSolution does not exist for a {size} X {size} board.')\n",
    "    \n",
    "size = 4\n",
    "\n",
    "solved, board = queens(size)\n",
    "if solved:\n",
    "    print(f'\\nSolved for a {size} X {size} board!')\n",
    "    print_board(board)\n",
    "else:\n",
    "    print(f'\\nSolution does not exist for a {size} X {size} board.')\n",
    "    \n",
    "size = 7\n",
    "\n",
    "solved, board = queens(size)\n",
    "if solved:\n",
    "    print(f'\\nSolved for a {size} X {size} board!')\n",
    "    print_board(board)\n",
    "else:\n",
    "    print(f'\\nSolution does not exist for a {size} X {size} board.')\n",
    "    \n",
    "size = 8\n",
    "\n",
    "solved, board = queens(size)\n",
    "if solved:\n",
    "    print(f'\\nSolved for a {size} X {size} board!')\n",
    "    print_board(board)\n",
    "else:\n",
    "    print(f'\\nSolution does not exist for a {size} X {size} board.')\n",
    "\n",
    "size = 10\n",
    "\n",
    "solved, board = queens(size)\n",
    "if solved:\n",
    "    print(f'\\nSolved for a {size} X {size} board!')\n",
    "    print_board(board)\n",
    "else:\n",
    "    print(f'\\nSolution does not exist for a {size} X {size} board.')"
   ]
  },
  {
   "cell_type": "markdown",
   "id": "63a93ea2-3f0b-4de2-b2f3-87eaaa3a7735",
   "metadata": {},
   "source": [
    "### Modified version with print statements\n",
    "Let's create a **modified version**, **with print statements** to **visualize what happens** during the recursion  processing. We will **use indentation** to help **see**\n",
    "the various **levels of recursion**. We **add** the **\"_wp\" (\"with print\")** to the end of the function **to differentiate**. This is exactly the same version as above, but it adds several print statements to help visualize the recursion and backtracking. \n",
    "\n",
    "The **only function changed** at all is the **main recursive fuction** which adds the print statements. So we **won't reimplement** the **other ones**."
   ]
  },
  {
   "cell_type": "markdown",
   "id": "43556e04-55ed-4430-9897-e60a3534a76b",
   "metadata": {},
   "source": [
    "#### Main recursive function implementing backtracking"
   ]
  },
  {
   "cell_type": "code",
   "execution_count": null,
   "id": "53eaa489-6f72-49e3-8d17-50bf8fc02075",
   "metadata": {},
   "outputs": [],
   "source": [
    "QUEEN = 'Q'\n",
    "FREE_SPACE = '-'\n",
    "\n",
    "def _queens_helper_wp(board, row):\n",
    "    \"\"\"\n",
    "    Recursive solver function. This solution attempts to position queens, top to bottom, row by row.\n",
    "    As we recurse, we'll move down one row.\n",
    "\n",
    "    Parameters:\n",
    "    - board(List[List[int]]): chess board\n",
    "    - row(int): current row\n",
    "\n",
    "    Returns:\n",
    "    - bool\n",
    "    \"\"\"\n",
    "\n",
    "    print(\"\".rjust(row*4) + f\">>> Trying row {row}. Current board:\")\n",
    "    print_board(board, row*4)\n",
    "\n",
    "    # This is the exit condition. \n",
    "    # If we reached the end of the board, and have not backtracked, than we have a solution\n",
    "    if row >= len(board):\n",
    "        return True\n",
    "\n",
    "    # for the current row, start looking for a possible column, from left to right\n",
    "    for col in range(len(board)):\n",
    "        print(\"\".rjust(row*4) + f\"Checking row {row}, col {col} - \", end=\"\")\n",
    "        # if placing a queen in this column would be valid so far \n",
    "        if _is_valid_position(board, col, row):\n",
    "            print(\"VALID\")\n",
    "            \n",
    "            # Place the queen on given position (for now), and recursively call for the next row\n",
    "            print(\"\".rjust(row*4) + f\"Adding queen to [{row}][{col}]. Update board:\")\n",
    "            board[row][col] = QUEEN\n",
    "            print_board(board,row*4)\n",
    "            \n",
    "            # if all the recursive calls ultimately return true. The found a solution, stored in the board variable\n",
    "            if _queens_helper_wp(board, row + 1):\n",
    "                return True\n",
    "\n",
    "            # If the placement didn't lead to solution, backtrack by marking the posiion empty\n",
    "            # the algorithm will move to the next column and try again\n",
    "            else:\n",
    "                board[row][col] = FREE_SPACE\n",
    "\n",
    "            print(\"\".rjust(row*4) + f\"<<< Backtracked row {row}, col {col}. Updated board: \")\n",
    "            print_board(board,row*4)\n",
    "        # added strictly for debugging\n",
    "        else:\n",
    "            print(\"NOT valid\")\n",
    "\n",
    "    print(\"\".rjust(row*4) + f\"---- FAIL ---- No way to place queen in row {row} in current board\")\n",
    "    return False"
   ]
  },
  {
   "cell_type": "markdown",
   "id": "4287c88c-7d6b-4a0e-a0ed-25245c991c7b",
   "metadata": {},
   "source": [
    "#### Main Function\n",
    "This is the function that is called to start the solution process.\n",
    "It initializes the board, and initiates the algorithm."
   ]
  },
  {
   "cell_type": "code",
   "execution_count": null,
   "id": "461cb14c-13ad-483d-be6c-fda7e118164f",
   "metadata": {},
   "outputs": [],
   "source": [
    "def queens_wp(size):\n",
    "    \"\"\"\n",
    "    Solves Queens problem if possible\n",
    "\n",
    "    Parameters:\n",
    "    - size(int)\n",
    "\n",
    "    Returns:\n",
    "    - bool: is any solution found\n",
    "    - List[List[str]]: chess board with queens placed\n",
    "    \"\"\"\n",
    "\n",
    "    # initialize the board variable with an empty board\n",
    "    board = _initialize_board(size)\n",
    "\n",
    "    # Call method to recursively find solution\n",
    "    # Method tries top to bottom, so start it at row 0\n",
    "    solved = _queens_helper_wp(board, 0)\n",
    "    \n",
    "    return solved, board"
   ]
  },
  {
   "cell_type": "markdown",
   "id": "81b3bc80-74fc-43b2-bae7-04703655d23a",
   "metadata": {},
   "source": [
    "#### Test and observer output\n",
    "Let's try our algorithm with the simple size of 4 first. You can see the board proggresively building from top to bottom, left to tight, and backtracking when it can't continue."
   ]
  },
  {
   "cell_type": "code",
   "execution_count": null,
   "id": "8eb06507-74b0-4e72-946f-0985b5ddb8f1",
   "metadata": {},
   "outputs": [],
   "source": [
    "size = 4\n",
    "\n",
    "solved, board = queens_wp(size)\n",
    "if solved:\n",
    "    print(f'\\nSolved for a {size} X {size} board!')\n",
    "    print_board(board)\n",
    "else:\n",
    "    print(f'\\nSolution does not exist for a {size} X {size} board.')"
   ]
  }
 ],
 "metadata": {
  "kernelspec": {
   "display_name": "Python 3 (ipykernel)",
   "language": "python",
   "name": "python3"
  },
  "language_info": {
   "codemirror_mode": {
    "name": "ipython",
    "version": 3
   },
   "file_extension": ".py",
   "mimetype": "text/x-python",
   "name": "python",
   "nbconvert_exporter": "python",
   "pygments_lexer": "ipython3",
   "version": "3.9.2"
  }
 },
 "nbformat": 4,
 "nbformat_minor": 5
}
