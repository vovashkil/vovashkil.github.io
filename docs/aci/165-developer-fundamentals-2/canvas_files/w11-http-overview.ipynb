{
 "cells": [
  {
   "cell_type": "markdown",
   "id": "2736efdf-5fc5-4726-a582-1526c9c7f6cc",
   "metadata": {},
   "source": [
    "# <span style=\"color:blue\"> Requests and APIs\n",
    "AWS CLOUD INSTITUTE: PROVIDED FOR EDUCATIONAL INSTRUCTIONAL PURPOSES ONLY."
   ]
  },
  {
   "cell_type": "markdown",
   "id": "44199930-4cd9-49ce-b5c9-8251ca8da085",
   "metadata": {},
   "source": [
    "# HTTP and API Introduction\n",
    "The notebook will focus on practical aspects, and will assume eLearning will introduce all the theory behind these. Just to level set on terminology, here is a quick definition of each."
   ]
  },
  {
   "cell_type": "markdown",
   "id": "da6c7fc0-aa82-42bd-ba08-cb6be249cc3a",
   "metadata": {},
   "source": [
    "## HTTP\n",
    "HTTP is the **fundamental protocol used to transfer data across the web**. It acts as the foundation for data communication on the web, facilitating the transfer of hypertext requests and information between servers and clients.\n",
    "\n",
    "**HTTP** is the  **protocol used** when  **browsers invoke web pages**, in which case, the content returned will be HTML and JavaScript. It is  **also frequently used to in application to application calls** (see APIs below), to exchange information. In that case the content can vary.\n",
    "\n",
    "**HTTPS is a variation of HTTP** that  **uses encryption to secure communications** between a client and server."
   ]
  },
  {
   "cell_type": "markdown",
   "id": "c7a7218e-9571-421f-8db6-806d82c110b2",
   "metadata": {},
   "source": [
    "## APIs\n",
    "APIs (Application Programming Interface) are **mechanisms that enable** two **software components to communicate with each other** using a set of definitions and protocols. Interface can be thought of as a **contract of service between two applications**. This contract defines how the two communicate with each other using requests and responses.\n",
    "\n",
    "**API is a general definition**, and it **does not mean** a **specific protocol**. Well known **types of protocols** for APIs include **SOAP, RPC, Websocket, and ... REST**. **RESP APIs** are **supported through HTTP**, and will be the **primary focus of this module**. "
   ]
  },
  {
   "cell_type": "markdown",
   "id": "121d2265-3981-4432-b521-3e586beb96a9",
   "metadata": {},
   "source": [
    "### Note on APIs used in demos\n",
    "There are a **wide number of APIs available in the internet**, and there are **many** which are **free and public**. I encourage everyone to do some internet searches, and look for some fun ones to play with.\n",
    "\n",
    "**For my demos**, I will **use AWS APIs, or public government APIs**, which are open to use without any type of licensing required. They may not be the most exciting ones, but it allows me to share the notebook without any licensing concerns."
   ]
  },
  {
   "cell_type": "markdown",
   "id": "373fc3e7-fe83-487e-9255-fc5453d20e45",
   "metadata": {},
   "source": [
    "# HTTP Requests\n",
    "**HTTP supports multiple methods** of requests, **including** but no limited to **GET, POST, PUT, and DELETE**. Although any of those can be used, the **two most widely** used across the internet are:\n",
    "- **GET** - Used to request data from a specified resource\n",
    "- **POST** - Used to send data to a server to create/update a resource\n",
    "\n",
    "Some APIs will also support PUT and DELETE operations, but not nearly as widely as GET and POST."
   ]
  },
  {
   "cell_type": "markdown",
   "id": "1cf2ca41-122b-4a9e-9ac2-eb5c031d1b7d",
   "metadata": {},
   "source": [
    "## HTTP Request Components\n",
    "An HTTP request is **comprised of multiple low level components**, including the **method specification** (GET, POST, etc), a wide number of **header options**, and optional **authorization information**. You will **occasionally view or work** with an **HTTP request in** that **raw format**, with all of these individual pieces. However **in most cases** we **use tools and libaries** that will **simplify the interface** to make such calls.\n",
    "\n",
    "For invoking in the command line, *curl* is a simple tool we can use to send HTTP requests. Programatically in Python, there are a number of libraries available, and we will look at one below."
   ]
  },
  {
   "cell_type": "markdown",
   "id": "e35e0716-ac2d-4fb6-9868-a4181fecac6a",
   "metadata": {},
   "source": [
    "### curl\n",
    "**curl** is a **popular command line tool** available in most operating systems, either pre-installed, or with a free download. We will **not be looking at it** here **in a Notebook**, but it is something I suggest everyone plays around with, because it's useful for quick debugging and validation."
   ]
  },
  {
   "cell_type": "markdown",
   "id": "9a486f13-0bbd-4ea6-a052-4efa7175520e",
   "metadata": {},
   "source": [
    "### Request Library\n",
    "There are **multiple libraries** available **supporting HTTP requests** with Python. One of the **most widely used** ones is the Python provides a **[Requests module](https://requests.readthedocs.io/en/latest/)**. It allows you **to programmatically make HTTP requests** to any server supporting the HTTP protocol. The Requests library is **not part** of the **Python standard library** and **requires** a **separate installation** (official instructions available at https://requests.readthedocs.io/en/latest/user/install/#install).\n",
    "\n",
    "**Once** it's **installed**, we **can import** the libary and use it in our Python code."
   ]
  },
  {
   "cell_type": "code",
   "execution_count": null,
   "id": "5696e4f3-feb7-425d-9835-e40fd7f41ca5",
   "metadata": {},
   "outputs": [],
   "source": [
    "import requests"
   ]
  },
  {
   "cell_type": "markdown",
   "id": "5cb3fbe6-aa1d-42d3-a6f5-54bd777584a6",
   "metadata": {
    "editable": true,
    "slideshow": {
     "slide_type": ""
    },
    "tags": []
   },
   "source": [
    "## Invoking HTTP Requests\n",
    "We will look at REST APIs later, but we will start with just looking at requests purely from an HTTP perspective. "
   ]
  },
  {
   "cell_type": "markdown",
   "id": "fc23e597-11bf-48f0-a26a-7d6d5b20f7c8",
   "metadata": {
    "editable": true,
    "slideshow": {
     "slide_type": ""
    },
    "tags": []
   },
   "source": [
    "### Retrieving a web page\n",
    "Let's **start with** a **simple example of retrieving** a **web page**, since that's one of the things most people initially associate \"http\" with. We will **use** the **requests library** to **make** an **HTTP GET request to** the **specified URL**. The requests library will return a **response object**, which will c**ontain the full HTML content** for the page.\n",
    "\n",
    "I'll be using the URL for a very simple web page created just for training. If by chance this web page is remove in the future, almost any well knwon web site URLs can be used to illustrate the point."
   ]
  },
  {
   "cell_type": "markdown",
   "id": "829a15fb-5826-46f8-b452-50b2163b7e78",
   "metadata": {
    "editable": true,
    "slideshow": {
     "slide_type": ""
    },
    "tags": []
   },
   "source": [
    "#### Set the URL"
   ]
  },
  {
   "cell_type": "code",
   "execution_count": null,
   "id": "5df04033-3cba-4a41-a1e5-c87cb4114be9",
   "metadata": {
    "editable": true,
    "slideshow": {
     "slide_type": ""
    },
    "tags": []
   },
   "outputs": [],
   "source": [
    "# set URL for an example web page\n",
    "req_url = \"https://d3l74483rkhp1p.cloudfront.net/hello_df2_http.html\" "
   ]
  },
  {
   "cell_type": "markdown",
   "id": "773b1eb0-0190-4790-9e5e-deffec1d6ab6",
   "metadata": {
    "editable": true,
    "slideshow": {
     "slide_type": ""
    },
    "tags": []
   },
   "source": [
    "#### Execute HTTP request"
   ]
  },
  {
   "cell_type": "code",
   "execution_count": null,
   "id": "a87e7f71-232f-4831-b94e-9bda07f59162",
   "metadata": {
    "editable": true,
    "scrolled": true,
    "slideshow": {
     "slide_type": ""
    },
    "tags": []
   },
   "outputs": [],
   "source": [
    "# make the HTTP GET request\n",
    "response = requests.get(req_url)"
   ]
  },
  {
   "cell_type": "markdown",
   "id": "421da75f-285b-4825-9a54-f0e17b3f1420",
   "metadata": {
    "editable": true,
    "slideshow": {
     "slide_type": ""
    },
    "tags": []
   },
   "source": [
    "#### Print the HTML page response"
   ]
  },
  {
   "cell_type": "code",
   "execution_count": null,
   "id": "a6cfed77-dffe-492d-8340-ba2d86d12ab3",
   "metadata": {
    "editable": true,
    "slideshow": {
     "slide_type": ""
    },
    "tags": []
   },
   "outputs": [],
   "source": [
    "# print the response\n",
    "print(response.text)"
   ]
  },
  {
   "cell_type": "markdown",
   "id": "583556dc-3b6c-4bd0-9dea-8d4328005275",
   "metadata": {},
   "source": [
    "## Invoke an HTTP API\n",
    "**Invoking** an **HTTP based API** will work the **same way, but** the **output is** not an HTML file, but **data**. The data can be structured however you want, including CSV, XML, JSON, Parquet and custom formats. Recently **JSON** has become the **most popular format** in recent years.\n",
    "\n",
    "We can break up an HTTP request into two parts:\n",
    "- **Service endpoint**: The URL for the **web service endpoint**. \n",
    "- **Query Parameters**: Optional **request parameters**, appended to the URL after a \"?\" character."
   ]
  },
  {
   "cell_type": "markdown",
   "id": "bc2abb4b-2ce2-4908-bc4b-17fd3e6f6b92",
   "metadata": {},
   "source": [
    "### Specify end point and query string\n",
    "We'll put the end point and query options in a separate cell, because in the real code, those would likely be generate separately and can change. The actual HTTP call doesn't change."
   ]
  },
  {
   "cell_type": "markdown",
   "id": "a98952f0-3bc0-4e88-acef-5e8686cee997",
   "metadata": {},
   "source": [
    "For **this example** and the next few, I'll be using the **[United States Department of Transportation Vehicle API](https://vpic.nhtsa.dot.gov/api/)**. It provides different ways to gather **information on cars and their specifications**."
   ]
  },
  {
   "cell_type": "markdown",
   "id": "8c32f5db-03f9-4ceb-932f-328abd6847a7",
   "metadata": {},
   "source": [
    "#### End point\n",
    "In this example, we will be invoking an operation to **get all the manufacturers stored in the database**."
   ]
  },
  {
   "cell_type": "code",
   "execution_count": null,
   "id": "811653b9-3bdf-430a-95ac-089ac1f98ad0",
   "metadata": {},
   "outputs": [],
   "source": [
    "# Get All Manufacturers operation\n",
    "end_point = \"https://vpic.nhtsa.dot.gov/api/vehicles/GetAllManufacturers\""
   ]
  },
  {
   "cell_type": "markdown",
   "id": "4b504707-d9aa-4f39-b692-170e8a11dbc7",
   "metadata": {},
   "source": [
    "#### Query string"
   ]
  },
  {
   "cell_type": "code",
   "execution_count": null,
   "id": "67f3ef60-2733-4935-a00f-938953dedeb5",
   "metadata": {},
   "outputs": [],
   "source": [
    "# specify output format\n",
    "query_string = \"?format=xml\""
   ]
  },
  {
   "cell_type": "markdown",
   "id": "e4733125-110b-4e09-acc9-23e0ceac8378",
   "metadata": {},
   "source": [
    "#### Build complete request URL"
   ]
  },
  {
   "cell_type": "code",
   "execution_count": null,
   "id": "6bc2c45a-9086-4fdf-aa43-f99050dfac02",
   "metadata": {},
   "outputs": [],
   "source": [
    "# build the URL from the endpoint and query string\n",
    "req_url = end_point + query_string"
   ]
  },
  {
   "cell_type": "markdown",
   "id": "44ac9d88-1e57-4bc7-b1a7-ca803fb5257f",
   "metadata": {},
   "source": [
    "#### Execute API request"
   ]
  },
  {
   "cell_type": "code",
   "execution_count": null,
   "id": "530b3431-aa69-42c8-97ef-7008f40c9599",
   "metadata": {},
   "outputs": [],
   "source": [
    "# make the HTTP GET request\n",
    "response = requests.get(req_url)"
   ]
  },
  {
   "cell_type": "markdown",
   "id": "f8ecf9bb-4d2f-4e0a-889a-8a680125cdc8",
   "metadata": {},
   "source": [
    "Next, we'll look at how we process this response."
   ]
  },
  {
   "cell_type": "markdown",
   "id": "64e3265c-5c85-48e3-beea-7e60c4339fcb",
   "metadata": {},
   "source": [
    "## Processing HTTP Response\n",
    "Like the HTTP request, an **HTTP response** will **include** some **header information and response data**. And like the HTTP request, we will **rarely work directly with the raw format**."
   ]
  },
  {
   "cell_type": "markdown",
   "id": "64e13e8f-77ca-4bd7-805f-15c8ba167651",
   "metadata": {},
   "source": [
    "### Requests Module HTTP Response\n",
    "The Requests Module **response object** supports various **attributes and methods** to retrieve **response information**."
   ]
  },
  {
   "cell_type": "markdown",
   "id": "7029143c-602e-4c9e-b947-1602950814cf",
   "metadata": {},
   "source": [
    "#### Check the response status\n",
    "It's usually important to **first check whether the request was successful**. There are a lot of possible failure codes, but **200** is generally universally accepted as the **success return code**."
   ]
  },
  {
   "cell_type": "code",
   "execution_count": null,
   "id": "99c155c0-c296-42d5-b1e1-c7d0a953fbd9",
   "metadata": {},
   "outputs": [],
   "source": [
    "if (response.status_code == 200):\n",
    "    print(\"Request was successful\")\n",
    "else:\n",
    "    print(f\"Request failed. Failure code {response.status_code}\")"
   ]
  },
  {
   "cell_type": "markdown",
   "id": "2b6e4587-ee34-45ba-a9fd-a605c6f1c52b",
   "metadata": {},
   "source": [
    "If you want to see an example of a failed request, just add a couple random characters to the request URL, such that the URL will not be found. This will generate a return code of 404."
   ]
  },
  {
   "cell_type": "markdown",
   "id": "4505dd49-b78b-4082-85e3-9691367d9074",
   "metadata": {},
   "source": [
    "#### Retrieve response data\n",
    "There are **multiple attributes and methods** that **return response data** in **different formats**. We'll start by just returning the **plain text representation**."
   ]
  },
  {
   "cell_type": "code",
   "execution_count": null,
   "id": "f364c75f-ea46-4996-a8ec-7eac1ccc55bc",
   "metadata": {
    "scrolled": true
   },
   "outputs": [],
   "source": [
    "# print the response\n",
    "print(response.text)"
   ]
  },
  {
   "cell_type": "markdown",
   "id": "2a5ed28b-16bd-4f97-b65c-4ece5ccc0e0d",
   "metadata": {},
   "source": [
    "#### Processing the data\n",
    "That's a whole **lot of data** above. The **next step** would be to write **code to extract** the **data into data structures** we can easily manipulate. The **XML format above was** the most **common format in the SOAP APIs** which were very common some years back, and **there are libraries** that would easily **encode them into data structures**. **Nowadays**, we're more likely to use **JSON** for that, and we'll see examples next."
   ]
  },
  {
   "cell_type": "markdown",
   "id": "8c6b374a-8096-47fd-bc55-18d07d867620",
   "metadata": {},
   "source": [
    "# REST APIs\n",
    "From a coding perspective, a **REST API** is simply a **set of standards** added **on top of** an **HTTP API**. So all we saw earlier regarding an HTTP request and APIs will apply here. We just add more to it.\n",
    "\n",
    "With a **REST API**, we **introduce** the **notion** that we are **manipulating a resource**. A **resource can be almost anything**, depending on the domain. Books, employees, cars, products, financial instruments, etc. In this case, the existing **HTTP actions** of GET, POST, PUT, and DELETE will refer to **operations on those resources**."
   ]
  },
  {
   "cell_type": "markdown",
   "id": "907b9d9f-0d58-44b5-9de6-2fc86e37a655",
   "metadata": {},
   "source": [
    "## Invoke a REST API\n",
    "**Invoking** a **REST API** is the same as invokingan HTTP API ... because a REST API is an HTTP API. The only difference is in how we interpret the URL. In a classic REST API, by convention the URL is **split in these components**:\n",
    "- **Service endpoint**: The URL for the **web service endpoint**. \n",
    "- **Resource**: The path to the **resource we're working with**.\n",
    "- **Query Parameters**: Optional **request parameters**, appended to the URL after a \"?\" character."
   ]
  },
  {
   "cell_type": "markdown",
   "id": "b6ddbf55-08f1-4852-9fcb-49d986315ffd",
   "metadata": {},
   "source": [
    "### Specify end point, resource and query string\n",
    "For this example we want to **list** all the **current models for Ferraris**. We'll make a few calls to narrow down to what we want."
   ]
  },
  {
   "cell_type": "markdown",
   "id": "f63ab6ca-e8f1-4917-8ebb-17e40e36a7a5",
   "metadata": {},
   "source": [
    "#### End point\n",
    "The endpoint will point to the **overall National Highway Traffic Safety Administration api (NHTSA) endpoint**."
   ]
  },
  {
   "cell_type": "code",
   "execution_count": null,
   "id": "95dc4eb0-b487-454c-83c8-cc73f966ab9b",
   "metadata": {},
   "outputs": [],
   "source": [
    "# NHTSA service end point\n",
    "end_point = \"https://vpic.nhtsa.dot.gov/api\""
   ]
  },
  {
   "cell_type": "markdown",
   "id": "7d5a9f4f-6e8b-4d09-8f1c-06dbb06a7abe",
   "metadata": {},
   "source": [
    "#### Resource path\n",
    "The **resource narrows into the resource** we want, which in this case is the **makes for a car manufacurer**."
   ]
  },
  {
   "cell_type": "code",
   "execution_count": null,
   "id": "95f912b6-2876-48b3-ae80-ec0d06587acc",
   "metadata": {},
   "outputs": [],
   "source": [
    "# Get makes of a manufacturer operation\n",
    "resource_path = \"/vehicles/GetMakeForManufacturer/ferrari\""
   ]
  },
  {
   "cell_type": "markdown",
   "id": "2afeb2d3-2ea0-422a-a5f3-146576a2dbfa",
   "metadata": {},
   "source": [
    "#### Query string"
   ]
  },
  {
   "cell_type": "code",
   "execution_count": null,
   "id": "07b3dadf-17cc-4e8a-aa31-4e6ae64a08ad",
   "metadata": {},
   "outputs": [],
   "source": [
    "# specify output format\n",
    "query_string = \"?format=json\""
   ]
  },
  {
   "cell_type": "markdown",
   "id": "12911c0e-e09d-499b-b389-2c29d873242b",
   "metadata": {
    "editable": true,
    "slideshow": {
     "slide_type": ""
    },
    "tags": []
   },
   "source": [
    "#### Build complete request URL"
   ]
  },
  {
   "cell_type": "code",
   "execution_count": null,
   "id": "0b7368dd-3f03-4b05-a74c-81ad4a3825b4",
   "metadata": {},
   "outputs": [],
   "source": [
    "# build the URL from the endpoint, resource and query string\n",
    "req_url = end_point + resource_path + query_string"
   ]
  },
  {
   "cell_type": "markdown",
   "id": "59f40ff6-f956-462b-8a46-18e4d82144fc",
   "metadata": {
    "editable": true,
    "slideshow": {
     "slide_type": ""
    },
    "tags": []
   },
   "source": [
    "#### Execute API request"
   ]
  },
  {
   "cell_type": "code",
   "execution_count": null,
   "id": "dd810f59-4c7a-4723-84dc-c6ccb0425d7f",
   "metadata": {
    "editable": true,
    "slideshow": {
     "slide_type": ""
    },
    "tags": []
   },
   "outputs": [],
   "source": [
    "# make the HTTP GET request\n",
    "response = requests.get(req_url)"
   ]
  },
  {
   "cell_type": "markdown",
   "id": "cdd9483a-52ae-4159-b74a-514b2e949823",
   "metadata": {},
   "source": [
    "### Process response data"
   ]
  },
  {
   "cell_type": "code",
   "execution_count": null,
   "id": "464b6419-867b-4861-93f1-23ef048eb007",
   "metadata": {
    "editable": true,
    "slideshow": {
     "slide_type": ""
    },
    "tags": []
   },
   "outputs": [],
   "source": [
    "# Check response status\n",
    "if (response.status_code == 200):\n",
    "    print(\"Request was successful\")\n",
    "else:\n",
    "    print(f\"Request failed. Failure code {response.status_code}\")\n",
    "    \n",
    "# print the response\n",
    "print(response.text)"
   ]
  },
  {
   "cell_type": "markdown",
   "id": "21ac0c0c-ca37-43eb-ba89-4ad1ea8b1476",
   "metadata": {},
   "source": [
    "### Make additional calls to drill down on resource\n",
    "We can **use** the **make id in** this **response**, to **make** a **different call** and **get** a **list of all** the **current models**.\n",
    "\n",
    "The **end_point and query strings** are the **same**, so we only need to **update the resource** we are requesting."
   ]
  },
  {
   "cell_type": "code",
   "execution_count": null,
   "id": "62942f60-c2ae-44e3-a891-f84d01d7c920",
   "metadata": {},
   "outputs": [],
   "source": [
    "# Get All Manufacturers operation\n",
    "resource_path = \"/vehicles/GetModelsForMakeIdYear/makeId/603/modelyear/2024\""
   ]
  },
  {
   "cell_type": "code",
   "execution_count": null,
   "id": "8f282bd4-6b06-4381-a398-5f497347e693",
   "metadata": {},
   "outputs": [],
   "source": [
    "# build the URL from the endpoint and query string\n",
    "req_url = end_point + resource_path + query_string"
   ]
  },
  {
   "cell_type": "markdown",
   "id": "9d1130da-5396-4974-a0ca-47247b072185",
   "metadata": {},
   "source": [
    "#### Execute API request"
   ]
  },
  {
   "cell_type": "code",
   "execution_count": null,
   "id": "405f98e3-63ec-4a34-b7c2-e24abb2da86a",
   "metadata": {},
   "outputs": [],
   "source": [
    "# make the HTTP GET request\n",
    "response = requests.get(req_url)"
   ]
  },
  {
   "cell_type": "markdown",
   "id": "1413f392-a36a-41ae-9bf1-538f76387328",
   "metadata": {},
   "source": [
    "### Process response data"
   ]
  },
  {
   "cell_type": "code",
   "execution_count": null,
   "id": "02d28d11-6a19-4128-be18-55be2baf2ae5",
   "metadata": {},
   "outputs": [],
   "source": [
    "# Check response status\n",
    "if (response.status_code == 200):\n",
    "    print(\"Request was successful\")\n",
    "else:\n",
    "    print(f\"Request failed. Failure code {response.status_code}\")\n",
    "    \n",
    "# print the response\n",
    "print(response.text)"
   ]
  },
  {
   "cell_type": "markdown",
   "id": "561a79a0-973f-401b-b8c8-418df8c9018c",
   "metadata": {},
   "source": [
    "**JSON data** is **best represented in Python dictionary**. We could use the Python json module to create a dictionary from the response text, but the **Requests library** has a **json() method** will return the **JSON response as** a **Python dictionary**."
   ]
  },
  {
   "cell_type": "code",
   "execution_count": null,
   "id": "47cd661d-c84f-4521-85cf-19acd4486088",
   "metadata": {},
   "outputs": [],
   "source": [
    "# get the response JSON as a dictionary\n",
    "response_data = response.json()\n",
    "\n",
    "print(response_data)"
   ]
  },
  {
   "cell_type": "markdown",
   "id": "e7c3dafd-f042-4152-aaf8-b403ccdfcaef",
   "metadata": {},
   "source": [
    "Looking at the data, looks like the actual **results** are **inside the \"Results\" attribute**, so we'll get a direct reference to that, and print our results nicely."
   ]
  },
  {
   "cell_type": "code",
   "execution_count": null,
   "id": "e4416a50-e54a-47ba-a836-afc705ba7066",
   "metadata": {},
   "outputs": [],
   "source": [
    "# get the list of models\n",
    "models = response_data[\"Results\"]\n",
    "\n",
    "# print list of models\n",
    "for model in models:\n",
    "    print(f\"{model['Make_Name']} {model['Model_Name']}\")"
   ]
  },
  {
   "cell_type": "markdown",
   "id": "6cbedb2e-3200-4592-869a-16f99e83f2f1",
   "metadata": {},
   "source": [
    "### One more vehicle request - VIN lookup\n",
    "**Another operation supported** in the NHTSA API allows you to **look up information about a car based on the VIN**. In case you don't know, a VIN is a number that uniquely identifies a car. You can find it in the car registration. Feel free to enter a VIN you know here to test.\n",
    "\n",
    "We'll **put** the whole thing **in a function**, so we can call it for multiple VINs."
   ]
  },
  {
   "cell_type": "markdown",
   "id": "66cd69ec-4290-4e60-9cae-29f46ba02172",
   "metadata": {},
   "source": [
    "#### Define lookup function\n",
    "We'll **put** the whole thing **in a function**, so we can call it for multiple VINs.\n",
    "\n",
    "You might wonder **how I knew the right fields** to get the data from. **In some cases** you can look up the **API documentation**. In this case, **I just printed the whole data first**, and looked for the fields I wanted. You can change the function above and print the whole response to see it."
   ]
  },
  {
   "cell_type": "code",
   "execution_count": null,
   "id": "997771ed-15c7-4985-a96d-0de2d6e5c616",
   "metadata": {},
   "outputs": [],
   "source": [
    "def decode_vin(vin):\n",
    "    # service end point and query string are the same, but we'll repeat so the function is complete\n",
    "    end_point = \"https://vpic.nhtsa.dot.gov/api\"\n",
    "    query_string = \"?format=json\"\n",
    "\n",
    "    # add the vin to the resource path\n",
    "    resource_path = f\"/vehicles/DecodeVinValues/{vin}\"\n",
    "\n",
    "    # build the URL from the endpoint and query string\n",
    "    req_url = end_point + resource_path + query_string\n",
    "\n",
    "    # make the HTTP GET request\n",
    "    response = requests.get(req_url)\n",
    "    \n",
    "    # Check response status a raise exception if it's a failure\n",
    "    if (response.status_code != 200):\n",
    "        raise Exception(f\"Request failed. Failure code {response.status_code}\")\n",
    "    \n",
    "    # get vehicle data from request response\n",
    "    vehicle_data = response.json()[\"Results\"][0]\n",
    "\n",
    "    # print the most relevnt information\n",
    "    print(f\"Full model: {vehicle_data['Make']} {vehicle_data['Model']} {vehicle_data['Trim']}\")\n",
    "    print(f\"Year: {vehicle_data['ModelYear']}\")\n",
    "    print(f\"Vehicle type: {vehicle_data['VehicleType']}\")\n",
    "    print(f\"Engine cylinders: {vehicle_data['EngineCylinders']}\")\n",
    "    print(f\"Displacement: {vehicle_data['DisplacementCC']}\")"
   ]
  },
  {
   "cell_type": "markdown",
   "id": "04e0d1e1-76ea-4f1a-9813-c1a24ed4e4db",
   "metadata": {},
   "source": [
    "#### Execute function to decode VINs"
   ]
  },
  {
   "cell_type": "code",
   "execution_count": null,
   "id": "33cff526-96ea-45fd-b499-5aca101b3760",
   "metadata": {},
   "outputs": [],
   "source": [
    "# Invoke the function for my car\n",
    "decode_vin(\"JM3KE4CY0G0655389\")"
   ]
  },
  {
   "cell_type": "code",
   "execution_count": null,
   "id": "40b9e794-2b6c-4b7c-a0a5-ef680c9f8965",
   "metadata": {},
   "outputs": [],
   "source": [
    "# Invoke the function for my motorcycle\n",
    "decode_vin(\"JKAEXEF14DDA03901\")"
   ]
  },
  {
   "cell_type": "markdown",
   "id": "29e8821d-36c7-40d6-bde3-38ecd540c5f8",
   "metadata": {},
   "source": [
    "# Adding security to a REST APIs using Amazon API Gateway\n",
    "**Most production APIs will have some type of security**. There are **many different ways of implementing** this, and the details are not in the scope of this discussion. I will show a simple example here to illustrate the concept.\n",
    "\n",
    "**For this example**, I will be using an **API deployed in** the **Amazon API Gateway**. **API Gateway** is an **AWS service** for creating, publishing, maintaining, monitoring, and securing REST, HTTP, and WebSocket APIs at any scale. I **supports multiple types of authentication**."
   ]
  },
  {
   "cell_type": "markdown",
   "id": "bf5a5f05-bf5a-40b6-aa2a-f38ad043346e",
   "metadata": {},
   "source": [
    "## The Tucker Quest API\n",
    "We **have used** the **\"Tucker Quest\" game** in a couple of **examples** in **previous modules**. There is an **alternate version** of the application, which **uses** a **DynamoDB database** for storing game data, **Lambda functions** to access it, and **REST APIs** to direct requests to it. These **APIs** are **implemented using** the **API Gateway**. "
   ]
  },
  {
   "cell_type": "markdown",
   "id": "3750f413-32fb-4566-a4a4-736c9f15c2f6",
   "metadata": {},
   "source": [
    "### Using an API Key\n",
    "There are **multiple authentication mechanisms** supported in **API Gateway**, but for the sake of simplicity, we'll use one of the more straightforward approaches. We **will require** an **API Key for** our **requests**.\n",
    "\n",
    "The **API key** has already been **created and associated with the Tucker Quest API**. We will **see how** the **key** is **specified in** the **request**."
   ]
  },
  {
   "cell_type": "markdown",
   "id": "391c5558-4b7d-4967-90a2-078f186b31df",
   "metadata": {},
   "source": [
    "### Retrieving a player character"
   ]
  },
  {
   "cell_type": "markdown",
   "id": "a460379c-9985-49fa-9efe-10f0db32be2a",
   "metadata": {},
   "source": [
    "#### Retrieve character info function\n",
    "We'll define a **function to retrieve the basic information** for a **player character**. The **REST API resource** will **include** the **id of** the player **character** we are retrieving."
   ]
  },
  {
   "cell_type": "code",
   "execution_count": null,
   "id": "31451bc0-a6ff-49ae-9411-2cf64f22a987",
   "metadata": {},
   "outputs": [],
   "source": [
    "def get_character_info(id):\n",
    "    # API gateway endpoint\n",
    "    end_point = \"https://7979hqqsq4.execute-api.us-east-2.amazonaws.com/prod\"\n",
    "    \n",
    "    # The resource will point to a specific character\n",
    "    resource_path = f\"/character/{id}\"\n",
    "    \n",
    "    # build the URL from the endpoint, resource and query string\n",
    "    req_url = end_point + resource_path\n",
    "\n",
    "    # make the HTTP GET request\n",
    "    response = requests.get(req_url)\n",
    "    \n",
    "    # Check response status a raise exception if it's a failure\n",
    "    if (response.status_code != 200):\n",
    "        raise Exception(f\"Request failed. Failure code {response.status_code}\")\n",
    "    \n",
    "    # return dictionary with player info\n",
    "    return response.json()"
   ]
  },
  {
   "cell_type": "markdown",
   "id": "1c32f8cc-de14-4a91-9f21-d22dff02e4dc",
   "metadata": {},
   "source": [
    "Now we can **call** the **function to retrieve the information for a player** currently in our database. A player character id follows the format *\"\\<user id\\>.\\<character name\\>\"*. That's not relevant to the REST API code, but it's being noted for context."
   ]
  },
  {
   "cell_type": "code",
   "execution_count": null,
   "id": "135d2864-8f26-41db-adb2-f8f0b561525f",
   "metadata": {
    "editable": true,
    "slideshow": {
     "slide_type": ""
    },
    "tags": [
     "raises-exception"
    ]
   },
   "outputs": [],
   "source": [
    "# retrieve information for one of our characters\n",
    "char_data = get_character_info(\"fttg.LukeWarrior\")\n",
    "\n",
    "# print selected character info\n",
    "print(f'{char_data[\"name\"]} - {char_data[\"description\"]}')"
   ]
  },
  {
   "cell_type": "markdown",
   "id": "f259e18f-9730-4e5e-a2b3-53807f9bb9ca",
   "metadata": {
    "editable": true,
    "slideshow": {
     "slide_type": ""
    },
    "tags": []
   },
   "source": [
    "**Ooops!!! Why did it fail?**\n",
    "\n",
    "This **API requires** an **API key!** So we'll add one."
   ]
  },
  {
   "cell_type": "markdown",
   "id": "cf57573f-45ed-484b-9e83-ba40063e4dad",
   "metadata": {
    "editable": true,
    "slideshow": {
     "slide_type": ""
    },
    "tags": []
   },
   "source": [
    "#### Specify the key in the request header\n",
    "The **key** was **randomly generated in** the **API Gateway**. It **should be treated like passwords**, and **maintained in safe storage**. In AWS, services like Secrets Manager and Parameter Store will support that.\n",
    "\n",
    "<span style=\"color:red\">**PLEASE NOTE**: </span> **For the sake of simplicity**, I'll **include** the **API key value direcly in** the **cell** below, but this is **NOT a good security practice**. At the end of the quarter, I'll deactivate the key."
   ]
  },
  {
   "cell_type": "code",
   "execution_count": null,
   "id": "c80957e1-7e4a-4a90-ad81-8a0bd5134622",
   "metadata": {},
   "outputs": [],
   "source": [
    "API_KEY = \"LwclnkKmPL11KiTvCyfF27TvvhEbbq1d1bgfDdD3\""
   ]
  },
  {
   "cell_type": "markdown",
   "id": "b0146ddb-00a5-4114-8187-00125699871b",
   "metadata": {},
   "source": [
    "#### Redefine function to use the API Key"
   ]
  },
  {
   "cell_type": "code",
   "execution_count": null,
   "id": "c02b485f-ebdf-4daa-a041-95471be463a4",
   "metadata": {},
   "outputs": [],
   "source": [
    "def get_character_info(id):\n",
    "    # API gateway endpoint\n",
    "    end_point = \"https://7979hqqsq4.execute-api.us-east-2.amazonaws.com/prod\"\n",
    "    \n",
    "    # The resource will point to a specific character\n",
    "    resource_path = f\"/character/{id}\"\n",
    "    \n",
    "    # build the URL from the endpoint, resource and query string\n",
    "    req_url = end_point + resource_path\n",
    "\n",
    "    # Retrieve API key. Normally is generally programatically retrieved from a secure storage mechanism.\n",
    "    # In our example here, we're simply getting it from the global variable specified earlier\n",
    "    api_key = API_KEY\n",
    "\n",
    "    # add key to the request header\n",
    "    headers = {\n",
    "        \"x-api-key\": api_key\n",
    "    }\n",
    "    \n",
    "    # make the HTTP GET request, adding the header to the request\n",
    "    response = requests.get(req_url, headers=headers)\n",
    "    \n",
    "    # Check response status a raise exception if it's a failure\n",
    "    if (response.status_code != 200):\n",
    "        raise Exception(f\"Request failed. Failure code {response.status_code}\")\n",
    "    \n",
    "    # return dictionary with player info\n",
    "    return response.json()"
   ]
  },
  {
   "cell_type": "markdown",
   "id": "7992d973-593d-4121-af3b-a693ae24ac82",
   "metadata": {},
   "source": [
    "Now we can **call** the **function to retrieve the information for a player** currently in our database."
   ]
  },
  {
   "cell_type": "code",
   "execution_count": null,
   "id": "0919db20-9322-4933-a4b7-0a14ad73d268",
   "metadata": {
    "editable": true,
    "slideshow": {
     "slide_type": ""
    },
    "tags": [
     "raises-exception"
    ]
   },
   "outputs": [],
   "source": [
    "# retrieve information for one of our characters\n",
    "char_data = get_character_info(\"fttg.LukeWarrior\")\n",
    "\n",
    "# print selected character info\n",
    "print(f'{char_data[\"name\"]} - {char_data[\"description\"]}')"
   ]
  },
  {
   "cell_type": "markdown",
   "id": "95f8dbc2-7ebc-4ef3-8b6b-99e6c116ca5e",
   "metadata": {},
   "source": [
    "### Using the POST HTTP REST action to insert a new character"
   ]
  },
  {
   "cell_type": "markdown",
   "id": "777c1be4-f8d7-47c3-b231-75b3784fde38",
   "metadata": {},
   "source": [
    "#### Define function to insert character"
   ]
  },
  {
   "cell_type": "code",
   "execution_count": null,
   "id": "eaf53889-8382-49a0-93a7-f5b6d46a8e3a",
   "metadata": {
    "editable": true,
    "slideshow": {
     "slide_type": ""
    },
    "tags": []
   },
   "outputs": [],
   "source": [
    "def add_character_info(new_char):\n",
    "    # API gateway endpoint\n",
    "    end_point = \"https://7979hqqsq4.execute-api.us-east-2.amazonaws.com/prod\"\n",
    "    \n",
    "    # The resource will point to a specific character\n",
    "    resource_path = f\"/character\"\n",
    "    \n",
    "    # build the URL from the endpoint, resource and query string\n",
    "    req_url = end_point + resource_path\n",
    "\n",
    "    # Retrieve API key. Normally is generally programatically retrieved from a secure storage mechanism.\n",
    "    # In our example here, we're simply getting it from the global variable specified earlier\n",
    "    api_key = API_KEY\n",
    "\n",
    "    # add key to the request header\n",
    "    headers = {\n",
    "        \"x-api-key\": api_key\n",
    "    }\n",
    "    \n",
    "    # make the HTTP GET request, adding the header to the request\n",
    "    response = requests.post(req_url, json = new_char, headers=headers)\n",
    "    \n",
    "    # Check response status a raise exception if it's a failure\n",
    "    if (response.status_code != 200):\n",
    "        raise Exception(f\"Request failed. Failure code {response.status_code}\")"
   ]
  },
  {
   "cell_type": "markdown",
   "id": "21fa47d4-9eb2-4d7c-ace4-cb05d5ba84e2",
   "metadata": {
    "editable": true,
    "slideshow": {
     "slide_type": ""
    },
    "tags": []
   },
   "source": [
    "We'll **need to define** a **character using** all the **attributes expected** in the database. To see what those are, we can simply **look at** the **full record** we **retrieved earlier**. Many of them are null, because they are used during game play."
   ]
  },
  {
   "cell_type": "code",
   "execution_count": null,
   "id": "2b00b04b-4800-4542-9c0d-dbac128d7420",
   "metadata": {
    "editable": true,
    "slideshow": {
     "slide_type": ""
    },
    "tags": [
     "raises-exception"
    ]
   },
   "outputs": [],
   "source": [
    "# print the full character data from the previous call so we can view the complete structure\n",
    "print(char_data)"
   ]
  },
  {
   "cell_type": "markdown",
   "id": "9f743125-4fd0-415e-8515-2240fbd07372",
   "metadata": {
    "editable": true,
    "slideshow": {
     "slide_type": ""
    },
    "tags": []
   },
   "source": [
    "Now we can **create our own character data in that format.**\n",
    "\n",
    "**Feel free to update the fields** below to **create your own character** name and descriptions here."
   ]
  },
  {
   "cell_type": "code",
   "execution_count": null,
   "id": "54add1d8-8331-4393-865c-1952fc0fa150",
   "metadata": {
    "editable": true,
    "slideshow": {
     "slide_type": ""
    },
    "tags": [
     "raises-exception"
    ]
   },
   "outputs": [],
   "source": [
    "# define a new player character\n",
    "new_char = {\n",
    "    'id': 'fttg.Bex', \n",
    "    'name': 'Bex', \n",
    "    'pronoun': 'she', \n",
    "    'type': '2', \n",
    "    'status': 2, \n",
    "    'description': 'A powerful wizard', \n",
    "    'level': 3, \n",
    "    'max_health': 2000, \n",
    "    'health': None, \n",
    "    'attack_item': None, \n",
    "    'defense_item': None, \n",
    "    'inventory': None, \n",
    "    'sword': None\n",
    "}"
   ]
  },
  {
   "cell_type": "markdown",
   "id": "4369e562-c696-4ee3-a436-6eb7782898f0",
   "metadata": {
    "editable": true,
    "slideshow": {
     "slide_type": ""
    },
    "tags": []
   },
   "source": [
    "Before we insert the character, we'll **try to retrieve** to **confirm it's not currently there**."
   ]
  },
  {
   "cell_type": "code",
   "execution_count": null,
   "id": "780a077f-3e76-4ef6-92f8-4ad9d5bf4852",
   "metadata": {
    "editable": true,
    "slideshow": {
     "slide_type": ""
    },
    "tags": [
     "raises-exception"
    ]
   },
   "outputs": [],
   "source": [
    "# retrieve information for one of our characters\n",
    "char_data = get_character_info(new_char[\"id\"])\n",
    "\n",
    "# print selected character info\n",
    "print(f'{char_data[\"name\"]} - {char_data[\"description\"]}')"
   ]
  },
  {
   "cell_type": "markdown",
   "id": "7dfa8c6b-7c27-4c53-b900-eb16420872d1",
   "metadata": {
    "editable": true,
    "slideshow": {
     "slide_type": ""
    },
    "tags": []
   },
   "source": [
    "Now **insert the new character** using our API request."
   ]
  },
  {
   "cell_type": "code",
   "execution_count": null,
   "id": "23bb4577-af0b-4b46-b54c-c210790765f4",
   "metadata": {
    "editable": true,
    "slideshow": {
     "slide_type": ""
    },
    "tags": []
   },
   "outputs": [],
   "source": [
    "# insert new character\n",
    "add_character_info(new_char)"
   ]
  },
  {
   "cell_type": "markdown",
   "id": "834e4cf2-7ce7-415b-9d20-e9d5cafb5296",
   "metadata": {
    "editable": true,
    "slideshow": {
     "slide_type": ""
    },
    "tags": []
   },
   "source": [
    "**Confirm the operation was successful** retrieving the new character."
   ]
  },
  {
   "cell_type": "code",
   "execution_count": null,
   "id": "de50746d-7acd-48f6-8f99-29c077048fec",
   "metadata": {
    "editable": true,
    "slideshow": {
     "slide_type": ""
    },
    "tags": []
   },
   "outputs": [],
   "source": [
    "# retrieve information for one of our characters\n",
    "char_data = get_character_info(new_char[\"id\"])\n",
    "\n",
    "# print selected character info\n",
    "print(f'{char_data[\"name\"]} - {char_data[\"description\"]}')"
   ]
  }
 ],
 "metadata": {
  "kernelspec": {
   "display_name": "Python 3 (ipykernel)",
   "language": "python",
   "name": "python3"
  },
  "language_info": {
   "codemirror_mode": {
    "name": "ipython",
    "version": 3
   },
   "file_extension": ".py",
   "mimetype": "text/x-python",
   "name": "python",
   "nbconvert_exporter": "python",
   "pygments_lexer": "ipython3",
   "version": "3.9.2"
  }
 },
 "nbformat": 4,
 "nbformat_minor": 5
}
