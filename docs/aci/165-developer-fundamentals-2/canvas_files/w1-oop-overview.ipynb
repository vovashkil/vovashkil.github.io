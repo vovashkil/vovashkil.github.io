{
 "cells": [
  {
   "cell_type": "markdown",
   "id": "d95033cb-6689-4afb-a182-b9d5cd4be150",
   "metadata": {},
   "source": [
    "# <span style=\"color:blue\">Classes and Objects\n",
    "AWS CLOUD INSTITUTE: PROVIDED FOR EDUCATIONAL INSTRUCTIONAL PURPOSES ONLY."
   ]
  },
  {
   "cell_type": "markdown",
   "id": "078cf7b6",
   "metadata": {},
   "source": [
    "# Basic class structure"
   ]
  },
  {
   "cell_type": "markdown",
   "id": "9a90f77a",
   "metadata": {},
   "source": [
    "Attached below is the basic class diagram for this example. We start by focusing on the key components of a class:\n",
    "- **Attributes**, **also known as properties or variables**, can **describe characteristics of an object** . \n",
    "- **Methods** are **blocks of code** that **perform a specific task**, like adjusting speed or changing color. A method is **a function** that is **attached to an object**."
   ]
  },
  {
   "attachments": {
    "9a9bce91-537e-46a3-ae63-894a280f763a.png": {
     "image/png": "[encoded data removed]"
    }
   },
   "cell_type": "markdown",
   "id": "2a1c7de3-7a87-441e-a89f-e703b0e5c5fb",
   "metadata": {},
   "source": [
    "![basic_player_diagram.png](attachment:9a9bce91-537e-46a3-ae63-894a280f763a.png)"
   ]
  },
  {
   "cell_type": "markdown",
   "id": "b69823e9-679f-4cb8-8e17-f35a580fe457",
   "metadata": {},
   "source": [
    "## Basic Player class\n",
    "We **start** with a **simple** player class, but we'll **enhance it as we go along**. "
   ]
  },
  {
   "cell_type": "code",
   "execution_count": null,
   "id": "ee73b613",
   "metadata": {},
   "outputs": [],
   "source": [
    "class Player:\n",
    "    \"\"\"\n",
    "    A class used to represent a player\n",
    "    \"\"\"\n",
    "\n",
    "    def __init__(self, name, position = None, number = None, goals_scored = 0, games_played = 0):\n",
    "        \"\"\"\n",
    "        Parameters:\n",
    "            name(str): player name\n",
    "            position(str): player position\n",
    "            number(int): player number\n",
    "            goals_scored(int): number of goals scored by the player\n",
    "            games_played(int): number of games played by the player\n",
    "        \"\"\"\n",
    "        # initialize object data\n",
    "        self.name = name\n",
    "        self.position = position\n",
    "        self.number = number\n",
    "        self.goals_scored = goals_scored\n",
    "        self.games_played = games_played\n",
    "\n",
    "    def add_goal(self):\n",
    "        '''\n",
    "        Adds a goal to the player's goals_scored\n",
    "        '''\n",
    "        self.goals_scored += 1\n",
    "\n",
    "    def add_game(self):\n",
    "        '''\n",
    "        Adds a game to the player's games_played\n",
    "        '''\n",
    "        self.games_played += 1\n",
    "\n",
    "    def goal_average(self):\n",
    "        '''\n",
    "        Calculates the average number of goals per game\n",
    "\n",
    "        Returns:\n",
    "            float: average number of goals per game\n",
    "        '''\n",
    "        if self.games_played == 0:\n",
    "            return 0\n",
    "        else:\n",
    "            return self.goals_scored / self.games_played"
   ]
  },
  {
   "cell_type": "markdown",
   "id": "8dc66c6d-5f9a-48b9-adac-57f70300b310",
   "metadata": {},
   "source": [
    "### Instantiating players\n",
    "**Instantiating** Player **objects** will **invoke** the **\\_\\_init()\\_\\_ method**."
   ]
  },
  {
   "cell_type": "code",
   "execution_count": null,
   "id": "5b277b20",
   "metadata": {},
   "outputs": [],
   "source": [
    "p1 = Player(\"Ronaldo\", \"striker\", 9)\n",
    "p2 = Player(\"Ronaldinho\", \"midfielder\", 10)\n",
    "p3 = Player(\"Messi\", \"striker\", 10)\n",
    "p4 = Player(\"Fillol\", \"goalkeeper\", 1)\n",
    "p5 = Player(\"Tab Ramos\", \"midfielder\", 10)\n",
    "p6 = Player(\"Alexis Lala\", \"defender\", 22)"
   ]
  },
  {
   "cell_type": "markdown",
   "id": "9b3a4c8e-e138-4cd5-91e4-5a6c67ee1f5b",
   "metadata": {},
   "source": [
    "### Invoking methods\n",
    "Now we can **execute** some **methods**, which will **modify** the **attributes** in them."
   ]
  },
  {
   "cell_type": "code",
   "execution_count": null,
   "id": "b5c83953-473b-47f8-bf8d-0ca07c90c994",
   "metadata": {},
   "outputs": [],
   "source": [
    "p1.add_goal()\n",
    "p1.add_game()\n",
    "p5.add_goal()\n",
    "p5.add_game()"
   ]
  },
  {
   "cell_type": "markdown",
   "id": "98f46feb-60fb-4067-9f2e-526264e56b3f",
   "metadata": {},
   "source": [
    "### Retriving data\n",
    "We can **access attributes** directly **from** the **object variable**."
   ]
  },
  {
   "cell_type": "code",
   "execution_count": null,
   "id": "24261e35-7f02-4545-b28d-40706d8d9a17",
   "metadata": {},
   "outputs": [],
   "source": [
    "print(f\"Player: {p1.name} - Goals scored: {p1.goals_scored}\")\n",
    "print(p2.position)\n",
    "print(f\"Number: {p3.number} - Games played: {p3.games_played}\")\n",
    "print(p4.name, p4.number, p4.position)\n",
    "print(f\"{p5.name} average goals per game: {p5.goal_average():.2f}\")"
   ]
  },
  {
   "cell_type": "markdown",
   "id": "6c9ce072-7ff2-4435-8cad-c24b60aaa58c",
   "metadata": {},
   "source": [
    "### Printing the whole object"
   ]
  },
  {
   "cell_type": "code",
   "execution_count": null,
   "id": "fb9eb737-6056-492a-8160-3fdc5fe56b66",
   "metadata": {},
   "outputs": [],
   "source": [
    "print(p6)"
   ]
  },
  {
   "cell_type": "markdown",
   "id": "1648e6a1-e65d-4e0b-9c23-2f271eea292d",
   "metadata": {},
   "source": [
    "This is **not particularly helpful**. This is just printing the object type (Player) and memory location. Let's **improve that** ..."
   ]
  },
  {
   "cell_type": "markdown",
   "id": "23659c81-aaa7-40ca-84eb-6bbcc90ec097",
   "metadata": {},
   "source": [
    "## Updated Player class"
   ]
  },
  {
   "cell_type": "markdown",
   "id": "8189670d-f804-4cae-b80f-88014d9ab62d",
   "metadata": {},
   "source": [
    "### Adding the \\_\\_str\\_\\_() method\n",
    "In Python, you can **use** the **\\_\\_str\\_\\_() dunder method** to **specify** **how** you want your **object** to be **represented as a string**. This is very useful for debugging."
   ]
  },
  {
   "cell_type": "code",
   "execution_count": null,
   "id": "b5a353f8-c265-40e2-ad39-386aafd1c41d",
   "metadata": {},
   "outputs": [],
   "source": [
    "class Player:\n",
    "    '''\n",
    "    A class used to represent a player\n",
    "    '''\n",
    "\n",
    "    def __init__(self, name, position = None, number = None, goals_scored = 0, games_played = 0):\n",
    "        '''\n",
    "        Parameters:\n",
    "            name(str): player name\n",
    "            position(str): player position\n",
    "            number(int): player number\n",
    "            goals_scored(int): number of goals scored by the player\n",
    "            games_played(int): number of games played by the player\n",
    "        '''\n",
    "        # initialize object data\n",
    "        self.name = name\n",
    "        self.position = position\n",
    "        self.number = number\n",
    "        self.goals_scored = goals_scored\n",
    "        self.games_played = games_played\n",
    "\n",
    "    def add_goal(self):\n",
    "        '''\n",
    "        Adds a goal to the player's goals_scored\n",
    "        '''\n",
    "        self.goals_scored += 1\n",
    "\n",
    "    def add_game(self):\n",
    "        '''\n",
    "        Adds a game to the player's games_played\n",
    "        '''\n",
    "        self.games_played += 1\n",
    "\n",
    "    def goal_average(self):\n",
    "        '''\n",
    "        Calculates the average number of goals per game\n",
    "\n",
    "        Returns:\n",
    "            float: average number of goals per game\n",
    "        '''\n",
    "        if self.games_played == 0:\n",
    "            return 0\n",
    "        else:\n",
    "            return self.goals_scored / self.games_played        \n",
    "\n",
    "    def __str__(self):\n",
    "        '''\n",
    "        Returns string representation of the object.\n",
    "\n",
    "        Returns:\n",
    "            String representation for the object data\n",
    "        '''\n",
    "        return f\"Player: {self.name} - Position: {self.position} - Number: {self.number} - Goals: {self.goals_scored} - Games: {self.games_played}\"\n",
    "        "
   ]
  },
  {
   "cell_type": "markdown",
   "id": "cb5f9931-c4dc-4580-9549-745884e420df",
   "metadata": {},
   "source": [
    "### Printing the whole object"
   ]
  },
  {
   "cell_type": "code",
   "execution_count": null,
   "id": "04cc2c86-d52c-4967-a1f5-a6317382fcd5",
   "metadata": {},
   "outputs": [],
   "source": [
    "# instantiate players\n",
    "p1 = Player(\"Ronaldo\", \"striker\", 9, 10, 4)\n",
    "p2 = Player(\"Ronaldinho\", \"midfielder\", 10, 2, 3)\n",
    "p3 = Player(\"Messi\", \"striker\", 10, 3, 1)\n",
    "p4 = Player(\"Fillol\", \"goalkeeper\", 1, 0, 3)\n",
    "p5 = Player(\"Tab Ramos\", \"midfielder\", 10, 7, 4)\n",
    "p6 = Player(\"Alexis Lala\", \"defender\", 22, 2, 5)\n",
    "\n",
    "# print players\n",
    "print(p1)\n",
    "print(p2)\n",
    "print(p3)\n",
    "print(p4)\n",
    "print(p5)\n",
    "print(p6)"
   ]
  },
  {
   "cell_type": "markdown",
   "id": "08b49199-a46f-4822-b9cd-5c780d7c2216",
   "metadata": {},
   "source": [
    "That **looks a lot nicer**"
   ]
  },
  {
   "cell_type": "markdown",
   "id": "2a11b73c-7245-460a-b3be-d6cd01bc288e",
   "metadata": {},
   "source": [
    "# Types of variables and methods"
   ]
  },
  {
   "cell_type": "markdown",
   "id": "fbb32c3b-1168-4c8b-95e4-02312199a63f",
   "metadata": {},
   "source": [
    "## Initial Team class"
   ]
  },
  {
   "cell_type": "code",
   "execution_count": null,
   "id": "fc56aa52-9d7a-458a-84e8-04f8c3ff504f",
   "metadata": {},
   "outputs": [],
   "source": [
    "import json\n",
    "class Team:\n",
    "    \"\"\"\n",
    "    A class used to represent a team\n",
    "    \"\"\"\n",
    "\n",
    "    # class variables\n",
    "    max_players = 22    # maximum players in a team\n",
    "    \n",
    "    def __init__(self, name, home_city, players = []):\n",
    "        \"\"\"\n",
    "        Parameters:\n",
    "            name(str): team name\n",
    "            home_city(str): team home city\n",
    "            players(list): list of player objects\n",
    "        \"\"\"\n",
    "        # initialize object instance variables\n",
    "        self.name = name\n",
    "        self.home_city = home_city\n",
    "\n",
    "        # validate team size\n",
    "        if (len(players) > self.max_players):\n",
    "            raise ValueError(\"Team size exceeds maximum allowed players\")\n",
    "        self.players = players\n",
    "\n",
    "    def add_player(self, player):\n",
    "        '''\n",
    "        Adds a player to the team\n",
    "\n",
    "        Parameters:\n",
    "            player(Player): player object\n",
    "        '''\n",
    "        self.players.append(player)\n",
    "\n",
    "    def total_goals(self):\n",
    "        '''\n",
    "        Calculates the total number of goals scored by the team\n",
    "\n",
    "        Returns:\n",
    "            int: total number of goals scored\n",
    "        '''\n",
    "        total = 0\n",
    "        for player in self.players:\n",
    "            total += player.goals_scored\n",
    "        return total\n",
    "        \n",
    "    @classmethod\n",
    "    def validate_team_size(cls, size):\n",
    "        '''\n",
    "        Validates the team size\n",
    "\n",
    "        Parameters:\n",
    "            size(int): number of players in the team\n",
    "\n",
    "        Returns:\n",
    "            bool: True if the team size is valid, False otherwise\n",
    "        '''\n",
    "        return size <= cls.max_players\n",
    "\n",
    "    @classmethod\n",
    "    def from_json(cls, json_str):\n",
    "        '''\n",
    "        Creates a team object from a JSON string\n",
    "\n",
    "        Parameters:\n",
    "            json_str(str): JSON string\n",
    "\n",
    "        Returns:\n",
    "            team object\n",
    "        '''\n",
    "\n",
    "        # load json string intro a python dictionary\n",
    "        team_data = json.loads(json_str)\n",
    "\n",
    "        # create and return an class object from the data in the dictionary\n",
    "        return cls(team_data['name'], team_data['home_city'], team_data['players'])\n",
    "\n",
    "    @staticmethod\n",
    "    def validate_json(json_str):\n",
    "        '''\n",
    "        Validate that a JSON string has all the attributes needed to create a Team.\n",
    "\n",
    "        Parameters:\n",
    "            json_str(str): JSON string\n",
    "\n",
    "        Returns:\n",
    "            Boolean indicating whether JSON is valid\n",
    "        '''\n",
    "        # load json string intro a python dictionary\n",
    "        team_data = json.loads(json_str)\n",
    "\n",
    "        # return True if all required keys are present in the dictionary, False otherwise\n",
    "        return ('name' in team_data and \n",
    "                'home_city' in team_data and \n",
    "                'players' in team_data)\n",
    "\n",
    "    def __str__(self):\n",
    "        '''\n",
    "        Returns string representation of the object.\n",
    "\n",
    "        Returns:\n",
    "            String representation for the object data\n",
    "        '''\n",
    "        return f\"Team: {self.name} - Home city: {self.home_city} - Number of players: {len(self.players)}\""
   ]
  },
  {
   "cell_type": "code",
   "execution_count": null,
   "id": "5ae34178-b769-445a-9cdd-2f505502bbbb",
   "metadata": {},
   "outputs": [],
   "source": [
    "team_brazil = Team(\"Brazil\", \"Brazilia\", [p1, p2])\n",
    "team_argentina = Team(\"Argentina\", \"Buenos Aires\", [p3, p4])\n",
    "team_usa = Team(\"USA\", \"Washington\", [p5])  # <--- Only added one player here\n",
    "print(team_brazil)\n",
    "print(team_argentina)\n",
    "print(team_usa)"
   ]
  },
  {
   "cell_type": "markdown",
   "id": "feeedd94-2c23-4a8a-b5e9-4ce06f1ff9c2",
   "metadata": {},
   "source": [
    "### Instance variables and instance methods"
   ]
  },
  {
   "cell_type": "markdown",
   "id": "0ac8072e-4f93-4bdf-bef9-3c9f82be369e",
   "metadata": {},
   "source": [
    "#### Instance variables"
   ]
  },
  {
   "cell_type": "markdown",
   "id": "424f90c8-175a-4f26-9e4a-59016ed7b0a4",
   "metadata": {},
   "source": [
    "**Instance variables** are **unique to each instance** or object of the class. A **change in the instance variable** will **change** the value of the property in that **specific object only**. The basic examples we saw earlier, used instance varianles to set and retrieve object data. They are the most commonly used."
   ]
  },
  {
   "cell_type": "code",
   "execution_count": null,
   "id": "61dae731-3595-4831-80e4-4c3c58d2b967",
   "metadata": {},
   "outputs": [],
   "source": [
    "# retrieve team name and location from instance variable\n",
    "print(f\"Team Brazil: {team_brazil.name}\")\n",
    "print(f\"Team Brazil home city: {team_brazil.home_city}\")"
   ]
  },
  {
   "cell_type": "markdown",
   "id": "c5212ef9-b294-41af-b147-9fd3cffbbe6a",
   "metadata": {},
   "source": [
    "#### Instance methods"
   ]
  },
  {
   "cell_type": "markdown",
   "id": "f187c6cd-11c1-48b1-b0ec-938c9c0601a2",
   "metadata": {},
   "source": [
    "**Instance methods** can **interact with instance variables**. They **require an object**, and **can access instance data specific to an object**. **Instance methods use** the ***self*** variable **to refer to instance variables**."
   ]
  },
  {
   "cell_type": "code",
   "execution_count": null,
   "id": "f9e926b1-a834-402f-ae15-1b1ee09ae1e2",
   "metadata": {},
   "outputs": [],
   "source": [
    "# invoke an instance methid to calculate goals based on object data\n",
    "brazil_goals = team_brazil.total_goals()\n",
    "\n",
    "# invoke another instance method to update team players\n",
    "team_usa.add_player(p6)"
   ]
  },
  {
   "cell_type": "markdown",
   "id": "1c6c0aa5-b81f-418e-960e-540299c02b8d",
   "metadata": {},
   "source": [
    "Verify changes ..."
   ]
  },
  {
   "cell_type": "code",
   "execution_count": null,
   "id": "9eadea84-3d7d-4264-8063-bb93a586d2b2",
   "metadata": {},
   "outputs": [],
   "source": [
    "print(f\"Team Brazil total goals scored: {brazil_goals}\")\n",
    "print(f\"Updated Team USA: {team_usa}\")"
   ]
  },
  {
   "cell_type": "markdown",
   "id": "cd82ae7a-1093-47cb-b9f1-abcc0c08f901",
   "metadata": {},
   "source": [
    "### Class variables and class methods"
   ]
  },
  {
   "cell_type": "markdown",
   "id": "f7a497fd-e00f-49ef-9996-47a11cce5b10",
   "metadata": {},
   "source": [
    "#### Class variables"
   ]
  },
  {
   "cell_type": "markdown",
   "id": "033df841-8b4c-44c6-b168-77ce4fffb819",
   "metadata": {},
   "source": [
    "Class variables are **shared across all objects**, and **can be retrieved without an object**. Note that we're **not creating** an **object of** the ***Team* class**. We are **retrieving** the variable **directly** using **\"Team.<varianle>\"**."
   ]
  },
  {
   "cell_type": "code",
   "execution_count": null,
   "id": "c278bc70-b386-4a52-b1a8-40b8ae2a0eca",
   "metadata": {},
   "outputs": [],
   "source": [
    "print(f\"Maximum players per team: {Team.max_players}\")"
   ]
  },
  {
   "cell_type": "markdown",
   "id": "69431677-b17e-4fac-bd4a-118d547e7e75",
   "metadata": {},
   "source": [
    "If we try **accessing** an **instance variable without an object**, we get an **error**"
   ]
  },
  {
   "cell_type": "code",
   "execution_count": null,
   "id": "7943c502-2644-4af4-9bde-1ecaa3ea2590",
   "metadata": {},
   "outputs": [],
   "source": [
    "print(f\"Team home city: {Team.home_city}\")"
   ]
  },
  {
   "cell_type": "markdown",
   "id": "af03cdd9-37f0-4032-a53b-633ee0a3dc35",
   "metadata": {},
   "source": [
    "You would **need an object** to get the home_city instance variable ..."
   ]
  },
  {
   "cell_type": "code",
   "execution_count": null,
   "id": "0025ec24-b64f-4163-841d-551708063f23",
   "metadata": {},
   "outputs": [],
   "source": [
    "print(f\"Team home city: {team_usa.home_city}\")\n",
    "print(f\"Team home city: {team_brazil.home_city}\")"
   ]
  },
  {
   "cell_type": "markdown",
   "id": "fe786d6c-3daf-4988-8376-d3a2afb26ee4",
   "metadata": {},
   "source": [
    "#### Class methods"
   ]
  },
  {
   "cell_type": "markdown",
   "id": "016bf476-beb1-424e-a975-475daa2fc39a",
   "metadata": {},
   "source": [
    "Class methods can **only access class variables**, and **can be called without an object**. We indicate a class method with the **@classmethod decorator**. **Class methods use** the ***cls*** variable **to refer to class variables**."
   ]
  },
  {
   "cell_type": "code",
   "execution_count": null,
   "id": "368993b4-3cf3-4417-bfa0-dec6c0d2ac24",
   "metadata": {},
   "outputs": [],
   "source": [
    "# check possible team sizes\n",
    "team_size = 23\n",
    "if Team.validate_team_size(team_size):\n",
    "    print(f\"Team size of {team_size} is valid\")\n",
    "else:\n",
    "    print(f\"Team size of {team_size} is invalid\")\n",
    "\n",
    "team_size = 12\n",
    "if Team.validate_team_size(team_size):\n",
    "    print(f\"Team size of {team_size} is valid\")\n",
    "else:\n",
    "    print(f\"Team size of {team_size} is invalid\")"
   ]
  },
  {
   "cell_type": "markdown",
   "id": "7cc623ab-2036-4801-a86a-c6f59d77d3e1",
   "metadata": {},
   "source": [
    "### Static methods"
   ]
  },
  {
   "cell_type": "markdown",
   "id": "08635606-c3af-4838-a02e-059bf2226b32",
   "metadata": {},
   "source": [
    "Static methods **cannot access any object or class data**. They are used for **utility functions** that logically belong on a class, and **can be called without an object**, as if they were a regular standalone function."
   ]
  },
  {
   "cell_type": "markdown",
   "id": "cbf81abf-ca05-477d-93ef-4aedd708c977",
   "metadata": {},
   "source": [
    "In this **example**, we use a **static method to validate that a JSON string** has all the attributes that you would need to create an object of this class.\n",
    "\n",
    "This could be **useful if** I **stored** my **objects offline in JSON format** in a database or file. When I read back the data, I may want to confirm nothing was corrupted, and I can still get all the data I need from it. So **this** an **example** of a **complete JSON string for a team**."
   ]
  },
  {
   "cell_type": "code",
   "execution_count": null,
   "id": "a8817e49-c82c-4e95-8b64-97e9ca9f86a9",
   "metadata": {},
   "outputs": [],
   "source": [
    "json_str = '''{\n",
    "    \"name\": \"Italy\",\n",
    "    \"home_city\": \"Rome\",\n",
    "    \"players\": [\n",
    "        {\n",
    "            \"name\": \"Paolo Rossi\",\n",
    "            \"position\": \"striker\",\n",
    "            \"number\": 20,\n",
    "            \"goals_scored\": 3,\n",
    "            \"games_played\": 1\n",
    "        },\n",
    "        {\n",
    "            \"name\": \"Gentile\",\n",
    "            \"position\": \"defender\",\n",
    "            \"number\": 2,\n",
    "            \"goals_scored\": 0,\n",
    "            \"games_played\": 3\n",
    "        }\n",
    "    ]\n",
    "}'''"
   ]
  },
  {
   "cell_type": "markdown",
   "id": "6e2eb956-35dd-4e0c-8dfd-608b231328b1",
   "metadata": {},
   "source": [
    "We can validate that the JSON string has all the required data, using the static method."
   ]
  },
  {
   "cell_type": "code",
   "execution_count": null,
   "id": "5b6c9207-4aed-4f64-a2ba-994656e34cac",
   "metadata": {},
   "outputs": [],
   "source": [
    "# validate JSON string\n",
    "if (Team.validate_json(json_str)):\n",
    "    print(\"JSON string is valid to create a Team\")\n",
    "else:\n",
    "    print(\"JSON string is NOT valid to create a Team\")"
   ]
  },
  {
   "cell_type": "markdown",
   "id": "610bbc60-3ce3-4313-a730-d58b67e9fc8f",
   "metadata": {},
   "source": [
    "# Data hiding, encapsulation and abstraction"
   ]
  },
  {
   "cell_type": "markdown",
   "id": "9f1a5b1e-542d-4426-9de1-6430646866fa",
   "metadata": {},
   "source": [
    "## Updated Team class\n",
    "We'll use an **updated version** of the **Team Class to discuss** the concepts of **Data Hiding and Encapsulation**."
   ]
  },
  {
   "cell_type": "markdown",
   "id": "d405def9-099f-4f2b-aafb-9a8584ffe01c",
   "metadata": {},
   "source": [
    "### Data hiding"
   ]
  },
  {
   "cell_type": "markdown",
   "id": "e461a41b-c4d5-4574-86f9-add9e457bc78",
   "metadata": {},
   "source": [
    "In this updated version, we **add** some **attributes** related to the team's performance (**win, los or draw**), **but we \"hide\" them** using the **convention** of **prefixing the attribute name with a \"\\_\"**. These **private attributes** are **accessed using \"*getter/setter*\" methods**. **Prefixing** the attrinute with a \"\\_\" **doesn't actually prevent direct access** to the data, but it's a **convention followed in Python**.\n",
    "\n",
    "Other object-oriented languages like Java, C# and C++ have more explicit mechanisms to defined private data."
   ]
  },
  {
   "cell_type": "markdown",
   "id": "5b9e18e1-3992-498c-8edb-38ed3a94e74c",
   "metadata": {},
   "source": [
    "### Encapsulation"
   ]
  },
  {
   "cell_type": "markdown",
   "id": "0d35e97a-d32e-4155-8089-06dbde46b3a5",
   "metadata": {},
   "source": [
    "Encapsulation is about **combining data and methods in a single class**, and **controlling data access**. Some **examples in the code below** include:\n",
    "- The ***getters and setters*** giving **access to the private data**\n",
    "- The ***add_player*** method **updating the roster**\n",
    "- The ***total_points*** method with **calculates points total based on wins, losses, draws**, which is **also an example of abstraction**, which we'll see next"
   ]
  },
  {
   "cell_type": "code",
   "execution_count": null,
   "id": "ec91c488-12c5-419a-b1a2-f2704239347a",
   "metadata": {},
   "outputs": [],
   "source": [
    "import json\n",
    "\n",
    "class Team:\n",
    "    \"\"\"\n",
    "    A class used to represent a team\n",
    "    \"\"\"\n",
    "\n",
    "    # class variables\n",
    "    max_players = 22    # maximum players in a team\n",
    "    \n",
    "    def __init__(self, name, home_city, players = []):\n",
    "        \"\"\"\n",
    "        Parameters:\n",
    "            name(str): team name\n",
    "            home_city(str): team home city\n",
    "            players(list): list of player objects\n",
    "            wins(int): number of wins\n",
    "            losses(int): number of losses\n",
    "            draws(int): number of draws\n",
    "        \"\"\"\n",
    "        # initialize object instance variables\n",
    "        self.name = name\n",
    "        self.home_city = home_city\n",
    "        self._wins = 0\n",
    "        self._losses = 0\n",
    "        self._draws = 0\n",
    "\n",
    "        # validate team size\n",
    "        if (len(players) > self.max_players):\n",
    "            raise ValueError(\"Team size exceeds maximum allowed players\")\n",
    "        self.players = players\n",
    "\n",
    "    # getter/setter methods for private attributes\n",
    "    def get_wins(self):\n",
    "        return self._wins\n",
    "\n",
    "    def set_wins(self, wins):\n",
    "        self._wins = wins\n",
    "\n",
    "    def get_losses(self):\n",
    "        return self._losses\n",
    "\n",
    "    def set_losses(self, losses):\n",
    "        self._losses = losses\n",
    "\n",
    "    def get_draws(self):\n",
    "        return self._draws\n",
    "\n",
    "    def set_draws(self, draws):\n",
    "        self._draws = draws\n",
    "        \n",
    "    def add_player(self, player):\n",
    "        '''\n",
    "        Adds a player to the team\n",
    "\n",
    "        Parameters:\n",
    "            player(Player): player object\n",
    "        '''\n",
    "        self.players.append(player)\n",
    "\n",
    "    def total_goals(self):\n",
    "        '''\n",
    "        Calculates the total number of goals scored by the team\n",
    "\n",
    "        Returns:\n",
    "            int: total number of goals scored\n",
    "        '''\n",
    "        total = 0\n",
    "        for player in self.players:\n",
    "            total += player.goals_scored\n",
    "        return total\n",
    "\n",
    "    def total_points(self):\n",
    "        '''\n",
    "        Calculates the total number of points scored by the team, based on standard soccer rules.\n",
    "        A victory counts for 3 points, and a draw counts for 1.\n",
    "\n",
    "        Returns:\n",
    "            int: total number of points scored\n",
    "        '''\n",
    "        return (self._wins * 3) + self._draws\n",
    "        \n",
    "    @classmethod\n",
    "    def validate_team_size(cls, size):\n",
    "        '''\n",
    "        Validates the team size\n",
    "\n",
    "        Parameters:\n",
    "            size(int): number of players in the team\n",
    "\n",
    "        Returns:\n",
    "            bool: True if the team size is valid, False otherwise\n",
    "        '''\n",
    "        return size <= cls.max_players\n",
    "\n",
    "    @staticmethod\n",
    "    def validate_json(json_str):\n",
    "        '''\n",
    "        Validate that a JSON string has all the attributes needed to create a Team.\n",
    "\n",
    "        Parameters:\n",
    "            json_str(str): JSON string\n",
    "\n",
    "        Returns:\n",
    "            Boolean indicating whether JSON is valid\n",
    "        '''\n",
    "        # load json string intro a python dictionary\n",
    "        team_data = json.loads(json_str)\n",
    "\n",
    "        # return True if all required keys are present in the dictionary, False otherwise\n",
    "        return ('name' in team_data and \n",
    "                'home_city' in team_data and \n",
    "                'players' in team_data)\n",
    "\n",
    "    def __str__(self):\n",
    "        '''\n",
    "        Returns string representation of the object.\n",
    "\n",
    "        Returns:\n",
    "            String representation for the object data\n",
    "        '''\n",
    "        return f\"Team: {self.name} - Home city: {self.home_city} - Number of players: {len(self.players)} - Wins: {self._wins}, Losses: {self._losses}, Draws: {self._draws}\""
   ]
  },
  {
   "cell_type": "markdown",
   "id": "af66aff1-3dd8-4072-86eb-f24f2c7ea554",
   "metadata": {},
   "source": [
    "#### Recreate teams based on new class"
   ]
  },
  {
   "cell_type": "code",
   "execution_count": null,
   "id": "879f15a5-b701-4eaa-b4c8-a40e245e5123",
   "metadata": {},
   "outputs": [],
   "source": [
    "# create teams\n",
    "team_brazil = Team(\"Brazil\", \"Brazilia\", [p1, p2])\n",
    "team_argentina = Team(\"Argentina\", \"Buenos Aires\", [p3, p4])\n",
    "team_usa = Team(\"USA\", \"Washnigton\", [p5, p6])\n",
    "\n",
    "# print teams\n",
    "print(team_brazil)\n",
    "print(team_argentina)\n",
    "print(team_usa)"
   ]
  },
  {
   "cell_type": "markdown",
   "id": "4f9303cf-e5b3-40e9-bb16-696d456c8bd3",
   "metadata": {},
   "source": [
    "#### Using getter/setter methods to set or retrieve data"
   ]
  },
  {
   "cell_type": "code",
   "execution_count": null,
   "id": "dabc5766-c914-4e32-b45b-d18a61dc79be",
   "metadata": {},
   "outputs": [],
   "source": [
    "# Use setters to set data\n",
    "team_brazil.set_wins(2)\n",
    "team_brazil.set_draws(1)\n",
    "team_usa.set_wins(1)\n",
    "team_usa.set_losses(1)\n",
    "team_argentina.set_wins(2)\n",
    "team_argentina.set_losses(1)\n",
    "\n",
    "# retrieve data with getters\n",
    "print(f\"Team Brazil wins: {team_brazil.get_wins()}\")\n",
    "print(f\"Team Brazil draws: {team_brazil.get_draws()}\")\n",
    "print(f\"Team USA wins: {team_usa.get_wins()}\")\n",
    "print(f\"Team USA losses: {team_usa.get_losses()}\")\n",
    "print(f\"Team Argentina wins: {team_argentina.get_wins()}\")\n",
    "print(f\"Team Argentina losses: {team_argentina.get_losses()}\")\n"
   ]
  },
  {
   "cell_type": "markdown",
   "id": "340874bf-fbdf-42ba-827e-93ddef328d80",
   "metadata": {},
   "source": [
    "## The League Class"
   ]
  },
  {
   "cell_type": "markdown",
   "id": "0016ec65-7465-465f-8b16-9087142c180b",
   "metadata": {},
   "source": [
    "We **complete** our **basic example** introducing the **League class**, which will **aggregate, teams into leagues**."
   ]
  },
  {
   "cell_type": "markdown",
   "id": "12eeb246-2931-468b-8f10-2fb24a5a6158",
   "metadata": {},
   "source": [
    "### Abstraction"
   ]
  },
  {
   "cell_type": "markdown",
   "id": "f1375f61-36b5-47a4-9d39-7a5ed3f0fbee",
   "metadata": {},
   "source": [
    "Abstraction is about **hiding unnecessary details and computations internally**, and exposing only the methods and data that are needed. Some **examples in the code below** include:\n",
    "- ***validate_team***, which **validates** a **team without exposing** the **details of** the **rules**\n",
    "- ***record_match***, which **internally performs** all the stat **updates needed** **when** a **match result** is **recorded**\n",
    "- ***generate_leaderboard***, which **generates** a **sorted list of the teams based on** the **internal calculation of points** in the Team class *total_points()* method\n",
    "\n",
    "Some of the **algorithms below are complex**, and we **won't walk through them** in detail, **but that's the** whole **point**. **Users** of the League class **don't need to worry about** that **low level implementation**. That **\"secret sauce\" is not exposed**."
   ]
  },
  {
   "cell_type": "code",
   "execution_count": null,
   "id": "95905831-93eb-4241-a421-c4e21321ada1",
   "metadata": {},
   "outputs": [],
   "source": [
    "class League:\n",
    "    '''\n",
    "    A class used to represent a league\n",
    "    '''\n",
    "\n",
    "    # class variables\n",
    "    \n",
    "    # Dictionary storing rules for the league. Right now, it just stores the maximum number of teams\n",
    "    _league_rules = {\n",
    "        \"max_teams\": 10\n",
    "    } \n",
    "    \n",
    "    def __init__(self, name, teams = []):\n",
    "        '''\n",
    "        Parameters:\n",
    "            name(str): league name\n",
    "            teams(list): list of team objects\n",
    "        '''\n",
    "        # initialize object instance variables\n",
    "        self.name = name\n",
    "        self.teams = teams\n",
    "\n",
    "        # define and initialize private attributes\n",
    "\n",
    "        # list of matches\n",
    "        self._matches = []\n",
    "\n",
    "        # Dictionary storing rules for the league. Right now, it just stores the maximum number of teams\n",
    "        self._league_rules = {\n",
    "            \"max_teams\": 10\n",
    "        } \n",
    "    \n",
    "    def add_team(self, team):\n",
    "        '''\n",
    "        Adds a team to the league\n",
    "\n",
    "        Parameters:\n",
    "            team(Team): team object\n",
    "        '''\n",
    "        self.teams.append(team)\n",
    "\n",
    "    @classmethod\n",
    "    def validate_team(cls, team):\n",
    "        '''\n",
    "        Validates the team based on rules. Right now the only validation is for a team size, but that can be expanaded in the future.\n",
    "\n",
    "        Parameters:\n",
    "            team(Team): team object\n",
    "\n",
    "        Returns:\n",
    "            bool: True if the team size is valid, False otherwise\n",
    "        '''\n",
    "        return len(team.teams) < cls._league_rules[\"max_teams\"]\n",
    "\n",
    "    def record_match(self, match):\n",
    "        '''\n",
    "        Records a match in the league. This will not only add a match to the league list, but also update the stats for the teams involved.\n",
    "\n",
    "        Parameters:\n",
    "            match(dict): dictionary containing match details, including team names and scores. The dictionary structure will look like:\n",
    "                {\n",
    "                    \"team1_name\": <name>\n",
    "                    \"team1_score\": <score>\n",
    "                    \"team2_name\": <name>\n",
    "                    \"team2_score\": <score>\n",
    "                }\n",
    "        '''\n",
    "        # retrieve teams from the league, using helper method\n",
    "        team1 = self.get_team(match[\"team1_name\"])\n",
    "        team2 = self.get_team(match[\"team2_name\"])\n",
    "\n",
    "        # if either team was not found, raise an exception\n",
    "        if not team1 or not team2:\n",
    "            raise ValueError(\"One or both teams not found in the league\")\n",
    "\n",
    "        # update win,loss, draw stats for which team based on the score\n",
    "        if match[\"team1_score\"] > match[\"team2_score\"]:\n",
    "            team1.set_wins(team1.get_wins() + 1)\n",
    "            team2.set_losses(team2.get_losses() + 1)\n",
    "        elif match[\"team1_score\"] < match[\"team2_score\"]:\n",
    "            team1.set_losses(team1.get_losses() + 1)\n",
    "            team2.set_wins(team2.get_wins() + 1)\n",
    "        else:\n",
    "            team1.set_draws(team1.get_draws() + 1)\n",
    "            team2.set_draws(team2.get_draws() + 1)\n",
    "\n",
    "        # add match to league matches\n",
    "        self._matches.append(match)\n",
    "\n",
    "    def get_team(self, team_name):\n",
    "        '''\n",
    "        Retrieves a team from the league by name\n",
    "\n",
    "        Parameters:\n",
    "            team_name(str): team name\n",
    "\n",
    "        Returns:\n",
    "            team object if found, None otherwise\n",
    "        '''\n",
    "        for team in self.teams:\n",
    "            if team.name == team_name:\n",
    "                return team\n",
    "        return None\n",
    "\n",
    "    def get_matches(self):\n",
    "        '''\n",
    "        Retrieves all matches in the league\n",
    "\n",
    "        Returns:\n",
    "            list of matches\n",
    "        '''\n",
    "        return self._matches\n",
    "\n",
    "    def generate_leaderboard(self):\n",
    "        '''\n",
    "        Generates a leaderboard for the league, sorted by total points in descending order\n",
    "\n",
    "        Returns:\n",
    "            list of teams sorted by total points in descending order\n",
    "        '''\n",
    "        return sorted(self.teams, key=lambda x: x.total_points(), reverse=True)\n",
    "        \n",
    "    def __str__(self):\n",
    "        '''\n",
    "        Returns string representation of the object.\n",
    "\n",
    "        Returns:\n",
    "            String representation for the object data\n",
    "        '''\n",
    "        return f\"League: {self.name} - Teams: {len(self.teams)}\""
   ]
  },
  {
   "cell_type": "markdown",
   "id": "b12d61b1-538b-4d9d-84e5-5b6d32f77a8c",
   "metadata": {},
   "source": [
    "### Create a league and add teams"
   ]
  },
  {
   "cell_type": "code",
   "execution_count": null,
   "id": "a8b9bd45-900a-40ef-8066-491e61fd6e35",
   "metadata": {},
   "outputs": [],
   "source": [
    "world_league = League(\"World Cup\", [team_brazil, team_argentina, team_usa])\n",
    "print(world_league)"
   ]
  },
  {
   "cell_type": "markdown",
   "id": "3e046b4a-0ae5-4f1f-a384-4e0d91cdf689",
   "metadata": {},
   "source": [
    "### Print current leaderboard"
   ]
  },
  {
   "cell_type": "markdown",
   "id": "febfcd34-57fa-4904-b535-3ace843a14b6",
   "metadata": {},
   "source": [
    "Use the *generate_leaderboard()* to **view the current leaderboard**, based on the initial win/loss/draw data we randomly entered."
   ]
  },
  {
   "cell_type": "code",
   "execution_count": null,
   "id": "282714c6-9751-4417-9328-c8b5c65a4656",
   "metadata": {},
   "outputs": [],
   "source": [
    "leader_board = world_league.generate_leaderboard()\n",
    "for team in leader_board:\n",
    "    print(f\"{team.name}: {team.total_points()} points\")"
   ]
  },
  {
   "cell_type": "markdown",
   "id": "83e66a90-347f-4ab0-8e95-26cb330f9eeb",
   "metadata": {},
   "source": [
    "### Record some matches and review leaderboard"
   ]
  },
  {
   "cell_type": "markdown",
   "id": "3f858408-6cdf-457b-8362-db586059bcc9",
   "metadata": {},
   "source": [
    "Now we **add the last three results** between the 3 teams (I actually looked that up), and our *record_match* method will **abstract all of the complexity** to update the stats of the teams involved."
   ]
  },
  {
   "cell_type": "code",
   "execution_count": null,
   "id": "6adeb3e4-80ca-4a60-ab33-437f4bc43a68",
   "metadata": {},
   "outputs": [],
   "source": [
    "# Argentina 1 x 0 Brazil \n",
    "world_league.record_match({\"team1_name\": \"Brazil\", \"team1_score\": 0, \"team2_name\": \"Argentina\", \"team2_score\": 1})\n",
    "\n",
    "# Argentina 4 x 0 USA\n",
    "world_league.record_match({\"team1_name\": \"Argentina\", \"team1_score\": 4, \"team2_name\": \"USA\", \"team2_score\": 0})\n",
    "\n",
    "# Brazil 1 x 1 USA\n",
    "world_league.record_match({\"team1_name\": \"USA\", \"team1_score\": 1, \"team2_name\": \"Brazil\", \"team2_score\": 1})"
   ]
  },
  {
   "cell_type": "code",
   "execution_count": null,
   "id": "13e1475a-9971-4ba9-9cf0-ac49709a72e9",
   "metadata": {},
   "outputs": [],
   "source": [
    "for team in world_league.generate_leaderboard():\n",
    "    print(f\"{team.name}: {team.total_points()} points\")"
   ]
  },
  {
   "cell_type": "markdown",
   "id": "66a6bda0-8247-4c99-8cd9-61a18498ac8f",
   "metadata": {},
   "source": [
    "### Updated class diagram"
   ]
  },
  {
   "cell_type": "markdown",
   "id": "a8f41a70-f8ff-4dce-9376-d799eb0a64ac",
   "metadata": {},
   "source": [
    "After the updates, this represents our current class design. Before we change some more ..."
   ]
  },
  {
   "attachments": {
    "198c6720-0fc5-413a-8adf-ec8c584ab619.png": {
     "image/png": "[encoded data removed]"
    }
   },
   "cell_type": "markdown",
   "id": "72887978-cfa7-4f4b-8f05-bfa0c6162456",
   "metadata": {},
   "source": [
    "![full_player_diagram.png](attachment:198c6720-0fc5-413a-8adf-ec8c584ab619.png)"
   ]
  },
  {
   "cell_type": "markdown",
   "id": "a915dfb3-fcb2-4a4e-983b-6c7cbd88a377",
   "metadata": {},
   "source": [
    "# <span style=\"color:blue\"> OPTIONAL</span> - Extra examples"
   ]
  },
  {
   "cell_type": "markdown",
   "id": "717b76f1-32d9-4855-85b1-af0925a88b9b",
   "metadata": {},
   "source": [
    "## Factory Class Method"
   ]
  },
  {
   "cell_type": "markdown",
   "id": "e795664c-b4c9-48ed-ac31-f9937f30067e",
   "metadata": {},
   "source": [
    "### Team Class with *from_json* method"
   ]
  },
  {
   "cell_type": "markdown",
   "id": "e44bb7a9-ff86-4635-ae6f-a8797113bf6e",
   "metadata": {},
   "source": [
    "Another **use for class methods** is to **implement a \"factory pattern\"**, where you can **create objects of a class in different ways** besides the standard \\_\\_init\\_\\_. **For instance**, we may want to **create** an object **based on a JSON string** (which could have been stored offline)."
   ]
  },
  {
   "cell_type": "code",
   "execution_count": null,
   "id": "84714e83-af08-4a3b-8664-d9186c4d2ff8",
   "metadata": {},
   "outputs": [],
   "source": [
    "import json\n",
    "\n",
    "class Team:\n",
    "    \"\"\"\n",
    "    A class used to represent a team\n",
    "    \"\"\"\n",
    "\n",
    "    # class variables\n",
    "    max_players = 22    # maximum players in a team\n",
    "\n",
    "    def __init__(self, name, home_city, players = []):\n",
    "        \"\"\"\n",
    "        Parameters:\n",
    "            name(str): team name\n",
    "            home_city(str): team home city\n",
    "            players(list): list of player objects\n",
    "        \"\"\"\n",
    "        # initialize object instance variables\n",
    "        self.name = name\n",
    "        self.home_city = home_city\n",
    "\n",
    "        # validate team size\n",
    "        if (len(players) > self.max_players):\n",
    "            raise ValueError(\"Team size exceeds maximum allowed players\")\n",
    "        self.players = players\n",
    "\n",
    "    def add_player(self, player):\n",
    "        '''\n",
    "        Adds a player to the team\n",
    "\n",
    "        Parameters:\n",
    "            player(Player): player object\n",
    "        '''\n",
    "        self.players.append(player)\n",
    "\n",
    "    def total_goals(self):\n",
    "        '''\n",
    "        Calculates the total number of goals scored by the team\n",
    "\n",
    "        Returns:\n",
    "            int: total number of goals scored\n",
    "        '''\n",
    "        total = 0\n",
    "        for player in self.players:\n",
    "            total += player.goals_scored\n",
    "        return total\n",
    "        \n",
    "    @classmethod\n",
    "    def validate_team_size(cls, size):\n",
    "        '''\n",
    "        Validates the team size\n",
    "\n",
    "        Parameters:\n",
    "            size(int): number of players in the team\n",
    "\n",
    "        Returns:\n",
    "            bool: True if the team size is valid, False otherwise\n",
    "        '''\n",
    "        return size <= cls.max_players\n",
    "\n",
    "    @classmethod\n",
    "    def from_json(cls, json_str):\n",
    "        '''\n",
    "        Creates a team object from a JSON string\n",
    "\n",
    "        Parameters:\n",
    "            json_str(str): JSON string\n",
    "\n",
    "        Returns:\n",
    "            team object\n",
    "        '''\n",
    "\n",
    "        # load json string intro a python dictionary\n",
    "        team_data = json.loads(json_str)\n",
    "\n",
    "        # create and return an class object from the data in the dictionary\n",
    "        return cls(team_data['name'], team_data['home_city'], team_data['players'])\n",
    "\n",
    "    @staticmethod\n",
    "    def validate_json(json_str):\n",
    "        '''\n",
    "        Validate that a JSON string has all the attributes needed to create a Team.\n",
    "\n",
    "        Parameters:\n",
    "            json_str(str): JSON string\n",
    "\n",
    "        Returns:\n",
    "            Boolean indicating whether JSON is valid\n",
    "        '''\n",
    "        # load json string intro a python dictionary\n",
    "        team_data = json.loads(json_str)\n",
    "\n",
    "        # return True if all required keys are present in the dictionary, False otherwise\n",
    "        return ('name' in team_data and \n",
    "                'home_city' in team_data and \n",
    "                'players' in team_data)\n",
    "\n",
    "    def __str__(self):\n",
    "        '''\n",
    "        Returns string representation of the object.\n",
    "\n",
    "        Returns:\n",
    "            String representation for the object data\n",
    "        '''\n",
    "        return f\"Team: {self.name} - Home city: {self.home_city} - Number of players: {len(self.players)}\""
   ]
  },
  {
   "cell_type": "markdown",
   "id": "6afef7eb-e88b-4495-b56d-af78a2b75dc6",
   "metadata": {},
   "source": [
    "Define a JSON string for Team Italy ..."
   ]
  },
  {
   "cell_type": "code",
   "execution_count": null,
   "id": "d54e3031-258d-4fe9-97de-df507a3281ba",
   "metadata": {},
   "outputs": [],
   "source": [
    "json_str = '''{\n",
    "    \"name\": \"Italy\",\n",
    "    \"home_city\": \"Rome\",\n",
    "    \"players\": [\n",
    "        {\n",
    "            \"name\": \"Paolo Rossi\",\n",
    "            \"position\": \"striker\",\n",
    "            \"number\": 20,\n",
    "            \"goals_scored\": 3,\n",
    "            \"games_played\": 1\n",
    "        },\n",
    "        {\n",
    "            \"name\": \"Gentile\",\n",
    "            \"position\": \"defender\",\n",
    "            \"number\": 2,\n",
    "            \"goals_scored\": 0,\n",
    "            \"games_played\": 3\n",
    "        }\n",
    "    ]\n",
    "}'''"
   ]
  },
  {
   "cell_type": "markdown",
   "id": "85ce3c80-bb3c-428a-8b17-a975d2e8e5e2",
   "metadata": {},
   "source": [
    "Use the class method to create an object from it"
   ]
  },
  {
   "cell_type": "code",
   "execution_count": null,
   "id": "eeab1082-c419-4917-8b82-aeae2db04ae2",
   "metadata": {},
   "outputs": [],
   "source": [
    "# Create an object from the JSON string, calling a class method\n",
    "team_italy = Team.from_json(json_str)\n",
    "\n",
    "# print team\n",
    "print(team_italy)"
   ]
  },
  {
   "cell_type": "code",
   "execution_count": null,
   "id": "e40f756c-85d7-4cd5-b9e9-d2c4f9e97197",
   "metadata": {},
   "outputs": [],
   "source": []
  }
 ],
 "metadata": {
  "kernelspec": {
   "display_name": "Python 3 (ipykernel)",
   "language": "python",
   "name": "python3"
  },
  "language_info": {
   "codemirror_mode": {
    "name": "ipython",
    "version": 3
   },
   "file_extension": ".py",
   "mimetype": "text/x-python",
   "name": "python",
   "nbconvert_exporter": "python",
   "pygments_lexer": "ipython3",
   "version": "3.9.2"
  }
 },
 "nbformat": 4,
 "nbformat_minor": 5
}
