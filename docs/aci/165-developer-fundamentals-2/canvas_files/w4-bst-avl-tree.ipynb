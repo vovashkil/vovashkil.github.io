{
 "cells": [
  {
   "cell_type": "markdown",
   "id": "27dc5c09-95b6-43c3-87c6-a2ec31af7d2b",
   "metadata": {
    "editable": true,
    "slideshow": {
     "slide_type": ""
    },
    "tags": []
   },
   "source": [
    "# <span style=\"color:blue\">Tree Data Structures\n",
    "AWS CLOUD INSTITUTE: PROVIDED FOR EDUCATIONAL INSTRUCTIONAL PURPOSES ONLY."
   ]
  },
  {
   "cell_type": "markdown",
   "id": "f4045fe0-6d88-416c-88c4-3630f73c1a5a",
   "metadata": {},
   "source": [
    "We were introduced to trees in the last module in the discussion of Heaps, but in this module we will dive deeper into tree data structures, and their many applications."
   ]
  },
  {
   "attachments": {},
   "cell_type": "markdown",
   "id": "bd15ce69-8fbd-4de6-8cee-f07fd9fb8fe9",
   "metadata": {},
   "source": [
    "# Basic Tree Data Structures\n",
    "We will look at some specialized tree data structures later, but we start with a **basic tree**:\n",
    "- A **root node** at the **top** of the tree.\n",
    "- **Each node** has **zero or more children** nodes."
   ]
  },
  {
   "cell_type": "markdown",
   "id": "6fb39754-6234-42b5-9983-f1db6b1a626d",
   "metadata": {},
   "source": [
    "## Implementing a Tree from Scratch\n",
    "**Implementing** a **tree** involves two **key components**:\n",
    "- A **tree node class**, containing the **data and pointers** to other nodes\n",
    "- **Operations** to manipulate the tree nodes **to build** and **maintain** a **tree**\n",
    "\n",
    "The **tree node** is **generally** implemented as **a class**, but there are some **options** when it comes to where **to implement** the **tree operations**:\n",
    "- The operations can be implemented in **separate Python functions**\n",
    "- The operations can be implemented as **methods inside** the **node class** itself\n",
    "- The operations can be implemenmted as **methods in** a **distinct Tree class**\n",
    "\n",
    "A **distinct tree class** is generally a **good approach** **when** there are **very specific rules** **controlling** the **tree**. We'll see some examples of that later.\n"
   ]
  },
  {
   "cell_type": "markdown",
   "id": "81b14272-2534-4504-acce-b21d63cb7059",
   "metadata": {},
   "source": [
    "### TreeNode Class\n",
    "For our **basic example we will take** the **approach** of a having the **methods inside** the **tree Node**.  This works well, since there are **no specific rules controlling** the **relationship between** all the **nodes**.\n",
    "\n",
    "**Note**: The code below is using some concepts with have not discussed yet, but we will shortly"
   ]
  },
  {
   "cell_type": "markdown",
   "id": "6fe827d9-57d4-4175-9afb-455ba9600720",
   "metadata": {},
   "source": [
    "#### New concepts in this code\n",
    "The code below includes a couple of new concepts that appeared in the eLearning examples. We're not discussing them in detail here, but for the sake of clarity, we'll briefly introduce them."
   ]
  },
  {
   "cell_type": "markdown",
   "id": "1ff9926d-2d36-40fe-824a-d1c63e4619f8",
   "metadata": {},
   "source": [
    "##### Python type hints\n",
    "Some function definitions includ expressions like, *\": Any\"* and *\"-> TreeNode\"*. This **code sample**, and a few others in our eLearning, make **use** of this special **Python notation** for **indicating data types**. These are **not enforced by Python kernels**, but they are useful for documentation, and are also by external tools. This is not a topic we will discuss in depth, but you can look for **more information** in the **official Python documentation**: https://docs.python.org/3/library/typing.html\n",
    "\n",
    "We will remove the notation from other subsequent examples, to focus on the main topic of this module. The **notation** is **not required** **for** the **code to work**."
   ]
  },
  {
   "cell_type": "markdown",
   "id": "0d9a2c32-c30b-4691-912f-34178610478e",
   "metadata": {},
   "source": [
    "##### Custom iterators\n",
    "Our **class includes** an **\\_\\_iter()\\_\\_ method**, which returns an iterator to allow iteration over the data in the tree.  Although we have used iterators on python lists and dictionaries in the past, we had not seen this kind of custom iterator before. This is **similar to** the concept of **operator overloading** we saw in a previous module. **If** you **have** a type of **class where \"iterating\" makes sense** (and clearly walking through our tree is an example of that), we **can define our own** iterator. Again, this is not a topic we will discuss in depth, but there is an **article in the official Python documentation** about it: https://docs.python.org/3/howto/functional.html#iterators"
   ]
  },
  {
   "cell_type": "markdown",
   "id": "15ffaa5f-4d6e-4f02-a000-f0d29f64a9c0",
   "metadata": {},
   "source": [
    "##### Recursion\n",
    "We see a couple exemples of **recursion** in the *TreeNode* class. Recursion is **when** a **function or method calls itself**. Recursion is a **complex topic**, which we will **cover in depth in the future**."
   ]
  },
  {
   "cell_type": "code",
   "execution_count": null,
   "id": "09ec13ea-c289-4dd6-bd60-0f4aaa90bf75",
   "metadata": {},
   "outputs": [],
   "source": [
    "from typing import Any, Iterator\n",
    "\n",
    "class TreeNode:\n",
    "    '''\n",
    "    Node for a binary tree\n",
    "    '''\n",
    "    def __init__(self, data: Any, parent = None):\n",
    "        '''\n",
    "        Parameters:\n",
    "            data: The data to be stored in the node\n",
    "            children: List of children nodes\n",
    "            parent: Pointer to the parent node\n",
    "        '''\n",
    "        self.data = data\n",
    "        self.children = []\n",
    "        self.parent = parent\n",
    "        \n",
    "    def insert_child(self,  data: Any) -> 'TreeNode':\n",
    "        '''\n",
    "        Insert a child under this node, and return it.\n",
    "        '''\n",
    "        # create child node, specifying this node as the parent\n",
    "        child = TreeNode(data, parent=self)\n",
    "\n",
    "        # add the child to the list of children\n",
    "        self.children.append(child)\n",
    "\n",
    "        # return the child node\n",
    "        return child\n",
    "\n",
    "    def __iter__(self) -> Iterator[Any]:\n",
    "        '''\n",
    "        Iterate over the children of this node, allowing iteration through all of the tree data.\n",
    "        '''\n",
    "        # initialize the iterator to the current node data\n",
    "        result = self.data\n",
    "\n",
    "        # recursively the children data. The loop below will recursively call this iterator on all children\n",
    "        for child in self.children:\n",
    "            result.extend(child)\n",
    "\n",
    "        # result the final iterator\n",
    "        return iter(result)\n",
    "\n",
    "    def print_tree(self, indent: int = 0):\n",
    "        '''\n",
    "        Print the tree\n",
    "        '''\n",
    "        # print the current node, indented by the current indent value\n",
    "        print(\"    \" * indent + str(self.data))\n",
    "\n",
    "        # recursively print the children, adding to the indentation\n",
    "        for child in self.children:\n",
    "            child.print_tree(indent + 1)"
   ]
  },
  {
   "cell_type": "markdown",
   "id": "a51508cb-675b-46b8-9b89-f91af74a2f38",
   "metadata": {},
   "source": [
    "#### Creating the Tree\n",
    "In this approach, where we don't have a separate tree class, **\"creating the tree\"** simply **means creating** the **root node**.\n",
    "\n",
    "In my **example**, I'll build a **family tree** for some **fictional characters**."
   ]
  },
  {
   "cell_type": "markdown",
   "id": "7b24bbdd-a1b1-48ca-8fb8-cbe115f96144",
   "metadata": {},
   "source": [
    "##### Starting with the root node"
   ]
  },
  {
   "cell_type": "code",
   "execution_count": null,
   "id": "b7f651cb-93dc-467f-98e2-c8cb2b30d599",
   "metadata": {},
   "outputs": [],
   "source": [
    "# Create our first family member, which will become the root node for this tree \n",
    "root = TreeNode(\"Tigraine\") "
   ]
  },
  {
   "cell_type": "markdown",
   "id": "6965749c-a91e-4026-a154-34135aba03ff",
   "metadata": {},
   "source": [
    "##### Adding some children to the family"
   ]
  },
  {
   "cell_type": "code",
   "execution_count": null,
   "id": "c60b0d8c-8a91-4eee-bb08-2ef1e5df4222",
   "metadata": {},
   "outputs": [],
   "source": [
    "# create children of Tigraine, adding them to the tree\n",
    "rand = root.insert_child(\"Rand\")\n",
    "galad = root.insert_child(\"Galad\")\n",
    "\n",
    "# print current tree from the root\n",
    "root.print_tree()"
   ]
  },
  {
   "cell_type": "markdown",
   "id": "86a8772b-338b-4f89-8033-1019d0aa724d",
   "metadata": {},
   "source": [
    "##### Adding some grand-children"
   ]
  },
  {
   "cell_type": "code",
   "execution_count": null,
   "id": "ac2cf65f-24c1-4b46-bc05-2b86a515d46c",
   "metadata": {
    "editable": true,
    "slideshow": {
     "slide_type": ""
    },
    "tags": []
   },
   "outputs": [],
   "source": [
    "# Rand has some children, so these will be grand-children on Tigraine\n",
    "calian = rand.insert_child(\"Calian\")\n",
    "shivan = rand.insert_child(\"Shivan\")\n",
    "janduin = rand.insert_child(\"Janduin\")\n",
    "\n",
    "# print current family tree from the root\n",
    "root.print_tree()"
   ]
  },
  {
   "attachments": {},
   "cell_type": "markdown",
   "id": "82a44306-2d2f-49fb-b6d4-b4d311d79083",
   "metadata": {},
   "source": [
    "# Binary Search Tree\n",
    "A binary search tree (BST) is a **tree data structure** with the following properties:\n",
    "- **No duplicate** elements.\n",
    "- **Each node** has no more than **two children**, a left child and a right child\n",
    "    - **Left** child value is always **less than** the current node.\n",
    "    - **Right** child value is always **greater than** the current node."
   ]
  },
  {
   "cell_type": "markdown",
   "id": "a404309c-fdf8-470e-a38d-97f3fae03072",
   "metadata": {},
   "source": [
    "### TreeNode Class"
   ]
  },
  {
   "cell_type": "code",
   "execution_count": null,
   "id": "c9198db8-0bff-4027-b192-cf8675de5db7",
   "metadata": {},
   "outputs": [],
   "source": [
    "class TreeNode:\n",
    "    '''\n",
    "    Node for a binary tree\n",
    "    '''\n",
    "    def __init__(self, key):\n",
    "        '''\n",
    "        Parameters:\n",
    "            key: The key to be stored in the node\n",
    "            left: Pointer to the left child node\n",
    "            right: Pointer to the right child node\n",
    "        '''\n",
    "        self.key = key\n",
    "        self.left = None\n",
    "        self.right = None\n",
    "        \n",
    "    def __str__():\n",
    "        return self.key"
   ]
  },
  {
   "cell_type": "markdown",
   "id": "26b9e87a-c008-482b-b437-f3a6df84803d",
   "metadata": {},
   "source": [
    "### BinarySearchTree Class\n",
    "The binary search tree class will perform the basic operations required to implementain and maintain the properties we defined."
   ]
  },
  {
   "cell_type": "code",
   "execution_count": null,
   "id": "1b3a428d-7935-4dff-be41-4149e858e017",
   "metadata": {
    "editable": true,
    "slideshow": {
     "slide_type": ""
    },
    "tags": []
   },
   "outputs": [],
   "source": [
    "class BinarySearchTree:\n",
    "    '''\n",
    "    A Binary Search Tree\n",
    "    '''\n",
    "    def __init__(self):\n",
    "        # initialize the root of the tree\n",
    "        self.root = None\n",
    "\n",
    "        # track size of tree\n",
    "        self._size = 0\n",
    "\n",
    "    def _insert_node(self, curr_node, new_key):\n",
    "        '''\n",
    "        This method will insert a node in the binary tree, by recursively trying to insert \n",
    "        on the left or right subtree, depending on whether the key is smaller or larger \n",
    "        than the current node.\n",
    "\n",
    "        Returns the node that was inserted.\n",
    "        '''\n",
    "        # if the current node is None, than we found the right place to insert, so create a node for the key\n",
    "        if curr_node is None:\n",
    "            self._size += 1\n",
    "            return TreeNode(new_key)\n",
    "        \n",
    "        # else, if the new key is less than the current key, recursively try to insert on the left\n",
    "        elif new_key < curr_node.key:\n",
    "            curr_node.left = self._insert_node(curr_node.left, new_key)\n",
    "            \n",
    "        # else, if the new key is greater than the current key, recursively try to insert on the right\n",
    "        elif new_key > curr_node.key:\n",
    "            curr_node.right = self._insert_node(curr_node.right, new_key)\n",
    "            \n",
    "        # if we went through both comparisons, then the key is equal to the current key, so do nothing\n",
    "\n",
    "        # return the updated node\n",
    "        return curr_node\n",
    "\n",
    "\n",
    "    def insert(self, new_key):\n",
    "        '''\n",
    "        Starting at the root, invoke recursive method to insert node for this key\n",
    "        '''\n",
    "        self.root = self._insert_node(self.root, new_key)\n",
    "\n",
    "    def size(self):\n",
    "        '''\n",
    "        Returns the size of the tree (numbet of nodes). Size is being maintained as we insert new nodes,\n",
    "        otherwise we would have to traverse the whole tree to count.\n",
    "        '''\n",
    "        return self._size\n",
    "\n",
    "    def _traverse_tree(self, node, result):\n",
    "        '''\n",
    "        This method will recursively traverse a tree in order from lowest to highest, starting from the input node\n",
    "        '''\n",
    "\n",
    "        # if the node is not None\n",
    "        if node:\n",
    "            # recursively traverse the left sub-tree first, since we want to traverse from smallest to largest\n",
    "            self._traverse_tree(node.left, result)\n",
    "\n",
    "            # now append current node to result list\n",
    "            result.append(node.key)\n",
    "\n",
    "            # recursively traverse the right sub-tree for the larger items\n",
    "            self._traverse_tree(node.right, result)\n",
    "\n",
    "    def traverse(self):\n",
    "        '''\n",
    "        Returns a list of the tree's data, in order from smallest to largest\n",
    "        '''\n",
    "\n",
    "        # kick off a recursive traversal of the tree, starting at the root\n",
    "        result = []\n",
    "        self._traverse_tree(self.root, result)\n",
    "        return result\n",
    "    \n",
    "\n",
    "    def _search(self, curr_node, search_key):\n",
    "        '''\n",
    "        Search for a value in the binary search tree, by recursively looking for it on the left and right subtree,\n",
    "        depending on whether the value is smaller or larger than the current node.\n",
    "        '''\n",
    "        # if the current node is None, then the value is not in the tree\n",
    "        if (curr_node is None):\n",
    "            return False\n",
    "\n",
    "        # if the current node value is the same as the search value, return True\n",
    "        elif (curr_node.key == search_key):\n",
    "            return True\n",
    "\n",
    "        # else, if the search value is larger, then try to find on the right\n",
    "        elif (search_key > curr_node.key):\n",
    "            return self._search(curr_node.right, search_key)\n",
    "\n",
    "        # else the search value is smaller, so try to find on the left\n",
    "        else:\n",
    "            return self._search(curr_node.left, search_key)\n",
    "\n",
    "    def search(self, search_key):\n",
    "        '''\n",
    "        Search for a value in the binary search tree.\n",
    "        This will trigger a recursive lookup, starting at the root of the tree.\n",
    "        '''\n",
    "        return self._search(self.root, search_key)\n",
    "\n",
    "    def balance_factor(self):\n",
    "        '''\n",
    "        This method will calculate the balance factor of the tree, which is the difference between the\n",
    "        height of the left and right subtrees. A positive value means the left subtree is taller,\n",
    "        while a negative value means the right subtree is taller.\n",
    "        '''\n",
    "        # calculate the height of the left and right subtrees\n",
    "        left_height = self._height(self.root.left)\n",
    "        right_height = self._height(self.root.right)\n",
    "\n",
    "        # return the difference between the heights\n",
    "        return left_height - right_height\n",
    "\n",
    "    def _height(self, node):\n",
    "        '''\n",
    "        This method will calculate the height of a given node, by recursively calculating the height\n",
    "        of its left and right subtrees, and returning the maximum height plus one.\n",
    "        '''\n",
    "        # if the node is None, return -1 (base case for recursion)\n",
    "        if (not node):\n",
    "            return -1\n",
    "\n",
    "        # recursively calculate the height of the left and right subtrees\n",
    "        left_height = self._height(node.left)\n",
    "        right_height = self._height(node.right)\n",
    "\n",
    "        # return the maximum height plus one\n",
    "        return max(left_height, right_height) + 1\n",
    "        \n",
    "    def _to_str(self, curr_node, level):\n",
    "        '''\n",
    "        Recursive function that will print elements of a tree, indenting to the right based on level\n",
    "        '''\n",
    "        # initialize return string\n",
    "        curr_str = \"\"\n",
    "        edge_indicator = \"\"\n",
    "        \n",
    "        # if the current node is not None ...\n",
    "        if curr_node:\n",
    "            # set an indicator to help visualize which children nodes\n",
    "            if (curr_node.left and curr_node.right):\n",
    "                edge_indicator = \"<\"\n",
    "            elif (curr_node.left):\n",
    "                edge_indicator = \"\\\\\"\n",
    "            elif (curr_node.right):\n",
    "                edge_indicator = \"/\"\n",
    "            else:\n",
    "                edge_indicator = \"\"\n",
    "                \n",
    "            # recusively add the right sub-tree, incresing the level (indentation)\n",
    "            curr_str += self._to_str(curr_node.right, level + 1) \n",
    "\n",
    "            # add the data in this node\n",
    "            curr_str += \"          \" * level + str(curr_node.key) + edge_indicator + \"\\n\"\n",
    "\n",
    "            # recusively add the left sub-tree, incresing the level (indentation)\n",
    "            curr_str += self._to_str(curr_node.left, level + 1)\n",
    "\n",
    "        # return string for this node/sub-tree\n",
    "        return curr_str\n",
    "\n",
    "    def __str__(self):\n",
    "        '''\n",
    "        Call internal method that will recursively print all nodes, starting with the root\n",
    "        '''\n",
    "        # starting add the root, generate string recursively\n",
    "        return self._to_str(self.root, 0)"
   ]
  },
  {
   "cell_type": "markdown",
   "id": "743352f2-912e-4190-92ca-746eb45f85fc",
   "metadata": {
    "editable": true,
    "slideshow": {
     "slide_type": ""
    },
    "tags": []
   },
   "source": [
    "#### Quick Test\n",
    "Just to confirm the tree is working, we'll add a few simple nodes and print it"
   ]
  },
  {
   "cell_type": "code",
   "execution_count": null,
   "id": "df4446fb-6ebe-41fa-9e52-949415ac998d",
   "metadata": {
    "editable": true,
    "slideshow": {
     "slide_type": ""
    },
    "tags": []
   },
   "outputs": [],
   "source": [
    "# create a new binary tree\n",
    "test_tree= BinarySearchTree()\n",
    "\n",
    "# add data to the tree\n",
    "test_tree.insert(7)\n",
    "test_tree.insert(4)\n",
    "test_tree.insert(9)\n",
    "test_tree.insert(2)\n",
    "test_tree.insert(5)\n",
    "test_tree.insert(3)\n",
    "\n",
    "print(f\"My tree has {test_tree.size()} nodes, and it looks a little like this:\\n\")\n",
    "print(test_tree)"
   ]
  },
  {
   "cell_type": "markdown",
   "id": "f8d1afe8-6180-4e10-b0f8-3675a75a29b4",
   "metadata": {},
   "source": [
    "##### Import modules\n",
    "We'll be using a couple of modules in the upcoming analysis, so we'll import them here"
   ]
  },
  {
   "cell_type": "code",
   "execution_count": null,
   "id": "c1f79665-983d-4a79-87e2-45b62ffd84ca",
   "metadata": {},
   "outputs": [],
   "source": [
    "import time\n",
    "import random"
   ]
  },
  {
   "cell_type": "markdown",
   "id": "644e51dc-fe57-4ed5-885d-646fae7d0cfd",
   "metadata": {},
   "source": [
    "#### Loading data for my tree\n",
    "To **test** my **binary search tree** I want to have a lot of keys, so inserting them by hand would be hard. I'll use **use** the **python random module** to **generate** a **large set of random numbers**, and convert them to strings."
   ]
  },
  {
   "cell_type": "code",
   "execution_count": null,
   "id": "b6fbac58-719c-4afc-abe6-01f7d212676c",
   "metadata": {},
   "outputs": [],
   "source": [
    "# Use a variable to control the number of keys I generate, because we may want to change that to do different tests.\n",
    "NUMBER_OF_KEYS = 10000"
   ]
  },
  {
   "cell_type": "code",
   "execution_count": null,
   "id": "f577aed1-fa44-46fb-be8c-05bb0610ddfe",
   "metadata": {},
   "outputs": [],
   "source": [
    "# intially use a set, to guarantee no duplicates\n",
    "key_set = set({})\n",
    "while len(key_set) < NUMBER_OF_KEYS:\n",
    "    # generate a very large random integer, convert it to a string, and add to set\n",
    "    key_set.add(str(random.randint(0, 1000000000)))\n",
    "\n",
    "# verify the size\n",
    "print(f\"Generated {len(key_set)} unique keys.\")\n",
    "\n",
    "# print the first 5 items so we can confirm the types of keys being inserted\n",
    "print(f\"Sample keys: {list(key_set)[0:5]}\")"
   ]
  },
  {
   "cell_type": "markdown",
   "id": "f96dccb6-eaaa-4437-a90f-10661eaf95da",
   "metadata": {},
   "source": [
    "#### Creating a Binary Search Tree\n",
    "We'll create new Binary Search Tree here, where we will load our keys."
   ]
  },
  {
   "cell_type": "code",
   "execution_count": null,
   "id": "db2bbf56-3e14-451a-af76-926bcc2c58fa",
   "metadata": {},
   "outputs": [],
   "source": [
    "# create a new binary search tree\n",
    "bst_tree= BinarySearchTree()"
   ]
  },
  {
   "cell_type": "markdown",
   "id": "f7a40af0-bcc3-4ba8-a839-0389cf485a79",
   "metadata": {},
   "source": [
    "#### Load tree with key data\n",
    "Now we'll iterate through our set of keys, and insert all of them in our binary search tree. **For** a **very large number**, this **will take** a bit of **time**. We'll using the time libary to check how long it takes to perform each insert."
   ]
  },
  {
   "cell_type": "code",
   "execution_count": null,
   "id": "acaba1ce-58ed-4977-a651-b32c871be6a2",
   "metadata": {},
   "outputs": [],
   "source": [
    "# timestamp start and end time for insert operations\n",
    "start_time = time.perf_counter()\n",
    "\n",
    "# iterate through words in words_set\n",
    "for key in key_set:\n",
    "    # insert word into tree\n",
    "    bst_tree.insert(key)\n",
    "\n",
    "end_time = time.perf_counter()\n",
    "\n",
    "print(f\"Average time to insert a new node: {(end_time - start_time) / len(key_set):.6f} seconds\")\n",
    "\n",
    "# print tree size\n",
    "print(f\"My tree has {bst_tree.size()} nodes\")"
   ]
  },
  {
   "cell_type": "markdown",
   "id": "38bb8c93-0da5-4813-a9bf-1fb8ad9f3d5d",
   "metadata": {},
   "source": [
    "#### Traverse the tree from lowest to largest item\n",
    "This is **not** an **operation** we'll **always need** to do, **but** let's **test** out our *traverse* method.\n",
    "\n",
    "We'll print out the first and last work in the list, just to confirm if it looks right."
   ]
  },
  {
   "cell_type": "code",
   "execution_count": null,
   "id": "306552de-6baf-462c-a1ff-7762b0e51252",
   "metadata": {},
   "outputs": [],
   "source": [
    "# load the all words from smallest to largest into a list\n",
    "key_list = bst_tree.traverse()\n",
    "\n",
    "# print out first and last work in document\n",
    "print(f\"The first key in the document is: {key_list[0]}\")\n",
    "print(f\"The last  key in the document is: {key_list[-1]}\")"
   ]
  },
  {
   "cell_type": "markdown",
   "id": "a080b2f1-9f3b-4150-a291-3e4589548649",
   "metadata": {},
   "source": [
    "#### Searching the tree for a value\n",
    "**Searching** is the **main goal** here, hence the name, binary **search** tree. So let's try **searching some values**, and **verify how** quickly that **performs**."
   ]
  },
  {
   "cell_type": "markdown",
   "id": "1250ccf8-86c9-45c5-a109-888106283db9",
   "metadata": {},
   "source": [
    "Let's **search for** some **random items** in the list, and time how quickly that comes back. We'll **also add** a few **items** that are **not in our list** to see if the performance is ok for not found cases."
   ]
  },
  {
   "cell_type": "code",
   "execution_count": null,
   "id": "bd7c84a2-d393-4f5f-80ad-e6882ce5ab18",
   "metadata": {},
   "outputs": [],
   "source": [
    "# generate some random keys from our set to search for\n",
    "random_keys = []\n",
    "for x in range(10):\n",
    "    random_keys.append(key_list[random.randint(0, len(key_list) - 1)])\n",
    "\n",
    "# add a keys with letters in the module, which will not be in my list of number based keys\n",
    "random_keys.append(\"45550881a\")\n",
    "random_keys.append(\"14276094b\")\n",
    "random_keys.append(\"93685661c\")\n",
    "\n",
    "print(f\"Searching through {len(key_set)} elements:\\n\")\n",
    "\n",
    "# initialize total search time\n",
    "total_search_time = 0\n",
    "                     \n",
    "# iterate through and search keys\n",
    "for search_key in random_keys:  \n",
    "    # start timer\n",
    "    start_time = time.perf_counter()\n",
    "    \n",
    "    # search for the word\n",
    "    found = bst_tree.search(search_key)\n",
    "    \n",
    "    # stop timer\n",
    "    end_time = time.perf_counter()\n",
    "    \n",
    "    # print result\n",
    "    print(f\"Search completed in {(end_time - start_time):.6f} seconds\", end = \"\")\n",
    "\n",
    "    # print result depending on whether word was found\n",
    "    if found:\n",
    "        print(f' - Key \"{search_key}\" found')\n",
    "    else:\n",
    "        print(f' - Key \"{search_key}\" NOT found')\n",
    "\n",
    "    # accumulate the search times so we can average in the end\n",
    "    total_search_time += (end_time - start_time)\n",
    "\n",
    "# calculate final average across all searches\n",
    "bst_search_time = total_search_time / len(random_keys)\n",
    "print(f\"\\nAverage binary tree search time for {bst_tree.size()} elements: {bst_search_time:.6f} seconds\")"
   ]
  },
  {
   "cell_type": "markdown",
   "id": "a3448697-5cf7-4927-b23a-07401ff891e7",
   "metadata": {},
   "source": [
    "#### Comparing to a list search\n",
    "Let's search for the **same exact keys**, but **using** the standard **Python list**."
   ]
  },
  {
   "cell_type": "code",
   "execution_count": null,
   "id": "520edbb9-f9e7-4743-beec-3fb35336148c",
   "metadata": {},
   "outputs": [],
   "source": [
    "print(f\"Searching through {len(key_set)} elements:\\n\")\n",
    "\n",
    "# initialize total search time\n",
    "total_search_time = 0\n",
    "\n",
    "# iterate through search words\n",
    "for search_key in random_keys:  \n",
    "    # start timer\n",
    "    start_time = time.perf_counter()\n",
    "    \n",
    "    # search for the word (the \"in\" operator is one way to search a list))\n",
    "    found = search_key in key_list\n",
    "    \n",
    "    # stop timer\n",
    "    end_time = time.perf_counter()\n",
    "    \n",
    "    # print result\n",
    "    print(f\"Search completed in {(end_time - start_time):.6f} seconds\", end = \"\")\n",
    "\n",
    "    # print result depending on whether word was found\n",
    "    if found:\n",
    "        print(f' - Key \"{search_key}\" found')\n",
    "    else:\n",
    "        print(f' - Key \"{search_key}\" NOT found')\n",
    "\n",
    "    # accumulate the search times so we can average in the end\n",
    "    total_search_time += (end_time - start_time)\n",
    "\n",
    "# calculate final average across all searches\n",
    "list_search_time = total_search_time / len(random_keys)\n",
    "print(f\"\\nAverage Python list search time: {list_search_time:.6f} seconds\")\n",
    "\n",
    "# reprint the binary searh time for ease of comparison\n",
    "print(\"\\n... and once again ...\")\n",
    "print(f\"\\nAverage binary tree search time: {bst_search_time:.6f} seconds\")\n",
    "\n",
    "# calculate the performance improvement\n",
    "perf_factor = list_search_time / bst_search_time\n",
    "print(f\"\\nBinary search was {perf_factor:.1f} times faster than list search sort.\")"
   ]
  },
  {
   "cell_type": "markdown",
   "id": "7d3afb5b-97a6-4bc1-a15b-159f7195bc4f",
   "metadata": {
    "editable": true,
    "slideshow": {
     "slide_type": ""
    },
    "tags": []
   },
   "source": [
    "#### Analysing the difference ..."
   ]
  },
  {
   "cell_type": "markdown",
   "id": "1ded6d34-e686-4091-a553-b9ff00d85b88",
   "metadata": {},
   "source": [
    "##### First Run \n",
    "When we **look at** the two **numbers**, they **both seem small**. **But notice** that the **list performance** is a **whole decimal point larger in** this **first run**. That means the list search **takes more than 10 times**. To find the exact value, we can divide the two average values. \n",
    "\n",
    "Value will change a bit each time you run, but in my **first run** this is what I found:\n",
    "- Total **number of keys**: **10,000**\n",
    "- **Binary Search Tree** average search performance: **0.000013 seconds**\n",
    "- **Regular Python List** average search performance: **0.000244 seconds**\n",
    "- **Binary Search Tree 18 times faster**"
   ]
  },
  {
   "cell_type": "markdown",
   "id": "eb117458-949f-470a-b377-f413db09c64c",
   "metadata": {},
   "source": [
    "##### Why is it faster?\n",
    "\n",
    "Remember our discussion in time complexity:\n",
    "- The **regular list** has **O(n) time complexity**, because it will have through **walk through the whole list** to locate the one you want.\n",
    "- The **Binary Search Tree** has **O(log(n)) time complexity**, because it **splits** the **search space in half each time** you progress down the tree.\n",
    "\n",
    "**But there is more ...**\n",
    "The **biggest advantage** of an **O(log(n))** vs a **O(n)** search is **not just** that it's **faster**. The bigger advantage is that an **O(log(n)) search** will **stay** very **fast** even **as** our **data set** gets **bigger**, while the an **O(n)** will **keep getting worse** and worse."
   ]
  },
  {
   "cell_type": "markdown",
   "id": "66e5e6d8-5d94-4e1a-81a2-0b1db26ed53e",
   "metadata": {},
   "source": [
    "##### Second run\n",
    "To **comfirm our point**, **go back to** the cell where we defined **NUMBER_OF_KEYS**, and **change to 1000000** (add 2 more zeros to make 1 million instead of 10 thousand). **Then** simply **re-run** that **cell and all the cells below** up to here.\n",
    "\n",
    "**NOTE**: Don't make the number any higher, or the tree creation will take too long.\n",
    "\n",
    "In my **second run**, these were the values I saw:\n",
    "- Total **number of keys**: **1,000,000**\n",
    "- **Binary Search Tree** average search performance: **0.000023 seconds**\n",
    "- **Regular Python List** average search performance: **0.079713 seconds**\n",
    "- **Binary Search Tree 6131 times faster!!!**"
   ]
  },
  {
   "attachments": {},
   "cell_type": "markdown",
   "id": "0185a56f-0c2a-453a-b7e2-c9f9ffa2ac50",
   "metadata": {},
   "source": [
    "### Binary Tree Balance\n",
    "A **Balanced Binary Tree** is one in which the **height** of the **left and right subtrees** of **any node do not differ by more than 1**. The **\"balance factor\"** of a tree, is the **difference between** the **height of** the **left side minus** the **height of** the **right side**."
   ]
  },
  {
   "cell_type": "markdown",
   "id": "3faecd3a-7e2b-4b72-bd86-5b09636e5b9b",
   "metadata": {},
   "source": [
    "We're not going to calculate every single node, but overall, let's **check** the **overall balance** of our **binary tree**"
   ]
  },
  {
   "cell_type": "code",
   "execution_count": null,
   "id": "aee06af3-b24a-47a8-9972-8130c0c695bf",
   "metadata": {},
   "outputs": [],
   "source": [
    "# check the binary tree balance factor at the root\n",
    "balance = bst_tree.balance_factor()\n",
    "print(f\"The balance factor of the tree is: {balance}\")"
   ]
  },
  {
   "cell_type": "markdown",
   "id": "06b3530d-99f7-4a5c-8084-1e2579ae6645",
   "metadata": {
    "editable": true,
    "slideshow": {
     "slide_type": ""
    },
    "tags": []
   },
   "source": [
    "The **balance factor** will **change every time** I run, because **using random keys**, and the **height of each side** **depends on** the **order** that items are being **inserted**. For **my last run**, the **balance factor** was **-11**. That means that the **left side** of my tree was **11 levels deeper** than the **right side**. **Other runs** gave me various **different** positive and negative **factors**.\n",
    "\n",
    "**-11** is **not too** bad for a tree of 1,000,000 nodes, which is **why** my **search** still **performed well**, with no noticeable difference. **However**, bear in mind **my algorithm for generating keys** was **perfectly random**. In the **world world**, things may **not** be **so random**, or not random at all. So a **binary tree could become** a lot **more unbalanced**. If that happens, some **searches** will **not** be **as fast**.\n",
    "\n",
    "With that in mind, let's see alternatives for keeping my tree balanced ..."
   ]
  },
  {
   "cell_type": "markdown",
   "id": "607af525-7cd6-454e-939a-98cc29bb5347",
   "metadata": {},
   "source": [
    "### Balancing a Binary Search Tree\n",
    "There are algorithms for balancing a binary search tree, but **to have it perfectly balanced**, you **may need** to **move** a **lot of nodes** around. **Sometimes** it **practically** requires **re-building** the **whole tree**. We will not show that process here, but instead focus on some of the more common alternatives."
   ]
  },
  {
   "cell_type": "markdown",
   "id": "701718f7-7d03-40e2-a128-d57271977b56",
   "metadata": {},
   "source": [
    "# <span style=\"color:blue\"> OPTIONAL"
   ]
  },
  {
   "attachments": {},
   "cell_type": "markdown",
   "id": "e723e6ab-edd5-493a-87ea-001b28ad64b1",
   "metadata": {},
   "source": [
    "# AVL Tree\n",
    "A **binary tree** with the following characteristics:\n",
    "- All nodes in the tree have the **AVL property**:\n",
    "    - The **heights of** their **left and right subtrees differ by no more than 1**\n",
    "- The **difference of heights** of left and right subtrees is known as the **“balance factor”**"
   ]
  },
  {
   "attachments": {
    "15141643-eb34-4ffa-908a-519473c34f0b.png": {
     "image/png": "[encoded data removed]"
    }
   },
   "cell_type": "markdown",
   "id": "e709c803-3473-431a-9fc0-060bb5b215e2",
   "metadata": {},
   "source": [
    "![Picture1.png](attachment:15141643-eb34-4ffa-908a-519473c34f0b.png)"
   ]
  },
  {
   "cell_type": "markdown",
   "id": "cb7b45ad-6789-4145-b3c7-c1c6b586ac35",
   "metadata": {},
   "source": [
    "## AVL Tree Implementation"
   ]
  },
  {
   "cell_type": "markdown",
   "id": "dccf731c-0f4d-4b52-a97e-c35f58bf8167",
   "metadata": {},
   "source": [
    "### AVLTreeNode Class\n",
    "This will be **essentially** the **same as** the **regular tree node** we saw earlier, with just an **additional height field**. The height is initialized to 1, because a node by itself would be considered a subtree of height 1. But that's largely a placeholder, because the value will be updated as we insert nodes into the tree."
   ]
  },
  {
   "cell_type": "code",
   "execution_count": null,
   "id": "3b283f06-5694-49b8-b717-6156ed0e2e12",
   "metadata": {},
   "outputs": [],
   "source": [
    "class AVLTreeNode:\n",
    "    '''\n",
    "    Tree node for an AVL Tree.\n",
    "    '''\n",
    "    def __init__(self, key):\n",
    "        self.key = key\n",
    "        self.left = None\n",
    "        self.right = None\n",
    "        self.height = 1"
   ]
  },
  {
   "cell_type": "markdown",
   "id": "b0c1b2bb-405d-4331-ac20-9ef73a36b115",
   "metadata": {},
   "source": [
    "### AVLTree Class\n",
    "The ***AVLTree*** class **implementation** will be **largely the same as** the Binary Search Tree. In the implementation below started off with a simple copy/paste of the **BinarySearchTree class** implemented earlier.\n",
    "\n",
    "**Even** the *insert* method is **practically** the **same code** ... **except** that **after each insert**, it will **initiate** a call to an ***_rebalance**** method, that will rebalance the tree according to the standard AVL algorithm rules."
   ]
  },
  {
   "cell_type": "code",
   "execution_count": null,
   "id": "446d7c97-8993-4dcc-917f-1f883ee25d59",
   "metadata": {},
   "outputs": [],
   "source": [
    "class AVLTree:\n",
    "    '''\n",
    "    An AVL Tree\n",
    "    '''\n",
    "    def __init__(self):\n",
    "        # initializes the root of the tree\n",
    "        self.root = None\n",
    "\n",
    "        # track size of tree\n",
    "        self._size = 0\n",
    "\n",
    "    def insert(self, new_key):\n",
    "        '''\n",
    "        Starting at the root, invoke recursive method to insert node for this key\n",
    "        '''\n",
    "        self.root = self._insert_node(self.root, new_key)\n",
    "\n",
    "    def _insert_node(self, curr_node, new_key):\n",
    "        '''\n",
    "        This method will insert a node in the binary tree, by recursively trying to insert on the left or right subtree,\n",
    "        depending on whether the key is smaller or larger than the current node.\n",
    "\n",
    "        Returns the node that was inserted.\n",
    "        '''\n",
    "        # if the current node is None, than we found the right place to insert, so create a node for the key\n",
    "        if curr_node is None:\n",
    "            self._size += 1\n",
    "            return AVLTreeNode(new_key)\n",
    "        \n",
    "        # else, if the new key is less than the current key, recursively try to insert on the left\n",
    "        elif new_key < curr_node.key:\n",
    "            curr_node.left = self._insert_node(curr_node.left, new_key)\n",
    "            \n",
    "        # else, if the new key is greater than the current key, recursively try to insert on the right\n",
    "        elif new_key > curr_node.key:\n",
    "            curr_node.right = self._insert_node(curr_node.right, new_key)\n",
    "        # else, we went through both < and > comparisons, so the key is equal to the current key, so do nothing\n",
    "\n",
    "        return self._rebalance_tree(curr_node, new_key)\n",
    "\n",
    "    def _rebalance_tree(self, curr_node, new_key):\n",
    "        # update the height of the current node, based on the height of its children\n",
    "        curr_node.height = 1 + max(self._tree_height(curr_node.left), self._tree_height(curr_node.right))\n",
    "\n",
    "        # calculate the balance factor of the current node\n",
    "        balance = self._balance_factor(curr_node)\n",
    "\n",
    "        # Left-Left case:\n",
    "        # Subtree is left-heavy, and left subtree also left-heavy\n",
    "        if balance > 1 and new_key < curr_node.left.key:\n",
    "            # rotate subtree right\n",
    "            return self._right_rotate(curr_node)\n",
    "            \n",
    "        # Right-Right case:\n",
    "        # Subtree is right-heavy, and right subtree also right-heavy\n",
    "        if balance < -1 and new_key > curr_node.right.key:\n",
    "            # rotate subtree left\n",
    "            return self._left_rotate(curr_node)\n",
    "\n",
    "        # Left-Right case:\n",
    "        # Subtree is left-heavy, and left subtree is right-heavy\n",
    "        if balance > 1 and new_key > root.left.key:\n",
    "            # first rotate the left subtree left\n",
    "            curr_node.left = self._left_rotate(curr_node.left)\n",
    "            # then rotate the entire subtree right\n",
    "            return self._right_rotate(curr_node)\n",
    "\n",
    "        # Right-Left case:\n",
    "        # Subtree is right-heavy, and right subtree is left-heavy\n",
    "        if balance < -1 and new_key < curr_node.right.key:\n",
    "            # first rotate the right subtree right\n",
    "            curr_node.right = self._right_rotate(curr_node.right)\n",
    "            # then rotate the entire subtree left\n",
    "            return self._left_rotate(curr_node)\n",
    "        \n",
    "        # return the updated node\n",
    "        return curr_node\n",
    "\n",
    "    def _tree_height(self, node):\n",
    "        '''\n",
    "        This method will return the height of the sub-tree of a node\n",
    "        '''\n",
    "        # if the node is None, height is zero\n",
    "        if not node:\n",
    "            return 0\n",
    "            \n",
    "        #  return the height attribute in the node\n",
    "        return node.height\n",
    "\n",
    "    def _balance_factor(self, node):\n",
    "        '''\n",
    "        This methos will return the balance factor for a node, by subtract the height of the right subtree from the left\n",
    "        '''\n",
    "        # if the node is None, balance factor is zero\n",
    "        if not node:\n",
    "            return 0\n",
    "\n",
    "        # return result based on the height of left and right subtrees\n",
    "        return self._tree_height(node.left) - self._tree_height(node.right)\n",
    "\n",
    "    def _left_rotate(self, z):\n",
    "        '''\n",
    "        Rotate the AVL subtree to the left. This uses a standard AVL algorithm.\n",
    "        '''\n",
    "        y = z.right\n",
    "        T2 = y.left\n",
    "\n",
    "        y.left = z\n",
    "        z.right = T2\n",
    "\n",
    "        z.height = 1 + max(self._tree_height(z.left), self._tree_height(z.right))\n",
    "        y.height = 1 + max(self._tree_height(y.left), self._tree_height(y.right))\n",
    "\n",
    "        return y\n",
    "\n",
    "    def _right_rotate(self, z):\n",
    "        '''\n",
    "        Rotate the AVL subtree to the right. This uses a standard AVL algorithm.\n",
    "        '''\n",
    "        y = z.left\n",
    "        T3 = y.right\n",
    "\n",
    "        y.right = z\n",
    "        z.left = T3\n",
    "\n",
    "        z.height = 1 + max(self._tree_height(z.left), self._tree_height(z.right))\n",
    "        y.height = 1 + max(self._tree_height(y.left), self._tree_height(y.right))\n",
    "\n",
    "        return y\n",
    "\n",
    "    def size(self):\n",
    "        '''\n",
    "        Returns the size of the tree (numbet of nodes). Size is being maintained as we insert new nodes,\n",
    "        otherwise we would have to traverse the whole tree to count.\n",
    "        '''\n",
    "        return self._size\n",
    "\n",
    "    def _traverse_tree(self, node, result):\n",
    "        '''\n",
    "        This method will recursively traverse a tree in order from lowest to highest, starting from the input node\n",
    "        '''\n",
    "\n",
    "        # if the node is not None\n",
    "        if node:\n",
    "            # recursively traverse the left sub-tree first, since we want to traverse from smallest to largest\n",
    "            self._traverse_tree(node.left, result)\n",
    "\n",
    "            # now append current node to result list\n",
    "            result.append(node.key)\n",
    "\n",
    "            # recursively traverse the right sub-tree for the larger items\n",
    "            self._traverse_tree(node.right, result)\n",
    "\n",
    "    def traverse(self):\n",
    "        '''\n",
    "        Returns a list of the tree's data, in order from smallest to largest\n",
    "        '''\n",
    "\n",
    "        # kick off a recursive traversal of the tree, starting at the root\n",
    "        result = []\n",
    "        self._traverse_tree(self.root, result)\n",
    "        return result\n",
    "    \n",
    "    def _search(self, curr_node, search_key):\n",
    "        '''\n",
    "        Search for a value in the binary search tree, by recursively looking for it on the left and right subtree,\n",
    "        depending on whether the value is smaller or larger than the current node.\n",
    "        '''\n",
    "        # if the current node is None, then the value is not in the tree\n",
    "        if (curr_node is None):\n",
    "            return False\n",
    "\n",
    "        # if the current node value is the same as the search value, return True\n",
    "        elif (curr_node.key == search_key):\n",
    "            return True\n",
    "\n",
    "        # else, if the search value is larger, then try to find on the right\n",
    "        elif (search_key > curr_node.key):\n",
    "            return self._search(curr_node.right, search_key)\n",
    "\n",
    "        # else the search value is smaller, so try to find on the left\n",
    "        else:\n",
    "            return self._search(curr_node.left, search_key)\n",
    "\n",
    "    def search(self, search_key):\n",
    "        '''\n",
    "        Search for a value in the binary search tree.\n",
    "        This will trigger a recursive lookup, starting at the root of the tree.\n",
    "        '''\n",
    "        return self._search(self.root, search_key)\n",
    "        \n",
    "    def _to_str(self, curr_node, level):\n",
    "        '''\n",
    "        Recursive function that will print elements of a tree, indenting to the right based on level\n",
    "        '''\n",
    "        # initialize return string\n",
    "        curr_str = \"\"\n",
    "        edge_indicator = \"\"\n",
    "        \n",
    "        # if the current node is not None ...\n",
    "        if curr_node:\n",
    "            # set an indicator to help visualize which children nodes\n",
    "            if (curr_node.left and curr_node.right):\n",
    "                edge_indicator = \"<\"\n",
    "            elif (curr_node.left):\n",
    "                edge_indicator = \"\\\\\"\n",
    "            elif (curr_node.right):\n",
    "                edge_indicator = \"/\"\n",
    "            else:\n",
    "                edge_indicator = \"\"\n",
    "                \n",
    "            # recusively add the right sub-tree, incresing the level (indentation)\n",
    "            curr_str += self._to_str(curr_node.right, level + 1) \n",
    "\n",
    "            # add the data in this node (including the balance factor)\n",
    "            curr_str += \"          \" * level\n",
    "            curr_str += str(curr_node.key) + \"(\" + str(self._balance_factor(curr_node)) + \")\" + edge_indicator + \"\\n\"\n",
    "\n",
    "            # recusively add the left sub-tree, incresing the level (indentation)\n",
    "            curr_str += self._to_str(curr_node.left, level + 1)\n",
    "\n",
    "        # return string for this node/sub-tree\n",
    "        return curr_str               \n",
    "\n",
    "    def __str__(self):\n",
    "        '''\n",
    "        Call internal method that will recursively print all nodes, starting with the root\n",
    "        '''\n",
    "        # starting add the root, generate string recursively\n",
    "        return self._to_str(self.root, 0)"
   ]
  },
  {
   "cell_type": "markdown",
   "id": "c8a3eea7-0791-4d58-a254-1957906e6cdb",
   "metadata": {},
   "source": [
    "#### Quick Test"
   ]
  },
  {
   "cell_type": "code",
   "execution_count": null,
   "id": "7eb4fbee-ee16-4a51-a193-e426959ad66c",
   "metadata": {},
   "outputs": [],
   "source": [
    "# create a new binary tree\n",
    "test_tree= AVLTree()\n",
    "\n",
    "# add data to the tree\n",
    "test_tree.insert(7)\n",
    "test_tree.insert(4)\n",
    "test_tree.insert(9)\n",
    "test_tree.insert(2)\n",
    "test_tree.insert(5)\n",
    "test_tree.insert(3)\n",
    "\n",
    "print(f\"My tree has {test_tree.size()} nodes, and it looks a little like this:\\n\")\n",
    "print(test_tree)"
   ]
  },
  {
   "cell_type": "markdown",
   "id": "66840999-c513-4287-bba8-012d6eb6013e",
   "metadata": {
    "editable": true,
    "slideshow": {
     "slide_type": ""
    },
    "tags": []
   },
   "source": [
    "### Compare side by side with Binary Search Tree\n",
    "Let's now run a **test side by side**, inserting the **same values** into our **regular BinarySearchTree** (the same class we tested earlier), **and** the **new AVLTree.**"
   ]
  },
  {
   "cell_type": "markdown",
   "id": "db32a120-6906-481c-813b-32a79fceca52",
   "metadata": {},
   "source": [
    "#### Create two new trees"
   ]
  },
  {
   "cell_type": "code",
   "execution_count": null,
   "id": "c4782856-81cf-49f7-be2a-ddc3b5b707be",
   "metadata": {},
   "outputs": [],
   "source": [
    "bst_tree = BinarySearchTree()\n",
    "avl_tree = AVLTree()"
   ]
  },
  {
   "cell_type": "markdown",
   "id": "b4ec3170-129d-407b-a4b2-919008eb6343",
   "metadata": {},
   "source": [
    "#### Insert a few items in both"
   ]
  },
  {
   "cell_type": "code",
   "execution_count": null,
   "id": "8646909d-6ef1-4735-ae14-670b8216e0f3",
   "metadata": {},
   "outputs": [],
   "source": [
    "# insert into BST\n",
    "bst_tree.insert(50)\n",
    "bst_tree.insert(25)\n",
    "bst_tree.insert(75)\n",
    "\n",
    "#insert into AVL\n",
    "avl_tree.insert(50)\n",
    "avl_tree.insert(25)\n",
    "avl_tree.insert(75)"
   ]
  },
  {
   "cell_type": "markdown",
   "id": "30825a7e-e0e1-427f-98df-1d257e60b549",
   "metadata": {},
   "source": [
    "#### Verify both trees"
   ]
  },
  {
   "cell_type": "code",
   "execution_count": null,
   "id": "0bc0e847-c137-4653-81b0-4f91c32b1059",
   "metadata": {},
   "outputs": [],
   "source": [
    "print(f\"------------ Binary Search Tree ------------\\n{bst_tree}\\n\")\n",
    "print(f\"----------------- AVL Tree ----------------\\n{avl_tree}\\n\")"
   ]
  },
  {
   "cell_type": "markdown",
   "id": "ff8c2dcb-e7df-45f5-84b5-7872bfed544b",
   "metadata": {},
   "source": [
    "Not surprisingly, for just a few items, the trees look the same. Now let's **add** a few more **items that** it would **cause** an **imbalance**. "
   ]
  },
  {
   "cell_type": "markdown",
   "id": "f1b7aaee-8a52-4055-b66c-d1a9c21e0eaf",
   "metadata": {},
   "source": [
    "#### Insert items that will cause imbalance"
   ]
  },
  {
   "cell_type": "code",
   "execution_count": null,
   "id": "3dd9b8ea-9356-4b5a-801a-f0872c049207",
   "metadata": {},
   "outputs": [],
   "source": [
    "# insert into BST\n",
    "bst_tree.insert(100)\n",
    "bst_tree.insert(125)\n",
    "\n",
    "#insert into AVL\n",
    "avl_tree.insert(100)\n",
    "avl_tree.insert(125)"
   ]
  },
  {
   "cell_type": "markdown",
   "id": "b818cae2-5dec-4b7e-a148-5e469885ef69",
   "metadata": {},
   "source": [
    "#### Verify both trees"
   ]
  },
  {
   "cell_type": "code",
   "execution_count": null,
   "id": "5ff96c33-a161-42d2-85a3-8feeb9f59fb7",
   "metadata": {},
   "outputs": [],
   "source": [
    "print(f\"------------ Binary Search Tree ------------\\n{bst_tree}\\n\")\n",
    "print(f\"----------------- AVL Tree ----------------\\n{avl_tree}\\n\")"
   ]
  },
  {
   "cell_type": "markdown",
   "id": "6a16be87-5d2a-4ffd-90ea-61ea79a7b836",
   "metadata": {},
   "source": [
    "Noticed how the **AVL tree readjusted**?"
   ]
  },
  {
   "cell_type": "markdown",
   "id": "762b8b1f-9768-46e8-a692-8274e6d41119",
   "metadata": {},
   "source": [
    "#### One final test to really push the envelope"
   ]
  },
  {
   "cell_type": "code",
   "execution_count": null,
   "id": "d70eb3d2-d648-41e4-8377-cc5f7c72cd4a",
   "metadata": {},
   "outputs": [],
   "source": [
    "# insert into BST\n",
    "bst_tree.insert(157)\n",
    "bst_tree.insert(178)\n",
    "bst_tree.insert(12)\n",
    "bst_tree.insert(29)\n",
    "bst_tree.insert(5)\n",
    "bst_tree.insert(-13)\n",
    "bst_tree.insert(153)\n",
    "bst_tree.insert(202)\n",
    "bst_tree.insert(198)\n",
    "bst_tree.insert(145)\n",
    "\n",
    "#insert into AVL\n",
    "avl_tree.insert(157)\n",
    "avl_tree.insert(178)\n",
    "avl_tree.insert(12)\n",
    "avl_tree.insert(29)\n",
    "avl_tree.insert(5)\n",
    "avl_tree.insert(-13)\n",
    "avl_tree.insert(153)\n",
    "avl_tree.insert(202)\n",
    "avl_tree.insert(198)\n",
    "bst_tree.insert(145)"
   ]
  },
  {
   "cell_type": "markdown",
   "id": "9c376a81-dc50-4f54-9cf6-70f83ba425ca",
   "metadata": {},
   "source": [
    "#### Verify both trees"
   ]
  },
  {
   "cell_type": "code",
   "execution_count": null,
   "id": "750a2a39-9aca-4f37-9de6-1663f3892f31",
   "metadata": {},
   "outputs": [],
   "source": [
    "print(f\"------------ Binary Search Tree ------------\\n{bst_tree}\\n\")\n",
    "print(f\"----------------- AVL Tree ----------------\\n{avl_tree}\\n\")"
   ]
  },
  {
   "cell_type": "markdown",
   "id": "710ec854-a6af-42f8-aab6-e8b73a259af1",
   "metadata": {
    "editable": true,
    "slideshow": {
     "slide_type": ""
    },
    "tags": []
   },
   "source": [
    "I rest my case :-)"
   ]
  },
  {
   "cell_type": "markdown",
   "id": "c3d509b7-b291-427b-9099-30c259fe9859",
   "metadata": {},
   "source": [
    "#### What about the AVL Tree performance?\n",
    "I won't bother re-running the same search performance tests, because if you compare the **search code** for the ***BinarySearchTree*** **class** and the ***AVLTree*** **class**, they are **exactly the same**. They were copy/pasted. **So** the ***AVLTree*** will **certainly not perform** any **worse**. In fact, **if** the ***BinarySearchTree*** is **greatly imbalanced**, we **expect** the ***ABLTree*** will **perform better**. That's why it exists."
   ]
  },
  {
   "cell_type": "code",
   "execution_count": null,
   "id": "b222071e-936e-43aa-87be-13a18d7ee733",
   "metadata": {
    "editable": true,
    "slideshow": {
     "slide_type": ""
    },
    "tags": []
   },
   "outputs": [],
   "source": []
  }
 ],
 "metadata": {
  "kernelspec": {
   "display_name": "Python 3 (ipykernel)",
   "language": "python",
   "name": "python3"
  },
  "language_info": {
   "codemirror_mode": {
    "name": "ipython",
    "version": 3
   },
   "file_extension": ".py",
   "mimetype": "text/x-python",
   "name": "python",
   "nbconvert_exporter": "python",
   "pygments_lexer": "ipython3",
   "version": "3.9.2"
  }
 },
 "nbformat": 4,
 "nbformat_minor": 5
}
