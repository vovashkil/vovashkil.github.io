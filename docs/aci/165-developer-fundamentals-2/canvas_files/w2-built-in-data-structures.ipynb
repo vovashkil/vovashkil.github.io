{
 "cells": [
  {
   "cell_type": "markdown",
   "id": "ff33f897-c29d-4e0b-b37d-b22ff975e44a",
   "metadata": {},
   "source": [
    "# <span style=\"color:blue\">Python Built-in Data Structures\n",
    "AWS CLOUD INSTITUTE: PROVIDED FOR EDUCATIONAL INSTRUCTIONAL PURPOSES ONLY."
   ]
  },
  {
   "cell_type": "markdown",
   "id": "abd07494-e2aa-4b2f-b341-3465effe096e",
   "metadata": {},
   "source": [
    "# Lists\n",
    "Lists are a **versatile ordered collections of objects** with the following key chracteristics:\n",
    "- They are **mutable** in that they can be changed after creation. For example, lists can start empty but can grow and shrink later.\n",
    "- They are **ordered** and **indexed in sequence starting with zero**\n",
    "- They support **fast access by index**.\n",
    "- Lists can consist of **mixed-value types**.\n",
    "- Lists **can include duplicate values**.\n",
    "- Lists are **created using brackets \\[\\]**\n",
    "\n",
    "We'll **cover** some of the **basic operations here**. **For** a **full definition** of the list class, you can **refer to** the **[official list class documentation](https://docs.python.org/3/tutorial/datastructures.html).**"
   ]
  },
  {
   "cell_type": "markdown",
   "id": "27ce2b85-659b-4e7e-bdb5-bde9d4cdf4cf",
   "metadata": {},
   "source": [
    "## Creating a list"
   ]
  },
  {
   "cell_type": "code",
   "execution_count": null,
   "id": "c3e76cc5-6d90-4dc0-9394-197868427d9a",
   "metadata": {
    "tags": []
   },
   "outputs": [],
   "source": [
    "# Creating a list of string\n",
    "pets = [\"Tucker\", \"Moose\", \"Finn\"]\n",
    "print(pets)"
   ]
  },
  {
   "cell_type": "code",
   "execution_count": null,
   "id": "cd619938",
   "metadata": {
    "tags": []
   },
   "outputs": [],
   "source": [
    "# Creating a list of integerrs\n",
    "brazil_wc = [1958, 1962, 1970, 1994]\n",
    "print(brazil_wc)"
   ]
  },
  {
   "cell_type": "code",
   "execution_count": null,
   "id": "e999da1a-9705-49f6-854f-a468d07034e6",
   "metadata": {
    "tags": []
   },
   "outputs": [],
   "source": [
    "# Creating a list of floats\n",
    "we_all_float_here = [3.1416, 0.3, 1.75, 5.674]\n",
    "print(we_all_float_here)"
   ]
  },
  {
   "cell_type": "code",
   "execution_count": null,
   "id": "30b9ec6c-f621-4393-ba71-1bc82533a42d",
   "metadata": {},
   "outputs": [],
   "source": [
    "# creating a list of mixed integers and strings\n",
    "superbowls_90 = [1990, \"San Francisco\", 1991, \"New York Giants\", 1992, \"Washington\", 1993, \"Dallas Cowboys\", 1994, \"Dallas Cowboys\",\n",
    "                 1995, \"San Francisco\", 1996, \"Dallas Cowboys\", 1997, \"Green Bay Packers\", 1998, \"Denver Broncos\", 1999, \"Denver Broncos\"]\n",
    "print(superbowls_90)"
   ]
  },
  {
   "cell_type": "markdown",
   "id": "ea621de1-9367-43f8-be76-b1b6a9a8a936",
   "metadata": {},
   "source": [
    "You **can also** simply **create an empty list** to initialize the variable, and then  **add elements later**."
   ]
  },
  {
   "cell_type": "code",
   "execution_count": null,
   "id": "945d3e6c-3448-4fc2-9ab7-7f6cd36d986d",
   "metadata": {
    "tags": []
   },
   "outputs": [],
   "source": [
    "# Creating an empty list\n",
    "empty_list = []\n",
    "print(empty_list)"
   ]
  },
  {
   "cell_type": "markdown",
   "id": "24e87a11-81ca-4067-a5a2-b5f69bfa7610",
   "metadata": {},
   "source": [
    "## Operations\n",
    "This is a sample of some of the common operations. It is not a complete list"
   ]
  },
  {
   "cell_type": "markdown",
   "id": "4a0cab62-7c04-42c9-ba63-e8b655db3be0",
   "metadata": {},
   "source": [
    "### Access list items\n",
    "You can **access** list **items by** their **index**, which **start at 0**."
   ]
  },
  {
   "cell_type": "code",
   "execution_count": null,
   "id": "20d703a4-1f07-40bc-8cdc-94cecc91a1e2",
   "metadata": {},
   "outputs": [],
   "source": [
    "# get the second pet\n",
    "print(pets[1])"
   ]
  },
  {
   "cell_type": "code",
   "execution_count": null,
   "id": "1b91cada-267d-4ef3-8149-9377a1ef3573",
   "metadata": {},
   "outputs": [],
   "source": [
    "# print first world cup year\n",
    "print(brazil_wc[0])"
   ]
  },
  {
   "cell_type": "code",
   "execution_count": null,
   "id": "d69e715f-76d9-488d-9bd0-42b35c983ed7",
   "metadata": {},
   "outputs": [],
   "source": [
    "# accessing with an index out of range will generater an error\n",
    "try:\n",
    "    print(we_all_float_here[10])\n",
    "# catch and print exception\n",
    "except Exception as e:\n",
    "    print(f\"<<ERROR>> {e}\")"
   ]
  },
  {
   "cell_type": "markdown",
   "id": "638d3fd6-0101-4d8c-b7f4-608e6ef1c68e",
   "metadata": {},
   "source": [
    "### Update list items\n",
    "You can also **update** list **items by** their **index**."
   ]
  },
  {
   "cell_type": "code",
   "execution_count": null,
   "id": "83965008-383a-490b-adbf-b2a186ca1cbf",
   "metadata": {},
   "outputs": [],
   "source": [
    "print(f\"List before: {pets}\")\n",
    "\n",
    "# update the 3rd pet (index 2)\n",
    "pets[2] = \"Lexi\"\n",
    "\n",
    "print(f\"List  after: {pets}\")"
   ]
  },
  {
   "cell_type": "markdown",
   "id": "c1f49e8f-055f-4d49-b41a-27d4852f3939",
   "metadata": {},
   "source": [
    "### List length"
   ]
  },
  {
   "cell_type": "code",
   "execution_count": null,
   "id": "4028ca71-9525-40a1-80b3-d9ed43c77893",
   "metadata": {},
   "outputs": [],
   "source": [
    "# To find the length of a list, use the `len()` function.\n",
    "print(len(pets))\n",
    "print(len(brazil_wc))\n",
    "print(len(we_all_float_here))\n",
    "print(len(superbowls_90))"
   ]
  },
  {
   "cell_type": "markdown",
   "id": "ff4ca2d2-5db4-4737-959f-9aa69118c3db",
   "metadata": {},
   "source": [
    "### Adding elements"
   ]
  },
  {
   "cell_type": "markdown",
   "id": "2651b02a-4eb7-47fc-902f-490161e9716e",
   "metadata": {},
   "source": [
    "#### append()\n",
    "append() **adds** an **element** to the **end of the list**."
   ]
  },
  {
   "cell_type": "code",
   "execution_count": null,
   "id": "c061cd63-d4bb-4d5e-9d00-0d15bd5eab18",
   "metadata": {},
   "outputs": [],
   "source": [
    "print(f\"List before: {brazil_wc}\")\n",
    "\n",
    "# add one more world cup for Brazil\n",
    "brazil_wc.append(2002)\n",
    "\n",
    "print(f\"List  after: {brazil_wc}\")"
   ]
  },
  {
   "cell_type": "markdown",
   "id": "08511c89-8b03-42ca-adea-519b25f9e0db",
   "metadata": {},
   "source": [
    "#### insert()\n",
    "insert() **adds** an **element** to a **specified position**."
   ]
  },
  {
   "cell_type": "markdown",
   "id": "9d4a8d4b-726d-449f-b3e0-658cff9dbb9b",
   "metadata": {},
   "source": [
    "##### Insert in the beginning"
   ]
  },
  {
   "cell_type": "code",
   "execution_count": null,
   "id": "f89d088c-c372-4144-9c99-ee1eb0cc7c15",
   "metadata": {},
   "outputs": [],
   "source": [
    "print(f\"List before: {pets}\")\n",
    "\n",
    "# add my first dog at the beginning\n",
    "pets.insert(0, \"Rebecca\")\n",
    "\n",
    "print(f\"List  after: {pets}\")"
   ]
  },
  {
   "cell_type": "markdown",
   "id": "d2580be8-0f91-49e0-bcba-8fa4f438063f",
   "metadata": {},
   "source": [
    "##### Insert at specific location"
   ]
  },
  {
   "cell_type": "code",
   "execution_count": null,
   "id": "4a8d7538-00d3-4221-a8de-dd921506bdf1",
   "metadata": {},
   "outputs": [],
   "source": [
    "print(f\"List before: {we_all_float_here}\")\n",
    "\n",
    "# add my a float in the 3rd position (3rd position has index 2)\n",
    "we_all_float_here.insert(2, 1.85)\n",
    "\n",
    "print(f\"List  after: {we_all_float_here}\")"
   ]
  },
  {
   "cell_type": "markdown",
   "id": "f588b26e-fb71-45c3-bc43-2fb36cb3353d",
   "metadata": {},
   "source": [
    "### Removing elements"
   ]
  },
  {
   "cell_type": "markdown",
   "id": "62f2104f-fffb-48fb-b3d4-6a03eb73ccc0",
   "metadata": {},
   "source": [
    "#### remove()\n",
    "***remove(\\<item\\>)* removes** the **specified item from** the **list**. If the item appears more than once, the first occurance is removed."
   ]
  },
  {
   "cell_type": "code",
   "execution_count": null,
   "id": "a629abb9-e514-49b5-a621-f7a484e5632d",
   "metadata": {},
   "outputs": [],
   "source": [
    "print(f\"List before: {superbowls_90}\")\n",
    "\n",
    "# Remove the first instance of San Francisco from the list (because the actual season was still in the 80s)\n",
    "# Remove the year 1990 as well, so we don't end up with a stranded year\n",
    "superbowls_90.remove(\"San Francisco\")\n",
    "superbowls_90.remove(1990)\n",
    "\n",
    "print(f\"\\nList  after: {superbowls_90}\")"
   ]
  },
  {
   "cell_type": "markdown",
   "id": "2a7e608a-57d3-4850-9a7d-5b82802737cc",
   "metadata": {},
   "source": [
    "#### pop()\n",
    "***pop(\\<index\\>)* removes and returns** the **item in the index position** provided. **If** the **no index is passed**, the **last element** is **removed and returned**."
   ]
  },
  {
   "cell_type": "markdown",
   "id": "f737a64a-11ae-4b6f-b53d-be6f74faaebf",
   "metadata": {},
   "source": [
    "##### Pop the last element"
   ]
  },
  {
   "cell_type": "code",
   "execution_count": null,
   "id": "97bc8571-73b4-4ed3-be9e-6469aadb73e8",
   "metadata": {},
   "outputs": [],
   "source": [
    "print(f\"List before: {pets}\")\n",
    "\n",
    "# pop the last element\n",
    "last_pet = pets.pop()\n",
    "print(f\"Removed pet: {last_pet}\")\n",
    "\n",
    "print(f\"List  after: {pets}\")"
   ]
  },
  {
   "cell_type": "markdown",
   "id": "f75c9f26-5463-4c43-938e-29b237701bcd",
   "metadata": {},
   "source": [
    "##### Pop first element"
   ]
  },
  {
   "cell_type": "code",
   "execution_count": null,
   "id": "819ca85a-0792-4b4a-848e-2e99f2662887",
   "metadata": {},
   "outputs": [],
   "source": [
    "print(f\"List before: {brazil_wc}\\n\")\n",
    "\n",
    "# pop the first element by passing index of 0\n",
    "first_brazil_wc = brazil_wc.pop(0)\n",
    "print(f\"Removed Brazil's first world cup: {first_brazil_wc}\")\n",
    "print(\"Brazil defeated Sweden, the home team, by a score of 5 x 2. The legendary Pelé, when he was just 17, scored two goals.\\n\")\n",
    "\n",
    "print(f\"List  after: {brazil_wc}\")"
   ]
  },
  {
   "cell_type": "markdown",
   "id": "d5f2665d-ed63-4b2d-9ba2-85c5bf770aab",
   "metadata": {},
   "source": [
    "### Iterating"
   ]
  },
  {
   "cell_type": "markdown",
   "id": "6ef1472f-90f5-4e91-95f7-5af77c4ca6ec",
   "metadata": {},
   "source": [
    "#### Iterating using indexes\n",
    "Because index based access is very fast, you can iterate with a simple loop"
   ]
  },
  {
   "cell_type": "code",
   "execution_count": null,
   "id": "8b6a825d-22a5-4e3e-98d2-11d5ef0cdb3c",
   "metadata": {},
   "outputs": [],
   "source": [
    "# Iterate through each pet using the index\n",
    "print(\"Iterating through each pet using the index:\")\n",
    "for i in range(len(pets)):\n",
    "    print(f\"- {pets[i]}\")"
   ]
  },
  {
   "cell_type": "markdown",
   "id": "c8e3dd44-f9b4-488f-a0db-acab7a6e5d70",
   "metadata": {},
   "source": [
    "#### Iterating using Python iterators\n",
    "Python has a common iteration mechanism that works for most collections."
   ]
  },
  {
   "cell_type": "code",
   "execution_count": null,
   "id": "29dc0295-f806-4663-9e3e-bb4b598d89b5",
   "metadata": {},
   "outputs": [],
   "source": [
    "# Iterate through each pet using an iterator\n",
    "print(\"\\nIterating through each pet using an iterator:\")\n",
    "for pet in pets:\n",
    "    print(f\"- {pet}\")"
   ]
  },
  {
   "cell_type": "markdown",
   "id": "1269729a-8994-416d-951f-8e50f00783d1",
   "metadata": {},
   "source": [
    "# Dictionaries\n",
    "Dictionaries are **collections of key value pairs**. Some of the key characteristics are:\n",
    "- They are **mutable** in that they can be changed after creation.\n",
    "- They are **ordered and indexed by a specified key**\n",
    "- They support **fast access by key**.\n",
    "- The keys **can be of multiple types** (strings and integers are common) and the **value** associated with the key **can be of any type**.\n",
    "- **Duplicates** are **not allowed**.\n",
    "- Dictionaries are **created using braces \\{ \\}**\n",
    "\n",
    "We'll **cover** some of the **basic operations here**. **For** a **full definition** of the list class, you can **refer to** the **[official dictionary class documentation](https://docs.python.org/3/tutorial/datastructures.html#dictionaries).**"
   ]
  },
  {
   "cell_type": "markdown",
   "id": "a1ec85b3-4ce4-4243-a441-383395976d05",
   "metadata": {},
   "source": [
    "## Creating a Dictionary"
   ]
  },
  {
   "cell_type": "markdown",
   "id": "2b8fe928-aafe-488c-883a-c1f514dcdc77",
   "metadata": {},
   "source": [
    "### Simple mapping examples"
   ]
  },
  {
   "cell_type": "code",
   "execution_count": null,
   "id": "5db77114-5bbe-49d2-9777-813eb16f9487",
   "metadata": {
    "tags": []
   },
   "outputs": [],
   "source": [
    "# Creating a dictionary to map the age of each pet\n",
    "pet_ages = {\"Tucker\": 5,\"Moose\": 4, \"Finn\": 9}\n",
    "print(pet_ages)"
   ]
  },
  {
   "cell_type": "code",
   "execution_count": null,
   "id": "6245d10b-f0db-438f-9d91-65596ec1dda7",
   "metadata": {
    "tags": []
   },
   "outputs": [],
   "source": [
    "# creating a dictionary to map the winners of the last 10 baseball world series\n",
    "ws_winners = {2023: \"Texas Rangers\", \n",
    "              2022:\t\"Houston Astros\",\n",
    "              2021:\t\"Atlanta Braves\",\n",
    "              2020:\t\"Los Angeles Dodgers\",\n",
    "              2019:\t\"Washington Nationals\",\n",
    "              2018:\t\"Boston Red Sox\",\n",
    "              2017:\t\"Houston Astros\",\n",
    "              2016:\t\"Chicago Cubs\",\n",
    "              2015:\t\"Kansas City Royals\",\n",
    "              2014:\t\"San Francisco Giants\"}\n",
    "print(ws_winners)\n"
   ]
  },
  {
   "cell_type": "markdown",
   "id": "4365d8c9-d6ca-4c3c-a35b-c9da1ab4597b",
   "metadata": {},
   "source": [
    "### More complex examples"
   ]
  },
  {
   "cell_type": "markdown",
   "id": "e5f655c2-f336-47ee-a1f6-3189b169d7e2",
   "metadata": {},
   "source": [
    "A **dictionary value can be** a **complex type** like a list, a dictionary, or a custom object."
   ]
  },
  {
   "cell_type": "code",
   "execution_count": null,
   "id": "151a2a5f-b612-4040-8cd8-d15196c1865e",
   "metadata": {
    "tags": []
   },
   "outputs": [],
   "source": [
    "# store data for the lst of drivers for a few Formula 1 teams\n",
    "f1_team_drivers = {\"Ferrari\": [\"Charles Leclerc\", \"Carlos Sainz Jr\", \"Oliver Bearman\"],\n",
    "                   \"Mercedes\": [\"Lewis Hamilton\",\"George Russell\"],\n",
    "                   \"Red Bull\": [\"Max Verstappen\", \"Sergio Perez\"],\n",
    "                   \"McLaren\": [\"Lando Norris\", \"Oscar Piastri\"],\n",
    "                   \"Williams\": [\"Alexander Albon\", \"Logan Sargeant\", \"Franco Colapinto\"]}\n",
    "print(f1_team_drivers)"
   ]
  },
  {
   "cell_type": "markdown",
   "id": "3613ea89-ce3e-43de-a565-36261efa1093",
   "metadata": {},
   "source": [
    "\\\n",
    "A **dictionary can store all** the **attributes for an object**, including those of **different types**."
   ]
  },
  {
   "cell_type": "code",
   "execution_count": null,
   "id": "c0542f8f-6f37-49bd-b177-ea74a30d4f2b",
   "metadata": {
    "tags": []
   },
   "outputs": [],
   "source": [
    "# store data for one basketball player in a dictionary\n",
    "bb_player = {\"name\": \"Lebron James\",\n",
    "             \"team\": \"Los Angeles Lakers\",\n",
    "             \"number\": 23,\n",
    "             \"position\": \"SF\",\n",
    "             \"height\": 6.9,\n",
    "             \"weight\": 250,\n",
    "             \"previous_teams\": [\"Cleveland Cavaliers\", \"Miami Heat\", \"Los Angeles Lakers\"]}\n",
    "print(bb_player)"
   ]
  },
  {
   "cell_type": "markdown",
   "id": "b7201ba4-13cf-4f82-b516-971a7e4bf5d7",
   "metadata": {},
   "source": [
    "\\\n",
    "You **can also** simply **create an empty dictionary** to initialize the variable, and then  **add elements later**."
   ]
  },
  {
   "cell_type": "code",
   "execution_count": null,
   "id": "94c7268f-b338-43c3-ab5b-21b318fdc3fb",
   "metadata": {
    "tags": []
   },
   "outputs": [],
   "source": [
    "# Creating an empty dictionary\n",
    "empty_dict = {}\n",
    "print(empty_dict)"
   ]
  },
  {
   "cell_type": "markdown",
   "id": "c2dfb77a-ea1d-4518-af94-388dc9cf490f",
   "metadata": {},
   "source": [
    "## Operations\n",
    "This is a sample of some of the common operations. It is not a complete list"
   ]
  },
  {
   "cell_type": "markdown",
   "id": "bf6a4fb8-7d9f-42ae-82b9-b5eea669deea",
   "metadata": {},
   "source": [
    "### Access dictionary items"
   ]
  },
  {
   "cell_type": "markdown",
   "id": "7dc90592-f0df-443d-953a-8cc159fa4254",
   "metadata": {},
   "source": [
    "#### Get an item by key\n",
    "You can **access** dictionary **items by** indexing on their **key**. In fact, the **ability to efficently retrieve** an **item based on a key**, is one of the **primary advantages of a dictionary**."
   ]
  },
  {
   "cell_type": "code",
   "execution_count": null,
   "id": "468dcece-21c1-43fc-a00e-e2d3e66681ae",
   "metadata": {},
   "outputs": [],
   "source": [
    "# print the age for Tucker\n",
    "print(f\"Tucker's age: {pet_ages['Tucker']}\")"
   ]
  },
  {
   "cell_type": "code",
   "execution_count": null,
   "id": "c5fc74d4-a0e4-4c7d-a48b-3062525b7944",
   "metadata": {},
   "outputs": [],
   "source": [
    "# print basketball player name and previous teams\n",
    "print(f\"{bb_player['name']} has previously played for {bb_player['previous_teams']}\")"
   ]
  },
  {
   "cell_type": "markdown",
   "id": "29b48e79-c733-41a7-abe3-4d51aac0345e",
   "metadata": {},
   "source": [
    "#### Get dictionary keys and values\n",
    "You can **access** **dictionary keys and values separately**"
   ]
  },
  {
   "cell_type": "code",
   "execution_count": null,
   "id": "b8a0a20a-dcac-4889-8512-e190decc48b5",
   "metadata": {},
   "outputs": [],
   "source": [
    "# recall the world series dictionary\n",
    "print(ws_winners)"
   ]
  },
  {
   "cell_type": "markdown",
   "id": "c7ea7eb4-938f-48ec-8432-9ae8fe88a3b9",
   "metadata": {},
   "source": [
    "##### Get dictionary keys"
   ]
  },
  {
   "cell_type": "code",
   "execution_count": null,
   "id": "7cb3e410-e4c2-4444-be83-c8049a4c70f9",
   "metadata": {},
   "outputs": [],
   "source": [
    "# print the world series years\n",
    "print(ws_winners.keys())"
   ]
  },
  {
   "cell_type": "markdown",
   "id": "c7eda617-d1e1-4812-829c-3fb55cfa06a6",
   "metadata": {},
   "source": [
    "##### Get dictionary values"
   ]
  },
  {
   "cell_type": "code",
   "execution_count": null,
   "id": "e1ed3017-1974-498b-88e0-2342734ae808",
   "metadata": {},
   "outputs": [],
   "source": [
    "# print the world series winners\n",
    "print(ws_winners.values())"
   ]
  },
  {
   "cell_type": "markdown",
   "id": "0a51e9b8-4bb4-4d66-94da-ab2065a8e660",
   "metadata": {},
   "source": [
    "### Update dictionary items\n",
    "You can also **update** dictionary **items by** using their **key**."
   ]
  },
  {
   "cell_type": "code",
   "execution_count": null,
   "id": "f39da65d-a33d-4ef7-abcc-5f7c7cb3acc6",
   "metadata": {},
   "outputs": [],
   "source": [
    "print(f\"Dictionary before: {pet_ages}\")\n",
    "\n",
    "# update Finn's age to 8\n",
    "pet_ages[\"Finn\"] = 8\n",
    "\n",
    "print(f\"Dictionary  after: {pet_ages}\")"
   ]
  },
  {
   "cell_type": "code",
   "execution_count": null,
   "id": "16098ce6-4721-48f3-9407-8e8a9acbad83",
   "metadata": {},
   "outputs": [],
   "source": [
    "print(f\"Dictionary before: {f1_team_drivers}\")\n",
    "\n",
    "# update the Ferrari and Mercedes drivers with expected 2025 changes\n",
    "f1_team_drivers[\"Mercedes\"] = [\"George Russell\", \"Andrea Kimi Antonelli\"]\n",
    "f1_team_drivers[\"Ferrari\"] = [\"Charles Leclerc\",\"Lewis Hamilton\"]\n",
    "\n",
    "print(f\"\\nDictionary  after: {f1_team_drivers}\")"
   ]
  },
  {
   "cell_type": "markdown",
   "id": "5870eb95-f894-428b-83ec-15254ad05f53",
   "metadata": {},
   "source": [
    "### Dictionary length\n",
    "The **length of a dictionary** returned by the len() function, is the **number of keys**."
   ]
  },
  {
   "cell_type": "code",
   "execution_count": null,
   "id": "1e706b0f-3606-4cd9-9269-67f1f61fcbc2",
   "metadata": {},
   "outputs": [],
   "source": [
    "# To find the length of a dictionary, use the `len()` function.\n",
    "print(len(pet_ages))\n",
    "print(len(ws_winners))\n",
    "print(len(f1_team_drivers))\n",
    "print(len(bb_player))"
   ]
  },
  {
   "cell_type": "markdown",
   "id": "76415658-df5a-4413-93fb-c87d2e47fbc6",
   "metadata": {},
   "source": [
    "### Adding elements\n",
    "**Adding** an **element to** a **dictionary** is **as simple as assigning a value to a key**. **If** the **key** is **not in the dictionary** yet, the **key and associated value** it will be **added**. **If it is**, it will **update the value**."
   ]
  },
  {
   "cell_type": "code",
   "execution_count": null,
   "id": "6f465623-31ef-432d-bf7d-14e5abbb5182",
   "metadata": {},
   "outputs": [],
   "source": [
    "print(f\"Dictionary before: {ws_winners}\")\n",
    "\n",
    "# add another world series winner\n",
    "ws_winners[2013] = \"Boston Red Sox\"\n",
    "\n",
    "print(f\"\\nDictionary  after: {ws_winners}\")"
   ]
  },
  {
   "cell_type": "markdown",
   "id": "8aac8ddb-fa5a-47da-a562-6f79e389da06",
   "metadata": {},
   "source": [
    "### Updating elements\n",
    "As mentioned above, **updating is just like adding**. **If** the **key** is **in the dictionary** it will **update the value**."
   ]
  },
  {
   "cell_type": "code",
   "execution_count": null,
   "id": "de9cb900-b401-44a4-86fc-7fa7fbbfe11a",
   "metadata": {},
   "outputs": [],
   "source": [
    "print(f\"Dictionary before: {ws_winners}\")\n",
    "\n",
    "# update world series winner\n",
    "ws_winners[2013] = \"Milwaukee Brewers\"\n",
    "\n",
    "print(f\"\\nDictionary  after: {ws_winners}\")"
   ]
  },
  {
   "cell_type": "markdown",
   "id": "8f351838-c0d0-4f42-87c5-d29b0f4e8f4b",
   "metadata": {},
   "source": [
    "### Removing elements"
   ]
  },
  {
   "cell_type": "markdown",
   "id": "e42c2bc9-837e-457d-a8dc-f566b99f24c7",
   "metadata": {},
   "source": [
    "#### pop()\n",
    "***pop(\\<key\\>)* removes and returns** the **item in the index position** provided. **If** the **no index is passed**, the **last element** is **removed and returned**."
   ]
  },
  {
   "cell_type": "code",
   "execution_count": null,
   "id": "de32f015-1940-4c69-9545-fda1b729df8b",
   "metadata": {},
   "outputs": [],
   "source": [
    "print(f\"Dictionary before: {pet_ages}\")\n",
    "\n",
    "# remove Moose\n",
    "pet_ages.pop(\"Moose\")\n",
    "\n",
    "print(f\"\\nDictionary  after: {pet_ages}\")"
   ]
  },
  {
   "cell_type": "markdown",
   "id": "f04eeeb9-4c57-4310-afab-98bcf6732978",
   "metadata": {},
   "source": [
    "### Iterating\n",
    "Since **Dictionaries have both keys and values**, **iterating** can mean **different** things **depending on what** you want to **iterate on**."
   ]
  },
  {
   "cell_type": "code",
   "execution_count": null,
   "id": "a39319ce-812d-4268-8264-035926504fa1",
   "metadata": {},
   "outputs": [],
   "source": [
    "# recall the formula 1 dictionary\n",
    "print(f1_team_drivers)"
   ]
  },
  {
   "cell_type": "markdown",
   "id": "610a626e-fe33-44c3-827c-cd358a745337",
   "metadata": {},
   "source": [
    "#### Iterating through the keys"
   ]
  },
  {
   "cell_type": "code",
   "execution_count": null,
   "id": "58ab352f-22b7-42ef-9a51-db1eb61b6c7c",
   "metadata": {},
   "outputs": [],
   "source": [
    "# Iterate through each each formula 1 team\n",
    "for team in f1_team_drivers:\n",
    "    print(f\"Team: {team}\")"
   ]
  },
  {
   "cell_type": "markdown",
   "id": "bdb8e14f-3e2a-4972-b04e-109db723e1d2",
   "metadata": {},
   "source": [
    "#### Iterating through keys and items together using items()"
   ]
  },
  {
   "cell_type": "markdown",
   "id": "2c87073a-eb34-43a8-8df0-fc3952b0286a",
   "metadata": {},
   "source": [
    "##### Get dictionary keys"
   ]
  },
  {
   "cell_type": "code",
   "execution_count": null,
   "id": "cd85b563-aa0d-4950-8a5f-185a17938ec4",
   "metadata": {},
   "outputs": [],
   "source": [
    "# Iterate through formula 1 team and drivers together\n",
    "for team, drivers in f1_team_drivers.items():\n",
    "    print(f\"Team: {team}\")\n",
    "    print(f\"Drivers: {drivers}\\n\")"
   ]
  },
  {
   "cell_type": "markdown",
   "id": "54d8feae-d273-4da9-ac0f-e4a775e8d828",
   "metadata": {},
   "source": [
    "# Sets\n",
    "Sets are a fixed **collection of unique items**. Some of the key characteristics are:\n",
    "- They are **not mutable**, so items cannot be update after creation. You can add or delete items, but not change existing ones.\n",
    "- They are **not indexed or ordered** in any specific order.\n",
    "- Sets **cannot include duplicate values**.\n",
    "- Sets can consist of **mixed-value types**.\n",
    "- Sets are **created using brackets \\{ \\}**\n",
    "\n",
    "We'll **cover** some of the **basic operations here**. **For** a **full definition** of sets, you can **refer to** the **[official set documentation](https://docs.python.org/3/tutorial/datastructures.html#sets).**"
   ]
  },
  {
   "cell_type": "markdown",
   "id": "e8413a90-f694-41e3-ba5a-777c156e5401",
   "metadata": {},
   "source": [
    "## Creating a set"
   ]
  },
  {
   "cell_type": "code",
   "execution_count": null,
   "id": "d307d364-bd3d-449d-9de2-5c1d2e9de225",
   "metadata": {
    "tags": []
   },
   "outputs": [],
   "source": [
    "# Creating a set for dog breeds\n",
    "dog_breeds = {\"Labrador Retriever\", \"German Shepherd\", \"Golden Retriever\", \"Cavalier King Charles Spaniel\", \"Poodle\", \"Collie\"}\n",
    "\n",
    "print(dog_breeds)"
   ]
  },
  {
   "cell_type": "code",
   "execution_count": null,
   "id": "58d290b4-3399-48ec-a10a-e0b682efabdf",
   "metadata": {
    "tags": []
   },
   "outputs": [],
   "source": [
    "# Creating a set of the last 20 summer olympic games years\n",
    "summer_olympics = {1980, 1984, 1988, 1992, 1994, 1996, 1998, 2000, 2002, 2004, 2006, 2008, 2010, 2012, 2014, 2016, 2018, 2020, 2022, 2024}\n",
    "\n",
    "print(summer_olympics)"
   ]
  },
  {
   "cell_type": "markdown",
   "id": "f6117d1c-bd4e-4b74-9f77-750b0bdc7fe0",
   "metadata": {},
   "source": [
    "## Operations\n",
    "This is a sample of some of the common operations. It is not a complete list"
   ]
  },
  {
   "cell_type": "markdown",
   "id": "0a073485-8ec6-48e2-b71e-e00bff64f4ff",
   "metadata": {},
   "source": [
    "### Access/Iterate set items\n",
    "You **cannot access** a specific **set item by index or key**. But you **can get to** the **values by iterating**."
   ]
  },
  {
   "cell_type": "code",
   "execution_count": null,
   "id": "d45d926d-2a62-474b-8530-f7867bb1aead",
   "metadata": {},
   "outputs": [],
   "source": [
    "# Iterate through each dog breed\n",
    "for breed in dog_breeds:\n",
    "    print(breed)"
   ]
  },
  {
   "cell_type": "markdown",
   "id": "6c1242b5-6998-463a-8a32-05b56fc4cd8f",
   "metadata": {},
   "source": [
    "### Check if item is in set\n",
    "A **common use for sets**, is to maintain a **list of valid values**. We can **use** the ***in* operation** to **check if an item is in a set**."
   ]
  },
  {
   "cell_type": "code",
   "execution_count": null,
   "id": "7cd03784-c4f8-4b2b-98b5-1fd1e6524c1e",
   "metadata": {},
   "outputs": [],
   "source": [
    "# check if there was a summer olympic in specific years\n",
    "year = 1966\n",
    "if year in summer_olympics:\n",
    "    print(f\"There was a summer olympics in {year}\")\n",
    "else:\n",
    "    print(f\"There was no summer olympics in {year}\")\n",
    "\n",
    "# check if there was a summer olympic in specific years\n",
    "year = 1994\n",
    "if year in summer_olympics:\n",
    "    print(f\"There was a summer olympics in {year}\")\n",
    "else:\n",
    "    print(f\"There was no summer olympics in {year}\")"
   ]
  },
  {
   "cell_type": "markdown",
   "id": "c4cf824b-1c19-44c1-a327-e0a091e56fce",
   "metadata": {},
   "source": [
    "### Set length"
   ]
  },
  {
   "cell_type": "code",
   "execution_count": null,
   "id": "e97963fe-1d10-48b3-99ef-415ed53d55ba",
   "metadata": {},
   "outputs": [],
   "source": [
    "# To find the length of a set, use the `len()` function.\n",
    "print(len(dog_breeds))\n",
    "print(len(summer_olympics))"
   ]
  },
  {
   "cell_type": "markdown",
   "id": "438cc2e1-d878-45ff-9d2c-80136b582e9d",
   "metadata": {},
   "source": [
    "### Adding elements"
   ]
  },
  {
   "cell_type": "markdown",
   "id": "e054532e-8f7a-404c-9748-7920ebb4276e",
   "metadata": {},
   "source": [
    "#### add ()\n",
    "add() **adds** an **element** to the **set**."
   ]
  },
  {
   "cell_type": "code",
   "execution_count": null,
   "id": "d0a39f95-c4f3-4d9a-9eee-77342f18b7b3",
   "metadata": {},
   "outputs": [],
   "source": [
    "print(f\"Set  before: {dog_breeds}\")\n",
    "\n",
    "# add another breed to the set\n",
    "dog_breeds.add(\"Rhodesian Ridgeback\")\n",
    "\n",
    "print(f\"Set   after: {dog_breeds}\")"
   ]
  },
  {
   "cell_type": "markdown",
   "id": "5ea25a7c-38ba-4ca5-a829-2be4b67aa442",
   "metadata": {},
   "source": [
    "Remember that **sets do not allow duplicates**. **If** we **add** an **item** that is **already in the set**, it will **silently do nothing**."
   ]
  },
  {
   "cell_type": "code",
   "execution_count": null,
   "id": "9842dd11-f386-4762-9d44-1c1952ff912b",
   "metadata": {},
   "outputs": [],
   "source": [
    "print(f\"Set  before: {dog_breeds}\")\n",
    "\n",
    "# add an existing breed to the set\n",
    "dog_breeds.add(\"Golden Retriever\")\n",
    "\n",
    "print(f\"Set   after: {dog_breeds}\")"
   ]
  },
  {
   "cell_type": "markdown",
   "id": "bb76bc4e-d9e5-49ee-a26e-ade37ea297eb",
   "metadata": {},
   "source": [
    "### Removing elements"
   ]
  },
  {
   "cell_type": "markdown",
   "id": "98212b11-bd32-4621-ab15-f5c4428c2f99",
   "metadata": {},
   "source": [
    "#### remove()\n",
    "***remove(\\<item\\>)* removes** the **specified item from** the **set**."
   ]
  },
  {
   "cell_type": "code",
   "execution_count": null,
   "id": "3a7bd10e-1cea-4b8a-828c-4cd16bb2fc35",
   "metadata": {},
   "outputs": [],
   "source": [
    "print(f\"Set  before: {summer_olympics}\")\n",
    "\n",
    "# remove 2012 from the olympics, since the world was supposed to end\n",
    "summer_olympics.remove(2012)\n",
    "\n",
    "print(f\"Set   after: {summer_olympics}\")"
   ]
  },
  {
   "cell_type": "markdown",
   "id": "4c6358f3-2434-4c9c-8e80-ad24f1218fe9",
   "metadata": {},
   "source": [
    "# Tuples\n",
    "Tuples provide a simple way to **store multiple values in a single variable**. Some of the key characteristics are:\n",
    "- They are **not mutable**, so **after creation**, you **cannot update items**.\n",
    "- They are **unchangeable**, so **after creation**, you **cannot add or delete items**.\n",
    "- They are ordered and **indexed in sequence starting with zero**\n",
    "- Sets can consist of **mixed-value types**.\n",
    "- Sets are **created with a comma separated list**, which **can be grouped for clarity using** paranthesis **\\( \\)**\n",
    "\n",
    "We'll **cover** some of the **basic operations here**. **For** a **full definition** of sets, you can **refer to** the **[official set documentation](https://docs.python.org/3/tutorial/datastructures.html#tuples-and-sequences).**"
   ]
  },
  {
   "cell_type": "markdown",
   "id": "77d5477e-2f03-4351-965d-a00a61498eaa",
   "metadata": {},
   "source": [
    "## Creating a tuple"
   ]
  },
  {
   "cell_type": "code",
   "execution_count": null,
   "id": "f2934e6a-4553-4392-926e-afa83daf14f6",
   "metadata": {
    "tags": []
   },
   "outputs": [],
   "source": [
    "# Creating a tuple for a dog name, age, and breed\n",
    "dog = (\"Tucker\", 5, \"Golden Retriever\")\n",
    "\n",
    "print(dog)"
   ]
  },
  {
   "cell_type": "code",
   "execution_count": null,
   "id": "a6ba26c7-3d81-463e-a104-ec04bbbb58fc",
   "metadata": {
    "tags": []
   },
   "outputs": [],
   "source": [
    "# Creating a tuple an olympic host city, and the year hosted\n",
    "olympic_host = \"London\", 2020\n",
    "\n",
    "print(olympic_host)"
   ]
  },
  {
   "cell_type": "markdown",
   "id": "9a894f81-c061-4f43-82ec-86fa45c5e94d",
   "metadata": {},
   "source": [
    "## Operations\n",
    "This is a sample of some of the common operations. It is not a complete list"
   ]
  },
  {
   "cell_type": "markdown",
   "id": "0a2f2621-f680-4a3e-8994-a15540f01378",
   "metadata": {},
   "source": [
    "### Access list items"
   ]
  },
  {
   "cell_type": "markdown",
   "id": "b7ce6f33-3bbd-4d32-b454-4585ccd2d90b",
   "metadata": {},
   "source": [
    "#### Access by index\n",
    "You can **access** tuple **items by** their **index**, which **start at 0**."
   ]
  },
  {
   "cell_type": "code",
   "execution_count": null,
   "id": "c6312c3e-08cb-46e4-a893-6355a67424a6",
   "metadata": {},
   "outputs": [],
   "source": [
    "# get the first value in the olympic_host tuple\n",
    "country = olympic_host[0]\n",
    "\n",
    "# get the 2nd value in the olympic_host tuple\n",
    "year = olympic_host[1]\n",
    "\n",
    "# print host city and year\n",
    "print(f\"The {year} summer olympics were hosted in {country}.\")"
   ]
  },
  {
   "cell_type": "markdown",
   "id": "ae7412cc-d345-4003-9f2e-3726a11e9ce8",
   "metadata": {},
   "source": [
    "#### Assigning tuple to individual variables\n",
    "You **can assign each element of a tuple to** an **individual variable** in a single statement."
   ]
  },
  {
   "cell_type": "code",
   "execution_count": null,
   "id": "554d64e7-9013-4536-9786-9ddb08d7a5a6",
   "metadata": {},
   "outputs": [],
   "source": [
    "# get dog information from the dog tuple\n",
    "dog_name, dog_age, dog_breed = dog\n",
    "\n",
    "# print dog information\n",
    "print(f\"{dog_name} is a {dog_breed} and is {dog_age} years old.\")"
   ]
  },
  {
   "cell_type": "markdown",
   "id": "4996b603-22a8-40dd-9724-897f083dcff8",
   "metadata": {},
   "source": [
    "### Tuples as function/method return values\n",
    "Because **tuples** can **group multiple values** in a **single variable**, and **common use** for them is to **return multiple values from a function**."
   ]
  },
  {
   "cell_type": "markdown",
   "id": "324eb043-f299-4688-ac6c-ca56a3d08bf6",
   "metadata": {},
   "source": [
    "Let's **create** a **function that takes two numbers**, and will return the **result of adding** them, **multiplying** them, and **diving** them."
   ]
  },
  {
   "cell_type": "code",
   "execution_count": null,
   "id": "ec6d692d-aba4-4d5b-a5fc-20edf1a4d47f",
   "metadata": {},
   "outputs": [],
   "source": [
    "def all_ops(num1, num2):\n",
    "    add = num1 + num2\n",
    "    mult = num1 * num2\n",
    "    div = num1 / num2\n",
    "    return add, mult, div"
   ]
  },
  {
   "cell_type": "markdown",
   "id": "7254bff7-c195-4e76-b582-cddeed0996e4",
   "metadata": {},
   "source": [
    "**Note** that all **three operation results** were **returned together as a tuple**.\n",
    "\n",
    "Let's **test it out**."
   ]
  },
  {
   "cell_type": "code",
   "execution_count": null,
   "id": "0310416e-9682-460e-87b3-b399a49d8b9c",
   "metadata": {},
   "outputs": [],
   "source": [
    "# use all_ops to add, multiply, and divide two numbers\n",
    "result_tuple = all_ops(10, 5)\n",
    "\n",
    "# confirm the type of the result_tuple variable\n",
    "print(f\"result_tuple type: {type(result_tuple)}\\n\")\n",
    "\n",
    "# print each result from the result tuple\n",
    "print(f\"Addition result: {result_tuple[0]}\")\n",
    "print(f\"Multiplication result: {result_tuple[1]}\")\n",
    "print(f\"Division result: {result_tuple[2]}\")\n",
    "\n"
   ]
  },
  {
   "cell_type": "markdown",
   "id": "e9a752ba-69d1-469e-a210-c3feab466e7b",
   "metadata": {},
   "source": [
    "We **could** also **take** the **function return values directly into** the **specific variables**."
   ]
  },
  {
   "cell_type": "code",
   "execution_count": null,
   "id": "43a998d1-cf80-4b0a-b7f3-32648a5cab80",
   "metadata": {},
   "outputs": [],
   "source": [
    "# use all_ops to add, multiply, and divide two numbers, and assign to specific variables\n",
    "add_result, mult_result, div_result = all_ops(10, 4)\n",
    "\n",
    "# print the results\n",
    "print(f\"Addition result: {add_result}\")\n",
    "print(f\"Multiplication result: {mult_result}\")\n",
    "print(f\"Division result: {div_result}\")"
   ]
  },
  {
   "cell_type": "markdown",
   "id": "af818399-243f-4f38-91e2-fdc47ca10ed6",
   "metadata": {},
   "source": [
    "### Tuple length"
   ]
  },
  {
   "cell_type": "code",
   "execution_count": null,
   "id": "a5af497b-a910-43af-aa06-82bfbb6a0261",
   "metadata": {},
   "outputs": [],
   "source": [
    "# To find the length of a tuple, use the `len()` function.\n",
    "print(len(dog))\n",
    "print(len(olympic_host))"
   ]
  },
  {
   "cell_type": "markdown",
   "id": "ffa64962-043a-4cd1-8cfa-5dbbe1d42d03",
   "metadata": {},
   "source": [
    "### Iterating\n",
    "Iterating is not something we will often do in a tuple, but it can be done similar to a list, where you can do it **via index or iterators**."
   ]
  },
  {
   "cell_type": "code",
   "execution_count": null,
   "id": "5da516fa-4e13-4c0b-98e9-bc53bccee0fa",
   "metadata": {},
   "outputs": [],
   "source": [
    "# Iterate through each dog tuple item by index\n",
    "for i in range(len(dog)):\n",
    "    print(dog[i])"
   ]
  },
  {
   "cell_type": "code",
   "execution_count": null,
   "id": "b15f8183-20ad-4036-8ec7-eba1b450dd65",
   "metadata": {},
   "outputs": [],
   "source": [
    "# Iterate through each olympic_host item with an iterator\n",
    "for item in olympic_host:\n",
    "    print(item)"
   ]
  },
  {
   "cell_type": "markdown",
   "id": "a4cc8177-2888-44a8-b50f-21f6b91eb355",
   "metadata": {},
   "source": [
    "# Comparing the data structures\n"
   ]
  },
  {
   "attachments": {},
   "cell_type": "markdown",
   "id": "14c11f14-7b7f-420e-ab75-53c2ac23ac1b",
   "metadata": {},
   "source": [
    "|          | Lists    | Dictionaries | Sets | Tuples |\n",
    "| -------- | -------- | ------------ |----- | ------ |\n",
    "|**Summary**|Versatile ordered collections of objects |Collections of key value pairs|Fixed collection of unique items|Store multiple values in a single variable|\n",
    "|**Mutable**|Yes|Yes|No|No|\n",
    "|**Ordered**|Yes|Yes|No|Yes|\n",
    "|**Duplicates**|Yes|No|No|Yes|\n",
    "|**Use cases examples**|Most flexible collection, which can be used to implement arrays, queues, stacks, and a variety of other data structures |Used for scenarios where fast key based lookup is required, or to represent structures with multiple attribute/value pairs|Maintain list of unique values, which may be used in field validation, or eliminating duplicates from lists|Grouping multiple values into a single variable, which is particularly useful in function return values|"
   ]
  },
  {
   "cell_type": "code",
   "execution_count": null,
   "id": "8629fd1e-f38f-42a3-a16d-026f45d3d786",
   "metadata": {},
   "outputs": [],
   "source": []
  }
 ],
 "metadata": {
  "kernelspec": {
   "display_name": "Python 3 (ipykernel)",
   "language": "python",
   "name": "python3"
  },
  "language_info": {
   "codemirror_mode": {
    "name": "ipython",
    "version": 3
   },
   "file_extension": ".py",
   "mimetype": "text/x-python",
   "name": "python",
   "nbconvert_exporter": "python",
   "pygments_lexer": "ipython3",
   "version": "3.9.2"
  }
 },
 "nbformat": 4,
 "nbformat_minor": 5
}
