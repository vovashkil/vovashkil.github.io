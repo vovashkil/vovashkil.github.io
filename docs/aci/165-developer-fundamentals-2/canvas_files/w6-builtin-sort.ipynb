{
 "cells": [
  {
   "cell_type": "markdown",
   "id": "cbdbb2c9-629f-4d2c-bdfc-e36bd5dcf47c",
   "metadata": {
    "editable": true,
    "slideshow": {
     "slide_type": ""
    },
    "tags": []
   },
   "source": [
    "# <span style=\"color:blue\">Built-in Python sorting\n",
    "AWS CLOUD INSTITUTE: PROVIDED FOR EDUCATIONAL INSTRUCTIONAL PURPOSES ONLY."
   ]
  },
  {
   "cell_type": "markdown",
   "id": "3e0fbfd1-cbe7-4637-a026-66b66f90c6fc",
   "metadata": {},
   "source": [
    "# Built-in sort algorithms\n",
    "There are **two built-in algorithms** for sorting **in Python**. These algorithms are **sort() and sorted()**. We'll look at each in turn, and then contrast them."
   ]
  },
  {
   "cell_type": "markdown",
   "id": "a2bfca4f-05a3-4cd0-aefb-6a38ff6da31e",
   "metadata": {},
   "source": [
    "## The *sort()* list method"
   ]
  },
  {
   "cell_type": "markdown",
   "id": "cca5a7e3-c5a3-4de2-aba2-79e1be3109f1",
   "metadata": {},
   "source": [
    "The **[sort() method ](https://docs.python.org/3/library/stdtypes.html#list.sort)** is a **built-in method for lists in Python** and is **used to sort** the **elements of a list**. Key characteristics:\n",
    "- Does **in-place sorting** (updates old list)\n",
    "- **Only works on lists**, **but** will work on lists of **any data type that supports** the **\"<\"** comparison.\n",
    "- Sorts in **ascending order by default**\n",
    "- **Returns *None***, because it updates the list in place"
   ]
  },
  {
   "cell_type": "markdown",
   "id": "612792e2-6a36-4fda-ad2b-d36e711f36d7",
   "metadata": {},
   "source": [
    "### Sorting int lists"
   ]
  },
  {
   "cell_type": "code",
   "execution_count": null,
   "id": "1c85cedd-5f7b-4fdf-9261-a1c794574693",
   "metadata": {},
   "outputs": [],
   "source": [
    "int_list = [23, 11, 4, 9, 21, 34, 16, 8, 29, 12]"
   ]
  },
  {
   "cell_type": "code",
   "execution_count": null,
   "id": "5bc109c7-963f-4484-a848-d7e1a5f26660",
   "metadata": {},
   "outputs": [],
   "source": [
    "# sort the list\n",
    "int_list.sort()\n",
    "\n",
    "# print updated lists\n",
    "print(int_list)"
   ]
  },
  {
   "cell_type": "markdown",
   "id": "2ff898d8-daf2-43ed-9646-5a0ecfbbd1b6",
   "metadata": {},
   "source": [
    "#### Did that change the original list?\n",
    "Well, the answer is **obviously yes**, given that **I printed the original list**. **And it is sorted.**"
   ]
  },
  {
   "cell_type": "markdown",
   "id": "94ca6ce1-25e8-4cee-8670-c99e8893b57f",
   "metadata": {},
   "source": [
    "### Sorting string lists"
   ]
  },
  {
   "cell_type": "code",
   "execution_count": null,
   "id": "a67c9189-b832-468d-a1fb-43c2510ee0ed",
   "metadata": {},
   "outputs": [],
   "source": [
    "# create a list of strings with some of my dogs and cats\n",
    "str_list = [\"Rebecca\", \"Tracy\", \"Sammy\", \"Luke\", \"Max\", \"Tucker\", \"Moose\", \"Miley\", \"Mittenz\",  \"Lexi\", \"Finn\"]"
   ]
  },
  {
   "cell_type": "code",
   "execution_count": null,
   "id": "a302c968-2b0b-499a-ad0d-3001e29c2b14",
   "metadata": {},
   "outputs": [],
   "source": [
    "# sort the list\n",
    "str_list.sort()\n",
    "\n",
    "# print updated lists\n",
    "print(str_list)"
   ]
  },
  {
   "cell_type": "markdown",
   "id": "47d9c517-48f0-45a4-9fe2-24eca393ee36",
   "metadata": {},
   "source": [
    "### Sorting lists of a custom class\n",
    "The list ***sort()*** method will work on lists of **any data type that supports** the **\"<\"** comparison. For custom classes, that means we **need to define the \\_\\_lt\\_\\_() operator.**"
   ]
  },
  {
   "cell_type": "markdown",
   "id": "0b41c64c-57ce-4f2e-a68b-b98738223ff6",
   "metadata": {},
   "source": [
    "#### Define a Pet class, with a \\_\\_lt\\_\\_() operator"
   ]
  },
  {
   "cell_type": "code",
   "execution_count": null,
   "id": "c0c8e386-96d1-4977-a7f1-03626eea1f0d",
   "metadata": {},
   "outputs": [],
   "source": [
    "class Pet:\n",
    "    '''\n",
    "    This class stores information about a house pet.\n",
    "    '''\n",
    "    def __init__(self, name, species, breed, weight):\n",
    "        self.name = name\n",
    "        self.species = species\n",
    "        self.breed = breed\n",
    "        self.weight = weight\n",
    "\n",
    "    def __eq__(self, other):\n",
    "        '''\n",
    "        This method overrides the equality operator.\n",
    "        '''\n",
    "        return (self.name == other.name and \n",
    "                self.species == other.species and\n",
    "                self.breed == other.breed)\n",
    "\n",
    "    def __lt__(self, other):\n",
    "        '''\n",
    "        This method overrides the < operator. The method will compare by name, then breed, then species\n",
    "        '''\n",
    "\n",
    "        # compare by name first\n",
    "        if self.name < other.name:\n",
    "            return True\n",
    "        elif self.name > other.name:\n",
    "            return False\n",
    "        # name is equal, so compare by breed\n",
    "        else:\n",
    "            if self.breed < other.breed:\n",
    "                return True\n",
    "            elif self.breed > other.breed:\n",
    "                return False\n",
    "            # bread is equal, so compare by species\n",
    "            else:\n",
    "                if self.species < other.species:\n",
    "                    return True\n",
    "                else:\n",
    "                    return False\n",
    "\n",
    "    def __repr__(self):\n",
    "        return f\"({self.name},{self.species},{self.breed},{self.weight} lbs)\"\n",
    "    \n",
    "    def __str__(self):\n",
    "        return f\"{self.name} - {self.species} - {self.breed} - {self.weight} lbs\""
   ]
  },
  {
   "cell_type": "markdown",
   "id": "e3098ce5-316a-4be7-be3d-dc1dcc611236",
   "metadata": {},
   "source": [
    "#### Create Pet objects for some of my pets"
   ]
  },
  {
   "cell_type": "code",
   "execution_count": null,
   "id": "a04e718d-d702-4357-97a7-b5cba846fd7a",
   "metadata": {},
   "outputs": [],
   "source": [
    "pet_list = [Pet(\"Rebecca\", \"Dog\", \"Golden Retriever\", 77.4),\n",
    "            Pet(\"Tracy\", \"Dog\", \"Golden Retriever\", 81.2),\n",
    "            Pet(\"Sammy\", \"Dog\", \"Labrador Retriever\", 71.6),\n",
    "            Pet(\"Luke\", \"Dog\", \"Labrador Retriever\", 94.0),\n",
    "            Pet(\"Max\", \"Dog\", \"Cavalier King Charles Spaniel\", 14.2),\n",
    "            Pet(\"Tucker\", \"Dog\", \"Golden Retriever\", 90.2),\n",
    "            Pet(\"Moose\", \"Dog\", \"German Spitz\", 24.5),\n",
    "            Pet(\"Miley\", \"Cat\", \"American Shorthair\", 9.0),\n",
    "            Pet(\"Mittenz\", \"Cat\", \"Calico\", 12.6),\n",
    "            Pet(\"Lexi\", \"Cat\", \"Munchkin\", 10.2),\n",
    "            Pet(\"Finn\", \"Cat\", \"Munchkin\", 11.4),\n",
    "            Pet(\"Greeney\", \"Parakeet\", \"Budgerigar\", 0.06),\n",
    "            Pet(\"Indy\", \"Ferret\", \"Sable\", 3.1),\n",
    "            Pet(\"Deedee\", \"Ferret\", \"Sable\", 2.8),\n",
    "            Pet(\"Ruby\", \"Ferret\", \"Sable\", 2.7),\n",
    "            Pet(\"Mickey\", \"Hamster\", \"Syrian\", 0.28),\n",
    "            Pet(\"Bullet\", \"Tortoise\", \"Greek\", 1.5),\n",
    "            Pet(\"Tiger\", \"Guinea Pig\", \"American\", 2.1)\n",
    "           ]\n",
    "\n",
    "for pet in pet_list:\n",
    "    print(pet)"
   ]
  },
  {
   "cell_type": "markdown",
   "id": "cc52f5cc-1a1d-4b56-92f0-40e387d1c65d",
   "metadata": {},
   "source": [
    "#### Sort list of Pets"
   ]
  },
  {
   "cell_type": "code",
   "execution_count": null,
   "id": "81d357e7-fef1-4200-9231-b2ac9d4a28ab",
   "metadata": {},
   "outputs": [],
   "source": [
    "pet_list.sort()\n",
    "for pet in pet_list:\n",
    "    print(pet)"
   ]
  },
  {
   "cell_type": "markdown",
   "id": "7e3caa48-5723-45c2-811f-77bf936ff8ed",
   "metadata": {},
   "source": [
    "### Sorting in reverse order\n",
    "As we saw, by default, the sort is in ascending order. We can **sort in descending order** by **adding** the ***reverse=True* parameter**."
   ]
  },
  {
   "cell_type": "code",
   "execution_count": null,
   "id": "5016b0f9-16a7-4ca5-8aa4-ffdb7f0e2bcd",
   "metadata": {},
   "outputs": [],
   "source": [
    "int_list = [23, 11, 4, 9, 21, 34, 16, 8, 29, 12]"
   ]
  },
  {
   "cell_type": "code",
   "execution_count": null,
   "id": "e1011f70-4f98-4cb4-8723-5e8a24fec041",
   "metadata": {},
   "outputs": [],
   "source": [
    "# sort the list\n",
    "int_list.sort(reverse=True)\n",
    "\n",
    "# print updated lists\n",
    "print(int_list)"
   ]
  },
  {
   "cell_type": "markdown",
   "id": "859fc0f9-09bc-4792-a0b0-7fc482571e37",
   "metadata": {},
   "source": [
    "### Sorting based on a custom criteria\n",
    "As we discussed, **by default** the **sort** method will **use** the **standard \"<\" comparison** for the data type **to decide how to order** elements. However, **if** we have a **specialized need**, we can **provide** a **custom function to return** a **different value *sort()* should use** in the comparison. This function is **passed in the *key* parameter**."
   ]
  },
  {
   "cell_type": "markdown",
   "id": "22342938-d798-4e80-95d1-d692b70e9e60",
   "metadata": {},
   "source": [
    "#### Define a special function to sort pets by weight\n",
    "Let's say that for a special situation, we may want to **sort pets by weight**. This could be useful for transport purposes for instance."
   ]
  },
  {
   "cell_type": "code",
   "execution_count": null,
   "id": "09530e7c-18cf-4187-9c56-e98ffa820ce0",
   "metadata": {},
   "outputs": [],
   "source": [
    "# define function to return the weight of a Pet object\n",
    "def get_pet_weight(pet):\n",
    "    return pet.weight"
   ]
  },
  {
   "cell_type": "code",
   "execution_count": null,
   "id": "6b6b367c-cb51-4bf9-b00b-1d51a9bb424b",
   "metadata": {},
   "outputs": [],
   "source": [
    "# example\n",
    "print(f\"Weight of {pet_list[0].name}:\", get_pet_weight(pet_list[0]))"
   ]
  },
  {
   "cell_type": "markdown",
   "id": "dc742cf5-29bb-4c88-807b-56c6bb3cd3fc",
   "metadata": {},
   "source": [
    "### Sort pet list based on the weight"
   ]
  },
  {
   "cell_type": "code",
   "execution_count": null,
   "id": "e7b6fe4e-9851-493d-9a71-e344ef366820",
   "metadata": {},
   "outputs": [],
   "source": [
    "# sort pets by weight\n",
    "pet_list.sort(key = get_pet_weight)\n",
    "for pet in pet_list:\n",
    "    print(pet)"
   ]
  },
  {
   "cell_type": "markdown",
   "id": "0dd21d7c-9623-4a2a-8758-ca30da5b7342",
   "metadata": {},
   "source": [
    "## The *sorted()* function"
   ]
  },
  {
   "cell_type": "markdown",
   "id": "6c714f0b-fd36-40b8-a70b-373a7c9ba14d",
   "metadata": {},
   "source": [
    "The **sorted() function** is a **built-in function in Python** and is **used to sort** the **elements of multiple types of iterables (list, tuples or strings)** . Key characteristics:\n",
    "- **Returns a new list**, so it does not update the original one.\n",
    "- **Works with any iterable data type**, such as lists, tuples, sets, stings, dictionaries, and others.\n",
    "    - It will **take** an **iterable** as an **input**, **but always returns** a **list** as the output \n",
    "- Sorts in **ascending order by default**"
   ]
  },
  {
   "cell_type": "markdown",
   "id": "c02659d1-56c7-431d-bb40-ea9c78bce4e2",
   "metadata": {},
   "source": [
    "### Sorting int lists"
   ]
  },
  {
   "cell_type": "code",
   "execution_count": null,
   "id": "ac44143d-de26-413e-9839-62302df49126",
   "metadata": {},
   "outputs": [],
   "source": [
    "original_list = [23, 11, 4, 9, 21, 34, 16, 8, 29, 12]"
   ]
  },
  {
   "cell_type": "markdown",
   "id": "ea6fd36f-be65-41f0-ac1b-794ced4d45c5",
   "metadata": {},
   "source": [
    "#### Sort the list"
   ]
  },
  {
   "cell_type": "code",
   "execution_count": null,
   "id": "bde4ed6f-c053-41de-8b9b-f645c20a7917",
   "metadata": {},
   "outputs": [],
   "source": [
    "sorted_list = sorted(original_list)"
   ]
  },
  {
   "cell_type": "markdown",
   "id": "9d602c23-1b05-4bbc-bff1-8dc3550619c0",
   "metadata": {},
   "source": [
    "#### Note the original list has not changed"
   ]
  },
  {
   "cell_type": "code",
   "execution_count": null,
   "id": "f7495e8c-646d-4531-b631-3dc2759c2dfc",
   "metadata": {},
   "outputs": [],
   "source": [
    "print(f\"Original list: {original_list}\")\n",
    "print(f\"Sorted   list: {sorted_list}\")"
   ]
  },
  {
   "cell_type": "markdown",
   "id": "3ae03d95-8777-46f1-8cae-05a49d385876",
   "metadata": {},
   "source": [
    "### Sorting lists of other types\n",
    "We can **sort** the **same lists** we did earlier **using** the ***sort() method***, **by using** the ***sorted()*** function. The key difference there is that we would not be modifying the lists in place. Let's repeat the same examples."
   ]
  },
  {
   "cell_type": "markdown",
   "id": "fcba3565-207b-43bc-ba7f-a50e3a9ed253",
   "metadata": {},
   "source": [
    "#### Sorting string lists"
   ]
  },
  {
   "cell_type": "code",
   "execution_count": null,
   "id": "ea18b211-6f6a-4e8e-bf2a-a47db4782d13",
   "metadata": {},
   "outputs": [],
   "source": [
    "# create a list of strings with some of my dogs and cats\n",
    "original_list = [\"Rebecca\", \"Tracy\", \"Sammy\", \"Luke\", \"Max\", \"Tucker\", \"Moose\", \"Miley\", \"Mittenz\",  \"Lexi\", \"Finn\"]\n",
    "\n",
    "# sort the list\n",
    "sorted_list = sorted(original_list)\n",
    "\n",
    "# print both new and unmodified original\n",
    "print(f\"Original list: {original_list}\")\n",
    "print(f\"Sorted   list: {sorted_list}\")"
   ]
  },
  {
   "cell_type": "markdown",
   "id": "0adf50e4-dfa7-49b2-a1f0-716fbb42b960",
   "metadata": {},
   "source": [
    "#### Sorting lists of custom classes\n",
    "Just like we saw with the list *sort()* method, I **can use the ***sorted()*** function** with any data type that supports a **\"<\" comparison**. So we **can sort** our **Pet class**, which **had a *\\_\\_lt()\\_\\_* method** defined."
   ]
  },
  {
   "cell_type": "code",
   "execution_count": null,
   "id": "ef09e61e-0052-43d5-bea0-6d25e04f9ac5",
   "metadata": {},
   "outputs": [],
   "source": [
    "# Create a list of Pet objects for some of my pets\n",
    "original_list = [Pet(\"Rebecca\", \"Dog\", \"Golden Retriever\", 77.4),\n",
    "                 Pet(\"Tracy\", \"Dog\", \"Golden Retriever\", 81.2),\n",
    "                 Pet(\"Sammy\", \"Dog\", \"Labrador Retriever\", 71.6),\n",
    "                 Pet(\"Luke\", \"Dog\", \"Labrador Retriever\", 94.0),\n",
    "                 Pet(\"Max\", \"Dog\", \"Cavalier King Charles Spaniel\", 14.2),\n",
    "                 Pet(\"Tucker\", \"Dog\", \"Golden Retriever\", 90.2),\n",
    "                 Pet(\"Moose\", \"Dog\", \"German Spitz\", 24.5),\n",
    "                 Pet(\"Miley\", \"Cat\", \"American Shorthair\", 9.0),\n",
    "                 Pet(\"Mittenz\", \"Cat\", \"Calico\", 12.6),\n",
    "                 Pet(\"Lexi\", \"Cat\", \"Munchkin\", 10.2),\n",
    "                 Pet(\"Finn\", \"Cat\", \"Munchkin\", 11.4),\n",
    "                 Pet(\"Greeney\", \"Parakeet\", \"Budgerigar\", 0.06),\n",
    "                 Pet(\"Indy\", \"Ferret\", \"Sable\", 3.1),\n",
    "                 Pet(\"Deedee\", \"Ferret\", \"Sable\", 2.8),\n",
    "                 Pet(\"Ruby\", \"Ferret\", \"Sable\", 2.7),\n",
    "                 Pet(\"Mickey\", \"Hamster\", \"Syrian\", 0.28),\n",
    "                 Pet(\"Bullet\", \"Tortoise\", \"Greek\", 1.5),\n",
    "                 Pet(\"Tiger\", \"Guinea Pig\", \"American\", 2.1)\n",
    "                ]\n",
    "# sort the list\n",
    "sorted_list = sorted(original_list)\n",
    "\n",
    "# print both new and unmodified original\n",
    "print(f\"Original list: {original_list}\")\n",
    "print(f\"\\nSorted   list: {sorted_list}\")"
   ]
  },
  {
   "cell_type": "markdown",
   "id": "f981e3cd-ee79-4352-9272-0972143aecc7",
   "metadata": {},
   "source": [
    "### Sorting in reverse order\n",
    "The ***sorted()*** function also supports the the ***reverse=True* parameter** for a reveresed search."
   ]
  },
  {
   "cell_type": "code",
   "execution_count": null,
   "id": "5f82ba35-c769-4f45-89a3-74ab54c4448c",
   "metadata": {},
   "outputs": [],
   "source": [
    "# create a list of strings with some of my dogs and cats\n",
    "original_list = [23, 11, 4, 9, 21, 34, 16, 8, 29, 12]\n",
    "\n",
    "# sort the list\n",
    "sorted_list = sorted(original_list, reverse=True)\n",
    "\n",
    "# print both new and unmodified original\n",
    "print(f\"Original list: {original_list}\")\n",
    "print(f\"Sorted   list: {sorted_list}\")"
   ]
  },
  {
   "cell_type": "markdown",
   "id": "91b0a444-6a5a-4548-8beb-4de0a03391f1",
   "metadata": {},
   "source": [
    "### Sorting other iterables\n",
    "The **sorted()** function **works with any iterable data type**, such as **lists, tuples, sets, stings, dictionaries, and others**.\n",
    "It will take an iterable as an input, but <span style=\"color:red\"> **always returns a list as the output.**</span>"
   ]
  },
  {
   "cell_type": "markdown",
   "id": "a974b6f4-9bd9-4f63-8859-4b04d1ab97ae",
   "metadata": {},
   "source": [
    "#### Sorting tuples"
   ]
  },
  {
   "cell_type": "code",
   "execution_count": null,
   "id": "8a673e73-6dfe-49e5-9286-6f0879d211c0",
   "metadata": {},
   "outputs": [],
   "source": [
    "# create a tuple with some names\n",
    "original_tuble = (\"John Stiles\", \"Diego Ramirez\", \"Mary Major\", \"Ana Silva\", \"Soo-jin Ki\", \"Alejandro Rosale\")\n",
    "\n",
    "# sort the list\n",
    "sorted_list = sorted(original_tuble)\n",
    "\n",
    "# print original string, a sorted list\n",
    "print(f\"Original tuple: {original_tuble}\")\n",
    "print(f\"Sorted    list: {sorted_list}\")"
   ]
  },
  {
   "cell_type": "markdown",
   "id": "761e14e2-1693-4dc8-a7c0-e988f29fdaa9",
   "metadata": {},
   "source": [
    "#### Sorting a string\n",
    "Sorting a string with *sorted()* will **iterate through** all the **characters in the string**, and **sort them** in order."
   ]
  },
  {
   "cell_type": "code",
   "execution_count": null,
   "id": "96454594-a081-449c-b063-c69ed4e1bcb6",
   "metadata": {},
   "outputs": [],
   "source": [
    "# create a string with random characters\n",
    "original_string = \"iahbkcdgefj\"\n",
    "\n",
    "# sort the list\n",
    "sorted_list = sorted(original_string)\n",
    "\n",
    "# print original string, a sorted list\n",
    "print(f\"Original string: {original_string}\")\n",
    "print(f\"Sorted     list: {sorted_list}\")"
   ]
  },
  {
   "cell_type": "markdown",
   "id": "a1100b98-b0a9-449e-ab00-a034311999e5",
   "metadata": {},
   "source": [
    "But **what if** I **didn't want** a **list of the characters?** What if I **wanted a string back**, **with** the **ordered characters**?\n",
    "\n",
    "Well, I just need to **use my \"Python powers\"** to **build** a **string back up** from the sorted list."
   ]
  },
  {
   "cell_type": "code",
   "execution_count": null,
   "id": "48a77e5f-4b1b-4b4a-896b-d302263b5e21",
   "metadata": {},
   "outputs": [],
   "source": [
    "sorted_string = \"\"\n",
    "for char in sorted_list:\n",
    "    sorted_string += char\n",
    "\n",
    "print(f\"Original string: {original_string}\")\n",
    "print(f\"Sorted     list: {sorted_list}\")\n",
    "print(f\"Sorted   string: {sorted_string}\")"
   ]
  },
  {
   "cell_type": "markdown",
   "id": "084bd963-d55b-42df-be92-53333ff086ba",
   "metadata": {},
   "source": [
    "#### Sorting a dictionary\n",
    "Sorting a dictionary with *sorted()* by default will return a sorted list of the dictionary keys"
   ]
  },
  {
   "cell_type": "code",
   "execution_count": null,
   "id": "170c9cc8-de82-424f-b792-f191dba2d6ba",
   "metadata": {},
   "outputs": [],
   "source": [
    "# create a dictionary for names with ages\n",
    "original_dict = {\n",
    "    \"John Stiles\": 45,\n",
    "    \"Diego Ramirez\": 32,\n",
    "    \"Mary Major\": 28,\n",
    "    \"Ana Silva\": 35,\n",
    "    \"Soo-jin Ki\": 22,\n",
    "    \"Alejandro Rosale\": 39\n",
    "}\n",
    "\n",
    "# sort the list\n",
    "sorted_list = sorted(original_dict)\n",
    "\n",
    "# print original string, a sorted list\n",
    "print(f\"Original dict: {original_dict}\")\n",
    "print(f\"Sorted   list: {sorted_list}\")"
   ]
  },
  {
   "cell_type": "markdown",
   "id": "a57e30ea-fd6c-4ec6-8f0f-3900c3684db7",
   "metadata": {},
   "source": [
    "### Custom sorting criteria\n",
    "Like the *sort()* method, the ***sorted()*** function **allows you** to **provide** a **custom function to return** a **different value to use** in the comparison. This function is **passed in the *key* parameter**."
   ]
  },
  {
   "cell_type": "markdown",
   "id": "14248de4-f1fa-4de5-92e2-b14651066d50",
   "metadata": {},
   "source": [
    "#### Sorting a list of strings by their length\n",
    "To sort a list of strings by their length, I can **use a function** that **returns the string length**. Fortunately, **Python already** has the ***len*** function I can use for that."
   ]
  },
  {
   "cell_type": "code",
   "execution_count": null,
   "id": "f53fb2b2-3dfe-46c4-a93c-1b1c8f095a30",
   "metadata": {},
   "outputs": [],
   "source": [
    "# create a list of strings with some of my dogs and cats\n",
    "original_list = [\"Rebecca\", \"Tracy\", \"Sammy\", \"Luke\", \"Max\", \"Tucker\", \"Moose\", \"Miley\", \"Mittenz\",  \"Lexi\", \"Finn\"]\n",
    "\n",
    "# sort the list, using the len function as the key\n",
    "sorted_list = sorted(original_list, key=len)\n",
    "\n",
    "# print both new and unmodified original\n",
    "print(f\"Original list: {original_list}\")\n",
    "print(f\"Sorted   list: {sorted_list}\")"
   ]
  },
  {
   "cell_type": "markdown",
   "id": "afd3b102-0ab6-47a9-b4fe-712f83e144de",
   "metadata": {},
   "source": [
    "### <span style=\"color:blue\">OPTIONAL:</span> Using a custom sort for a dictionary search\n",
    "In the previous dictionary example, the we simply get a list of sorted keys. What if we want to **sort by age**?"
   ]
  },
  {
   "cell_type": "markdown",
   "id": "fabe52d6-46d8-4e4a-8805-343cbff90772",
   "metadata": {},
   "source": [
    "#### Sort by the dictionary items\n",
    "First we try sorting with the dictionary items, not just the key. We **use the Dictionary items() method** to give me a **list of complete items**."
   ]
  },
  {
   "cell_type": "code",
   "execution_count": null,
   "id": "cbb2ecd4-f9f9-40dc-b5f6-b5b7e1502f76",
   "metadata": {},
   "outputs": [],
   "source": [
    "# create a dictionary for names with ages\n",
    "original_dict = {\n",
    "    \"John Stiles\": 45,\n",
    "    \"Diego Ramirez\": 32,\n",
    "    \"Mary Major\": 28,\n",
    "    \"Ana Silva\": 35,\n",
    "    \"Soo-jin Ki\": 22,\n",
    "    \"Alejandro Rosale\": 39\n",
    "}\n",
    "\n",
    "# sort the list\n",
    "sorted_list = sorted(original_dict.items())\n",
    "\n",
    "# print original string, a sorted list\n",
    "print(f\"Original string: {original_dict}\")\n",
    "print(f\"Sorted     list: {sorted_list}\")"
   ]
  },
  {
   "cell_type": "markdown",
   "id": "4547aa25-07d7-4fd0-b711-294815d6c428",
   "metadata": {},
   "source": [
    "Using ***items()*** got us the full item as a tuple, but the **tuples** are still **ordered by** the **first element**. To get around that, we'll use a custom function."
   ]
  },
  {
   "cell_type": "markdown",
   "id": "1a6dd54f-3bfa-4c9a-b818-142970d8dbd7",
   "metadata": {},
   "source": [
    "#### Use lambda function to return second item in the tuple\n",
    "We could define a function the usual way (with the ***def*** statement), but **for something** as **simple as this**, we can **use a lambda function**. A **Python lambda function** is one you can **create \"on the fly\", without a name**, and **returning** a **value with a single expression**."
   ]
  },
  {
   "cell_type": "code",
   "execution_count": null,
   "id": "15f093f2-b41d-45f6-a339-a88f37cbee6a",
   "metadata": {},
   "outputs": [],
   "source": [
    "# create a dictionary for names with ages\n",
    "original_dict = {\n",
    "    \"John Stiles\": 45,\n",
    "    \"Diego Ramirez\": 32,\n",
    "    \"Mary Major\": 28,\n",
    "    \"Ana Silva\": 35,\n",
    "    \"Soo-jin Ki\": 22,\n",
    "    \"Alejandro Rosale\": 39\n",
    "}\n",
    "\n",
    "# sort the list, with a lambda function that will return the second element in a tuple\n",
    "sorted_list = sorted(original_dict.items(),\n",
    "                    key=lambda item: item[1])\n",
    "\n",
    "# print original string, a sorted list\n",
    "print(f\"Original string: {original_dict}\")\n",
    "print(f\"Sorted     list: {sorted_list}\")"
   ]
  },
  {
   "cell_type": "markdown",
   "id": "2cb45d09-b1a6-49e8-ba2c-897ea133e97e",
   "metadata": {},
   "source": [
    "## <span style=\"color:blue\">OPTIONAL:</span> Comparing *sort()* and *sorted()* performance\n",
    "There is general understanding that the list *sort()* has sligtly better performance than using the *sorted()* function. Let's confirm that with a performance test. We will use some of the same mechanisms previously employed to generate random values, and time the operations."
   ]
  },
  {
   "cell_type": "markdown",
   "id": "7a631a9a-a41e-4f06-9130-082b881badaa",
   "metadata": {},
   "source": [
    "##### Import modules\n",
    "We'll be using a couple of modules in the upcoming analysis, so we'll import them here"
   ]
  },
  {
   "cell_type": "code",
   "execution_count": null,
   "id": "c178bf16-e583-40b2-853a-3fcc1d6afe45",
   "metadata": {},
   "outputs": [],
   "source": [
    "import time\n",
    "import random"
   ]
  },
  {
   "cell_type": "markdown",
   "id": "43068eb6-3596-4301-b54b-1669bbe5760e",
   "metadata": {},
   "source": [
    "#### Creating a list with random strings\n",
    "To **test** the functions, I want to have a lot of strings. I'll use **use** the **python random module** to **generate** a **large set of random numbers**, and convert them to strings."
   ]
  },
  {
   "cell_type": "code",
   "execution_count": null,
   "id": "50dfc0b9-3ccb-4db7-896d-634da2ab86cd",
   "metadata": {},
   "outputs": [],
   "source": [
    "# Use a variable to control the number of keys I generate, because we may want to change that to do different tests.\n",
    "NUMBER_OF_KEYS = 1000000"
   ]
  },
  {
   "cell_type": "code",
   "execution_count": null,
   "id": "4dcf0d11-af8c-4de1-aab3-8713da6c4dcf",
   "metadata": {},
   "outputs": [],
   "source": [
    "# intially use a set, to guarantee no duplicates\n",
    "str_set = set({})\n",
    "while len(str_set) < NUMBER_OF_KEYS:\n",
    "    # generate a very large random integer, convert it to a string, and add to set\n",
    "    str_set.add(str(random.randint(0, 1000000000)))\n",
    "\n",
    "# convert the set to a list\n",
    "str_list = list(str_set)\n",
    "\n",
    "# verify the size\n",
    "print(f\"Generated {len(str_list)} unique keys.\")\n",
    "\n",
    "# print the first 5 items so we can confirm the types of strings being inserted\n",
    "print(f\"Sample keys: {str_list[0:5]}\")"
   ]
  },
  {
   "cell_type": "markdown",
   "id": "0dd75bb3-5062-4cd4-953d-f8b99b404bb1",
   "metadata": {},
   "source": [
    "#### Comparing the performance of *sort()* and *sorted()*\n",
    "We'll use the same Python time module we have used in previous examples to measure the execution time."
   ]
  },
  {
   "cell_type": "code",
   "execution_count": null,
   "id": "bd7c84a2-d393-4f5f-80ad-e6882ce5ab18",
   "metadata": {},
   "outputs": [],
   "source": [
    "print(f\"\\n------------------ Sorting {len(str_list):,d} elements ------------------\")\n",
    "\n",
    "# start timer\n",
    "start_time = time.perf_counter()\n",
    "\n",
    "# use sorted function to sort list\n",
    "sorted_list = sorted(str_list)\n",
    "\n",
    "# stop timer and calculate elapsed time\n",
    "end_time = time.perf_counter()\n",
    "sorted_function_time = end_time - start_time\n",
    "\n",
    "# print sorted function time\n",
    "print(f\"\\nTime using sorted() function: {sorted_function_time:.6f} seconds\")\n",
    "                     \n",
    "# start timer\n",
    "start_time = time.perf_counter()\n",
    "\n",
    "# use sort function to sort list\n",
    "str_list.sort()\n",
    "\n",
    "# stop timer and calculate elapsed time\n",
    "end_time = time.perf_counter()\n",
    "sort_method_time = end_time - start_time\n",
    "\n",
    "# print sorted function time\n",
    "print(f\"Time using sort() method: {sort_method_time:.6f} seconds\")\n",
    "\n",
    "# calculate the performance improvement\n",
    "perf_factor = sorted_function_time / sort_method_time\n",
    "print(f\"The sort() method was {perf_factor:.2f} times faster than the sorted() function.\")"
   ]
  },
  {
   "cell_type": "markdown",
   "id": "1de128b7-07e1-48fd-a5c9-cfe4e2ee20e8",
   "metadata": {
    "editable": true,
    "slideshow": {
     "slide_type": ""
    },
    "tags": []
   },
   "source": [
    "It **wasn't** a **huge difference** when I ran (between 1.1 and 1.5 times faster), **but all things being the same**, we should always **use the most efficient option** available."
   ]
  }
 ],
 "metadata": {
  "kernelspec": {
   "display_name": "Python 3 (ipykernel)",
   "language": "python",
   "name": "python3"
  },
  "language_info": {
   "codemirror_mode": {
    "name": "ipython",
    "version": 3
   },
   "file_extension": ".py",
   "mimetype": "text/x-python",
   "name": "python",
   "nbconvert_exporter": "python",
   "pygments_lexer": "ipython3",
   "version": "3.9.2"
  }
 },
 "nbformat": 4,
 "nbformat_minor": 5
}
