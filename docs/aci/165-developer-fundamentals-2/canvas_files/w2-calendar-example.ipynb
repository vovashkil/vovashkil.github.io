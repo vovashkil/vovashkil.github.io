{
 "cells": [
  {
   "cell_type": "markdown",
   "id": "5392ee08-0b62-418c-9cfa-73f5eb782f75",
   "metadata": {},
   "source": [
    "# <span style=\"color:blue\">A Calendar Application Example\n",
    "AWS CLOUD INSTITUTE: PROVIDED FOR EDUCATIONAL INSTRUCTIONAL PURPOSES ONLY."
   ]
  },
  {
   "cell_type": "markdown",
   "id": "ab6d8d2b-b0e4-45a1-841a-4bc3a63ad1ad",
   "metadata": {},
   "source": [
    "# A Schedule Calendar Application\n",
    "We'll **combine** some of the **data structures** we **discussed** to create a simple **scheduling calendar application**. The class will maintain **appointments at the granularity of one hour**. The class will support:\n",
    "- **Adding appointments**\n",
    "- **Deleting appointments**\n",
    "- **Listing monthly appointments**\n",
    "- **Retrieving a specific appoint**\n",
    "- **Returning the next few appointments** based on current time"
   ]
  },
  {
   "cell_type": "markdown",
   "id": "60065644-eae3-4220-ac98-0e6694acbea0",
   "metadata": {},
   "source": [
    "The **class will use multiple data structures**:\n",
    "- A **three dimensional array** to maintain the appointments\n",
    "- A **one dimensional array** to maintain the max days in each month\n",
    "- **Tuples** to return multiple values in a function\n",
    "- A **list of tuples** to represent a list of combined values"
   ]
  },
  {
   "cell_type": "markdown",
   "id": "5e93e633-53f5-4819-9685-7091dce74e32",
   "metadata": {},
   "source": [
    "## MyCalendar Class"
   ]
  },
  {
   "cell_type": "code",
   "execution_count": null,
   "id": "72dd7a94-592f-483a-8ebe-f9e404857fe2",
   "metadata": {
    "editable": true,
    "slideshow": {
     "slide_type": ""
    },
    "tags": []
   },
   "outputs": [],
   "source": [
    "# use the datetime class to get current time\n",
    "import datetime\n",
    "\n",
    "class MyCalendar:\n",
    "    '''\n",
    "    This class will implement a calendar application, which will maintain appointments for a year. It will\n",
    "    take the year in the constructor, so that a new one can be used every year, similar to paper calendars.\n",
    "    The class will use a three dimension array to track appoints for each month, day, and hour.\n",
    "    It will support methods to add appointments, review appointments, and check for upcoming appointments.\n",
    "    '''\n",
    "\n",
    "    # This class variable uses an array to maintain the maximum number of days in each month\n",
    "    # Since the index starts at 0, we put a dummy value for month = 0\n",
    "    # for simplicity, we assume every year is a leap year, and give February 20 days\n",
    "    max_days_in_month = [0, 31, 29, 31, 30, 31, 30, 31, 31, 30, 31, 30, 31]\n",
    "\n",
    "    # This is a simple mapping of month numbers to names\n",
    "    month_names = [\"\", \"January\", \"February\", \"March\", \"April\", \"May\", \"June\", \"July\", \"August\", \"September\", \"October\", \"November\", \"December\"]\n",
    "    \n",
    "    def __init__(self, year):\n",
    "        '''\n",
    "        The constructor will initialize the calendar for the given year, with all appointments set None.\n",
    "        '''\n",
    "\n",
    "        # initizlize years\n",
    "        self.year = year\n",
    "\n",
    "        # Initialize the 3 dimensional array to None.\n",
    "        # So that we don't always have to offset the months and days by one, we make the array one day and month bigger\n",
    "        # That way we can us the [month][day] indexes without having to subtract one\n",
    "        self.appointments = [[[None for hour in range(24)] for day in range(32)] for month in range(13)]\n",
    "\n",
    "    def add_appointment(self, month, day, hour, appointment):\n",
    "        '''\n",
    "        This method will add an appointment to the calendar for the given month, day, and hour.\n",
    "        '''\n",
    "\n",
    "        # raise an exception for an invalid date or time\n",
    "        if not(1 <= month <= 12 and 1 <= day <= self.max_days_in_month[month]  and 0 <= hour < 24):\n",
    "            raise ValueError(\"Invalid month, day, or hour\")\n",
    "\n",
    "        # if there is already an appoint at that time, raise an exception for a conflicting appointment\n",
    "        if self.appointments[month][day][hour]:\n",
    "            raise ValueError(\"Appointment conflict\")\n",
    "\n",
    "        # set the appointment\n",
    "        self.appointments[month][day][hour] = appointment\n",
    "\n",
    "    def delete_appointment(self, month, day, hour):\n",
    "        '''\n",
    "        This method will delete an appointment to the calendar for the given month, day, and hour.\n",
    "        \n",
    "        return:\n",
    "            The deleted appointment, or None if there was none\n",
    "        '''\n",
    "\n",
    "        # raise an exception for an invalid date or time\n",
    "        if not(1 <= month <= 12 and 1 <= day <= self.max_days_in_month[month]  and 0 <= hour < 24):\n",
    "            raise ValueError(\"Invalid month, day, or hour\")\n",
    "\n",
    "        # get the appointment value for this time\n",
    "        appointment = self.appointments[month][day][hour]\n",
    "        \n",
    "        # if there is already an appoint at that time, updated it to None   \n",
    "        if appointment:\n",
    "            self.appointments[month][day][hour] = None\n",
    "\n",
    "        # return the appointment cleared\n",
    "        return appointment\n",
    "\n",
    "    def get_appointment(self, month, day, hour):\n",
    "        '''\n",
    "        This method retrieve the appointment to the calendar for the given month, day, and hour.\n",
    "        \n",
    "        return:\n",
    "            The retrieved appointment, or None if there was none\n",
    "        '''\n",
    "\n",
    "        # raise an exception for an invalid date or time\n",
    "        if not(1 <= month <= 12 and 1 <= day <= self.max_days_in_month[month]  and 0 <= hour < 24):\n",
    "            raise ValueError(\"Invalid month, day, or hour\")\n",
    "\n",
    "        # get the appointment value for this time\n",
    "        return self.appointments[month][day][hour]\n",
    "\n",
    "    def monthly_appointments(self, month):\n",
    "        '''\n",
    "        This method will return the appointments for the given month.\n",
    "\n",
    "        return:\n",
    "            A list of tuples with the format: (month, day, hour, appointment)\n",
    "        '''\n",
    "        # raise an exception for an invalid month\n",
    "        if not(0 <= month < 12):\n",
    "            raise ValueError(\"Invalid month\")\n",
    "\n",
    "        # initialize the result apointments list\n",
    "        result = []\n",
    "        \n",
    "        # loop through each day and hour in that month\n",
    "        for day in range(31):\n",
    "            for hour in range(24):\n",
    "                # if there is an appointment at this hour, add it to result\n",
    "                if self.appointments[month][day][hour]:\n",
    "                    result.append((month, day, hour, self.appointments[month][day][hour]))\n",
    "\n",
    "        # return appointments result\n",
    "        return result\n",
    "\n",
    "    def get_next_appointments(self, num_appointments = 1):\n",
    "        '''\n",
    "        This method will return the appointments after the current time. The num_appointments argument specifies how many to return,\n",
    "        and defaults to 1.\n",
    "\n",
    "        return:\n",
    "            A list of tuples with the format: (month, day, hour, appointment)\n",
    "        '''\n",
    "\n",
    "        # get the current date and time using utility static method\n",
    "        curr_month, curr_day, curr_hour = self.get_current_hour()\n",
    "\n",
    "        # initialize the result apointments list\n",
    "        result = []\n",
    "        \n",
    "        # set the day and hour we'll start to search as the current day\n",
    "        start_day = curr_day\n",
    "        start_hour = curr_hour + 1\n",
    "        \n",
    "        # loop through each month, day, and hour starting from the current date and time\n",
    "        for month in range(curr_month, 13):\n",
    "            # loop through remaining days in the month        \n",
    "            for day in range(curr_day, self.max_days_in_month[month]):\n",
    "                # loop through remaining hours in the day\n",
    "                for hour in range(start_hour, 24):\n",
    "                    # if there was an appointment at this day and hour, add tuple with appointment details to result list\n",
    "                    if self.appointments[month][day][hour]:\n",
    "                        result.append((month, day, hour, self.appointments[month][day][hour]))\n",
    "\n",
    "                        # if we've reached the maximum number of appointments requested, return result imediately\n",
    "                        if len(result) == num_appointments:\n",
    "                            return result\n",
    "                            \n",
    "                # since we finished a day, reset the start hour to 0 for the next day\n",
    "                start_hour = 0\n",
    "            \n",
    "            # since we finieshed a month, reset day to 1 for the next month\n",
    "            start_day = 1\n",
    "\n",
    "        # return list of appointments\n",
    "        return result\n",
    "\n",
    "    @staticmethod\n",
    "    def get_current_hour():\n",
    "        '''\n",
    "        This static method will return a tuple containing the current month, day, and hour\n",
    "        '''\n",
    "        # get current time from datetime module\n",
    "        now = datetime.datetime.now()\n",
    "\n",
    "        # return tuple with month, day, and hour\n",
    "        return (now.month, now.day, now.hour)\n",
    "\n",
    "    def __str__(self):\n",
    "        '''\n",
    "        This method will return a string representation of the calendar object\n",
    "        '''\n",
    "        return f\"Calendar for {self.year}\""
   ]
  },
  {
   "cell_type": "markdown",
   "id": "1978ccd2-96cc-44ec-9d6e-2f83a7bb4775",
   "metadata": {},
   "source": [
    "## Test"
   ]
  },
  {
   "cell_type": "markdown",
   "id": "a37313af-7709-40a3-91b5-64c650dbbd59",
   "metadata": {},
   "source": [
    "### Create an calendar object for the current year"
   ]
  },
  {
   "cell_type": "code",
   "execution_count": null,
   "id": "917a0c79-5d61-4c48-b011-099e092283d7",
   "metadata": {},
   "outputs": [],
   "source": [
    "my_cal = MyCalendar(2024)\n",
    "print(my_cal)"
   ]
  },
  {
   "cell_type": "markdown",
   "id": "cef77efe-a515-42e3-a16b-1721d0147246",
   "metadata": {},
   "source": [
    "### Add some appointments"
   ]
  },
  {
   "cell_type": "markdown",
   "id": "186461a1-3b2d-465e-a8a0-04117d9cabc8",
   "metadata": {},
   "source": [
    "#### Some appointments this week"
   ]
  },
  {
   "cell_type": "code",
   "execution_count": null,
   "id": "db978b71-fdb6-4dc5-a7b8-33440cae890c",
   "metadata": {},
   "outputs": [],
   "source": [
    "# Add appointment for 10/14 at 12pm\n",
    "my_cal.add_appointment(10, 14, 12, \"DF2 - Week 3 - Advanced Data Structures - Stand up - Session 1\")\n",
    "\n",
    "# Add appointment for 10/14 at 13hr (1pm)\n",
    "my_cal.add_appointment(10, 14, 13, \"Walk Tucker and Moose\")\n",
    "\n",
    "# and a few more ...\n",
    "my_cal.add_appointment(10, 14, 14, \"DF2 - Week 3 - Advanced Data Structures - Stand up - Session 2\")\n",
    "my_cal.add_appointment(10, 14, 15, \"Delivery Team Meeting\")\n",
    "my_cal.add_appointment(10, 14, 16, \"DF2 - Week 3 - Advanced Data Structures - Stand up - Session 3\")\n",
    "my_cal.add_appointment(10, 14, 17, \"Feed Tucker and Moose\")"
   ]
  },
  {
   "cell_type": "code",
   "execution_count": null,
   "id": "a68686d9-9e2e-49e9-b78f-4e2819092210",
   "metadata": {},
   "outputs": [],
   "source": [
    "# Add appointment for 10/15 at 12pm\n",
    "my_cal.add_appointment(10, 15, 12, \"DF2 - Week 3 - Advanced Data Structures - Focus Session p1 - Session 1\")\n",
    "\n",
    "# Add appointment for 10/15 at 13hr (1pm)\n",
    "my_cal.add_appointment(10, 15, 13, \"Walk Tucker and Moose\")\n",
    "\n",
    "# and a few more ...\n",
    "my_cal.add_appointment(10, 15, 14, \"DF2 - Week 3 - Advanced Data Structures - Focus Session p1 - Session 2\")\n",
    "my_cal.add_appointment(10, 15, 16, \"DF2 - Week 3 - Advanced Data Structures - Focus Session p1 - Session 3\")\n",
    "my_cal.add_appointment(10, 15, 17, \"Feed Tucker and Moose\")"
   ]
  },
  {
   "cell_type": "code",
   "execution_count": null,
   "id": "ee12e2c0-bad0-4032-b846-5235beb3acd2",
   "metadata": {},
   "outputs": [],
   "source": [
    "# Add appointment for 10/16 at 12pm\n",
    "my_cal.add_appointment(10, 16, 12, \"DF2 - Week 3 - Advanced Data Structures - Focus Session p2 - Session 1\")\n",
    "\n",
    "# Add appointment for 10/16 at 13hr (1pm)\n",
    "my_cal.add_appointment(10, 16, 13, \"Walk Tucker and Moose\")\n",
    "\n",
    "# and a few more ...\n",
    "my_cal.add_appointment(10, 16, 14, \"DF2 - Week 3 - Advanced Data Structures - Focus Session p2 - Session 2\")\n",
    "my_cal.add_appointment(10,16, 16, \"DF2 - Week 3 - Advanced Data Structures - Focus Session p2 - Session 3\")\n",
    "my_cal.add_appointment(10, 16, 17, \"Feed Tucker and Moose\")"
   ]
  },
  {
   "cell_type": "code",
   "execution_count": null,
   "id": "5804c5ee-6f9c-44f3-aff1-6d9a69acec63",
   "metadata": {
    "editable": true,
    "slideshow": {
     "slide_type": ""
    },
    "tags": []
   },
   "outputs": [],
   "source": [
    "# Add appointment for 10/17 at 12pm\n",
    "my_cal.add_appointment(10, 17, 12, \"DF2 - Week 3 - Advanced Data Structures - Labology - Session 1\")\n",
    "\n",
    "# Add appointment for 10/17 at 13hr (1pm)\n",
    "my_cal.add_appointment(10, 17, 13, \"Walk Tucker and Moose\")\n",
    "\n",
    "# and a few more ...\n",
    "my_cal.add_appointment(10, 17, 14, \"DF2 - Week 3 - Advanced Data Structures - Labology - Session 2\")\n",
    "my_cal.add_appointment(10, 17, 16, \"DF2 - Week 3 - Advanced Data Structures - Labology - Session 3\")\n",
    "my_cal.add_appointment(10, 17, 17, \"Feed Tucker and Moose\")"
   ]
  },
  {
   "cell_type": "code",
   "execution_count": null,
   "id": "8bda8655-82be-48ec-bd43-517552eb4922",
   "metadata": {},
   "outputs": [],
   "source": [
    "# Add appointment for 10/18 at 12pm\n",
    "my_cal.add_appointment(10, 18, 12, \"Walk Tucker and Moose\")\n",
    "\n",
    "# Add appointment for 10/18 at 13hr (1pm)\n",
    "my_cal.add_appointment(10, 18, 13, \"One on one with manager\")\n",
    "\n",
    "# and a few more ...\n",
    "my_cal.add_appointment(10, 18, 15, \"Development Fundamentals Team meeting\")"
   ]
  },
  {
   "cell_type": "markdown",
   "id": "c37134ea-d62e-4bf3-9b0c-c96e9f0a6c4a",
   "metadata": {},
   "source": [
    "#### Some appointments next month and beyond"
   ]
  },
  {
   "cell_type": "code",
   "execution_count": null,
   "id": "68516569-5ce8-414b-b7db-3fe85b3e17c4",
   "metadata": {},
   "outputs": [],
   "source": [
    "# Add appointment for 11/4 at 12pm\n",
    "my_cal.add_appointment(11, 4, 12, \"DF2 - Week 6 - Algorithms - Stand up - Session 1\")\n",
    "\n",
    "# and a few more ...\n",
    "my_cal.add_appointment(11, 4, 14, \"DF2 - Week 6 - Algorithms - Stand up - Session 2\")\n",
    "my_cal.add_appointment(11, 4, 15, \"Delivery Team Meeting\")\n",
    "my_cal.add_appointment(11, 4, 16, \"DF2 - Week 6 - Algorithms - Stand up - Session 3\")"
   ]
  },
  {
   "cell_type": "code",
   "execution_count": null,
   "id": "550a837a-47a3-4fe0-a11e-0054fdb7807e",
   "metadata": {},
   "outputs": [],
   "source": [
    "# Add appointment for 11/21 at 4am\n",
    "my_cal.add_appointment(11, 21, 9, \"Fernando's birthday\")\n",
    "\n",
    "# Add appointment for 11/25 at 9am\n",
    "my_cal.add_appointment(11, 25, 9, \"Begin Thanksgiving break\")"
   ]
  },
  {
   "cell_type": "code",
   "execution_count": null,
   "id": "61d16983-49c6-40a1-8708-d352a9331025",
   "metadata": {},
   "outputs": [],
   "source": [
    "# Add appointment for 12/2 at 7am\n",
    "my_cal.add_appointment(12, 2, 7, \"Fernando starting Disney vacation\")\n",
    "\n",
    "# Add appointment for 12/8 at 7pm\n",
    "my_cal.add_appointment(12, 8, 19, \"Fernando returns to New Jersey\")\n",
    "\n",
    "# Add appointment for 12/19 at 4pm\n",
    "my_cal.add_appointment(12, 19, 16, \"Last DF2 session of the year\")"
   ]
  },
  {
   "cell_type": "markdown",
   "id": "f046abd5-4be3-4e00-ab4f-ca8b47136916",
   "metadata": {},
   "source": [
    "### Retrieve appointments"
   ]
  },
  {
   "cell_type": "markdown",
   "id": "6f94e47b-6290-4e2b-8545-c5d266f92223",
   "metadata": {},
   "source": [
    "#### Get specific appointments"
   ]
  },
  {
   "cell_type": "code",
   "execution_count": null,
   "id": "157caff1-7f93-4a4e-8e60-e0a392b228ca",
   "metadata": {},
   "outputs": [],
   "source": [
    "# get appointment for 10/15 at 14hr\n",
    "month = 10\n",
    "day = 15\n",
    "hour = 14\n",
    "appointment = my_cal.get_appointment(month, day, hour)\n",
    "\n",
    "# print appointment if there is one\n",
    "if appointment:\n",
    "    print(f\"On {month}/{day} at {hour}hrs --> {appointment}\")\n",
    "else:\n",
    "    print(f\"You have no appointments at {month}/{day} at {hour}\")"
   ]
  },
  {
   "cell_type": "code",
   "execution_count": null,
   "id": "313c2086-0f97-4cfe-bf28-9da4ce16e5d1",
   "metadata": {},
   "outputs": [],
   "source": [
    "# get appointment (non-existent) for 9/18 at 9am\n",
    "month = 9\n",
    "day = 18\n",
    "hour = 9\n",
    "appointment = my_cal.get_appointment(month, day, hour)\n",
    "\n",
    "# print appointment if there is one\n",
    "if appointment:\n",
    "    print(f\"On {month}/{day} at {hour}hrs --> {appointment}\")\n",
    "else:\n",
    "    print(f\"You have no appointments at {month}/{day} at {hour}\")"
   ]
  },
  {
   "cell_type": "markdown",
   "id": "413092cc-a60c-4d2a-9f29-a41eb7b12f41",
   "metadata": {},
   "source": [
    "#### Get all appointments this month"
   ]
  },
  {
   "cell_type": "code",
   "execution_count": null,
   "id": "998bd0d5-0af3-416b-a405-e99cb2a9a841",
   "metadata": {},
   "outputs": [],
   "source": [
    "# get appointment for specified month\n",
    "month = 10\n",
    "appointments = my_cal.monthly_appointments(month)\n",
    "\n",
    "# print a header using class variable to get month name\n",
    "print(f\"Appointments for {MyCalendar.month_names[month]}:\")\n",
    "\n",
    "# iterate through list of appointments, and get each tuple with appointment info\n",
    "for appt_info in appointments:\n",
    "    # assign variables to each specific item in the tuple\n",
    "    month, day, hour, appointment = appt_info\n",
    "\n",
    "    # print appointment details\n",
    "    print(f\"    On {month}/{day} at {hour}hrs --> {appointment}\")"
   ]
  },
  {
   "cell_type": "markdown",
   "id": "d060f111-2043-4066-a710-33bcd1ccb0bc",
   "metadata": {},
   "source": [
    "#### Get upcoming appointments"
   ]
  },
  {
   "cell_type": "code",
   "execution_count": null,
   "id": "1a29f635-e47d-4a7f-9315-a5a7b5463da9",
   "metadata": {},
   "outputs": [],
   "source": [
    "# get next upcoming appointment based on current time\n",
    "appointments = my_cal.get_next_appointments()\n",
    "\n",
    "# iterate through list of appointments, and get each tuple with appointment info\n",
    "for appt_info in appointments:\n",
    "    # assign variables to each specific item in the tuple\n",
    "    month, day, hour, appointment = appt_info\n",
    "\n",
    "    # print appointment details\n",
    "    print(f\"On {month}/{day} at {hour}hrs --> {appointment}\")"
   ]
  },
  {
   "cell_type": "code",
   "execution_count": null,
   "id": "cc48a7ff-4e57-4162-98dd-5b5aea8fc756",
   "metadata": {},
   "outputs": [],
   "source": [
    "# get next 5 upcoming appointment based on current time\n",
    "appointments = my_cal.get_next_appointments(5)\n",
    "\n",
    "# iterate through list of appointments, and get each tuple with appointment info\n",
    "for appt_info in appointments:\n",
    "    # assign variables to each specific item in the tuple\n",
    "    month, day, hour, appointment = appt_info\n",
    "\n",
    "    # print appointment details\n",
    "    print(f\"On {month}/{day} at {hour}hrs --> {appointment}\")"
   ]
  },
  {
   "cell_type": "markdown",
   "id": "d3e5f2eb-0f96-45a1-9b32-24d13ac18cb6",
   "metadata": {},
   "source": [
    "### Delete appointments"
   ]
  },
  {
   "cell_type": "code",
   "execution_count": null,
   "id": "eab74f46-922a-4632-bcbc-227938f9a0d1",
   "metadata": {},
   "outputs": [],
   "source": [
    "# get appointment for 10/8 at 14hr\n",
    "month = 10\n",
    "day = 7\n",
    "hour = 14\n",
    "appointment = my_cal.get_appointment(month, day, hour)\n",
    "\n",
    "# print appointment\n",
    "print(f\"On {month}/{day} at {hour}hrs --> {appointment}\")\n",
    "\n",
    "# delete the appointment\n",
    "print(\"Deleting appointment ...\")\n",
    "my_cal.delete_appointment(month, day, hour)\n",
    "\n",
    "# try to retrieve and print appointment\n",
    "appointment = my_cal.get_appointment(month, day, hour)\n",
    "print(f\"On {month}/{day} at {hour}hrs --> {appointment}\")"
   ]
  },
  {
   "cell_type": "markdown",
   "id": "0edc8232-6420-45b8-85a0-9c6d26dbde20",
   "metadata": {},
   "source": [
    "### Validation and error handling\n",
    "If we look at the code, we see that most **methods perform validations** up front, **and generate exceptions for invalid cases**."
   ]
  },
  {
   "cell_type": "markdown",
   "id": "7e2401b9-f267-4bdb-9b14-a761139ee830",
   "metadata": {},
   "source": [
    "#### Retrieving an appointment with an invalid date"
   ]
  },
  {
   "cell_type": "code",
   "execution_count": null,
   "id": "c1c913de-8682-48aa-b041-636fa72c488a",
   "metadata": {
    "editable": true,
    "slideshow": {
     "slide_type": ""
    },
    "tags": [
     "raises-exception"
    ]
   },
   "outputs": [],
   "source": [
    "# try to retrieve an appointment for February 30th, which is an invalid day\n",
    "month = 2\n",
    "day = 30\n",
    "hour = 2\n",
    "\n",
    "appointment = my_cal.get_appointment(month, day, hour)\n",
    "print(f\"On {month}/{day} at {hour}hrs --> {appointment}\")"
   ]
  },
  {
   "cell_type": "markdown",
   "id": "2c1a21c3-141e-4dfc-b163-bcf10638f510",
   "metadata": {},
   "source": [
    "#### Trying to add an appoint when there is already one\n",
    "In a simple calendar, we only allow one appoint per slot"
   ]
  },
  {
   "cell_type": "code",
   "execution_count": null,
   "id": "0bedf466-1b67-4a2b-9225-affb38808880",
   "metadata": {
    "editable": true,
    "slideshow": {
     "slide_type": ""
    },
    "tags": [
     "raises-exception"
    ]
   },
   "outputs": [],
   "source": [
    "month = 10\n",
    "day = 15\n",
    "hour = 16\n",
    "\n",
    "# Show there is an appointment already at this time\n",
    "appointment = my_cal.get_appointment(month, day, hour)\n",
    "print(f\"On {month}/{day} at {hour}hrs --> {appointment}\")\n",
    "\n",
    "# Try to add an appointment at the same time\n",
    "print(f\"Trying to add an appointment on {month}/{day} at {hour}hrs ...\")\n",
    "my_cal.add_appointment(month, day, hour, \"Team meeting\")\n",
    "print(\"Appointment added successfully\")"
   ]
  },
  {
   "cell_type": "markdown",
   "id": "5e59ded4-f3b5-43cf-850b-4f679e331bb4",
   "metadata": {
    "editable": true,
    "slideshow": {
     "slide_type": ""
    },
    "tags": []
   },
   "source": [
    "# More ideas\n",
    "**This was** a **simple implementation** to **show** a few **different data structures**. We could use more data structures, object-oriented programming, and Python code to make a **lot more enhancements ...**\n",
    "- Support appointments with flexible begin and end times\n",
    "- Support a multi-year calandar\n",
    "- Print formatted calendars\n",
    "- Maintain some appointments in a high priority queue\n",
    "- Etc, etc, etc\n",
    "\n",
    "Maybe we'll come to it in the future, or maybe you can add some of your own."
   ]
  }
 ],
 "metadata": {
  "kernelspec": {
   "display_name": "Python 3 (ipykernel)",
   "language": "python",
   "name": "python3"
  },
  "language_info": {
   "codemirror_mode": {
    "name": "ipython",
    "version": 3
   },
   "file_extension": ".py",
   "mimetype": "text/x-python",
   "name": "python",
   "nbconvert_exporter": "python",
   "pygments_lexer": "ipython3",
   "version": "3.9.2"
  }
 },
 "nbformat": 4,
 "nbformat_minor": 5
}
