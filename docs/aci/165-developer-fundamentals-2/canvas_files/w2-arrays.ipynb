{
 "cells": [
  {
   "cell_type": "markdown",
   "id": "6487494f-9a69-4401-b282-c51b6aedb070",
   "metadata": {},
   "source": [
    "# <span style=\"color:blue\">Arrays\n",
    "AWS CLOUD INSTITUTE: PROVIDED FOR EDUCATIONAL INSTRUCTIONAL PURPOSES ONLY."
   ]
  },
  {
   "cell_type": "markdown",
   "id": "29755bb0-38da-4c55-82ea-2b5796b1f1dc",
   "metadata": {},
   "source": [
    "# Arrays in Python"
   ]
  },
  {
   "cell_type": "markdown",
   "id": "cd2b9b1a-f275-41dc-b0c0-4dd2496cfe09",
   "metadata": {},
   "source": [
    "There are **multiple ways** that you can **implement arrays in Python**. Some of them were already covered in the eLearning. We'll give some examples here (some are in the eLearning, and some are not)."
   ]
  },
  {
   "cell_type": "markdown",
   "id": "7e3a96e0-2bb4-40f6-bb7e-8c88bfc7a258",
   "metadata": {},
   "source": [
    "## Implementation #1: Using the built-in Python List as is\n",
    "The **standard Python List** class already **supports all** the basic **requirememts for** an **array** implementation.\n",
    "- Supports **efficient index based access**\n",
    "- Supports **arrays of multiple dimensions**"
   ]
  },
  {
   "cell_type": "markdown",
   "id": "ad6a5cc7-f90f-4757-a2d6-793ccded1c92",
   "metadata": {},
   "source": [
    "### Creating arrays\n",
    "Creating an array will look no different than creating a standard list."
   ]
  },
  {
   "cell_type": "markdown",
   "id": "0778a763-0ba4-4833-8b9a-4d4662edb99c",
   "metadata": {},
   "source": [
    "#### Create a one dimensional array"
   ]
  },
  {
   "cell_type": "code",
   "execution_count": null,
   "id": "dee3f80f-0e99-4e7f-a1ab-3768fcff7c85",
   "metadata": {},
   "outputs": [],
   "source": [
    "# create a one dimensional array to store the books of a popular series in order\n",
    "wot_books = [\"The Eye of the World\", \n",
    "             \"The Great Hunt\", \n",
    "             \"The Dragon Reborn\", \n",
    "             \"The Shadow Rising\", \n",
    "             \"The Fires of Heaven\", \n",
    "             \"Lord of Chaos\",\n",
    "             \"A Crown of Swords\",\n",
    "             \"The Path of Daggers\",\n",
    "             \"Winter's Heart\",\n",
    "             \"Crossroads of Twilight\",\n",
    "             \"Knife of Dreams\",\n",
    "             \"The Gathering Storm\",\n",
    "             \"Towers of Midnight\",\n",
    "             \"A Memory of Light\"]\n",
    "\n",
    "print(wot_books)"
   ]
  },
  {
   "cell_type": "code",
   "execution_count": null,
   "id": "77ed47d4-c301-4205-bd2d-11462ccb73e4",
   "metadata": {},
   "outputs": [],
   "source": [
    "# create a an array to store prices of 10 products\n",
    "product_prices = [9.99, 14.99, 19.99, 24.99, 29.99, 34.99, 39.99, 44.99, 49.99, 54.99]\n",
    "print(product_prices)"
   ]
  },
  {
   "cell_type": "markdown",
   "id": "50d9cb20-0785-4b18-8d7e-af844ed76f39",
   "metadata": {},
   "source": [
    "#### Create a two dimensional array\n",
    "A **two dimensional array** will essentially be created as a **list of lists**."
   ]
  },
  {
   "cell_type": "code",
   "execution_count": null,
   "id": "18b79278-dab3-44cc-add6-54e4ff0287c6",
   "metadata": {},
   "outputs": [],
   "source": [
    "# create a two dimensional array to store a crossword puzzle\n",
    "crossword = [[\" \", \" \", \" \", \" \", \" \", \" \", \" \", \" \"],\n",
    "             [\" \", \" \", \"S\", \" \", \" \", \" \", \" \", \" \"],\n",
    "             [\" \", \" \", \"T\", \" \", \"T\", \" \", \"P\", \" \"],\n",
    "             [\" \", \" \", \"A\", \"R\", \"R\", \"A\", \"Y\", \" \"],\n",
    "             [\" \", \" \", \"C\", \" \", \"E\", \" \", \"T\", \" \"],\n",
    "             [\" \", \" \", \"K\", \" \", \"E\", \" \", \"H\", \" \"],\n",
    "             [\" \", \" \", \" \", \" \", \" \", \" \", \"O\", \" \"],\n",
    "             [\" \", \" \", \" \", \" \", \" \", \" \", \"N\", \" \"],\n",
    "             [\" \", \" \", \" \", \" \", \" \", \" \", \" \", \" \"]]\n",
    "\n",
    "print(crossword)"
   ]
  },
  {
   "cell_type": "markdown",
   "id": "0a5f450c-87ee-4b59-ac77-f4cac8c932cc",
   "metadata": {},
   "source": [
    "Ugh! We can print a little nice iterating"
   ]
  },
  {
   "cell_type": "code",
   "execution_count": null,
   "id": "475a2c3b-564c-47af-ac60-10772791b415",
   "metadata": {},
   "outputs": [],
   "source": [
    "for line in crossword:\n",
    "    print(line)"
   ]
  },
  {
   "cell_type": "markdown",
   "id": "db3070c1-96bb-4dec-b2e3-9c04e61867c5",
   "metadata": {},
   "source": [
    "**What about more dimensions?** Yes, we **can do 3 and more**. **We'll see that later**, because they are harder to create with intialized values like we see above."
   ]
  },
  {
   "cell_type": "markdown",
   "id": "a328ce98-9cb8-4a18-92cf-f4ef9868373c",
   "metadata": {},
   "source": [
    "### Index based access\n",
    "A **fast index based access** is one of the most **defining characteristics** of an **array**. We know that Pyhton lists can support that. Just **remember** that **indexes start at 0**."
   ]
  },
  {
   "cell_type": "markdown",
   "id": "bb33099b-6e8c-4d79-a5e1-9e7707acf605",
   "metadata": {},
   "source": [
    "#### Access in one dimension"
   ]
  },
  {
   "cell_type": "markdown",
   "id": "b3d849cd-ef13-4a0f-8fb3-9665b8174ac7",
   "metadata": {},
   "source": [
    "We can **use the indexes to retrieve values**."
   ]
  },
  {
   "cell_type": "code",
   "execution_count": null,
   "id": "95e3b101-8bab-4790-a126-b083236bf4df",
   "metadata": {},
   "outputs": [],
   "source": [
    "# get the first book in the book series\n",
    "print(wot_books[0])\n",
    "\n",
    "# get the fifth book in the book series\n",
    "print(wot_books[4])"
   ]
  },
  {
   "cell_type": "markdown",
   "id": "de2ddf72-f422-47be-bee8-697095d34a50",
   "metadata": {},
   "source": [
    "Also **use the indexes to update values**."
   ]
  },
  {
   "cell_type": "code",
   "execution_count": null,
   "id": "16d6b7c0-be51-4aef-bf33-c244949e7176",
   "metadata": {},
   "outputs": [],
   "source": [
    "# print the current product prices\n",
    "print(f\"Current prices: {product_prices}\")\n",
    "\n",
    "# update the 3rd item price\n",
    "product_prices[2] = 24.99\n",
    "\n",
    "# print the updated prices\n",
    "print(f\"Updated prices: {product_prices}\")"
   ]
  },
  {
   "cell_type": "markdown",
   "id": "e05f61e0-347d-4490-9967-0a223ebf1ca7",
   "metadata": {},
   "source": [
    "#### Access in two dimensions"
   ]
  },
  {
   "cell_type": "markdown",
   "id": "6945d4d4-ce77-48cb-80f0-4d8cc9f8faeb",
   "metadata": {},
   "source": [
    "We can **use the indexes to retrieve values**."
   ]
  },
  {
   "cell_type": "code",
   "execution_count": null,
   "id": "8077623e-bbb9-4d4d-baf5-bcff75dfa842",
   "metadata": {
    "scrolled": true
   },
   "outputs": [],
   "source": [
    "# print the cross array again to visualize the puzzle\n",
    "for line in crossword:\n",
    "    print(line)\n",
    "\n",
    "# print the word \"ARRAY\" character by character\n",
    "print(f\"\\nWord: {crossword[3][2]}{crossword[3][3]}{crossword[3][4]}{crossword[3][5]}{crossword[3][6]}\")"
   ]
  },
  {
   "cell_type": "markdown",
   "id": "4c426d9e-7338-4953-894d-cd49cd86344f",
   "metadata": {},
   "source": [
    "Also **use the indexes to update values**. Let's **add the word \"SET\"** to the puzzle."
   ]
  },
  {
   "cell_type": "code",
   "execution_count": null,
   "id": "6796aae0-fc99-4721-b69a-f63eca39c997",
   "metadata": {},
   "outputs": [],
   "source": [
    "# Add the word \"SET\" to the puzzle (the \"T\" is already there)\n",
    "crossword[2][0] = \"S\"\n",
    "crossword[2][1] = \"E\"\n",
    "\n",
    "# print the cross array again to visualize the puzzle\n",
    "for line in crossword:\n",
    "    print(line)"
   ]
  },
  {
   "cell_type": "markdown",
   "id": "31d2b9ca-1946-4cf7-8a8a-005f9bb8365c",
   "metadata": {},
   "source": [
    "### Iterating\n",
    "We know there are various ways to iterate with a Python list. But since we're discussing arrays here, the **\"classic\" way** to **iterate in an array** is using for **loops with indexes**."
   ]
  },
  {
   "cell_type": "markdown",
   "id": "e754002d-089f-4f59-99c2-c993b2955a23",
   "metadata": {},
   "source": [
    "#### Loop in one dimension"
   ]
  },
  {
   "cell_type": "code",
   "execution_count": null,
   "id": "31e2aa41-a9a0-4328-b182-b878a5f76cdc",
   "metadata": {},
   "outputs": [],
   "source": [
    "# print all the books in the series\n",
    "for i in range(len(wot_books)):\n",
    "    print(wot_books[i])"
   ]
  },
  {
   "cell_type": "markdown",
   "id": "516c35eb-a1a7-498c-9b38-d7fee452081e",
   "metadata": {},
   "source": [
    "#### Loop in two dimensions"
   ]
  },
  {
   "cell_type": "code",
   "execution_count": null,
   "id": "d097acd6-c753-47e6-85fc-22378c2f0310",
   "metadata": {},
   "outputs": [],
   "source": [
    "# print all the non-empty characters in the crossword\n",
    "for i in range(len(crossword)):\n",
    "    for j in range(len(crossword[i])):\n",
    "        if crossword[i][j] != \" \":\n",
    "            print(crossword[i][j], end=\" \")"
   ]
  },
  {
   "cell_type": "markdown",
   "id": "d111c0fe-2f56-4aca-a0cf-5d5716e69f37",
   "metadata": {},
   "source": [
    "#### Loop in three dimensions\n",
    "We'll finally **show a three dimensional array**, **using** a **loop to create** it.\n",
    "\n",
    "For an example of a **3 dimensional array**, imagine we were trying to track the **hourly temperature each day for a year**. So we would have:\n",
    "- Month of the year (0-11)\n",
    "- Day ot the month (0-30)\n",
    "- Hour of the day (0 - 23)\n",
    "\n",
    "Remember, aside from the hour, which can start with 0 at midnight, the month and day will be offset by 1, since the **indexes always start at 0**.\n",
    "\n",
    "**Note**: we **could add** some **if statements in** the **code below** to **account for** the **different number of days in each month**, **but we'll keep it simple**, and fill in **every month** to **31 days**. Feel free to play around with the code, and make it more accurate."
   ]
  },
  {
   "cell_type": "code",
   "execution_count": null,
   "id": "86465625-40d5-47ae-9f1f-43c4e8e9d4f8",
   "metadata": {},
   "outputs": [],
   "source": [
    "# use the Python random module to generate some random temperatures\n",
    "import random"
   ]
  },
  {
   "cell_type": "code",
   "execution_count": null,
   "id": "43369a32-7e77-4955-8695-175247172c12",
   "metadata": {},
   "outputs": [],
   "source": [
    "# create a three dimensional array to store hourly temperatures for a year\n",
    "# initilize values to -1, using list comprehension\n",
    "temperatures = [[[-1 for hour in range(24)] for day in range(31)] for month in range(12)]\n",
    "\n",
    "# loop through the three dimensions, and set a random value\n",
    "for month in range(12):\n",
    "    for day in range(31):\n",
    "        for hour in range(24):\n",
    "            # use the 3 dimensions indexes to set the temparature\n",
    "            temperatures[month][day][hour] = random.randint(60, 100)"
   ]
  },
  {
   "cell_type": "markdown",
   "id": "61f49dc5-dd59-48dc-a703-c8686adbfecc",
   "metadata": {},
   "source": [
    "Now we can **use the indexes to get the temperature for any day**"
   ]
  },
  {
   "cell_type": "code",
   "execution_count": null,
   "id": "24b9c49f-86b2-40ab-8640-a6314e4f879a",
   "metadata": {},
   "outputs": [],
   "source": [
    "# get the temperature for May 12th at 9am\n",
    "print(f\"Temperature on May 12th at 10pm: {temperatures[4][11][9]}°F\")\n",
    "\n",
    "# get the temperature for February 19th at 10pm\n",
    "print(f\"Temperature on February 19th at 10pm: {temperatures[1][18][22]}°F\")"
   ]
  },
  {
   "cell_type": "markdown",
   "id": "1e584fec-c7ca-47d3-81a8-1157080782ad",
   "metadata": {},
   "source": [
    "## Implementation #2: Using the Python array module\n",
    "Python also has a **built-in [array module](https://docs.python.org/3/library/array.html)**, which is **specifically created** to **efficiently manage numeric arrays**. It **supports all** the basic **requirememts for** an **array** implementation.\n",
    "- Supports **efficient index based access**\n",
    "- Supports **arrays of multiple dimensions**"
   ]
  },
  {
   "cell_type": "markdown",
   "id": "00cac7c9-9d46-4ea3-85f4-57af49b117b6",
   "metadata": {},
   "source": [
    "#### Why would we use the array module?\n",
    "\n",
    "The array module is **more memory efficient than** the a **standard List**, and has broader support of various numeric types. It **requires homogenous data types**, meaning that all array elements are of the same type. It is a **good option if** we're **operating** on **large arrays of numbers**."
   ]
  },
  {
   "cell_type": "markdown",
   "id": "b1511bb8-b192-478f-841f-27b1886495ee",
   "metadata": {},
   "source": [
    "### Import the array module\n",
    "The array module is a **built-in module**, so it **does not have to be installed** separately from Python. But we do **need to import it**. It's a good convention to **import it as \"arr\"**, and then every **subsequent operation** will be **prefixed with \"arr.\"**"
   ]
  },
  {
   "cell_type": "code",
   "execution_count": null,
   "id": "995a5bda-55c6-4699-a63f-d39ba4f6ff3d",
   "metadata": {},
   "outputs": [],
   "source": [
    "import array as arr"
   ]
  },
  {
   "cell_type": "markdown",
   "id": "efdf79d0-5f3a-4d1e-8d67-177e050fff27",
   "metadata": {},
   "source": [
    "### Create an array module array\n",
    "**Creating an array module array** is very similar, but it **takes** an **additional argument** to **specify the data type**. Having a well defined homogeneous data type allows the array module to be more memory efficient."
   ]
  },
  {
   "cell_type": "code",
   "execution_count": null,
   "id": "baa88b2a-3e9f-4e8a-8f93-006b069d3862",
   "metadata": {},
   "outputs": [],
   "source": [
    "# create an integer array to story daily temperatures by the hour\n",
    "daily_temps = arr.array('i', [55, 58, 59, 63, 65, 72, 75, 77, 78, 79, 80, 81, 82, 80, 78, 77, 75, 73, 70, 65, 64, 63, 62, 60])\n",
    "\n",
    "print(daily_temps)"
   ]
  },
  {
   "cell_type": "code",
   "execution_count": null,
   "id": "61b8a75e-a9c0-4651-b6f6-d30a1732f36d",
   "metadata": {},
   "outputs": [],
   "source": [
    "# create a floating point array to store prices of 10 products\n",
    "product_prices = arr.array('f', [9.99, 14.99, 19.99, 24.99, 29.99, 34.99, 39.99, 44.99, 49.99, 54.99])\n",
    "print(product_prices)"
   ]
  },
  {
   "cell_type": "markdown",
   "id": "e910c4eb-bc11-413e-8e39-c7e510beb8e1",
   "metadata": {},
   "source": [
    "You see the array having a lot of extra precision added."
   ]
  },
  {
   "cell_type": "markdown",
   "id": "30f527e0-fd80-4e3c-b973-187946dc3c1d",
   "metadata": {},
   "source": [
    "#### Two dimensional arrays?\n",
    "The **array module doesn't cleanly support multi-dimensional arrays**. **For a memory efficient array solution supporting multiple dimensions**, we will look at the **NumPy module** later in this course"
   ]
  },
  {
   "cell_type": "markdown",
   "id": "dd00b7bd-beec-4290-a548-3f1770fc8aa4",
   "metadata": {},
   "source": [
    "### Index based access\n",
    "**Index based access** will be **nearly identical** to what we saw with lists."
   ]
  },
  {
   "cell_type": "code",
   "execution_count": null,
   "id": "0930ccfd-363a-4e71-8916-b5fe1eedfdaa",
   "metadata": {},
   "outputs": [],
   "source": [
    "# print the the temperature at 2am\n",
    "print(daily_temps[2])"
   ]
  },
  {
   "cell_type": "markdown",
   "id": "731aa61c-47f1-4250-ba16-087441f8d01f",
   "metadata": {},
   "source": [
    "Also **use the indexes to update values**."
   ]
  },
  {
   "cell_type": "code",
   "execution_count": null,
   "id": "98cf15e4-254b-451f-8a14-db0e014aa4bd",
   "metadata": {},
   "outputs": [],
   "source": [
    "# print the current product prices (rounded to 2 decimal places)\n",
    "print(f\"Current prices: {product_prices}\")\n",
    "\n",
    "# update the 5th item price\n",
    "product_prices[4] = 24.99\n",
    "\n",
    "# print the updated prices\n",
    "print(f\"Updated prices: {product_prices}\")"
   ]
  },
  {
   "cell_type": "markdown",
   "id": "2133326b-53d7-4feb-acfc-6e9e3f843292",
   "metadata": {},
   "source": [
    "I'm **not crazy about all the extra decimals**, but when we **can round** it **when we use** it."
   ]
  },
  {
   "cell_type": "code",
   "execution_count": null,
   "id": "d75b2591-3028-4fcc-926e-ab1d907257d3",
   "metadata": {},
   "outputs": [],
   "source": [
    "# print the first price rounded to 2 decimal places\n",
    "print(f\"First price: {product_prices[0]:.2f}\")"
   ]
  },
  {
   "cell_type": "markdown",
   "id": "53a79dbc-afcc-4c9e-ad63-00d822e90270",
   "metadata": {},
   "source": [
    "### Iterating"
   ]
  },
  {
   "cell_type": "code",
   "execution_count": null,
   "id": "047936c8-9914-49f8-b287-8e32fb000bc2",
   "metadata": {},
   "outputs": [],
   "source": [
    "# print all the temperatures in the array\n",
    "for i in range(len(daily_temps)):\n",
    "    print(f\"Hour {i+1}: {daily_temps[i]}F\")"
   ]
  },
  {
   "cell_type": "markdown",
   "id": "cfc91444-a18f-4413-923d-5a99b493907f",
   "metadata": {},
   "source": [
    "# <span style=\"color:blue\">OPTIONAL</span> "
   ]
  },
  {
   "cell_type": "markdown",
   "id": "4fabd7c4-2257-495b-8712-7cad3777ea45",
   "metadata": {},
   "source": [
    "# Initializing a list based array\n",
    "In this Notebook, **we saw** the **following statement** being **used to initialize an array**:\n",
    "- temperatures = [[[-1 for hour in range(24)] for day in range(31)] for month in range(12)]\n",
    "\n",
    "How did that work?\n",
    "\n",
    "The **statement is creating three nested lists using List comprehension**. List comprehension is not in the scope of our discussion, but you can view the documentation \n",
    "**[here](https://docs.python.org/2/tutorial/datastructures.html#list-comprehensions)**. I'll try to break it doen here."
   ]
  },
  {
   "cell_type": "markdown",
   "id": "1ac7ef15-1068-40e0-b789-559623c2edcc",
   "metadata": {},
   "source": [
    "## Basic list comprehension\n",
    "**List comprehension** allows you to **create a list from other lists and expressions in a single line**. This is a bigger topic, but I'll show some simple examples here. But there is a lot more to it."
   ]
  },
  {
   "cell_type": "markdown",
   "id": "31d5a146-cafa-4a3b-9101-9d804aa99d3f",
   "metadata": {},
   "source": [
    "### One dimension"
   ]
  },
  {
   "cell_type": "code",
   "execution_count": null,
   "id": "a42c0398-e4b0-4d9f-8d21-626ac490a64d",
   "metadata": {},
   "outputs": [],
   "source": [
    "# create a list of numbers 1 to 10 with list comprehension\n",
    "nums = [i for i in range(1, 11)]\n",
    "print(nums)"
   ]
  },
  {
   "cell_type": "code",
   "execution_count": null,
   "id": "b14b5167-7936-4f96-9cd8-50e71304021a",
   "metadata": {},
   "outputs": [],
   "source": [
    "# create a with 10 numbers, all of them 7\n",
    "# in this case, the for loop is used just to count how many \"7\"s I add\n",
    "sevens = [7 for i in range(10)]\n",
    "print(sevens)"
   ]
  },
  {
   "cell_type": "markdown",
   "id": "753be264-21e6-48ba-8108-f6b4f2b83a60",
   "metadata": {},
   "source": [
    "### Two dimensions\n",
    "A **two dimensional array**, is simply **a list, where each element is another list**. So **to initialize** that to a value, I **need** to have **list comprehension inside another list comprehension**."
   ]
  },
  {
   "cell_type": "code",
   "execution_count": null,
   "id": "489c6143-2080-441a-a5ec-e4b4ff7184a0",
   "metadata": {},
   "outputs": [],
   "source": [
    "# Initialize an 4 x 3 array to with -1 values\n",
    "rows = 4\n",
    "cols = 3\n",
    "\n",
    "# The i loop is going to generate the number of rows needed\n",
    "# Then each row, will be one of the lists generated in the j loop\n",
    "grid = [[-1 for j in range(cols)] for i in range(rows)]\n",
    "\n",
    "print(grid)"
   ]
  },
  {
   "cell_type": "markdown",
   "id": "4c7eaf92-4472-4709-94bb-ad37cd7436a3",
   "metadata": {},
   "source": [
    "### Three dimensions\n",
    "**Three dimensions** will be a **list of a list of a list**. Yes, that's getting **crazy!**\n",
    "\n",
    "So **to initialize**, I **add one more list comprehension around**."
   ]
  },
  {
   "cell_type": "code",
   "execution_count": null,
   "id": "78c2053a-1d37-43fc-838f-4c65125a6799",
   "metadata": {},
   "outputs": [],
   "source": [
    "# Initialize a 2 x 4 x 3 array to with 0 values\n",
    "x = 2\n",
    "y = 4\n",
    "z = 3\n",
    "\n",
    "# Each loop in each list comprehension adds another dimension\n",
    "cube = [[[0 for k in range(z)] for j in range(y)] for i in range(x)]\n",
    "\n",
    "print(cube)\n",
    "\n",
    "# it's hard to visually I have 3 dimensions printing the whole thing\n",
    "# We can see we can check some values to confirm that we have 3 dimensions now\n",
    "print()\n",
    "print(f\"The cube[1][3][1] value is {cube[1][3][1]}\")\n",
    "print(f\"The cube[0][2][2] value is {cube[0][2][2]}\")"
   ]
  },
  {
   "cell_type": "markdown",
   "id": "a99196f5-a878-4edf-a4a5-019c475684e4",
   "metadata": {},
   "source": [
    "### Create and initialize an array for 24 hours\n",
    "Based on the example above, it's easy to see how we can create just the hourly part of our target statement."
   ]
  },
  {
   "cell_type": "code",
   "execution_count": null,
   "id": "65e56566-6a7c-4c03-aa9c-c12c43dc6e48",
   "metadata": {},
   "outputs": [],
   "source": [
    "# create a with 24 numbers for each hour, initialized to -1\n",
    "hour_temps = [-1 for hour in range(24)]\n",
    "print(hour_temps)"
   ]
  },
  {
   "cell_type": "markdown",
   "id": "bbdf0d89-9751-4c87-aa74-a93b7fac0760",
   "metadata": {},
   "source": [
    "**If** we were just **creating temparartures in a month**, then it will be **just like the two dimensions example** above. Just so we can print it a little easier, lets **do it for only 10 days**, instead of 31"
   ]
  },
  {
   "cell_type": "code",
   "execution_count": null,
   "id": "19e61b74-515e-42c4-bbb3-e24064160aed",
   "metadata": {},
   "outputs": [],
   "source": [
    "monthly_temps = [[-1 for hour in range(24)] for day in range(10)]\n",
    "print(monthly_temps)"
   ]
  },
  {
   "cell_type": "markdown",
   "id": "12433284-f4ea-44ad-b03c-8eb9149a49eb",
   "metadata": {},
   "source": [
    "Just like the earlier example, **to add the months in the year**, we need to **add** just **one more list comprehension in the end**, to account **for the 12 months**."
   ]
  },
  {
   "cell_type": "code",
   "execution_count": null,
   "id": "b19fb2bc-f819-4dc4-91ba-675b4ecce486",
   "metadata": {},
   "outputs": [],
   "source": [
    "yearly_temps = [[[-1 for hour in range(24)] for day in range(10)] for month in range(12)]\n",
    "print(yearly_temps)"
   ]
  },
  {
   "cell_type": "markdown",
   "id": "501e6731-a801-435f-9cca-65e2ef7dcdf7",
   "metadata": {},
   "source": [
    "### Which brings us back to ...\n",
    "Now we can see why the following works"
   ]
  },
  {
   "cell_type": "code",
   "execution_count": null,
   "id": "144724c9-7973-4505-8f15-53e9d2791fe7",
   "metadata": {},
   "outputs": [],
   "source": [
    "# create a three dimensional array to store hourly temperatures for a year\n",
    "# initilize values to -1, using list comprehension\n",
    "temperatures = [[[-1 for hour in range(24)] for day in range(31)] for month in range(12)]\n",
    "\n",
    "# loop through the three dimensions, and set a random value\n",
    "for month in range(12):\n",
    "    for day in range(31):\n",
    "        for hour in range(24):\n",
    "            # use the 3 dimensions indexes to set the temparature\n",
    "            temperatures[month][day][hour] = random.randint(60, 100)\n",
    "\n",
    "# print a few temparatures to test\n",
    "print(f\"Temperature on May 12th at 10pm: {temperatures[4][11][9]}°F\")\n",
    "print(f\"Temperature on February 19th at 10pm: {temperatures[1][18][22]}°F\")"
   ]
  }
 ],
 "metadata": {
  "kernelspec": {
   "display_name": "Python 3 (ipykernel)",
   "language": "python",
   "name": "python3"
  },
  "language_info": {
   "codemirror_mode": {
    "name": "ipython",
    "version": 3
   },
   "file_extension": ".py",
   "mimetype": "text/x-python",
   "name": "python",
   "nbconvert_exporter": "python",
   "pygments_lexer": "ipython3",
   "version": "3.9.2"
  }
 },
 "nbformat": 4,
 "nbformat_minor": 5
}
