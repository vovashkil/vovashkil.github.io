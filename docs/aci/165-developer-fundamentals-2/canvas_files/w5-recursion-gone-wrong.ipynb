{
 "cells": [
  {
   "cell_type": "markdown",
   "id": "e4c016c2-c785-4acc-99cf-f72a2a66ca8f",
   "metadata": {},
   "source": [
    "# <span style=\"color:blue\"> Recursion Gone Wrong\n",
    "AWS CLOUD INSTITUTE: PROVIDED FOR EDUCATIONAL INSTRUCTIONAL PURPOSES ONLY."
   ]
  },
  {
   "cell_type": "markdown",
   "id": "f0f08037-165f-4000-95a4-fd464de4bf94",
   "metadata": {},
   "source": [
    "# Fernando Takes down development server with bad recursion\n",
    "As it goes in movies, this is \"based on a true story\" when I took down my entire department development server with bad recursion. I've simplified the ticketing system a lot, but the main point is the same."
   ]
  },
  {
   "cell_type": "markdown",
   "id": "d41f1d40-ae1f-4031-baab-5489b0ef3242",
   "metadata": {},
   "source": [
    "## Background: trouble ticketing in a real development environment\n",
    "We worked with a **typical trouble ticketing system**, where **testers** would **create trouble tickets when** they **found problems** in the software. Early in the development cycle, **developers** themselves would **create tickets during unit testing**. **Tickets** were **associated with any changes made in source control**, so you could always track what issue was associated with a change in the source code. That's a good best practice."
   ]
  },
  {
   "cell_type": "markdown",
   "id": "061f5f7e-0816-49b9-ad17-a57c9babcb8c",
   "metadata": {},
   "source": [
    "## Simple Trouble Ticket class\n",
    "This is an extreme simplification of a ticket class. A real ticket would have a vast amount of attributes, and a lot more possible states as it progresses through testing phases. But for the purpose of the recursion story, it serves the purpose."
   ]
  },
  {
   "cell_type": "code",
   "execution_count": null,
   "id": "dbb1774e-5c03-423d-8795-08ae5e6dabbc",
   "metadata": {},
   "outputs": [],
   "source": [
    "class Ticket:\n",
    "    '''\n",
    "    Record a trouble ticket, with Id, description, status, and depent tickets\n",
    "    '''\n",
    "    def __init__(self, ticket_id, description, status = \"Open\"):\n",
    "        self.ticket_id = ticket_id\n",
    "        self.description = description\n",
    "        self.status = status\n",
    "        self.dependent_tickets = []\n",
    "\n",
    "    def close(self):\n",
    "        '''\n",
    "        Close the ticket, but only if all of the dependent tickets are closed\n",
    "        '''\n",
    "        if all(ticket.status == \"Closed\" for ticket in self.dependent_tickets):\n",
    "            self.status = \"Closed\"\n",
    "        else:\n",
    "            raise ValueError(\"Cannot close ticket until all dependent tickets are closed\")\n",
    "\n",
    "\n",
    "    def __str__(self):\n",
    "        # create list of dependent ticket ids\n",
    "        dep_ids = [ticket.ticket_id for ticket in self.dependent_tickets]\n",
    "        \n",
    "        return f\"Ticket {self.ticket_id}: {self.description} ({self.status}) - Dependent tickets: {str(dep_ids)}\""
   ]
  },
  {
   "cell_type": "markdown",
   "id": "66828b67-4afe-4c02-b623-a53926b3ffc7",
   "metadata": {},
   "source": [
    "### Create some tickets\n",
    "Let's create some sample tickets. In my story, these were software issues on a large application, but for an example, it's easier to use hardware issues anyone can relate to."
   ]
  },
  {
   "cell_type": "code",
   "execution_count": null,
   "id": "57f39a62-e15c-4e10-9d35-a4d60aed7591",
   "metadata": {},
   "outputs": [],
   "source": [
    "# create tickets\n",
    "ticket1 = Ticket(1, \"My computer displays error when booting up\")\n",
    "ticket2 = Ticket(2, \"I can't upload files\")\n",
    "ticket3 = Ticket(3, \"I can't download files\")\n",
    "ticket4 = Ticket(4, \"My printer is jammed\")\n",
    "ticket5 = Ticket(5, \"I hard drive is making strange noises\")\n",
    "ticket6 = Ticket(6, \"I can't scan\")\n",
    "ticket7 = Ticket(7, \"I can't email\")\n",
    "ticket8 = Ticket(8, \"I can't log in\")\n",
    "ticket9 = Ticket(9, \"I can't print\")\n",
    "ticket10 = Ticket(10, \"Cannot print printer diagnostic page\")\n",
    "\n",
    "# print current tickets\n",
    "print(ticket1)\n",
    "print(ticket2)\n",
    "print(ticket3)\n",
    "print(ticket4)\n",
    "print(ticket5)\n",
    "print(ticket6)\n",
    "print(ticket7)\n",
    "print(ticket8)\n",
    "print(ticket9)\n",
    "print(ticket10)"
   ]
  },
  {
   "cell_type": "markdown",
   "id": "f3c18ff9-b670-41fb-89fa-80e741ee7f0d",
   "metadata": {},
   "source": [
    "### Close a ticket\n",
    "In a normal software development cycle, closing a ticket is not a simple one step. It will go through various states of testing, until a tester agrees the problem was resolved. But yes, ultimately it will get resolved/closed, so the simplified example is going straight there."
   ]
  },
  {
   "cell_type": "code",
   "execution_count": null,
   "id": "c1b1a4a9-5ba6-4def-ac09-ba05b501b92a",
   "metadata": {},
   "outputs": [],
   "source": [
    "ticket8.close()\n",
    "print(ticket8)"
   ]
  },
  {
   "cell_type": "markdown",
   "id": "67fd64b2-ed97-415a-b098-cf41eb16f054",
   "metadata": {},
   "source": [
    "Everything looks great. But **what if my ticket has a dependency**?"
   ]
  },
  {
   "cell_type": "markdown",
   "id": "2c41de8b-8a74-4134-a6ec-5580cc8860d5",
   "metadata": {},
   "source": [
    "#### Add a dependency to from ticket 2 to ticket 5 \n",
    "Let's say the **problem uploading** is **related to** the **hard drive issue**"
   ]
  },
  {
   "cell_type": "code",
   "execution_count": null,
   "id": "f8970cd2-2405-44a5-8f87-06995d43cb1d",
   "metadata": {},
   "outputs": [],
   "source": [
    "# add a dependency to from ticket 2 to ticket 5\n",
    "ticket2.dependent_tickets.append(ticket5)\n",
    "print(ticket2)\n",
    "print(ticket5)"
   ]
  },
  {
   "cell_type": "markdown",
   "id": "0b9e9bb7-c1a0-42cd-8f4f-15bc7469c279",
   "metadata": {},
   "source": [
    "#### Now try to close the ticket with the dependency\n",
    "We will get an **error**, **because** we **can't close a ticket if there is a dependent one open.**. That's a actually a common good practice."
   ]
  },
  {
   "cell_type": "code",
   "execution_count": null,
   "id": "fc616cc6-7abe-444a-a039-895fc2d95252",
   "metadata": {
    "editable": true,
    "slideshow": {
     "slide_type": ""
    },
    "tags": [
     "raises-exception"
    ]
   },
   "outputs": [],
   "source": [
    "ticket2.close()"
   ]
  },
  {
   "cell_type": "markdown",
   "id": "f9a9858d-e777-41c1-a11a-46c5df57ca5c",
   "metadata": {
    "editable": true,
    "slideshow": {
     "slide_type": ""
    },
    "tags": []
   },
   "source": [
    "## Issue for developers early in the development cycle\n",
    "The dependency check above was a good practice. Testers need to make sure they closed tickets in sync. However, **early in the development cycle**, **developers** themselves **created tickets anytime** they had to **push code to source control**. That was a mandatory practice (and a good one). **These weren't bugs really**, but part of the process of creating initial versions of application code.\n",
    "\n",
    "The **problem** was, **when** it came time to **deliver** the **code to** the official **system test team**, **developers had to move all** of those **tickets, one by one**, through various states. In the **real world** there are a **lot more intermediate states between open and close**. It was a **tedious time-consuming process**, often times made **harder**, **when** we hit one of those **ticket dependencies**."
   ]
  },
  {
   "cell_type": "markdown",
   "id": "3626134d-b443-4ab3-b7a1-f1348834e5b9",
   "metadata": {
    "editable": true,
    "slideshow": {
     "slide_type": ""
    },
    "tags": []
   },
   "source": [
    "## Fernando's brilliant idea: fasttrack\n",
    "I had the **brillian idea** that when it was time to deliver new software (not bug fixes), I could **close all related tickets in one shot**. I even gave it a fancy name: **fasttrack**."
   ]
  },
  {
   "cell_type": "markdown",
   "id": "22e65be3-fcd2-456c-a369-e80f26b75cec",
   "metadata": {},
   "source": [
    "### Fasttrack\n",
    "The **actual *fasttrack**** was written using **UNIX shell script**, and it **sequentially moved** the trouble **tickets through various states** **until** the final **\"closed\"** state.\n",
    "\n",
    "This is a simplified \"re-enacment\" of the algorithm using Python. Note the **key recursive part**. **If** a **ticket has dependent children**, the **script would recursively call** a **new version of itself** to close that ticket first, thus avoiding that dependency error."
   ]
  },
  {
   "cell_type": "code",
   "execution_count": null,
   "id": "e90ac7e0-3af8-4d4a-876d-c50b0a79fb7d",
   "metadata": {
    "editable": true,
    "slideshow": {
     "slide_type": ""
    },
    "tags": []
   },
   "outputs": [],
   "source": [
    "def fasttrack(ticket):\n",
    "    '''\n",
    "    Close a ticket, by recursevely closing any of its children first\n",
    "    '''\n",
    "\n",
    "    print(f\"Closing ticket {ticket.ticket_id}\", flush=True)\n",
    "    \n",
    "    # first recursively close all the children. If there are no children, we will skip to the next line, and end teh recursion\n",
    "    for child_ticket in ticket.dependent_tickets:\n",
    "        fasttrack(child_ticket)\n",
    "\n",
    "    # now close the current ticket\n",
    "    ticket.close()"
   ]
  },
  {
   "cell_type": "markdown",
   "id": "bba8b2db-8f98-4dcd-9c44-a36d7bd829be",
   "metadata": {
    "editable": true,
    "slideshow": {
     "slide_type": ""
    },
    "tags": []
   },
   "source": [
    "### And it would have worked really well if not for ...\n",
    "This was a **solid plan**, and you can see it **works for** our **simple case earlier**."
   ]
  },
  {
   "cell_type": "markdown",
   "id": "382059ae-eebe-4fc3-a40b-739c2f5a0182",
   "metadata": {
    "editable": true,
    "slideshow": {
     "slide_type": ""
    },
    "tags": []
   },
   "source": [
    "#### \"Fasttrack\" the same ticket that failed above"
   ]
  },
  {
   "cell_type": "code",
   "execution_count": null,
   "id": "33bb408b-6eff-48cf-9e59-d69439c4eeb9",
   "metadata": {
    "editable": true,
    "slideshow": {
     "slide_type": ""
    },
    "tags": []
   },
   "outputs": [],
   "source": [
    "# try to close ticket2\n",
    "fasttrack(ticket2)\n",
    "\n",
    "# Show ticket2 is closed, as well as all its children\n",
    "print(ticket2)\n",
    "for ticket in ticket2.dependent_tickets:\n",
    "    print(ticket)"
   ]
  },
  {
   "cell_type": "markdown",
   "id": "dc017c39-cc30-4728-b385-3c8d06e38ce7",
   "metadata": {
    "editable": true,
    "slideshow": {
     "slide_type": ""
    },
    "tags": []
   },
   "source": [
    "### That would have worked like a charm, but let's look a these 3 tickets, and see how disaster can happen ..."
   ]
  },
  {
   "cell_type": "code",
   "execution_count": null,
   "id": "fbea4ac0-6eab-4c6f-b735-207303960426",
   "metadata": {
    "editable": true,
    "slideshow": {
     "slide_type": ""
    },
    "tags": []
   },
   "outputs": [],
   "source": [
    "# print these three tickets to setup the story below\n",
    "print(ticket9)\n",
    "print(ticket4)\n",
    "print(ticket10)"
   ]
  },
  {
   "cell_type": "markdown",
   "id": "1b35816b-a61a-427a-861a-7d5c85acedea",
   "metadata": {
    "editable": true,
    "slideshow": {
     "slide_type": ""
    },
    "tags": []
   },
   "source": [
    "### Circular dependency\n",
    "This wasn't really supposed to happen, but it **turns out in many cases** you **could end up with** what we call a **circular dependency**. In my case, those were artifically added by the ticketing system for some odd reason I can't recall. But in real cases that can happen. For instance:\n",
    "-  Print problems (**ticket9**) , **dependent on** printer jam (**ticket4**)\n",
    "-  Toubleshooting printer jam (**ticket4**), **depends** on being able to print a diagnistic page (**ticket10**)\n",
    "-  But printing a diagnostic page (**ticket10**), requires the ability to print, so it **depends back** on **ticket9**\n",
    "\n",
    "So **ticket9 depends on ticket4, which depends on ticket 10, which depends back on ticket9**, which puts us in an **infinite loop.**"
   ]
  },
  {
   "cell_type": "markdown",
   "id": "ce61c7bc-2d9a-4229-a067-3d3ff002a781",
   "metadata": {},
   "source": [
    "#### Add the circular dependency example"
   ]
  },
  {
   "cell_type": "code",
   "execution_count": null,
   "id": "dcfda5b5-d9b2-4680-8c5d-99fb3fad2ee3",
   "metadata": {
    "editable": true,
    "slideshow": {
     "slide_type": ""
    },
    "tags": []
   },
   "outputs": [],
   "source": [
    "# print and scan problems, dependent on printer jam\n",
    "ticket6.dependent_tickets.append(ticket4)\n",
    "ticket9.dependent_tickets.append(ticket4)\n",
    "\n",
    "# printer jam depends on ability to print a diagnostic page\n",
    "ticket4.dependent_tickets.append(ticket10)\n",
    "\n",
    "# but printing a dignostic page depends on not being able to print\n",
    "ticket10.dependent_tickets.append(ticket9)\n",
    "\n",
    "# print these three tickets to confirm the dependencies added\n",
    "print(ticket9)\n",
    "print(ticket4)\n",
    "print(ticket10)"
   ]
  },
  {
   "cell_type": "markdown",
   "id": "d7a07013-4faa-4a5f-abfc-e435d4598bab",
   "metadata": {
    "editable": true,
    "slideshow": {
     "slide_type": ""
    },
    "tags": []
   },
   "source": [
    "# <span style=\"color:red\"> WARNING: EXECUTING THE NEXT CELL WILL GO ON AN INFINITE LOOP</span>\n",
    "<span style=\"color:red\">**You will need to stop the cell or, restart the kernel, or if all fails, stop your jupyter notebook process**. In fact, you're better off not running, and just watching the video of my demo.</span>"
   ]
  },
  {
   "cell_type": "markdown",
   "id": "ca89351c-40de-4a24-8e0e-a6263146b21f",
   "metadata": {
    "editable": true,
    "slideshow": {
     "slide_type": ""
    },
    "tags": []
   },
   "source": [
    "### Try \"fastracking\" ticket9, and experience the horror Fernando felt\n",
    "I triumphally **tried my script for just one ticket** first, but as it approached that final state, it **hit a circular dependency** with other tickets. I had some simple print statements as in my demo, announcing each key step. So I **watched in horror as the print messages started filling up my screen**. Worse yet, because **these were executable scripts**, each one was a **separate UNIX process**.\n",
    "\n",
    "**Within 30 seconds**, I could hear my officemate saying, ***\"Hey, are you having a problem with the server?\"***"
   ]
  },
  {
   "cell_type": "code",
   "execution_count": null,
   "id": "955fe9bb-70b0-4318-8a4b-2049c4ad4f4d",
   "metadata": {
    "editable": true,
    "slideshow": {
     "slide_type": ""
    },
    "tags": []
   },
   "outputs": [],
   "source": [
    "# fasttrack ticket9, which is at the top of the circular dependency\n",
    "fasttrack(ticket9)"
   ]
  },
  {
   "cell_type": "markdown",
   "id": "a2fdd650-523b-4628-9f82-49afeb087b9b",
   "metadata": {
    "editable": true,
    "slideshow": {
     "slide_type": ""
    },
    "tags": []
   },
   "source": [
    "## Epilogue"
   ]
  },
  {
   "cell_type": "markdown",
   "id": "2bdcf0f8-d1c4-4fbf-b26f-841b79a38c38",
   "metadata": {},
   "source": [
    "I had to do a **\"walk of shame\" towards my system administrator's** office. As I walked in, I could hear him yelling, ***\"What the hell is fasttrack?\"***\n",
    "\n",
    "Given the fact that my **fasttrack script multiplied like the mythical hydra creature**, there was no way to stop the individual processes. And the consoles were hum anyway, with all the CPUs taken by the \"fasttrack virus\". My **SA had to reboot the whole development server**, support multiple application teams.  "
   ]
  },
  {
   "cell_type": "markdown",
   "id": "86e761bd-c2f7-47f8-a030-7d4b776fecb4",
   "metadata": {
    "editable": true,
    "slideshow": {
     "slide_type": ""
    },
    "tags": []
   },
   "source": [
    "## Moral of the story\n",
    "In fairness to me, the fact that the ticketing system injected artificial dependencies was not something I would know. I later came to learn that the only way to move tickets forward on the very last step, was using a special tool. However, **when using recursion**, you **need to be 100% percent sure that you will hit your base case**, **or** you **can do some real damage**.  In my case, perhaps I should have had a \"safety check\" that counts the length of the recursion thread, and stops it past a certain point."
   ]
  }
 ],
 "metadata": {
  "kernelspec": {
   "display_name": "Python 3 (ipykernel)",
   "language": "python",
   "name": "python3"
  },
  "language_info": {
   "codemirror_mode": {
    "name": "ipython",
    "version": 3
   },
   "file_extension": ".py",
   "mimetype": "text/x-python",
   "name": "python",
   "nbconvert_exporter": "python",
   "pygments_lexer": "ipython3",
   "version": "3.9.2"
  }
 },
 "nbformat": 4,
 "nbformat_minor": 5
}
