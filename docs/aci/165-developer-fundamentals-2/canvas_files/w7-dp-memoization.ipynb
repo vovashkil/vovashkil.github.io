{
 "cells": [
  {
   "cell_type": "markdown",
   "id": "2de7266b-789e-451d-8ff6-5023e5c8c8e6",
   "metadata": {},
   "source": [
    "# <span style=\"color:blue\">Dynamic Programming\n",
    "AWS CLOUD INSTITUTE: PROVIDED FOR EDUCATIONAL INSTRUCTIONAL PURPOSES ONLY."
   ]
  },
  {
   "cell_type": "markdown",
   "id": "62fcfd0e-672b-4586-9542-7c26bf21cef7",
   "metadata": {},
   "source": [
    "# Memoization"
   ]
  },
  {
   "attachments": {},
   "cell_type": "markdown",
   "id": "656dd9d9-62c6-497d-b97c-f2b4ce2eae78",
   "metadata": {},
   "source": [
    "Memoization is a **top-down approach to dynamic programming**. \n",
    "- It's generally **similar to** a regular **recursive approach, but** it **stores results of each recursive call**.\n",
    "- **If** the **same recursive call** is **repeated**, the **saved value is reused**, reducing the need to go down a recursive chain.\n",
    "\n",
    "When applicable, memoization can significantly improve the efficiency of a recursive algorithm."
   ]
  },
  {
   "cell_type": "markdown",
   "id": "1417e86a-5520-41a5-ba64-c78430a53b0d",
   "metadata": {},
   "source": [
    "## Calculating Factorial\n",
    "Let's look again at the implementation of factorials."
   ]
  },
  {
   "cell_type": "markdown",
   "id": "d565398b-f703-499d-b0cb-4d324d7d88b5",
   "metadata": {},
   "source": [
    "### Factorial - Recursive implementation\n",
    "We saw this implemention during our discussion of recursion."
   ]
  },
  {
   "cell_type": "code",
   "execution_count": null,
   "id": "64df3be3-f2d0-4041-9c6a-7f6512be4eb0",
   "metadata": {},
   "outputs": [],
   "source": [
    "def factorial_rec(n):\n",
    "    '''\n",
    "    Recursive implementation of factorials\n",
    "    '''\n",
    "    # Base case: factorial of 0 or 1 is 1\n",
    "    if n < 2:\n",
    "        return 1\n",
    "    # Recursive case: n! = n * (n-1)!\n",
    "    else:\n",
    "        return n * factorial_rec(n-1)"
   ]
  },
  {
   "cell_type": "markdown",
   "id": "f5fc0bec-6772-4dce-9eef-2d9cff823e82",
   "metadata": {},
   "source": [
    "#### Basic test"
   ]
  },
  {
   "cell_type": "code",
   "execution_count": null,
   "id": "6d34b54c-2c33-43af-80ac-b72a2226d692",
   "metadata": {},
   "outputs": [],
   "source": [
    "for n in range(10):\n",
    "    print(f\"Factorial of {n}: {factorial_rec(n)}\")"
   ]
  },
  {
   "cell_type": "markdown",
   "id": "f9a6c5c8-4997-4895-a1bf-756957c60df0",
   "metadata": {},
   "source": [
    "#### Problem with recursive appraoch"
   ]
  },
  {
   "cell_type": "markdown",
   "id": "e4e9c979-40cf-4f8f-bac8-99ea597f868d",
   "metadata": {},
   "source": [
    "As we recall, the recursive algorithm **works well** enough for **small numbers**, but will **break** down for **large numbers**, because we will hit a **recursion limit**. Let's see how **memoization** will **help reducing** the **recursions**."
   ]
  },
  {
   "cell_type": "markdown",
   "id": "62560ac3-a4d7-4ab9-8846-6de8147ef08d",
   "metadata": {},
   "source": [
    "### Factorial - Memoization implementation"
   ]
  },
  {
   "attachments": {},
   "cell_type": "markdown",
   "id": "7b9df16f-c99a-4643-982e-14ad895a2948",
   "metadata": {},
   "source": [
    "#### Is this a good fit for memoization?\n",
    "Let's check if this solutions meets the key characteristics for dynamic programming:\n",
    "- **Optimal structure** - **Can** this **problem** be **broken down** in **smaller subproblems?**\n",
    "    - **Yes**. Yes, a factorial is a combination of factorials of the smaller numbers.\n",
    "- **Overlapping subproblems** - Are the **subproblems encountered repeatedly** during the process of solving the main problem?\n",
    "    - **Yes**. By it's very definition, every factorial includes factorials of all the numbers smaller than it."
   ]
  },
  {
   "cell_type": "markdown",
   "id": "db0fe8c0-f481-443f-98c9-7405681e8734",
   "metadata": {},
   "source": [
    "#### Class based implementation\n",
    "The **memoization implementation requires** the **use of** a **separate data structure** to **store previously calculated results**. If we don't want to expose that, we can **use** our **Object Oriented Programming** skills, and **wrap** that up **in a class**."
   ]
  },
  {
   "cell_type": "code",
   "execution_count": null,
   "id": "8c56b7f1-0c1e-4f5e-9a81-7a57ef26be0f",
   "metadata": {},
   "outputs": [],
   "source": [
    "class Factorial:\n",
    "    '''\n",
    "    Use memoization to calculate the Factorial. Maintain a class variable to accumulate previous\n",
    "    results, so they can be reused.\n",
    "    '''\n",
    "    # class variable to store previously calculated results\n",
    "    fact_results = {}\n",
    "\n",
    "    @classmethod\n",
    "    def factorial(cls, n):\n",
    "        '''\n",
    "        Memoization implementation of factorials\n",
    "        '''\n",
    "        # Base case: factorial of 0 or 1 is 1\n",
    "        if n < 2:\n",
    "            return 1\n",
    "\n",
    "        # if the result has being previously calculated, return it\n",
    "        if n in cls.fact_results:\n",
    "            return cls.fact_results[n]\n",
    "\n",
    "        # Calculate the result using recursion\n",
    "        result = n * cls.factorial(n-1)\n",
    "\n",
    "        # store the result in our results variable, so it's available for future caluclations\n",
    "        cls.fact_results[n] = result\n",
    "        \n",
    "        return result"
   ]
  },
  {
   "cell_type": "markdown",
   "id": "8df775c6-ff6c-4fa5-8180-543eef760091",
   "metadata": {},
   "source": [
    "#### Basic tests"
   ]
  },
  {
   "cell_type": "code",
   "execution_count": null,
   "id": "b0a3f937-a24c-4508-910e-bac05cab5a2a",
   "metadata": {},
   "outputs": [],
   "source": [
    "for n in range(10):\n",
    "    print(f\"Factorial of {n}: {Factorial.factorial(n)}\")"
   ]
  },
  {
   "cell_type": "markdown",
   "id": "db1d1a4e-7161-4e17-a89a-f39ab7e08981",
   "metadata": {},
   "source": [
    "### Testing with a big number"
   ]
  },
  {
   "cell_type": "markdown",
   "id": "1fcf5cca-032d-4c6a-8ab3-fc3504bcbc39",
   "metadata": {},
   "source": [
    "We'll this address our problem with big numbers? Maybe ...\n",
    "\n",
    "Let's try going straight to 10,000."
   ]
  },
  {
   "cell_type": "code",
   "execution_count": null,
   "id": "78773873-d05f-4809-ad4c-c772c1ebc29e",
   "metadata": {},
   "outputs": [],
   "source": [
    "#n = 10000"
   ]
  },
  {
   "cell_type": "markdown",
   "id": "fc62bf44-4319-46fb-835e-8ed4b2fffb10",
   "metadata": {},
   "source": [
    "#### <span style=\"color:red\">**WARNING: This next step will probably crash your Python kernel**</span>\n",
    "<span style=\"color:red\"> Save your notebook if you made changes.</span>"
   ]
  },
  {
   "cell_type": "code",
   "execution_count": null,
   "id": "c6f5ff49-c050-467c-961e-83d628a78a2c",
   "metadata": {},
   "outputs": [],
   "source": [
    "# calculate the factorial using recursion\n",
    "result = Factorial.factorial(n)\n",
    "\n",
    "# print factorial, or a message if the number is bigger than 15 digits\n",
    "if (result > 999999999999999):\n",
    "    print(f\"Factorial of {n}: {str(result)[:40]}... (truncated)\")\n",
    "else:\n",
    "    print(f\"Factorial of {n}: {result}\")"
   ]
  },
  {
   "cell_type": "markdown",
   "id": "a0ec334d-bd4a-43d7-85ee-67dff547a200",
   "metadata": {},
   "source": [
    "**HINT**: To re-run the notebook up to here, make sure you **change the *n* value** above **to** something smaller like **10**, or the problem will repeat itself."
   ]
  },
  {
   "cell_type": "markdown",
   "id": "025857fa-13b1-44dc-a7a2-76adc303f980",
   "metadata": {},
   "source": [
    "#### Why did I crash?\n",
    "As we have it, the **algorithm will only reuse values** that had been **previously calculated**. So since we **went straight to 10,000!** without doing other than the simple 10 earlier, this will still **require** a **lot of recursions** (9,990 to be precise). So that hit our **system recursion limit**."
   ]
  },
  {
   "cell_type": "markdown",
   "id": "f83bbbbe-630b-489c-8e27-dfbec68fd552",
   "metadata": {},
   "source": [
    "### <span style=\"color:blue\">OPTIONAL: </span>Improved class based implementation"
   ]
  },
  {
   "cell_type": "code",
   "execution_count": null,
   "id": "5817f6e2-528c-4fca-8983-c15c565bea78",
   "metadata": {},
   "outputs": [],
   "source": [
    "class SafeFactorial:\n",
    "    '''\n",
    "    Use memoization to calculate the Factorial. Maintain a class variable to accumulate previous\n",
    "    results, so they can be reused.\n",
    "    '''\n",
    "    # class variable to store previously calculated results\n",
    "    fact_results = {}\n",
    "\n",
    "    @classmethod\n",
    "    def _init_results(cls, n):\n",
    "        '''\n",
    "        Initialize the results dictionary up to n\n",
    "        '''\n",
    "        # initialize factorials up to n in our results table\n",
    "        for i in range(n):\n",
    "            # calculate lower factorials. No need to save result. We just need them to be saved in the class\n",
    "            cls._factorial(i)\n",
    "       \n",
    "    @classmethod\n",
    "    def _factorial(cls, n):\n",
    "        '''\n",
    "        Memoization implementation of factorials.\n",
    "        This internal method is subject to potential issues with recursion limits, so it's\n",
    "        not called directly.\n",
    "        '''\n",
    "        # Base case: factorial of 0 or 1 is 1\n",
    "        if n < 2:\n",
    "            return 1\n",
    "\n",
    "        # if the result has being previously calculated, return it\n",
    "        if n in cls.fact_results:\n",
    "            return cls.fact_results[n]\n",
    "\n",
    "        # Calculate the result using recursion\n",
    "        result = n * cls._factorial(n-1)\n",
    "\n",
    "        # store the result in our results variable, so it's available for future caluclations\n",
    "        cls.fact_results[n] = result\n",
    "        \n",
    "        return result\n",
    "\n",
    "    @classmethod\n",
    "    def factorial(cls, n):\n",
    "        '''\n",
    "        This method will calculate factorials using an internal memoization method.\n",
    "        The method first makes sure there are previous results calculated, to avoid\n",
    "        a recursion limit issue\n",
    "        '''\n",
    "\n",
    "        # first check whether we already have save results for this number\n",
    "        if n not in cls.fact_results:\n",
    "            # if not, initialize the results up to n\n",
    "            cls._init_results(n)\n",
    "\n",
    "        # now we can safely call our recursive function\n",
    "        return cls._factorial(n)"
   ]
  },
  {
   "cell_type": "markdown",
   "id": "aef3ee7a-1869-42dc-bdaf-a4d35d92274c",
   "metadata": {},
   "source": [
    "#### Re-testing with a big number\n",
    "Let's **repeat** the **same test**, with our **new SafeFactorial**. Again, such is my confidence, I'm **starting out with \"n = 20000\"**. Who needs that measly 10,000 test?"
   ]
  },
  {
   "cell_type": "code",
   "execution_count": null,
   "id": "64980beb-c72d-470d-96c0-58503ae15048",
   "metadata": {},
   "outputs": [],
   "source": [
    "n = 20000"
   ]
  },
  {
   "cell_type": "code",
   "execution_count": null,
   "id": "cd9d8f38-601d-4d50-85a1-fa3bb2e00821",
   "metadata": {},
   "outputs": [],
   "source": [
    "# calculate the factorial using recursion\n",
    "result = SafeFactorial.factorial(n)\n",
    "\n",
    "# print factorial, or a message if the number is bigger than 15 digits\n",
    "if (result > 999999999999999):\n",
    "    print(f\"Factorial of {n}: {str(result)[:40]}... (truncated)\")\n",
    "else:\n",
    "    print(f\"Factorial of {n}: {result}\")"
   ]
  },
  {
   "cell_type": "markdown",
   "id": "e2b512c5-2ce2-409c-84d7-500da0dc11ae",
   "metadata": {},
   "source": [
    "## The Knapsack problem\n",
    "The **knapsack problem elicits this kind of reaction** when I try to break it down."
   ]
  },
  {
   "attachments": {
    "f5edffed-9d43-418a-b3cf-af4555270086.jpg": {
     "image/jpeg": "[encoded data removed]"
    }
   },
   "cell_type": "markdown",
   "id": "00e8d329-1f24-45f5-a790-7b5bcf262cd2",
   "metadata": {},
   "source": [
    "![dynamic_scream.jpg](attachment:f5edffed-9d43-418a-b3cf-af4555270086.jpg)"
   ]
  },
  {
   "cell_type": "markdown",
   "id": "1a7be77c-5a37-499a-9483-8f97a2f1f8dc",
   "metadata": {},
   "source": [
    "It is a **common example of dynamic programming** that includes optimal substructure and overlapping subproblems. The problem is as follows:\n",
    "- You are **given** a **set of items** **with** a set **value and weight for each item**.\n",
    "- You are **also given** a **knapsack** that **can carry a maximum weight**.\n",
    "\n",
    "**Find** the **maximum possible total value** of items I can get **from** a **combination of items in the knapsack** so the **total weight does not surpass the maximum** capacity of the knapsack.\n",
    "\n",
    "As it was in the coin change problem, we might be **tempted to think** that the **problem is** to **find** the actual **items** that lead us to the **optimal solution**, **but that's not it**. The **\"classic\" knapsack problem** does not list the solutions. It's only **about calculating the optional total value**."
   ]
  },
  {
   "cell_type": "markdown",
   "id": "39b682f6-d3a4-4439-9952-5df40091a85e",
   "metadata": {},
   "source": [
    "### Knapsack problem - Recursive implementation\n",
    "The **problem is broken down into smaller subproblems** of the same type. You must **consider each item** and **determine if** it **should be** put in the **knapsack or not**. We will **recursively check solutions** for **either scenario** (with or without)."
   ]
  },
  {
   "cell_type": "code",
   "execution_count": null,
   "id": "5754b5e4-ca7b-4c40-92a8-7212044203ce",
   "metadata": {},
   "outputs": [],
   "source": [
    "def knapsack_rec(weights, values, capacity, item_idx = 0):\n",
    "    '''\n",
    "    Recursive knapsack problem implementation. Returns the maximum total value of items you can have in \n",
    "    the knapsack. The function checks item from the begginning to the end of the list.\n",
    "\n",
    "    Parameters:\n",
    "        weights: list of item weights\n",
    "        values: list of item values\n",
    "        capacity: maximum weight capacity of the knapsack\n",
    "        item_idx: index of the current item being considered (default is the first item)\n",
    "    '''\n",
    "    # Base case: if the capacity is 0 or no items are left\n",
    "    if capacity == 0 or item_idx >= len(values):\n",
    "        return 0\n",
    "\n",
    "    # get the weight and value of the item with this index\n",
    "    item_weight = weights[item_idx]     \n",
    "    item_value = values[item_idx]\n",
    "    \n",
    "    # If the weight of the item is more than the capacity ...\n",
    "    if item_weight > capacity:\n",
    "        # item is too heavy to include, so recurse without it\n",
    "        return knapsack_rec(weights, values, capacity, item_idx + 1)\n",
    "\n",
    "    # else, we have the option of including the item or not\n",
    "    else:\n",
    "        # Calculate the max value we include the item. That will be the price of the item, \n",
    "        # plus the max total price we can have with the remaining items. We calculate that \n",
    "        # recursively, but we need to deduct the item weight from the available capacity. \n",
    "        total_with_item = item_value + knapsack_rec(weights, values, \n",
    "                                                    capacity - item_weight, \n",
    "                                                    item_idx + 1)\n",
    "\n",
    "        # Calculate the max value if we exclude the item\n",
    "        total_without_item = knapsack_rec(weights, values, capacity, item_idx + 1)\n",
    "\n",
    "        # The optimal result with will be the maximum between the two options\n",
    "        return max(total_with_item, total_without_item)"
   ]
  },
  {
   "cell_type": "markdown",
   "id": "98f20d54-c537-4d7b-87c9-ab584933ecc1",
   "metadata": {},
   "source": [
    "#### Basic tests\n",
    "We'll start with a simple example with **4 items**. The **items themselves** are **not part of** the **function input**, only their weights and values.  So you can simply **envision them** as ***Item_0, Item_1, Item_2,*** and ***Item_3*** (good to start with 0 so it matches the list index)."
   ]
  },
  {
   "cell_type": "code",
   "execution_count": null,
   "id": "33968212-1d3a-4b32-8420-3d1e31dd78f1",
   "metadata": {},
   "outputs": [],
   "source": [
    "# initialize function inputs\n",
    "weights = [2, 3, 4, 5]\n",
    "values  = [3, 4, 5, 6]\n",
    "capacity = 5\n",
    "\n",
    "# calculate maximum possible value of knapsack\n",
    "max_value = knapsack_rec(weights, values, capacity)\n",
    "print(\"Maximum value:\", max_value)"
   ]
  },
  {
   "cell_type": "markdown",
   "id": "a7532702-d714-4075-ae5b-c75830cf5a2e",
   "metadata": {
    "jp-MarkdownHeadingCollapsed": true
   },
   "source": [
    "### <span style=\"color:blue\">OPTIONAL</span>: Recursive implementation with print statements\n",
    "We are **not walking through** the **details of** the **recursion** here, since the m**ain module topic is memoization**. However, for anyone who wants to better visualize the progress of the cursion, I'm **providing** this **optional section** with a special **version with** indented **print statements**."
   ]
  },
  {
   "cell_type": "code",
   "execution_count": null,
   "id": "dc0cfb53-07ee-4e90-8922-602e0446315e",
   "metadata": {},
   "outputs": [],
   "source": [
    "def indent_str(level):\n",
    "    '''\n",
    "    Utility function to return a string to indent recursion level\n",
    "    '''\n",
    "    return \"\" if level == 0 else \"|   \" * level\n",
    "\n",
    "def knapsack_rec_wp(weights, values, capacity, item_idx = 0, rlevel = 0):\n",
    "    '''\n",
    "    Recursive knapsack problem implementation. Returns the maximum total value of items you can have in \n",
    "    the knapsack. The function checks item from the begginning to the end of the list.\n",
    "\n",
    "    Parameters:\n",
    "        weights: list of item weights\n",
    "        values: list of item values\n",
    "        capacity: maximum weight capacity of the knapsack\n",
    "        item_idx: index of the current item being considered (default is the first item)\n",
    "    '''\n",
    "    print(indent_str(rlevel))\n",
    "    print(indent_str(rlevel) + f\">>> Entered function for item {item_idx} and capacity {capacity}\")\n",
    "\n",
    "    # Base case: if the capacity is 0 or no items are left\n",
    "    if capacity == 0 or item_idx >= len(values):\n",
    "        print(indent_str(rlevel) + f\"<< Exit case - Returning 0\")\n",
    "        return 0\n",
    "\n",
    "    # get the weight and value of the item with this index\n",
    "    item_weight = weights[item_idx]     \n",
    "    item_value = values[item_idx]\n",
    "    print(indent_str(rlevel) + f\"Item {item_idx} --> weight = {item_weight}, values = {item_value}\")\n",
    "    \n",
    "    # If the weight of the item is more than the capacity ...\n",
    "    if item_weight > capacity:\n",
    "        # item is too heavy to include, so recurse without it\n",
    "        print(indent_str(rlevel) + f\"Item weight {item_weight} is bigger than capacity. Recursing to next item\")\n",
    "        total_without_item = knapsack_rec_wp(weights, values, capacity, item_idx + 1,  rlevel + 1)\n",
    "        print(indent_str(rlevel) + f\"<< Returning {total_without_item}\")\n",
    "        return total_without_item\n",
    "\n",
    "    # else, we have the option of including the item or not\n",
    "    else:\n",
    "        # Calculate the max value we include the item. That will be the price of the item, \n",
    "        # plus the max total price we can have with the remaining items. We calculate that \n",
    "        # recursively, but we need to deduct the item weight from the available capacity.\n",
    "        print(indent_str(rlevel) + f\"Checking total WITH item. Recursing with weight of capacity({capacity}) - item_weight({item_weight}) = {capacity - item_weight}\")\n",
    "        total_with_item = item_value + knapsack_rec_wp(weights, values, \n",
    "                                                    capacity - item_weight, \n",
    "                                                    item_idx + 1, rlevel + 1)\n",
    "        print(indent_str(rlevel) + f\"Total WITH item {item_idx} = {item_value} + {total_with_item - item_value} = {total_with_item}\")\n",
    "        \n",
    "        # Calculate the max value if we exclude the item\n",
    "        print(indent_str(rlevel) + f\"Checking total WITHOUT item. Recursing with same weight of {capacity}\")\n",
    "        total_without_item = knapsack_rec_wp(weights, values, capacity, item_idx + 1, rlevel + 1)\n",
    "        print(indent_str(rlevel) + f\"Total WITHOUT item {item_idx} = {total_without_item}\")\n",
    "        \n",
    "        # The optimal result with will be the maximum between the two options\n",
    "        print(indent_str(rlevel) + f\"<< Returning max of WITH({total_with_item}) and WITHOUT({total_without_item}) = {max(total_with_item, total_without_item)}\")\n",
    "        return max(total_with_item, total_without_item)"
   ]
  },
  {
   "cell_type": "markdown",
   "id": "6ddc3a41-ac65-4b08-a86e-f80a58c6af12",
   "metadata": {},
   "source": [
    "#### Basic tests\n",
    "We'll start with a simple example with **4 items**. The **items themselves** are **not part of** the **function input**, only their weights and values.  So you can simply **envision them** as ***Item_0, Item_1, Item_2,*** and ***Item_3*** (good to start with 0 so it matches the list index)."
   ]
  },
  {
   "cell_type": "code",
   "execution_count": null,
   "id": "d33c2722-e081-4751-acf1-6905d1bac17f",
   "metadata": {},
   "outputs": [],
   "source": [
    "# initialize function inputs\n",
    "weights = [2, 3, 4, 5]\n",
    "values  = [3, 4, 5, 6]\n",
    "capacity = 5\n",
    "\n",
    "# calculate maximum possible value of knapsack\n",
    "max_value = knapsack_rec_wp(weights, values, capacity)\n",
    "print(\"Maximum value:\", max_value)"
   ]
  },
  {
   "cell_type": "markdown",
   "id": "a63dc31f-0f61-48ee-a973-09af0e4e89b6",
   "metadata": {},
   "source": [
    "### Listing possible solutions - Black Friday sale example\n",
    "It's always good to have a good story to go with the algorithm, so let's make one up. Assume you are going to a big **Black Friday \"door buster\" sale**, where each **custumer** is only **allowed to fill up one bag** worth of products. The **bag has** a **weight limit**. With a list of available products on sale, and their weights, how can you **maximize your purchases** to buy the **highest combined value** of products.\n",
    "\n",
    "**Note**: Yes, this is a partially nostalgic tale, since many of us sit at home buying on online sales."
   ]
  },
  {
   "cell_type": "markdown",
   "id": "2a40cfdd-53f4-428c-9fc9-07a864aa5a3e",
   "metadata": {},
   "source": [
    "#### Implementation with list of possible solutions\n",
    "If we're going to have a fun implementation with Black Friday products, we need to be able to visualize the products. We also **need to see** the **list of products** that **we** actually **bought**, to make up the total.\n",
    "\n",
    "We will **enhance** our **solution** to **maintain** the **list of products** making up the solution. The **algorithm** is **essentially the same**, but in additional to the maximum value, we **also accumulate and return** a **list of the items** that went with that maximum.\n",
    "\n",
    "As we said, the **\"classic\" knapsack problem does not list the solutions**. However, for instructional purposes, I feel being able to visualize the items helps. \n",
    "\n",
    "The *\"_ws\"* at the end of the function is for \"**w**ith **s**olution\"."
   ]
  },
  {
   "cell_type": "code",
   "execution_count": null,
   "id": "3ff7ce0b-f13a-4e97-b1cb-c79533743cf8",
   "metadata": {},
   "outputs": [],
   "source": [
    "def knapsack_rec_ws(items, weights, values, capacity, item_idx = 0):\n",
    "    '''\n",
    "    Recursive knapsack problem implementation. Returns the maximum total value of items you can have in \n",
    "    the knapsack. The function checks item from the begginning to the end of the list.\n",
    "\n",
    "    Parameters:\n",
    "        weights: list of item weights\n",
    "        values: list of item values\n",
    "        capacity: maximum weight capacity of the knapsack\n",
    "        item_idx: index of the current item being considered (default is the first item)\n",
    "    '''\n",
    "\n",
    "    # Base case: if the capacity is 0 or no items are left\n",
    "    if capacity == 0 or item_idx >= len(values):\n",
    "        return 0, []\n",
    "            \n",
    "    # get the weight and value of the item with this index\n",
    "    item_weight = weights[item_idx]     \n",
    "    item_value = values[item_idx]\n",
    "    \n",
    "    # If the weight of the item is more than the capacity ...\n",
    "    if item_weight > capacity:\n",
    "        # item is too heavy to include, so recurse without it\n",
    "        return knapsack_rec_ws(items, weights, values, capacity, item_idx + 1)\n",
    "\n",
    "    # else, we have the option of including the item or not\n",
    "    else:      \n",
    "        # Calculate the max value we include the item. That will be the price of the item, \n",
    "        # plus the max total price we can have with the remaining items. We calculate that \n",
    "        # recursively, but we need to deduct the item weight from the available capacity.\n",
    "        total_with_item, sol_list1 = knapsack_rec_ws(items, weights, values, \n",
    "                                                     capacity - item_weight, \n",
    "                                                     item_idx + 1)\n",
    "        total_with_item += item_value\n",
    "        sol_list1.append(items[item_idx])\n",
    "        \n",
    "        # Calculate the max value if we exclude the item\n",
    "        total_without_item, sol_list2 = knapsack_rec_ws(items, weights, values, capacity, item_idx + 1)\n",
    "\n",
    "        # The optimal result with will be the maximum between the two options\n",
    "        if (total_with_item >= total_without_item):\n",
    "            return total_with_item, sol_list1\n",
    "        else:\n",
    "            return total_without_item, sol_list2"
   ]
  },
  {
   "cell_type": "markdown",
   "id": "5b9f74b0-f683-44c1-a8cf-8324f575910b",
   "metadata": {},
   "source": [
    "#### Testing with our Black Friday loot"
   ]
  },
  {
   "cell_type": "markdown",
   "id": "f03789ef-45e9-4f1f-8513-74fa5a975e2f",
   "metadata": {},
   "source": [
    "##### Some cheap jewelry items ..."
   ]
  },
  {
   "cell_type": "code",
   "execution_count": null,
   "id": "b936cb6a-95d4-4fa8-95b1-ddbe59bbf38a",
   "metadata": {},
   "outputs": [],
   "source": [
    "# initialize function inputs\n",
    "products = [\"ring\", \"pendant\", \"watch\", \"knecklace\", \"bracelet\", \"earrings\"]\n",
    "weights = [1, 2, 6, 5, 4, 3]\n",
    "prices = [2, 6, 10, 14, 12, 8]  \n",
    "capacity = 12\n",
    "\n",
    "print(f\"Calculating optimal solution for {len(products)} products within a capacity of {capacity} lbs\")\n",
    "\n",
    "# calculate maximum possible value of knapsack\n",
    "max_value, sol_list = knapsack_rec_ws(products, weights, prices, capacity)\n",
    "print(\"\\nItems in solution: \")\n",
    "total_weight = 0\n",
    "for item in sol_list:\n",
    "    prod_index = products.index(item)\n",
    "    total_weight += weights[prod_index]\n",
    "    print(f\"{item: <15} ({weights[prod_index]} lbs) - ${prices[prod_index]}\")\n",
    "    \n",
    "print(f\"\\nTotal knapsack weight: {total_weight} lbs\")\n",
    "print(f\"Total knapsack value: ${max_value}\")"
   ]
  },
  {
   "cell_type": "markdown",
   "id": "af877012-6a62-4d20-9205-e6dd3cb45e57",
   "metadata": {},
   "source": [
    "Just **to confirm** the **print solution didn't change anything**, let's **call** the **original *knapsack_rec*** and make sure we get the same answer."
   ]
  },
  {
   "cell_type": "code",
   "execution_count": null,
   "id": "f8f7a3b6-056b-4c9d-8c54-2c2c6567f960",
   "metadata": {},
   "outputs": [],
   "source": [
    "# calculate maximum possible value of knapsack\n",
    "print(\"Maximum value:\", knapsack_rec(weights, prices, capacity))"
   ]
  },
  {
   "cell_type": "markdown",
   "id": "2cb26da6-c8eb-4513-a86b-0989611de960",
   "metadata": {},
   "source": [
    "##### Some electronics ..."
   ]
  },
  {
   "cell_type": "code",
   "execution_count": null,
   "id": "580079de-9366-4d21-94a4-17c93e79e3a8",
   "metadata": {
    "scrolled": true
   },
   "outputs": [],
   "source": [
    "# initialize function inputs\n",
    "products = [\"Laptop\", \"SLR Camera\", \"Cell phone\", \"Headphone\", \"Mouse\", \"keyboard\"]\n",
    "weights = [9, 7, 2, 2, 1, 2]\n",
    "prices = [700, 800, 750, 80, 25, 30]\n",
    "capacity = 17\n",
    "\n",
    "print(f\"Calculating optimal solution for {len(products)} products within a capacity of {capacity} lbs\")\n",
    "\n",
    "# calculate maximum possible value of knapsack\n",
    "max_value, sol_list = knapsack_rec_ws(products, weights, prices, capacity)\n",
    "print(\"\\nItems in solution: \")\n",
    "total_weight = 0\n",
    "for item in sol_list:\n",
    "    prod_index = products.index(item)\n",
    "    total_weight += weights[prod_index]\n",
    "    print(f\"{item: <15} ({weights[prod_index]} lbs) - ${prices[prod_index]}\")\n",
    "    \n",
    "print(f\"\\nTotal knapsack weight: {total_weight} lbs\")\n",
    "print(f\"Total knapsack value: ${max_value}\")"
   ]
  },
  {
   "cell_type": "markdown",
   "id": "1e06ab63-c109-4fa4-a4c5-bb0182704b02",
   "metadata": {},
   "source": [
    "### Testing with a bigger list\n",
    "**What happens** if we have a **longer list of items**, and a **capacity** a bit **larger?** It's a bigger sale now, with jewelwry, electronics, clothing, pet suplpies and sports equipment."
   ]
  },
  {
   "cell_type": "markdown",
   "id": "4cd65e07-8aac-4502-bf06-ce00cd276417",
   "metadata": {},
   "source": [
    "#### <span style=\"color:red\">**WARNING: This next step will hang your Python kernel** </span>\n",
    "<span style=\"color:red\">You can **stop the cell** to break.</span>"
   ]
  },
  {
   "cell_type": "code",
   "execution_count": null,
   "id": "d237f629-608f-46bd-abaa-fd56155a5162",
   "metadata": {},
   "outputs": [],
   "source": [
    "# initialize function inputs\n",
    "products = [\"ring\", \"pendant\", \"watch\", \"knecklace\", \"bracelet\", \"earrings\",\n",
    "           \"Laptop\", \"SLR Camera\", \"Cell phone\", \"Headphone\", \"Mouse\", \"keyboard\",\n",
    "           \"tshirt\", \"skirt\", \"summer dress\", \"suit\", \"tie\", \"belt\",\n",
    "           \"leash\", \"collar\", \"bowl\", \"treats\", \"chewey toy\", \"catnip\",\n",
    "           \"soccer ball\", \"tennis racket\", \"cleats\", \"shin guard\", \"socks\", \"pads\"]\n",
    "weights = [1, 2, 6, 5, 4, 3,\n",
    "           9, 7, 2, 2, 1, 2,\n",
    "           3, 4, 4, 6, 2, 3,\n",
    "           2, 3, 4, 2, 3, 2,\n",
    "           8, 6, 3, 4, 1, 3]\n",
    "prices = [2, 6, 10, 14, 12, 8,\n",
    "        700, 800, 750, 80, 25, 30,\n",
    "         9, 12, 24, 100, 20, 18,\n",
    "         15, 12, 5, 8, 11, 6,\n",
    "         19, 80, 60, 40, 5, 15]\n",
    "capacity = 50\n",
    "\n",
    "print(f\"Calculating optimal solution for {len(products)} products within a capacity of {capacity} lbs\")\n",
    "print()\n",
    "\n",
    "# calculate maximum possible value of knapsack\n",
    "max_value, sol_list = knapsack_rec_ws(products, weights, prices, capacity)\n",
    "print(\"\\nItems in solution: \")\n",
    "total_weight = 0\n",
    "for item in sol_list:\n",
    "    prod_index = products.index(item)\n",
    "    total_weight += weights[prod_index]\n",
    "    print(f\"{item: <15} ({weights[prod_index]} lbs) - ${prices[prod_index]}\")\n",
    "    \n",
    "print(f\"\\nTotal knapsack weight: {total_weight} lbs\")\n",
    "print(f\"Total knapsack value: ${max_value}\")"
   ]
  },
  {
   "cell_type": "markdown",
   "id": "38915383-2dd0-4afa-b0cd-7359618e9598",
   "metadata": {},
   "source": [
    "This wasn't a very big list either. **Just 30 items** were **enough to cause** me **problems**."
   ]
  },
  {
   "cell_type": "markdown",
   "id": "140f5519-2582-4e51-af4e-c53e3743f52f",
   "metadata": {},
   "source": [
    "### Complexity analysis\n",
    "Once again, the recursion **complexity** is **high**. Because at **each recursive step**, you are **making two additional calls** (the *with\"* call, and the *\"without\"* call). So the final number of steps would be **2 x 2 x ... x 2**, or **2<sup>n</sup>**. The *n* in this case is proportional to the capacity, because we'll keep doing those splits until we reach the weight capacity.\n",
    "\n",
    "And bear in mind this has nothing to do with the print statements. The regular recursive version still does the same splits, and would also hang (you can test it).\n",
    "\n",
    "- **Time complexity: <span style=\"color:blue\">O(2<sup>n</sup>)**</span>"
   ]
  },
  {
   "cell_type": "markdown",
   "id": "b92d9bc3-2415-40d2-bdd7-df25f9cdd6e5",
   "metadata": {},
   "source": [
    "### Knapsack problem - Memoization implementation"
   ]
  },
  {
   "attachments": {},
   "cell_type": "markdown",
   "id": "4ec457d1-f46c-4124-9803-4bdbc27181b4",
   "metadata": {},
   "source": [
    "#### Is this a good fit for memoization?\n",
    "Let's check if this solutions meets the key characteristics for dynamic programming:\n",
    "- **Optimal structure** - **Can** this **problem** be **broken down** in **smaller subproblems?**\n",
    "    - **Yes**. Yes, clearly see that our recursive solution does precisely that.\n",
    "- **Overlapping subproblems** - Are the **subproblems encountered repeatedly** during the process of solving the main problem?\n",
    "    - **Yes**. That one is a little harder to visualize, but the subproblems will repate themselves at times. We will be able to confirm that with some print statements in our code."
   ]
  },
  {
   "cell_type": "markdown",
   "id": "0488f890-81ef-49d6-9b7e-e40615dce5b4",
   "metadata": {},
   "source": [
    "#### Implementation\n",
    "As it's generally the case with memoization, the **implementation** will **not significantly alter** the **recursive nature of the algorithm**. It will **just be more effective**, by saving results of previous recursions."
   ]
  },
  {
   "cell_type": "code",
   "execution_count": null,
   "id": "ac46cd6b-478c-4f57-b2a4-825682e5561b",
   "metadata": {},
   "outputs": [],
   "source": [
    "def _knapsack_mem(saved_solutions, weights, values, capacity, item_idx):\n",
    "    '''\n",
    "    Recursive knapsack problem implementation. Returns the maximum total value of items you can have in \n",
    "    the knapsack. The function checks item from the begginning to the end of the list.\n",
    "\n",
    "    Parameters:\n",
    "        weights: list of item weights\n",
    "        values: list of item values\n",
    "        capacity: maximum weight capacity of the knapsack\n",
    "        item_idx: index of the current item being considered (default is the first item)\n",
    "    '''\n",
    "    # Base case: if the capacity is 0 or no items are left\n",
    "    if capacity == 0 or item_idx >= len(values):\n",
    "        return 0\n",
    "\n",
    "    # if we previously solved this combination of item and capacity, return the previous solution\n",
    "    if saved_solutions[item_idx][capacity] != -1:\n",
    "        return saved_solutions[item_idx][capacity]\n",
    "        \n",
    "    # get the weight and value of the item with this index\n",
    "    item_weight = weights[item_idx]     \n",
    "    item_value = values[item_idx]\n",
    "    \n",
    "    # If the weight of the item is more than the capacity ...\n",
    "    if item_weight > capacity:\n",
    "        # item is too heavy to include, so recurse without it\n",
    "        return _knapsack_mem(saved_solutions, weights, values, capacity, item_idx + 1)\n",
    "\n",
    "    # else, we have the option of including the item or not\n",
    "    else:\n",
    "        # Calculate the max value we include the item. That will be the price of the item, \n",
    "        # plus the max total price we can have with the remaining items. We calculate that \n",
    "        # recursively, but we need to deduct the item weight from the available capacity. \n",
    "        total_with_item = item_value + _knapsack_mem(saved_solutions, weights, values, \n",
    "                                                    capacity - item_weight, \n",
    "                                                    item_idx + 1)\n",
    "\n",
    "        # Calculate the max value if we exclude the item\n",
    "        total_without_item = _knapsack_mem(saved_solutions, weights, values, capacity, item_idx + 1)\n",
    "\n",
    "        # The optimal result with will be the maximum between the two options\n",
    "        solution = max(total_with_item, total_without_item)\n",
    "\n",
    "        # save the solution for this combination of item and capacity\n",
    "        saved_solutions[item_idx][capacity] = solution\n",
    "\n",
    "        return solution\n",
    "\n",
    "def knapsack_mem(weights, values, capacity):\n",
    "    '''\n",
    "    This method initializes the table that maintains every possible solution for an item \n",
    "    value and max capacity. This will be passed to a recursive memoization solution.\n",
    "    '''\n",
    "    # initialize lookup table with solutions for evey combination of item values and target capacity\n",
    "    saved_solutions = [[-1 for x in range(capacity + 1)] for x in range(len(values))] \n",
    "\n",
    "    # call internal recursive memoization solution, starting with the first item\n",
    "    max_value = _knapsack_mem(saved_solutions, weights, values, capacity, 0)\n",
    "    \n",
    "    return max_value"
   ]
  },
  {
   "cell_type": "markdown",
   "id": "08f2c0c1-31c1-444b-b881-c5d4fd045874",
   "metadata": {},
   "source": [
    "#### Basic test"
   ]
  },
  {
   "cell_type": "code",
   "execution_count": null,
   "id": "ba446e94-7167-405c-b8ef-c6599bea3f6a",
   "metadata": {},
   "outputs": [],
   "source": [
    "# initialize function inputs\n",
    "weights = [2, 3, 4, 5]\n",
    "values =  [3, 4, 5, 6]\n",
    "capacity = 5\n",
    "\n",
    "# calculate maximum possible value of knapsack\n",
    "max_value = knapsack_mem(weights, values, capacity)\n",
    "print(\"Maximum value:\", max_value)"
   ]
  },
  {
   "cell_type": "markdown",
   "id": "eefa114f-1886-40cd-8e9c-0d5755a407d1",
   "metadata": {},
   "source": [
    "Great. That **matches what we had before, but** it's **hard to see the magic** behind it, **and whether** we **saved any time**. So let's add some extra printing."
   ]
  },
  {
   "cell_type": "markdown",
   "id": "e873fa09-d1b3-474a-a11a-44a6095efd3a",
   "metadata": {},
   "source": [
    "### Memoization implementation with print statements\n",
    "**Recursion** is **not the topic** at hand, **so** we're **not** going to flood the algorithm with **print statements to understand the recursive solution**. What we do **want to show** is the **progressive saving of solutions**, **and how** they get **reused**. To do that, we'll used a utility function to print the solutions table."
   ]
  },
  {
   "cell_type": "markdown",
   "id": "2fdab3b8-d2a3-4bd9-af72-0a83d8703879",
   "metadata": {},
   "source": [
    "##### Print table utility function\n",
    "This is a utility table that will print a 2x2 table. We use this to print our solutions table. This is not directly related to the algorithm and could be used for any 2x2 array."
   ]
  },
  {
   "cell_type": "code",
   "execution_count": null,
   "id": "6728224f-c75b-4afa-b584-4b2f429b165f",
   "metadata": {},
   "outputs": [],
   "source": [
    "def print_table(table, rows, cols):\n",
    "    '''\n",
    "    Simple utility to print our solutions table\n",
    "    '''\n",
    "    # print column headers\n",
    "    print(\"   |\", end=\"\")\n",
    "    for col in range(cols + 1):\n",
    "        # print the table value for that item/weight combination\n",
    "        print(str(col).center(3) + \"|\", end=\"\")\n",
    "    print()\n",
    "    for col in range(cols + 2):\n",
    "        # print the table value for that item/weight combination\n",
    "        print(\"---|\", end=\"\")\n",
    "    print()\n",
    "                \n",
    "    # iterate through each item index\n",
    "    for row in range(rows):\n",
    "        # iterate through each possible maximim weight capcaity\n",
    "        print(str(row).center(3) + \"|\", end=\"\")\n",
    "        for col in range(cols + 1):\n",
    "            # print the table value for that item/weight combination\n",
    "            print(str(table[row][col]).rjust(3) + \"|\", end=\"\")\n",
    "        # next line\n",
    "        print()"
   ]
  },
  {
   "cell_type": "markdown",
   "id": "d74b6ad9-8757-4d55-9625-c4019b25febb",
   "metadata": {},
   "source": [
    "##### Print version of the code\n",
    "This is the same as the previous version, but simply prints the table any time a value is saved, and prints a message when it gets reused."
   ]
  },
  {
   "cell_type": "code",
   "execution_count": null,
   "id": "24cd0851-fa3f-4a49-858f-22c9a0958ff7",
   "metadata": {},
   "outputs": [],
   "source": [
    "def _knapsack_mem_wp(saved_solutions, weights, values, capacity, item_idx):\n",
    "    '''\n",
    "    Recursive knapsack problem implementation. Returns the maximum total value of items you can have in \n",
    "    the knapsack. The function checks item from the begginning to the end of the list.\n",
    "\n",
    "    Parameters:\n",
    "        weights: list of item weights\n",
    "        values: list of item values\n",
    "        capacity: maximum weight capacity of the knapsack\n",
    "        item_idx: index of the current item being considered (default is the first item)\n",
    "    '''\n",
    "    # Base case: if the capacity is 0 or no items are left\n",
    "    if capacity == 0 or item_idx >= len(values):\n",
    "        return 0\n",
    "\n",
    "    # if we previously solved this combination of item and capacity, return the previous solution\n",
    "    if saved_solutions[item_idx][capacity] != -1:\n",
    "        print(f\"\\n###### Used saved solutions[{item_idx}][{capacity}] = {saved_solutions[item_idx][capacity]} ######\")\n",
    "        return saved_solutions[item_idx][capacity]\n",
    "        \n",
    "    # get the weight and value of the item with this index\n",
    "    item_weight = weights[item_idx]     \n",
    "    item_value = values[item_idx]\n",
    "    \n",
    "    # If the weight of the item is more than the capacity ...\n",
    "    if item_weight > capacity:\n",
    "        # item is too heavy to include, so recurse without it\n",
    "        return _knapsack_mem_wp(saved_solutions, weights, values, capacity, item_idx + 1)\n",
    "\n",
    "    # else, we have the option of including the item or not\n",
    "    else:\n",
    "        # Calculate the max value we include the item. That will be the price of the item, \n",
    "        # plus the max total price we can have with the remaining items. We calculate that \n",
    "        # recursively, but we need to deduct the item weight from the available capacity. \n",
    "        total_with_item = item_value + _knapsack_mem_wp(saved_solutions, weights, values, \n",
    "                                                    capacity - item_weight, \n",
    "                                                    item_idx + 1)\n",
    "\n",
    "        # Calculate the max value if we exclude the item\n",
    "        total_without_item = _knapsack_mem_wp(saved_solutions, weights, values, capacity, item_idx + 1)\n",
    "\n",
    "        # The optimal result with will be the maximum between the two options\n",
    "        solution = max(total_with_item, total_without_item)\n",
    "\n",
    "        # save the solution for this combination of item and capacity\n",
    "        saved_solutions[item_idx][capacity] = solution\n",
    "        \n",
    "        print(f\"\\nSaving solution [{item_idx}][{capacity}] with value {solution}. Solutions table now is:\")\n",
    "        print_table(saved_solutions, len(values), max_capacity)\n",
    "        return solution\n",
    "\n",
    "def knapsack_mem_wp(weights, values, capacity):\n",
    "    '''\n",
    "    This method initializes the table that maintains every possible solution for an item \n",
    "    value and max capacity. This will be passed to a recursive memoization solution.\n",
    "    '''\n",
    "\n",
    "    # global max_capacity\n",
    "    global max_capacity\n",
    "    max_capacity = capacity\n",
    "    \n",
    "    # initialize lookup table with solutions for evey combination of item values and target capacity\n",
    "    saved_solutions = [[-1 for x in range(capacity + 1)] for x in range(len(values))] \n",
    "\n",
    "    print(\"Inital table:\")\n",
    "    print_table(saved_solutions, len(values), max_capacity)\n",
    "\n",
    "    # call internal recursive memoization solution, starting with the first item\n",
    "    max_value = _knapsack_mem_wp(saved_solutions, weights, values, capacity, 0)\n",
    "    \n",
    "    return max_value"
   ]
  },
  {
   "cell_type": "markdown",
   "id": "cf17105f-a790-43eb-9795-e40bdbcf3c60",
   "metadata": {},
   "source": [
    "#### Basic test"
   ]
  },
  {
   "cell_type": "code",
   "execution_count": null,
   "id": "2f0088a4-06e4-41f1-8234-b9344c4ef18f",
   "metadata": {},
   "outputs": [],
   "source": [
    "# initialize function inputs\n",
    "weights = [2, 3, 4, 5, 3]\n",
    "values =  [3, 4, 5, 6, 1]\n",
    "capacity = 10\n",
    "\n",
    "# calculate maximum possible value of knapsack\n",
    "max_value = knapsack_mem_wp(weights, values, capacity)\n",
    "print(\"\\nMaximum value:\", max_value)"
   ]
  },
  {
   "cell_type": "markdown",
   "id": "b64cc3c8-bae8-4c90-865e-582070f42cef",
   "metadata": {},
   "source": [
    "#### What can we see from above?\n",
    "We can **see** the **values being progressively saved**. You can also see a **few instances** where we were **able to reuse previously calculated solutions**. It may **not** seem like **a lot** here, **because** the **inputs are small**. But **we'll revisit that later**."
   ]
  },
  {
   "cell_type": "markdown",
   "id": "2b2b275e-5c58-490c-87c7-8966cc29c8f5",
   "metadata": {},
   "source": [
    "#### Implementation with list of possible solutions and tracking of reused solutions\n",
    "We'll do a \"two for one deal\" here. \n",
    "- We'll **update** our **enhanced solution** that also **tracks our solution list** to **also** be **\"memoized\"**.\n",
    "- We'll also **track how many times** we were able to **reused saved solutions**. In this version we're **not going to print the solution tables** and the times we reused an item. As we saw above, that **generates a lot of output**.\n",
    "\n",
    "To **enhance** our **solution** to **maintain** the **list of products** we have to make some changes in the return values. The **algorithm** is **essentially the same**, but in addition to the maximum value, we **also accumulate and return** a **list of the items** that went with that maximum.\n",
    "\n",
    "**PLEASE NOTE** that **maintaining the solutions here** is **particularly expensive** from a **memory perspective**, because we're not only maintaining previous max value results, but also the complete list that went along with that. And we do that for all combinations. And since lists are always passed by reference, we need to make copies every time. So remember that the **\"classic\" knapsack problem does not list the solutions**. I only include it because it makes it more intuitive to visualize a solution. So if you are ever asked to show the knapsack problem solution, just use the standard version we saw initially, without the list of products.\n",
    "\n",
    "Also note that **since** the **tracking of reused values** is something we're doing **strictly to illustrate a point**, we'll **use a global variable** for it. I **wouldn't do that if** it **was** an integral **part of** the **solution**."
   ]
  },
  {
   "cell_type": "code",
   "execution_count": null,
   "id": "10930751-69e8-4b55-952b-318bfe764bd8",
   "metadata": {},
   "outputs": [],
   "source": [
    "def _knapsack_mem_ws(saved_solutions, items, weights, values, capacity, item_idx = 0):\n",
    "    '''\n",
    "    Recursive knapsack problem implementation. Returns the maximum total value of items you can have in \n",
    "    the knapsack. The function checks item from the begginning to the end of the list.\n",
    "\n",
    "    Parameters:\n",
    "        weights: list of item weights\n",
    "        values: list of item values\n",
    "        capacity: maximum weight capacity of the knapsack\n",
    "        item_idx: index of the current item being considered (default is the first item)\n",
    "    '''\n",
    "\n",
    "    # Base case: if the capacity is 0 or no items are left\n",
    "    if capacity == 0 or item_idx >= len(values):\n",
    "        return 0, []\n",
    "    \n",
    "    # if we previously solved this combination of item and capacity, return the previous solution\n",
    "    if saved_solutions[item_idx][capacity] != -1:\n",
    "        # update global variable that maintains solutions reused\n",
    "        global reused_solutions\n",
    "        reused_solutions += 1\n",
    "        # return previously save solution\n",
    "        return saved_solutions[item_idx][capacity]\n",
    "        \n",
    "    # get the weight and value of the item with this index\n",
    "    item_weight = weights[item_idx]     \n",
    "    item_value = values[item_idx]\n",
    "    \n",
    "    # If the weight of the item is more than the capacity ...\n",
    "    if item_weight > capacity:\n",
    "        # item is too heavy to include, so recurse without it\n",
    "        total, sol_list = _knapsack_mem_ws(saved_solutions, items, weights, values, capacity, item_idx + 1)\n",
    "        return total,sol_list.copy()\n",
    "\n",
    "    # else, we have the option of including the item or not\n",
    "    else:\n",
    "        # Calculate the max value we include the item. That will be the price of the item, \n",
    "        # plus the max total price we can have with the remaining items. We calculate that \n",
    "        # recursively, but we need to deduct the item weight from the available capacity.\n",
    "        total_with_item, sol_list1 = _knapsack_mem_ws(saved_solutions, items, weights, values, \n",
    "                                                     capacity - item_weight, \n",
    "                                                     item_idx + 1)\n",
    "        total_with_item += item_value\n",
    "        sol_list1.append(items[item_idx])\n",
    "        \n",
    "        # Calculate the max value if we exclude the item\n",
    "        total_without_item, sol_list2 = _knapsack_mem_ws(saved_solutions, items, weights, values, capacity, item_idx + 1)\n",
    "\n",
    "        # The optimal result with will be the maximum between the two options\n",
    "        if (total_with_item >= total_without_item):\n",
    "            # save the solution for this combination of item and capacity\n",
    "            saved_solutions[item_idx][capacity] = (total_with_item, sol_list1.copy())\n",
    "            return total_with_item, sol_list1\n",
    "        else:\n",
    "            saved_solutions[item_idx][capacity] = (total_without_item, sol_list2.copy())\n",
    "            return total_without_item, sol_list2\n",
    "\n",
    "def knapsack_mem_ws(products, weights, values, capacity):\n",
    "    '''\n",
    "    This method initializes the table that maintains every possible solution for an item \n",
    "    value and max capacity. This will be passed to a recursive memoization solution.\n",
    "    '''\n",
    "\n",
    "    # define a global variable used to track reuse of saved solutions\n",
    "    global reused_solutions\n",
    "    reused_solutions = 0\n",
    "\n",
    "    # initialize lookup table with solutions for evey combination of item values and target capacity\n",
    "    saved_solutions = [[-1 for x in range(capacity + 1)] for x in range(len(values))] \n",
    "\n",
    "    # call internal recursive memoization solution, starting with the first item\n",
    "    return _knapsack_mem_ws(saved_solutions, products, weights, values, capacity, 0)"
   ]
  },
  {
   "cell_type": "markdown",
   "id": "7df9ac96-2d4a-4f9f-b9ae-ac834a417f27",
   "metadata": {},
   "source": [
    "### Testing with our Black Friday loot"
   ]
  },
  {
   "cell_type": "markdown",
   "id": "9ccb1fa8-2d61-4310-a399-86635bee4463",
   "metadata": {},
   "source": [
    "#### Some cheap jewelry items ..."
   ]
  },
  {
   "cell_type": "code",
   "execution_count": null,
   "id": "634376f0-b5cf-4c98-a3b2-d8342108e1e5",
   "metadata": {},
   "outputs": [],
   "source": [
    "# initialize function inputs\n",
    "products = [\"ring\", \"pendant\", \"watch\", \"knecklace\", \"bracelet\", \"earrings\"]\n",
    "weights = [1, 2, 6, 5, 4, 3]\n",
    "prices = [2, 6, 10, 14, 12, 8]  \n",
    "capacity = 12\n",
    "\n",
    "# calculate maximum possible value of knapsack\n",
    "max_value, sol_list = knapsack_mem_ws(products, weights, prices, capacity)\n",
    "print(\"\\nItems in solution: \")\n",
    "total_weight = 0\n",
    "for item in sol_list:\n",
    "    prod_index = products.index(item)\n",
    "    total_weight += weights[prod_index]\n",
    "    print(f\"{item: <15} ({weights[prod_index]} lbs) - ${prices[prod_index]}\")\n",
    "    \n",
    "print(f\"\\nTotal knapsack weight: {total_weight} lbs\")\n",
    "print(f\"Total knapsack value: ${max_value}\")\n",
    "\n",
    "# print number of reused solutions\n",
    "print(f\"\\nWe reused a total of {reused_solutions} saved solutions\")"
   ]
  },
  {
   "cell_type": "markdown",
   "id": "00103075-214f-49b9-b0b4-4ebe8395c9fd",
   "metadata": {},
   "source": [
    "#### Some electronics ..."
   ]
  },
  {
   "cell_type": "code",
   "execution_count": null,
   "id": "d0e1246a-86a1-4a9b-9017-0f9bd49d65ae",
   "metadata": {},
   "outputs": [],
   "source": [
    "products = [\"Laptop\", \"SLR Camera\", \"Cell phone\", \"Headphone\", \"Mouse\", \"keyboard\"]\n",
    "weights = [9, 7, 2, 2, 1, 2]\n",
    "prices = [700, 800, 750, 80, 25, 30]\n",
    "capacity = 12\n",
    "\n",
    "# calculate maximum possible value of knapsack\n",
    "max_value, sol_list = knapsack_mem_ws(products, weights, prices, capacity)\n",
    "print(\"\\nItems in solution: \")\n",
    "total_weight = 0\n",
    "for item in sol_list:\n",
    "    prod_index = products.index(item)\n",
    "    total_weight += weights[prod_index]\n",
    "    print(f\"{item: <15} ({weights[prod_index]} lbs) - ${prices[prod_index]}\")\n",
    "    \n",
    "print(f\"\\nTotal knapsack weight: {total_weight} lbs\")\n",
    "print(f\"Total knapsack value: ${max_value}\")\n",
    "\n",
    "# print number of reused solutions\n",
    "print(f\"\\nWe reused a total of {reused_solutions} saved solutions\")"
   ]
  },
  {
   "cell_type": "markdown",
   "id": "4550987e-221b-4bc8-b329-2d880e0687f9",
   "metadata": {},
   "source": [
    "We **haven't reused a lot** of solutions with the simple examples above, **but those** were **small lists, and small capacities**."
   ]
  },
  {
   "cell_type": "markdown",
   "id": "be0b2888-e83f-419c-90cd-d611e4dbe218",
   "metadata": {},
   "source": [
    "### Testing again with a bigger list\n",
    "**What happens** if we try our **bigger list of items?**  Once again, we'll **dare the odds**, and add **even more products**. We had **30 items before**, so let's add **10 more**, for a **total of 40**. We'll buy some diving equipment this time."
   ]
  },
  {
   "cell_type": "code",
   "execution_count": null,
   "id": "894a9596-bcba-4fcc-9fa5-66309acc9b85",
   "metadata": {},
   "outputs": [],
   "source": [
    "# initialize function inputs\n",
    "products = [\"ring\", \"pendant\", \"watch\", \"knecklace\", \"bracelet\", \"earrings\",\n",
    "           \"Laptop\", \"SLR Camera\", \"Cell phone\", \"Headphone\", \"Mouse\", \"keyboard\",\n",
    "           \"tshirt\", \"skirt\", \"summer dress\", \"suit\", \"tie\", \"belt\",\n",
    "           \"leash\", \"collar\", \"bowl\", \"treats\", \"chewey toy\", \"catnip\",\n",
    "           \"soccer ball\", \"tennis racket\", \"cleats\", \"shin guard\", \"socks\", \"pads\",\n",
    "           \"dive computer\", \"regulator\", \"mask\", \"snorkel\", \"wetsuit\", \"fins\", \"defog\", \"BCD\", \"weights\", \"gloves\"]\n",
    "weights = [1, 2, 6, 5, 4, 3,\n",
    "           9, 7, 2, 2, 1, 2,\n",
    "           3, 4, 4, 6, 2, 3,\n",
    "           2, 3, 4, 2, 3, 2,\n",
    "           8, 6, 3, 4, 1, 3,\n",
    "           3, 4, 2, 3, 4, 3, 1, 6, 10, 2]\n",
    "prices = [2, 6, 10, 14, 12, 8,\n",
    "        700, 800, 750, 80, 25, 30,\n",
    "         9, 12, 24, 100, 20, 18,\n",
    "         15, 12, 5, 8, 11, 6,\n",
    "         19, 80, 60, 40, 5, 15,\n",
    "         150, 220, 80, 32, 265, 90, 15, 450, 40, 55]\n",
    "capacity = 50\n",
    "\n",
    "print(f\"Calculating optimal solution for {len(products)} products within a capacity of {capacity} lbs\")\n",
    "print()\n",
    "\n",
    "# calculate maximum possible value of knapsack\n",
    "max_value, sol_list = knapsack_mem_ws(products, weights, prices, capacity)\n",
    "print(\"\\nItems in solution: \")\n",
    "total_weight = 0\n",
    "for item in sol_list:\n",
    "    prod_index = products.index(item)\n",
    "    total_weight += weights[prod_index]\n",
    "    print(f\"{item: <15} ({weights[prod_index]} lbs) - ${prices[prod_index]}\")\n",
    "    \n",
    "print(f\"\\nTotal knapsack weight: {total_weight} lbs\")\n",
    "print(f\"Total knapsack value: ${max_value}\")"
   ]
  },
  {
   "cell_type": "markdown",
   "id": "53682557-af05-457e-b211-d02814ba953d",
   "metadata": {},
   "source": [
    "Oh yeah! It's a party in the ocean!"
   ]
  },
  {
   "cell_type": "markdown",
   "id": "39453791-22fd-43a5-841a-ffa25f00db19",
   "metadata": {},
   "source": [
    "#### Why didn't I hang this time?\n",
    "Let's see how many times we saved solutions this time ..."
   ]
  },
  {
   "cell_type": "code",
   "execution_count": null,
   "id": "4e8c5c57-dd63-4b1b-bf63-8800f23fff73",
   "metadata": {},
   "outputs": [],
   "source": [
    "print(f\"We reused a total of {reused_solutions} saved solutions\")"
   ]
  },
  {
   "cell_type": "markdown",
   "id": "3f216c39-59d7-4a77-99d0-90cd0e1119fe",
   "metadata": {},
   "source": [
    "In my execution (just in case you changed some of the values), we **reused 1460 saved solutions**. **Does that mean** we **saved 1460 steps** in the execution **?**\n",
    "\n",
    "**No, we saved a lot more!**\n",
    "\n",
    "Remember that **when** I **reused** a **solution**, I'm **preventing** the **code** to **continue down another recursive chain**. And as we know, **each recursive chain** could **result in** a lot **more subseuqent calls**. So **each** of these **saved solution** actually **saved ton of calls underneath**."
   ]
  },
  {
   "cell_type": "markdown",
   "id": "c0ecb3f3-41cf-4e12-b486-8db8cbdacea2",
   "metadata": {},
   "source": [
    "### Complexity analysis\n",
    "It would be extremely **difficult** to try to **walk through** that **algorithm**, and **deduce how many times individual sections** are **run**. That's because we have the extra element of the reuse. That changes nhow many times we trigger recursions.\n",
    "\n",
    "Fortunately, we can **estimate the complexity** in a round about way. We know that solving the problem with memoization will depend on building that solutions table. We saw that in our \"with print\" version. The **solutions table is a two-dimensional table**, with the **number of items in the rows** (let's call that ***n***), and all the possible capacity values **0 to the max capacity in the columns** (we'll call that ***m***). The **time** it **will take us** to **fill** all the **cells** in that table will be **approximately *n \\* m***. So our complexity is ...\n",
    "\n",
    "\n",
    "- **Time complexity: <span style=\"color:blue\">O(n \\* m)**</span>"
   ]
  },
  {
   "cell_type": "markdown",
   "id": "1d8b8169-acad-4aa0-8f81-05457c5d7e87",
   "metadata": {},
   "source": [
    "## <span style=\"color:blue\">OPTIONAL</span>: Fibonacci\n",
    "We've already seen the **Fibonacci series**, where **each number** is the **sum of** the **two previous** numbers: ***0, 1, 1, 2, 3, 5, 8, 13, 21, 34, 55, 89, 144, ...***\n",
    "\n",
    "The **Fibonnaci problem** is usually about **returning** the ***nth* Fibonnaci number**. So:\n",
    "- fibonnaci(4) = 3\n",
    "- fibonnaci(5) = 5\n",
    "- fibonacci(6) = 8\n",
    "- fibonacci(7) = 13"
   ]
  },
  {
   "cell_type": "markdown",
   "id": "7e1e2738-16d8-4388-846d-337622ff082a",
   "metadata": {},
   "source": [
    "## Fibonacci"
   ]
  },
  {
   "cell_type": "markdown",
   "id": "09e3b194-3a03-4ffb-b055-96dfd1ddddad",
   "metadata": {},
   "source": [
    "### Fibonacci - Recursive implementation\n",
    "We saw this implemention during our discussion of recursion."
   ]
  },
  {
   "cell_type": "code",
   "execution_count": null,
   "id": "79b7023b-9814-404c-8589-a78e39e7c90d",
   "metadata": {},
   "outputs": [],
   "source": [
    "def fibonacci_rec(n): \n",
    "\t# Base case: First Fibonacci number is 0 \n",
    "\tif n == 0: \n",
    "\t\treturn 0 \n",
    "\t# Base case: Second Fibonacci number is 1 \n",
    "\telif n == 1: \n",
    "\t\treturn 1 \n",
    "\t# Recursive case \n",
    "\telse: \n",
    "\t\treturn fibonacci_rec(n - 1) + fibonacci_rec(n - 2) "
   ]
  },
  {
   "cell_type": "markdown",
   "id": "0aef3f50-3dc8-4941-ba4f-cc8c10df1e1d",
   "metadata": {},
   "source": [
    "#### Basic test"
   ]
  },
  {
   "cell_type": "code",
   "execution_count": null,
   "id": "4f1a545b-ac28-4dd4-b143-7d3fbd5efef0",
   "metadata": {},
   "outputs": [],
   "source": [
    "# Set  number to find fibonnaci for\n",
    "fib_num = 10\n",
    "\n",
    "print(f\"Fibonnaci({fib_num}) = {fibonacci_rec(fib_num)}\")"
   ]
  },
  {
   "cell_type": "markdown",
   "id": "63b82a95-4671-4516-8feb-95c63752d844",
   "metadata": {},
   "source": [
    "#### Larger number test\n",
    "Let's try a **larger number**. Doesn't even need to be that big. **100** will be **enough to cause problems**."
   ]
  },
  {
   "cell_type": "markdown",
   "id": "4cf890ac-6290-4de5-b976-cc1dad9a6911",
   "metadata": {},
   "source": [
    "#### <span style=\"color:red\">**WARNING: This next step will hang your Python kernel** </span>\n",
    "<span style=\"color:red\">You can **stop the cell** to break.</span>"
   ]
  },
  {
   "cell_type": "code",
   "execution_count": null,
   "id": "4c5e56e0-cee8-441d-a630-11d1d5a2283e",
   "metadata": {},
   "outputs": [],
   "source": [
    "# Set  number to find fibonnaci for\n",
    "fib_num = 100\n",
    "\n",
    "print(f\"Fibonnaci({fib_num}) = {fibonacci_rec(fib_num)}\")"
   ]
  },
  {
   "cell_type": "markdown",
   "id": "842f365b-f5d1-4e45-b56f-37370561c2c9",
   "metadata": {},
   "source": [
    "### Complexity analysis\n",
    "Once again, the recursion is clever, but the time **complexity** is **high**. Because at **each recursive step**, you are **making two additional calls** (the *\"(n - 1)\"* call, and the *\"(n - 2)\"* call). So the final number of steps would be **2 x 2 x ... x 2**, or **2<sup>n</sup>**.\n",
    "- **Time complexity: <span style=\"color:blue\">O(2<sup>n</sup>)**</span>"
   ]
  },
  {
   "cell_type": "markdown",
   "id": "3b747d93-867e-4a1b-9cf7-3177a087f589",
   "metadata": {},
   "source": [
    "### Fibonacci - Memoization implementation"
   ]
  },
  {
   "attachments": {},
   "cell_type": "markdown",
   "id": "590f5e97-c413-4bde-85e9-876720470f57",
   "metadata": {},
   "source": [
    "#### Is this a good fit for memoization?\n",
    "Let's check if this solutions meets the key characteristics for dynamic programming:\n",
    "- **Optimal structure** - **Can** this **problem** be **broken down** in **smaller subproblems?**\n",
    "    - **Yes**. We can start with solutions for a smaller Fibonacci problems, and build our way up.\n",
    "- **Overlapping subproblems** - Are the **subproblems encountered repeatedly** during the process of solving the main problem?\n",
    "    - **Yes**. By it's very definition, a Fibonacci problem depends on the values before."
   ]
  },
  {
   "cell_type": "markdown",
   "id": "1a1cc8b9-16c1-46a9-ba06-d1ab7f571868",
   "metadata": {},
   "source": [
    "#### Implementation using Python's functools module cache\n",
    "This is very **similar to** the **Factorial problem**. As we did in that case, we **need to define** a **separate data structure to cache previous executions** of our function, so they can be reused the next time. **Then our code** would **have** an ***if statement*** that would always **check first for** a **previously cached solution**. Again, just like we did with the factorials. \n",
    "\n",
    "Or ...\n",
    "\n",
    "**Another option** is to **use Python's functools module cache to store those results** for us. If we import that module, and **use the @cache decorator before our function**, our **previous calls get cached** internally by the functools module. Just imagine that the **functools cache** is **implementing** that **if statement check for you**, and returning previously calculated values."
   ]
  },
  {
   "cell_type": "code",
   "execution_count": null,
   "id": "27b499c4-9067-4ddc-a69e-7337d2e374d9",
   "metadata": {},
   "outputs": [],
   "source": [
    "from functools import cache\n",
    "\n",
    "@cache\n",
    "def fibonacci_mem(n):\n",
    "    # Base case: First Fibonacci number is 0\n",
    "    if n == 0:\n",
    "        return 0\n",
    "    # Base case: Second Fibonacci number is 1 \n",
    "    elif n == 1: \n",
    "        return 1 \n",
    "    # Recursive case \n",
    "    else: \n",
    "        return fibonacci_mem(n - 1) + fibonacci_mem(n - 2) "
   ]
  },
  {
   "cell_type": "markdown",
   "id": "1e79d791-5501-4e9b-9b32-5ab0c0f082be",
   "metadata": {},
   "source": [
    "#### Basic test"
   ]
  },
  {
   "cell_type": "code",
   "execution_count": null,
   "id": "9210be76-84de-45fe-ad1a-e8c6b64ea632",
   "metadata": {},
   "outputs": [],
   "source": [
    "# Set  number to find fibonnaci for\n",
    "fib_num = 10\n",
    "\n",
    "print(f\"Fibonnaci({fib_num}) = {fibonacci_mem(fib_num)}\")"
   ]
  },
  {
   "cell_type": "markdown",
   "id": "3cdde4b2-f453-4177-82c6-b1788f83dbb7",
   "metadata": {},
   "source": [
    "#### Larger number test\n",
    "Let's **try again**. And once again, we'll **raise the stakes**. Let's do **1,000!**"
   ]
  },
  {
   "cell_type": "code",
   "execution_count": null,
   "id": "91bf6200-e7cc-47a5-8659-76b8fa4d762f",
   "metadata": {},
   "outputs": [],
   "source": [
    "# Set  number to find fibonnaci for\n",
    "fib_num = 1000\n",
    "\n",
    "print(f\"Fibonnaci({fib_num}) = {fibonacci_mem(fib_num)}\")"
   ]
  },
  {
   "cell_type": "markdown",
   "id": "c44c1e82-7eb7-49db-9f82-a61e33f6a854",
   "metadata": {},
   "source": [
    "### Complexity analysis\n",
    "This is an **interesting** one, **because with the @cache decorator**, the **code appears to be the same**. But we have to **remember** that **we are saving previous results**, just as if we had created our our data structure. It's just that the **functools cache** is **doing it for us**. So **how** does the **complexity change with** those **saved resuls?**\n",
    "\n",
    "Let's look at the line:\n",
    "> return **<span style=\"color:red\">fibonacci_mem(n - 1)</span>** + **<span style=\"color:blue\">fibonacci_mem(n - 2)</span>**\n",
    "\n",
    "**First** the **code** will **evaluate** **<span style=\"color:red\">fibonacci_mem(n - 1)</span>** , **and then** it evaluates **<span style=\"color:blue\">fibonacci_mem(n - 2)</span>**\n",
    "\n",
    "For the **normal recursive code**, the **evaluation of **<span style=\"color:red\">fibonacci_mem(n - 1)</span>** goes down** its **full recursion chain**. **After that** comes all the way back, the **<span style=\"color:blue\">fibonacci_mem(n - 2)</span> portion starts**. This will result in **2 fully recursive calls for each invocation**. So we ended up with **O(2<sup>n</sup>)** <br>\n",
    "\n",
    "**However, remember** that the first part **<span style=\"color:red\">fibonacci_mem(n - 1)</span>** evaluation, will **recursively call fibonacci_mem** for **(n - 2)**, then **(n - 3)**, then **(n - 4) and so on**, until it reaches the base case. And **all** these **results are cached by *functools.cache***. So **by the time** the second part **evaluation of <span style=\"color:blue\">fibonacci_mem(n - 2)</span> starts**, it will have **cached results available for everything** it needs under it. So **in the end**, we are really **only going down one recursive path** for each invocation. Which gives us a much more manageable **O(n)**.  \n",
    "- **Time complexity: <span style=\"color:blue\">O(n)**</span>"
   ]
  },
  {
   "cell_type": "code",
   "execution_count": null,
   "id": "d9bcb078-9ed3-4e52-880a-4631eb89b204",
   "metadata": {},
   "outputs": [],
   "source": []
  }
 ],
 "metadata": {
  "kernelspec": {
   "display_name": "Python 3 (ipykernel)",
   "language": "python",
   "name": "python3"
  },
  "language_info": {
   "codemirror_mode": {
    "name": "ipython",
    "version": 3
   },
   "file_extension": ".py",
   "mimetype": "text/x-python",
   "name": "python",
   "nbconvert_exporter": "python",
   "pygments_lexer": "ipython3",
   "version": "3.9.2"
  }
 },
 "nbformat": 4,
 "nbformat_minor": 5
}
