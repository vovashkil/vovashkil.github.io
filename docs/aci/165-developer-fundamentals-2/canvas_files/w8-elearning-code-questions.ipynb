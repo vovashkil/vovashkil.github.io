{
 "cells": [
  {
   "cell_type": "markdown",
   "id": "f4029676-190e-406c-96cb-f26a27fd8051",
   "metadata": {},
   "source": [
    "# <span style=\"color:blue\">Code Review Questions\n",
    "AWS CLOUD INSTITUTE: PROVIDED FOR EDUCATIONAL INSTRUCTIONAL PURPOSES ONLY."
   ]
  },
  {
   "cell_type": "markdown",
   "id": "6130bef6-4fef-436b-8560-a044e9f12547",
   "metadata": {},
   "source": [
    "# Classes and objects"
   ]
  },
  {
   "cell_type": "markdown",
   "id": "f35d39dc-897a-4835-9dab-0b5c5063b1a9",
   "metadata": {},
   "source": [
    "## Simple Class Creation\n",
    "Create a class to maintain a student's grade across three subjects (physics, chemistry, and biology) and calculate the student's final grade. The final grade will be the average of the individual grades.\n",
    "\n",
    "You will need to create a Student class with the following:\n",
    "- Four public properties to record the student's name and grades in the three classes\n",
    "- Method final_grade to return the student's final grade\n",
    "- Public attributes, properties, and methods"
   ]
  },
  {
   "cell_type": "markdown",
   "id": "84824e1b-2374-4a04-9d9f-a163114c6af3",
   "metadata": {},
   "source": [
    "### Solution"
   ]
  },
  {
   "cell_type": "code",
   "execution_count": null,
   "id": "3f241729",
   "metadata": {},
   "outputs": [],
   "source": [
    "class Student: \n",
    "    def __init__(self, name, phy, chem, bio): \n",
    "        self.name = name \n",
    "        self.phy = phy \n",
    "        self.chem = chem \n",
    "        self.bio = bio \n",
    "\n",
    "    def final_grade(self): \n",
    "        return((self.phy + self.chem + self.bio)  / 3)"
   ]
  },
  {
   "cell_type": "markdown",
   "id": "6ef5ae38-dea5-4415-ab76-5005fbd6a00b",
   "metadata": {},
   "source": [
    "#### Test"
   ]
  },
  {
   "cell_type": "code",
   "execution_count": null,
   "id": "b55c65f9",
   "metadata": {},
   "outputs": [],
   "source": [
    "student = Student(\"Ana Carolina Silva\", 83, 56, 68)\n",
    "print(\"{} final grade: {}\".format(student.name, student.final_grade()))\n",
    "\n",
    "student = Student(\"John Stiles\", 98, 67, 72)\n",
    "print(\"{} final grade: {}\".format(student.name, student.final_grade()))"
   ]
  },
  {
   "cell_type": "markdown",
   "id": "7c01c6b2",
   "metadata": {},
   "source": [
    "## Inheritance\n",
    "Create classes that represent bank accounts. You are expected to create a base class for a general account and a specialized class to represent a savings account. You will need to create the following:\n",
    "- A parent Account class to store the account holder's name and balance.\n",
    "- A child SavingsAccount class to store the interest rate."
   ]
  },
  {
   "cell_type": "markdown",
   "id": "d3e9d81b-3384-4299-9c84-3ca8fe586cd3",
   "metadata": {},
   "source": [
    "### Solution"
   ]
  },
  {
   "cell_type": "code",
   "execution_count": null,
   "id": "d2eb8dc2",
   "metadata": {},
   "outputs": [],
   "source": [
    "class Account: \n",
    "    def __init__(self, accountholder=None, balance=0): \n",
    "        self.accountholder = accountholder \n",
    "        self.balance = balance\n",
    "        \n",
    "class SavingsAccount(Account): \n",
    "    def __init__(self, accountholder=None, balance=0, interestRate=0): \n",
    "        super().__init__(accountholder, balance) \n",
    "        self.interestRate = interestRate         "
   ]
  },
  {
   "cell_type": "markdown",
   "id": "dfbac2ea-8121-4484-9d6a-3f9b4183a1a1",
   "metadata": {},
   "source": [
    "### Test"
   ]
  },
  {
   "cell_type": "code",
   "execution_count": null,
   "id": "d07dd2dd",
   "metadata": {},
   "outputs": [],
   "source": [
    "bankAcc = Account(\"Martha Rivera\", 1000)\n",
    "print(\"{} account balance: {}\".format(bankAcc.accountholder, bankAcc.balance))\n",
    "\n",
    "savingsAcc = SavingsAccount(\"Sarkar Saani\", 2500, 3.5)\n",
    "print(\"{} account balance: {}\".format(savingsAcc.accountholder, savingsAcc.balance))\n",
    "print(\"{} account interest rate: {}%\".format(savingsAcc.accountholder, savingsAcc.interestRate))"
   ]
  },
  {
   "cell_type": "markdown",
   "id": "1e34255e-dbe1-4107-a1e3-d43a61671f93",
   "metadata": {},
   "source": [
    "# Data Structures"
   ]
  },
  {
   "cell_type": "markdown",
   "id": "1c247b04",
   "metadata": {},
   "source": [
    "## Sorting a Stack\n",
    "Assume a stack class is implemented using a Python list. How you could enhance the stack by adding a method that re-sorts the values in the stack. \n",
    "\n",
    "You will be provided a starting class, MyStack, which implements a stack using a Python list. You are asked to do the following:\n",
    "- Examine the implementation of MyStack and understand how a list is used to support the standard push and pop stack operations.\n",
    "- Implement a sort_stack() method in the class. The method will sort the elements in the stack such that if you pop and print all the elements, they will come out in ascending order."
   ]
  },
  {
   "cell_type": "markdown",
   "id": "1dd3eebc-5537-4299-a616-9eaab9101f81",
   "metadata": {},
   "source": [
    "### Solution"
   ]
  },
  {
   "cell_type": "code",
   "execution_count": null,
   "id": "3cf1b810",
   "metadata": {},
   "outputs": [],
   "source": [
    "class MyStack:  \n",
    "    def __init__(self): \n",
    "        self.stack_list = [] \n",
    " \n",
    "    def is_empty(self):  \n",
    "        return len(self.stack_list) == 0  \n",
    " \n",
    "    def peek(self):  \n",
    "        if self.is_empty():  \n",
    "            return None  \n",
    "        return self.stack_list[-1]  \n",
    " \n",
    "    def size(self):  \n",
    "        return len(self.stack_list)  \n",
    " \n",
    "    def push(self, value):  \n",
    "        self.stack_list.append(value)  \n",
    " \n",
    "    def pop(self):  \n",
    "        if self.is_empty():  \n",
    "            return None  \n",
    "        return self.stack_list.pop() \n",
    "  \n",
    "    def sort_stack(self):\n",
    "        self.stack_list.sort(reverse=True)"
   ]
  },
  {
   "cell_type": "markdown",
   "id": "49a6fd6b-a321-4615-bf6e-ec375baf6b42",
   "metadata": {},
   "source": [
    "#### Test"
   ]
  },
  {
   "cell_type": "code",
   "execution_count": null,
   "id": "a9d29f08",
   "metadata": {},
   "outputs": [],
   "source": [
    "# create stack and push items in unsorted order  \n",
    "stack = MyStack()\n",
    "stack.push(3)\n",
    "stack.push(43)\n",
    "stack.push(9)\n",
    "stack.push(25)\n",
    "stack.push(12) \n",
    "\n",
    "# Sorting the stack \n",
    "stack.sort_stack()\n",
    " \n",
    "# Printing the sorted stack \n",
    "print(\"Stack after sorting\") \n",
    "print([stack.pop() for i in range(stack.size())])"
   ]
  },
  {
   "cell_type": "markdown",
   "id": "b238e83b",
   "metadata": {},
   "source": [
    "## Queues - implement a queue using a stack\n",
    "Implement a queue using only stacks for data storage. This is a challenging problem because queues and stacks operate nearly opposite to each other. In a queue, the first element in will be the first one out (FIFO). In a stack, the last element in will be the first one out (LIFO). This question tests your understanding of both stacks and queues.\n",
    "\n",
    "You will be provided a MyStack class to use for your solution. You are asked to do the following:\n",
    "- Implement a MyQueue class that will use the provided Stack class in its implementation.\n",
    "- Implement the enqueue() and dequeue() standard queue methods.\n",
    "    - enqueue( ) inserts a value into the queue.\n",
    "    - dequeue( ) extracts and returns the oldest value in the queue."
   ]
  },
  {
   "cell_type": "markdown",
   "id": "dfc32fce-7001-4d03-8c1a-d91359d261c5",
   "metadata": {},
   "source": [
    "### Resources provided"
   ]
  },
  {
   "cell_type": "code",
   "execution_count": null,
   "id": "36cd972e",
   "metadata": {},
   "outputs": [],
   "source": [
    "class MyStack:  \n",
    "    def __init__(self): \n",
    "        self.stack_list = [] \n",
    " \n",
    "    def is_empty(self):  \n",
    "        return len(self.stack_list) == 0  \n",
    " \n",
    "    def peek(self):  \n",
    "        if self.is_empty():  \n",
    "            return None  \n",
    "        return self.stack_list[-1]  \n",
    " \n",
    "    def size(self):  \n",
    "        return len(self.stack_list)  \n",
    " \n",
    "    def push(self, value):  \n",
    "        self.stack_list.append(value)  \n",
    " \n",
    "    def pop(self):  \n",
    "        if self.is_empty():  \n",
    "            return None  \n",
    "        return self.stack_list.pop() "
   ]
  },
  {
   "cell_type": "markdown",
   "id": "97b09eb8",
   "metadata": {},
   "source": [
    "### Solution 1\n",
    "In this solution, most of the work is done in the enqueue method."
   ]
  },
  {
   "cell_type": "code",
   "execution_count": null,
   "id": "1ff919e5",
   "metadata": {},
   "outputs": [],
   "source": [
    "class MyQueue: \n",
    "    def __init__(self): \n",
    "        self.main_stack = MyStack() \n",
    "        self.temp_stack = MyStack() \n",
    "\n",
    "    # Inserts Element in the Queue \n",
    "    def enqueue(self, value): \n",
    "        # if the queue is empty, just push the first value\n",
    "        if self.main_stack.is_empty(): \n",
    "            self.main_stack.push(value)\n",
    "        # else, the queue is not empty\n",
    "        else:\n",
    "            # pop all the elements in the main stack while pushing them into a temporary stack\n",
    "            while not self.main_stack.is_empty(): \n",
    "                self.temp_stack.push(self.main_stack.pop()) \n",
    "            # now push the latest item into the main stack\n",
    "            self.main_stack.push(value)\n",
    "            # pop all the elements in the temp stack while pushing them back into the main stack\n",
    "            while not self.temp_stack.is_empty(): \n",
    "                self.main_stack.push(self.temp_stack.pop()) \n",
    "\n",
    "    # Removes Element From Queue \n",
    "    def dequeue(self): \n",
    "        # If stack empty then return None \n",
    "        if self.main_stack.is_empty(): \n",
    "            return None \n",
    "        value = self.main_stack.pop() \n",
    "        return value"
   ]
  },
  {
   "cell_type": "markdown",
   "id": "0bfe1a7d-ab75-4211-9bef-e0ca0d3a8b7b",
   "metadata": {},
   "source": [
    "### Test"
   ]
  },
  {
   "cell_type": "code",
   "execution_count": null,
   "id": "99572cb2",
   "metadata": {},
   "outputs": [],
   "source": [
    "queue = MyQueue() \n",
    "for i in range(5):\n",
    "    print(\"Enqueued {}\".format(i+1))\n",
    "    queue.enqueue(i+1) \n",
    "print(\"----------\") \n",
    "for i in range(5): \n",
    "    print(\"Dequeued {}\".format(queue.dequeue()))"
   ]
  },
  {
   "cell_type": "markdown",
   "id": "c76e6a54",
   "metadata": {},
   "source": [
    "### Solution 2\n",
    "The following is the second complete solution. The algorithm also uses two stacks, but in this solution, most of the work is done in the dequeue operation."
   ]
  },
  {
   "cell_type": "code",
   "execution_count": null,
   "id": "48da4b36",
   "metadata": {},
   "outputs": [],
   "source": [
    "class MyQueue:\n",
    "    \n",
    "    def __init__(self): \n",
    "        self.push_stack = MyStack() \n",
    "        self.pop_stack = MyStack() \n",
    "\n",
    "    # Inserts Element in the Queue \n",
    "    def enqueue(self,value): \n",
    "        # Push the value into main_stack\n",
    "        self.push_stack.push(value) \n",
    "\n",
    "    # Removes Element From Queue   \n",
    "    def dequeue(self):\n",
    "        # if pop_stack is not empty, pop and return element from pop_stack\n",
    "        if not self.pop_stack.is_empty(): \n",
    "            return self.pop_stack.pop()\n",
    "        \n",
    "        # if the push_stack is empty as well, return None\n",
    "        if self.push_stack.is_empty(): \n",
    "            return None\n",
    "        \n",
    "        # Transfer all elements from push_stack to pop_stack \n",
    "        while not self.push_stack.is_empty(): \n",
    "            self.pop_stack.push(self.push_stack.pop()) \n",
    "\n",
    "        # Pop the first value. This is the oldest element in the queue \n",
    "        return self.pop_stack.pop() "
   ]
  },
  {
   "cell_type": "markdown",
   "id": "8072be87-7fcf-41a5-af26-2a622c85a94f",
   "metadata": {},
   "source": [
    "#### Test"
   ]
  },
  {
   "cell_type": "code",
   "execution_count": null,
   "id": "d8e5e4aa",
   "metadata": {},
   "outputs": [],
   "source": [
    "queue = MyQueue() \n",
    "for i in range(5):\n",
    "    print(\"Enqueued {}\".format(i+1))\n",
    "    queue.enqueue(i+1) \n",
    "print(\"----------\") \n",
    "for i in range(5): \n",
    "    print(\"Dequeued {}\".format(queue.dequeue()))"
   ]
  },
  {
   "cell_type": "markdown",
   "id": "ec3fb831",
   "metadata": {},
   "source": [
    "## Linked lists - implement length() function\n",
    "Implement the length() function, which will find the length of a given linked list. You will be provided with a standard LinkedList class to use in your implementation."
   ]
  },
  {
   "cell_type": "markdown",
   "id": "7e0b7465-f242-43d6-ade7-1283ecab607b",
   "metadata": {},
   "source": [
    "### Resources provided"
   ]
  },
  {
   "cell_type": "code",
   "execution_count": null,
   "id": "d9befd52",
   "metadata": {},
   "outputs": [],
   "source": [
    "class Node: \n",
    "    def __init__(self, data): \n",
    "        self.data = data \n",
    "        self.next_element = None"
   ]
  },
  {
   "cell_type": "code",
   "execution_count": null,
   "id": "fd47c30a",
   "metadata": {},
   "outputs": [],
   "source": [
    "class LinkedList: \n",
    "    def __init__(self): \n",
    "        self.head_node = None \n",
    "\n",
    "    def get_head(self): \n",
    "        return self.head_node \n",
    "\n",
    "    def is_empty(self): \n",
    "        if(self.head_node is None):  # Check whether the head is None \n",
    "            return True \n",
    "        else: \n",
    "            return False \n",
    "\n",
    "    def insert_at_head(self, dt): \n",
    "        temp_node = Node(dt) \n",
    "        if(self.is_empty()): \n",
    "            self.head_node = temp_node \n",
    "            return self.head_node \n",
    "\n",
    "        temp_node.next_element = self.head_node \n",
    "        self.head_node = temp_node \n",
    "        return self.head_node \n",
    "\n",
    "    # Inserts a value at the end of the list \n",
    "    def insert_at_tail(self, value): \n",
    "        # Creating a new node \n",
    "        new_node = Node(value) \n",
    "\n",
    "        # Check if the list is empty, if it is simply point head to new node \n",
    "        if self.get_head() is None: \n",
    "            self.head_node = new_node \n",
    "            return\n",
    "\n",
    "        # if list not empty, traverse the list to the last node \n",
    "        temp = self.get_head() \n",
    "        while temp.next_element is not None: \n",
    "            temp = temp.next_element \n",
    "\n",
    "        # Set the nextElement of the previous node to new node \n",
    "        temp.next_element = new_node \n",
    "        return\n",
    "\n",
    "    def delete_at_head(self): \n",
    "        # Get Head and firstElement of List \n",
    "        first_element = self.get_head() \n",
    "        # If List is not empty then link head to the \n",
    "        # nextElement of firstElement. \n",
    "        if (first_element is not None): \n",
    "            self.head_node = first_element.next_element \n",
    "            first_element.next_element = None \n",
    "        return \n",
    "\n",
    "    def delete(self, value): \n",
    "        deleted = False \n",
    "        if self.is_empty():  # Check if list is empty -> Return False \n",
    "            print(\"List is Empty\") \n",
    "            return deleted \n",
    "        current_node = self.get_head()  # Get current node \n",
    "        previous_node = None  # Get previous node \n",
    "        if current_node.data is value: \n",
    "            self.delete_at_head()  # Use the previous function \n",
    "            deleted = True \n",
    "            return deleted \n",
    "\n",
    "        # Traversing/Searching for Node to Delete \n",
    "        while current_node is not None: \n",
    "            # Node to delete is found \n",
    "            if value is current_node.data: \n",
    "                # previous node now points to next node \n",
    "                previous_node.next_element = current_node.next_element \n",
    "                current_node.next_element = None \n",
    "                deleted = True \n",
    "                break \n",
    "            previous_node = current_node \n",
    "            current_node = current_node.next_element \n",
    "\n",
    "        return deleted \n",
    "  \n",
    "    def search(self, dt): \n",
    "        if self.is_empty(): \n",
    "            print(\"List is Empty\") \n",
    "            return None \n",
    "        temp = self.head_node \n",
    "        while(temp is not None): \n",
    "            if(temp.data is dt): \n",
    "                return temp \n",
    "            temp = temp.next_element \n",
    "\n",
    "        print(dt, \" is not in List!\") \n",
    "        return None "
   ]
  },
  {
   "cell_type": "markdown",
   "id": "93a32f98-fd48-494b-b929-87aa3bb19722",
   "metadata": {},
   "source": [
    "### Solution"
   ]
  },
  {
   "cell_type": "code",
   "execution_count": null,
   "id": "89d8f216",
   "metadata": {},
   "outputs": [],
   "source": [
    "def length(lst): \n",
    "    # start from the first element \n",
    "    curr = lst.get_head() \n",
    "    length = 0 \n",
    "\n",
    "    # Traverse the list and count the number of nodes \n",
    "    while curr: \n",
    "        length += 1 \n",
    "        curr = curr.next_element \n",
    "    return length"
   ]
  },
  {
   "cell_type": "markdown",
   "id": "52598e9b-284a-489a-8063-be186bc7b0df",
   "metadata": {},
   "source": [
    "#### Test"
   ]
  },
  {
   "cell_type": "code",
   "execution_count": null,
   "id": "16ee14e3",
   "metadata": {},
   "outputs": [],
   "source": [
    "lst = LinkedList() \n",
    "lst.insert_at_head(4) \n",
    "lst.insert_at_head(3) \n",
    "lst.insert_at_head(2) \n",
    "lst.insert_at_head(1) \n",
    "lst.insert_at_head(0) \n",
    "print(\"List length is \", length(lst)) "
   ]
  },
  {
   "cell_type": "markdown",
   "id": "ba99c77f",
   "metadata": {},
   "source": [
    "## Min and max heaps - convert a max heap to a min heap\n",
    "Create a max_to_min() function, which will convert a max heap to a min heap. A heap is a binary tree that satisfies the heap property. The property specifies that for every node in a tree, the value is greater than or equal to (in a max heap) or less than or equal to (in a min heap) its children. \n",
    "\n",
    "This problem also requires that you remember how to represent a heap using an array, which in Python is represented as a list. This follows a pattern where heap[k] <= heap[2*k+1] and heap[k] <= heap[2*k+2] for all k, counting elements from zero. The formula might not be intuitive, so look at the following image, which is an example of that list representation and the max_to_min() expected behavior."
   ]
  },
  {
   "attachments": {
    "3c48ce75-fb54-424a-892e-cba111ab7d5e.png": {
     "image/png": "[encoded data removed]"
    }
   },
   "cell_type": "markdown",
   "id": "75e97afc-791f-47d1-8f29-38c4e44dc1fc",
   "metadata": {},
   "source": [
    "![min_max_heap.png](attachment:3c48ce75-fb54-424a-892e-cba111ab7d5e.png)"
   ]
  },
  {
   "cell_type": "markdown",
   "id": "d49168fc",
   "metadata": {},
   "source": [
    "### Solution\n",
    "The following is one possible solution to this case. The solution combines two functions, one that walks through the max heap bottom up, and another that progressively builds the min heap using recursion. "
   ]
  },
  {
   "cell_type": "code",
   "execution_count": null,
   "id": "fe6e6fdc-eab1-4351-94c1-a8b630b85986",
   "metadata": {},
   "outputs": [],
   "source": [
    "def min_heapify(heap, index):\n",
    "    # initialize variables to point to left and right nodes\n",
    "    left = index * 2 + 1 \n",
    "    right = index * 2 + 2\n",
    "    \n",
    "    # initialize smallest to the current node\n",
    "    smallest = index\n",
    "    \n",
    "    # check if left child exists and is less than smallest \n",
    "    if len(heap) > left and heap[smallest] > heap[left]: \n",
    "        smallest = left\n",
    "        \n",
    "    # check if right child exists and is less than smallest \n",
    "    if len(heap) > right and heap[smallest] > heap[right]: \n",
    "        smallest = right\n",
    "        \n",
    "    # check if current index is not the smallest \n",
    "    if smallest != index: \n",
    "        # swap current index value with smallest \n",
    "        tmp = heap[smallest] \n",
    "        heap[smallest] = heap[index] \n",
    "        heap[index] = tmp \n",
    "        # min_heapify the new node \n",
    "        min_heapify(heap, smallest)\n",
    "        \n",
    "    return heap \n",
    "\n",
    "def max_to_min(max_heap): \n",
    "    # iterate from middle to first element \n",
    "    # middle to first indices contain all parent nodes \n",
    "    for i in range(len(max_heap)//2, -1, -1): \n",
    "        # call min_heapify on all parent nodes \n",
    "        min_heap = min_heapify(max_heap, i)\n",
    "        \n",
    "    return min_heap"
   ]
  },
  {
   "cell_type": "markdown",
   "id": "102f6fc4-a3c0-4222-8565-bc93e941c200",
   "metadata": {},
   "source": [
    "#### Test"
   ]
  },
  {
   "cell_type": "code",
   "execution_count": null,
   "id": "860e5ad3",
   "metadata": {},
   "outputs": [],
   "source": [
    "max_heap = [11, 6, 9, 2, -3, 7, 5] \n",
    "print(max_to_min(max_heap))"
   ]
  },
  {
   "cell_type": "markdown",
   "id": "b1f36e89-e156-432c-93c9-35350d308c19",
   "metadata": {},
   "source": [
    "### Solution with print statements\n",
    "Sometimes, it is also helpful to visualize the progression of recursion by adding multiple print statements inside the code. It's also useful to indent the recursive items and nested loops. How many print statements? As many as you need to help understand the progress."
   ]
  },
  {
   "cell_type": "code",
   "execution_count": null,
   "id": "0e2dbc5f-385f-4a46-b150-8455f2181b6d",
   "metadata": {},
   "outputs": [],
   "source": [
    "def min_heapify_wp(heap, index, rlevel): \n",
    "    # initialize variables to point to left and right nodes\n",
    "    left = index * 2 + 1 \n",
    "    right = (index * 2) + 2\n",
    "    print(\"\".rjust(rlevel*4) + \"min_heapify_wp called with Index={} with value {} - Left child index={} - Right child index={}\".format(index,heap[index],left, right))\n",
    "    \n",
    "    # initialize smallest to the current node\n",
    "    smallest = index\n",
    "    print(\"\".rjust(rlevel*4) + f\"Initialize value at index ({heap[smallest]}) as the smallest\")\n",
    "\n",
    "    # check if left child exists and is less than smallest \n",
    "    if len(heap) > left and heap[smallest] > heap[left]:\n",
    "        print(\"\".rjust(rlevel*4) + f\"Left child value ({heap[left]}) is smaller than current smallest ({heap[smallest]}), so make it the new smallest\")\n",
    "        smallest = left\n",
    "\n",
    "        \n",
    "    # check if right child exists and is less than smallest \n",
    "    if len(heap) > right and heap[smallest] > heap[right]:\n",
    "        print(\"\".rjust(rlevel*4) + f\"Right child value ({heap[right]})  is smaller than current smallest ({heap[smallest]}), so make it the new smallest\")\n",
    "        smallest = right\n",
    "        \n",
    "    # check if current index is not the smallest \n",
    "    if smallest != index:\n",
    "        print(\"\".rjust(rlevel*4) + f\"Value at index({heap[index]}) was not the smallest, so swap it with smallest({heap[smallest]})\")\n",
    "        \n",
    "        # swap current index value with smallest \n",
    "        tmp = heap[smallest] \n",
    "        heap[smallest] = heap[index] \n",
    "        heap[index] = tmp\n",
    "        \n",
    "        # min_heapify_wp the new node \n",
    "        print(\"\".rjust(rlevel*4) + \"Recursevely calling min_heapify_wp with index {} (value = {}) and heap {}\".format(smallest, heap[smallest], heap))\n",
    "        min_heapify_wp(heap, smallest, rlevel + 1)\n",
    "    else:\n",
    "        print(\"\".rjust(rlevel*4) + f\"Value at index[{index}] ({heap[index]}) is already the smallest, so nothing to do\")\n",
    "\n",
    "        \n",
    "    print(\"\".rjust(rlevel*4) + \"min_heapify_wp returned for index {}: heap {}\".format(index, heap))\n",
    "    return heap \n",
    "\n",
    "def max_to_min_wp(max_heap): \n",
    "    # iterate from middle to first element \n",
    "    # middle to first indices contain all parent nodes \n",
    "    for i in range((len(max_heap))//2, -1, -1): \n",
    "        # call min_heapify on all parent nodes\n",
    "        print(\"\\nCalling min_heapify with index {} (value = {}) and heap {}\".format(i, max_heap[i], max_heap))\n",
    "        min_heap = min_heapify_wp(max_heap, i, 1) \n",
    "    return min_heap"
   ]
  },
  {
   "cell_type": "markdown",
   "id": "ce9ccac1-96d6-488c-90fe-f49315d16bce",
   "metadata": {},
   "source": [
    "#### Test"
   ]
  },
  {
   "cell_type": "code",
   "execution_count": null,
   "id": "d9adb010-efd3-41aa-bbe0-7f303b931bc1",
   "metadata": {},
   "outputs": [],
   "source": [
    "max_heap = [11, 6, 9, 2, -3, 7, 5] \n",
    "print(max_to_min_wp(max_heap))"
   ]
  },
  {
   "cell_type": "markdown",
   "id": "438248fd",
   "metadata": {},
   "source": [
    "## Binary Tree - calculate the size\n",
    "Calculate the size of a tree. The size of the tree is the total number of nodes in a tree. For example, in the following tree, the tree size would be 6. You are required to write a tree_size() function that will return the size of a binary tree given the root node of the tree. "
   ]
  },
  {
   "attachments": {
    "c3652e64-bc25-433c-866f-57a0ee8f6581.png": {
     "image/png": "[encoded data removed]"
    }
   },
   "cell_type": "markdown",
   "id": "dce1ef33-960c-4c26-8ca4-a75a94d03b21",
   "metadata": {},
   "source": [
    "![temp.png](attachment:c3652e64-bc25-433c-866f-57a0ee8f6581.png)"
   ]
  },
  {
   "cell_type": "markdown",
   "id": "53ca5aeb-498d-4381-ade1-a39f341c0b49",
   "metadata": {},
   "source": [
    "### Resources provided\n",
    "You are provided with the Node class to be used in your solution. It's a basic tree node with the standard variables for data, left, and right. You can use Node without any modifications."
   ]
  },
  {
   "cell_type": "code",
   "execution_count": null,
   "id": "72001a21",
   "metadata": {},
   "outputs": [],
   "source": [
    "class Node:\n",
    "    def __init__(self, data):\n",
    "        self.data = data\n",
    "        self.left = None\n",
    "        self.right = None"
   ]
  },
  {
   "cell_type": "markdown",
   "id": "031fd3a9-f165-46ef-9188-9293a2c30a19",
   "metadata": {},
   "source": [
    "### Solution"
   ]
  },
  {
   "cell_type": "code",
   "execution_count": null,
   "id": "44525c97",
   "metadata": {},
   "outputs": [],
   "source": [
    "def tree_size(root):\n",
    "    # Base case: size of an empty sub-tree is 0\n",
    "    if root is None:\n",
    "        return 0\n",
    "    else:\n",
    "        # size of the tree is 1 for the current node, plus the size on the left and right \n",
    "        return (1 + tree_size(root.left) + tree_size(root.right))"
   ]
  },
  {
   "cell_type": "markdown",
   "id": "18f9f9a4-1e06-4b30-991b-8ce182bc6ac5",
   "metadata": {},
   "source": [
    "#### Test"
   ]
  },
  {
   "cell_type": "code",
   "execution_count": null,
   "id": "75a074a6",
   "metadata": {},
   "outputs": [],
   "source": [
    "# Build a tree\n",
    "root = Node(1)\n",
    "root.left = Node(2)\n",
    "root.right = Node(5)\n",
    "root.left.left = Node(8)\n",
    "root.right.left = Node(7)\n",
    "root.right.right = Node(9)\n",
    "\n",
    "# print tree size\n",
    "print(\"Tree size is \", tree_size(root))"
   ]
  },
  {
   "cell_type": "markdown",
   "id": "47ba8848",
   "metadata": {},
   "source": [
    "## Trie - total number of words\n",
    "Find the total number of words in a trie. You are provided with a fully implemented Trie class, and you will write a total_words() function to calculate the total number of words."
   ]
  },
  {
   "cell_type": "markdown",
   "id": "be772265-648e-4738-8876-b97c7fd888e8",
   "metadata": {},
   "source": [
    "### Resources provided\n",
    "You are provided with the TrieNode and Trie classes to be used in your solution. Trie has the standard methods to insert, retrieve, and search for words in a trie. The words are stored in TreeNode objects. \n",
    "\n",
    "Every TrieNode object will have a character on the word, a list of all potential next characters, and an is_end_word variable to indicate whether the node is the final character in a word. You can use them as they are without any modifications."
   ]
  },
  {
   "cell_type": "code",
   "execution_count": null,
   "id": "5c6cce01",
   "metadata": {},
   "outputs": [],
   "source": [
    "class TrieNode:\n",
    "    def __init__(self, char=''):\n",
    "        # declare children for 26 possible letters in the alphabet\n",
    "        self.children = [None] * 26\n",
    "        \n",
    "        # true if the node is the end of a word\n",
    "        self.is_end_word = False\n",
    "        \n",
    "        # the charcter in this node\n",
    "        self.char = char"
   ]
  },
  {
   "cell_type": "code",
   "execution_count": null,
   "id": "199c8520",
   "metadata": {},
   "outputs": [],
   "source": [
    "class Trie:\n",
    "    def __init__(self):\n",
    "        self.root = TrieNode()\n",
    "\n",
    "    # get the index of character 't'\n",
    "    def get_index(self, t):\n",
    "        return ord(t) - ord('a')\n",
    "\n",
    "    # insert a key in the Trie\n",
    "    def insert(self, key):\n",
    "        if key is None:\n",
    "            return False\n",
    "\n",
    "        # normalize keys to lowercase\n",
    "        key = key.lower()  \n",
    "\n",
    "        # iterate over each letter in the key\n",
    "        current = self.root\n",
    "        for letter in key:\n",
    "            index = self.get_index(letter)\n",
    "            \n",
    "            # if the letter node doesn't exist create a TrieNode for it\n",
    "            if current.children[index] is None:\n",
    "                current.children[index] = TrieNode(letter)\n",
    "\n",
    "            # go down a level to the next character\n",
    "            current = current.children[index]\n",
    "\n",
    "        # mark the end of the word\n",
    "        current.is_end_word = True\n",
    "\n",
    "    # search a given key in Trie\n",
    "    def search(self, key):\n",
    "        if key is None:\n",
    "            return False\n",
    "\n",
    "        # normalize keys to lowercase\n",
    "        key = key.lower()\n",
    "     \n",
    "        # iterate over each letter in the key\n",
    "        current = self.root\n",
    "        for letter in key:\n",
    "            index = self.get_index(letter)\n",
    "            \n",
    "            # if the letter node doesn't exist then this word is not in the Trie\n",
    "            if current.children[index] is None:\n",
    "                return False\n",
    "            \n",
    "            # go down a level to the next character\n",
    "            current = current.children[index]\n",
    "\n",
    "        # if we finished traversal at the end of a word, than key was found\n",
    "        if current is not None and current.is_end_word:\n",
    "            return True\n",
    "\n",
    "        return False"
   ]
  },
  {
   "cell_type": "markdown",
   "id": "78fdac15-0323-4aaa-96c4-9a629806d244",
   "metadata": {},
   "source": [
    "### Solution\n",
    "You will see it is similar to the binary tree solution because it uses recursion to propagate the call from the root down to the children. As always, with recursive code, it helps if you pick an example, and walk through how the code would work step by step."
   ]
  },
  {
   "cell_type": "code",
   "execution_count": null,
   "id": "70376c87",
   "metadata": {},
   "outputs": [],
   "source": [
    "def total_words(root): \n",
    "    result = 0 \n",
    "\n",
    "    # if this is the end of a word, add to total\n",
    "    if root.is_end_word: \n",
    "        result += 1 \n",
    "\n",
    "    # check for all possible continuations of a word\n",
    "    for letter in root.children: \n",
    "        if letter is not None:\n",
    "            # recursively look for and add all possible continuations of a word\n",
    "            result += total_words(letter)\n",
    "            \n",
    "    return result"
   ]
  },
  {
   "cell_type": "markdown",
   "id": "abf70bde-d510-4773-bef5-c3c6adbccd95",
   "metadata": {},
   "source": [
    "#### Test"
   ]
  },
  {
   "cell_type": "code",
   "execution_count": null,
   "id": "f2afe95c",
   "metadata": {},
   "outputs": [],
   "source": [
    "keys = [\"the\", \"all\", \"them\", \"boat\", \"also\", \"allow\", \"cat\", \"allowance\"] \n",
    "\n",
    "# create a Trie with the 5 keys 8 keys above\n",
    "trie = Trie() \n",
    "\n",
    "# load the trie with the sample keys\n",
    "for key in keys: \n",
    "    trie.insert(key) \n",
    "\n",
    "# use function to calculate the total number of words \n",
    "print(\"Total words in the trie: \", total_words(trie.root)) "
   ]
  },
  {
   "cell_type": "markdown",
   "id": "a4125de5-0de6-4e46-8ca1-014807f8f6da",
   "metadata": {},
   "source": [
    "# Algorithms"
   ]
  },
  {
   "cell_type": "markdown",
   "id": "494f6d69",
   "metadata": {},
   "source": [
    "## Recursion - Multiplication without * operator\n",
    "Imagine you are being asked to find the product of two positive integers without using the standard Python multiplication operator (*). You will write a recursive_multiply() function to perform the operation."
   ]
  },
  {
   "cell_type": "markdown",
   "id": "bf61e373-71b8-449f-a9a2-bd3c432b5d5e",
   "metadata": {},
   "source": [
    "### Solution\n",
    "Remember that multiplying x and y can also be represented as adding x, y times. For example:\n",
    "\n",
    "5 * 4 = 20\n",
    "\n",
    "can also be calculated as:\n",
    "\n",
    "5 + 5 + 5 + 5 = 20"
   ]
  },
  {
   "cell_type": "code",
   "execution_count": null,
   "id": "90b0e871",
   "metadata": {},
   "outputs": [],
   "source": [
    "def recursive_multiply(multiplier, multiplicand):\n",
    "    # base case to stop recursion\n",
    "    if multiplicand == 0:\n",
    "        return 0\n",
    "\n",
    "    # it's more efficient to have a smaller multiplicand because it reduces \n",
    "    # the number of recursions\n",
    "    # so swap multiplier and multiplicand if needed\n",
    "    if multiplier < multiplicand:\n",
    "        multiplier, multiplicand = multiplicand, multiplier\n",
    "\n",
    "    # recursively call the function, while decrementing the multiplicand\n",
    "    return multiplier + recursive_multiply(multiplier, multiplicand - 1)"
   ]
  },
  {
   "cell_type": "markdown",
   "id": "40771f4b-501c-48f2-aabb-710846ea4c8c",
   "metadata": {},
   "source": [
    "#### Test"
   ]
  },
  {
   "cell_type": "code",
   "execution_count": null,
   "id": "f221d210",
   "metadata": {},
   "outputs": [],
   "source": [
    "x = 11\n",
    "y = 21\n",
    "\n",
    "print(\"Multiplication using Python * operator: \", x * y)\n",
    "print(\"Multiplication using recursion: \", recursive_multiply(x, y))"
   ]
  },
  {
   "cell_type": "markdown",
   "id": "77755dc9",
   "metadata": {},
   "source": [
    "## Searching - Find position of item\n",
    "Write a find_position() function, which will find the position of a value within a sorted list. If the value is not present, return the index at which the value should be inserted. You can assume that no duplicates are in the list. You are also asked to perform this task in the most efficient way possible."
   ]
  },
  {
   "cell_type": "markdown",
   "id": "5811396a-b18d-4157-9ac4-c48e5427c42a",
   "metadata": {},
   "source": [
    "### Solution\n",
    "The fact that the question is asking for \"most efficient way possible\" should be a clear indication that we don't want simple linear search. So the solutions is a binary search."
   ]
  },
  {
   "cell_type": "code",
   "execution_count": null,
   "id": "46839c68",
   "metadata": {},
   "outputs": [],
   "source": [
    "def find_position(lst, value):\n",
    "    # set initial search indexes, and current search position\n",
    "    start = 0 \n",
    "    end = len(lst) - 1\n",
    "    pos = 0 \n",
    "\n",
    "    # perform a binary search, reducing the search space in half each time\n",
    "    while start <= end:\n",
    "        # calculate mid point of current search area\n",
    "        mid = start + (end - start) // 2 \n",
    "\n",
    "        # if value at mid point is what we want, return mid\n",
    "        if lst[mid] == value: \n",
    "            return mid\n",
    "        \n",
    "        # if current value is greater than search value, then adjust to search to lower half\n",
    "        elif lst[mid] > value: \n",
    "            end = mid - 1 \n",
    "            pos = mid\n",
    "            \n",
    "        # if current value is smaller than search value, then adjust to search to higher half\n",
    "        else: \n",
    "            start = mid + 1 \n",
    "            pos = mid + 1\n",
    "            \n",
    "    # return the last position we searched, which will be the place to insert\n",
    "    return pos "
   ]
  },
  {
   "cell_type": "markdown",
   "id": "b87e26b9-2118-4104-b6d5-f51e26da9137",
   "metadata": {},
   "source": [
    "#### Test"
   ]
  },
  {
   "cell_type": "code",
   "execution_count": null,
   "id": "8085bbe6",
   "metadata": {},
   "outputs": [],
   "source": [
    "lst = [1, 2, 3, 5, 8, 13, 21, 25] \n",
    "print(\"List is \", lst)\n",
    "print(\"Index location for 3: \", find_position(lst, 3))\n",
    "print(\"Index location for 9: \", find_position(lst, 9))\n",
    "print(\"Index location for 21: \", find_position(lst, 21))"
   ]
  },
  {
   "cell_type": "markdown",
   "id": "296fa371-821f-4326-a645-c022bdb006ae",
   "metadata": {},
   "source": [
    "## Searching - Find two numbers that add up to a value\n",
    "In this question, you are given a list with unique numbers and are asked to write a find_sum() function, which will find two numbers in that list that add up to a target value. For example, if you are given a list with [3, 2, 5, 6] and a target value of 8, your function could either return [3 , 5] or [2 , 6]. Either answer is valid, and the one that is selected might depend on the order your algorithm looks at the list.\n",
    "\n",
    "There is different solutions for this, some more effecient than others. Let's look at them."
   ]
  },
  {
   "cell_type": "markdown",
   "id": "b7d2a2fc",
   "metadata": {},
   "source": [
    "### Less efficient solution - brute force nested loop\n",
    "This is the simplest, and less efficent option. It uses a double for loop to check every possible combination of two values adding. "
   ]
  },
  {
   "cell_type": "code",
   "execution_count": null,
   "id": "7194d040",
   "metadata": {},
   "outputs": [],
   "source": [
    "def find_sum(input_list, target): \n",
    "    # iterate through list and check every value\n",
    "    for i in range(0, len(input_list) - 1):\n",
    "        for j in range(i + 1, len(input_list)):\n",
    "            if (input_list[i] + input_list[j] == target):\n",
    "                return [input_list[i],input_list[j]]"
   ]
  },
  {
   "cell_type": "markdown",
   "id": "da64abc2-ce2e-42a2-bc1a-2ee38d1e13ef",
   "metadata": {},
   "source": [
    "#### Test"
   ]
  },
  {
   "cell_type": "code",
   "execution_count": null,
   "id": "62cfa18c",
   "metadata": {},
   "outputs": [],
   "source": [
    "lst = [3, 2, 7, 1, 4, 6]\n",
    "target = 5\n",
    "print(f\"Numbers that add to {target}: {find_sum(lst, target)}\")\n",
    "target = 7\n",
    "print(f\"Numbers that add to {target}: {find_sum(lst, target)}\")"
   ]
  },
  {
   "cell_type": "markdown",
   "id": "6a290ba3-8dcb-4324-9e31-68603a37899c",
   "metadata": {},
   "source": [
    "#### Complexity analysis\n",
    "This is a typical nested-loop scenario.\n",
    "- **Time complexity: <span style=\"color:blue\">O(n<sup>2</sup>)**</span>"
   ]
  },
  {
   "cell_type": "markdown",
   "id": "c252e78c",
   "metadata": {},
   "source": [
    "### More efficient solution - binary search\n",
    "This solution will combine elements of sorting and binary search. The primary find_sum() function will call a binary_search() helper function. binary_search() is a standard implementation of the binary search algorithm."
   ]
  },
  {
   "cell_type": "code",
   "execution_count": null,
   "id": "f5ed84a4",
   "metadata": {},
   "outputs": [],
   "source": [
    "def binary_search(input_list, item):\n",
    "    '''\n",
    "    Standard binary search algorithm\n",
    "    '''\n",
    "    first = 0 \n",
    "    last = len(input_list) - 1 \n",
    "    found = False \n",
    "\n",
    "    while first <= last and not found: \n",
    "        mid = (first + last) // 2 \n",
    "\n",
    "        if input_list[mid] == item: \n",
    "            found = mid \n",
    "        else: \n",
    "            if item < input_list[mid]: \n",
    "                last = mid - 1 \n",
    "            else: \n",
    "                first = mid + 1 \n",
    "\n",
    "    return found"
   ]
  },
  {
   "cell_type": "code",
   "execution_count": null,
   "id": "0529abcf",
   "metadata": {},
   "outputs": [],
   "source": [
    "def find_sum(input_list, target): \n",
    "    # sort input list\n",
    "    input_list.sort() \n",
    "\n",
    "    # iterate through list\n",
    "    for i in input_list:\n",
    "        # calculate number that added to this one, would give us the target\n",
    "        complement = target - i\n",
    "        # check if the complement number is in the list\n",
    "        index = binary_search(input_list, complement) \n",
    "        if index: \n",
    "            return [i, complement]"
   ]
  },
  {
   "cell_type": "markdown",
   "id": "d0d33505-5e23-4fb9-ba99-9d3f46b78df5",
   "metadata": {},
   "source": [
    "#### Test"
   ]
  },
  {
   "cell_type": "code",
   "execution_count": null,
   "id": "ec3ba305",
   "metadata": {},
   "outputs": [],
   "source": [
    "lst = [3, 2, 7, 1, 4, 6]\n",
    "target = 5\n",
    "print(f\"Numbers that add to {target}: {find_sum(lst, target)}\")\n",
    "target = 7\n",
    "print(f\"Numbers that add to {target}: {find_sum(lst, target)}\")"
   ]
  },
  {
   "cell_type": "markdown",
   "id": "6d1448d7-0622-4a36-8b5f-1efa6aa9a0da",
   "metadata": {
    "jp-MarkdownHeadingCollapsed": true
   },
   "source": [
    "#### Complexity analysis\n",
    "This function requires a couple key steps:\n",
    "- In the first step you sorted the list, and sorting takes time. We can assume the Python sort uses an efficient sorting algorithm, so it's fair to expect the complexity for this step to be no worse than O(n log n).\n",
    "- Then in the second step you itereate *n* times. Inside the loop, you perform a binary search which is O(log n). There fore the whole loop becomes O(n log n)\n",
    "\n",
    "So when you add the two together you get:\n",
    "- **Time complexity: <span style=\"color:blue\">O(n log n + n log n)**</span>"
   ]
  },
  {
   "cell_type": "markdown",
   "id": "ee9b8f04",
   "metadata": {},
   "source": [
    "## Searching - Searching a cyclic array\n",
    "Write an efficient find_smallest() function that determines the index of the smallest element of the cyclically shifted array. In Python, use the list class to represent arrays.\n",
    "\n",
    "A cyclically shifted array is an array that can become sorted if you rotate the elements. For example, the array [4, 5, 6, 7, 1, 2, 3] is cyclic because if you rotate the elements, it eventually becomes [1, 2, 3, 4, 5, 6, 7].\n",
    "\n",
    "Once again, there is a simple brute-force nested loop solution to this, but the question is looking for a more efficient algorithm."
   ]
  },
  {
   "cell_type": "markdown",
   "id": "a104fcb6-c53d-4135-8632-e17722eb4a20",
   "metadata": {},
   "source": [
    "### Solution\n",
    "If you examine the code, you can see it's almost identical to the binary search you've seen before. "
   ]
  },
  {
   "cell_type": "code",
   "execution_count": null,
   "id": "edf102d8",
   "metadata": {},
   "outputs": [],
   "source": [
    "def find_smallest(arr): \n",
    "    low = 0 \n",
    "    high = len(arr) - 1 \n",
    "\n",
    "    while low < high:\n",
    "        # find mid point\n",
    "        mid = (low + high) // 2 \n",
    "\n",
    "        # if mid is greater than last element, then the low value is in the top half\n",
    "        if arr[mid] > arr[high]: \n",
    "            low = mid + 1\n",
    "        # else if mid is smaller or equal than last element, the low value is in the lower half\n",
    "        elif arr[mid] <= arr[high]: \n",
    "            high = mid \n",
    "\n",
    "    return low"
   ]
  },
  {
   "cell_type": "markdown",
   "id": "c59f05bd-077b-446b-b6b1-164a96dfc47f",
   "metadata": {},
   "source": [
    "#### Test"
   ]
  },
  {
   "cell_type": "code",
   "execution_count": null,
   "id": "ac2eb9e4",
   "metadata": {},
   "outputs": [],
   "source": [
    "arr = [7, 6, 1, 2, 3, 4, 5] \n",
    "\n",
    "idx = find_smallest(arr)\n",
    "print(f\"Smallest element {arr[idx]}, found at index {idx}\")"
   ]
  },
  {
   "cell_type": "markdown",
   "id": "5f4c408f-eddc-4e64-b105-e93f79936f5e",
   "metadata": {},
   "source": [
    "# Dynamic Programming"
   ]
  },
  {
   "cell_type": "markdown",
   "id": "76c306c8",
   "metadata": {},
   "source": [
    "## Momoization - The knapsack problem\n",
    "The knapsack problem is a well-known coding problem and a good example of how you might use the different types of algorithms, including recursion and dynamic programming. Imagine that you’re a jewelry maker in video game, and you are preparing to sell items at the local virtual marketplace. You only have a knapsack capable of carrying a limited amount of your wares by weight. Your goal is to choose a combination of items that will result in the most profit.\n",
    "\n",
    "You will need to write a function called knapsack(profits, weights, max_weight) with the following parameters:\n",
    "- profits – A list of the profit for each item\n",
    "- weights – A list with the weight of each item\n",
    "- max_weight – The maximum weight that the knapsack can hold\n",
    "\n",
    "The function will return the maximum profit you can make by packing the right items in the knapsack."
   ]
  },
  {
   "cell_type": "markdown",
   "id": "56cddf4a",
   "metadata": {},
   "source": [
    "### Solution - plain recursion\n",
    "There are two functions in this solution. Most of the work is in the knapsack_recursive() function. The main knapsack() is just an entry point. "
   ]
  },
  {
   "cell_type": "code",
   "execution_count": null,
   "id": "9b0a27f7",
   "metadata": {},
   "outputs": [],
   "source": [
    "def knapsack_recursive(profits, weights, capacity, current_index): \n",
    "    # base exit cases for recursion\n",
    "    if capacity <= 0 or current_index >= len(profits): \n",
    "        return 0 \n",
    "\n",
    "    this_weight = weights[current_index]\n",
    "    profit_with = 0\n",
    "    \n",
    "    # if the current item fits, recursively calculate solution with it\n",
    "    if this_weight <= capacity: \n",
    "        profit_with = profits[current_index] + knapsack_recursive(\n",
    "            profits, weights, capacity - this_weight, current_index + 1) \n",
    "\n",
    "    # recursively calculate solution without including this item\n",
    "    profit_without = knapsack_recursive(\n",
    "        profits, weights, capacity, current_index + 1) \n",
    "  \n",
    "    return max(profit_with, profit_without) \n",
    "\n",
    "def knapsack(profits, weights, max_weight): \n",
    "    profit = knapsack_recursive(profits, weights, max_weight, 0) \n",
    "    return profit"
   ]
  },
  {
   "cell_type": "markdown",
   "id": "e9d9079a-9592-46e9-8097-8e396248f0bd",
   "metadata": {},
   "source": [
    "#### Test"
   ]
  },
  {
   "cell_type": "code",
   "execution_count": null,
   "id": "cbaf254c",
   "metadata": {},
   "outputs": [],
   "source": [
    "items = [\"ring\", \"pendant\", \"watch\", \"knecklace\", \"bracelet\", \"earrings\"]\n",
    "profits = [2, 6, 10, 14, 12, 8]  \n",
    "weights = [1, 2, 6, 5, 4, 3]\n",
    "\n",
    "max_weight = 17\n",
    "max_profit = knapsack(profits, weights, max_weight)\n",
    "print(f\"Profit with a max weight of {max_weight} = {max_profit}\")\n",
    "\n",
    "max_weight = 12\n",
    "max_profit = knapsack(profits, weights, max_weight)\n",
    "print(f\"Profit with a max weight of {max_weight} = {max_profit}\")"
   ]
  },
  {
   "cell_type": "markdown",
   "id": "c05fd25c",
   "metadata": {},
   "source": [
    "### Solution - memoization"
   ]
  },
  {
   "cell_type": "code",
   "execution_count": null,
   "id": "1355561e",
   "metadata": {},
   "outputs": [],
   "source": [
    "def knapsack_recursive_mem(item_capacity, profits, weights, capacity, current_index): \n",
    "    # base exit cases for recursion\n",
    "    if capacity <= 0 or current_index >= len(profits): \n",
    "        return 0 \n",
    "\n",
    "    # if we have had previously checked this combination, return result from the table \n",
    "    if item_capacity[current_index][capacity] != -1:\n",
    "        print(\"Memoization is great!\")\n",
    "        return item_capacity[current_index][capacity]\n",
    "    \n",
    "    this_weight = weights[current_index]\n",
    "    profit_with = 0\n",
    "    \n",
    "    # if the current item fits, recursively calculate solution with it\n",
    "    if this_weight <= capacity: \n",
    "        profit_with = profits[current_index] + knapsack_recursive_mem(\n",
    "            item_capacity, \n",
    "            profits, weights, capacity - this_weight, current_index + 1) \n",
    "\n",
    "    # recursively calculate solution without including this item\n",
    "    profit_without = knapsack_recursive_mem(\n",
    "        item_capacity, \n",
    "        profits, weights, capacity, current_index + 1) \n",
    "  \n",
    "    # update our table of answers, with the maximum profit, and return it\n",
    "    item_capacity[current_index][capacity] = max(profit_with, profit_without) \n",
    "    return item_capacity[current_index][capacity]\n",
    "\n",
    "def knapsack_mem(profits, weights, max_weight): \n",
    "    # initialize lookup table for every combination of item and possible weight\n",
    "    item_capacity = [[-1 for x in range(max_weight + 1)] for x in range(len(profits))] \n",
    "\n",
    "    max_profit = knapsack_recursive_mem(item_capacity, profits, weights, max_weight, 0) \n",
    "    return max_profit"
   ]
  },
  {
   "cell_type": "markdown",
   "id": "533412bd-45ab-4941-9218-6867da251aa7",
   "metadata": {},
   "source": [
    "#### Test"
   ]
  },
  {
   "cell_type": "code",
   "execution_count": null,
   "id": "2434784d",
   "metadata": {},
   "outputs": [],
   "source": [
    "items = [\"ring\", \"pendant\", \"watch\", \"knecklace\", \"bracelet\", \"earrings\"]\n",
    "profits = [2, 6, 10, 14, 12, 8]  \n",
    "weights = [1, 2, 6, 5, 4, 3]\n",
    "\n",
    "max_weight = 17\n",
    "max_profit = knapsack_mem(profits, weights, max_weight)\n",
    "print(f\"Profit with a max weight of {max_weight} = {max_profit}\")\n",
    "\n",
    "max_weight = 12\n",
    "max_profit = knapsack_mem(profits, weights, max_weight)\n",
    "print(f\"Profit with a max weight of {max_weight} = {max_profit}\")"
   ]
  },
  {
   "cell_type": "markdown",
   "id": "c7617d4e-2d44-493a-86d9-9aa8cfd2304a",
   "metadata": {},
   "source": [
    "# Additional Coding Questions\n",
    "This section has a collection of questions that could have fit into some of the earlier topics. I considered shifting them there, but this is the way they are presented in the eLearning, so I decided if anyone wanted to follow the eLearning along with the notebook, maintaining the same order was a better option."
   ]
  },
  {
   "cell_type": "markdown",
   "id": "d8b6a328",
   "metadata": {},
   "source": [
    "## Dictionary Comprehension\n",
    "Dictionary comprehension is a succinct way to create or transform dictionaries in Python. Following are a few how-to questions on it."
   ]
  },
  {
   "cell_type": "markdown",
   "id": "e9543639-9929-4b19-8549-f07f87e9eff5",
   "metadata": {},
   "source": [
    "### Using dictionary comprehension to create a dictionary from two lists\n",
    "Given a list with keys (item names) and another list with prices, use dictionary comprehension to combine the lists and create a *item_prices_dict* dictionary like this:\n",
    "\n",
    "```\n",
    "item_prices_dict = {'Laptop': 1199.99,\n",
    "                    'Mouse': 29.99,\n",
    "                    'Keyboard': 39.99,\n",
    "                    'Monitor': 179.99}\n",
    "```"
   ]
  },
  {
   "cell_type": "markdown",
   "id": "9286a2a6-4adf-49d1-be7e-3960cb685f4a",
   "metadata": {},
   "source": [
    "#### Resources provided\n",
    "You can use the following input list of keys and values for the solution."
   ]
  },
  {
   "cell_type": "code",
   "execution_count": null,
   "id": "f884e71c",
   "metadata": {},
   "outputs": [],
   "source": [
    "item_keys = ['Laptop', 'Mouse', 'Keyboard', 'Monitor']\n",
    "item_prices = [1199.99, 29.99, 39.99, 179.99]"
   ]
  },
  {
   "cell_type": "markdown",
   "id": "3ead7e52-c7d4-4257-9219-dc8d6020cf52",
   "metadata": {},
   "source": [
    "#### Solution"
   ]
  },
  {
   "cell_type": "code",
   "execution_count": null,
   "id": "8496e078",
   "metadata": {},
   "outputs": [],
   "source": [
    "# Dictionary comprehension creating a dictionary from two lists\n",
    "item_prices_dict = {item: price for (item, price) in zip(item_keys, item_prices)}\n",
    "\n",
    "print(\"Dictionary: \", item_prices_dict)"
   ]
  },
  {
   "cell_type": "markdown",
   "id": "54f1f9ad-b35e-40b8-b957-4f0be942a0f9",
   "metadata": {},
   "source": [
    "### Using dictionary comprehension to transform a dictionary\n",
    "Given the same *item_keys* and *item_prices* prived earlier, use dictionary comprehension to create a new *discount_items* dictionary where all the prices are discounted by 20%"
   ]
  },
  {
   "cell_type": "markdown",
   "id": "2351e3eb-0592-4608-8bfc-324051f2956f",
   "metadata": {},
   "source": [
    "#### Solution"
   ]
  },
  {
   "cell_type": "code",
   "execution_count": null,
   "id": "2000c6e8",
   "metadata": {},
   "outputs": [],
   "source": [
    "# Giving a 20% discount \n",
    "discount = 0.8\n",
    "\n",
    "# Dictionary comprehension creating a dictionary by transformating another one\n",
    "discount_items = {item: round(price * discount, 2)\n",
    "                  for (item, price) in zip(item_keys, item_prices)}\n",
    "\n",
    "print(\"Dictionary: \", discount_items)"
   ]
  },
  {
   "cell_type": "markdown",
   "id": "1f97a5c8-c5fd-4eb6-a7a1-a7f3533fa493",
   "metadata": {},
   "source": [
    "### Using dictionary comprehension to filter a dictionary\n",
    "What if you want to filter the list to only inexpensive items, namely those under $100. Use dictionary comprehension to filter the lists as you create the dictionary."
   ]
  },
  {
   "cell_type": "markdown",
   "id": "15a74509-a5b9-4025-8758-2cbdf22971f1",
   "metadata": {},
   "source": [
    "#### Solution"
   ]
  },
  {
   "cell_type": "code",
   "execution_count": null,
   "id": "11057d13",
   "metadata": {},
   "outputs": [],
   "source": [
    "item_keys = ['Laptop', 'Mouse', 'Keyboard', 'Monitor'] \n",
    "item_prices = [1199.99, 29.99, 39.99, 179.99] \n",
    "\n",
    "# Dictionary comprehension creating a dictionary by transforming another one\n",
    "cheap_items = {item: price for \n",
    "               (item, price) in zip(item_keys, item_prices) if price < 100}\n",
    "\n",
    "print(\"Cheap items: \", cheap_items)"
   ]
  },
  {
   "cell_type": "markdown",
   "id": "4b322bc9-c3e2-44d6-b147-e493a4545369",
   "metadata": {},
   "source": [
    "## Sorting dictionaries\n",
    "There are a number of different ways you can sort a dictionary, depending on whether you are sorting keys, values or both. Let's look at some of those."
   ]
  },
  {
   "cell_type": "markdown",
   "id": "817fee28-3259-43c1-a871-671598317314",
   "metadata": {},
   "source": [
    "#### Resources provided\n",
    "For the questions below, use the following dictionary."
   ]
  },
  {
   "cell_type": "code",
   "execution_count": null,
   "id": "2580199b-8dad-4315-baab-9e7c57c10031",
   "metadata": {},
   "outputs": [],
   "source": [
    "item_prices_dict  = {'Laptop': 1199.99, \n",
    "                     'Mouse': 29.99, \n",
    "                     'Keyboard': 39.99,\n",
    "                     'webcam': 99.99,\n",
    "                     'Monitor': 179.99}"
   ]
  },
  {
   "cell_type": "markdown",
   "id": "b8bea81f",
   "metadata": {},
   "source": [
    "### Sorting dictionary keys\n",
    "How would you sort just the dictionary keys?"
   ]
  },
  {
   "cell_type": "markdown",
   "id": "d8ab8a88",
   "metadata": {},
   "source": [
    "#### Solution\n",
    "The sorted function will sort the keys by default."
   ]
  },
  {
   "cell_type": "code",
   "execution_count": null,
   "id": "2534684c",
   "metadata": {},
   "outputs": [],
   "source": [
    "# Sort dictionary by keys using the sorted function\n",
    "sorted_dict = sorted(item_prices_dict)\n",
    "print(\"Result: {}\".format(sorted_dict))"
   ]
  },
  {
   "cell_type": "markdown",
   "id": "0071bb8b",
   "metadata": {},
   "source": [
    "### Sorting keys and values based on a custom value\n",
    "Sort the dictionary based on price. The result should be a list of (item, price) tuples, in ascending order of price."
   ]
  },
  {
   "cell_type": "markdown",
   "id": "5d62f1f0-e5c6-4d29-8a40-a5f7173e6714",
   "metadata": {},
   "source": [
    "#### Solution"
   ]
  },
  {
   "cell_type": "code",
   "execution_count": null,
   "id": "9990eb40",
   "metadata": {},
   "outputs": [],
   "source": [
    "item_prices_dict = {'Laptop': 1199.99, \n",
    "                  'Mouse': 29.99, \n",
    "                  'Keyboard': 39.99,\n",
    "                  'webcam': 99.99,\n",
    "                  'Monitor': 179.99}\n",
    "\n",
    "# get dictionary items\n",
    "dict_items = item_prices_dict.items()\n",
    "print(\"Dictionary items: {}\".format(dict_items))\n",
    "\n",
    "# sort dictionary items\n",
    "sorted_items = sorted(dict_items, key=lambda x:x[1])\n",
    "print(\"Sorted items: {}\".format(sorted_items)) "
   ]
  },
  {
   "cell_type": "markdown",
   "id": "23936698",
   "metadata": {},
   "source": [
    "### Creating a dictionary from a list of items\n",
    "The solution above gave us a list of tuples, but not a dictionary. If we wanted to end up back with a dictionary, we need to create a dictionary from a list of tuples. How do we do that?"
   ]
  },
  {
   "cell_type": "code",
   "execution_count": null,
   "id": "cf200431",
   "metadata": {},
   "outputs": [],
   "source": [
    "# sort dictionary items\n",
    "print(\"Sorted tuples: {}\".format(sorted_items))\n",
    "\n",
    "# created a dictionary from sorted items\n",
    "sorted_dict = dict(sorted_items)\n",
    "print(\"Sorted dictionary: {}\".format(sorted_dict)) "
   ]
  },
  {
   "cell_type": "markdown",
   "id": "19e1a7eb",
   "metadata": {},
   "source": [
    "## Bubble sort optimization\n",
    "Show how you might be able to optimize the bubble sort algorith. Start by showing the basic approach, and then show examples of possible improvements."
   ]
  },
  {
   "cell_type": "markdown",
   "id": "431f46ea",
   "metadata": {},
   "source": [
    "### Solution"
   ]
  },
  {
   "cell_type": "markdown",
   "id": "a7bc33bf-3c95-4985-bc78-8219cf5c9a81",
   "metadata": {},
   "source": [
    "#### Option 1 - The most basic double loop\n",
    "This is the non-optimized version. We can use it as our starting point for improvements."
   ]
  },
  {
   "cell_type": "code",
   "execution_count": null,
   "id": "7d951ba1",
   "metadata": {},
   "outputs": [],
   "source": [
    "def bubble_sort(input_list):\n",
    "    # set list length\n",
    "    list_length = len(input_list)\n",
    "    \n",
    "    # Iterate through all elements of the list\n",
    "    for i in range(list_length):\n",
    "        # loop and compare against the next element\n",
    "        for j in range(0, list_length - 1):\n",
    "            if input_list[j] > input_list[j+1]: \n",
    "                input_list[j], input_list[j+1] = input_list[j+1], input_list[j] \n",
    "\n",
    "    return input_list"
   ]
  },
  {
   "cell_type": "markdown",
   "id": "43d994dd-18b9-487b-aa4b-a343f8324ac7",
   "metadata": {},
   "source": [
    "##### Test"
   ]
  },
  {
   "cell_type": "code",
   "execution_count": null,
   "id": "c0c8e62c",
   "metadata": {},
   "outputs": [],
   "source": [
    "# Example of usage \n",
    "input_list = [7, 2, 9, 1, 6, 3, 8, 4, 5] \n",
    "print(f\"Original list: {input_list}\") \n",
    "\n",
    "# Sort the list using bubble sort \n",
    "sorted_list = bubble_sort(input_list) \n",
    "print(f\"Sorted list: {sorted_list}\") "
   ]
  },
  {
   "cell_type": "markdown",
   "id": "d4108252-3c63-477e-b3c8-db2ecd6d2146",
   "metadata": {},
   "source": [
    "#### Option 2 - improved algorithm with reduced loop\n",
    "This is an improved algorithm, which will reduce the executions of your inner loop. If you look at your previous algorithm, with the comparison if input_list [j] > input_list [j+1]:, you are always moving a higher element further down the list if it's greater than the next. So after the first iteration, you can assume that the highest element will be at the very end. After the second iteration, the second highest will be next to last, and so on. If you can't visualize that, try working through a small example.\n",
    "\n",
    "With that in mind, in this next algorithm, you change the inner loop so that it will progressively reduce how far you are looking down the list. Look closely, because there is only one small change, where you add an extra  -i  in the for j ... loop."
   ]
  },
  {
   "cell_type": "code",
   "execution_count": null,
   "id": "66ca5ca0",
   "metadata": {},
   "outputs": [],
   "source": [
    "def bubble_sort(input_list):\n",
    "    # set list length\n",
    "    list_length = len(input_list)\n",
    "    \n",
    "    # Iterate through all elements of the list\n",
    "    for i in range(list_length):\n",
    "        # loop and compare against the next element\n",
    "        # Earlier iterations should have moved larger items to\n",
    "        # the end, so reduce loop to skip those\n",
    "        for j in range(list_length -i - 1):\n",
    "            if input_list[j] > input_list[j+1]: \n",
    "                input_list[j], input_list[j+1] = input_list[j+1], input_list[j] \n",
    "\n",
    "    return input_list"
   ]
  },
  {
   "cell_type": "markdown",
   "id": "ce32ce29-e9d4-460b-8cbd-eeaf42f348f8",
   "metadata": {},
   "source": [
    "##### Test"
   ]
  },
  {
   "cell_type": "code",
   "execution_count": null,
   "id": "1890f972-5af0-4427-9571-582a5c2381ac",
   "metadata": {},
   "outputs": [],
   "source": [
    "# Example of usage \n",
    "input_list = [7, 2, 9, 1, 6, 3, 8, 4, 5] \n",
    "print(f\"Original list: {input_list}\") \n",
    "\n",
    "# Sort the list using bubble sort \n",
    "sorted_list = bubble_sort(input_list) \n",
    "print(f\"Sorted list: {sorted_list}\") "
   ]
  },
  {
   "cell_type": "markdown",
   "id": "e8d63d86-5cf5-4875-bb96-942fe36c9538",
   "metadata": {},
   "source": [
    "#### Option 3 - stopping when sorting is done\n",
    "There is still one more thing you can do to optimize the algorithm. Unless the input list is the exact reverse of the sorted order, your algorithm will not need all the iterations to complete the sort. If you use a simple Boolean variable, you can check if you are done with the sort earlier and then stop and exit the loop in that case. All you need to do is check if any elements had to be swapped during one iteration. If none did, then your sort must be done."
   ]
  },
  {
   "cell_type": "code",
   "execution_count": null,
   "id": "8502a72e",
   "metadata": {},
   "outputs": [],
   "source": [
    "def bubble_sort(input_list):\n",
    "    # set list length\n",
    "    list_length = len(input_list)\n",
    "    \n",
    "    # Iterate through all elements of the list\n",
    "    for i in range(list_length):\n",
    "        # inialize variable to detect swap\n",
    "        swapped = False\n",
    "        \n",
    "        # loop and compare against the next element\n",
    "        for j in range(0, list_length -i - 1):\n",
    "            if input_list[j] > input_list[j+1]: \n",
    "                input_list[j], input_list[j+1] = input_list[j+1], input_list[j]\n",
    "                swapped = True\n",
    "        \n",
    "        # if you didn't swap any elements, the list must be sorted\n",
    "        if (not swapped):\n",
    "            print(f\"Sort completed at index {i}\")\n",
    "            break\n",
    "\n",
    "    return input_list"
   ]
  },
  {
   "cell_type": "markdown",
   "id": "867e42e2-486c-4cfc-84f1-ed82f47990cc",
   "metadata": {},
   "source": [
    "##### Test"
   ]
  },
  {
   "cell_type": "code",
   "execution_count": null,
   "id": "46b1cf7d-708e-4bfc-848b-80b949e04f1b",
   "metadata": {},
   "outputs": [],
   "source": [
    "# Example of usage \n",
    "input_list = [7, 2, 9, 1, 6, 3, 8, 4, 5] \n",
    "print(f\"Original list: {input_list}\") \n",
    "\n",
    "# Sort the list using bubble sort \n",
    "sorted_list = bubble_sort(input_list) \n",
    "print(f\"Sorted list: {sorted_list}\") "
   ]
  },
  {
   "cell_type": "markdown",
   "id": "b7f6912c",
   "metadata": {},
   "source": [
    "## Polymorphism in action\n",
    "You learned about polymorphism in the Object-Oriented Programming module, so put that into practice with a question. Assume you are writing a process_shapes function that needs to perform actions on shape objects that require knowing their area and perimeter. The function should be able to process a list with a mix of rectangles and circles without explicit knowledge of which shape it is working on. How would you define a class structure and methods for the shapes to support that?\n",
    "\n",
    "You will be provided the basic process_shapes function. You will note that the function does not make any explicit reference to either circles or rectangles. So your shape hierarchy will need to support that."
   ]
  },
  {
   "cell_type": "markdown",
   "id": "a78989c5-af6f-470c-b636-0207ed447260",
   "metadata": {},
   "source": [
    "### Resources provided\n",
    "You are provided with a sample process_shapes function. This simple example is just printing the perimeter and area for each shape, but you can envision more complex tasks like drawing shapes or calculating resources."
   ]
  },
  {
   "cell_type": "code",
   "execution_count": null,
   "id": "516e5198-8ff8-4f96-b430-5a952f130367",
   "metadata": {},
   "outputs": [],
   "source": [
    "def process_shapes(shape_list):\n",
    "    # iterate through list and print area and perimeter for each shape\n",
    "    for shape in shape_list:\n",
    "        print(f\"Area of {shape.get_type()} is {shape.calculate_area():.2f}\")\n",
    "        print(f\"Perimeter of {shape.get_type()} is {shape.calculate_perimeter():.2f}\")\n",
    "        print()"
   ]
  },
  {
   "cell_type": "markdown",
   "id": "0325745f-dc78-4156-b5df-2774fe45df09",
   "metadata": {},
   "source": [
    "### Solution"
   ]
  },
  {
   "cell_type": "markdown",
   "id": "3ebd35eb-4a37-4fd6-9a9c-cd99b9eb5f05",
   "metadata": {},
   "source": [
    "#### Step 1 - define the base Shape class"
   ]
  },
  {
   "cell_type": "code",
   "execution_count": null,
   "id": "d157a41d",
   "metadata": {},
   "outputs": [],
   "source": [
    "# parent shape class\n",
    "class Shape:\n",
    "    # initialize shape object \n",
    "    def __init__(self, type):\n",
    "        # shape type\n",
    "        self.type = type\n",
    "\n",
    "    # return type of shape\n",
    "    def get_type(self):\n",
    "        return self.type\n",
    "    \n",
    "    # Define a method to calculate the area of a shape\n",
    "    def calculate_area(self):\n",
    "        pass\n",
    "    \n",
    "    # Define a method to calculate the perimeter of a shape\n",
    "    def calculate_perimeter(self):\n",
    "        pass"
   ]
  },
  {
   "cell_type": "markdown",
   "id": "758c7415-2113-4aeb-ba3e-2fec9a257776",
   "metadata": {},
   "source": [
    "#### Step 2 - define the dereived Circle and Rectangle classes"
   ]
  },
  {
   "cell_type": "code",
   "execution_count": null,
   "id": "034d0a11",
   "metadata": {},
   "outputs": [],
   "source": [
    "# derived Rectangle class\n",
    "class Rectangle(Shape):\n",
    "    # initializer takes basic rectangle parameters\n",
    "    def __init__(self, width, height):\n",
    "        super().__init__(\"Rectangle\")\n",
    "        self.width = width\n",
    "        self.height = height\n",
    "    \n",
    "    # calculate area using standard geometric formula\n",
    "    def calculate_area(self):\n",
    "        return (self.width * self.height)\n",
    "\n",
    "    # calculate perimeter using standard geometric formula\n",
    "    def calculate_perimeter(self):\n",
    "        return (2 * self.width + 2 * self.height)"
   ]
  },
  {
   "cell_type": "code",
   "execution_count": null,
   "id": "09596d69",
   "metadata": {},
   "outputs": [],
   "source": [
    "# derived Circle class\n",
    "class Circle(Shape):\n",
    "    # define pi to be used in class\n",
    "    pi = 3.1416\n",
    "    \n",
    "    # initializer takes basic circle parameters\n",
    "    def __init__(self, radius):\n",
    "        super().__init__(\"Circle\")\n",
    "        self.radius = radius\n",
    "\n",
    "    # calculate area using standard geometric formula\n",
    "    def calculate_area(self):\n",
    "        return (self.radius * self.radius * Circle.pi)\n",
    "\n",
    "    # calculate perimeter using standard geometric formula\n",
    "    def calculate_perimeter(self):\n",
    "        return (2 * self.radius * Circle.pi)"
   ]
  },
  {
   "cell_type": "markdown",
   "id": "2751d095-4fe3-456b-b47f-0e1451197985",
   "metadata": {},
   "source": [
    "#### Test"
   ]
  },
  {
   "cell_type": "code",
   "execution_count": null,
   "id": "b90c4344",
   "metadata": {},
   "outputs": [],
   "source": [
    "# create a list of mixed shapes\n",
    "shape_list = [\n",
    "    Circle(2), \n",
    "    Rectangle(2,3),\n",
    "    Rectangle(10,15),\n",
    "    Circle(8),\n",
    "    Circle(5)]\n",
    "\n",
    "# process shapes\n",
    "process_shapes(shape_list)"
   ]
  },
  {
   "cell_type": "markdown",
   "id": "861bcc51",
   "metadata": {},
   "source": [
    "## Minimum value on a stack\n",
    "In this problem, you must implement a special MinStack class with the following requirements: \n",
    "- MinStack will support the standard push() and pop() operations expected in a stack.\n",
    "- MinStack implements an additional min() method, which will return the minimum value stored in the stack.\n",
    "    - The value is returned in O(1) time.\n",
    "    - The value is not popped from the stack, but simply returned."
   ]
  },
  {
   "cell_type": "markdown",
   "id": "06e20803-8f48-4635-b976-4775eecebd80",
   "metadata": {},
   "source": [
    "### Resources provided\n",
    "You are provided with the MyStack class to use in your solution. It has the standard push, pop, and peek methods expected in a stack. You can use MyStack without modifications."
   ]
  },
  {
   "cell_type": "code",
   "execution_count": null,
   "id": "db896f0f-5ad5-4051-91ad-ffac7a5a2feb",
   "metadata": {},
   "outputs": [],
   "source": [
    "class MyStack:  \n",
    "    def __init__(self): \n",
    "        self.stack_list = [] \n",
    "\n",
    "    def is_empty(self):  \n",
    "        return len(self.stack_list) == 0  \n",
    "\n",
    "    def peek(self):  \n",
    "        if self.is_empty():  \n",
    "            return None  \n",
    "        return self.stack_list[-1]  \n",
    "\n",
    "    def size(self):  \n",
    "        return len(self.stack_list)  \n",
    "\n",
    "    def push(self, value):  \n",
    "        self.stack_list.append(value)  \n",
    "\n",
    "    def pop(self):  \n",
    "        if self.is_empty():  \n",
    "            return None  \n",
    "        return self.stack_list.pop()"
   ]
  },
  {
   "cell_type": "markdown",
   "id": "ee776b36",
   "metadata": {},
   "source": [
    "### Solution\n",
    "This problem is not as simple as it seems. The O(1) response requirement for the min() method means that the solution should not involve iterating through the stack. We also cannot simply use variable to maintain the min value as elements are pushed, because we would have problems if the min value is popped. \n",
    "\n",
    "To address this problem, the solutions uses two stacks, one for the main storage and another to keep track of the minimum value."
   ]
  },
  {
   "cell_type": "code",
   "execution_count": null,
   "id": "694266ed",
   "metadata": {},
   "outputs": [],
   "source": [
    "class MinStack: \n",
    "    # Constructor \n",
    "    def __init__(self):\n",
    "        # main stack is your regular storage for the stack\n",
    "        self.main_stack = MyStack()\n",
    "        \n",
    "        # min_stack maintains a parallel storage of the min values\n",
    "        self.min_stack = MyStack() \n",
    "\n",
    "    # Pushes values into stack \n",
    "    def push(self, value):\n",
    "        # push value into main stack\n",
    "        self.main_stack.push(value)\n",
    "        \n",
    "        # check current min value in min_stack (will be None is list is empty)\n",
    "        currMin = self.min_stack.peek()\n",
    "        \n",
    "        # if there is no current min or the push value is smaller\n",
    "        if currMin is None or value < currMin:\n",
    "            # push the new value as the new min\n",
    "            self.min_stack.push(value)\n",
    "        # else, the min has not changed, so push the same value in min_stack\n",
    "        else: \n",
    "            self.min_stack.push(currMin)\n",
    "            \n",
    "    # Pops value from stack        \n",
    "    def pop(self):\n",
    "        # pop a value from main_stack, and pop corresponding min_stack entry\n",
    "        self.min_stack.pop() \n",
    "        return self.main_stack.pop()\n",
    "             \n",
    "    # Returns minimum value from stack \n",
    "    def min(self): \n",
    "        if not self.min_stack.is_empty(): \n",
    "            return self.min_stack.peek() \n",
    "        # In case the stack is empty \n",
    "        return None"
   ]
  },
  {
   "cell_type": "markdown",
   "id": "6ede4c7d-24ef-4582-8197-5d0655768921",
   "metadata": {},
   "source": [
    "#### Test"
   ]
  },
  {
   "cell_type": "code",
   "execution_count": null,
   "id": "2df9c953",
   "metadata": {},
   "outputs": [],
   "source": [
    "# build a stack\n",
    "stack = MinStack() \n",
    "stack.push(5) \n",
    "stack.push(1) \n",
    "stack.push(4)\n",
    "stack.push(2)\n",
    "stack.push(0) \n",
    "stack.push(3) \n",
    "\n",
    "# at this point the minimum should be 0\n",
    "print(f\"Minimum value: {stack.min()}\")\n",
    "\n",
    "stack.pop()\n",
    "stack.pop() \n",
    "\n",
    "# 0 popped, so now minimum should be 1\n",
    "print(f\"Minimum value: {stack.min()}\")\n",
    "      \n",
    "stack.pop() \n",
    "stack.push(-1)\n",
    "stack.push(0)\n",
    "\n",
    "# minimum should be -1\n",
    "print(f\"Minimum value: {stack.min()}\")"
   ]
  },
  {
   "cell_type": "markdown",
   "id": "ad52c486",
   "metadata": {},
   "source": [
    "### Solution with print statements\n",
    "Just to help visualize how the code works, use a modified version of the code to print the state of a main_stack and min_stack after each push and pop operation."
   ]
  },
  {
   "cell_type": "code",
   "execution_count": null,
   "id": "52a3282e",
   "metadata": {},
   "outputs": [],
   "source": [
    "# This is a special version of the class just to show the progression of tha parallel stacks\n",
    "class MinStackWP: \n",
    "    # Constructor \n",
    "    def __init__(self):\n",
    "        # main stack is our regular storage for the stack\n",
    "        self.main_stack = MyStack()\n",
    "        \n",
    "        # min_stack maintains a parallel storage of the min values\n",
    "        self.min_stack = MyStack() \n",
    "\n",
    "    # Pushes values into stack \n",
    "    def push(self, value):\n",
    "        # push value into main stack\n",
    "        self.main_stack.push(value)\n",
    "        \n",
    "        # check current min value in min_stack (will be None is list is empty)\n",
    "        currMin = self.min_stack.peek()\n",
    "        \n",
    "        # if there is no current min or the push value is smaller\n",
    "        if currMin is None or value < currMin:\n",
    "            # push the new value as the new min\n",
    "            self.min_stack.push(value)\n",
    "        # else, the min has not changed, so push the same value in min_stack\n",
    "        else: \n",
    "            self.min_stack.push(currMin)\n",
    "        print(f\">>> Pushed value: {value}\")\n",
    "        print(f\"main_stack: {self.main_stack.stack_list}\")\n",
    "        print(f\"min_stack : {self.min_stack.stack_list}\\n\")\n",
    "            \n",
    "    # Pops value from stack        \n",
    "    def pop(self):\n",
    "        # pop a value from main_stack, and pop corresponding min_stack entry\n",
    "        self.min_stack.pop() \n",
    "        value = self.main_stack.pop()\n",
    "        print(f\"<<< Popped value: {value}\")\n",
    "        print(f\"main_stack: {self.main_stack.stack_list}\")\n",
    "        print(f\"min_stack : {self.min_stack.stack_list}\\n\")\n",
    "        return value\n",
    "             \n",
    "    # Returns minimum value from stack \n",
    "    def min(self): \n",
    "        if not self.min_stack.is_empty(): \n",
    "            return self.min_stack.peek() \n",
    "        # In case the stack is empty \n",
    "        return None"
   ]
  },
  {
   "cell_type": "markdown",
   "id": "1c2dae0a-6163-4ec9-8be3-7c9802bcd7f6",
   "metadata": {},
   "source": [
    "#### Test"
   ]
  },
  {
   "cell_type": "code",
   "execution_count": null,
   "id": "7ee77805",
   "metadata": {},
   "outputs": [],
   "source": [
    "stack = MinStackWP() \n",
    "stack.push(1)\n",
    "stack.push(2)\n",
    "stack.push(0)\n",
    "stack.push(3)\n",
    "\n",
    "stack.pop()\n",
    "\n",
    "stack.push(4)\n",
    "\n",
    "stack.pop()\n",
    "stack.pop() "
   ]
  },
  {
   "cell_type": "markdown",
   "id": "25186fb8",
   "metadata": {},
   "source": [
    "## Search optimization - sublist with sum 0\n",
    "In this question, you will implement a find_zero_sum function. This funtion will take in a list of positive and negative integers, and try to find a sublist in which the sum of consecutive elements is zero. The following are some examples:\n",
    "- In the list [7, 2, -6, 4, -1, 9] , the consecutive numbers 2, -6, and 4 will add up to zero.\n",
    "- In the list [9, 3, 2 , 4, -1, -3, 7] , the consecutive numbers 4, -1, and -3 will add up to zero.\n",
    "- In the list [1, 2, 4] , no sublists add up to 0.\n",
    "\n",
    "The find_zero_sum function should return the index where a zero sum sublist ends or -1 if no sublist is found. There are multiple solutions available but try to find the most efficient approach"
   ]
  },
  {
   "cell_type": "markdown",
   "id": "0e4e7547",
   "metadata": {},
   "source": [
    "### Less efficient solution - brute force nested loop\n",
    "In this simple solution, we use a nested loop to check every possible combination."
   ]
  },
  {
   "cell_type": "code",
   "execution_count": null,
   "id": "dc883709",
   "metadata": {},
   "outputs": [],
   "source": [
    "# Return the index of the item where a 0 sum sublist ends\n",
    "def find_zero_sum(input_list):\n",
    "    # iterate through each list element\n",
    "    for i in range(len(input_list)):\n",
    "        curr_elem = input_list[i]\n",
    "        \n",
    "        # check for the simple case of current element being 0\n",
    "        if curr_elem == 0:\n",
    "            return i\n",
    "        \n",
    "        # sum is initialized with the current element\n",
    "        sum = curr_elem\n",
    "\n",
    "        # now go forward from this element\n",
    "        for j in range(i + 1, len(input_list)):\n",
    "            # keep adding to the sum, until it adds to 0\n",
    "            sum += input_list[j]\n",
    "            if sum == 0:\n",
    "                return j\n",
    "    \n",
    "    # if nothing was found yet, return -1\n",
    "    return -1"
   ]
  },
  {
   "cell_type": "markdown",
   "id": "6e7f405a-5ce1-47b8-8204-321a779664e9",
   "metadata": {},
   "source": [
    "#### Test"
   ]
  },
  {
   "cell_type": "code",
   "execution_count": null,
   "id": "0ef39892",
   "metadata": {},
   "outputs": [],
   "source": [
    "my_list = [7, 2, -6, 4, -1, 9]\n",
    "print(f\"Searching for 0 sum on list {my_list}\")\n",
    "pos = find_zero_sum(my_list)\n",
    "if (pos >= 0):\n",
    "    print(f\"Found a sublist with 0 sum ending at index {pos}\")\n",
    "else:\n",
    "    print(f\"Did not find a sublist with 0 sum\")\n",
    "\n",
    "my_list = [1, 2, 4]\n",
    "print(f\"\\nSearching for 0 sum on list {my_list}\")\n",
    "pos = find_zero_sum(my_list)\n",
    "if (pos >= 0):\n",
    "    print(f\"Found a sublist with 0 sum ending at index {pos}\")\n",
    "else:\n",
    "    print(f\"Did not find a sublist with 0 sum\")"
   ]
  },
  {
   "cell_type": "markdown",
   "id": "44a015eb-c908-4650-b9a4-ce731c1ede7a",
   "metadata": {},
   "source": [
    "#### Complexity analysis\n",
    "This is a typical nested-loop scenario.\n",
    "- **Time complexity: <span style=\"color:blue\">O(n<sup>2</sup>)**</span>"
   ]
  },
  {
   "cell_type": "markdown",
   "id": "bc054817",
   "metadata": {},
   "source": [
    "### More efficient solution with hash tables\n",
    "The following is an example of an optimized solution that uses hash tables."
   ]
  },
  {
   "cell_type": "code",
   "execution_count": null,
   "id": "02eed906",
   "metadata": {},
   "outputs": [],
   "source": [
    "# Return the index of the item where a 0 sum sublist starts\n",
    "def find_zero_sum_ht(input_list):\n",
    "    # create a hash table to track partial sums\n",
    "    ht = dict() \n",
    "    total_sum = 0 \n",
    "    \n",
    "    # iterate through each list element\n",
    "    for i in range(len(input_list)):\n",
    "        curr_elem = input_list[i]\n",
    "\n",
    "        # add the current element to the sum\n",
    "        total_sum += curr_elem\n",
    "        \n",
    "        # Simple cases: current element is 0 or the running total is 0\n",
    "        if curr_elem == 0 or total_sum == 0:\n",
    "            return i\n",
    "        \n",
    "        # if you had this total before, then there was 0 sum in between\n",
    "        if ht.get(total_sum) is not None: \n",
    "            return i\n",
    "        \n",
    "        # save the current sum to your hash table\n",
    "        ht[total_sum] = curr_elem\n",
    "\n",
    "    # if nothing was found yet, return -1    \n",
    "    return -1"
   ]
  },
  {
   "cell_type": "markdown",
   "id": "898cca38-7a8d-42e9-8de6-90c9fcd4eedd",
   "metadata": {},
   "source": [
    "#### Test"
   ]
  },
  {
   "cell_type": "code",
   "execution_count": null,
   "id": "8c395d9a-3af4-4072-a57e-71641999244c",
   "metadata": {},
   "outputs": [],
   "source": [
    "my_list = [7, 2, -6, 4, -1, 9]\n",
    "print(f\"Searching for 0 sum on list {my_list}\")\n",
    "pos = find_zero_sum_ht(my_list)\n",
    "if (pos >= 0):\n",
    "    print(f\"Found a sublist with 0 sum ending at index {pos}\")\n",
    "else:\n",
    "    print(f\"Did not find a sublist with 0 sum\")\n",
    "\n",
    "my_list = [1, 2, 4]\n",
    "print(f\"\\nSearching for 0 sum on list {my_list}\")\n",
    "pos = find_zero_sum_ht(my_list)\n",
    "if (pos >= 0):\n",
    "    print(f\"Found a sublist with 0 sum ending at index {pos}\")\n",
    "else:\n",
    "    print(f\"Did not find a sublist with 0 sum\")"
   ]
  },
  {
   "cell_type": "markdown",
   "id": "b14cf8fb-ecb3-419a-b207-2589b659f822",
   "metadata": {},
   "source": [
    "#### Complexity analysis\n",
    "This updated algorithm reduces the complexity a single loop.\n",
    "- **Time complexity: <span style=\"color:blue\">O(n)**</span>"
   ]
  },
  {
   "cell_type": "code",
   "execution_count": null,
   "id": "d2b5cef7",
   "metadata": {},
   "outputs": [],
   "source": []
  }
 ],
 "metadata": {
  "kernelspec": {
   "display_name": "Python 3 (ipykernel)",
   "language": "python",
   "name": "python3"
  },
  "language_info": {
   "codemirror_mode": {
    "name": "ipython",
    "version": 3
   },
   "file_extension": ".py",
   "mimetype": "text/x-python",
   "name": "python",
   "nbconvert_exporter": "python",
   "pygments_lexer": "ipython3",
   "version": "3.9.2"
  }
 },
 "nbformat": 4,
 "nbformat_minor": 5
}
