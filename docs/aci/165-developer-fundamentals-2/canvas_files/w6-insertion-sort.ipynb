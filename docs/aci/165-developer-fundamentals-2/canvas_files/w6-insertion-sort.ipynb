{
 "cells": [
  {
   "cell_type": "markdown",
   "id": "c673a935-375b-4dd4-8e43-1c802f5c4afe",
   "metadata": {},
   "source": [
    "# <span style=\"color:blue\">Insertion Sort Analysis\n",
    "AWS CLOUD INSTITUTE: PROVIDED FOR EDUCATIONAL INSTRUCTIONAL PURPOSES ONLY."
   ]
  },
  {
   "attachments": {},
   "cell_type": "markdown",
   "id": "22175a91-ca7b-4c5a-8527-8d405a8dd3ad",
   "metadata": {},
   "source": [
    "## Insertion Sort\n",
    "Insertion sort **progressively builds** a **sorted list** from **left to right**, **one element at a time**.\n",
    "- Iterate forward, **starting at the beginning**\n",
    "- **Make** the **item at the current position \"the key\"**\n",
    "    - **Iterate backward from** the **current location** to the beginning of the list\n",
    "        - **Compare key to each previous item**, and place the key in the correct location \n",
    "- Now go back to the top of the loop, which will move the loop forward to the next list position\n",
    "\n",
    "This is not an easy algorithm to visualize, so we'll have a version with print statements later."
   ]
  },
  {
   "cell_type": "markdown",
   "id": "f7034d8e-b928-4e2a-90e8-97825bad65cc",
   "metadata": {},
   "source": [
    "### Insertion sort implementation"
   ]
  },
  {
   "cell_type": "code",
   "execution_count": null,
   "id": "df68889d-8cac-4118-b2b3-3d2f3e2a355e",
   "metadata": {},
   "outputs": [],
   "source": [
    "def insertion_sort(my_list):\n",
    "\n",
    "    # iterate forward, one index at the time, starting at the second item (index = 1)\n",
    "    for i in range(1, len(my_list)):\n",
    "        key = my_list[i]\n",
    "\n",
    "        # now iterate backwards from key item, until we find an item >= than the key item (or reach the beginning)\n",
    "        j = i - 1\n",
    "        while j >= 0 and key < my_list[j]:\n",
    "            # move the current item forward, since it's bigger than the key\n",
    "            my_list[j + 1] = my_list[j]\n",
    "            \n",
    "            # decrease the index so we can keep moving backward\n",
    "            j -= 1\n",
    "        \n",
    "        # at the end of the loop, we must at the point where we hit an item smaller than the key\n",
    "        # so we can place the key after it\n",
    "        my_list[j + 1] = key\n",
    "\n",
    "    return my_list"
   ]
  },
  {
   "cell_type": "markdown",
   "id": "c3335fdc-e280-48b2-ac93-1a858c31c6fa",
   "metadata": {},
   "source": [
    "### Basic test"
   ]
  },
  {
   "cell_type": "code",
   "execution_count": null,
   "id": "171dc291-b13f-49f3-bf73-84c9f43593d5",
   "metadata": {},
   "outputs": [],
   "source": [
    "# define a simple list\n",
    "int_list = [8, 5, 2, 4, 3, 1, 10, 9, 7, 6]\n",
    "print(f\"Original list: {int_list}\")\n",
    "\n",
    "# sort the list\n",
    "sorted_list = insertion_sort(int_list)\n",
    "\n",
    "# print sorted lists\n",
    "print(f\"Sorted list: {sorted_list}\")"
   ]
  },
  {
   "cell_type": "markdown",
   "id": "b4a3dff8-98e8-4acc-8fd8-f23b1b08b865",
   "metadata": {},
   "source": [
    "#### Does the original list get changed?"
   ]
  },
  {
   "cell_type": "code",
   "execution_count": null,
   "id": "706c0d93-9f17-4772-9519-387df0e946c9",
   "metadata": {},
   "outputs": [],
   "source": [
    "print(f\"Original list after sorting: {int_list}\")"
   ]
  },
  {
   "cell_type": "markdown",
   "id": "801e1cc8-6e0d-48d9-8aa1-6ac66b21e8a2",
   "metadata": {},
   "source": [
    "Yes, the algorithm modifies the input list. If we didn't want that behavior, we could make a copy before calling it."
   ]
  },
  {
   "cell_type": "markdown",
   "id": "3ab781bc-33c2-4467-bf9e-e6cae12531c1",
   "metadata": {},
   "source": [
    "### Modified version with print statements\n",
    "Let's create a **modified version**, **with print statements** (hence the \"_wp\" in the name, as in \"with print\") to **visualize what happens** during the sorting processing."
   ]
  },
  {
   "cell_type": "code",
   "execution_count": null,
   "id": "3556e6b9-3aa3-4e0e-8356-c240a1152325",
   "metadata": {},
   "outputs": [],
   "source": [
    "def insertion_sort_wp(my_list):\n",
    "\n",
    "    # iterate forward, one index at the time, starting at the second item (index = 1)\n",
    "    for i in range(1, len(my_list)):\n",
    "        key = my_list[i]\n",
    "        print(f\"Iteration {i} - List: {my_list} - Key: {key}\")\n",
    "        print(f\"                    <-\" + \"|\".rjust(3*i,\"-\"))\n",
    "        \n",
    "        # now iterate backwards from key item, until we find an item >= than the key item (or reach the beginning)\n",
    "        j = i - 1\n",
    "        while j >= 0 and key < my_list[j]:\n",
    "            print(f\"    Key({key}) < {my_list[j]}, so move {my_list[j]} forward\")\n",
    "            # move the current item forward, since it's bigger than the key\n",
    "            my_list[j + 1] = my_list[j]\n",
    "            # decrease the index so we can keep moving backward\n",
    "            j -= 1\n",
    "            print(f\"    List after change: {my_list}\")\n",
    "\n",
    "        # at the end of the loop, we must at the point where we hit an item smaller than the key\n",
    "        # so we can place the key after it\n",
    "        my_list[j + 1] = key\n",
    "        \n",
    "        # print message depending on why we exited loop\n",
    "        if (j < 0):\n",
    "            print(f\"Exited loop at beginning - Inserted key({key}) there\")\n",
    "        else:\n",
    "            print(f\"Exited loop when Key({key}) > {my_list[j]} - Inserted key after {my_list[j]}\")\n",
    "\n",
    "        print(f\"List after iteration: {my_list}\\n\")\n",
    "\n",
    "    return my_list"
   ]
  },
  {
   "cell_type": "markdown",
   "id": "a9957173-9010-4a9e-adfb-5b8ac663cc9d",
   "metadata": {},
   "source": [
    "#### Smaller test\n",
    "Let's test with a small list, because this will print a lot."
   ]
  },
  {
   "cell_type": "code",
   "execution_count": null,
   "id": "6af56006-3954-453e-ae14-ac0707d62667",
   "metadata": {},
   "outputs": [],
   "source": [
    "# define a small list\n",
    "int_list = [5, 2, 4, 1, 3]\n",
    "\n",
    "# sort the list\n",
    "sorted_list = insertion_sort_wp(int_list)\n",
    "\n",
    "# print sorted lists\n",
    "print(f\"\\nFinal sorted list: {sorted_list}\")"
   ]
  },
  {
   "attachments": {},
   "cell_type": "markdown",
   "id": "ba771144-e884-4a57-bfc5-d7aeb1e41424",
   "metadata": {},
   "source": [
    "### Complexity analysis\n",
    "In this **average case**, I can see I **have an outer loop**, **and most of the time** I'll execute **several steps in the inner loop**. So it's a typical n * n.\n",
    "  \n",
    "- **Time complexity for average case: <span style=\"color:blue\">O(n<sup>2</sup>)**</span>"
   ]
  },
  {
   "cell_type": "code",
   "execution_count": null,
   "id": "cd41ab31-c291-459b-99d9-63cac0a9ca09",
   "metadata": {},
   "outputs": [],
   "source": [
    "# define a small list\n",
    "int_list = [1, 2, 3, 4, 5]\n",
    "\n",
    "# sort the list\n",
    "sorted_list = insertion_sort_wp(int_list)\n",
    "\n",
    "# print sorted lists\n",
    "print(f\"\\nFinal sorted list: {sorted_list}\")"
   ]
  },
  {
   "attachments": {},
   "cell_type": "markdown",
   "id": "20ec7e02-e5fe-4555-8420-fa0956d3a309",
   "metadata": {},
   "source": [
    "### Complexity analysis\n",
    "In this case my **list was fully sorted**, I **never** had to **go into** my **inner loop** and do any swaps. So it's like I only had a single loop. So in this case, **instead of the O(n<sup>2</sup>)**, I get from the nested loops, my **peformance would be O(n).**\n",
    "  \n",
    "- **Time complexity for fully ordered list: <span style=\"color:blue\">O(n)**</span>"
   ]
  },
  {
   "cell_type": "code",
   "execution_count": null,
   "id": "0b631bb7-c506-4010-9796-db3529a63e22",
   "metadata": {},
   "outputs": [],
   "source": []
  }
 ],
 "metadata": {
  "kernelspec": {
   "display_name": "Python 3 (ipykernel)",
   "language": "python",
   "name": "python3"
  },
  "language_info": {
   "codemirror_mode": {
    "name": "ipython",
    "version": 3
   },
   "file_extension": ".py",
   "mimetype": "text/x-python",
   "name": "python",
   "nbconvert_exporter": "python",
   "pygments_lexer": "ipython3",
   "version": "3.9.2"
  }
 },
 "nbformat": 4,
 "nbformat_minor": 5
}
