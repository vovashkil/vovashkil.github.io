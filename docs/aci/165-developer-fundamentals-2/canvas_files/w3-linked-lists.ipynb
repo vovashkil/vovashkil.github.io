{
 "cells": [
  {
   "cell_type": "markdown",
   "id": "d596771c-d13a-4bbc-b90a-700d71510df8",
   "metadata": {},
   "source": [
    "# <span style=\"color:blue\">Linked Lists\n",
    "AWS CLOUD INSTITUTE: PROVIDED FOR EDUCATIONAL INSTRUCTIONAL PURPOSES ONLY."
   ]
  },
  {
   "attachments": {},
   "cell_type": "markdown",
   "id": "f4045fe0-6d88-416c-88c4-3630f73c1a5a",
   "metadata": {},
   "source": [
    "A **linked list** is a data structure that stores data as a **collection of nodes**. Each node contains:\n",
    "- The **data** we are storing\n",
    "- A **pointer** to the next node"
   ]
  },
  {
   "cell_type": "markdown",
   "id": "bf51c4ce-dfbe-4689-b180-5925613c570a",
   "metadata": {},
   "source": [
    "## Quick Refresher on Time Complexity\n",
    "Just a quick **reminder** that **time complexity**, which **measures** our **time efficiency**, is all about **how many times** we **repeat steps**.\n",
    "- If we have a **fixed steps** that do **not repeat based on the input**, we call that **\"Constant Time\"** time, or **O(1)**, and that's the **most efficient**.\n",
    "- If we have to **repeat steps \"n\" times**, where **\"n\"** is something that **can change based on the input** (**like** the **size of** a **list**), we call that **\"Linear Time\"**, or **O(n)**, and that's **not too bad**, but **less efficient than O(1)**, particularly **if \"n\"** is very **large**.\n",
    "- There are **many others** (O(log(n), O(n<sup>2</sup>), etc), and it always **depends** on **how many times** you are **repeating operations**.\n",
    "\n",
    "These are **topics we will study in depth in later modules**, but it's **good to start thinking** about that as we study operations. Start thinking:\n",
    "- *\"This operation returned with only a few fixed steps. That will be very fast\"*\n",
    "- *\"Hum ... this operation requires me to walk through a whole list. That can be slower if the list is very long.*"
   ]
  },
  {
   "cell_type": "markdown",
   "id": "5b96d49f-ef89-451b-bd70-7d0163bf16cf",
   "metadata": {},
   "source": [
    "# Bare bones Linked List\n",
    "The \"classic\" linked list is a **singly linked list**, which is **traversed** only **forward**. Each **node has** a **pointer to** the **next node**."
   ]
  },
  {
   "cell_type": "markdown",
   "id": "81b14272-2534-4504-acce-b21d63cb7059",
   "metadata": {},
   "source": [
    "## Node Class"
   ]
  },
  {
   "cell_type": "code",
   "execution_count": null,
   "id": "09ec13ea-c289-4dd6-bd60-0f4aaa90bf75",
   "metadata": {
    "editable": true,
    "slideshow": {
     "slide_type": ""
    },
    "tags": []
   },
   "outputs": [],
   "source": [
    "class Node:\n",
    "    '''\n",
    "    Node for a singly linked list\n",
    "    '''\n",
    "    def __init__(self, data):\n",
    "        '''\n",
    "        Parameters:\n",
    "            data: The data to be stored in the node\n",
    "            next: Pointer to the next node\n",
    "        '''\n",
    "        self.data = data\n",
    "        self.next = None"
   ]
  },
  {
   "cell_type": "markdown",
   "id": "b9b3e8b4-5744-46c8-ae29-a8f9c895bbb5",
   "metadata": {},
   "source": [
    "## LinkedList Class\n",
    "A very **basic linked list** needs **nothing more than** initializing a **head pointer**. The **rest** is all about **how we manipulate the nodes**."
   ]
  },
  {
   "cell_type": "code",
   "execution_count": null,
   "id": "15a094b3-fb6d-49ad-b32d-90cf86911816",
   "metadata": {
    "editable": true,
    "slideshow": {
     "slide_type": ""
    },
    "tags": []
   },
   "outputs": [],
   "source": [
    "class LinkedList:\n",
    "    '''\n",
    "    A basic linked list\n",
    "    '''\n",
    "    def __init__(self):\n",
    "        # initialize the head of the list\n",
    "        self.head = None"
   ]
  },
  {
   "cell_type": "markdown",
   "id": "744c352b-a0cd-4bfd-829e-1b327d696ad8",
   "metadata": {},
   "source": [
    "How does something so simple implement a list? It's all about how you **manipulate** the **nodes and pointers**."
   ]
  },
  {
   "cell_type": "markdown",
   "id": "a90ff8c1-87a6-49c3-9775-5e56dca8c632",
   "metadata": {},
   "source": [
    "## Linked List Operations\n",
    "Operating a linked list is all about manipulating the pointers in the nodes. We'll see this below."
   ]
  },
  {
   "cell_type": "markdown",
   "id": "69f3f3a3-cb0e-47b5-8368-34ded80740d6",
   "metadata": {},
   "source": [
    "### Creating a linked list\n",
    "**Creating** my **simple linked list** will simply **create an empty head pointer**. The head will initially be pointing to None."
   ]
  },
  {
   "cell_type": "code",
   "execution_count": null,
   "id": "f54bd10b-da50-40d3-8a87-1f7b14b01ea4",
   "metadata": {},
   "outputs": [],
   "source": [
    "my_ll = LinkedList()"
   ]
  },
  {
   "cell_type": "markdown",
   "id": "a007b8b4-b324-48f0-9809-c79806ca7d27",
   "metadata": {},
   "source": [
    "### Inserting a new item to the beginning of the list\n",
    "**Inserting** an item **to** the **beginning** is fast, because you only need to **adjust** the **head pointer and** the **new node**."
   ]
  },
  {
   "cell_type": "code",
   "execution_count": null,
   "id": "511fb270-fc9f-46f0-9a8e-c1e983cd723c",
   "metadata": {},
   "outputs": [],
   "source": [
    "# create a node with data \"Tucker\"\n",
    "new_node = Node(\"Tucker\")\n",
    "\n",
    "# point the next pointer of the new node to the current head of the list\n",
    "new_node.next = my_ll.head\n",
    "\n",
    "# now update the list head to point to the new node\n",
    "my_ll.head = new_node"
   ]
  },
  {
   "cell_type": "markdown",
   "id": "a173bb19-d2e0-4b18-a161-ab8921983aa8",
   "metadata": {},
   "source": [
    "The **same** simple **process** can be **used every time** we **insert at the beginning**."
   ]
  },
  {
   "cell_type": "code",
   "execution_count": null,
   "id": "63c9e18e-c5b4-4ff4-8c8c-71e90dd865d6",
   "metadata": {},
   "outputs": [],
   "source": [
    "# create a node with the data \"Finn\"\n",
    "new_node = Node(\"Finn\")\n",
    "\n",
    "# point the new node next pointer to the current head of the list\n",
    "new_node.next = my_ll.head\n",
    "\n",
    "# now update the list head to point to the new node\n",
    "my_ll.head = new_node"
   ]
  },
  {
   "cell_type": "markdown",
   "id": "4747c1f9-873f-42bb-934d-c91067191f5c",
   "metadata": {},
   "source": [
    "**Note** that **however long** my **list may be**, to insert in the beginning, I **only had to manipulate two nodes**: the new node and the current head. So **inserting in the beginning** is **very fast** on a singlly linked list."
   ]
  },
  {
   "cell_type": "markdown",
   "id": "535c3483-0adf-484a-a3c7-348a646e1b74",
   "metadata": {},
   "source": [
    "### Traversing a linked list\n",
    "**To traverse** the linked list, you **start at the head**, than **use** the **next pointer** in each node **to \"hop\" to the next one**.\n",
    "\n",
    "As an **example**, let's create a **function to traverse a list** and **print every element**."
   ]
  },
  {
   "cell_type": "code",
   "execution_count": null,
   "id": "f4531d9d-f639-4a7e-ab23-14430dd602d7",
   "metadata": {},
   "outputs": [],
   "source": [
    "def print_list(list):\n",
    "    # traverse through the linked list and print each item\n",
    "    node = list.head\n",
    "    while node:\n",
    "        print(node.data, end=\"\")\n",
    "\n",
    "        # If there is another item, print a separator, else just print new line\n",
    "        if node.next:\n",
    "            print(\" --> \", end=\"\")\n",
    "        else:\n",
    "            print()\n",
    "\n",
    "        # update node pointer to the next node\n",
    "        node = node.next"
   ]
  },
  {
   "cell_type": "markdown",
   "id": "aa3c25b1-8086-4521-bfbc-a3073063adf6",
   "metadata": {},
   "source": [
    "Let's **try** our **traversal and print**, and see what our current list looks like."
   ]
  },
  {
   "cell_type": "code",
   "execution_count": null,
   "id": "37415b10-6b83-4198-9f3a-4ffc8ab2a8ff",
   "metadata": {},
   "outputs": [],
   "source": [
    "# print current list\n",
    "print_list(my_ll)"
   ]
  },
  {
   "cell_type": "markdown",
   "id": "9d319403-e79f-4a28-a94d-1c7184b83dcb",
   "metadata": {
    "editable": true,
    "slideshow": {
     "slide_type": ""
    },
    "tags": []
   },
   "source": [
    "### Adding a new item to the end of the list\n",
    "**Adding** an item **to** the **end** is not hard, but it **requires** that you **traverse the whole list** to reach the end."
   ]
  },
  {
   "cell_type": "code",
   "execution_count": null,
   "id": "3ecc2616-e469-486d-a77a-2a1c8a4a9e14",
   "metadata": {},
   "outputs": [],
   "source": [
    "# create a node with the data \"Moose\"\n",
    "new_node = Node(\"Moose\")\n",
    "\n",
    "# start at the head\n",
    "node = my_ll.head\n",
    "\n",
    "# traverse the list until we find the last node\n",
    "while node.next:\n",
    "    node = node.next\n",
    "\n",
    "# now \"node\" is the last node, so we point it to the new node\n",
    "node.next = new_node\n",
    "\n",
    "# print current list\n",
    "print_list(my_ll)"
   ]
  },
  {
   "cell_type": "markdown",
   "id": "ceafeafd-477f-4a46-83b0-c8746263e6ed",
   "metadata": {},
   "source": [
    "**Although functionally** it **may sound like inserting** at the **beginning or** the **end makes no difference**, we can see that **adding it to the end** will requiring **traversing all** the **nodes**. For a large list, that can make a **sitgnificant performance difference**."
   ]
  },
  {
   "cell_type": "markdown",
   "id": "43418437-28ab-4eb3-8cb3-9607649e2945",
   "metadata": {},
   "source": [
    "### Getting the first element in the list\n",
    "**Getting** the **first** element is very easy. You just **refer to the head**. So again, that will **only impact one node**."
   ]
  },
  {
   "cell_type": "code",
   "execution_count": null,
   "id": "b031caed-1b28-4393-89cd-2399b552d1b4",
   "metadata": {},
   "outputs": [],
   "source": [
    "# get the first element (check for empty list)\n",
    "print(f\"First element: {my_ll.head.data}\")"
   ]
  },
  {
   "cell_type": "markdown",
   "id": "b54bcb15-c812-416d-87e6-dda68c006b58",
   "metadata": {},
   "source": [
    "### Getting the last of the list\n",
    "**Getting** the last element will **require traversing** the **list** till the end. Not as effective as getting the first element."
   ]
  },
  {
   "cell_type": "code",
   "execution_count": null,
   "id": "9ec78101-cfd3-4600-a850-d78fee438750",
   "metadata": {},
   "outputs": [],
   "source": [
    "# traverse the list until we find the last node\n",
    "node = my_ll.head\n",
    "while node.next:\n",
    "    node = node.next\n",
    "\n",
    "# now \"node\" is the last node, so we set the dat from it\n",
    "print(f\"Last element: {node.data}\")"
   ]
  },
  {
   "cell_type": "markdown",
   "id": "62f6d2ba-c3d1-4cc0-b794-4933af154957",
   "metadata": {},
   "source": [
    "### Removing an item in the middle of the list\n",
    "**Removing** an **item** from the list is again all about **manipulating the pointers**. We'll write a function that can traverse a list, and delete an item matching a value. We will have to **adjust** the **pointer** for the **item before the one being deleted**, so we'll need keep track of the previous item as we traverse the list."
   ]
  },
  {
   "cell_type": "code",
   "execution_count": null,
   "id": "b88042a5-51a7-46f1-ae90-d3b794cfb1e5",
   "metadata": {},
   "outputs": [],
   "source": [
    "def delete_item(list, search_val):\n",
    "    # check for an empty list\n",
    "    if (list.head is None):\n",
    "        print(\"Empty list\")\n",
    "        return\n",
    "        \n",
    "    # if the item at the head is the one we need ...\n",
    "    if (list.head.data == search_val):\n",
    "        # simply adjust head to be the 2nd item\n",
    "        list.head = list.head.next\n",
    "        return\n",
    "\n",
    "    # keep track of the previous node\n",
    "    prev_node = list.head\n",
    "    # move the search node ahead (since we already checked the head)\n",
    "    node = list.head.next\n",
    "    \n",
    "    # traverse through the linked list looking for the search string\n",
    "    while node:\n",
    "        # if the current item is the one we need ...\n",
    "        if (node.data == search_val):\n",
    "            # redirect the previous node next pointer, to the current node next, which will skip the current item\n",
    "            prev_node.next = node.next\n",
    "            return\n",
    "    \n",
    "        # update the previous node, and move the search node ahead\n",
    "        prev_node = node\n",
    "        node = node.next"
   ]
  },
  {
   "cell_type": "markdown",
   "id": "89af607f-0d87-49ce-bbca-1852fc479219",
   "metadata": {},
   "source": [
    "Althout this **may look complicated** from a **code perspective**, note that **when** we **identified** the **item to delete**, we **only needed to manipulate the immediate items around it**. There was no need to impact any other items. That's **not the case in other data structures**. In an array for instance, since you cannot have an empty index, removing an item in the middle requires you to move back all the items after it to close that gap."
   ]
  },
  {
   "cell_type": "markdown",
   "id": "4a6ccac2-4c83-4e86-9bb0-afb7a1d0ffd9",
   "metadata": {},
   "source": [
    "Let's try out our function."
   ]
  },
  {
   "cell_type": "code",
   "execution_count": null,
   "id": "6e18b14b-8d79-45b5-ad4a-94cd3a6bdbdd",
   "metadata": {},
   "outputs": [],
   "source": [
    "# print the current list\n",
    "print(\"Current list: \", end=\"\")\n",
    "print_list(my_ll)\n",
    "\n",
    "# delete the \"Tucker\" item\n",
    "print(\"\\nDeleting an item ...\\n\")\n",
    "delete_item(my_ll, \"Tucker\")\n",
    "\n",
    "# print the updated list after delete\n",
    "print(\"Updated list: \", end=\"\")\n",
    "print_list(my_ll)"
   ]
  },
  {
   "cell_type": "markdown",
   "id": "a9e6f1cc-aa73-4440-802b-8bbfb41c2c05",
   "metadata": {},
   "source": [
    "# Full Featured Singly Linked List\n",
    "To create a full featured singly linked list, we just **add** the **code** implementing the operations we wrote earlier **into a class**"
   ]
  },
  {
   "cell_type": "markdown",
   "id": "aa02e954-ef59-4703-8a83-f342b98df579",
   "metadata": {},
   "source": [
    "## SinglyLL Class"
   ]
  },
  {
   "cell_type": "code",
   "execution_count": null,
   "id": "4f5badbd-ebdc-4881-8f22-36fc123bf4ef",
   "metadata": {},
   "outputs": [],
   "source": [
    "class SinglyLL:\n",
    "    '''\n",
    "    A singly linked list\n",
    "    '''\n",
    "    def __init__(self):\n",
    "        # initialize the head of the list\n",
    "        self.head = None\n",
    "\n",
    "    def insert(self, data):\n",
    "        '''\n",
    "        Insert an item at the beginning of the list\n",
    "\n",
    "        Parameters:\n",
    "            data: The data to be stored in the new node\n",
    "        '''\n",
    "        # create a new node with the data\n",
    "        new_node = Node(data)\n",
    "        # point the new node next pointer to the current head\n",
    "        new_node.next = self.head\n",
    "        # update the head pointer to point to the new node\n",
    "        self.head = new_node\n",
    "\n",
    "    def append(self, data):\n",
    "        '''\n",
    "        Insert an item at the end of the list\n",
    "\n",
    "        Parameters:\n",
    "            data: The data to be stored in the new node\n",
    "        '''\n",
    "        # create a new node with the data\n",
    "        new_node = Node(data)\n",
    "\n",
    "        # traverse the list until we find the last node\n",
    "        node = self.head\n",
    "        while node.next:\n",
    "            node = node.next\n",
    "\n",
    "        # now \"node\" is the last node, so we point it to thw new node\n",
    "        node.next = new_node\n",
    "\n",
    "    def get_first(self):\n",
    "        '''\n",
    "        Returns the first element in the list\n",
    "        '''\n",
    "        if (self.head):\n",
    "            return self.head.data\n",
    "        else:\n",
    "            return None\n",
    "\n",
    "    def get_last(self):\n",
    "        '''\n",
    "        Returns the last element in the list\n",
    "        '''\n",
    "        if (self.head is None):\n",
    "            return None\n",
    "            \n",
    "        # traverse the list until we find the last node\n",
    "        node = self.head\n",
    "        while node.next:\n",
    "            node = node.next\n",
    "        \n",
    "        # now \"node\" is the last node, so we get the data from it\n",
    "        return node.data\n",
    "\n",
    "    def get_all(self):\n",
    "        '''\n",
    "        Returns a list with all the values in order\n",
    "        '''\n",
    "        return_list = []\n",
    "            \n",
    "        # traverse the list until the end, and append each item\n",
    "        node = self.head\n",
    "        while node:\n",
    "            return_list.append(node.data)\n",
    "            node = node.next\n",
    "        \n",
    "        # return the list\n",
    "        return return_list\n",
    "            \n",
    "    def delete_item(self, search_val):\n",
    "        \n",
    "        if (self.head is None):\n",
    "            print(\"Empty list\")\n",
    "            return\n",
    "            \n",
    "        # if the item at the head is the one we need ...\n",
    "        if (self.head.data == search_val):\n",
    "            # simply adjust head to be the 2nd item\n",
    "            self.head = self.head.next\n",
    "            return\n",
    "    \n",
    "        # keep track of the previous node\n",
    "        prev_node = self.head\n",
    "        # move the search node ahead (since we already checked the head)\n",
    "        node = self.head.next\n",
    "        \n",
    "        # traverse through the linked list looking for the search string\n",
    "        while node:\n",
    "            # if the current item is the one we need ...\n",
    "            if (node.data == search_val):\n",
    "                # redirect the previous node next pointer, to the current node next, which will skip the current item\n",
    "                prev_node.next = node.next\n",
    "                return\n",
    "        \n",
    "            # update the previous node, and move the search node ahead\n",
    "            prev_node = node\n",
    "            node = node.next\n",
    "        \n",
    "    def __str__(self):\n",
    "        # initialize string\n",
    "        pr_str = \"\"\n",
    "\n",
    "        # traverse through the linked list and append each item\n",
    "        node = self.head\n",
    "        while node:\n",
    "            pr_str += node.data\n",
    "    \n",
    "            # If there is another item, print a separator\n",
    "            if node.next:\n",
    "                pr_str += \" --> \"\n",
    "    \n",
    "            # update node pointer to the next node\n",
    "            node = node.next\n",
    "\n",
    "        # return string constructed\n",
    "        return pr_str"
   ]
  },
  {
   "cell_type": "markdown",
   "id": "2a60a69d-e442-401b-a733-f886abb53e2d",
   "metadata": {},
   "source": [
    "## Repeat operations on the new class\n",
    "Now we can do all the same operations with simple calls to the new class"
   ]
  },
  {
   "cell_type": "code",
   "execution_count": null,
   "id": "b7f651cb-93dc-467f-98e2-c8cb2b30d599",
   "metadata": {},
   "outputs": [],
   "source": [
    "# create a new linked list\n",
    "my_ll = SinglyLL()\n",
    "print(\"\\nCreating list, and adding four elements ...\\n\")\n",
    "\n",
    "# add data to the beginning of the list\n",
    "my_ll.insert(\"Tucker\")\n",
    "my_ll.insert(\"Finn\")\n",
    "\n",
    "# add a few more items to the end of the list\n",
    "my_ll.append(\"Lexi\")\n",
    "my_ll.append(\"Moose\")\n",
    "\n",
    "# print current list\n",
    "print(f\"Current list: {my_ll}\")\n",
    "\n",
    "# print first and last elements\n",
    "print(f\"\\nFirst element: {my_ll.get_first()}\\nLast element: {my_ll.get_last()}\")"
   ]
  },
  {
   "cell_type": "code",
   "execution_count": null,
   "id": "7f078320-263a-45f2-b00e-3c586b263fe1",
   "metadata": {},
   "outputs": [],
   "source": [
    "# delete item in the middle\n",
    "print(\"\\nDeleting Lexi ...\\n\")\n",
    "my_ll.delete_item(\"Lexi\")\n",
    "\n",
    "# print updated list\n",
    "print(f\"Updated list: {my_ll}\")"
   ]
  },
  {
   "cell_type": "code",
   "execution_count": null,
   "id": "5c1722f2-d589-4f53-b523-fe3b7b69911c",
   "metadata": {},
   "outputs": [],
   "source": [
    "# delete first item\n",
    "print(\"\\nDeleting Finn ...\\n\")\n",
    "my_ll.delete_item(\"Finn\")\n",
    "\n",
    "# print updated list\n",
    "print(f\"Updated list: {my_ll}\")"
   ]
  },
  {
   "cell_type": "markdown",
   "id": "5eb9b469-efa5-402a-bbc1-bf27fc36e59f",
   "metadata": {},
   "source": [
    "# Doubly Linked List\n",
    "A **double linked list** will follow the **same principles**, but will simply have **pointers in both directions**. So not only we have a *head* and *next* **pointers**, but we **also** have a ***tail*** and ***prev*** **pointers**."
   ]
  },
  {
   "cell_type": "markdown",
   "id": "b14ee1e5-76fb-4e43-a62f-851ed0a2afc3",
   "metadata": {},
   "source": [
    "**Maintaining** these **extra pointers** takes **more space**, **but** it will make **some operations** much **more efficient**. "
   ]
  },
  {
   "cell_type": "markdown",
   "id": "a89b8420-8976-4b68-9925-b35baca0633e",
   "metadata": {},
   "source": [
    "## Node Class\n",
    "The Node class for a doubly linked list is similar, but **needs** the extra ***prev* pointer**"
   ]
  },
  {
   "cell_type": "code",
   "execution_count": null,
   "id": "68b56549-1eb9-4a7d-a7c6-9aedfb241586",
   "metadata": {},
   "outputs": [],
   "source": [
    "class Node:\n",
    "    '''\n",
    "    Node for a singly linked list\n",
    "    '''\n",
    "    def __init__(self, data):\n",
    "        '''\n",
    "        Parameters:\n",
    "            data: The data to be stored in the node\n",
    "            next: Pointer to the next node\n",
    "            prev: Pointer to the previous node\n",
    "        '''\n",
    "        self.data = data\n",
    "        self.next = None\n",
    "        self.prev = None"
   ]
  },
  {
   "cell_type": "markdown",
   "id": "a6f6e139-3ca3-4954-94ac-da1c109e0e4e",
   "metadata": {},
   "source": [
    "## DoublyLL Class\n",
    "Pay close attention to the ***append*** and ***get_last*** operations, to see how **more efficient** they are with **no need** to **traverse** the **whole list**."
   ]
  },
  {
   "cell_type": "code",
   "execution_count": null,
   "id": "f9b30429-8165-45d9-9e9f-6a4e3cb32fa5",
   "metadata": {},
   "outputs": [],
   "source": [
    "class DoublyLL:\n",
    "    '''\n",
    "    A singly linked list\n",
    "    '''\n",
    "    def __init__(self):\n",
    "        # initialize the head of the list\n",
    "        self.head = None\n",
    "        self.tail = None\n",
    "\n",
    "    def insert(self, data):\n",
    "        '''\n",
    "        Insert an item at the beginning of the list\n",
    "\n",
    "        Parameters:\n",
    "            data: The data to be stored in the new node\n",
    "        '''\n",
    "        # create a new node with the data\n",
    "        new_node = Node(data)\n",
    "\n",
    "        # if the list was empty, just set head and tail to new node\n",
    "        if self.head is None:\n",
    "            self.head = new_node\n",
    "            self.tail = new_node\n",
    "            return\n",
    "            \n",
    "        # point the new node next pointer to the current head\n",
    "        new_node.next = self.head\n",
    "        # update the current head node to point back to the new node\n",
    "        self.head.prev = new_node\n",
    "        # update the head pointer to point to the new node\n",
    "        self.head = new_node\n",
    "\n",
    "\n",
    "    def append(self, data):\n",
    "        '''\n",
    "        Insert an item at the end of the list\n",
    "\n",
    "        Parameters:\n",
    "            data: The data to be stored in the new node\n",
    "        '''\n",
    "        # create a new node with the data\n",
    "        new_node = Node(data)\n",
    "\n",
    "        # if the list was empty, just set head and tail to new node\n",
    "        if self.tail is None:\n",
    "            self.head = new_node\n",
    "            self.tail = new_node\n",
    "            return\n",
    "            \n",
    "        # point the new node prev pointer to the current tail\n",
    "        new_node.prev = self.tail\n",
    "        # update the current tail node to point forward to the new node\n",
    "        self.tail.next = new_node\n",
    "        # update the tail pointer to point to the new node\n",
    "        self.tail = new_node\n",
    "\n",
    "\n",
    "    def get_first(self):\n",
    "        '''\n",
    "        Returns the first element in the list\n",
    "        '''\n",
    "        if (self.head):\n",
    "            return self.head.data\n",
    "        else:\n",
    "            return None\n",
    "\n",
    "    def get_last(self):\n",
    "        '''\n",
    "        Returns the last element in the list\n",
    "        '''\n",
    "        if (self.tail):\n",
    "            return self.tail.data\n",
    "        else:\n",
    "            return None\n",
    "\n",
    "    def get_all(self):\n",
    "        '''\n",
    "        Returns a list with all the node values in order\n",
    "        '''\n",
    "        return_list = []\n",
    "            \n",
    "        # traverse the list until the end, and append each item\n",
    "        node = self.head\n",
    "        while node:\n",
    "            return_list.append(node.data)\n",
    "            node = node.next\n",
    "        \n",
    "        # return the list\n",
    "        return return_list\n",
    "            \n",
    "    def delete_item(self, search_val):\n",
    "        '''\n",
    "        Delete an item from the list\n",
    "\n",
    "        Parameters:\n",
    "            search_val: value to delete\n",
    "        '''\n",
    "        # check for an empty list\n",
    "        if (self.head is None):\n",
    "            print(\"Empty list\")\n",
    "            return\n",
    "            \n",
    "        # traverse through the linked list till the end or until target item is found\n",
    "        target_node = None\n",
    "        node = self.head\n",
    "        while node and (not target_node):\n",
    "            # if the current item is the one we need ...\n",
    "            if (node.data == search_val):\n",
    "                # redirect the previous node next pointer, to the current node next, which will skip the current item\n",
    "                target_node = node\n",
    "            # update node to the next one\n",
    "            node = node.next\n",
    "\n",
    "        # if node was not found do nothing\n",
    "        if (not target_node):\n",
    "            return\n",
    "\n",
    "        # if there was only one item ...\n",
    "        if self.head == self.tail:\n",
    "            # set both head and tail to None\n",
    "            self.head = None\n",
    "            self.tail = None\n",
    "        \n",
    "        # if target_node was the head ...\n",
    "        elif (target_node == self.head):\n",
    "            # adjust head to be the next item after\n",
    "            self.head = target_node.next\n",
    "            # reset the new heard item previous to None\n",
    "            self.head.prev = None\n",
    "\n",
    "        # if target_node was the tail ...\n",
    "        elif (target_node == self.tail):\n",
    "            # adjust tail to be the previous item\n",
    "            self.tail = target_node.prev\n",
    "            # reset the new tail item previous to None\n",
    "            self.tail.next = None\n",
    "            return\n",
    "        # else, redirect previos and next pointer on the item before and after\n",
    "        else:\n",
    "            # redirect the previous node next pointer, to the current node next, which will skip the target item\n",
    "            target_node.prev.next = target_node.next\n",
    "            # redirect the next node prev pointer, to the current node prev, which will skip the target item\n",
    "            target_node.next.prev = target_node.prev\n",
    "        \n",
    "    def __str__(self):\n",
    "        # initialize string\n",
    "        pr_str = \"\"\n",
    "\n",
    "        # traverse through the linked list and append each item\n",
    "        node = self.head\n",
    "        while node:\n",
    "            pr_str += node.data\n",
    "    \n",
    "            # If there is another item, print a separator\n",
    "            if node.next:\n",
    "                pr_str += \" <--> \"\n",
    "    \n",
    "            # update node pointer to the next node\n",
    "            node = node.next\n",
    "\n",
    "        # return string constructed\n",
    "        return pr_str"
   ]
  },
  {
   "cell_type": "markdown",
   "id": "ac9e343f-0613-4b69-bd55-b0b70917b89b",
   "metadata": {},
   "source": [
    "## Repeat operations on the new class\n",
    "Now we can do all the same operations with simple calls to the new class"
   ]
  },
  {
   "cell_type": "code",
   "execution_count": null,
   "id": "79d66395-8f8a-4cf7-be9d-2e816f26f732",
   "metadata": {},
   "outputs": [],
   "source": [
    "# create a new linked list\n",
    "my_ll = DoublyLL()\n",
    "print(\"\\nCreating list, and adding four elements ...\\n\")\n",
    "\n",
    "# add data to the beginning of the list\n",
    "my_ll.insert(\"Tucker\")\n",
    "my_ll.insert(\"Finn\")\n",
    "\n",
    "# add a few more items to the end of the list\n",
    "my_ll.append(\"Lexi\")\n",
    "my_ll.append(\"Moose\")\n",
    "\n",
    "# print current list\n",
    "print(f\"Current list: {my_ll}\")"
   ]
  },
  {
   "cell_type": "code",
   "execution_count": null,
   "id": "b41ffd9a-6dd1-454b-bd70-6c31474e29a2",
   "metadata": {},
   "outputs": [],
   "source": [
    "# delete item in the middle\n",
    "print(\"\\nDeleting Lexi ...\\n\")\n",
    "my_ll.delete_item(\"Lexi\")\n",
    "\n",
    "# print updated list\n",
    "print(f\"Updated list: {my_ll}\")"
   ]
  },
  {
   "cell_type": "code",
   "execution_count": null,
   "id": "b8aa6e30-8190-43b1-9485-0add4220ed0c",
   "metadata": {},
   "outputs": [],
   "source": [
    "# delete first item\n",
    "print(\"\\nDeleting Finn ...\\n\")\n",
    "my_ll.delete_item(\"Finn\")\n",
    "\n",
    "# print updated list\n",
    "print(f\"Updated list: {my_ll}\")"
   ]
  },
  {
   "cell_type": "markdown",
   "id": "ddf400c9-46e3-4264-8a4e-4e3824b288ca",
   "metadata": {},
   "source": [
    "# <span style=\"color:blue\"> OPTIONAL"
   ]
  },
  {
   "attachments": {},
   "cell_type": "markdown",
   "id": "a648d4bf-aa8f-49a3-a9ac-01e5b888a20b",
   "metadata": {},
   "source": [
    "We discussed stacks earlier. Let's **implement** a **stack** using our own **DoublyLL class**. At a minimum, we will need to **implement** a *push()* and a *pop()*."
   ]
  },
  {
   "cell_type": "markdown",
   "id": "a418c5f2-aeeb-4c67-9d57-e8dfd7354657",
   "metadata": {},
   "source": [
    "### MyStack Class"
   ]
  },
  {
   "cell_type": "code",
   "execution_count": null,
   "id": "08e66b05-b0b8-4055-b978-77085e789430",
   "metadata": {},
   "outputs": [],
   "source": [
    "class MyStack:\n",
    "    '''\n",
    "    A stack implemented using a Doubly Linked List. We'll consider the beginning of the list as the top, and the\n",
    "    end of the list as the bottom.\n",
    "    '''\n",
    "    def __init__(self):\n",
    "        self.stack_list = DoublyLL()\n",
    "\n",
    "    def push(self, item):\n",
    "        '''\n",
    "        Push an item onto the stack, by adding it to the begginning.\n",
    "\n",
    "        Parameters:\n",
    "            item: The item to be pushed onto the stack\n",
    "        '''\n",
    "        self.stack_list.insert(item)\n",
    "\n",
    "    def pop(self):\n",
    "        '''\n",
    "        Pop an item from the stack, by retrieving it from the beginning, and removing it.\n",
    "\n",
    "        Returns:\n",
    "            The item popped from the stack, or None if the stack is empty\n",
    "        '''\n",
    "        # retrieve first item\n",
    "        item = self.stack_list.get_first()\n",
    "        # delete first item\n",
    "        self.stack_list.delete_item(item)\n",
    "        # return item\n",
    "        return item\n",
    "\n",
    "    def __str__(self):\n",
    "        # get all the notes in the list\n",
    "        node_list = self.stack_list.get_all()\n",
    "        \n",
    "        output = \"[TOP]\\n\"\n",
    "        for item in node_list:\n",
    "            output += f\"{item}\\n\"\n",
    "        output += \"[BOTTOM]\"\n",
    "        return output"
   ]
  },
  {
   "cell_type": "markdown",
   "id": "b9d442a8-4394-48e0-9ba9-e6a8bfe3892d",
   "metadata": {},
   "source": [
    "#### Perform stack operations"
   ]
  },
  {
   "cell_type": "code",
   "execution_count": null,
   "id": "98d347de-41cf-432b-ab05-38db1d3d4d49",
   "metadata": {},
   "outputs": [],
   "source": [
    "# Create a stack\n",
    "my_stack = MyStack()\n",
    "\n",
    "# push some items to the stack\n",
    "print(f\"\\nPushing 3 items to the stack ...\")\n",
    "my_stack.push(\"Tucker\")\n",
    "my_stack.push(\"Finn\")\n",
    "my_stack.push(\"Lexi\")\n",
    "\n",
    "# print the stack\n",
    "print(f\"\\nStack:\\n{my_stack}\")\n",
    "\n",
    "# pop the top item in the stack\n",
    "print(f\"\\nPop item: {my_stack.pop()}\")\n",
    "\n",
    "# print the stack\n",
    "print(f\"\\nStack now is:\\n{my_stack}\")\n",
    "\n",
    "# push another item to the stack\n",
    "print(f\"\\nPushing Moose to stack ...\")\n",
    "my_stack.push(\"Moose\")\n",
    "\n",
    "# print the stack\n",
    "print(f\"\\nStack now is:\\n{my_stack}\")"
   ]
  },
  {
   "cell_type": "code",
   "execution_count": null,
   "id": "3d1b396c-90cf-4bc7-b7a4-f28b33fadfe8",
   "metadata": {
    "editable": true,
    "slideshow": {
     "slide_type": ""
    },
    "tags": []
   },
   "outputs": [],
   "source": []
  }
 ],
 "metadata": {
  "kernelspec": {
   "display_name": "Python 3 (ipykernel)",
   "language": "python",
   "name": "python3"
  },
  "language_info": {
   "codemirror_mode": {
    "name": "ipython",
    "version": 3
   },
   "file_extension": ".py",
   "mimetype": "text/x-python",
   "name": "python",
   "nbconvert_exporter": "python",
   "pygments_lexer": "ipython3",
   "version": "3.9.2"
  }
 },
 "nbformat": 4,
 "nbformat_minor": 5
}
