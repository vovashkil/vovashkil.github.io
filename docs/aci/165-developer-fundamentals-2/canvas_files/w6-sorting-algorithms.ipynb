{
 "cells": [
  {
   "cell_type": "markdown",
   "id": "c673a935-375b-4dd4-8e43-1c802f5c4afe",
   "metadata": {},
   "source": [
    "# <span style=\"color:blue\">Sorting algorithms\n",
    "AWS CLOUD INSTITUTE: PROVIDED FOR EDUCATIONAL INSTRUCTIONAL PURPOSES ONLY."
   ]
  },
  {
   "cell_type": "markdown",
   "id": "a16dc174-65b5-4036-a61d-6d399c5575e4",
   "metadata": {
    "editable": true,
    "slideshow": {
     "slide_type": ""
    },
    "tags": []
   },
   "source": [
    "# Sorting Algorithms\n",
    "In **most cases**, we should be able to **use** the **built-in Python *sort()*** method and ***sorted()*** functions. **However** it's **helpful to understand** the characteristics of popular **searching algorithms**. This will help us understand **time complexity differences, and interesting examples of recursion**. We'll focus our discussion on three well known algorithms.\n",
    "- Bubble sort\n",
    "- Merge sort\n",
    "- Quicksort"
   ]
  },
  {
   "attachments": {},
   "cell_type": "markdown",
   "id": "22175a91-ca7b-4c5a-8527-8d405a8dd3ad",
   "metadata": {},
   "source": [
    "## Bubble Sort\n",
    "In bubble sort, **adjacent elements in a list are compared and swapped** until the entire list is sorted. Elements \"bubble\" to their correct position in the list. "
   ]
  },
  {
   "cell_type": "markdown",
   "id": "f7034d8e-b928-4e2a-90e8-97825bad65cc",
   "metadata": {},
   "source": [
    "### Bubble sort implementation"
   ]
  },
  {
   "cell_type": "code",
   "execution_count": null,
   "id": "df68889d-8cac-4118-b2b3-3d2f3e2a355e",
   "metadata": {},
   "outputs": [],
   "source": [
    "def bubble_sort(my_list):\n",
    "    \"\"\"\n",
    "    Sorts the given list using the Bubble Sort algorithm.\n",
    "    This algorithm modifies the list in place.\n",
    "    \"\"\"\n",
    "    # Get the length of the list\n",
    "    n = len(my_list)\n",
    "\n",
    "    # Outer loop to traverse through the list\n",
    "    for i in range(n):\n",
    "        # Inner loop to compare adjacent elements\n",
    "        for j in range(0, n-i-1):\n",
    "            # Compare adjacent elements\n",
    "            if my_list[j] > my_list[j+1]:\n",
    "                # Swap elements if they are in the wrong order\n",
    "                my_list[j], my_list[j+1] = my_list[j+1], my_list[j]\n",
    "                \n",
    "    # Return the sorted list\n",
    "    return my_list  "
   ]
  },
  {
   "cell_type": "markdown",
   "id": "c3335fdc-e280-48b2-ac93-1a858c31c6fa",
   "metadata": {},
   "source": [
    "### Basic test"
   ]
  },
  {
   "cell_type": "code",
   "execution_count": null,
   "id": "171dc291-b13f-49f3-bf73-84c9f43593d5",
   "metadata": {},
   "outputs": [],
   "source": [
    "# define a simple list\n",
    "int_list = [8, 5, 2, 4, 3, 1, 10, 9, 7, 6]\n",
    "print(f\"Original list: {int_list}\")\n",
    "\n",
    "# sort the list\n",
    "sorted_list = bubble_sort(int_list)\n",
    "\n",
    "# print sorted lists\n",
    "print(f\"Sorted list: {sorted_list}\")"
   ]
  },
  {
   "cell_type": "markdown",
   "id": "b4a3dff8-98e8-4acc-8fd8-f23b1b08b865",
   "metadata": {},
   "source": [
    "#### Does the original list get changed?"
   ]
  },
  {
   "cell_type": "code",
   "execution_count": null,
   "id": "706c0d93-9f17-4772-9519-387df0e946c9",
   "metadata": {},
   "outputs": [],
   "source": [
    "print(f\"Original list after sorting: {int_list}\")"
   ]
  },
  {
   "cell_type": "markdown",
   "id": "801e1cc8-6e0d-48d9-8aa1-6ac66b21e8a2",
   "metadata": {},
   "source": [
    "Yes, the algorithm modifies the input list. If we didn't want that behavior, we could make a copy before calling it."
   ]
  },
  {
   "cell_type": "markdown",
   "id": "3ab781bc-33c2-4467-bf9e-e6cae12531c1",
   "metadata": {},
   "source": [
    "### Modified version with print statements\n",
    "Let's create a **modified version**, **with print statements** (hence the \"_wp\" in the name, as in \"with print\") to **visualize what happens** during the sorting processing."
   ]
  },
  {
   "cell_type": "code",
   "execution_count": null,
   "id": "3556e6b9-3aa3-4e0e-8356-c240a1152325",
   "metadata": {},
   "outputs": [],
   "source": [
    "def bubble_sort_wp(my_list):\n",
    "    \"\"\"\n",
    "    Sorts the given list using the Bubble Sort algorithm.\n",
    "    This algorithm modifies the list in place.\n",
    "    \"\"\"\n",
    "    # Get the length of the list\n",
    "    n = len(my_list)\n",
    "\n",
    "    # Outer loop to traverse through the list\n",
    "    for i in range(n):\n",
    "        print(f\"\\nITERATION {i+1} - List: {my_list}\")\n",
    "        for j in range(0, n-i-1):\n",
    "            print(f\"   Comparing ({my_list[j]}, {my_list[j+1]}) ...\")\n",
    "            # Compare adjacent elements\n",
    "            if my_list[j] > my_list[j+1]:\n",
    "                # Swap elements if they are in the wrong order\n",
    "                my_list[j], my_list[j+1] = my_list[j+1], my_list[j]\n",
    "                print(f\"   SWAP ({my_list[j]}, {my_list[j+1]}) - Updated list: {my_list}\")\n",
    "            else:\n",
    "                print(f\"   NO swap - List not changed: {my_list}\")\n",
    "    \n",
    "    # Return the sorted list\n",
    "    return my_list"
   ]
  },
  {
   "cell_type": "markdown",
   "id": "a9957173-9010-4a9e-adfb-5b8ac663cc9d",
   "metadata": {},
   "source": [
    "#### Smaller test\n",
    "Let's test with a small list, because this will print a lot."
   ]
  },
  {
   "cell_type": "code",
   "execution_count": null,
   "id": "6af56006-3954-453e-ae14-ac0707d62667",
   "metadata": {},
   "outputs": [],
   "source": [
    "# define a small list\n",
    "int_list = [5, 2, 4, 1, 3]\n",
    "\n",
    "# sort the list\n",
    "sorted_list = bubble_sort_wp(int_list)\n",
    "\n",
    "# print sorted lists\n",
    "print(f\"\\nFinal sorted list: {sorted_list}\")"
   ]
  },
  {
   "cell_type": "markdown",
   "id": "d6015a3c-466c-4ddd-ab44-cfe1aac241c0",
   "metadata": {},
   "source": [
    "Note that the **last two iterations** were **wasted**. In fact, if we call our **standard bubble_sort with a fully sorted list**, it will **take as long** as one **completely unsorted**. Let's see that."
   ]
  },
  {
   "cell_type": "code",
   "execution_count": null,
   "id": "cd41ab31-c291-459b-99d9-63cac0a9ca09",
   "metadata": {},
   "outputs": [],
   "source": [
    "# define a small list\n",
    "int_list = [1, 2, 3, 4, 5]\n",
    "\n",
    "# sort the list\n",
    "sorted_list = bubble_sort_wp(int_list)\n",
    "\n",
    "# print sorted lists\n",
    "print(f\"\\nFinal sorted list: {sorted_list}\")"
   ]
  },
  {
   "cell_type": "markdown",
   "id": "49fa1315-2f25-438c-a647-ef052326ead9",
   "metadata": {},
   "source": [
    "The code still went through all the iterations, even though it didn't have to change anything. Can we improve that?"
   ]
  },
  {
   "cell_type": "markdown",
   "id": "54bf63a6-6d0e-4a2c-adda-cbb477b604fd",
   "metadata": {},
   "source": [
    "### <span style=\"color:blue\">OPTIONAL:</span> Enhanced bubble sort with early exit\n",
    "This version will **track whether swaps occurred**, and **exit earlier** if we are done."
   ]
  },
  {
   "cell_type": "code",
   "execution_count": null,
   "id": "14ccc5d7-3561-46e6-95cc-6f7df7a71d25",
   "metadata": {},
   "outputs": [],
   "source": [
    "def bubble_sort_enhanced_wp(my_list):\n",
    "    \"\"\"\n",
    "    Sorts the given list using the Bubble Sort algorithm.\n",
    "    This algorithm modifies the list in place.\n",
    "    \"\"\"\n",
    "    # Get the length of the list\n",
    "    n = len(my_list)\n",
    "\n",
    "    # Outer loop to traverse through the list\n",
    "    for i in range(n):\n",
    "        # initialize variable to track whether any swaps occurred\n",
    "        swapped = False\n",
    "    \n",
    "        print(f\"-------- Iteration {i+1} --------\")\n",
    "        for j in range(0, n-i-1):\n",
    "            # Compare adjacent elements\n",
    "            if my_list[j] > my_list[j+1]:\n",
    "                # Swap elements if they are in the wrong order\n",
    "                my_list[j], my_list[j+1] = my_list[j+1], my_list[j]\n",
    "                print(f\"Swapped ({my_list[j]}, {my_list[j+1]}) - List: {my_list}\")\n",
    "\n",
    "                # update flag to indicate a swap occurred\n",
    "                swapped = True\n",
    "\n",
    "        # if no swaps occurred, the list is already sorted, so we can stop\n",
    "        if not swapped:\n",
    "            print(\"No swaps occurred. We are done!\")\n",
    "            break\n",
    "    \n",
    "    # Return the sorted list\n",
    "    return my_list"
   ]
  },
  {
   "cell_type": "markdown",
   "id": "641daa99-5f54-41e9-a59b-59543337d16c",
   "metadata": {},
   "source": [
    "#### Test with an almost sorted lists"
   ]
  },
  {
   "cell_type": "code",
   "execution_count": null,
   "id": "04de64df-2e1e-4fd0-8ffe-7894a76f9369",
   "metadata": {},
   "outputs": [],
   "source": [
    "# define a small list\n",
    "int_list = [1, 4, 3, 2, 5]\n",
    "\n",
    "# sort the list\n",
    "sorted_list = bubble_sort_enhanced_wp(int_list)\n",
    "\n",
    "# print sorted lists\n",
    "print(f\"\\nFinal sorted list: {sorted_list}\")"
   ]
  },
  {
   "cell_type": "markdown",
   "id": "1b8e876a-0d36-4f68-8376-c3c2a137459a",
   "metadata": {},
   "source": [
    "#### Clean Enhanced bubble sort version\n",
    "Let's have a clean version of the enhanced bubble sort, so we can use for comparisons later. **Nothing changed, but** just **removing** the **print statements.**"
   ]
  },
  {
   "cell_type": "code",
   "execution_count": null,
   "id": "aaa3642d-1910-479b-b1ac-08dddb10d519",
   "metadata": {},
   "outputs": [],
   "source": [
    "def bubble_sort_enhanced(my_list):\n",
    "    \"\"\"\n",
    "    Sorts the given list using the Bubble Sort algorithm.\n",
    "    This algorithm modifies the list in place.\n",
    "    \"\"\"\n",
    "    # Get the length of the list\n",
    "    n = len(my_list)\n",
    "\n",
    "    # Outer loop to traverse through the list\n",
    "    for i in range(n):\n",
    "        # initialize variable to track whether any swaps occurred\n",
    "        swapped = False\n",
    "    \n",
    "        for j in range(0, n-i-1):\n",
    "            # Compare adjacent elements\n",
    "            if my_list[j] > my_list[j+1]:\n",
    "                # Swap elements if they are in the wrong order\n",
    "                my_list[j], my_list[j+1] = my_list[j+1], my_list[j]\n",
    "\n",
    "                # update flag to indicate a swap occurred\n",
    "                swapped = True\n",
    "\n",
    "        # if no swaps occurred, the list is already sorted, so we can stop\n",
    "        if not swapped:\n",
    "            break\n",
    "    \n",
    "    # Return the sorted list\n",
    "    return my_list"
   ]
  },
  {
   "cell_type": "markdown",
   "id": "d66f9b9b-89f5-4bda-a92e-b6787da7946d",
   "metadata": {},
   "source": [
    "### Bubble sort complexity analysis\n",
    "**With** that **nested loop**, we can see that in the **worst case**, the **inner loop** will **execute *n* times** for **every** one of the ***n* iterations of** the **outer loop**. So we will execute **(n \\* n)** steps, or **n<sup>2</sup>**.\n",
    "- **Time complexity: <span style=\"color:blue\">O(n<sup>2</sup>)**</span>\n",
    "- **Space complexity: <span style=\"color:blue\">O(1)**</span>"
   ]
  },
  {
   "attachments": {},
   "cell_type": "markdown",
   "id": "5dbfbfca-7b52-4040-91f2-187250dbc8b4",
   "metadata": {},
   "source": [
    "## Merge Sort\n",
    "Merge sort **divides an array into smaller sub-arrays, sorts every sub-array, and then merges the sorted sub-arrays back together** to form the final sorted array. It is **based on** the **divide-and-conquer strategy** using recursion."
   ]
  },
  {
   "cell_type": "markdown",
   "id": "206c3dc1-4020-48d4-aa32-a94a3873dc10",
   "metadata": {},
   "source": [
    "### Merge sort implementation\n",
    "Merge sort is a **divide and conquer algorithm**, and in it there is a **very clear split of these phases**.\n",
    "- The main ***merge_sort* function** is the one initially calles, and **recursively divides equally** the **lists into smaller sublists**\n",
    "- Then, the ***ordered_merge* functions** **merges** the two **sublists** while **ordering** the **elements**."
   ]
  },
  {
   "cell_type": "markdown",
   "id": "335ed391-22e2-4d19-aa30-b752ec23c3d0",
   "metadata": {},
   "source": [
    "#### The main *merge_sort()* function\n",
    "This is the function that will be initially called. It will do the job of recursively splitting the lists, and then calling ordered_merge to put them together in sorted order."
   ]
  },
  {
   "cell_type": "code",
   "execution_count": null,
   "id": "2498b35f-fd2b-4133-9c64-c3a0540030f6",
   "metadata": {},
   "outputs": [],
   "source": [
    "def merge_sort(my_list):\n",
    "    '''\n",
    "    The merge_sort function follows the divide-and-conquer approach to sort the input list.\n",
    "    It works by recursively dividing the input array into two halves, sorting each half,\n",
    "    and then merging the sorted halves back together into a single sorted array.\n",
    "    '''\n",
    "    \n",
    "    # Base case: if my list length is 1 or 0, then there is nothing to split\n",
    "    if len(my_list) <= 1:\n",
    "        return my_list\n",
    "\n",
    "    # split the list in two halves\n",
    "    mid = len(my_list) // 2\n",
    "    left_half = my_list[:mid]\n",
    "    right_half = my_list[mid:]\n",
    "          \n",
    "    # recursively sort the two halves\n",
    "    left_half = merge_sort(left_half)\n",
    "    right_half = merge_sort(right_half)\n",
    "\n",
    "    # merge the sorted halves\n",
    "    return ordered_merge(left_half, right_half)"
   ]
  },
  {
   "cell_type": "markdown",
   "id": "ab9a36c3-8e71-4030-8b67-580742560601",
   "metadata": {},
   "source": [
    "#### The *ordered_merge()* function\n",
    "This *ordered_merge* function does most of the actual sorting. Some implementations just call it simply *merge*, but I find that to be an \"disservice\" to the function. Because ***ordered_merge*** is **not simply merging lists**, **but** it's **making sure** the **items** are **merged in order**."
   ]
  },
  {
   "cell_type": "code",
   "execution_count": null,
   "id": "817ec217-ab52-4489-a0aa-34a688a791fc",
   "metadata": {},
   "outputs": [],
   "source": [
    "def ordered_merge(left_list, right_list):\n",
    "    '''\n",
    "    The merge function is responsible for merging the sorted left and right halves\n",
    "    into a single sorted array. It is called after the recursive calls to merge_sort\n",
    "    have sorted the left and right halves.\n",
    "    '''\n",
    "    # initialize a result list\n",
    "    result = []\n",
    "\n",
    "    # Iterate simultaneously through left an right lists\n",
    "    # The iteration is not symetrical, alternating left an right.\n",
    "    # It will pick the smallest elements first, from either list.\n",
    "    # This means any leftover items, will be guarantee to be larger\n",
    "    left_idx = right_idx = 0\n",
    "    while left_idx < len(left_list) and right_idx < len(right_list):\n",
    "        # if the left item is smaller or equal ...\n",
    "        if left_list[left_idx] <= right_list[right_idx]:\n",
    "            # add the left element, and move the left index forward\n",
    "            result.append(left_list[left_idx])\n",
    "            left_idx += 1\n",
    "        # else, the right element is smaller ...\n",
    "        else:\n",
    "            # add the right element, and move the right index forward\n",
    "            result.append(right_list[right_idx])\n",
    "            right_idx += 1\n",
    "\n",
    "    # After the loop, we might have left over items, but based on the logic\n",
    "    # of the loop, they will certainly be larger, so we add them to the end.\n",
    "    # It's ok if one of the lists we are adding is empty. The extend method\n",
    "    # will simply not extend anything\n",
    "    result.extend(left_list[left_idx:])\n",
    "    result.extend(right_list[right_idx:])\n",
    "    \n",
    "    return result\n"
   ]
  },
  {
   "cell_type": "markdown",
   "id": "69183c0b-b29b-4928-9de0-3a3640d45219",
   "metadata": {},
   "source": [
    "### Quick test"
   ]
  },
  {
   "cell_type": "code",
   "execution_count": null,
   "id": "3efff5a4-2265-48f0-bb0c-0f1cfd3789f0",
   "metadata": {},
   "outputs": [],
   "source": [
    "# define a small list\n",
    "int_list = [4, 6, 1, 2, 5, 3]\n",
    "\n",
    "# sort the list\n",
    "sorted_list = merge_sort(int_list)\n",
    "\n",
    "# print sorted lists\n",
    "print(f\"\\nSorted list: {sorted_list}\")"
   ]
  },
  {
   "cell_type": "markdown",
   "id": "1316370c-d9e1-49af-a4db-d12895ac5c19",
   "metadata": {},
   "source": [
    "#### Was my original list changed?"
   ]
  },
  {
   "cell_type": "code",
   "execution_count": null,
   "id": "c2cc069f-584b-451f-8dbb-dda48289cf71",
   "metadata": {},
   "outputs": [],
   "source": [
    "#print original list\n",
    "print(f\"\\nOriginal list: {int_list}\")"
   ]
  },
  {
   "cell_type": "markdown",
   "id": "0c022df1-f82c-4a5a-9e73-340e27e2b861",
   "metadata": {},
   "source": [
    "**No**. This algorithm is **not changing** the **list in place**. If we look at it, we can see ***ordered_merge*** **creates** a **new *result* list** to accumulate the sorted values."
   ]
  },
  {
   "cell_type": "markdown",
   "id": "e62535e5-7af5-4f7b-af11-b8bd8f048676",
   "metadata": {},
   "source": [
    "### Modified version with print statements\n",
    "Once again, let's create a **modified version**, **with print statements** to **visualize what happens** during the sorting processing. Since we are using recursion, we'll also **add** an ***rlevel* parameter** to **track how far into the recursions we are**, so we can do some fancy indenting."
   ]
  },
  {
   "cell_type": "markdown",
   "id": "1129f390-4352-4b19-a677-f9305dede607",
   "metadata": {},
   "source": [
    "#### The main *merge_sort_wp()* function"
   ]
  },
  {
   "cell_type": "code",
   "execution_count": null,
   "id": "5563628d-1f7e-4896-874d-926cc4d02830",
   "metadata": {},
   "outputs": [],
   "source": [
    "def merge_sort_wp(my_list, rlevel = 0):\n",
    "    '''\n",
    "    The merge_sort function follows the divide-and-conquer approach to sort the input list.\n",
    "    It works by recursively dividing the input array into two halves, sorting each half,\n",
    "    and then merging the sorted halves back together into a single sorted array.\n",
    "    '''\n",
    "    \n",
    "    # Base case: if my list length is 1 or 0, then there is nothing to split\n",
    "    print()\n",
    "    print(\"\".rjust(rlevel*4) + f\">>> Sorting: {my_list}\")\n",
    "    if len(my_list) <= 1:\n",
    "        print(\"\".rjust(rlevel*4) + f\"<< Returning sorted: {my_list}\")\n",
    "        return my_list\n",
    "\n",
    "    # split the list in two halves\n",
    "    mid = len(my_list) // 2\n",
    "    left_half = my_list[:mid]\n",
    "    right_half = my_list[mid:]\n",
    "    print(\"\".rjust(rlevel*4) + f\"Split: Left={left_half}  -  Right={right_half}\")\n",
    "          \n",
    "    # recursively sort the two halves\n",
    "    print(\"\".rjust(rlevel*4) + f\"Recursing on Left ...\")\n",
    "    left_half = merge_sort_wp(left_half, rlevel +1)\n",
    "    print(\"\\n\" + \"\".rjust(rlevel*4) + f\"Recursing on Right ...\")\n",
    "    right_half = merge_sort_wp(right_half, rlevel +1)\n",
    "\n",
    "    # merge the sorted halves\n",
    "    merged_list = ordered_merge_wp(left_half, right_half, rlevel)\n",
    "    print(\"\".rjust(rlevel*4) + f\"<< Returning merge sorted: {merged_list}\")\n",
    "    return merged_list"
   ]
  },
  {
   "cell_type": "markdown",
   "id": "87ed05d5-2c6b-479d-8b03-50b9b0e48c2a",
   "metadata": {},
   "source": [
    "#### The *ordered_merge_wp*() function"
   ]
  },
  {
   "cell_type": "code",
   "execution_count": null,
   "id": "066803ea-827c-4d69-bee2-98a1018606d9",
   "metadata": {},
   "outputs": [],
   "source": [
    "def ordered_merge_wp(left_list, right_list, rlevel):\n",
    "    '''\n",
    "    The merge function is responsible for merging the sorted left and right halves\n",
    "    into a single sorted array. It is called after the recursive calls to merge_sort\n",
    "    have sorted the left and right halves.\n",
    "    '''\n",
    "    print()\n",
    "    print(\"\".rjust(rlevel*4) + f\">>## Merging {left_list} and {right_list}\")\n",
    "    \n",
    "    # initialize a result list\n",
    "    result = []\n",
    "\n",
    "    # Iterate simultaneously through left an right lists\n",
    "    # The iteration is not symetrical, alternating left an right.\n",
    "    # It will pick the smallest elements first, from either list.\n",
    "    # This means any leftover items, will be guarantee to be larger\n",
    "    left_idx = right_idx = 0\n",
    "    while left_idx < len(left_list) and right_idx < len(right_list):\n",
    "        # if the left item is smaller or equal ...\n",
    "        if left_list[left_idx] <= right_list[right_idx]:\n",
    "            # add the left element, and move the left index forward\n",
    "            result.append(left_list[left_idx])\n",
    "            left_idx += 1\n",
    "        # else, the right element is smaller ...\n",
    "        else:\n",
    "            # add the right element, and move the right index forward\n",
    "            result.append(right_list[right_idx])\n",
    "            right_idx += 1\n",
    "\n",
    "    # After the loop, we might have left over items, but based on the logic\n",
    "    # of the loop, they will certainly be larger, so we add them to the end.\n",
    "    # It's ok if one of the lists we are adding is empty. The extend method\n",
    "    # will simply not extend anything\n",
    "    result.extend(left_list[left_idx:])\n",
    "    result.extend(right_list[right_idx:])\n",
    "    \n",
    "    print(\"\".rjust(rlevel*4) + f\"<<## Merged result {result}\")\n",
    "    return result\n"
   ]
  },
  {
   "cell_type": "markdown",
   "id": "cd617f83-e273-4d92-8958-fce3ca72cee8",
   "metadata": {},
   "source": [
    "### Re-run test and observe ...\n",
    "We're running the same exact test, but pay close attention to the output of the print statements.\n",
    "- Note that we don't start merging, until the lists are broken down to single elements\n",
    "- Watch as we build them back up, how each individual part gets merged in order"
   ]
  },
  {
   "cell_type": "code",
   "execution_count": null,
   "id": "0589a307-7adb-480b-aa25-23b7cb5d3a67",
   "metadata": {},
   "outputs": [],
   "source": [
    "# define a small list\n",
    "int_list = [4, 6, 1, 2, 5, 3]\n",
    "\n",
    "# sort the list\n",
    "sorted_list = merge_sort_wp(int_list)\n",
    "\n",
    "# print sorted lists\n",
    "print(f\"\\nSorted list: {sorted_list}\")"
   ]
  },
  {
   "attachments": {},
   "cell_type": "markdown",
   "id": "878fe857-d8f0-4d15-9a25-ba30e3d22362",
   "metadata": {},
   "source": [
    "### Merge sort complexity analysis\n",
    "To understand the merge sort **time complexity**, we have to look at the two main parts:\n",
    "- The ***merge_sort* part** does all of the **successive splits**. As we've seen before when looking at binary searches, the process of repeately splitting a list will have **order *log(n)***.\n",
    "- But then **for each** of those splits, the ***ordered_merge*** function will **iterate through** the **sub-lists**. If we look at that algorithm, we iterated through them together. It wasn't a nested loop, but a **single loop**. As we've seen before, iterating through a single loop will be **order *n***.\n",
    "\n",
    "So the final time complexity will be **order *n* times *log(n)***, or ***O(n log(n))***\n",
    "\n",
    "It's worth noting that the *ordered_merge* function, will iterate through the full sublists regardless of whether the list of how will the lists are already sorted. So it will always do the same number of steps. That means that ***O(n log(n))*** **complexity is consistent**, regardless of the input list.\n",
    "\n",
    "For **space complexity**, we need to see what additional memory requirements there are beyond the original list. If we look at the ***ordered_merge*** function, it **creates** a **new list for the result**, and it will insert the same *n* elements there (in order). So we have **O(n)** complexity.\n",
    "  \n",
    "- **Time complexity: <span style=\"color:blue\">O(n log n)**</span>\n",
    "- **Space complexity: <span style=\"color:blue\">O(n)**</span>"
   ]
  },
  {
   "attachments": {},
   "cell_type": "markdown",
   "id": "d0d6ea31-e7ba-44b8-abd0-a1a780b6788c",
   "metadata": {},
   "source": [
    "## Quicksort\n",
    "Fo starters, it's not a typo in the name, there is **no space between \"quick\" and \"sort\"**. **\"Quicksort\"** is the **name of the algorithm**.\n",
    "\n",
    "Quicksort **selects a pivot and partitions the input list into two sub-lists**, one with items smaller than the pivot and the second with larger items. The algorithm then **sorts both sub-lists recursively until the entire list is completely sorted**.\n",
    "\n",
    "That sounds very similar to merge sort at a high level, but we'll see the differences when we look at the details."
   ]
  },
  {
   "cell_type": "markdown",
   "id": "e2d9a674-b105-4bf4-83ad-3901ed5ebd78",
   "metadata": {},
   "source": [
    "### Quicksort implementation\n",
    "The first obvious difference if quicksort, is how short the algorithm is. We don't have the the two phases calling each other. It's just one recursive function."
   ]
  },
  {
   "cell_type": "code",
   "execution_count": null,
   "id": "601a3574-8629-41e4-b1ef-0e09e741115b",
   "metadata": {},
   "outputs": [],
   "source": [
    "def quicksort(my_list):\n",
    "    '''\n",
    "    Implements the quicksort algorithm\n",
    "    '''\n",
    "    # Base case: if the list has one or less elements, it's considered sorted\n",
    "    if len(my_list) <= 1:\n",
    "        return my_list \n",
    "\n",
    "    # assign the pivot point as the first element\n",
    "    pivot = my_list[0]\n",
    "\n",
    "    # Create two sublists, one for items less than the pivot and one for greater\n",
    "    # These are essentially for loops, but we use Python list comprehension to do each on one line\n",
    "    less_than_pivot = [i for i in my_list[1:] if i <= pivot] \n",
    "    greater_than_pivot = [i for i in my_list[1:] if i > pivot]\n",
    "\n",
    "    # Now recursively call quicksort on the left and right sub-lists\n",
    "    # In the end, we'll be returning <sorted left list>, pivot, <sorted right list>\n",
    "    return quicksort(less_than_pivot) + [pivot] + quicksort(greater_than_pivot)"
   ]
  },
  {
   "cell_type": "markdown",
   "id": "2faedf70-d8b4-4b34-b1ef-6e1fd6965664",
   "metadata": {},
   "source": [
    "### Quick test"
   ]
  },
  {
   "cell_type": "code",
   "execution_count": null,
   "id": "ad44c572-fbd9-4783-a8de-3c08c5d65a96",
   "metadata": {},
   "outputs": [],
   "source": [
    "# define a small list\n",
    "int_list = [2, 5, 1, 4, 6, 3]\n",
    "\n",
    "# sort the list\n",
    "sorted_list = quicksort(int_list)\n",
    "\n",
    "# print sorted lists\n",
    "print(f\"\\nSorted list: {sorted_list}\")"
   ]
  },
  {
   "cell_type": "markdown",
   "id": "7cfb664e-6de4-4871-af36-e64ce5c247f9",
   "metadata": {},
   "source": [
    "#### Was my original list changed?"
   ]
  },
  {
   "cell_type": "code",
   "execution_count": null,
   "id": "3ca0606f-66ae-4659-a6e3-0af04a5fb8a5",
   "metadata": {},
   "outputs": [],
   "source": [
    "#print original list\n",
    "print(f\"\\nOriginal list: {int_list}\")"
   ]
  },
  {
   "cell_type": "markdown",
   "id": "fa316f0b-b743-4246-9c71-3fe83c6b86b1",
   "metadata": {},
   "source": [
    "**No**. This algorithm is **not changing** the **list in place**. The **list comprehension steps** are **creating new lists** for the **left and right sides**."
   ]
  },
  {
   "cell_type": "markdown",
   "id": "97ff1d1c-5e38-4ffc-a906-28491d2ead46",
   "metadata": {},
   "source": [
    "### Modified version with print statements\n",
    "Once again, let's create a **modified version**, **with print statements** to **visualize what happens** during the sorting processing. Since we are using recursion, we'll also **add** an ***rlevel* parameter** to **track how far into the recursions we are**, so we can do some fancy indenting."
   ]
  },
  {
   "cell_type": "code",
   "execution_count": null,
   "id": "f258005d-6550-4358-8a26-336baef7b9c0",
   "metadata": {},
   "outputs": [],
   "source": [
    "def quicksort_wp(my_list, rlevel = 0):\n",
    "    '''\n",
    "    Implements the quicksort algorithm\n",
    "    '''\n",
    "    print()\n",
    "    print(\"\".rjust(rlevel*4) + f\">>> Sorting: {my_list}\")\n",
    "\n",
    "    # Base case: if the list has one or less elements, it's considered sorted\n",
    "    if len(my_list) <= 1:\n",
    "        print(\"\".rjust(rlevel*4) + f\"<< Returning sorted: {my_list}\")\n",
    "        return my_list \n",
    "\n",
    "    # assign the pivot point as the first element\n",
    "    pivot = my_list[0]\n",
    "    print(\"\".rjust(rlevel*4) + f\"Pivot: {pivot}\")\n",
    "    \n",
    "    # Create two sublists, one for items less than the pivot and one for greater\n",
    "    # These are essentially for loops, but we use Python list comprehension to do each on one line\n",
    "    less_than_pivot = [i for i in my_list[1:] if i <= pivot] \n",
    "    greater_than_pivot = [i for i in my_list[1:] if i > pivot]\n",
    "    \n",
    "    # Now recursively call quicksort on the left and right sub-lists\n",
    "    # In the end, we'll be returning <sorted left list>, pivot, <sorted right list>\n",
    "    print(\"\".rjust(rlevel*4) + f\"Invoking: quicksort({less_than_pivot}) + {pivot} + quicksort({greater_than_pivot})\")\n",
    "\n",
    "    left_sort = quicksort_wp(less_than_pivot, rlevel + 1) \n",
    "    right_sort = quicksort_wp(greater_than_pivot, rlevel + 1)\n",
    "    print(\"\".rjust(rlevel*4) + f\"Combining: {left_sort} + {pivot} + {right_sort}\")\n",
    "\n",
    "    sorted_list = left_sort + [pivot] + right_sort\n",
    "    print(\"\".rjust(rlevel*4) + f\"<< Returning: {sorted_list}\")\n",
    "    \n",
    "    return sorted_list"
   ]
  },
  {
   "cell_type": "markdown",
   "id": "848bb6fb-9589-440b-b5c1-37e6ec62e872",
   "metadata": {},
   "source": [
    "### Re-run test and observe ...\n",
    "We're running the same exact test, but pay close attention to the output of the print statements.\n",
    "- Note that we repeatedly split the list, but not always in half. Depending on the pivot, it maybe an uneven split.\n",
    "- Every invocation will split into two recursive calls, so look for the same indendation to visuallize when the result of both calls completed"
   ]
  },
  {
   "cell_type": "code",
   "execution_count": null,
   "id": "4bfa39ab-bbb4-4a28-ab41-833a83dcade5",
   "metadata": {},
   "outputs": [],
   "source": [
    "# define a small list\n",
    "int_list = [2, 5, 1, 4, 6, 3]\n",
    "\n",
    "# sort the list\n",
    "sorted_list = quicksort_wp(int_list)\n",
    "\n",
    "# print sorted lists\n",
    "print(f\"\\nSorted list: {sorted_list}\")"
   ]
  },
  {
   "attachments": {},
   "cell_type": "markdown",
   "id": "dda6e2d3-9441-4c42-a328-d366b63ee3be",
   "metadata": {},
   "source": [
    "### Quicksort complexity analysis\n",
    "Similar to the merge sort, the quicksort algorithm **time complexity** will break based on two different parts:\n",
    "- **In** a **case** where the **pivot value splits the list near half** each time, the number of **recursive executions** would be in the **order *log(n)***. Similar to our binary searches. However, **if** we are very unlucky in the way the list is ordered initially, and the **pivot splits** are very **uneven**, we could end up **recursively calling *n* times**, which would make that **worst case O(n)**.\n",
    "- **Within** the **iterations**, we need to **loop through the list** to split items less than and greater than. That would be a simple **order *n***.\n",
    "\n",
    "So the final time complexity might depending on the original order of the list. If the splits are relatively even, the order will be **order *n* times *log(n)***, or ***O(n log(n))*** . But if the splits are very uneven, it could be approach **order *n* times *n***, or ***O(n<sup>2</sup>)***. We'll see an **example below**.\n",
    "\n",
    "For **space complexity**, we create new less than and greater than lists each time we recurse, and insert the same *n* elements there (half in each). So we have **O(n)** complexity.\n",
    "  \n",
    "- **Time complexity**:\n",
    "    - Average case: **<span style=\"color:blue\">O(n log(n))**</span>\n",
    "    - Worst case: **<span style=\"color:blue\"> O(n<sup>2</sup>)**</span>\n",
    "- **Space complexity: <span style=\"color:blue\">O(n)**</span>"
   ]
  },
  {
   "cell_type": "markdown",
   "id": "1327ff41-f8d8-43c9-8008-c875f2392b1f",
   "metadata": {},
   "source": [
    "#### Quicksort worst case\n",
    "**To** better **visualize** the **worst case scenario** above, let's **re-run** the **example** above, but **using** a **list** that is **already sorted**. You might think that would be the fastest, but it will actually be the slowest. Because we are using the first element as the pivot, **note in the output** that we are **only reducing the list by 1 in each iteration**. So instead of the log(n) reduction we get when we split in half, we are simply going one by one, or O(n).\n",
    "\n",
    "You might be tempted to think that's only a problem because we picked the first element as the pivot, but that can happen regardless of which pivot we pick. It's just that with different pivots, the type of list that leads to the worst case would change."
   ]
  },
  {
   "cell_type": "code",
   "execution_count": null,
   "id": "7453f01e-00fa-4932-a515-ffbc7e2d9415",
   "metadata": {},
   "outputs": [],
   "source": [
    "# define a small list\n",
    "int_list = [1 , 2 , 3 , 4 , 5 , 6]\n",
    "\n",
    "# sort the list\n",
    "sorted_list = quicksort_wp(int_list)\n",
    "\n",
    "# print sorted lists\n",
    "print(f\"\\nSorted list: {sorted_list}\")"
   ]
  },
  {
   "cell_type": "markdown",
   "id": "0dad9ffe-c759-4415-8101-0587c7dc41cb",
   "metadata": {},
   "source": [
    "# <span style=\"color:blue\">OPTIONAL</span>: The Final Showdown!!!\n",
    "Let's compare the three algorithms we looked at, using the same mechanisms we've been using in other examples to generate strings and time the calls.\n"
   ]
  },
  {
   "cell_type": "markdown",
   "id": "871b08ca-53a2-4d00-aed3-ac752c70cd51",
   "metadata": {},
   "source": [
    "#### Import modules\n",
    "We'll be using a couple of modules in the upcoming analysis, so we'll import them here"
   ]
  },
  {
   "cell_type": "code",
   "execution_count": null,
   "id": "97b27a2f-5242-49a2-82fa-2834a625e1ab",
   "metadata": {},
   "outputs": [],
   "source": [
    "import time\n",
    "import random"
   ]
  },
  {
   "cell_type": "markdown",
   "id": "7babaeaa-dde3-43d4-a883-e806ec42a6e9",
   "metadata": {},
   "source": [
    "##### Define the list sizes I want to test"
   ]
  },
  {
   "cell_type": "code",
   "execution_count": null,
   "id": "4aa15753-1248-4850-a1a3-7cba1427e761",
   "metadata": {},
   "outputs": [],
   "source": [
    "list_sizes = [100, 1000, 10000]"
   ]
  },
  {
   "cell_type": "markdown",
   "id": "8129e6a1-f95c-4563-81ad-4ab84af23bce",
   "metadata": {},
   "source": [
    "##### Iterate to create lists for each test size, and compare average performance for them"
   ]
  },
  {
   "cell_type": "code",
   "execution_count": null,
   "id": "c7b47670-deb5-4537-a89b-81ba9848ea73",
   "metadata": {},
   "outputs": [],
   "source": [
    "# iterate through all requested list sizes\n",
    "for list_size in list_sizes:\n",
    "    \n",
    "    # intially use a set, to guarantee no duplicates\n",
    "    str_set = set({})\n",
    "    while len(str_set) < list_size:\n",
    "        # generate a very large random integer, convert it to a string, and add to set\n",
    "        str_set.add(str(random.randint(0, 1000000000)))\n",
    "    \n",
    "    # convert the set to a list\n",
    "    str_list = list(str_set)\n",
    "\n",
    "    print(f\"\\n------------------ Sorting {len(str_list):,d} elements ------------------\")\n",
    "\n",
    "    ########################## testing merge sort ##########################\n",
    "    # start timer\n",
    "    start_time = time.perf_counter()\n",
    "    \n",
    "    # sort using merge_sort\n",
    "    sorted_list = merge_sort(str_list)\n",
    "    \n",
    "    # stop timer and calculate elapsed time\n",
    "    end_time = time.perf_counter()\n",
    "    merge_sort_time = end_time - start_time\n",
    "    \n",
    "    # print sorted function time\n",
    "    print(f\"Merge sort time: {merge_sort_time:.6f} seconds\")\n",
    "\n",
    "    ########################## testing quicksort ##########################\n",
    "    # start timer\n",
    "    start_time = time.perf_counter()\n",
    "    \n",
    "    # sort using merge_sort\n",
    "    sorted_list = quicksort(str_list)\n",
    "    \n",
    "    # stop timer and calculate elapsed time\n",
    "    end_time = time.perf_counter()\n",
    "    quicksort_time = end_time - start_time\n",
    "    \n",
    "    # print sorted function time\n",
    "    print(f\"Quicksort time: {quicksort_time:.6f} seconds\")\n",
    "\n",
    "    ########################## testing bubble sort ##########################\n",
    "    # start timer\n",
    "    start_time = time.perf_counter()\n",
    "    \n",
    "    # sort using merge_sort\n",
    "    sorted_list = bubble_sort_enhanced(str_list)\n",
    "    \n",
    "    # stop timer and calculate elapsed time\n",
    "    end_time = time.perf_counter()\n",
    "    bubble_sort_time = end_time - start_time\n",
    "    \n",
    "    # print sorted function time\n",
    "    print(f\"Bubble sort time: {bubble_sort_time:.6f} seconds\")\n",
    "\n",
    "    # calculate the performance improvement\n",
    "    perf_factor1 = bubble_sort_time / merge_sort_time\n",
    "    perf_factor2 = bubble_sort_time / quicksort_time\n",
    "    print(f\"Merge sort was {perf_factor1:.1f} times faster than bubble sort.\")\n",
    "    print(f\"Quicksort was {perf_factor2:.1f} times faster than bubble sort.\")"
   ]
  },
  {
   "attachments": {},
   "cell_type": "markdown",
   "id": "afceb949-66bc-467d-8791-04b5baa96937",
   "metadata": {},
   "source": [
    "### Conclusions\n",
    "We can see that both **merge sort and quick sort** are **much faster than bubble sort**, and that difference becomes **even more pronounced** as the **list grows in size**. In fact we can't even try for a larger list size, or the bubble sort would take too long to run. That illustrates the **marked difference** between an **O(n<sup>2</sup>) algorithm and** a **O(n log(n)) algorithm**.\n",
    "\n",
    "With these small sample sizes and number of executions it's harder to compare quicksort and merge sort. So let's repeate the comparison, but without bubble sort, we can try some bigger sizes."
   ]
  },
  {
   "cell_type": "markdown",
   "id": "10efc531-bfc1-4438-9d6d-aec37457d81d",
   "metadata": {},
   "source": [
    "##### Define the list sizes I want to test"
   ]
  },
  {
   "cell_type": "code",
   "execution_count": null,
   "id": "2e8b3953-cfdb-4e1a-bf75-aea277d5a401",
   "metadata": {},
   "outputs": [],
   "source": [
    "list_sizes = [10000, 100000, 1000000]"
   ]
  },
  {
   "cell_type": "markdown",
   "id": "fce38f51-b690-4773-90f5-5406ed49809b",
   "metadata": {},
   "source": [
    "##### Iterate to create lists for each test size, and compare average performance for them"
   ]
  },
  {
   "cell_type": "code",
   "execution_count": null,
   "id": "79e9dabf-1e12-42e4-aabf-3b618a860647",
   "metadata": {},
   "outputs": [],
   "source": [
    "# iterate through all requested list sizes\n",
    "for list_size in list_sizes:\n",
    "    \n",
    "    # intially use a set, to guarantee no duplicates\n",
    "    str_set = set({})\n",
    "    while len(str_set) < list_size:\n",
    "        # generate a very large random integer, convert it to a string, and add to set\n",
    "        str_set.add(str(random.randint(0, 1000000000)))\n",
    "    \n",
    "    # convert the set to a list\n",
    "    str_list = list(str_set)\n",
    "\n",
    "    print(f\"\\n------------------ Sorting {len(str_list):,d} elements ------------------\")\n",
    "\n",
    "    ########################## testing merge sort ##########################\n",
    "    # start timer\n",
    "    start_time = time.perf_counter()\n",
    "    \n",
    "    # sort using merge_sort\n",
    "    sorted_list = merge_sort(str_list)\n",
    "    \n",
    "    # stop timer and calculate elapsed time\n",
    "    end_time = time.perf_counter()\n",
    "    merge_sort_time = end_time - start_time\n",
    "    \n",
    "    # print sorted function time\n",
    "    print(f\"Merge sort time: {merge_sort_time:.6f} seconds\")\n",
    "\n",
    "    ########################## testing quicksort ##########################\n",
    "    # start timer\n",
    "    start_time = time.perf_counter()\n",
    "    \n",
    "    # sort using merge_sort\n",
    "    sorted_list = quicksort(str_list)\n",
    "    \n",
    "    # stop timer and calculate elapsed time\n",
    "    end_time = time.perf_counter()\n",
    "    quicksort_time = end_time - start_time\n",
    "    \n",
    "    # print sorted function time\n",
    "    print(f\"Quicksort time: {quicksort_time:.6f} seconds\")\n",
    "\n",
    "    # calculate the performance improvement\n",
    "    perf_factor = quicksort_time / merge_sort_time\n",
    "\n",
    "    # print different message depending on who was faster\n",
    "    if (perf_factor > 1):\n",
    "        print(f\"Merge sort was {perf_factor:.1f} times faster than quicksort.\")\n",
    "    else:\n",
    "        print(f\"Quicksort was {(1/perf_factor):.1f} times faster than merge sort.\")"
   ]
  },
  {
   "attachments": {},
   "cell_type": "markdown",
   "id": "09308d00-2e42-46a8-9d33-5ebd3792362c",
   "metadata": {},
   "source": [
    "### Conclusions\n",
    "I ran this many times, and **usually quicksort outperformed merge sort by a small margin** (somewhere around 1.2 times faster). However, it's **important to remember** that **merge sort has** an **advantage of being stable**, meaning that its **performance will not vary** **depending on** the **order of the input list**.\n",
    "\n",
    "To my knowledge, there is no universally accepted best practice. It depends on the list size, and how random your input list is. In the end, the key fact is that they are very close, and both infinitely faster than one of the O(n<sup>2</sup>) algorithms."
   ]
  }
 ],
 "metadata": {
  "kernelspec": {
   "display_name": "Python 3 (ipykernel)",
   "language": "python",
   "name": "python3"
  },
  "language_info": {
   "codemirror_mode": {
    "name": "ipython",
    "version": 3
   },
   "file_extension": ".py",
   "mimetype": "text/x-python",
   "name": "python",
   "nbconvert_exporter": "python",
   "pygments_lexer": "ipython3",
   "version": "3.9.2"
  }
 },
 "nbformat": 4,
 "nbformat_minor": 5
}
