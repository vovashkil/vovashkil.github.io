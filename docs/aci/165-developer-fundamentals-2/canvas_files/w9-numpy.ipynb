{
 "cells": [
  {
   "cell_type": "markdown",
   "id": "f24d8409-9caa-4cf3-b362-af4a29aeec49",
   "metadata": {},
   "source": [
    "# <span style=\"color:blue\"> NumPy\n",
    "AWS CLOUD INSTITUTE: PROVIDED FOR EDUCATIONAL INSTRUCTIONAL PURPOSES ONLY."
   ]
  },
  {
   "attachments": {},
   "cell_type": "markdown",
   "id": "883a81f0-851f-4c43-8970-6d4d152b64e3",
   "metadata": {},
   "source": [
    "# Introduction\n",
    "We will be looking in depth at various aspects of NumPy, but let's quickly start of with some of the basics."
   ]
  },
  {
   "cell_type": "markdown",
   "id": "5300f344-bfa2-4f8e-aa45-70253a69b94a",
   "metadata": {},
   "source": [
    "## NumPy documentation\n",
    "**NumPy** has a **wide number of functions available**, and we will **make use of a number of them** in this notebook. Please **refer to the [NumPy documentation](https://numpy.org/doc/stable/user/index.html)** **for** all of the **details**. \n",
    "\n",
    "Whenever possible, **when I use a function** I'll try to **include hyperlinks** to the **official documentation** for it."
   ]
  },
  {
   "cell_type": "markdown",
   "id": "da006b19-979a-4dbd-95f1-914eb0f34820",
   "metadata": {},
   "source": [
    "## Import libraries\n",
    "These are libraries will will need for this notebook.\n",
    "- **NumPy**, imported as ***np***\n",
    "- **sys, math, random and time** to help with some examples\n",
    "\n",
    "I also update the default length of a line when printing NumPy arrays"
   ]
  },
  {
   "cell_type": "code",
   "execution_count": null,
   "id": "2b692a85-8599-414e-9232-e6d5ed5e755b",
   "metadata": {},
   "outputs": [],
   "source": [
    "import numpy as np\n",
    "import sys\n",
    "import math\n",
    "import random\n",
    "import time\n",
    "\n",
    "# change default length of print line for NumPy\n",
    "np.set_printoptions(linewidth=130)"
   ]
  },
  {
   "cell_type": "markdown",
   "id": "343de389-ce40-4027-8c6a-3d9dec2104db",
   "metadata": {},
   "source": [
    "## Creating a NumPy Array\n",
    "We will look at NumPy array creation in more details later, including arrays of multiple dimensions, but for the purpose of examining data types, we will **start with 1-dimensional arrays**, which will resemble a standard Python list. Let's look at ***some simple examples**."
   ]
  },
  {
   "cell_type": "code",
   "execution_count": null,
   "id": "61e442d0-3f1c-437d-81a5-6746796f0e2b",
   "metadata": {},
   "outputs": [],
   "source": [
    "int_arr = np.array([1, 2, 3, 4])\n",
    "print(int_arr)"
   ]
  },
  {
   "cell_type": "code",
   "execution_count": null,
   "id": "0726d82c-f983-4088-ac4b-ac7e98d5d265",
   "metadata": {},
   "outputs": [],
   "source": [
    "float_arr = np.array([1.6, 2.5, 3.6, 4.2])\n",
    "print(float_arr)"
   ]
  },
  {
   "cell_type": "code",
   "execution_count": null,
   "id": "1658fcfe-febb-45f9-96a6-efe3d25582b7",
   "metadata": {},
   "outputs": [],
   "source": [
    "str_arr = np.array([\"Tucker\", \"Max\", \"Luke\", \"Moose\"])\n",
    "print(str_arr)"
   ]
  },
  {
   "cell_type": "markdown",
   "id": "07c28e1e-812f-4fb1-ae6d-b90734dcf211",
   "metadata": {},
   "source": [
    "### Creating an empty or pre-initialized array\n",
    "If we need to **create a NumPy array of specific size**, but will **add the actual values later**, there are a couple of **functions available**: **[empty](https://numpy.org/doc/stable/reference/generated/numpy.empty.html#)**, **[zeros](https://numpy.org/doc/stable/reference/generated/numpy.zeros.html)**, and **[full](https://numpy.org/doc/stable/reference/generated/numpy.full.html).**"
   ]
  },
  {
   "cell_type": "code",
   "execution_count": null,
   "id": "8feda6fe-e65f-46cf-898a-c773ead3619a",
   "metadata": {},
   "outputs": [],
   "source": [
    "# create an empty array of size 10\n",
    "empty_array = np.empty(10, dtype='int32')\n",
    "print(empty_array)"
   ]
  },
  {
   "cell_type": "markdown",
   "id": "27eb5ec5-d79e-49a6-8a0c-d2c97254e916",
   "metadata": {},
   "source": [
    "Althought the **function is called \"empty\"**, it **allocates random values**. If you want to **explicitly initialize the values to zero**, the **numpy.zeros** function will do that."
   ]
  },
  {
   "cell_type": "code",
   "execution_count": null,
   "id": "6b962740-f793-4fd2-9d25-1b02f8117936",
   "metadata": {},
   "outputs": [],
   "source": [
    "# create an empty\n",
    "zero_array = np.zeros(10, dtype='int32')\n",
    "print(zero_array)"
   ]
  },
  {
   "cell_type": "markdown",
   "id": "6bfb7bb3-817d-45e1-a355-3f5fa0050e23",
   "metadata": {},
   "source": [
    "Or you **can use full** to **initialize the arra**y to any **predefined value**."
   ]
  },
  {
   "cell_type": "code",
   "execution_count": null,
   "id": "ba66d78c-23b2-407e-9247-0efc7ca9b733",
   "metadata": {},
   "outputs": [],
   "source": [
    "# create a array of \"lucky 7s\n",
    "seven_array = np.full(10, fill_value=7, dtype='int32')\n",
    "print(seven_array)"
   ]
  },
  {
   "cell_type": "markdown",
   "id": "22ba272a-1578-4538-929e-2971e785c8ef",
   "metadata": {},
   "source": [
    "## The ndarray Class\n",
    "NumPy arrays are objects of the ndarray class."
   ]
  },
  {
   "cell_type": "code",
   "execution_count": null,
   "id": "5bf23ade-5072-44ec-a26d-8cc58b74975c",
   "metadata": {},
   "outputs": [],
   "source": [
    "print(type(int_arr))"
   ]
  },
  {
   "cell_type": "markdown",
   "id": "81cf95cb-0609-4760-87f4-564e63730112",
   "metadata": {},
   "source": [
    "You can **view** all the **methods and attributes of ndarray** in the **[official documentation](https://numpy.org/doc/stable/reference/generated/numpy.ndarray.html)**. I'll be showing a number of operations in this Notebook, but there is a lot more."
   ]
  },
  {
   "cell_type": "markdown",
   "id": "81a377cb-8a9e-4e3b-8bfa-a9aa32e3d7b2",
   "metadata": {},
   "source": [
    "## Accessing elements\n",
    "We will look at many different ways of traversing and manipulating NumPy arrays later, but as one would expect from an array, an **index based access is supported**."
   ]
  },
  {
   "cell_type": "code",
   "execution_count": null,
   "id": "e4b3ae5e-16e0-4d60-b193-45137e3bcbec",
   "metadata": {},
   "outputs": [],
   "source": [
    "# print elements based in index\n",
    "print(int_arr[0])\n",
    "print(float_arr[1])\n",
    "print(str_arr[2])"
   ]
  },
  {
   "cell_type": "markdown",
   "id": "e08574ff-c2cc-4d3b-8027-b0b3397a68db",
   "metadata": {},
   "source": [
    "## Adding elements to a NumPy array\n",
    "**In reality**, there is **no way to add an element to a NumPy array in place**. They are **not meant to dynamically grow** like a list. You **should preallocate the required space** as discussed earlier.\n",
    "\n",
    "If you really need to, one **option is to use** the NumPy **[append function](https://numpy.org/doc/stable/reference/generated/numpy.append.html)**. But please note that **this will make a copy of the original array**. It is not modifying the array in place."
   ]
  },
  {
   "cell_type": "code",
   "execution_count": null,
   "id": "f8285be6-91cd-4585-b434-0c2f22228b00",
   "metadata": {},
   "outputs": [],
   "source": [
    "# append an item to the array\n",
    "new_arr = np.append(int_arr, [5])\n",
    "\n",
    "# print original and new\n",
    "print(f\"Original array: {int_arr}\")\n",
    "print(f\"     New array: {new_arr}\")"
   ]
  },
  {
   "cell_type": "markdown",
   "id": "f014e234-9c34-4f64-8ff1-d4cbab03913e",
   "metadata": {},
   "source": [
    "**if** we **want to modify** the **original array**, we would have to **reassign the copy to it**"
   ]
  },
  {
   "cell_type": "code",
   "execution_count": null,
   "id": "d035089a-6063-4c50-805b-318ac7b8e1df",
   "metadata": {},
   "outputs": [],
   "source": [
    "# append an item to the original array and reassign to itself\n",
    "int_arr = np.append(int_arr, [5])\n",
    "\n",
    "# print original and new\n",
    "print(f\"Original array: {int_arr}\")"
   ]
  },
  {
   "attachments": {},
   "cell_type": "markdown",
   "id": "599f7034-aae7-48f1-af96-05705b24c5f0",
   "metadata": {},
   "source": [
    "# NumPy Array Data Types\n",
    "**NumPy arrays** have **homogeneous data types**, meaning **all** the **elements** must be of the **same data type**.\n",
    "- The data type can be explicitly set at creation, or automatically derived\n",
    "- Homogenous data types **allow for improved memory efficiency and performance**"
   ]
  },
  {
   "cell_type": "markdown",
   "id": "e16238dd-8dbf-41a9-bbdf-04ab0e432ff2",
   "metadata": {},
   "source": [
    "## Automatically assigned data type examples\n",
    "We'll see shortly how we can explictly set the NumPy array data type. If we do not specify one, NumPy will automatically assign it. If we look at the three arrays we created earlier, we can see reasonable data types were assigned."
   ]
  },
  {
   "cell_type": "code",
   "execution_count": null,
   "id": "4da9a29c-a521-45b4-94f8-b7faf270baaf",
   "metadata": {},
   "outputs": [],
   "source": [
    "print(int_arr.dtype)\n",
    "print(float_arr.dtype)\n",
    "print(str_arr.dtype)"
   ]
  },
  {
   "cell_type": "markdown",
   "id": "19034eab-d8fc-42da-b11a-4bfe62189499",
   "metadata": {},
   "source": [
    "**Everything is self-explanatory** enough, **except for** that **\"<U6\"** for my **string** array. We'll discuss that a little later when we talk about strings."
   ]
  },
  {
   "cell_type": "markdown",
   "id": "1b0f373e-3513-4bf5-a1bc-b32a0b76e8c0",
   "metadata": {},
   "source": [
    "## Specifying a data type\n",
    "If we want to **explicitly set** the **data type in a NumPy array**, we can **use the dtype attribute**. Some of the reasons for specifying the data type include:\n",
    "- **Memory efficiency**: By specifying the data type, you can **optimize the memory usage** of your NumPy arrays.\n",
    "- **Performance optimization**: **Certain operations** in NumPy are **optimized for specific data types**.\n",
    "- **Precision control**: **Float data types have different levels of precision**. For instance, dtype=np.float32 has a lower precision than dtype=np.float64. By **choosing the appropriate data type**, you can **control the trade-off between precision and memory usage** based on your application's requirements.\n",
    "- **Type safety**: Specifying the data type can help **catch potential errors during runtime** if you accidentally try to assign the wrong type.\n",
    "\n",
    "We'll look at some examples now."
   ]
  },
  {
   "cell_type": "markdown",
   "id": "19c0813b-86cd-45a1-a5c9-07a66f4d9ddf",
   "metadata": {},
   "source": [
    "### Integer arrays\n",
    "Looking at our **earlier example**, we saw that our **simple integer array** was **created with** a **type of *int32***. The **\"32\" means 32 bits of memory**, or **4 bytes**, are allocated for **each element**. For integer that means a **2<sup>32</sup> possible values**, or **4,294,967,296**. Since we represent both negative and positive integers, the **range of values is -2,147,483,648 to 2,147,483,647**.\n",
    "\n",
    "**Depending on our needs**, that might be **too much or too little**. If our numbers are not approaching those values, we are unncessarily wasting memory. We we try to assign a bigger number, we will get an error. So we'll see **next**, how we can **assign precisely what we want**."
   ]
  },
  {
   "cell_type": "markdown",
   "id": "ff38cfcf-bb04-4e93-b0c1-8d163e3f75dc",
   "metadata": {},
   "source": [
    "#### Basic examples"
   ]
  },
  {
   "cell_type": "code",
   "execution_count": null,
   "id": "6da5609d-b13f-4be5-87cc-74245354be49",
   "metadata": {},
   "outputs": [],
   "source": [
    "# Create a 32 bit int array\n",
    "arr_int32 = np.array([-1, 0, 1, 2], dtype='int32')\n",
    "print(arr_int32.dtype)\n",
    "print(arr_int32)"
   ]
  },
  {
   "cell_type": "code",
   "execution_count": null,
   "id": "9c1a62e6-80e1-4abb-84fa-fd9d8563e59f",
   "metadata": {},
   "outputs": [],
   "source": [
    "# Create a 64 bit int array\n",
    "arr_int64 = np.array([-1, 0, 1, 2], dtype='int64')\n",
    "print(arr_int64.dtype)\n",
    "print(arr_int64)"
   ]
  },
  {
   "cell_type": "code",
   "execution_count": null,
   "id": "0cf76880-5f72-43a2-9d87-3f39e2fd6504",
   "metadata": {},
   "outputs": [],
   "source": [
    "# Create a 8 bit int array\n",
    "arr_int8 = np.array([-1, 0, 1, 2], dtype='int8')\n",
    "print(arr_int8.dtype)\n",
    "print(arr_int8)"
   ]
  },
  {
   "cell_type": "markdown",
   "id": "fdfa2ca7-e0c8-42c3-9706-890ad717e5e8",
   "metadata": {},
   "source": [
    "There is **no difference in the output values**, and we wouldn't expect to see any. The **difference** is **in the memory used to store** those **elements**. We'll break that down in detail later."
   ]
  },
  {
   "cell_type": "markdown",
   "id": "04839099-bfa0-416b-ac9a-6edf381773f9",
   "metadata": {
    "jp-MarkdownHeadingCollapsed": true
   },
   "source": [
    "### <span style=\"color:blue\">OPTIONAL</span> Unsigned Integer arrays"
   ]
  },
  {
   "cell_type": "markdown",
   "id": "85963f83-7f3c-49a7-9733-92f4fb13fd88",
   "metadata": {},
   "source": [
    "As mentioned earlier, the standard integer data type represents both negative and positive integers. **If** you know you are **working with positive numbers only**, you can **double the maximum value by using an unsigned integer**. **For instance**, we saw earlier that the **range for int32** data type is **-2,147,483,648 to 2,147,483,647**. The **unsigned data type uint32** on the other hand has a **range of 0 to 4,294,967,296**"
   ]
  },
  {
   "cell_type": "markdown",
   "id": "144d872e-9edf-410c-a4fd-0d0963d9845d",
   "metadata": {},
   "source": [
    "#### Basic examples"
   ]
  },
  {
   "cell_type": "code",
   "execution_count": null,
   "id": "5d6fddbf-2c68-4ac2-ac9c-0d6232ec2e69",
   "metadata": {},
   "outputs": [],
   "source": [
    "# Create a 32 bit UNSIGNED int array\n",
    "arr_uint32 = np.array([1, 2, 3, 4], dtype='uint32')\n",
    "print(arr_uint32.dtype)\n",
    "print(arr_uint32)"
   ]
  },
  {
   "cell_type": "code",
   "execution_count": null,
   "id": "970d54f4-649a-4856-ba98-46d7071de0c8",
   "metadata": {},
   "outputs": [],
   "source": [
    "# Create a 64 bit UNSIGNED int array\n",
    "arr_uint64 = np.array([1, 2, 3, 4], dtype='uint64')\n",
    "print(arr_uint64.dtype)\n",
    "print(arr_uint64)"
   ]
  },
  {
   "cell_type": "markdown",
   "id": "8b15e0f7-e291-46ab-8f0f-c3d9f1d97b23",
   "metadata": {},
   "source": [
    "#### Observing the difference\n",
    "So **what diffence did that make?** Let's **try to assign 4,000,000,000** to **both** an **unsigned uint32** array, **and** a **regular int32 array**. We'll see that the **regular int32 will generate an error**, because the maximum value there is 2,147,483,647."
   ]
  },
  {
   "cell_type": "code",
   "execution_count": null,
   "id": "48a15bef-9bb1-4be9-85ad-fbc8784143b2",
   "metadata": {},
   "outputs": [],
   "source": [
    "# Create a 32 bit UNSIGNED int array\n",
    "arr_uint32[0] = 4000000000\n",
    "print(f\"I was able to assign {arr_uint32[0]}\")"
   ]
  },
  {
   "cell_type": "code",
   "execution_count": null,
   "id": "ed175ba3-ad18-4a8b-be52-bd4bfb016e5d",
   "metadata": {},
   "outputs": [],
   "source": [
    "# try to assign 4,000,000,000 to a regular int32\n",
    "try:\n",
    "    arr_int32[0] = 4000000000\n",
    "    print(f\"I was able to assign {arr_uint32[0]}\")\n",
    "except Exception as err:\n",
    "    print(f\"ERROR: {err}\")"
   ]
  },
  {
   "cell_type": "markdown",
   "id": "ac15207b-133c-4336-ad45-b79e2ee21d5c",
   "metadata": {},
   "source": [
    "### Float arrays\n",
    "Like integers, **floating point numbers**, or floats, can **also** be **created with specific data types**. As we saw in the earlier example, float64, is the default. That means we have 8 bytes of storage. **For floats we have float16, float32, float64, or float128** (thought float128 is not available in every platform). When it comes to **floating point numbers, having more bytes of storage** is **not as much about supporting a very large value** as we do with interegers, **but** supporting **more precision.** "
   ]
  },
  {
   "cell_type": "markdown",
   "id": "0559999d-8145-48da-b24b-27e48f0471f6",
   "metadata": {},
   "source": [
    "#### Basic examples"
   ]
  },
  {
   "cell_type": "code",
   "execution_count": null,
   "id": "42b5172d-e1ca-4338-a2c2-8ea6226e2b7f",
   "metadata": {},
   "outputs": [],
   "source": [
    "# Create a 16 bit float array\n",
    "arr_float16 = np.array([1.1, 2.2, 3.3, 4.4], dtype='float16')\n",
    "print(arr_float16.dtype)\n",
    "print(arr_float16)"
   ]
  },
  {
   "cell_type": "code",
   "execution_count": null,
   "id": "6038b5b0-cf6a-4882-91b7-c55a42472fcf",
   "metadata": {},
   "outputs": [],
   "source": [
    "# Create a 32 bit float array\n",
    "arr_float32 = np.array([1.1, 2.2, 3.3, 4.4], dtype='float32')\n",
    "print(arr_float32.dtype)\n",
    "print(arr_float32)"
   ]
  },
  {
   "cell_type": "code",
   "execution_count": null,
   "id": "41a44f56-d03c-44fe-9a79-8eb565e25881",
   "metadata": {},
   "outputs": [],
   "source": [
    "# Create a 64 bit float array\n",
    "arr_float64 = np.array([1.1, 2.2, 3.3, 4.4], dtype='float64')\n",
    "print(arr_float64.dtype)\n",
    "print(arr_float64)"
   ]
  },
  {
   "cell_type": "markdown",
   "id": "dc5963af-732c-4cdb-9dbf-a7127d90884d",
   "metadata": {},
   "source": [
    "#### Precision difference\n",
    "As I mentioned earlier, having a **bigger float data type means more precision**. To visualize that, let's **see the difference** in precision in the three NumPy arrays above, **if I want to store Math's most famous constant: π (aka, \"Pi\")**"
   ]
  },
  {
   "cell_type": "code",
   "execution_count": null,
   "id": "2ff78252-719c-469c-9244-379be8c9906e",
   "metadata": {},
   "outputs": [],
   "source": [
    "import math\n",
    "\n",
    "arr_float16[0] = math.pi\n",
    "print(\"Pi with float16: \", arr_float16[0])\n",
    "\n",
    "arr_float32[0] = math.pi\n",
    "print(\"Pi with float32: \", arr_float32[0])\n",
    "\n",
    "arr_float64[0] = math.pi\n",
    "print(\"Pi with float64: \", arr_float64[0])"
   ]
  },
  {
   "cell_type": "markdown",
   "id": "52851600-9960-435b-96f1-e519d6296d67",
   "metadata": {},
   "source": [
    "### String arrays\n",
    "**NumPy is primarily focused on numerical calculations** (it's right there in the name!), **but has some basic memory efficient support for strings**. Let's look again at the simple string array we created earlier, and another one."
   ]
  },
  {
   "cell_type": "code",
   "execution_count": null,
   "id": "086f031e-d1ee-462c-8a4e-3f8f36a88171",
   "metadata": {},
   "outputs": [],
   "source": [
    "str_arr = np.array([\"Tucker\", \"Max\", \"Luke\", \"Moose\"])\n",
    "print(str_arr)\n",
    "print(f\"Data type: {str_arr.dtype}\\n\")\n",
    "\n",
    "str_arr2 = np.array([\"Golden Retriever\", \"Cavalier King Charles Spaniel\", \"Labrador Retriever\", \"German Spitz\"])\n",
    "print(str_arr2)\n",
    "print(f\"Data type: {str_arr2.dtype}\\n\")"
   ]
  },
  {
   "cell_type": "markdown",
   "id": "00b41c5d-9972-4cf6-8950-17f5130eb0d3",
   "metadata": {},
   "source": [
    "Instead of a plain *string* type, we see **<U6 and <U29**. **What does that mean?** The **\"U\" stands** for the fact that **strings are stored as 4 byte Unicode characters**. The **number after it** is the **number of characters allocated for each string**. If you look at our arrays, the **largest element in str_arr (\"Tucker\") had 6 characters**, and the **largest element in str_arr2 (\"Cavalier King Charles Spaniel\") had 29 characters**. NumPy tries to be as space efficient as possible, allocating only as much space as it needs. The **\"<\" before the \"U\"** is a very low level concept, related to **how the bytes are encoded**. It's not something we're going to cover here, but if anyone is curious, you can refer to https://numpy.org/doc/stable/reference/generated/numpy.dtype.byteorder.html for the details."
   ]
  },
  {
   "cell_type": "markdown",
   "id": "c530826e-5198-4596-ba27-d01acaaaf6ca",
   "metadata": {},
   "source": [
    "### Other data types\n",
    "**NumPy supports a number of other data types, including support for complex numbers, booleans, and other specialized types**. We will not discuss all of them here, but you can **refer to** the **[NumPy data type documentation](https://numpy.org/doc/stable/user/basics.types.html)** for a **full description of data types**."
   ]
  },
  {
   "cell_type": "markdown",
   "id": "ef8442b5-8a4d-4604-8699-c16563abefca",
   "metadata": {},
   "source": [
    "## Comparing memory utilization\n",
    "We've mentioned how NumPy is using these precise data types to optimize memory utilization. Let's confirm this. We can **use** the Python **[getsizeof function](https://docs.python.org/3/library/sys.html#sys.getsizeof)** in the **built-in sys module** to verify the **size in bytes of a variable.**"
   ]
  },
  {
   "cell_type": "markdown",
   "id": "1a7fb8ff-e1ba-4ba3-8e49-14cf6db04c7f",
   "metadata": {},
   "source": [
    "### Create arrays of different data types\n",
    "Let's recreate our integer arrays, but this time will allocate space for more elements."
   ]
  },
  {
   "cell_type": "code",
   "execution_count": null,
   "id": "dbcf4723-9450-485b-8d68-55c606ecf81a",
   "metadata": {},
   "outputs": [],
   "source": [
    "# make array size a variable so we can change later if we want\n",
    "arr_size = 1000"
   ]
  },
  {
   "cell_type": "code",
   "execution_count": null,
   "id": "b84bf8d6-3bf4-4cdc-8b88-6c4805aba643",
   "metadata": {},
   "outputs": [],
   "source": [
    "# initalize arrays of multiple int data types\n",
    "arr_int8 = np.empty(arr_size, dtype='int8')\n",
    "arr_int16 = np.empty(arr_size, dtype='int16')\n",
    "arr_int32 = np.empty(arr_size, dtype='int32')\n",
    "arr_int64 = np.empty(arr_size, dtype='int64')\n",
    "\n",
    "# initalize arrays of multiple float data types\n",
    "arr_float32 = np.empty(arr_size, dtype='float32')\n",
    "arr_float64 = np.empty(arr_size, dtype='float64')"
   ]
  },
  {
   "cell_type": "markdown",
   "id": "39e0e9d8-28c3-4155-8868-d889aa242018",
   "metadata": {},
   "source": [
    "### Assign random items to arrays\n",
    "Let's recreate our integer arrays, but this time will allocate space for more elements."
   ]
  },
  {
   "cell_type": "code",
   "execution_count": null,
   "id": "fa3b04a8-fb87-4498-8610-d4b3a3a23882",
   "metadata": {},
   "outputs": [],
   "source": [
    "for i in range(arr_size):\n",
    "    # generate a random value\n",
    "    value = random.randint(0, 127)\n",
    "\n",
    "    # assign same value to all arrays\n",
    "    arr_int8[i] = value\n",
    "    arr_int16[i] = value\n",
    "    arr_int32[i] = value\n",
    "    arr_int64[i] = value\n",
    "    arr_float32[i] = value\n",
    "    arr_float64[i] = value\n",
    "\n",
    "# print a few numbers just to confirm it worked\n",
    "print(f\"arr_int8[0] = {arr_int8[0]}\")\n",
    "print(f\"arr_int16[0] = {arr_int16[0]}\")\n",
    "print(f\"arr_int32[0] = {arr_int32[0]}\")\n",
    "print(f\"arr_int64[0] = {arr_int64[0]}\")\n",
    "print(f\"arr_float32[0] = {arr_float32[0]}\")\n",
    "print(f\"arr_float64[0] = {arr_float64[0]}\")"
   ]
  },
  {
   "cell_type": "markdown",
   "id": "204df9c3-2f34-4549-8774-b33b72f33d14",
   "metadata": {},
   "source": [
    "### Verify memory utilized for each array"
   ]
  },
  {
   "cell_type": "code",
   "execution_count": null,
   "id": "6f57a192-4ca3-4df2-ae44-1ac580802b36",
   "metadata": {},
   "outputs": [],
   "source": [
    "# print the memory allocated for each\n",
    "print(\"Memory utilized for int arrays:\")\n",
    "print(f\"  int8  array: {sys.getsizeof(arr_int8)} bytes\")\n",
    "print(f\"  int16 array: {sys.getsizeof(arr_int16)} bytes\")\n",
    "print(f\"  int32 array: {sys.getsizeof(arr_int32)} bytes\")\n",
    "print(f\"  int64 array: {sys.getsizeof(arr_int64)} bytes\")\n",
    "print(f\"  float32 array: {sys.getsizeof(arr_float32)} bytes\")\n",
    "print(f\"  float64 array: {sys.getsizeof(arr_float64)} bytes\")"
   ]
  },
  {
   "cell_type": "markdown",
   "id": "75197f57-b9f0-43b3-b4ab-628e9c06ff70",
   "metadata": {},
   "source": [
    "### Observations\n",
    "We can see there is a **clear difference**, which is not surprising. So if you're operating with smaller numbers, there is an obvious memory improvement in utilizing the correct data type. **In this case**, since our **elements were not exceeding 127**, we **could have used an int8** array, which would be **8 times smaller than** the corresponding **int64** array.\n",
    "\n",
    "It's interesting to see that int32 and float32, and int64 and float64, have the same size. So there is not extra overhead for floats."
   ]
  },
  {
   "cell_type": "markdown",
   "id": "1e8fdb8e-7209-47a0-a8b5-3421b537c63f",
   "metadata": {},
   "source": [
    "### What about Python lists?\n",
    "**We said** that a **NumPy array** is **more memory efficient than a Python list**. So let's **verify** what would be the **memory utilized for a Python list** of similar integers. For a **regular list**, we are bound by the **standard Python integer type**."
   ]
  },
  {
   "cell_type": "code",
   "execution_count": null,
   "id": "9d406266-4e07-4048-a6e8-814dfb788c8e",
   "metadata": {},
   "outputs": [],
   "source": [
    "int_list = []\n",
    "for i in range(arr_size):\n",
    "    # generate a random value\n",
    "    value = random.randint(0, 127)\n",
    "\n",
    "    # assign same value to all arrays\n",
    "    int_list.append(value)\n",
    "\n",
    "# print a first number just to confirm it worked\n",
    "print(f\"int_list[0] = {int_list[0]}\")"
   ]
  },
  {
   "cell_type": "code",
   "execution_count": null,
   "id": "28ab67f5-4598-40dc-9ddc-eb6001f69a6a",
   "metadata": {},
   "outputs": [],
   "source": [
    "# print the memory allocated for each\n",
    "print(\"Memory utilized for int arrays:\")\n",
    "print(f\"  int_list: {sys.getsizeof(int_list)} bytes\")"
   ]
  },
  {
   "cell_type": "markdown",
   "id": "f60bff24-5a10-4c0d-9028-90a08544cd4d",
   "metadata": {},
   "source": [
    "If we compare with the sizes for the NumPy arrays, that **seems comparable** (a little bigger) **to** a **NumPy int64 array**. **That's a bit wasteful**, considering that's the largest possible data type in NumPy."
   ]
  },
  {
   "cell_type": "markdown",
   "id": "d0a2c0c9-b808-41a6-bed4-0bb1fff6812e",
   "metadata": {
    "jp-MarkdownHeadingCollapsed": true
   },
   "source": [
    "## <span style=\"color:blue\">OPTIONAL</span> Data type conversions"
   ]
  },
  {
   "cell_type": "markdown",
   "id": "3dac957b-4e1d-466a-b567-29fd3b37c3df",
   "metadata": {},
   "source": [
    "If **after creating an array** you realize you need to **change the data type**, you can do that using the **[astype function](https://numpy.org/doc/stable/reference/generated/numpy.ndarray.astype.html)**. You may want to do that either because you realized the data type you have is more than you need, or because you realize you need a bigger data type to fit new values. You may also need to change if the data type was incorrecly set, such as an array that was meant for floats, created as an int array.\n",
    "\n",
    "Please note that **this will not make a change in place**, but will instead **create a new copy**. "
   ]
  },
  {
   "cell_type": "markdown",
   "id": "60cc75ff-d8ce-4a20-a89b-c06a2f813ab5",
   "metadata": {},
   "source": [
    "### Conversion to a different data type size"
   ]
  },
  {
   "cell_type": "code",
   "execution_count": null,
   "id": "d02462c7-a746-4a56-a78c-7584d2c42573",
   "metadata": {},
   "outputs": [],
   "source": [
    "# Update the int64 array to a new more efficient int32 array\n",
    "new_arr_int32 = arr_int64.astype(np.int32)\n",
    "\n",
    "# Confirm data was not changed, by printing the first element\n",
    "print(\"Data is the same:\")\n",
    "print(f\"arr_int64[0] = {arr_int64[0]}\")\n",
    "print(f\"new_arr_int32[0] = {new_arr_int32[0]}\")\n",
    "\n",
    "# Confirm data type and memory utilization have changed\n",
    "print(\"\\nData type and memory used changed:\")\n",
    "print(f\"arr_int64.dtype     = {arr_int64.dtype} - Memory usage: {sys.getsizeof(arr_int64)} bytes\")\n",
    "print(f\"new_arr_int32.dtype = {new_arr_int32.dtype} - Memory usage: {sys.getsizeof(new_arr_int32)} bytes\")"
   ]
  },
  {
   "cell_type": "markdown",
   "id": "b2ad9ea4-67f3-4538-8943-d5cc5a3e5b26",
   "metadata": {},
   "source": [
    "### Conversion to a different data type\n",
    "One **common scenario is converting between int and float**. Look at the scenario below, where I create an array initalizing values to 0, which I plan to use to add floating point values."
   ]
  },
  {
   "cell_type": "code",
   "execution_count": null,
   "id": "a5a34b24-01a0-43ed-b77b-1ffd41a79124",
   "metadata": {},
   "outputs": [],
   "source": [
    "# create a new array, initializing values to 0\n",
    "new_arr = np.array([0, 0, 0, 0, 0])\n",
    "\n",
    "# Enter Pi as the first value\n",
    "new_arr[0] = 3.1416\n",
    "\n",
    "# print the value of Pi\n",
    "print(\"Pi, up to 4 decimal places is: \", new_arr[0])"
   ]
  },
  {
   "cell_type": "markdown",
   "id": "c7c576ec-8d41-4f94-afe9-99d3588d69ff",
   "metadata": {},
   "source": [
    "**What hapenned?**\n",
    "\n",
    "**In this line**:\n",
    "> new_arr = np.array([0, 0, 0, 0, 0])\n",
    "\n",
    "We **did not specify a dtype**, so **NumPy defaulted to an integer array** (int32 to be precise). We'll verify that next.\n",
    "\n",
    "So **in this line**, we were **trying to assign** a **float** value **in** an **integer array**:\n",
    "> new_arr[0] = 3.1416\n",
    "\n",
    "**NumPy automatically converts the float value to an int**, truncating the decimal part. That's why the next line will print \"3\".\n",
    "\n",
    "To resolve this problem, we'll **convert the array to a float array**."
   ]
  },
  {
   "cell_type": "code",
   "execution_count": null,
   "id": "b7a223b6-88a9-48f1-bcc2-0d0824be6809",
   "metadata": {},
   "outputs": [],
   "source": [
    "# print the current array type\n",
    "print(f\"Current array type: {new_arr.dtype}\")\n",
    "\n",
    "# convert the array to a float32 array\n",
    "print(\"\\nConverting array ...\")\n",
    "new_arr = new_arr.astype(np.float32)\n",
    "\n",
    "# print the updated array type\n",
    "print(f\"\\nUpdated array type: {new_arr.dtype}\")\n",
    "\n",
    "# Enter Pi as the first value\n",
    "new_arr[0] = 3.1416\n",
    "\n",
    "# print the value of Pi\n",
    "print(\"\\nPi, up to 4 decimal places is: \", new_arr[0])\n"
   ]
  },
  {
   "cell_type": "markdown",
   "id": "cd7ed83e-954a-4830-ad34-f7f000038cd2",
   "metadata": {
    "jp-MarkdownHeadingCollapsed": true
   },
   "source": [
    "**What's all this extra \"warnings\" stuff?** \n",
    "This one is a bit complicated, because it's **something that is getting changed**. The **error** here **is** when we try to **assign 200 to the array**. That's because an **int8 array** can only have **numbers in the range of -128 to 127** . 2<sup>8</sup> is 256, but in a signed array half of that is used for negative values.\n",
    "\n",
    "**Currently, NumPy will automatically convert the number**, which sometimes can be good, but in this is a bit dangerous, since it will NOT actually set it to 200 (you can't fit something bigger than the space you have). So that **conversion** feature **for overflows is being deprecated**, and in the future it will generate an error.\n",
    "\n",
    "**In order to force it to make it an error** now, I **use the two lines you see in the beginning of the block**. Had I not done that, we would get a nasty looking deprecation warning."
   ]
  },
  {
   "attachments": {},
   "cell_type": "markdown",
   "id": "8ab66d08-d5d3-460c-94c4-e57e58a37625",
   "metadata": {},
   "source": [
    "# NumPy Array Dimensions\n",
    "All the examples we've seen so far have been with one-dimensional arrays. We started with them, because they are the most common, and the easiest to visualize. However **NumPy** can **support arrays of multiple dimensions**:\n",
    "- **Zero-dimensional** arrays – referred to as **scalars**, these are **single values** or elements\n",
    "- **One-dimensional** arrays – referred to as **vectors**, these are **ordered sequence** of elements\n",
    "- **Two-dimensional** arrays - referred to as a **matrices**, they resemble **tables with rows and columns**\n",
    "- **Three-dimensional** arrays - referred to as **tensors** , they are **cube-like** structures\n",
    "- **Four-dimensions and beyond**\n",
    "    - **NumPy** will **support** arrays of nearly **unlimited dimensions**\n",
    "    - They are not easy to visualize, but are useful in scientific calculations and machine learning among other things"
   ]
  },
  {
   "cell_type": "markdown",
   "id": "677bb0ab-2490-4a33-a550-84e6dc652e20",
   "metadata": {},
   "source": [
    "We'll look at examples of how to create arrays of each dimension now. I'll **use** a common **theme of grades in a class** as I progress from dimension to dimension. In our examples, when we want to **check the number of dimensions**, we can **use** the **[ndim attribute](https://numpy.org/doc/stable/reference/generated/numpy.ndarray.ndim.html#).**. We can also **view** the **number of elements accross each dimension**, or axis, **using** the **[shape attribute](https://numpy.org/devdocs/reference/generated/numpy.ndarray.shape.html)**."
   ]
  },
  {
   "cell_type": "markdown",
   "id": "05e466c7-396e-4c80-abc8-221188539d56",
   "metadata": {},
   "source": [
    "## Zero-dimensional array (scalar)\n",
    "Zero-dimensional arrays, referred to as scalars, are single values or elements. So for our example, let's say I'm creating a **single grade for one student in a test for one class**. Assume our grading scale is from 0 to 100."
   ]
  },
  {
   "cell_type": "code",
   "execution_count": null,
   "id": "3edec7a2-a4d6-454c-8f16-24b43ca7aed8",
   "metadata": {},
   "outputs": [],
   "source": [
    "# create a single grade element\n",
    "grade = np.array(92)\n",
    "\n",
    "# print the value and number of dimensions\n",
    "print(f\"Dimensions: {grade.ndim}\")\n",
    "print(f\"Value: {grade}\")"
   ]
  },
  {
   "cell_type": "markdown",
   "id": "56028e83-ce5e-4879-a4f0-7c476e1e41a3",
   "metadata": {},
   "source": [
    "This **may seem** a bit **uncessary**, creating a NumPy ndarray for a single element, and that's true. We **wouldn't normally create individual zero-dimensional arrays** like this. In practical terms, a **zero-dimensional array, or scalar**, can be thought of as the **type of a single element in a larger array**.\n",
    "\n",
    "For example, let's **recreate** the **simple one-dimensional array** we used earlier in our introduction. We can print a single element staright out as if it was a plain value. But if we check the **type of a single element**, we see that it is in fact a **numpy object**, of **dimension 0**."
   ]
  },
  {
   "cell_type": "code",
   "execution_count": null,
   "id": "2c01b89b-b4f8-4749-bf2d-6ccebed324ad",
   "metadata": {},
   "outputs": [],
   "source": [
    "# create a simple one dimensional NumPy arrar\n",
    "arr_int32 = np.array([-1, 0, 1, 2], dtype='int32')\n",
    "\n",
    "# print the first element\n",
    "print(f\"First element value: {arr_int32[0]}\")\n",
    "print(f\"First element type: {type(arr_int32[0])}\")\n",
    "print(f\"First element dimensions: {arr_int32[0].ndim}\")"
   ]
  },
  {
   "cell_type": "markdown",
   "id": "68d6e898-e6c1-4809-a49a-8d1d2e8f907a",
   "metadata": {},
   "source": [
    "## One-dimensional array (vector)\n",
    "One-dimensional arrays, referred to as vectors, are ordered sequence of elements. \n",
    "\n",
    "Going back to our grade example, now we need to **store** the **final grades** for **one student** in **each quarter of a class**. So assume the **student** had a grade of **92 in the first quarter**, **then 83, 90, and 87** in the subsequent quarters. We will **store** these **values in a one-dimensional NumPy array**. We can **visualize** this structure in the **image below**."
   ]
  },
  {
   "attachments": {
    "da4bcfd8-6b67-4b65-9217-c238a6111552.png": {
     "image/png": "[encoded data removed]"
    }
   },
   "cell_type": "markdown",
   "id": "a5750d09-5f1a-4d2d-aac8-068a8a4c9536",
   "metadata": {},
   "source": [
    "![Picture1.png](attachment:da4bcfd8-6b67-4b65-9217-c238a6111552.png)"
   ]
  },
  {
   "cell_type": "markdown",
   "id": "d23c6d93-333a-4d52-874a-79b041c52cc6",
   "metadata": {},
   "source": [
    "Let's create it:"
   ]
  },
  {
   "cell_type": "code",
   "execution_count": null,
   "id": "26fcac33-f501-4a46-ab80-44c46f069b76",
   "metadata": {},
   "outputs": [],
   "source": [
    "# create a single grade element\n",
    "class_grades = np.array([92, 83, 90, 87], dtype='int8')\n",
    "\n",
    "# print the value and number of dimensions\n",
    "print(f\"Dimensions: {class_grades.ndim}\")\n",
    "print(f\"Shape: {class_grades.shape}\")\n",
    "print(f\"Value: {class_grades}\")"
   ]
  },
  {
   "cell_type": "markdown",
   "id": "c1e36270-06e0-410f-9f6b-cc7396971898",
   "metadata": {},
   "source": [
    "**Note**: Did you notice that I **used** the very **small dtype of int8**? If I used the **default integer** size, which is int32, I would allocating 32 bits for each grade, which is large enough for a value of **2,147,483,647**.  But that would be a **great waste**, considering my **maximum grade is 100**. **int8** can go **up to 127**, so that's a **good fit**, and I'm being **memory efficient.**\n",
    "\n",
    "The **shape attribute** value of **(4,)** tells us we **have 4 elements in this axis**, which is the only one we have, since this is a one-dimensional array."
   ]
  },
  {
   "cell_type": "markdown",
   "id": "d7da710a-6258-4900-b862-eb35f05a43df",
   "metadata": {},
   "source": [
    "## Two-dimensional array (matrix)\n",
    "Two-dimensional arrays, referred to as a matrices, resemble **grids with rows and columns**.\n",
    "\n",
    "For an example, let's continue on our class grades journey. Now, we want to **store a student grade's for 3 classes**. As we commonly do in IT, we will **map the class names to an integer**, since numbers are faster to process than strings. So we define the class numbers as:\n",
    "- 0: English\n",
    "- 1: Math\n",
    "- 2: History\n",
    "\n",
    "We will create a **two-dimension NumPy array**, where **each row represents one class**. We **represent** each **class grades as we did before**, with one element for each quarter. We can **visualize** this matrix in the **image below**."
   ]
  },
  {
   "attachments": {
    "64323c9a-b764-4f65-ac9b-c8a89e5f06e7.png": {
     "image/png": "[encoded data removed]"
    }
   },
   "cell_type": "markdown",
   "id": "4071a1d7-1f6d-4938-aa33-ea1a563ca630",
   "metadata": {},
   "source": [
    "![Picture2.png](attachment:64323c9a-b764-4f65-ac9b-c8a89e5f06e7.png)"
   ]
  },
  {
   "cell_type": "markdown",
   "id": "c8e66211-4f35-4f9b-afb6-1159c6f72555",
   "metadata": {},
   "source": [
    "Let's create it:"
   ]
  },
  {
   "cell_type": "code",
   "execution_count": null,
   "id": "910dec9a-1c24-4ec2-9a58-c32193f53f24",
   "metadata": {},
   "outputs": [],
   "source": [
    "# create a NumPy for 3 classes and 4 quarter2\n",
    "student_grades = np.array([[77, 79, 75, 80],\n",
    "                           [92, 83, 90, 87],\n",
    "                           [72, 86, 94, 95]],\n",
    "                          dtype='int8')\n",
    "\n",
    "# print the value and number of dimensions\n",
    "print(f\"Dimensions: {student_grades.ndim}\")\n",
    "print(f\"Shape: {student_grades.shape}\")\n",
    "print(f\"Value:\\n {student_grades}\")"
   ]
  },
  {
   "cell_type": "markdown",
   "id": "797236ea-6962-480c-a89b-3f6bae8cf3f0",
   "metadata": {},
   "source": [
    "The cool part here is that **now we can have lightening fast access to specific grades**, by **using array indexes**. In our NumPy array, a grade for one class in one quarter will be: `student_grades[<class index>][<quarter index>]`\n",
    "\n",
    "For example ..."
   ]
  },
  {
   "cell_type": "code",
   "execution_count": null,
   "id": "c047c643-b5f8-429a-923e-a828181af2f3",
   "metadata": {},
   "outputs": [],
   "source": [
    "# Print the english grade in the second quarter \n",
    "print(f\"Grade[0][1]: {student_grades[0][1]}\")\n",
    "\n",
    "# Print the history grade in the fourth quarter \n",
    "print(f\"Grade[2][3]: {student_grades[2][3]}\")"
   ]
  },
  {
   "cell_type": "markdown",
   "id": "3841cb55-e318-4bfb-b03c-3ab2e43ddd71",
   "metadata": {},
   "source": [
    "## Three-dimensional array (tensor)\n",
    "Three-dimensional arrays, referred to as tensors, they are cube-like structures.\n",
    "\n",
    "Let's continue with our grades scenario for an example. **Right now**, we **have** a **2 dimensional array** that can store **grades for a one class in** each **rows**, and the **grade for each quarter in** the **columns** for **one student**. **What if** we **want to store** the **grades for all** my **students?** I would need one of these 2 dimensional arrays for each of my students. I can **combine them all in a 3 dimensional array**, where the **first dimension will be an index for the student**. So if each of my students are assigned a number from 0 to n (assigning numbers to students is a common practice in any case), my **array would look like**: `all_student_grades[<student index>][<class index>][<quarter index>]`\n",
    "\n",
    "For our example, so that our initializations don't get crazy long, let's assume we are tracking 4 students. The students in my class (named after my pets) are:\n",
    "- 0: Tucker\n",
    "- 1: Luke\n",
    "- 2: Finn\n",
    "- 3: Lexi\n",
    "\n",
    "We can **visualize** this multi-dimensional array in the **image below**, where each student is one \"slice\" in the cube."
   ]
  },
  {
   "attachments": {
    "4dab3adc-7deb-4742-9f91-24186fa0fe62.png": {
     "image/png": "[encoded data removed]"
    }
   },
   "cell_type": "markdown",
   "id": "35106292-863d-4748-8f95-66e534d1a95c",
   "metadata": {},
   "source": [
    "![Picture3.png](attachment:4dab3adc-7deb-4742-9f91-24186fa0fe62.png)"
   ]
  },
  {
   "cell_type": "markdown",
   "id": "0727f683-7636-4fe9-86eb-1c59beca5c41",
   "metadata": {},
   "source": [
    "Let's create it:"
   ]
  },
  {
   "cell_type": "code",
   "execution_count": null,
   "id": "da242b82-af75-441c-ba67-48696471f719",
   "metadata": {},
   "outputs": [],
   "source": [
    "# create a NumPy for 4 students, 3 classes and 4 quarter grades\n",
    "all_student_grades = np.array([[[77, 79, 75, 80],\n",
    "                                [92, 83, 90, 87],\n",
    "                                [72, 86, 94, 95]],\n",
    "                               [[88, 91, 89, 77],\n",
    "                                [78, 82, 80, 98],\n",
    "                                [92, 86, 94, 86]],\n",
    "                               [[91, 93, 90, 92],\n",
    "                                [88, 82, 80, 87],\n",
    "                                [72, 76, 74, 75]],\n",
    "                               [[81, 83, 80, 82],\n",
    "                                [78, 82, 80, 87],\n",
    "                                [92, 86, 94, 95]]],\n",
    "                              dtype='int8')\n",
    "\n",
    "# print the value and number of dimensions\n",
    "print(f\"Dimensions: {all_student_grades.ndim}\")\n",
    "print(f\"Shape: {all_student_grades.shape}\")\n",
    "print(f\"Value:\\n {all_student_grades}\")"
   ]
  },
  {
   "cell_type": "markdown",
   "id": "608e7995-6719-47f1-8847-2286f64de37f",
   "metadata": {},
   "source": [
    "The **shape of (4, 3, 4)** tells me I have **4 elements** in the **first axis (4 students)**, **3 elements** in the **second axis (3 classes)**, and **4 elements** in the **third axis (4 quarters)**.\n",
    "\n",
    "And once again, I can **use indexes to directly access any value**. For example ..."
   ]
  },
  {
   "cell_type": "code",
   "execution_count": null,
   "id": "da844ed4-ff3a-421f-a6b8-bd9d3818b0ed",
   "metadata": {},
   "outputs": [],
   "source": [
    "# Print the Tucker's Math grade in the third quarter\n",
    "print(f\"Grade[0][1][2]: {all_student_grades[0][1][2]}\")\n",
    "\n",
    "# Print Finn's history grade in the first quarter \n",
    "print(f\"Grade[3][2][0]: {all_student_grades[3][2][0]}\")"
   ]
  },
  {
   "cell_type": "markdown",
   "id": "72c27d02-1fbd-4085-95d1-951bfc7b9e38",
   "metadata": {},
   "source": [
    "### Reminder of initialization of arrays\n",
    "That **creation of our 3-dimensional array required a very long statement**. **In reality**, we wouldn't be creating an array like with all the values spelled out at creation time. We would **either** be **populating** them **from a file**, **or updating** them **over time**. Take our grades scenario for instance. Grades would be added one at a time, as the school year progressed.\n",
    "\n",
    "We **showed earlier** how we can **initialize an array** with the expected number of elements, without having to specify them. We will use the **[full function](https://numpy.org/doc/stable/reference/generated/numpy.full.html)** to initialize aour array with -1 values (we don't want to use 0, because sadly that could be someones real grade). In the earlier examples we used them to unitialize a one-dimensional array, but we **can provide** the **shape as** an **input**, and the functions will **initialize values across all dimensions**."
   ]
  },
  {
   "cell_type": "markdown",
   "id": "590968a6-5cb0-4e70-9fe7-ce8551c59536",
   "metadata": {},
   "source": [
    "#### Initialize three dimensional array with zeros\n",
    "Let's **initialize a three dimensional array for our grades scenario**. Remember, we need to allocate space for **4 students**, **3 classes**, and grades for **4 quarters**. So our **shape was (4, 3, 4)**."
   ]
  },
  {
   "cell_type": "code",
   "execution_count": null,
   "id": "6a26b39f-249f-4dc8-8a03-3eff9d2c099f",
   "metadata": {},
   "outputs": [],
   "source": [
    "# create an new grade array initialized with -1 in all elements\n",
    "new_student_grades = np.full((4, 3, 4), fill_value = -1, dtype='int8')\n",
    "\n",
    "# print the value and number of dimensions\n",
    "print(f\"Dimensions: {new_student_grades.ndim}\")\n",
    "print(f\"Shape: {new_student_grades.shape}\")\n",
    "print(f\"Value:\\n {new_student_grades}\")"
   ]
  },
  {
   "cell_type": "markdown",
   "id": "25d9d52a-742d-4551-b4ac-a832e6db227c",
   "metadata": {},
   "source": [
    "Now we are **able** to **set grades individually**. \n",
    "\n",
    "**For example**, if **Luke** (student index of 1), **received 95 in** his **English** test (class index of 0), in the **3rd quarter** (quarter index of 2), we could **update it as follows**:"
   ]
  },
  {
   "cell_type": "code",
   "execution_count": null,
   "id": "ecf83bf5-6850-4095-a256-465094f27fce",
   "metadata": {},
   "outputs": [],
   "source": [
    "# set grade for Luke, in English, on 3rd quarter\n",
    "new_student_grades[1][0][2] = 95\n",
    "\n",
    "# print updated array\n",
    "print(f\"Value:\\n {new_student_grades}\")"
   ]
  },
  {
   "cell_type": "markdown",
   "id": "6b32e0d9-a3c1-468b-a2a5-d725f1ccfd43",
   "metadata": {},
   "source": [
    "## Four-dimensional array\n",
    "**You thought we were done? No!** The NumPy world doesn't end with three dimensions.\n",
    "\n",
    "Although we **cannot easily visualize** them with a picture, **multi-dimensional arrays** can be **used to express** how various **different factors contribute to an end value**. In Machine Learning, each dimension might represent a different attribute, and the values in the indovidual elements represent how all the different attributes contributed to a result.\n",
    "\n",
    "Even our simple **class grade example can be expanded into a four dimensioanl array**. Let's say we want to **expand** our **previous example** of grades for students, such that we now **track their whole academic history**, from 1st grade to 12th. Our NumPy array will have the school year as the first axis, and the following axes will be the same ones we had before. So **these would be the axes**:\n",
    "1. **School year**: 1st grade (index 0) through 12th grade (index 11)\n",
    "2. **Student #**: Index representing the student\n",
    "3. **Class subject**: O for English, 1 for Math, and 2 for History\n",
    "4. **School quarter**: Q1 (index 0) through Q4 (index 3) \n",
    "\n",
    "\n",
    "We **can't visualize** arrays **beyond 3 dimensions with** clear **images**, but that might be a good thing. Because we **can start viewing** these **arrays as** just **ways of representing multiple attributes**, without getting too bogged down with the Math."
   ]
  },
  {
   "cell_type": "markdown",
   "id": "6ac3afa2-7891-4bba-8c68-9c51c19ceb68",
   "metadata": {},
   "source": [
    "### Initialize a four-dimensional array\n",
    "We're **not** going to **manually** enter 12 grades worth of grades for our students **as we create** the **array**. It's possible, but it would not be practical. So we **will use** the same **full function** we use previously.\n",
    "\n",
    "Since we're not entering values one by one, we might as well make it more realistic, and **add a few more students to our class**. Let's say **30**. So my **array dimensions will be**:\n",
    "- **12** in the **school year axis**\n",
    "- **30** in the **student # axis**\n",
    "- **3** in the **class subject axis** (because English, Math, and History are probably the only subjects common between 1st and 12th grade)\n",
    "- **4** for **school quarter axis**\n",
    "\n",
    "**With** the **values above**, our **array shape** is **(12, 30, 3, 4)**. This **array will have 4320** elements (12 x 30 x 3 x 4), which we **can verify with** the **[size attribute](https://numpy.org/doc/stable/reference/generated/numpy.ndarray.size.html#)**."
   ]
  },
  {
   "cell_type": "code",
   "execution_count": null,
   "id": "d915714d-c00a-40df-becf-d01e1053bc15",
   "metadata": {},
   "outputs": [],
   "source": [
    "# initialize a four dimensional array for complete student history\n",
    "all_students_transcript = np.full((12, 30, 3, 4), fill_value = -1, dtype='int8')\n",
    "\n",
    "# print the value and number of dimensions\n",
    "print(f\"Dimensions: {all_students_transcript.ndim}\")\n",
    "print(f\"Shape: {all_students_transcript.shape}\")\n",
    "print(f\"Size: {all_students_transcript.size}\")\n",
    "\n",
    "# print the value, but truncate the output to a max 200 characters\n",
    "print(f\"Value:\\n {str(all_students_transcript)[:200]}\")"
   ]
  },
  {
   "cell_type": "markdown",
   "id": "180bbc4a-0a74-4618-a675-89140851424c",
   "metadata": {},
   "source": [
    "### Assign values to a four-dimensional array\n",
    "We will **not** be **manually setting 4,320 elements** in our array. We'll **use loops to generate** all the **indexes**, and **generate random grades between 50 and 100** for each grade."
   ]
  },
  {
   "cell_type": "code",
   "execution_count": null,
   "id": "b2025a9c-dbb2-4af2-83b6-0ee423ba5de6",
   "metadata": {},
   "outputs": [],
   "source": [
    "# setting a specifc random seed will always generate the same sequence of random numbers\n",
    "# this is not required, but I wanted to see the same grades every time I run this cell\n",
    "random.seed(7)\n",
    "\n",
    "# this nested loop will generate every combination of indexes for school year, student, subject, and quarter\n",
    "for year in range(12):\n",
    "    for student in range(30):\n",
    "        for subject in range(3):\n",
    "            for quarter in range(4):\n",
    "                # generate a random number between 50 and 100, and assign to array\n",
    "                grade = random.randint(50, 100)\n",
    "                all_students_transcript[year][student][subject][quarter] = grade"
   ]
  },
  {
   "cell_type": "markdown",
   "id": "6b8d2c4f-2fae-489e-9d56-54ff9678ac03",
   "metadata": {},
   "source": [
    "### Retrieve values from a four-dimensional array\n",
    "As we've done before, **retrieving information** for any **one element** is a **simple** matter of **using the indexes**. Independent of size and dimension, this **retrieval** will always be a very fast **O(1) time complexity** operation."
   ]
  },
  {
   "cell_type": "code",
   "execution_count": null,
   "id": "e27ebede-ec33-48c6-a104-9c3d5e4a65e0",
   "metadata": {},
   "outputs": [],
   "source": [
    "# Get the 2nd quarter history grade, for student # 17, on his 6th grade in middle-school. So:\n",
    "# Grade index: 5 (remember indexes start at 0)\n",
    "# Student index: 17\n",
    "# Subject index: 2\n",
    "# Quarter index: 1\n",
    "print(f\"Grade[5][17][2][1]: {all_students_transcript[5][17][2][1]}\")\n",
    "\n",
    "# Get the 1st quarter English grade, for student # 5, on his 9th grade in high-school. So:\n",
    "# Grade index: 8\n",
    "# Student index: 5\n",
    "# Subject index: 0\n",
    "# Quarter index: 0\n",
    "print(f\"Grade[8][5][0][0]: {all_students_transcript[8][5][0][0]}\")"
   ]
  },
  {
   "cell_type": "markdown",
   "id": "dc2aeb11-08ac-4b66-90e4-154dca8eee2c",
   "metadata": {},
   "source": [
    "## More and more dimensions\n",
    "**I'm going to stop at four dimensions**. For one thing, I don't think I can stretch my grade example anymore, unless we go into the real of science fiction, and I start maintaining a student's transcript across multiple parallel universes.\n",
    "\n",
    "**However, arrays of many dimensions** are **used in multiple fields** of science. They can be **used to express** how various **different factors contribute to an end value**. In **Machine Learning**, **each dimension** might represent a **different attribute**, **and the values** in the individual elements **represent how** all the **different attributes contributed to a result**.\n",
    "\n",
    "Even without examples, I'm sure you can visualize that they would continue to work in a similar way to what I did with the four-dimensional array."
   ]
  },
  {
   "attachments": {},
   "cell_type": "markdown",
   "id": "abebdfb5-2861-4ecb-bab2-38e9e1978a55",
   "metadata": {},
   "source": [
    "# NumPy operations\n",
    "There are a **wide number of operations** which can be performed on arrays **using NumPy**. We'll **cover just a sampling** in here as we go through a scenario, but **for all** the **details** please refer to the **[full documentation](https://numpy.org/doc/stable/index.html)**."
   ]
  },
  {
   "cell_type": "markdown",
   "id": "55b9ed76-b183-4400-8162-33f36aad78c3",
   "metadata": {},
   "source": [
    "## Auto-racing example\n",
    "Just for a little variety, let's switch to an **auto-racing example for data examples**. We'll create arrays with a few different NumPy arrays around that domain. We'll also **see** some **NumPy functions** being used **while we created** this **data**.\n",
    "\n",
    "Here, we'll just start by creating an array from our racers."
   ]
  },
  {
   "cell_type": "code",
   "execution_count": null,
   "id": "fba15948-a7c8-4541-8b80-4af09086164d",
   "metadata": {},
   "outputs": [],
   "source": [
    "# Create a NumPy array for our racers\n",
    "racers = np.array([\"John Stiles\", \n",
    "                   \"Alejandro Rosalez\", \n",
    "                   \"Akua Mansa\", \n",
    "                   \"Marcia Oliveria\", \n",
    "                   \"Diego Ramirez\",\n",
    "                   \"Wei Zhang\",\n",
    "                   \"Saanvi Sarkar\",\n",
    "                   \"Jorge Souza\",\n",
    "                   \"Arnav Desai\", \n",
    "                   \"Mary Major\"])"
   ]
  },
  {
   "cell_type": "markdown",
   "id": "57330eb8-db2f-499b-885a-10fad1cf456e",
   "metadata": {},
   "source": [
    "## Some basic math functions"
   ]
  },
  {
   "cell_type": "markdown",
   "id": "143129f2-5162-45ce-b1e4-416acfc2d767",
   "metadata": {},
   "source": [
    "### NumPy random\n",
    "**NumPy has** a number of **builtin functions** to **generate random numbers**, they'll create the numbers and have them ready in a numpy array. In our example, **we'll use** the **[Generator class](https://numpy.org/doc/stable/reference/random/generator.html)**, and the **[uniform method](https://numpy.org/doc/stable/reference/random/generated/numpy.random.Generator.uniform.html)**."
   ]
  },
  {
   "cell_type": "code",
   "execution_count": null,
   "id": "60d0ce32-1d52-4553-8ab9-fb025959ad91",
   "metadata": {},
   "outputs": [],
   "source": [
    "# define a NumPy random Generator object (passing a seed to get the same numbers in each run)\n",
    "rng = np.random.default_rng(3)"
   ]
  },
  {
   "cell_type": "code",
   "execution_count": null,
   "id": "ed12d6cf-eba1-4104-bfab-6c2cb0c4c0a1",
   "metadata": {},
   "outputs": [],
   "source": [
    "# generate 20 random lap times between 120 and 150 seconds\n",
    "lap_times = rng.uniform(120.0, 150.0, 20)\n",
    "lap_times"
   ]
  },
  {
   "cell_type": "markdown",
   "id": "b98c9673-9911-4efe-81a4-02cd2d555a5b",
   "metadata": {},
   "source": [
    "We successfully **created** a **NumPy array with 25 elements for** our **lap times.** However, to be realistic, these **laptimes should go up to milliseconds** in precision, so will **need to round** those really long numbers."
   ]
  },
  {
   "cell_type": "markdown",
   "id": "d6fcb15a-38c9-4136-84aa-4ce7b902ae64",
   "metadata": {},
   "source": [
    "### NumPy round\n",
    "**NumPy has functions** perform**typical mathematical operations** **across an entire array** in one shot. That's the **concept of vectorizarion**, which we will discuss next. In this case, we'll use use the **[round function](https://numpy.org/doc/stable/reference/generated/numpy.round.html#)** to **round** all the **numbers to 3 decimal points**."
   ]
  },
  {
   "cell_type": "code",
   "execution_count": null,
   "id": "c2b2847c-bf28-499a-860c-456afb413bd5",
   "metadata": {},
   "outputs": [],
   "source": [
    "lap_times = np.round(lap_times, 3)\n",
    "lap_times"
   ]
  },
  {
   "cell_type": "markdown",
   "id": "61159cec-f821-442b-8112-98e1def856f4",
   "metadata": {},
   "source": [
    "That's perfect!"
   ]
  },
  {
   "cell_type": "markdown",
   "id": "facd0573-4e4d-4dd2-8eab-9f38a9e247b7",
   "metadata": {},
   "source": [
    "## Combining functions to create more data\n",
    "You can **combine multiple NumPy functions** to generate the array you want. You **can do** that **one function at a time**, **or chain multiple operations together** in a single line. We'll see one example here."
   ]
  },
  {
   "cell_type": "markdown",
   "id": "e7d64a0d-35d0-4ca7-b57b-60d688b4b99e",
   "metadata": {},
   "source": [
    "Assume we can **map our racers to a racer index**. So for the example abover we might have:\n",
    "- 0 - John Stiles\n",
    "- 1 - Alejandro Rosalez\n",
    "- 2 - Akua Mansa\n",
    "- 3 - Marcia Oliveria\n",
    "- 4 - Diego Ramirez\n",
    "- 5 - Wei Zhang\n",
    "- 6 - Saanvi Sarkar\n",
    "- 7 - Jorge Souza\n",
    "- 8 - Arnav Desai\n",
    "- 9 - Mary Major\n",
    "\n",
    "So we can now **create a two dimensional array**, to **record the laps for each racer** in a race of **15 laps**. We'll use two functions here:\n",
    "- **First** we'll **use** the **uniform function**, and we'll **specify the shape of the output array** to give use 10 racers, with 15 laps\n",
    "- We **chain** that **output** directly **to** the **round function**, to round all laps to milliseconds"
   ]
  },
  {
   "cell_type": "code",
   "execution_count": null,
   "id": "796acffd-ea17-4858-bdda-fd1b8ccd1703",
   "metadata": {},
   "outputs": [],
   "source": [
    "# Create a two dimenstional array with 15 random lap times for 10 racers\n",
    "racers_lap_times = rng.uniform(120.0, 150.0, (10, 15))\n",
    "\n",
    "# round the lap times to 3 decimals\n",
    "racers_lap_times = np.round(racers_lap_times, 3)\n",
    "\n",
    "# print the value and number of dimensions\n",
    "print(f\"Dimensions: {racers_lap_times.ndim}\")\n",
    "print(f\"Shape: {racers_lap_times.shape}\")\n",
    "print(f\"Value:\\n {racers_lap_times}\")"
   ]
  },
  {
   "cell_type": "markdown",
   "id": "a40d6738-bd28-43ef-a20f-8177836e70a7",
   "metadata": {},
   "source": [
    "## More indexing and slicing"
   ]
  },
  {
   "cell_type": "markdown",
   "id": "e50f1576-ebbd-4c2a-a463-dab5298eccf6",
   "metadata": {},
   "source": [
    "## Retrieving elements from the end\n",
    "A **negative index retrieves elements from the end**"
   ]
  },
  {
   "cell_type": "code",
   "execution_count": null,
   "id": "becbd6fb-2e49-4645-9256-c6dc41e3d102",
   "metadata": {},
   "outputs": [],
   "source": [
    "# Retrieve the last racer name\n",
    "print(f\"Last racer: {racers[-1]}\")"
   ]
  },
  {
   "cell_type": "code",
   "execution_count": null,
   "id": "5692e462-c9db-49d3-8f85-e1bdf8a69055",
   "metadata": {},
   "outputs": [],
   "source": [
    "# retrive the lap time for the 2nd to last racer index\n",
    "print(f\"Penultimate racer final lap time: {racers_lap_times[-2][-1]}\")"
   ]
  },
  {
   "cell_type": "markdown",
   "id": "26f663ad-b16b-4f58-988b-f186521d81b2",
   "metadata": {},
   "source": [
    "### Slicing portions of the array"
   ]
  },
  {
   "cell_type": "code",
   "execution_count": null,
   "id": "2485b766-2eae-4435-a52e-edbe151ba530",
   "metadata": {},
   "outputs": [],
   "source": [
    "# Retriving the racers name from 2 to 8\n",
    "print(f\"Racers 2 to 8: {racers[2:8]}\")"
   ]
  },
  {
   "cell_type": "code",
   "execution_count": null,
   "id": "235bf718-cc7b-445d-8ffd-81681593713a",
   "metadata": {},
   "outputs": [],
   "source": [
    "# Retrieving the last 5 laps for the first 3 racers\n",
    "print(f\"Last 5 laps for first 3 racers:\\n {racers_lap_times[:3, -5:]}\")"
   ]
  },
  {
   "cell_type": "markdown",
   "id": "43ecaee2-303b-4de8-8d6f-cf32f3478593",
   "metadata": {},
   "source": [
    "### Slicing with alternating elements"
   ]
  },
  {
   "cell_type": "code",
   "execution_count": null,
   "id": "943658e6-1f51-40b2-b57b-019a21ad0011",
   "metadata": {},
   "outputs": [],
   "source": [
    "# Retrieving every other lap for the 3rd racer\n",
    "print(f\"Every other lap for 3rd racer:\\n {racers_lap_times[2, ::2]}\")"
   ]
  },
  {
   "cell_type": "markdown",
   "id": "22246f9d-1c14-46b6-afb4-1c7f00347952",
   "metadata": {},
   "source": [
    "### Assigning to slices\n",
    "You can assign new values to a slice, and that will modify that data in place."
   ]
  },
  {
   "cell_type": "code",
   "execution_count": null,
   "id": "158cbb4c-721f-4532-86b4-a256918e9305",
   "metadata": {},
   "outputs": [],
   "source": [
    "# print the last racer's lap times\n",
    "print(f\"   Last racer laps: {racers_lap_times[-1]}\")\n",
    "\n",
    "# Replace laps 5 through 9 for the last racer with new random values\n",
    "racers_lap_times[-1, 5:10] = np.round(rng.uniform(120.0, 150.0, 5), 3)\n",
    "\n",
    "# print the updated last racer's lapo times\n",
    "print(f\"Updated racer laps: {racers_lap_times[-1]}\")"
   ]
  },
  {
   "cell_type": "markdown",
   "id": "c5eb8338-2b78-4d39-ae3e-61fa2bbdc621",
   "metadata": {},
   "source": [
    "**Note** that the **first 5 laps** are **not changed**, **but laps 5-10 are different** in the updated array."
   ]
  },
  {
   "cell_type": "markdown",
   "id": "a3e6e47f-08d5-4cb4-b6c6-e7ddcf5e4d36",
   "metadata": {},
   "source": [
    "## Iterating\n",
    "We've already seen that we **can iterate using the array indexes**, **but** NumPy **also** supports standard **Python iterators.**"
   ]
  },
  {
   "cell_type": "markdown",
   "id": "9bd41ab8-833f-4965-b2f5-0a13e8eb8a59",
   "metadata": {},
   "source": [
    "### Iterating in one dimension"
   ]
  },
  {
   "cell_type": "code",
   "execution_count": null,
   "id": "9c5eef29-bc0a-4daf-b3f1-aa79e1ddf951",
   "metadata": {},
   "outputs": [],
   "source": [
    "# iterate through array of racer\n",
    "for racer in racers:\n",
    "    print(f\"Item: {racer}\")"
   ]
  },
  {
   "cell_type": "markdown",
   "id": "bd9cbe0a-ac8e-46cc-bfa2-bded3fdc4f2a",
   "metadata": {},
   "source": [
    "### Iterating in two dimensions"
   ]
  },
  {
   "cell_type": "code",
   "execution_count": null,
   "id": "aa478be2-cfbe-433a-b5d1-a3f818237013",
   "metadata": {},
   "outputs": [],
   "source": [
    "# iterate through racer laps\n",
    "for racer_laps in racers_lap_times:\n",
    "    print(f\"Item: {racer_laps}\")"
   ]
  },
  {
   "cell_type": "markdown",
   "id": "e62228be-ba08-4aed-812a-ac444a0115b0",
   "metadata": {},
   "source": [
    "**Note** that **even though racers_lap_times has two dimensions**, our **iteration** by default only **walked through** the **array row by row**. Each item, replaced one entire row. If we want to iterate through all the items, we have a couple of options."
   ]
  },
  {
   "cell_type": "markdown",
   "id": "e06166d1-ad6a-4ba8-8e47-943eba7b199a",
   "metadata": {},
   "source": [
    "#### Using a nested loop"
   ]
  },
  {
   "cell_type": "code",
   "execution_count": null,
   "id": "0c62304f-53f3-4f90-be9f-34296b1205c9",
   "metadata": {},
   "outputs": [],
   "source": [
    "# iterate through each racer lap\n",
    "for racer_laps in racers_lap_times:\n",
    "    for lap in racer_laps:\n",
    "        print(f\"{lap} \", end='')"
   ]
  },
  {
   "cell_type": "markdown",
   "id": "0313356f-68bb-4e25-b289-0d4391e46d61",
   "metadata": {},
   "source": [
    "#### Using the nditer class\n",
    "**Another way to**  want to **iterate through every element**  in a **multi-dimensional array**, I can **use** the **[nditer class](\n",
    "https://numpy.org/doc/stable/reference/generated/numpy.nditer.html#)**."
   ]
  },
  {
   "cell_type": "code",
   "execution_count": null,
   "id": "6960b6e8-e6d7-441b-867b-f8a3a3d64697",
   "metadata": {},
   "outputs": [],
   "source": [
    "# iterate through each racer lap using nditer\n",
    "for lap in np.nditer(racers_lap_times):\n",
    "    print(f\"{lap}\", end=' ')"
   ]
  },
  {
   "cell_type": "markdown",
   "id": "5cfc1393-f66f-42cb-91d6-bfedfef9dbd8",
   "metadata": {},
   "source": [
    "nditer has a few other options for iterations beyond just stepping through each item, but we won't discuss them here."
   ]
  },
  {
   "cell_type": "markdown",
   "id": "e7f2732e-21fa-41e8-9a35-d9e81d00e332",
   "metadata": {
    "jp-MarkdownHeadingCollapsed": true
   },
   "source": [
    "## <span style=\"color:blue\">OPTIONAL:</span> Using the ndenumerate class"
   ]
  },
  {
   "cell_type": "markdown",
   "id": "17054a65-9a5c-404d-84ff-fae9af9eb93c",
   "metadata": {},
   "source": [
    "**There are a number** of other **iteration mechanisms provided in NumPy**, which in the interest of time we cannot cover here. Once such example is the ndenumarate class.\n",
    "\n",
    "**If** you want to **iterate through an array**, but also **keep track of which index you are in order**, you can  **use** the **[ndenumerate class](\n",
    "https://numpy.org/doc/stable/reference/generated/numpy.ndenumerate.html#)**. **In addition to returning the element**, it **returns** an **tuple** containing the **position of** the **element in** the **array**."
   ]
  },
  {
   "cell_type": "code",
   "execution_count": null,
   "id": "6d85d854-2bea-481d-8510-66036ccf0a62",
   "metadata": {},
   "outputs": [],
   "source": [
    "# iterate through each racer's with ndenumarate, and use index to print corresponding racers's name\n",
    "racer_idx = -1\n",
    "for index_tuple, lap in np.ndenumerate(racers_lap_times):\n",
    "    # check if this is a new racer\n",
    "    if index_tuple[0] > racer_idx:\n",
    "        racer_idx = index_tuple[0]\n",
    "        print(f\"\\n{racers[racer_idx]} laps: \", end='')\n",
    "    print(lap, end=' ')"
   ]
  },
  {
   "cell_type": "markdown",
   "id": "4c6bdc5b-6eac-46a2-8f80-9c54c101013c",
   "metadata": {},
   "source": [
    "## Searching\n",
    "**Searching for items in** an **NumPy array** will **return the index location** for **items found**. We will **use** the **[where function](https://numpy.org/doc/stable/reference/generated/numpy.where.html)**  to **search**  a **NumPy array based on a specified condition** . "
   ]
  },
  {
   "cell_type": "markdown",
   "id": "e2806749-1d3f-4ad5-bba7-d78a9f67f4cc",
   "metadata": {},
   "source": [
    "### Searching in one dimension\n",
    "We'll start with a one dimension array to make things simpler. We'll **take the laps** for just the **last racer**, Mary Major. Notice we'll **use the [copy function](https://numpy.org/doc/stable/reference/generated/numpy.copy.html)**, so that we **create a new array**, **otherwise** this **would be just a reference**, and changes that we made in the new array would impact the original."
   ]
  },
  {
   "cell_type": "code",
   "execution_count": null,
   "id": "a622d724-fc55-4617-aafa-831ef23b949a",
   "metadata": {},
   "outputs": [],
   "source": [
    "# set a NumPy array for just the last racer\n",
    "mary_laps = racers_lap_times[-1].copy()\n",
    "print(f\"mary_laps dimensions: {mary_laps.ndim}\")\n",
    "print(f\"Mary Major's laps: {mary_laps}\")"
   ]
  },
  {
   "cell_type": "markdown",
   "id": "c56ec188-6fdd-4561-8d69-d3baf7a54089",
   "metadata": {},
   "source": [
    "Now let's **find** all the **laps** which were **under 130 seconds**"
   ]
  },
  {
   "cell_type": "code",
   "execution_count": null,
   "id": "39a6967b-dbf2-4077-983d-2f38a95b6fa2",
   "metadata": {},
   "outputs": [],
   "source": [
    "# find all laps under 130 seconds\n",
    "under_130 = np.where(mary_laps < 130.0)\n",
    "print(f\"Laps indexes less than 130 seconds: {under_130}\")"
   ]
  },
  {
   "cell_type": "markdown",
   "id": "54941fec-9548-47c0-a246-6b0588d60b0a",
   "metadata": {},
   "source": [
    "If you look above, you can see the **numbers match the indexes** of **elements with values under 130**. **If** we want the **actual lap values**, which just need to **use the indexes**, which as we know, are nearly instantenous with NumPy"
   ]
  },
  {
   "cell_type": "code",
   "execution_count": null,
   "id": "6f1c360b-007b-4303-b6d8-2f30493e059f",
   "metadata": {},
   "outputs": [],
   "source": [
    "for lap in mary_laps[under_130]:\n",
    "    print(f\"{lap}\", end=' ')"
   ]
  },
  {
   "cell_type": "markdown",
   "id": "de834e20-262a-4924-8c53-7d9755a2c5c2",
   "metadata": {},
   "source": [
    "### Searching in multiple dimension\n",
    "Now that we've seen how the results are returned as a tuple for one dimension, let's see what happens when we have multiple dimensions."
   ]
  },
  {
   "cell_type": "code",
   "execution_count": null,
   "id": "12ce2473-e6e4-4102-bcdd-54d37afca3a8",
   "metadata": {},
   "outputs": [],
   "source": [
    "# print all the race laps\n",
    "print(f\"All race laps:\\n{racers_lap_times}\\n\")\n",
    "\n",
    "# find all laps under 130 seconds\n",
    "under_130 = np.where(racers_lap_times < 130.0)\n",
    "print(f\"Laps indexes less than 130 seconds: {under_130}\")"
   ]
  },
  {
   "cell_type": "markdown",
   "id": "54b71480-7fec-4b88-a4b6-9afd5833520a",
   "metadata": {},
   "source": [
    "**Wow, what is that?**\n",
    "This looks a little confusing, but the way this is returned, is **one array for each dimension**. So if you **match up each element in the first and second array**, you **get the the first and second indexes**. For instance, **in my execution**, the **first three elements in the 1st array are 0, 0, 0**, and the **first three elements in the second array are 0, 2, 3.** That **means** the **elements at positions (0,0), (0,2) and (0,3) will be less then 130**.\n",
    "\n",
    "<span style=\"color:red\">**PLEASE NOTE**</span> that **each time** you **run this Notebook in your environment**, the **numbers generated might be different**, so the **positions with values under 130** might be **different each time**. If you use the same seed value on the generator they should be the same ... but if you end up re-running cells that could change. Either wasy, the **concept is the same though**, and you just need to apply to the numbers you see. "
   ]
  },
  {
   "cell_type": "code",
   "execution_count": null,
   "id": "690a0799-cd15-41bf-88e1-d4620e695eb1",
   "metadata": {},
   "outputs": [],
   "source": [
    "# print the value at position (0,0), (0,2) and (0,3)\n",
    "print(f\"Values at (0,0), (0,2) and (0,3): {racers_lap_times[0][0]}, {racers_lap_times[0][2]}, {racers_lap_times[0][3]}\")"
   ]
  },
  {
   "cell_type": "markdown",
   "id": "ff289aaa-700a-4685-886d-8ba2d23dd791",
   "metadata": {
    "jp-MarkdownHeadingCollapsed": true
   },
   "source": [
    "#### <span style=\"color:blue\">OPTIONAL:</span> Flexing our Python skills to create tuples for each location"
   ]
  },
  {
   "cell_type": "markdown",
   "id": "3cc40e12-c874-45f9-9b1d-fc4fb5e8a429",
   "metadata": {},
   "source": [
    "If we want to get fancier, we **can use list comprehension** to **create a list of tuples for each location**. We **use** the **[Python zip function](https://docs.python.org/3.3/library/functions.html#zip)** to **group elements** from the **first and second array**. Please bear in mind that this is not a NumPy thing, but just some fancy Python list manipulation."
   ]
  },
  {
   "cell_type": "code",
   "execution_count": null,
   "id": "b4738b3a-596c-409f-a01a-e9bc118aec09",
   "metadata": {},
   "outputs": [],
   "source": [
    "#  use list comprehension to create a list of tuples from the under_130 tuple of arrays\n",
    "under_130_list = [tuple([x , y]) for x , y in zip(under_130[0], under_130[1])]\n",
    "print(f\"Laps indexes less than 130 seconds:: {under_130_list}\")"
   ]
  },
  {
   "cell_type": "markdown",
   "id": "35721af5-831e-403b-8dcf-528feb470a2e",
   "metadata": {},
   "source": [
    "Now we can walk nice walk through each position and print all fast laps"
   ]
  },
  {
   "cell_type": "code",
   "execution_count": null,
   "id": "5e7322a0-6a69-42ed-8431-ce06cec57827",
   "metadata": {},
   "outputs": [],
   "source": [
    "for position in under_130_list:\n",
    "    print(f\"Lap[{position[0]},{position[1]:2}]: {racers_lap_times[position]} \")"
   ]
  },
  {
   "cell_type": "markdown",
   "id": "6b3ff347-7a20-4a6f-a042-1d3d2dd29eec",
   "metadata": {},
   "source": [
    "## Filtering\n",
    "Let's look at how we can **filter an array based on a condition**."
   ]
  },
  {
   "cell_type": "markdown",
   "id": "1b68b536-f7c0-4812-8e33-e10256da8c37",
   "metadata": {},
   "source": [
    "Once again, let's **use the one dimensional array of Mary Major's laps**."
   ]
  },
  {
   "cell_type": "code",
   "execution_count": null,
   "id": "e94de2bb-8482-4f4d-af02-b492a2d0de8a",
   "metadata": {},
   "outputs": [],
   "source": [
    "print(f\"Mary Major's laps: {mary_laps}\")"
   ]
  },
  {
   "cell_type": "markdown",
   "id": "23a3ed89-c3ec-46e2-adba-89e4acaeeefb",
   "metadata": {},
   "source": [
    "But to start out with, I'll use an **even smaller array**, with just her **first 5 laps**."
   ]
  },
  {
   "cell_type": "code",
   "execution_count": null,
   "id": "a0b403b2-acea-448f-bef8-c70b451a8881",
   "metadata": {},
   "outputs": [],
   "source": [
    "mary_5_laps = mary_laps[:5].copy()\n",
    "print(f\"Mary Major's first 5 laps: {mary_5_laps}\")"
   ]
  },
  {
   "cell_type": "markdown",
   "id": "0c61635d-83ac-42c7-be32-d5bff67ec902",
   "metadata": {},
   "source": [
    "### Using a boolean index list\n",
    "At the simplest level, **filtering works** by **passing a list of boolean values**, where **each value** has a **True or False** to **indicate whethe**r an **element** should be **filtered or not.**"
   ]
  },
  {
   "cell_type": "markdown",
   "id": "2b10223a-ac34-41b1-af1e-4f467bac383c",
   "metadata": {},
   "source": [
    "For **example**, let's **filter the array** to **keep only** elements on **indexes 2 and 3**. **In my environment**, that corresponded to **elements between 120 and 140**.\n",
    "\n",
    "**PLEASE NOTE** that **in your environment the numbers could change**, in which case, just update the indexes to match your environment."
   ]
  },
  {
   "cell_type": "code",
   "execution_count": null,
   "id": "61f40ee8-e99c-49e4-a721-8293eabe5b9d",
   "metadata": {},
   "outputs": [],
   "source": [
    "# create a filter for indexes 1 and 3\n",
    "filter = [False, False, True, True, False]"
   ]
  },
  {
   "cell_type": "markdown",
   "id": "33d72404-be8d-44d7-8dd1-defb9872dd97",
   "metadata": {},
   "source": [
    "Now we can **apply** that **filter** in our array"
   ]
  },
  {
   "cell_type": "code",
   "execution_count": null,
   "id": "cddfc963-646f-4188-8ff9-58f8dfb4c7ab",
   "metadata": {},
   "outputs": [],
   "source": [
    "# apply filter to mary_5_laps array\n",
    "print(mary_5_laps[filter])"
   ]
  },
  {
   "cell_type": "markdown",
   "id": "a15793a0-6812-4b05-8982-e1068d3f3312",
   "metadata": {},
   "source": [
    "### Directly creating filter with NumPy\n",
    "Although it's good to understand what's hapenning underneath, clearly this is not really practical. But the good news is **NumPy can** automatically **create** those **filters from a condition**."
   ]
  },
  {
   "cell_type": "markdown",
   "id": "9e95ef50-90b9-4b55-ac13-12e74bcde889",
   "metadata": {},
   "source": [
    "Let's **create** a **filter** to **keep only elements between 120 and 140**. **With NumPy**, you **can use a \"&\"** **as** a **[logical AND operator](https://numpy.org/doc/2.0/reference/generated/numpy.logical_and.html#)**."
   ]
  },
  {
   "cell_type": "code",
   "execution_count": null,
   "id": "71e71cd5-bf3e-4f7b-a3ea-d42def611411",
   "metadata": {},
   "outputs": [],
   "source": [
    "# create a filter for indexes 1 and 3\n",
    "filter = (mary_5_laps >= 120) & (mary_5_laps <= 140)\n",
    "print(f\"Filter: {filter}\")"
   ]
  },
  {
   "cell_type": "markdown",
   "id": "b385e15f-d701-4b8a-ae3f-a838f38918ef",
   "metadata": {},
   "source": [
    "Now we can **apply** that **filter** in our array"
   ]
  },
  {
   "cell_type": "code",
   "execution_count": null,
   "id": "6ff28b5e-49f2-4153-aef8-6e5356b22ebc",
   "metadata": {},
   "outputs": [],
   "source": [
    "# apply filter to mary_5_laps array\n",
    "print(mary_5_laps[filter])"
   ]
  },
  {
   "cell_type": "markdown",
   "id": "9f075328-a049-4ab2-b0d5-9968c292ff61",
   "metadata": {},
   "source": [
    "### Filtering directly on array\n",
    "And now that we've seen each step, we **can** save time and **put** the **condition directly in the array** in one statement."
   ]
  },
  {
   "cell_type": "code",
   "execution_count": null,
   "id": "9a280db6-b96d-436c-82da-eb6fa93e0b27",
   "metadata": {},
   "outputs": [],
   "source": [
    "# Print Mary's first 5 laps between 120 and 140\n",
    "print(mary_5_laps[(mary_5_laps >= 120) & (mary_5_laps <= 140)])"
   ]
  },
  {
   "cell_type": "markdown",
   "id": "8b01e7ce-7aa3-4aab-853b-b46b57247a7c",
   "metadata": {},
   "source": [
    "And now that we don't have to visualize that whole list of True and False, we can **use** that **filter** easily **on all of Mary's laps**."
   ]
  },
  {
   "cell_type": "code",
   "execution_count": null,
   "id": "922a0610-3c53-4b7d-98ba-1be4af3bd1cd",
   "metadata": {},
   "outputs": [],
   "source": [
    "# Print Mary's all laps between 120 and 140\n",
    "print(mary_laps[(mary_laps >= 120) & (mary_laps <= 140)])"
   ]
  },
  {
   "cell_type": "markdown",
   "id": "0c507930-12d4-4316-bf91-efe141d747bc",
   "metadata": {},
   "source": [
    "### Filtering directly on multi-dimensional array\n",
    "**Will this work on a multi-dimensional array? Sure!**\n",
    "\n",
    "Let's go **back to** our **original list** with **all** the **racer laps**."
   ]
  },
  {
   "cell_type": "code",
   "execution_count": null,
   "id": "3d9164a9-6c0b-47e2-ad3c-e4308930f714",
   "metadata": {},
   "outputs": [],
   "source": [
    "# print all racer laps\n",
    "print(racers_lap_times)"
   ]
  },
  {
   "cell_type": "markdown",
   "id": "0b6a0ffa-ff1d-4d9f-87b1-ad36a5c84c6f",
   "metadata": {},
   "source": [
    "Earlier we searched for **laps under 130**. Let's **create** a **filtered array** of all such laps.\n",
    "\n",
    "First, let's **visualize**  the **multi-dimension filter**, and confirm it will still work the same way."
   ]
  },
  {
   "cell_type": "code",
   "execution_count": null,
   "id": "692d2f19-7a26-4888-b824-b45ad8298325",
   "metadata": {},
   "outputs": [],
   "source": [
    "# show filter for laps under 130\n",
    "print (racers_lap_times < 130)"
   ]
  },
  {
   "cell_type": "markdown",
   "id": "275ca904-18b5-46f1-ba56-fed2c405a26a",
   "metadata": {},
   "source": [
    "So yes, we end up with a **multi-dimensional array of True and False** values **indicating elements that match the condition**. So we can **apply** that **condition directly into our array**, and **get** the **values under 130**."
   ]
  },
  {
   "cell_type": "code",
   "execution_count": null,
   "id": "92343c6c-0293-4c27-a10b-e0f0bb1641b0",
   "metadata": {},
   "outputs": [],
   "source": [
    "# get the laps under 130 seconds\n",
    "laps_under_130 = racers_lap_times[racers_lap_times < 130]\n",
    "\n",
    "# print laps under 130\n",
    "print(f\"Laps under 130:\\n {laps_under_130}\")"
   ]
  },
  {
   "cell_type": "markdown",
   "id": "ba945dd5-21bd-4594-bbe0-a42ac8f3d41d",
   "metadata": {},
   "source": [
    "### More on searching and filtering ...\n",
    "There are **countless other options available for searching and filtering in NumPy**. We can't show everything here, but we'll **see** a few **more indirectly when we look at Pandas** dataframes. **Pandas is based on NumPy**, so the operations supported there are ultimately implemented with NumPy."
   ]
  },
  {
   "cell_type": "markdown",
   "id": "1b7a1b0c-6026-4e4c-bf8e-b2599b9e0e47",
   "metadata": {},
   "source": [
    "## Sorting\n",
    "We can easily sort NumPy arrays using the **[sort function](https://numpy.org/doc/stable/reference/generated/numpy.sort.html#)**. We'll look at sorting on one and two dimensions."
   ]
  },
  {
   "cell_type": "markdown",
   "id": "72f05374-6a2a-4136-98e1-1cb8b0826869",
   "metadata": {},
   "source": [
    "### Sorting in one dimension\n",
    "Sorting in one dimensional is simple to understand and visualize."
   ]
  },
  {
   "cell_type": "code",
   "execution_count": null,
   "id": "9af63a72-1efd-412e-9dc6-1c782ecdc9bb",
   "metadata": {},
   "outputs": [],
   "source": [
    "# print all racer laps\n",
    "print(mary_laps)"
   ]
  },
  {
   "cell_type": "code",
   "execution_count": null,
   "id": "f8237371-d8d1-4bc1-b106-6926ed8565b8",
   "metadata": {},
   "outputs": [],
   "source": [
    "# sort all of Mary Major's laps\n",
    "mary_sorted_laps = np.sort(mary_laps)\n",
    "\n",
    "# print Mary's sorted laps\n",
    "print(f\" Mary Major's sorted laps:\\n {mary_sorted_laps}\")"
   ]
  },
  {
   "cell_type": "markdown",
   "id": "46cb70e7-c097-4fe6-a2f8-3a1ebaa02b6e",
   "metadata": {},
   "source": [
    "### Sorting in two dimensions\n",
    "**Sorting** in a **two dimensional array** poses a few more questions. Because we **could do any of the following:**\n",
    "- **Sort each row**.\n",
    "- **Sort each column**.\n",
    "- **Sort all the values together**\n",
    "\n",
    "**By default**, **NumPy sorts** the **column values in each row**. **But** we'll see that we **can change that**."
   ]
  },
  {
   "cell_type": "code",
   "execution_count": null,
   "id": "746fc356-9659-4e86-9c7b-91ad46df601f",
   "metadata": {},
   "outputs": [],
   "source": [
    "# print all racer laps\n",
    "print(racers_lap_times)"
   ]
  },
  {
   "cell_type": "code",
   "execution_count": null,
   "id": "dda9f2d4-85f1-414c-a263-a505692dde93",
   "metadata": {},
   "outputs": [],
   "source": [
    "# sort all race laps row by row\n",
    "sorted_laps_rows = np.sort(racers_lap_times)\n",
    "\n",
    "# print sorted laps\n",
    "print(f\"Sorted laps:\\n{sorted_laps_rows}\")"
   ]
  },
  {
   "cell_type": "markdown",
   "id": "ed322d5d-54b6-4f16-903e-2697d82e2061",
   "metadata": {
    "jp-MarkdownHeadingCollapsed": true
   },
   "source": [
    "#### <span style=\"color:blue\">OPTIONAL:</span> Using the axis parameter to change the sort calculation"
   ]
  },
  {
   "cell_type": "markdown",
   "id": "67a70af1-dae3-4dd7-a0c8-3e857b7d88b3",
   "metadata": {},
   "source": [
    "The **sort function has** an **axis parameter** which can be **used to choose how to sort**. The **axis parameter** is **used in various functions in NumPy**, and it **can be hard to understand** sometimes. The way **I like to think of**, is that the **axis parameter** tells **which axis, or array dimension**, is **being manipulated**. **Axis 0 is the first dimension**, and **axis 1 is the second.** \n",
    "\n",
    "The **default behavior** is **shifting column values within the rows**. **So** it's the **2nd dimension, or axis 1**, which is **being moved** around. We can **confirm** that by **calling the function** again **with axis = 1**, and see that we **get** the **same results**."
   ]
  },
  {
   "cell_type": "code",
   "execution_count": null,
   "id": "eaa1b27b-cced-4d96-8a8d-00225eca7498",
   "metadata": {},
   "outputs": [],
   "source": [
    "print(np.sort(racers_lap_times, axis = 1))"
   ]
  },
  {
   "cell_type": "markdown",
   "id": "99b90e22-cc08-40ec-bb8b-c672419a2f18",
   "metadata": {},
   "source": [
    "**To sort** the **row values withing each column**, we would pass **axis = 0**. So in this case, it would be the first dimension row values that get moved.\n",
    "\n",
    "This **doesn't** really **make** a lot of **sense** to do **in our scenarion**, because we would be mixing laps between different racers, **but** it's **worth testing** to **see the behavior**. Look at how each column has row values that increase in ascending order."
   ]
  },
  {
   "cell_type": "code",
   "execution_count": null,
   "id": "67dd225b-7982-468c-890c-f250767888e2",
   "metadata": {},
   "outputs": [],
   "source": [
    "print(np.sort(racers_lap_times, axis = 0))"
   ]
  },
  {
   "cell_type": "markdown",
   "id": "145834de-bead-4a7e-b7fc-7a04a2b88f48",
   "metadata": {},
   "source": [
    "And what if I want to **sort all the values together** in one big list? **axis = None** will do that."
   ]
  },
  {
   "cell_type": "code",
   "execution_count": null,
   "id": "3f251f96-f6a1-444d-8f25-7859c8369076",
   "metadata": {},
   "outputs": [],
   "source": [
    "print(np.sort(racers_lap_times, axis = None))"
   ]
  },
  {
   "cell_type": "markdown",
   "id": "ac88370d-db5a-47d5-a26b-05ad1fb67ca2",
   "metadata": {},
   "source": [
    "## Statistical functions\n",
    "NumPy has **multiple functions** to support **statistical analysis**. We'll look do a **quick survey of a few of them** here. We'll see more of these calculations with a more interesting example, when we look at the Pandas.\n",
    "\n",
    "We'll **continue using** our **racing data**, both the full set of **laps for all racers** (***racers_lap_times***), **laps for Mary Major** (***mary_laps***). We also look up the **list of racer names** based on their **index** (***racers***)"
   ]
  },
  {
   "cell_type": "markdown",
   "id": "42b7b348-c11a-4150-9c92-dc00e8828f75",
   "metadata": {},
   "source": [
    "### Mean\n",
    "The mean, or the average, is the sum of all values divided by the number of values. We **use the [mean function](https://numpy.org/doc/stable/reference/generated/numpy.mean.html#)** for that."
   ]
  },
  {
   "cell_type": "markdown",
   "id": "5c63c26c-a41a-46ee-84c6-3d9d266e7464",
   "metadata": {},
   "source": [
    "#### Mean in one dimension\n",
    "Let's start with example of calculating the mean of a one dimensional array. We'll use the array with Mary Major's laps."
   ]
  },
  {
   "cell_type": "code",
   "execution_count": null,
   "id": "bf7dc56a-384a-4289-a713-f163cd444638",
   "metadata": {},
   "outputs": [],
   "source": [
    "# print mary major's laps\n",
    "print(f\"Mary Major's laps:\\n{mary_laps}\\n\")\n",
    "\n",
    "# calculate and print the average lap time for Mary Major\n",
    "result = np.mean(mary_laps)\n",
    "print(f\"Mary Major's average lap time: {result:.3f}\")"
   ]
  },
  {
   "cell_type": "markdown",
   "id": "904c17c1-02d8-44c6-a038-a1639cbcbdeb",
   "metadata": {},
   "source": [
    "#### Mean in multiple dimensions\n",
    "You **can also calculate** the **mean on a multi-dimensional array**. Similar to what we saw with sorting, that opens up the **question of whether** we are doing a **mean across one specific dimension**, **or across all values**. We'll see that **by default**, the mean will **apply to all values**, **but** we **can** **use** the **axis parameter** to change the behavior.\n",
    "\n",
    "We will used the racers_lap_times two dimensional array."
   ]
  },
  {
   "cell_type": "code",
   "execution_count": null,
   "id": "0bc02db7-c975-4ae5-b124-e14791883e00",
   "metadata": {},
   "outputs": [],
   "source": [
    "# calculate and print the average lap time for all racers together\n",
    "result = np.mean(racers_lap_times)\n",
    "print(f\"All racers average lap time: {result:.3f}\")"
   ]
  },
  {
   "cell_type": "markdown",
   "id": "8b0dc745-bacf-4a69-9e5e-3cce467f7c9b",
   "metadata": {
    "jp-MarkdownHeadingCollapsed": true
   },
   "source": [
    "#### <span style=\"color:blue\">OPTIONAL:</span> Using the axis parameter to change the mean calculation"
   ]
  },
  {
   "cell_type": "markdown",
   "id": "1715990a-c0fa-4f2e-b05f-795315f5e0b7",
   "metadata": {},
   "source": [
    "**By default** that gave me **all** of the **values averaged out together**. **What if** I **wanted** to get the **average for each racer**? We can **use** the **axis parameter**. Since the **values I want to manipulate** (average out) **are** the **column values**, we need to **pass axis = 1.**\n",
    "\n",
    "**In this case**, the **mean function** will **return an array** with the **average for each racer**. I can then iterate through the array. We'll **also look up the racer name** based on the index, to have a really nice output."
   ]
  },
  {
   "cell_type": "code",
   "execution_count": null,
   "id": "d2b5ff6f-1e90-4d0a-9429-69add63629be",
   "metadata": {},
   "outputs": [],
   "source": [
    "# calculate and print the average lap time for each racers\n",
    "result = np.mean(racers_lap_times, axis = 1)\n",
    "\n",
    "# result will be a list of averages, so we'll iterate to print each racer\n",
    "for racer_idx, avg in np.ndenumerate(result):\n",
    "    print(f\"{racers[racer_idx]:18} average lap time: {avg:.3f}\")"
   ]
  },
  {
   "cell_type": "markdown",
   "id": "8a832779-9bc9-460b-9d59-c307e04ef16f",
   "metadata": {},
   "source": [
    "### Standard deviation\n",
    "Standard deviation measures the spread of data around the mean. It calculates the amount of variation around the mean value. We **use the [std function](https://numpy.org/doc/stable/reference/generated/numpy.std.html)** for that.\n",
    "\n",
    "For standard deviation and some of the other functions we **will stick mostly to** the **one dimension** example, since it's **simpler to visualize**. **But the same approach** we **used in** the **mean function** **for multi-dimensional arrays** would **apply here** as well."
   ]
  },
  {
   "cell_type": "code",
   "execution_count": null,
   "id": "09cf5e19-3b71-4ae8-bc15-eb90fdeba375",
   "metadata": {},
   "outputs": [],
   "source": [
    "# print Mary Major lap times\n",
    "print(f\"Mary Major's lap times:\\n{mary_laps}\\n\")\n",
    "\n",
    "# calculate and print the standard devision of lap times for Mary Major\n",
    "result = np.std(mary_laps)\n",
    "print(f\"Mary Major's standard deviation of lap times: {result:.3f}\")"
   ]
  },
  {
   "cell_type": "markdown",
   "id": "c184c7b9-179c-4109-8a0e-87f199b7c603",
   "metadata": {},
   "source": [
    "### Min and Max\n",
    "**Identifying the minimum and maximum values** are very common, and the are **supported with** the **[min function](https://numpy.org/doc/stable/reference/generated/numpy.min.html)** and **[max function](https://numpy.org/doc/stable/reference/generated/numpy.max.html#)**.\n",
    "\n",
    "Usually when you get a max or min value, you also **want to know which element index** they **corresponded to**. The **[argmin](https://numpy.org/doc/stable/reference/generated/numpy.argmin.html)** and **[argmax](https://numpy.org/doc/stable/reference/generated/numpy.argmax.html#)** functions will provide that."
   ]
  },
  {
   "cell_type": "markdown",
   "id": "962c6d0a-a206-429a-af41-7b3d8cef903b",
   "metadata": {},
   "source": [
    "#### Min and argmin\n",
    "We'll do the **min across one dimension**."
   ]
  },
  {
   "cell_type": "code",
   "execution_count": null,
   "id": "5dace115-2fde-42b9-a8bc-51236de36015",
   "metadata": {},
   "outputs": [],
   "source": [
    "# print Mary Major lap times\n",
    "print(f\"Mary Major's lap times:\\n{mary_laps}\\n\")\n",
    "\n",
    "# Identify and print the fastest (minimum) lap time for Mary Major\n",
    "result = np.min(mary_laps)\n",
    "print(f\"Mary Major's fastest lap time: {result:.3f}\")"
   ]
  },
  {
   "cell_type": "markdown",
   "id": "4d4b0406-ba27-43de-a0c9-fabd075e41c8",
   "metadata": {},
   "source": [
    "We can also **use argmin** to **identify which specific lap was the fastest**"
   ]
  },
  {
   "cell_type": "code",
   "execution_count": null,
   "id": "b3b67a45-ed83-438f-9b0e-be409e2ffd7f",
   "metadata": {},
   "outputs": [],
   "source": [
    "# identify index of min value\n",
    "result = np.argmin(mary_laps)\n",
    "print(f\"Index of Mary Major's fastest lap time: {result}\")"
   ]
  },
  {
   "cell_type": "markdown",
   "id": "9e55978f-fb43-45fe-8f2b-7f37bdf094d0",
   "metadata": {},
   "source": [
    "#### Max and argmax\n",
    "We'll do a **max across two dimensions**, looking for the **slowest lap across all racers**. **By default**, **with** a **multi-dimensional array** **min and max** will **look at all the values together**, **but** we **could use the axis parameter** to custumize that as we've seen with mean."
   ]
  },
  {
   "cell_type": "code",
   "execution_count": null,
   "id": "d6eb44f1-e89e-4a78-874c-d07aab3b5b98",
   "metadata": {},
   "outputs": [],
   "source": [
    "# print all racer lap times\n",
    "print(f\"All racer lap times:\\n{racers_lap_times}\\n\")\n",
    "\n",
    "# Identify and print the slowest (maximum) lap time across all racers\n",
    "result = np.max(racers_lap_times)\n",
    "print(f\"The slowest lap time across all racers: {result:.3f}\")"
   ]
  },
  {
   "cell_type": "markdown",
   "id": "90ac0419-d0ad-4ad5-ac7b-f3c9ec41a804",
   "metadata": {},
   "source": [
    "We can also **use argmax** to **identify which lap was the slowest**"
   ]
  },
  {
   "cell_type": "code",
   "execution_count": null,
   "id": "79ae19b0-6ee2-486a-9fce-c9d763b0f8b7",
   "metadata": {},
   "outputs": [],
   "source": [
    "# identify index of max value\n",
    "result = np.argmax(racers_lap_times)\n",
    "print(f\"Index of slowest lap time: {result}\")"
   ]
  },
  {
   "cell_type": "markdown",
   "id": "15329ccc-eff9-4d2b-9ddc-88419df6bfa1",
   "metadata": {},
   "source": [
    "**Why** did I get a **single value** (136 in my case), **if this was** a **multi-dimenssional array?** **Because max was calculated across all values**, so the **array was flattened into a single dimension** for that calculation."
   ]
  },
  {
   "cell_type": "markdown",
   "id": "ea6d823c-aa29-4dab-8a1c-653bee16d135",
   "metadata": {
    "jp-MarkdownHeadingCollapsed": true
   },
   "source": [
    "#### <span style=\"color:blue\">OPTIONAL:</span> Using our Python and Math skills to get a nice (row, col) location"
   ]
  },
  {
   "cell_type": "markdown",
   "id": "bec25189-76ef-4959-a29f-d07a7e075cef",
   "metadata": {},
   "source": [
    "**If** I **want to convert** that single **index value from** the **flattened array** back **into** a **two-demensional indexes**, I just need to **use a little Math**. Since we now the shape of the array, we can derive the row and column index as follows:"
   ]
  },
  {
   "cell_type": "code",
   "execution_count": null,
   "id": "1f4ad4d6-60bd-4ca1-b408-d23f4d263711",
   "metadata": {},
   "outputs": [],
   "source": [
    "# get the number of columns of the array from the shape\n",
    "num_cols = racers_lap_times.shape[1]\n",
    "\n",
    "# the row index will be the flattened array index divided by num_cols (integer division)\n",
    "row_idx = result // num_cols\n",
    "\n",
    "# the column index will be the flattened array index modulo num_cols\n",
    "col_idx = result % num_cols\n",
    "\n",
    "print(f\"Slowest lap time index: [{row_idx},{col_idx}]\")"
   ]
  },
  {
   "cell_type": "markdown",
   "id": "fe285c02-94eb-4d84-9733-d5dd3644b2f6",
   "metadata": {},
   "source": [
    "If we check in the array, we'll see that's correct."
   ]
  },
  {
   "cell_type": "markdown",
   "id": "8f6964e9-db8e-4e98-ab74-0481000d1368",
   "metadata": {
    "jp-MarkdownHeadingCollapsed": true
   },
   "source": [
    "## <span style=\"color:blue\">OPTIONAL:</span> Reading data from external files\n",
    "**NumPy** is **at its best** when we are **dealing with large amount of data**, and we're **not likely** to be **creating data by hand**. **Generally** we will be reading data from **data files or a database**. **NumPy offers** a number of **different functions to support** that."
   ]
  },
  {
   "cell_type": "markdown",
   "id": "197ac076-6ce9-4d5b-8692-06142039d6bc",
   "metadata": {},
   "source": [
    "**For our example**, we will **use** the **[genfromtxt function](https://numpy.org/doc/stable/reference/generated/numpy.genfromtxt.html#)** to **read lap times** for **1000 racers**, and **50 laps**. Not something we would do by hand. **genfromtext** can **read elements from** a **text files** **with** a **specified delimiter**. "
   ]
  },
  {
   "cell_type": "markdown",
   "id": "4c31dcd5-a694-494e-b49f-df348a9de7b7",
   "metadata": {},
   "source": [
    "#### Define the data file name"
   ]
  },
  {
   "cell_type": "code",
   "execution_count": null,
   "id": "e26b37a4-176d-4cc4-9b6c-7281b5296e54",
   "metadata": {},
   "outputs": [],
   "source": [
    "# file name (the \"\\\" works on windows, but might be different in other OSs)\n",
    "racer_laps_file = r\"data\\racer_laps.csv\""
   ]
  },
  {
   "cell_type": "markdown",
   "id": "78a67056-0e73-466b-94b8-8077c21d7a9a",
   "metadata": {},
   "source": [
    "#### Read racer laps\n",
    "We are using a **CSV file**, so the  **delimiter** will be a  **\",\"**."
   ]
  },
  {
   "cell_type": "code",
   "execution_count": null,
   "id": "1eced128-adf3-4e86-a371-3258e19ec1cb",
   "metadata": {},
   "outputs": [],
   "source": [
    "new_racer_laps = np.genfromtxt(racer_laps_file, delimiter=\",\")"
   ]
  },
  {
   "cell_type": "markdown",
   "id": "e730b05f-967b-4d7a-9054-899f210212d4",
   "metadata": {},
   "source": [
    "#### Print array information\n",
    "Let's just **print** some **general information** about the array **using** some of the functions we've seen**, to confirm the reading of the data worked."
   ]
  },
  {
   "cell_type": "code",
   "execution_count": null,
   "id": "08ae87f8-5a8d-468c-b926-c967ec046678",
   "metadata": {},
   "outputs": [],
   "source": [
    "# print the dimensions and shape\n",
    "print(\"----- Shape and Dimension -----\")\n",
    "print(f\"Dimensions: {new_racer_laps.ndim}\")\n",
    "print(f\"Shape: {new_racer_laps.shape}\")\n",
    "\n",
    "# print the first and last rows\n",
    "print(\"\\n----- First and Last rows -----\")\n",
    "print(f\"First row: {new_racer_laps[0]}\")\n",
    "print(f\"Last row: {new_racer_laps[-1]}\")\n",
    "\n",
    "# print the min, max, mean, and standard deviation\n",
    "print(\"\\n----- Statistics -----\")\n",
    "print(f\"Min: {np.min(new_racer_laps):.3f}\")\n",
    "print(f\"Max: {np.max(new_racer_laps):.3f}\")\n",
    "print(f\"Mean: {np.mean(new_racer_laps):.3f}\")\n",
    "print(f\"Standard Deviation: {np.std(new_racer_laps):.3f}\")"
   ]
  },
  {
   "cell_type": "markdown",
   "id": "dde72502-a74d-4cf6-96d1-473c55fc1e18",
   "metadata": {},
   "source": [
    "We'll **see more examples** of file processing **when** we **look at pandas**."
   ]
  },
  {
   "cell_type": "markdown",
   "id": "4c128781-129f-48b6-9a6c-5d354fa06573",
   "metadata": {},
   "source": [
    "## And more and more and more ...\n",
    "At the risk of being repetitive, there are more functions in NumPy than we could possibly show here. Please refer to the [NumPy web site](https://numpy.org/) to dive deeper."
   ]
  },
  {
   "cell_type": "markdown",
   "id": "ff543f4b-8b87-4d5b-83ea-23de1f58d229",
   "metadata": {},
   "source": [
    "# Vectorization\n",
    "\"Vectorization\" is a word that has a lot of meanings in IT, Machine Learning, algorithms and Math. In our context, a **vector is a one-dimensional array**, and **vectorization** will refer to **performing operations across all elements** in the array **together, as opposed to** operating on elements **one at a time** in a loop.\n",
    "\n",
    "This being a programming course, we will focus strictly on the programming aspect, and not Math theory. **When operating with large arrays of numbers**, a **vectorization approach** will be **far more efficient**."
   ]
  },
  {
   "cell_type": "markdown",
   "id": "5dcbaf21-6361-44ae-9730-633362d1b930",
   "metadata": {},
   "source": [
    "## Vector operations using a Python list\n",
    "Let's **start** by **seeing how** we would **operate on vectors** using a **standard Python list** based array."
   ]
  },
  {
   "cell_type": "markdown",
   "id": "83a0fbd9-2a34-4467-ab21-d0bfc79a4792",
   "metadata": {},
   "source": [
    "### Create a Python list based array"
   ]
  },
  {
   "cell_type": "code",
   "execution_count": null,
   "id": "1244b997-3722-4c68-b3fd-4c5e9f188247",
   "metadata": {},
   "outputs": [],
   "source": [
    "# create a list with 11 numbers\n",
    "my_list1 = [2, 5, 6, 7, 1, 0, 8, 3, 4, 9, 10]\n",
    "print(f\"my_list1: {my_list1}\")"
   ]
  },
  {
   "cell_type": "markdown",
   "id": "560376f2-63a0-4d43-9fcb-07139dea1758",
   "metadata": {},
   "source": [
    "### Multiplying by a constant\n",
    "Now what do we do if we want to multiply all these numbers by 2?"
   ]
  },
  {
   "cell_type": "code",
   "execution_count": null,
   "id": "ec8c7027-50df-484b-861c-24a9602beea4",
   "metadata": {},
   "outputs": [],
   "source": [
    "# try multiplying the list by 2\n",
    "double_list = my_list1 * 2\n",
    "\n",
    "print(f\"double_list: {double_list}\")"
   ]
  },
  {
   "cell_type": "markdown",
   "id": "5d5f8eb1-7d44-4098-a8da-3cc571db10fe",
   "metadata": {},
   "source": [
    "That worked ... but **didn't do what we wanted**. If we want to multiply all the numbers in the list, **we'll have to use a loop**."
   ]
  },
  {
   "cell_type": "code",
   "execution_count": null,
   "id": "e86df6c1-78fa-4263-b328-749d9152ffdb",
   "metadata": {},
   "outputs": [],
   "source": [
    "double_list = []\n",
    "for number in my_list1:\n",
    "    double_list.append(number * 2)\n",
    "\n",
    "print(f\"double_list: {double_list}\")"
   ]
  },
  {
   "cell_type": "markdown",
   "id": "0ce76d4f-8abf-4b98-94cc-2e63871d5a56",
   "metadata": {},
   "source": [
    "### Adding two arrays\n",
    "Now what do we do if we want to add all the corresponding items in two arrays"
   ]
  },
  {
   "cell_type": "code",
   "execution_count": null,
   "id": "f5ad6c26-e2de-4317-911e-d06f65da2f1c",
   "metadata": {},
   "outputs": [],
   "source": [
    "# create a second list with 11 numbers\n",
    "my_list2 = [8, 5, 4, 3, 9, 10, 2, 7, 6, 1, 0]\n",
    "\n",
    "# try adding the two lists\n",
    "summ_list = my_list1 + my_list2\n",
    "\n",
    "print(f\"my_list1: {my_list1}\")\n",
    "print(f\"my_list2: {my_list2}\")\n",
    "print(f\"\\nsumm_list: {summ_list}\")"
   ]
  },
  {
   "cell_type": "markdown",
   "id": "b188e46d-c666-4dcf-972b-8b88c89dcd09",
   "metadata": {},
   "source": [
    "Again, **not what we wanted**. So once again, we'll **have to use a loop**."
   ]
  },
  {
   "cell_type": "code",
   "execution_count": null,
   "id": "55184457-443e-4d2d-ba28-a913cbf30255",
   "metadata": {},
   "outputs": [],
   "source": [
    "summ_list = []\n",
    "for i in range(len(my_list)):\n",
    "    summ_list.append(my_list[i] + my_list2[i])\n",
    "\n",
    "print(f\"my_list1: {my_list1}\")\n",
    "print(f\"my_list2: {my_list2}\")\n",
    "print(f\"\\nsumm_list: {summ_list}\")"
   ]
  },
  {
   "cell_type": "markdown",
   "id": "4b0bd920-a5f9-4d14-9130-e56911d4230a",
   "metadata": {},
   "source": [
    "## Vector operations using NumPy\n",
    "Now let's look at the vectorization approach with NumPy."
   ]
  },
  {
   "cell_type": "markdown",
   "id": "90d718b4-8b3d-40aa-a340-06befadab3fa",
   "metadata": {},
   "source": [
    "### Create a NumPy array"
   ]
  },
  {
   "cell_type": "code",
   "execution_count": null,
   "id": "c1fbfa73-4952-4f0f-b8f4-4fe81943c6b5",
   "metadata": {},
   "outputs": [],
   "source": [
    "# create a NumPy array from the same list we used earlier\n",
    "np_arr1 = np.array(my_list1)\n",
    "print(f\"np_arr1: {np_arr1}\")"
   ]
  },
  {
   "cell_type": "markdown",
   "id": "6b1bfef0-c081-4178-b4b7-e87e6cfccc5b",
   "metadata": {},
   "source": [
    "### Multiplying by a constant\n",
    "Now what do we do if we want to multiply all these numbers by 2?"
   ]
  },
  {
   "cell_type": "code",
   "execution_count": null,
   "id": "83308678-a365-4a39-a93e-19f89d8950e5",
   "metadata": {},
   "outputs": [],
   "source": [
    "# try multiplying the list by 2\n",
    "double_np = np_arr * 2\n",
    "\n",
    "print(f\"double_np: {double_np}\")"
   ]
  },
  {
   "cell_type": "markdown",
   "id": "c7916d6c-33de-41f8-9e7f-b2ea4644e81f",
   "metadata": {},
   "source": [
    "That worked the way we wanted. **No loops required!**"
   ]
  },
  {
   "cell_type": "markdown",
   "id": "2118e525-7838-4ba9-99ba-d6a24cc51be4",
   "metadata": {},
   "source": [
    "### Adding two arrays\n",
    "Now what do we do if we want to add all the corresponding items in two NumPy arrays"
   ]
  },
  {
   "cell_type": "code",
   "execution_count": null,
   "id": "5b610035-be3f-45a2-acde-bf47ad074049",
   "metadata": {},
   "outputs": [],
   "source": [
    "# create a NumPy array from the second list we used earlier\n",
    "np_arr2 = np.array(my_list2)\n",
    "\n",
    "# try adding the two lists\n",
    "summ_np = np_arr + np_arr2\n",
    "\n",
    "print(f\"np_arr1: {np_arr1}\")\n",
    "print(f\"np_arr2: {np_arr2}\")\n",
    "print(f\"\\nsumm_np: {summ_np}\")"
   ]
  },
  {
   "cell_type": "markdown",
   "id": "ae27489d-ab35-4849-964c-3ec3ff62d4a5",
   "metadata": {},
   "source": [
    "**Again**,we got what we wanted, **without a loop**."
   ]
  },
  {
   "cell_type": "markdown",
   "id": "64fe8ba8-c412-428a-8953-00750d704663",
   "metadata": {},
   "source": [
    "### Other operations\n",
    "There are **multiple other operations** which can be **performed on a vector**, including **multiplication, division, and others**. We are not going over all of them, but you can check the NumPy documentations."
   ]
  },
  {
   "cell_type": "markdown",
   "id": "b97b26fa-6628-4690-85da-0f7ea90f946d",
   "metadata": {},
   "source": [
    "## Vectorization performance improvement\n",
    "We said vectorization would improve performance. Let's test that out."
   ]
  },
  {
   "cell_type": "markdown",
   "id": "b1c661da-9c1d-4669-a902-4cf36d7834f0",
   "metadata": {},
   "source": [
    "### Define the list size I want to test"
   ]
  },
  {
   "cell_type": "code",
   "execution_count": null,
   "id": "d86a1c89-8bef-4ede-a9bd-747f5335aab0",
   "metadata": {},
   "outputs": [],
   "source": [
    "list_size = 1000000"
   ]
  },
  {
   "cell_type": "markdown",
   "id": "bce63be6-93b3-4f35-baba-98b14f1fce93",
   "metadata": {},
   "source": [
    "### Create a array of random numbers\n",
    "We'll create an **array of random numbers**, represented **both as a list**, **and using NumPy**."
   ]
  },
  {
   "cell_type": "code",
   "execution_count": null,
   "id": "fc6a7f50-5fc1-4a36-b619-4b223aad31ca",
   "metadata": {},
   "outputs": [],
   "source": [
    "# generate a list of random integerss\n",
    "int_list = []\n",
    "for i in range(list_size):\n",
    "    # generate random integer, and add to list\n",
    "    int_list.append(random.randint(0, 1000000000))\n",
    "\n",
    "# create a NumPy array from it\n",
    "int_np = np.array(int_list)\n",
    "\n",
    "# print first 10 numbers to confirm list looks ok\n",
    "print(int_list[:10])"
   ]
  },
  {
   "cell_type": "markdown",
   "id": "3e0c3adc-3ca5-440b-b8a4-44d0bee0954a",
   "metadata": {},
   "source": [
    "### Test multiplying by a constant"
   ]
  },
  {
   "cell_type": "code",
   "execution_count": null,
   "id": "7b20d33c-bdcd-44c7-882d-16c34eabe6cc",
   "metadata": {},
   "outputs": [],
   "source": [
    "const_val = 17"
   ]
  },
  {
   "cell_type": "markdown",
   "id": "16afe303-05af-4515-b419-8111ba223858",
   "metadata": {},
   "source": [
    "#### Test with a Python list based array\n",
    "As we saw earlier, **for a Python list**, I'll **need to iterate through** the **array**."
   ]
  },
  {
   "cell_type": "code",
   "execution_count": null,
   "id": "80b8e848-adfe-4afb-82f8-7f9ec45cf799",
   "metadata": {},
   "outputs": [],
   "source": [
    "# start timer\n",
    "start_time = time.perf_counter()\n",
    "\n",
    "# multiply each element in a loop\n",
    "mult_list = []\n",
    "for number in int_list:\n",
    "    mult_list.append(number * const_val)\n",
    "\n",
    "# stop timer and calculate elapsed time\n",
    "end_time = time.perf_counter()\n",
    "list_mult_time = end_time - start_time\n",
    "\n",
    "# print time\n",
    "print(f\"Multiplication using list based array: {list_mult_time:.6f} seconds\")"
   ]
  },
  {
   "cell_type": "markdown",
   "id": "80aa75a3-2562-491a-8245-0d7a997504fe",
   "metadata": {},
   "source": [
    "#### Test with NumPy Array\n",
    "With **NumPy**, it will be a **single call**."
   ]
  },
  {
   "cell_type": "code",
   "execution_count": null,
   "id": "ad821dfa-4c41-4b1b-8ea5-086a2752f6f6",
   "metadata": {},
   "outputs": [],
   "source": [
    "# start timer\n",
    "start_time = time.perf_counter()\n",
    "\n",
    "# multiply using NumPy multiplication\n",
    "mult_np = int_np * const_val\n",
    "\n",
    "# stop timer and calculate elapsed time\n",
    "end_time = time.perf_counter()\n",
    "np_mult_time = end_time - start_time\n",
    "\n",
    "# print time\n",
    "print(f\"Multiplication using NumPy array: {np_mult_time:.6f} seconds\")\n",
    "\n",
    "# Calculate and print improvement factor\n",
    "perf_factor = list_mult_time / np_mult_time\n",
    "print(f\"\\nNumpy was around {perf_factor:.0f} times faster\")"
   ]
  },
  {
   "cell_type": "markdown",
   "id": "dc2cd24d-89e0-4814-a27d-9fb796c959c1",
   "metadata": {},
   "source": [
    "#### Analysis\n",
    "**In my runs**, the **NumPy performance** was anywhere between **50 to 150 times faster**."
   ]
  },
  {
   "cell_type": "markdown",
   "id": "a4ccba8f-341e-432b-bc5e-8af397f0fba9",
   "metadata": {},
   "source": [
    "### Test adding two vectors"
   ]
  },
  {
   "cell_type": "markdown",
   "id": "958d3b4e-fc69-4bed-be10-ba602d08f00e",
   "metadata": {},
   "source": [
    "#### Create a second set of random numbers"
   ]
  },
  {
   "cell_type": "code",
   "execution_count": null,
   "id": "4029976c-f0f9-49ea-9308-24cb9dc6a84a",
   "metadata": {},
   "outputs": [],
   "source": [
    "int_list2 = []\n",
    "for i in range(list_size):\n",
    "    # generate random integer, and add to list\n",
    "    int_list2.append(random.randint(0, 1000000000))\n",
    "\n",
    "# create a NumPy array from it\n",
    "int_np2 = np.array(int_list2)\n",
    "\n",
    "# print first 10 numbers to confirm list looks ok\n",
    "print(int_list2[:10])"
   ]
  },
  {
   "cell_type": "markdown",
   "id": "c4257c17-7505-4ec5-ae21-8de09b5c2e37",
   "metadata": {},
   "source": [
    "#### Test with a Python list based array\n",
    "Again, **for a Python list**, I'll **need to iterate through** the **array**."
   ]
  },
  {
   "cell_type": "code",
   "execution_count": null,
   "id": "f6e8b72d-9788-44cc-9b97-285f185d6a21",
   "metadata": {},
   "outputs": [],
   "source": [
    "# start timer\n",
    "start_time = time.perf_counter()\n",
    "\n",
    "# add each element in a loop\n",
    "summ_list = []\n",
    "for i in range(len(int_list2)):\n",
    "    summ_list.append(int_list[i] + int_list2[i])\n",
    "\n",
    "# stop timer and calculate elapsed time\n",
    "end_time = time.perf_counter()\n",
    "list_add_time = end_time - start_time\n",
    "\n",
    "# print time\n",
    "print(f\"Addition using list based array: {list_add_time:.6f} seconds\")"
   ]
  },
  {
   "cell_type": "markdown",
   "id": "9332080a-87d1-44e4-bdd0-eb66396d59de",
   "metadata": {},
   "source": [
    "#### Test with NumPy Array\n",
    "For **NumPy**, just **one call**."
   ]
  },
  {
   "cell_type": "code",
   "execution_count": null,
   "id": "03d6d22a-f197-43df-8c4b-df743d68be6a",
   "metadata": {},
   "outputs": [],
   "source": [
    "# start timer\n",
    "start_time = time.perf_counter()\n",
    "\n",
    "# add using NumPy addition\n",
    "summ_np = int_np + int_np2\n",
    "\n",
    "# stop timer and calculate elapsed time\n",
    "end_time = time.perf_counter()\n",
    "np_add_time = end_time - start_time\n",
    "\n",
    "# print time\n",
    "print(f\"Multiplication using NumPy array: {np_add_time:.6f} seconds\")\n",
    "\n",
    "# Calculate and print improvement factor\n",
    "perf_factor = list_add_time / np_add_time\n",
    "print(f\"\\nNumpy was around {perf_factor:.0f} times faster\")"
   ]
  },
  {
   "cell_type": "markdown",
   "id": "0db5834f-96e2-47ae-9b56-a9148e5e3ff8",
   "metadata": {},
   "source": [
    "#### Analysis\n",
    "**In my runs**, the **NumPy performance** was anywhere between **75 to 175 times faster**."
   ]
  }
 ],
 "metadata": {
  "kernelspec": {
   "display_name": "Python 3 (ipykernel)",
   "language": "python",
   "name": "python3"
  },
  "language_info": {
   "codemirror_mode": {
    "name": "ipython",
    "version": 3
   },
   "file_extension": ".py",
   "mimetype": "text/x-python",
   "name": "python",
   "nbconvert_exporter": "python",
   "pygments_lexer": "ipython3",
   "version": "3.9.2"
  }
 },
 "nbformat": 4,
 "nbformat_minor": 5
}
