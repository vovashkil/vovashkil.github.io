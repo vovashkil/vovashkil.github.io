{
 "cells": [
  {
   "cell_type": "markdown",
   "id": "9489ebf6-1e07-49ce-b758-b848483050f9",
   "metadata": {},
   "source": [
    "# <span style=\"color:blue\">Introduction to Jupyter Notebooks Demo\n",
    "AWS CLOUD INSTITUTE: PROVIDED FOR EDUCATIONAL INSTRUCTIONAL PURPOSES ONLY."
   ]
  },
  {
   "cell_type": "markdown",
   "id": "85a5474d-05a0-40b8-b452-31cea204dfd7",
   "metadata": {},
   "source": [
    "## Markdown cells"
   ]
  },
  {
   "cell_type": "markdown",
   "id": "d3b9bd1d-e0d1-424f-b8a5-00f723cc07ea",
   "metadata": {},
   "source": [
    "These first three cells are \"Markdown\" cells. I can **use them for headings, formatted texts**, and even to include image attachments.\n",
    "- You can edit the markdown cells by just double-clicking them\n",
    "- You can do special mark downs like bullets, **bold text**, *italic text*, and many others\n",
    "- When you are done editing, **type (Shift-Enter) to execute**\n",
    "\n",
    "So when you see plain text like this, or fancy formatting, or headings, it's a Markdown cell"
   ]
  },
  {
   "cell_type": "markdown",
   "id": "f785582a-d28c-4c46-9c6e-15216d64e9da",
   "metadata": {},
   "source": [
    "## Code cells\n",
    "Code cells is where you can **run Python code**:\n",
    "- You can write any Python code in them.\n",
    "- You can **execute each cell** individually, by clocking the little play button in the action bar, or more easily by **clicking (Shift-Enter)** inside the cell\n",
    "\n",
    "The next few cells are code cells."
   ]
  },
  {
   "cell_type": "code",
   "execution_count": null,
   "id": "f6374829-d052-4098-9b91-11f5a3fef105",
   "metadata": {},
   "outputs": [],
   "source": [
    "var1 = \"Hello World\"\n",
    "print(var1)"
   ]
  },
  {
   "cell_type": "markdown",
   "id": "48f8cc15-b462-4694-b0b6-b8ab17766819",
   "metadata": {},
   "source": [
    "The **last value in a cell**, or a value alone in a cell, will automatically output the **string representation** for that value."
   ]
  },
  {
   "cell_type": "code",
   "execution_count": null,
   "id": "085139ef-a067-4efa-88d0-94691339272a",
   "metadata": {},
   "outputs": [],
   "source": [
    "var1"
   ]
  },
  {
   "cell_type": "markdown",
   "id": "49516783-b5ac-4b63-8c1d-bed4f955128b",
   "metadata": {},
   "source": [
    "### Functions, classes and variables"
   ]
  },
  {
   "cell_type": "markdown",
   "id": "6f15ffd3-c54e-4ddd-ad08-f305dabe8949",
   "metadata": {},
   "source": [
    "You can write a whole function or class in a cell, or across cells. The **variables and functions carry over**."
   ]
  },
  {
   "cell_type": "code",
   "execution_count": null,
   "id": "9d6e9eb8-7e45-40f0-94cf-d8a7516c1f0b",
   "metadata": {},
   "outputs": [],
   "source": [
    "my_list = [1 , 2 , 4 , 5 , 6, 7 , 8 , 10]"
   ]
  },
  {
   "cell_type": "markdown",
   "id": "3ca6030b-7ce2-45da-8a27-6c409ad9ca14",
   "metadata": {},
   "source": [
    "I can put a random explanation line here in a Markdown cell before I define this function ..."
   ]
  },
  {
   "cell_type": "code",
   "execution_count": null,
   "id": "2adcb7fb-8859-46dd-9649-6a09ceb4e92f",
   "metadata": {},
   "outputs": [],
   "source": [
    "def add_numbers(val_list):\n",
    "    total = 0\n",
    "    for num in val_list:\n",
    "        total += num\n",
    "\n",
    "    return total"
   ]
  },
  {
   "cell_type": "code",
   "execution_count": null,
   "id": "a6419536-b6a2-4aff-a373-3a9777afa47b",
   "metadata": {},
   "outputs": [],
   "source": [
    "def mult_numbers(val_list):\n",
    "    total = 1\n",
    "    for num in val_list:\n",
    "        total = total * num\n",
    "\n",
    "    return total"
   ]
  },
  {
   "cell_type": "markdown",
   "id": "9446d984-3609-4899-a433-cd568e05db8d",
   "metadata": {},
   "source": [
    "Then I can write some more ... and the variable and function will be in the Python kernel memory to be used next ..."
   ]
  },
  {
   "cell_type": "code",
   "execution_count": null,
   "id": "41ce2999-adee-48e5-a7c6-a8d4f028df5f",
   "metadata": {},
   "outputs": [],
   "source": [
    "total_sum = add_numbers(my_list)\n",
    "print(f\"Total sum of list is {total_sum}\")"
   ]
  },
  {
   "cell_type": "code",
   "execution_count": null,
   "id": "c3928640-76d2-4261-b108-35b9a2fdfb83",
   "metadata": {},
   "outputs": [],
   "source": [
    "total_sum = mult_numbers(my_list)\n",
    "print(f\"Total sum of list is {total_sum}\")"
   ]
  },
  {
   "cell_type": "markdown",
   "id": "ee3fca01-5501-480a-8a95-8b11ecd694bf",
   "metadata": {},
   "source": [
    "### Order of execution"
   ]
  },
  {
   "cell_type": "markdown",
   "id": "acc07a72-7395-41fc-90e7-727f09b2b341",
   "metadata": {},
   "source": [
    "I can **execute and re-execute cells in any order**. It doesn't have to be top to bottom.\n",
    "\n",
    "So I can go back to the *my_list* definition cell, change the values and run the cell, then go back down to the cell that prints the total and re-execute that.\n",
    "\n",
    "The **little number** on the left **tells** you the **order cells were executed**."
   ]
  },
  {
   "cell_type": "markdown",
   "id": "3fe5ede9-affc-4282-a477-5e19dde6b524",
   "metadata": {},
   "source": [
    "## Restarting or Stopping the kernel and clearing values"
   ]
  },
  {
   "cell_type": "markdown",
   "id": "3f22e4c3-dfcf-4829-8253-b317ca25f8ba",
   "metadata": {},
   "source": [
    "The **kernel** is the thing that runs your code in the Jupyter Notebook. There are a few commands in the action bar, and the menu bar that are important:\n",
    "- You can stop the kernel if for some reason a cell is stuck (you see a \"*\" symbol on the left forever, that number becomes a number)\n",
    "- You can restart the kernel to clear the memory\n",
    "    - You can restart and leave the old results showing, or you can restart an clear all values"
   ]
  },
  {
   "cell_type": "markdown",
   "id": "fbb49021-4932-49b2-875e-c51089328785",
   "metadata": {},
   "source": [
    "## Saving and loading Jupyter Notebooks"
   ]
  },
  {
   "cell_type": "markdown",
   "id": "7915f42d-ed74-481e-83ae-23db5fec14f2",
   "metadata": {},
   "source": [
    "You can **save a Jupyter Notebook as a \".ipynb\" file**, with all the special formatting. You should be able to view and run it in any environment, as long as they have the necessary libraries being used in the notebook. In addition to the standard Jupyter Notebook and Jupyter Lab, there are other IDEs and cloud environments (such as SageMaker Studio Lab) which can view and run Jupyter Notebooks.\n",
    "\n",
    "Examples in this class will not include any fancy libraries, so they should be able to run in any basic installation."
   ]
  },
  {
   "cell_type": "markdown",
   "id": "9e55e291-fcc6-42f3-8c9c-966c3812942a",
   "metadata": {},
   "source": [
    "#### Saving as Python"
   ]
  },
  {
   "cell_type": "markdown",
   "id": "022d6d18-bf9b-420e-a6ea-9ee69aff1408",
   "metadata": {},
   "source": [
    "You can also export a Jupyter Notebook as a standard \".py\" Python file. The Markdown cells become Python comments, and the code blocks are saved as Python code sequentially."
   ]
  },
  {
   "cell_type": "markdown",
   "id": "91b281ed-61a5-4c96-82df-ad82370e0d84",
   "metadata": {},
   "source": [
    "#  <span style=\"color:red\"> Optional</span>: Where can I get this?"
   ]
  },
  {
   "cell_type": "markdown",
   "id": "d339e8eb-63b9-48d9-8ca7-17d27f6eea06",
   "metadata": {},
   "source": [
    "**All practice exercises and Labs are still in Cloud9** as they were in DF1, so there is not requirement for you to use Jupyter Notebooks.<br>\n",
    "You **only need** it **if** you **want to view the fully documented demo examples** in the .ipynb format, **or** if you want to **play with it**.<br>\n",
    "It's extremely popular for Data Analytics and Machine Learning."
   ]
  },
  {
   "cell_type": "markdown",
   "id": "011a7744-4e17-4ec9-8c12-53dc39746339",
   "metadata": {},
   "source": [
    "## Free download from jupyter.org"
   ]
  },
  {
   "cell_type": "markdown",
   "id": "d32b63ae-e875-422a-8867-e18043dbab32",
   "metadata": {},
   "source": [
    "Jupyter is an open source tool, and you can download and install for free.<br>\n",
    "Website: [https://jupyter.org](https://jupyter.org/)\n",
    "\n",
    "**Note: We will not be discussing or supporting installation in this class, as it is not an Amazon product**"
   ]
  },
  {
   "cell_type": "markdown",
   "id": "b8988fcb-1a2f-4c1c-9691-053840738f3a",
   "metadata": {},
   "source": [
    "### Jupyterlite\n",
    "From the jupyter,org web site, you can also access a **free limitted environment** called  **Jupyterlite**(https://jupyterlite.github.io/demo/lab/index.html). Again, this is **not an AWS site**, so it's **something you would try on your own**."
   ]
  },
  {
   "cell_type": "markdown",
   "id": "f54f41c2-569f-4bbb-bb58-faab87e45a22",
   "metadata": {},
   "source": [
    "## Free Amazon supported account under SageMaker Studio Lab"
   ]
  },
  {
   "cell_type": "markdown",
   "id": "b5bb4038-5dca-4f8d-8188-122b24f6ec52",
   "metadata": {},
   "source": [
    "**Amazon supports Jupyter Lab environment in the Cloud**, which is **currently free** for anyone.\n",
    "- **No credit card required**\n",
    "- **Not associated with** an **AWS Account**\n",
    "- Currently a **1 to 5 business days automated approval process**\n",
    "\n",
    "Website for registration and all details: **[https://studiolab.sagemaker.aws/](https://studiolab.sagemaker.aws/)**"
   ]
  },
  {
   "cell_type": "markdown",
   "id": "2be77215-14a6-4f32-bb61-3efb718dde87",
   "metadata": {},
   "source": [
    "## Other tools\n",
    "Given Jupyter Notebooks popularity, there are a lot of third party tools which support the format, either directly or with plugins. This include VSCode and PyCharm."
   ]
  },
  {
   "cell_type": "code",
   "execution_count": null,
   "id": "5ea3c4ed-0511-4d6a-8119-8feb39d47b67",
   "metadata": {},
   "outputs": [],
   "source": []
  }
 ],
 "metadata": {
  "kernelspec": {
   "display_name": "Python 3 (ipykernel)",
   "language": "python",
   "name": "python3"
  },
  "language_info": {
   "codemirror_mode": {
    "name": "ipython",
    "version": 3
   },
   "file_extension": ".py",
   "mimetype": "text/x-python",
   "name": "python",
   "nbconvert_exporter": "python",
   "pygments_lexer": "ipython3",
   "version": "3.9.2"
  }
 },
 "nbformat": 4,
 "nbformat_minor": 5
}
