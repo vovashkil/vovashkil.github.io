{
 "cells": [
  {
   "cell_type": "markdown",
   "id": "2de7266b-789e-451d-8ff6-5023e5c8c8e6",
   "metadata": {},
   "source": [
    "# <span style=\"color:blue\">Dynamic Programming\n",
    "AWS CLOUD INSTITUTE: PROVIDED FOR EDUCATIONAL INSTRUCTIONAL PURPOSES ONLY."
   ]
  },
  {
   "cell_type": "markdown",
   "id": "62fcfd0e-672b-4586-9542-7c26bf21cef7",
   "metadata": {},
   "source": [
    "# Tabulation"
   ]
  },
  {
   "attachments": {},
   "cell_type": "markdown",
   "id": "656dd9d9-62c6-497d-b97c-f2b4ce2eae78",
   "metadata": {},
   "source": [
    "Tabulation is a **bottom-up approach to dynamic programming**. \n",
    "- It **starts** with the **smallest possible subproblem**, called **the base case**, and then **works step-by-step up to each subproblem**. -\n",
    "- **As each subproblem** is **solved**, its **solution is saved** and **used to solve the next lowest subproblem**. -\n",
    "- In the end, these building solutions lead to the answer to the main problem.\n",
    "\n",
    "It is **called tabulation** because the **information** is **often stored in** a **table.**"
   ]
  },
  {
   "cell_type": "markdown",
   "id": "1417e86a-5520-41a5-ba64-c78430a53b0d",
   "metadata": {},
   "source": [
    "## Calculating Factorial\n",
    "Let's look at the implementation of factorials."
   ]
  },
  {
   "cell_type": "markdown",
   "id": "d565398b-f703-499d-b0cb-4d324d7d88b5",
   "metadata": {},
   "source": [
    "### Factorial - Recursive implementation\n",
    "We saw this implemention during our discussion of recursion."
   ]
  },
  {
   "cell_type": "code",
   "execution_count": null,
   "id": "64df3be3-f2d0-4041-9c6a-7f6512be4eb0",
   "metadata": {},
   "outputs": [],
   "source": [
    "def factorial_rec(n):\n",
    "    '''\n",
    "    Recursive implementation of factorials\n",
    "    '''\n",
    "    # Base case: factorial of 0 or 1 is 1\n",
    "    if n < 2:\n",
    "        return 1\n",
    "    # Recursive case: n! = n * (n-1)!\n",
    "    else:\n",
    "        return n * factorial_rec(n-1)"
   ]
  },
  {
   "cell_type": "markdown",
   "id": "f5fc0bec-6772-4dce-9eef-2d9cff823e82",
   "metadata": {},
   "source": [
    "#### Basic test"
   ]
  },
  {
   "cell_type": "code",
   "execution_count": null,
   "id": "6d34b54c-2c33-43af-80ac-b72a2226d692",
   "metadata": {},
   "outputs": [],
   "source": [
    "for n in range(10):\n",
    "    print(f\"Factorial of {n}: {factorial_rec(n)}\")"
   ]
  },
  {
   "cell_type": "markdown",
   "id": "e4e9c979-40cf-4f8f-bac8-99ea597f868d",
   "metadata": {},
   "source": [
    "Ok, that works well enough for these small numbers."
   ]
  },
  {
   "cell_type": "markdown",
   "id": "f02fb4b0-c917-4875-b067-842d3289e6e0",
   "metadata": {},
   "source": [
    "#### Testing with a big number"
   ]
  },
  {
   "cell_type": "markdown",
   "id": "3eafabd1-58b9-4eab-aa28-d17ee56f9a2f",
   "metadata": {},
   "source": [
    "We looked at this in our recursion discussion. Just **to refresh our memory**, let's **see what happens** if I try to calculate the **factorial of 10,000 using recursion**."
   ]
  },
  {
   "cell_type": "code",
   "execution_count": null,
   "id": "78773873-d05f-4809-ad4c-c772c1ebc29e",
   "metadata": {},
   "outputs": [],
   "source": [
    "#n = 10000"
   ]
  },
  {
   "cell_type": "markdown",
   "id": "ee4d4687-7544-4880-a8e1-9ba4f00ca7ad",
   "metadata": {},
   "source": [
    "#### <span style=\"color:red\">**WARNING: This next step will probably crash your Python kernel**</span>\n",
    "<span style=\"color:red\"> Save your notebook if you made changes.</span>"
   ]
  },
  {
   "cell_type": "code",
   "execution_count": null,
   "id": "c6f5ff49-c050-467c-961e-83d628a78a2c",
   "metadata": {},
   "outputs": [],
   "source": [
    "# calculate the factorial using recursion\n",
    "result = factorial_rec(n)\n",
    "\n",
    "# print factorial, or a message if the number is bigger than 1 trillion\n",
    "if (result > 1000000000000):\n",
    "    print(f\"Wow! Factorial of {n} is bigger than one trillion!\")\n",
    "else:\n",
    "    print(f\"Factorial of {n}: {result}\")"
   ]
  },
  {
   "cell_type": "markdown",
   "id": "cdafa701-b0f2-4ca5-a3b0-625733498426",
   "metadata": {},
   "source": [
    "<span style=\"color:red\">**Kaboom!!!**</span> (if you didn't crash your notebook, try 100000)\n",
    "\n",
    "**As we've discussed** in the past, we get an **error because** we go over the **recursion limit**. **Recursion uses extra memory** to maintain the call stack, so **Python sets** a **maximum limit** to prevent an application from taking over too much memory. You can **view** that **limit using** the **[sys.getrecursionlimit() call](https://docs.python.org/3/library/sys.html#sys.getrecursionlimit)**.\n",
    "\n",
    "**If** you **don't want to keep crashing**, **comment out** the ***n=10000*** line."
   ]
  },
  {
   "cell_type": "markdown",
   "id": "8768154c-7efd-4a8d-a5e8-ba0f38b0e969",
   "metadata": {},
   "source": [
    "#### Why did I crash?\n",
    "As we've discussed in the past, **recursion uses** extra **memory to maintain** the **call stack**. We don't want a misbehaving program to take over all of our memory, so **there is a system limit**. The **value can vary**, but you can **verify it using** the ***sys.getrecursionlimit()***"
   ]
  },
  {
   "cell_type": "markdown",
   "id": "62560ac3-a4d7-4ab9-8846-6de8147ef08d",
   "metadata": {},
   "source": [
    "### Factorial - Tabulation implementation"
   ]
  },
  {
   "attachments": {},
   "cell_type": "markdown",
   "id": "7b9df16f-c99a-4643-982e-14ad895a2948",
   "metadata": {},
   "source": [
    "#### Is this a good fit for tabulation?\n",
    "First things first. Let's check if this solutions meets the key characteristics for dynamic programming:\n",
    "- **Optimal structure** - **Can** this **problem** be **broken down** in **smaller subproblems?**\n",
    "    - **Yes**. We can start with factorials of smaller numbers, and build our way up.\n",
    "- **Overlapping subproblems** - Are the **subproblems encountered repeatedly** during the process of solving the main problem?\n",
    "    - **Yes**. By it's very definition, every factorial includes factorials of all the numbers smaller than it.\n",
    "  \n",
    "If we're still not sure, let's check out the implementation using tabulation. Note that there is **no recursion involved**."
   ]
  },
  {
   "cell_type": "markdown",
   "id": "c5743525-3ef6-44af-866b-0e3898014f98",
   "metadata": {},
   "source": [
    "#### Implementation"
   ]
  },
  {
   "cell_type": "code",
   "execution_count": null,
   "id": "948c7164-a4d8-4963-9d4c-59aecac3176b",
   "metadata": {},
   "outputs": [],
   "source": [
    "def factorial_tab(n):\n",
    "    '''\n",
    "    Tabulation implementation of factorials\n",
    "    '''\n",
    "\n",
    "    # Create a table to store results. \n",
    "    fact_results = [0] * (n + 1)\n",
    "    \n",
    "    # Base case: factorial of 0 is 1. \n",
    "    fact_results[0] = 1\n",
    "    \n",
    "    # calculate answer building on previous results\n",
    "    for i in range(1, n+1): \n",
    "        fact_results[i] = i * fact_results[i - 1]\n",
    "        \n",
    "    # Return final result\n",
    "    return fact_results[n]"
   ]
  },
  {
   "cell_type": "markdown",
   "id": "8df775c6-ff6c-4fa5-8180-543eef760091",
   "metadata": {},
   "source": [
    "#### Basic tests"
   ]
  },
  {
   "cell_type": "code",
   "execution_count": null,
   "id": "b0a3f937-a24c-4508-910e-bac05cab5a2a",
   "metadata": {},
   "outputs": [],
   "source": [
    "for n in range(10):\n",
    "    print(f\"Factorial of {n}: {factorial_tab(n)}\")"
   ]
  },
  {
   "cell_type": "markdown",
   "id": "0003c3ca-4a58-48f1-8869-9c10f9f7f860",
   "metadata": {},
   "source": [
    "Ok ... that works too. But **why bother?** The recursive solution seemed smaller."
   ]
  },
  {
   "cell_type": "markdown",
   "id": "a2d431df-e242-4a0a-adbf-40c299844369",
   "metadata": {},
   "source": [
    "#### Retesting with a big number\n",
    "Let's **repeat** the **same code block**, but **this time** we'll **use** our **tabulation** code. And such is my confidence, I'm **starting out with \"n = 20000\"**.\n",
    "\n",
    "Yes, **you heard me!** I'm **seeing that 10,000** that broke the recursion, and **raising it to 20,000! Bold move!**"
   ]
  },
  {
   "cell_type": "code",
   "execution_count": null,
   "id": "8e2dc7a2-ea09-49c1-830d-96adcd78eaa3",
   "metadata": {},
   "outputs": [],
   "source": [
    "n = 20000"
   ]
  },
  {
   "cell_type": "code",
   "execution_count": null,
   "id": "347439f0-69cc-4ca5-b025-2dca0452dae0",
   "metadata": {},
   "outputs": [],
   "source": [
    "# calculate the factorial using tabulation\n",
    "result = factorial_tab(n)\n",
    "\n",
    "# print factorial, or a message if the number is bigger than 1 trillion\n",
    "if (result > 1000000000000):\n",
    "    print(f\"Wow! Factorial of {n} is bigger than one trillion!\")\n",
    "else:\n",
    "    print(f\"Factorial of {n}: {result}\")"
   ]
  },
  {
   "cell_type": "markdown",
   "id": "680f08fd-bc8a-4177-b318-cd8849e6eb2a",
   "metadata": {},
   "source": [
    "That **works**, because we **didn't have to recurse**."
   ]
  },
  {
   "cell_type": "markdown",
   "id": "e5b49e77-e3be-4d59-9b92-5bad444c06b4",
   "metadata": {
    "jp-MarkdownHeadingCollapsed": true
   },
   "source": [
    "### <span style=\"color:blue\">OPTIONAL</span>: Better Implementation\n",
    "**This implementation** is seen in a few places, and it's **enough to explain the concept of tabulation**. **However**, it **doesn't** really **demonstrate** the **advantage**, because as it is, it's **no better than** a regular **iterative approach** to factorial. You still have to go through every number every time.\n",
    "\n",
    "The **benefit of tabulation** comes from **reusing previous results**. So a **better implementation** would **move** the **table outside the function**, and **only re-calculate** values **if** they had **not been calculated before**. You can see that implementation here."
   ]
  },
  {
   "cell_type": "markdown",
   "id": "c3dfb3cb-f609-42e2-9ee6-fc1d6f384088",
   "metadata": {},
   "source": [
    "#### Implementation\n",
    "I **added** a few **print statements** in the solution just so we can **see when tabulation saved time**. In a final implementation we wouldn't include them."
   ]
  },
  {
   "cell_type": "code",
   "execution_count": null,
   "id": "a6b19381-430c-4552-bc1e-c656448b964f",
   "metadata": {},
   "outputs": [],
   "source": [
    "# Create a table to store results, initializing it with factorial of 0, which is 1\n",
    "fact_results = [1]"
   ]
  },
  {
   "cell_type": "code",
   "execution_count": null,
   "id": "76c7968a-6658-42a0-beb3-5185a90d9dc8",
   "metadata": {},
   "outputs": [],
   "source": [
    "def factorial_tab(n):\n",
    "    '''\n",
    "    Tabulation implementation of factorials\n",
    "    '''\n",
    "\n",
    "    # get the highest factorial currently available in the table\n",
    "    max_fact = len(fact_results) - 1\n",
    "    \n",
    "    # if the factorial we need is smaller or equal to the max available, just return it\n",
    "    if n <= max_fact:\n",
    "        print(f\"Factorial of {n} available. Returning imediatelly\")\n",
    "        return fact_results[n]\n",
    "\n",
    "    # else, complement the factotrial table up to the one we need\n",
    "    print(f\"Complementing factorial table from {max_fact + 1} to {n} ...\")\n",
    "    for i in range(max_fact + 1, n + 1):\n",
    "        fact_results.append(i * fact_results[i - 1])\n",
    "\n",
    "    # Return final result\n",
    "    return fact_results[n]"
   ]
  },
  {
   "cell_type": "markdown",
   "id": "c16486e4-ac1e-4142-996c-22c7c5a4ab7a",
   "metadata": {},
   "source": [
    "#### Tests"
   ]
  },
  {
   "cell_type": "code",
   "execution_count": null,
   "id": "f24d209a-2054-4d15-856d-ec39f89ed864",
   "metadata": {},
   "outputs": [],
   "source": [
    "# Start with 100. This will be our first complementation.\n",
    "n = 100\n",
    "result = factorial_tab(n)\n",
    "print(f\"Factorial of {n}: {result}\\n\")\n",
    "\n",
    "# Try 50. This time we should have the result ready\n",
    "n = 50\n",
    "result = factorial_tab(n)\n",
    "print(f\"Factorial of {n}: {result}\\n\")\n",
    "\n",
    "# Try 500. We'l have to extend from 101 to 500\n",
    "n = 200\n",
    "result = factorial_tab(n)\n",
    "print(f\"Factorial of {n}: {result}\\n\")\n",
    "\n",
    "# Try 155. This time we should have the result ready\n",
    "n = 155\n",
    "result = factorial_tab(n)\n",
    "print(f\"Factorial of {n}: {result}\\n\")"
   ]
  },
  {
   "cell_type": "markdown",
   "id": "610ace2a-2395-4a03-84f2-34947034add4",
   "metadata": {},
   "source": [
    "## The Coin Change Problem\n",
    "The coin change problem is another classic example of dynamic programming. The problem is:\n",
    "- **Given** a **set of coins**, **find** the **total number of ways** you can make **change for** a **given amount of money**.\n",
    "- **Assume** you have an **unlimitted suply of coins**, so you **can repeat** a **coin as many times as you need**.\n",
    "\n",
    "**Example**:\n",
    "In the US monetary system, our coins would have ammounts of 1 (penny), 5 (nickle), 10 (dime), and 25 (quarter). And yes, there are rarer 50 and $1 coins. However, the **problem** is **easier to visualize using fictitious coins of values 1, 2, and 3** cents.\n",
    "\n",
    "So **for these coins**, **how many ways** could you **make change for 4 cents?** The **answer is 4**.\n",
    "- [1, 1, 1, 1]  adds up to 4\n",
    "- [1, 1, 2]  adds up to 4\n",
    "- [1, 3]  adds up to 4\n",
    "- [2, 2]  adds up to 4\n",
    "\n",
    "**Bear in mind** that although I'm showing the different options here, the **real \"classic\" coin change problem** is to find **HOW MANY ways** there are. **NOT what** are the different **ways**."
   ]
  },
  {
   "cell_type": "markdown",
   "id": "b81492a5-1c3a-41bc-a506-d2b51836522f",
   "metadata": {},
   "source": [
    "### Define  our set of available coins\n",
    "We define those as a global outside the function, since our \"monetary system\" is not something that changes every time. You could also pass the list of available coins to the function everytime if you prefer."
   ]
  },
  {
   "cell_type": "code",
   "execution_count": null,
   "id": "3767a42c-a6c7-42fb-9aae-a596368d3f3f",
   "metadata": {},
   "outputs": [],
   "source": [
    "# define our set of available coins\n",
    "coins = [1, 3, 4]"
   ]
  },
  {
   "cell_type": "markdown",
   "id": "f17aa440-b227-4512-9d9a-c213427baf16",
   "metadata": {},
   "source": [
    "### Coin Change - Recursive implementation\n",
    "This is similar to the solution provided on eLearning, but clearer variable names, and comments."
   ]
  },
  {
   "cell_type": "code",
   "execution_count": null,
   "id": "315870d0-4ce5-4fdb-b619-1f6c62784ad6",
   "metadata": {},
   "outputs": [],
   "source": [
    "def coin_change_rec(target_value, curr_total = 0, curr_coin = 0):\n",
    "    # if we went over the total, or we've reached the last coin, this is not a solution\n",
    "    if curr_total > target_value or curr_coin >= len(coins):\n",
    "        return 0\n",
    "    # else if we the total matches the target, this is a solution, and will be added to count\n",
    "    elif curr_total == target_value:\n",
    "        return 1\n",
    "    else:\n",
    "        # calculate the total if we include current current coin\n",
    "        total_with = coin_change_rec(target_value, curr_total + coins[curr_coin], curr_coin)\n",
    "        total_without = coin_change_rec(target_value, curr_total, curr_coin + 1)\n",
    "\n",
    "        # final answer is the summ of the options with and without\n",
    "        return total_with + total_without"
   ]
  },
  {
   "cell_type": "markdown",
   "id": "76b004f5-1fc5-4d31-bf98-316d7a4159e7",
   "metadata": {},
   "source": [
    "#### Basic test"
   ]
  },
  {
   "cell_type": "code",
   "execution_count": null,
   "id": "29a3b425-4453-4385-93d0-2e0081ddf46f",
   "metadata": {},
   "outputs": [],
   "source": [
    "print(\"Total solutions: \", coin_change_rec(4))"
   ]
  },
  {
   "cell_type": "markdown",
   "id": "53e0ef94-460c-4cee-a5cf-a39f3fd7a328",
   "metadata": {},
   "source": [
    "#### Implementation with list of possible solutions\n",
    "We are not going to spend too much time looking at the recursive algorithm, since this is not the topic at hand. \n",
    "\n",
    "But one thing I wanted to do, is **enhance** the **algorithm to** actually **list the solutions**. The implementation gets surprisingly longer for that. I also **used** the **approach** we've see before, of **having** an **outside function that initializes starting values** for the recursion, and then **calls** an **internal one** to start the **recursive part**."
   ]
  },
  {
   "cell_type": "code",
   "execution_count": null,
   "id": "d907f1d9-2883-4b0f-97c0-73033570ed07",
   "metadata": {},
   "outputs": [],
   "source": [
    "def _coin_change_rec_ws(target_value, curr_total, coin_idx, curr_sol, all_solutions):\n",
    "    # if we went over the total, or we've reached the last coin, this is not a solution\n",
    "    if curr_total > target_value or coin_idx >= len(coins):\n",
    "        return 0\n",
    "    # else if we the total matches the target, this is a solution, and will be added to count\n",
    "    elif curr_total == target_value:\n",
    "        # append this solution to the list of all  solutions\n",
    "        all_solutions.append(curr_sol.copy())\n",
    "        return 1\n",
    "    else:\n",
    "        curr_sol.append(coins[coin_idx])\n",
    "        # calculate the total if we include current current coin\n",
    "        total_with = _coin_change_rec_ws(target_value, curr_total + coins[coin_idx], coin_idx, curr_sol, all_solutions)\n",
    "\n",
    "        # calculate the total if we exclude the current coin (so pop it from solution first)\n",
    "        curr_sol.pop()\n",
    "        total_without = _coin_change_rec_ws(target_value, curr_total, coin_idx + 1, curr_sol, all_solutions)\n",
    "\n",
    "        return total_with + total_without\n",
    "\n",
    "def coin_change_rec_ws(target_value):\n",
    "    # initialize variables\n",
    "    curr_sol = []\n",
    "    all_solutions = []\n",
    "\n",
    "    # call recursive function with initial values\n",
    "    total_solutions = _coin_change_rec_ws(target_value, 0, 0, curr_sol, all_solutions)\n",
    "\n",
    "    # return count of solutions plus list of all solutions\n",
    "    return total_solutions, all_solutions"
   ]
  },
  {
   "cell_type": "markdown",
   "id": "a9b6f61f-ea7a-4e67-a1e6-0cee2fc505e8",
   "metadata": {},
   "source": [
    "#### Basic test with solutions"
   ]
  },
  {
   "cell_type": "code",
   "execution_count": null,
   "id": "f7f98985-be9b-467d-82cf-646329dc0880",
   "metadata": {},
   "outputs": [],
   "source": [
    "# set the amount we're breaking change for\n",
    "total_ammount = 4\n",
    "\n",
    "# calculate change options\n",
    "total_solutions, solutions_list = coin_change_rec_ws(total_ammount)\n",
    "print(f\"Total solutions: {total_solutions}\")\n",
    "\n",
    "print(\"\\nSolutions:\")\n",
    "for sol in solutions_list:\n",
    "    print(sol)"
   ]
  },
  {
   "cell_type": "markdown",
   "id": "799c94dc-2107-4021-b5b8-4b1769b68e61",
   "metadata": {},
   "source": [
    "#### Will this work for regular US coins?\n",
    "Sure, so let's change our coin set to the typical US denominations"
   ]
  },
  {
   "cell_type": "code",
   "execution_count": null,
   "id": "cf16c529-624a-4338-8fe8-dcd230174ea9",
   "metadata": {},
   "outputs": [],
   "source": [
    "coins = [1, 5, 10, 25]"
   ]
  },
  {
   "cell_type": "markdown",
   "id": "6f5ed6c9-cbb9-4178-a9eb-d09ae2cccf70",
   "metadata": {},
   "source": [
    "##### Now rerun the function, and check for how many ways you can provide change for 30 cents. \n",
    "You'll see the list can get pretty long, which is why we're not picking a big value"
   ]
  },
  {
   "cell_type": "code",
   "execution_count": null,
   "id": "dde0132a-c780-4ec7-92e3-53a088b7a9de",
   "metadata": {},
   "outputs": [],
   "source": [
    "# set the amount we're breaking change for\n",
    "total_ammount = 30\n",
    "\n",
    "# calculate change options\n",
    "total_solutions, solutions_list = coin_change_rec_ws(total_ammount)\n",
    "print(f\"Total solutions: {total_solutions}\")\n",
    "\n",
    "print(\"\\nSolutions:\")\n",
    "for sol in solutions_list:\n",
    "    print(sol)"
   ]
  },
  {
   "cell_type": "markdown",
   "id": "7b58416e-33f4-4764-967f-985a4bf641d5",
   "metadata": {},
   "source": [
    "#### Reset available coins\n",
    "Let's reset our coins so we have an even comparison in the next section"
   ]
  },
  {
   "cell_type": "code",
   "execution_count": null,
   "id": "b3eadd95-f2c2-4305-a218-a4cbe4e79b6f",
   "metadata": {},
   "outputs": [],
   "source": [
    "coins = [1, 3, 4]"
   ]
  },
  {
   "cell_type": "markdown",
   "id": "26c2214f-088f-4519-8e23-6192a3705865",
   "metadata": {},
   "source": [
    "### Complexity analysis\n",
    "This recursion is very clever, but the time **complexity** can be very **high** in the worst case. Because at **each recursive step**, you are potentially **making two additional calls** (the \"with\" call, and the \"without\" call). So the final number of steps would be **2 x 2 x ... x 2**, however many time it takes to reach the total. So **that's 2<sup>n</sup>**, which we call exponential time complexity. The *n* in this case is the target value, since we're recursing until we reach it.\n",
    "- **Time complexity: <span style=\"color:blue\">O(2<sup>n</sup>)**</span>"
   ]
  },
  {
   "cell_type": "markdown",
   "id": "f07bea03-e9e8-4c54-a3ca-1fab8438043e",
   "metadata": {},
   "source": [
    "### Coin Change - Tabulation implementation"
   ]
  },
  {
   "attachments": {},
   "cell_type": "markdown",
   "id": "385ead32-4d56-40d3-86d1-01a90b3525bf",
   "metadata": {},
   "source": [
    "#### Is this a good fit for tabulation?\n",
    "First things first. Let's check if this solutions meets the key characteristics for dynamic programming:\n",
    "- **Optimal structure** - **Can** this **problem** be **broken down** in **smaller subproblems?**\n",
    "    - **Yes**. We can start with solutions for a small total value, and build our way up.\n",
    "- **Overlapping subproblems** - Are the **subproblems encountered repeatedly** during the process of solving the main problem?\n",
    "    - **Yes**. We will see that the solution for a total value, will be a combination of smaller total values calculated before.\n",
    "  \n",
    "If we're still not sure, let's check out the implementation using tabulation. Note that there is **no recursion involved**."
   ]
  },
  {
   "cell_type": "markdown",
   "id": "a0173b7a-b2c0-42fe-8ea6-0128b07fb214",
   "metadata": {},
   "source": [
    "#### Implementation\n",
    "This is a **similar approach to** the **solution** provided seen **on eLearning**, **but** I use very **explicit variable names, and** a whole **lot of comments**.\n",
    "\n",
    "I'm **also breaking down key intermediate steps**. In many cases they could be represented in less statements, but it becomes harder to understand.\n",
    "\n",
    "Read the comments carefully, and they should explain the appraoch."
   ]
  },
  {
   "cell_type": "code",
   "execution_count": null,
   "id": "76f4180f-91ff-4886-a088-f2af684722ac",
   "metadata": {
    "editable": true,
    "slideshow": {
     "slide_type": ""
    },
    "tags": []
   },
   "outputs": [],
   "source": [
    "def coin_change_tab(target_value):\n",
    "    # Initialize table to store the number of solutions for each target amount\n",
    "    sols_table = [0] * (target_value + 1)\n",
    "    \n",
    "    # Base case: There is one way to make change for amount = 0 (no coins)\n",
    "    sols_table[0] = 1    \n",
    "    # Iterate over each available coin\n",
    "    for coin in coins:\n",
    "        # clearly I won't be able to use this coin for any value smaller than it\n",
    "        # so I'll iterate starting at the value, up to the target\n",
    "        for val in range(coin, target_value + 1):\n",
    "            # get the current solutions we already have for that value before using this coin\n",
    "            sols_without_coin = sols_table[val]\n",
    "            \n",
    "            # if we use this coin, how much left would we have\n",
    "            total_minus_coin = val - coin\n",
    "\n",
    "            # So if we use this coin, we would also have all the solutions for the remainder value\n",
    "            sols_with_coin = sols_table[total_minus_coin]\n",
    "            \n",
    "            # Now we can update the solutions table value to be the ones with and without this coin\n",
    "            sols_table[val] = sols_without_coin + sols_with_coin\n",
    " \n",
    "    # The result is stored in the last entry of the table\n",
    "    return sols_table[target_value]"
   ]
  },
  {
   "cell_type": "markdown",
   "id": "7a007074-3c19-44c4-86cb-92524f873c08",
   "metadata": {},
   "source": [
    "#### Basic test"
   ]
  },
  {
   "cell_type": "code",
   "execution_count": null,
   "id": "5c1964d5-b53f-4218-ab93-0da9a19022a2",
   "metadata": {},
   "outputs": [],
   "source": [
    "print(\"Total solutions: \", coin_change_tab(4))"
   ]
  },
  {
   "cell_type": "markdown",
   "id": "848f7611-8b2a-40c9-9300-eaa84a4a5a29",
   "metadata": {},
   "source": [
    "#### Modified version with print statements\n",
    "Let's create a **modified version**, **with print statements** (hence the \"_wp\" in the name, as in \"with print\") to **visualize what happens** during the sorting processing. This includes adding a *print_table()* utility function that prints our solutions table.\n",
    "\n",
    "This will print a lot of info, but it's a **good way to visualize** the **bottom up progress**."
   ]
  },
  {
   "cell_type": "code",
   "execution_count": null,
   "id": "de3f6dec-a23b-4d6f-a49c-8e616f622239",
   "metadata": {},
   "outputs": [],
   "source": [
    "def print_table(table, extra_indent = 0):\n",
    "    '''\n",
    "    Simple utility to print our solutions table\n",
    "    '''\n",
    "    print(\"\".rjust(extra_indent) + \"Target   value  : \", end=\"\")\n",
    "    for i in range(len(table)):\n",
    "        print(str(i).rjust(3), end=\"\")\n",
    "    print()\n",
    "\n",
    "    print(\"\".rjust(extra_indent) + \"Num of solutions: \", end=\"\")\n",
    "    for i in range(len(table)):\n",
    "        print(str(table[i]).rjust(3), end=\"\")\n",
    "    print()\n",
    "        \n",
    "def coin_change_tab_wp(target_value):\n",
    " \n",
    "    # Initialize table to store the number of solutions for each target amount\n",
    "    sols_table = [0] * (target_value + 1)\n",
    "    \n",
    "    # Base case: There is one way to make change for amount = 0 (no coins)\n",
    "    sols_table[0] = 1\n",
    "\n",
    "    print(\"Initial table:\")\n",
    "    print_table(sols_table)\n",
    "    \n",
    "    # Iterate over each available coin\n",
    "    for coin in coins:\n",
    "        print(f\"\\nChecking coin: {coin}\")\n",
    "        \n",
    "        # clearly I won't be able to use this coin for any value smaller than it\n",
    "        # so I'll iterate starting at the value, up to the target\n",
    "        for val in range(coin, target_value + 1):\n",
    "            print()\n",
    "            print(f\"----- Checking Total = {val} and Coin = {coin} ------\")\n",
    "            # get the current solutions we already have for that value before using this coin\n",
    "            sols_without_coin = sols_table[val]\n",
    "            print(f\"      Current solutions for total of {val} without coin = {sols_without_coin}\")\n",
    "\n",
    "            # if we use this coin, how much left would we have\n",
    "            total_minus_coin = val - coin\n",
    "            print(f\"      Remaining total if coin is used = {val} - {coin} = {total_minus_coin}\")\n",
    "            \n",
    "            # So if we use this coin, we would also have all the solutions for the remainder value\n",
    "            sols_with_coin = sols_table[total_minus_coin]\n",
    "            print(f\"      Additional solutions for total of {total_minus_coin} with coin = {sols_with_coin}\")\n",
    "\n",
    "            # Now we can update the solutions table value to be the ones with and without this coin\n",
    "            sols_table[val] = sols_without_coin + sols_with_coin\n",
    "            print(f\"      Updated solutions = {sols_without_coin} + {sols_with_coin} = {sols_table[val]}\")\n",
    "\n",
    "            print(\"\\n      Updated table:\")\n",
    "            print_table(sols_table, 6)\n",
    "            \n",
    "        print(f\"\\nFull updated table after adding coin {coin}:\")\n",
    "        print_table(sols_table)\n",
    " \n",
    "    # The result is stored in the last entry of the table\n",
    "    return sols_table[target_value]"
   ]
  },
  {
   "cell_type": "markdown",
   "id": "2c3ebe76-4cfc-4ef8-8fcd-e2ed1e1a6ee8",
   "metadata": {},
   "source": [
    "#### Basic test"
   ]
  },
  {
   "cell_type": "code",
   "execution_count": null,
   "id": "4363cbb9-a2a1-4953-98ca-069b746081b7",
   "metadata": {},
   "outputs": [],
   "source": [
    "print(\"Total solutions: \", coin_change_tab_wp(4))"
   ]
  },
  {
   "cell_type": "markdown",
   "id": "b0949f7a-406b-4449-8fec-b84b730a43ac",
   "metadata": {},
   "source": [
    "#### Implementation with list of possible solutions?\n",
    "It's possible to do this for tabulation, but it becomes a whole separate issue, and a very long brute force algorithm. It's not in our scope here, so we'll skip it."
   ]
  },
  {
   "cell_type": "markdown",
   "id": "77961e2d-06d4-4d31-a645-ce0dec123dde",
   "metadata": {},
   "source": [
    "### Complexity analysis\n",
    "Our **recursive approach** was **smaller**, and probably easier to follow than this tabulation one. So **why bother?**\n",
    "\n",
    "Recall that the **recursive algorithm** has a complexity of **O(2<sup>n</sup>)**, where *n* was the target value. \n",
    "\n",
    "In the **tabulation algorithm** we have a **nexted loop**. The **first loop** will **iterate through** the **coins available**, which is **relatively small**. Let's **call that *m***. The **second loop** **iterates up to the target value**, so we **call that *n***, as we did before. So the **final complexity is *n\\*m***. Why not O(n<sup>2</sup>)? In this case the variables controller the outer and inner loop are very different, so *n\\*m* is more accurate.\n",
    "- **Time complexity: <span style=\"color:blue\">O(n\\*m)**</span>"
   ]
  },
  {
   "cell_type": "markdown",
   "id": "f83bbbbe-630b-489c-8e27-dfbec68fd552",
   "metadata": {
    "jp-MarkdownHeadingCollapsed": true
   },
   "source": [
    "# <span style=\"color:blue\">OPTIONAL</span>: Fibonacci\n",
    "We've already seen the **Fibonacci series**, where **each number** is the **sum of** the **two previous** numbers: ***0, 1, 1, 2, 3, 5, 8, 13, 21, 34, 55, 89, 144, ...***\n",
    "\n",
    "The **Fibonnaci problem** is usually about **returning** the ***nth* Fibonnaci number**. So:\n",
    "- fibonnaci(4) = 3\n",
    "- fibonnaci(5) = 5\n",
    "- fibonacci(6) = 8\n",
    "- fibonacci(7) = 13"
   ]
  },
  {
   "cell_type": "markdown",
   "id": "78bb5dea-dca4-42de-ae78-071eef26fb53",
   "metadata": {},
   "source": [
    "## Fibonacci"
   ]
  },
  {
   "cell_type": "markdown",
   "id": "e6a84c52-c944-473f-a2b1-20ea6d193893",
   "metadata": {},
   "source": [
    "### Fibonacci - Recursive implementation\n",
    "We saw this implemention during our discussion of recursion."
   ]
  },
  {
   "cell_type": "code",
   "execution_count": null,
   "id": "79b7023b-9814-404c-8589-a78e39e7c90d",
   "metadata": {},
   "outputs": [],
   "source": [
    "def fibonacci_rec(n): \n",
    "\t# Base case: First Fibonacci number is 0 \n",
    "\tif n == 0: \n",
    "\t\treturn 0 \n",
    "\t# Base case: Second Fibonacci number is 1 \n",
    "\telif n == 1: \n",
    "\t\treturn 1 \n",
    "\t# Recursive case \n",
    "\telse: \n",
    "\t\treturn fibonacci_rec(n - 1) + fibonacci_rec(n - 2) "
   ]
  },
  {
   "cell_type": "markdown",
   "id": "45c1a995-ce51-409a-9aa7-72ce1e3773a7",
   "metadata": {},
   "source": [
    "#### Basic test"
   ]
  },
  {
   "cell_type": "code",
   "execution_count": null,
   "id": "4f1a545b-ac28-4dd4-b143-7d3fbd5efef0",
   "metadata": {},
   "outputs": [],
   "source": [
    "# Set  number to find fibonnaci for\n",
    "fib_num = 10\n",
    "\n",
    "print(f\"Fibonnaci({fib_num}) = {fibonacci_rec(fib_num)}\")"
   ]
  },
  {
   "cell_type": "markdown",
   "id": "3ade7a22-8ca2-452d-913e-87f32faa4976",
   "metadata": {},
   "source": [
    "#### Larger number test\n",
    "Let's try a **larger number**. Doesn't even need to be that big. **100** will be **enough to cause problems**."
   ]
  },
  {
   "cell_type": "markdown",
   "id": "d5a91ad0-5acf-415d-a7f2-557875488cfc",
   "metadata": {},
   "source": [
    "#### <span style=\"color:red\">**WARNING: This next step will hang your Python kernel** </span>\n",
    "<span style=\"color:red\">You can **stop the cell** to break.</span>"
   ]
  },
  {
   "cell_type": "code",
   "execution_count": null,
   "id": "4c5e56e0-cee8-441d-a630-11d1d5a2283e",
   "metadata": {},
   "outputs": [],
   "source": [
    "# Set  number to find fibonnaci for\n",
    "fib_num = 100\n",
    "\n",
    "print(f\"Fibonnaci({fib_num}) = {fibonacci_rec(fib_num)}\")"
   ]
  },
  {
   "cell_type": "markdown",
   "id": "7f16822e-45cb-4ad0-b883-120544603c9c",
   "metadata": {},
   "source": [
    "### Complexity analysis\n",
    "Once again, the recursion is clever, but the time **complexity** is **high**. Because at **each recursive step**, you are **making two additional calls** (the *\"(n - 1)\"* call, and the *\"(n - 2)\"* call). So the final number of steps would be **2 x 2 x ... x 2**, or **2<sup>n</sup>**.\n",
    "- **Time complexity: <span style=\"color:blue\">O(2<sup>n</sup>)**</span>"
   ]
  },
  {
   "cell_type": "markdown",
   "id": "5e798778-bf7b-4726-a407-9e43b7f866fa",
   "metadata": {},
   "source": [
    "### Fibonacci - Tabulation implementation"
   ]
  },
  {
   "attachments": {},
   "cell_type": "markdown",
   "id": "3b58cf88-41db-4237-9a18-acf41214205a",
   "metadata": {},
   "source": [
    "#### Is this a good fit for tabulation?\n",
    "Let's check if this solutions meets the key characteristics for dynamic programming:\n",
    "- **Optimal structure** - **Can** this **problem** be **broken down** in **smaller subproblems?**\n",
    "    - **Yes**. We can start with solutions for a smaller Fibonacci problems, and build our way up.\n",
    "- **Overlapping subproblems** - Are the **subproblems encountered repeatedly** during the process of solving the main problem?\n",
    "    - **Yes**. By it's very definition, a Fibonacci problem depends on the values before."
   ]
  },
  {
   "cell_type": "markdown",
   "id": "c33f64bc-fc37-4fd6-9cf3-f6fbf5ec6cef",
   "metadata": {},
   "source": [
    "#### Implementation\n",
    "This is one of the more straightforward examples of tabulation. As usual, notice no recursion is used."
   ]
  },
  {
   "cell_type": "code",
   "execution_count": null,
   "id": "27b499c4-9067-4ddc-a69e-7337d2e374d9",
   "metadata": {},
   "outputs": [],
   "source": [
    "def fibonacci_tab(n):\n",
    "    # Initialize a table to store Fibonacci numbers\n",
    "    fib_table = [0] * (n + 1)\n",
    "    \n",
    "    # Base fibnacci cases\n",
    "    fib_table[0] = 0\n",
    "    fib_table[1] = 1\n",
    "    \n",
    "    # Populate the table using bottom-up approach\n",
    "    for i in range(2, n + 1):\n",
    "        fib_table[i] = fib_table[i - 1] + fib_table[i - 2]\n",
    "\n",
    "    # The result is the Fibonacci number at index n\n",
    "    return fib_table[n]"
   ]
  },
  {
   "cell_type": "markdown",
   "id": "6f354092-7a4f-4dc6-9af6-86a4c6da68e7",
   "metadata": {},
   "source": [
    "#### Basic test"
   ]
  },
  {
   "cell_type": "code",
   "execution_count": null,
   "id": "9210be76-84de-45fe-ad1a-e8c6b64ea632",
   "metadata": {},
   "outputs": [],
   "source": [
    "# Set  number to find fibonnaci for\n",
    "fib_num = 10\n",
    "\n",
    "print(f\"Fibonnaci({fib_num}) = {fibonacci_tab(fib_num)}\")"
   ]
  },
  {
   "cell_type": "markdown",
   "id": "be4593f9-38cb-4f82-be77-3160f34ed3a0",
   "metadata": {},
   "source": [
    "#### Larger number test\n",
    "Let's **try again**. And once again, we'll **raise the stakes**. Let's do **1,000!**"
   ]
  },
  {
   "cell_type": "markdown",
   "id": "f87128c4-c765-4af9-aca7-f93ba26220e3",
   "metadata": {},
   "source": [
    "#### <span style=\"color:red\">**WARNING ...** </span>\n",
    "<span style=\"color:blue\">Just kidding. **No warning needed**. This will be a breeze!</span>"
   ]
  },
  {
   "cell_type": "code",
   "execution_count": null,
   "id": "a6313675-67f3-46b0-a986-d0084f65e299",
   "metadata": {},
   "outputs": [],
   "source": [
    "# Set  number to find fibonnaci for\n",
    "fib_num = 1000\n",
    "\n",
    "print(f\"Fibonnaci({fib_num}) = {fibonacci_tab(fib_num)}\")"
   ]
  },
  {
   "cell_type": "markdown",
   "id": "b98e04a3-e396-494f-a8ca-7b7fffeb7258",
   "metadata": {},
   "source": [
    "### Complexity analysis\n",
    "If we look at the code, this is just a simple loop up to *n*. So the classic **O(n)**. \n",
    "- **Time complexity: <span style=\"color:blue\">O(n)**</span>"
   ]
  }
 ],
 "metadata": {
  "kernelspec": {
   "display_name": "Python 3 (ipykernel)",
   "language": "python",
   "name": "python3"
  },
  "language_info": {
   "codemirror_mode": {
    "name": "ipython",
    "version": 3
   },
   "file_extension": ".py",
   "mimetype": "text/x-python",
   "name": "python",
   "nbconvert_exporter": "python",
   "pygments_lexer": "ipython3",
   "version": "3.9.2"
  }
 },
 "nbformat": 4,
 "nbformat_minor": 5
}
