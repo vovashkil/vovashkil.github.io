{
 "cells": [
  {
   "cell_type": "markdown",
   "id": "91c0e33c-508b-4cbc-a505-3e19bda7b91c",
   "metadata": {},
   "source": [
    "# <span style=\"color:blue\">Heaps\n",
    "AWS CLOUD INSTITUTE: PROVIDED FOR EDUCATIONAL INSTRUCTIONAL PURPOSES ONLY."
   ]
  },
  {
   "cell_type": "markdown",
   "id": "f4045fe0-6d88-416c-88c4-3630f73c1a5a",
   "metadata": {},
   "source": [
    "A heap is a **data structure** used to **quickly find** the **smallest or largest** element. They are a special **type of binary tree**, which is a tree like data structure where nodes have at most two children."
   ]
  },
  {
   "attachments": {
    "446b8e9c-6cd1-4172-8d8f-e3aebfc54fc8.jpg": {
     "image/jpeg": "[encoded data removed]"
    }
   },
   "cell_type": "markdown",
   "id": "e73395d3-f45e-4945-b4b6-f7e2b11fe140",
   "metadata": {},
   "source": [
    "![heap.jpg](attachment:446b8e9c-6cd1-4172-8d8f-e3aebfc54fc8.jpg)"
   ]
  },
  {
   "cell_type": "markdown",
   "id": "bd15ce69-8fbd-4de6-8cee-f07fd9fb8fe9",
   "metadata": {},
   "source": [
    "## Implementation\n",
    "**Implementing** a **Heap**, **or** another type of **binary tree**, is something you **could do on your own, but** it's **time consuming**. \n",
    "\n",
    "As an **example** here, we will **build a different type of binary tree**. **Not** a **heap**. We will use a Python module to implement a heap later, but this example will show the type of approach we would use to build our own algorithm. We will use the **same approach** we saw for **linked lists**, using **Nodes with pointers**, and a class to support operations."
   ]
  },
  {
   "cell_type": "markdown",
   "id": "6fb39754-6234-42b5-9983-f1db6b1a626d",
   "metadata": {},
   "source": [
    "## Implementing a Binary Tree from Scratch"
   ]
  },
  {
   "cell_type": "markdown",
   "id": "81b14272-2534-4504-acce-b21d63cb7059",
   "metadata": {},
   "source": [
    "### TreeNode Class\n",
    "You will see this is very **similar to** our **Linked List** node, **but** we have **left and right pointers** as opposed to prev and next."
   ]
  },
  {
   "cell_type": "code",
   "execution_count": null,
   "id": "09ec13ea-c289-4dd6-bd60-0f4aaa90bf75",
   "metadata": {},
   "outputs": [],
   "source": [
    "class TreeNode:\n",
    "    '''\n",
    "    Node for a binary tree\n",
    "    '''\n",
    "    def __init__(self, data):\n",
    "        '''\n",
    "        Parameters:\n",
    "            data: The data to be stored in the node\n",
    "            left: Pointer to the left child node\n",
    "            right: Pointer to the right child node\n",
    "        '''\n",
    "        self.data = data\n",
    "        self.left = None\n",
    "        self.right = None\n",
    "        \n",
    "    def __str__():\n",
    "        return self.data"
   ]
  },
  {
   "cell_type": "markdown",
   "id": "b9b3e8b4-5744-46c8-ae29-a8f9c895bbb5",
   "metadata": {},
   "source": [
    "### BasicTree Class\n",
    "A **basic tree** would be **similar** to a **linked list**, but **instead of** a **head** pointer, it would have a **root pointer**, marking the top of the tree. **Elements** are then **added** to the **left** or the **right** depending on what kind of tree this is.\n",
    "\n",
    "Again, please note that the **tree below** is **NOT a heap**. It's **not** a **complete binary tree**, and **does not try to satisfy** the **heap property**. As it so happens, what we are building is called a **binary search tree**, but we **won't go into that** now, because it's a **topic for a future module**. We just needed a simple example here."
   ]
  },
  {
   "cell_type": "code",
   "execution_count": null,
   "id": "15a094b3-fb6d-49ad-b32d-90cf86911816",
   "metadata": {},
   "outputs": [],
   "source": [
    "class BasicTree:\n",
    "    '''\n",
    "    A basic tree\n",
    "    '''\n",
    "    def __init__(self):\n",
    "        # initialize the root of the tree\n",
    "        self.root = None\n",
    "\n",
    "    def _insert_node(self, new_node, curr_node):\n",
    "        '''\n",
    "        Recursive function that will keep looking for a leaf node to insert the new node at, recursevely calling \n",
    "        itself with the right or left sub-tree, depending on whether the value to insert is larger or smaller\n",
    "        '''\n",
    "        # if the new_node value is smaller, then try to insert on the left\n",
    "        if (new_node.data < curr_node.data):\n",
    "            # if there is no left child, insert it there\n",
    "            if (not curr_node.left):\n",
    "                curr_node.left = new_node\n",
    "            # else, recursively look to insert on the left sub-tree\n",
    "            else:\n",
    "                self._insert_node(new_node, curr_node.left)\n",
    "        # else, new node must be bigger, so try to insert on the right\n",
    "        else:\n",
    "            # if there is no right child, insert it there\n",
    "            if (not curr_node.right):\n",
    "                curr_node.right = new_node\n",
    "            # else, recursevely try to insert on the right sub-tree\n",
    "            else:\n",
    "                self._insert_node(new_node, curr_node.right)\n",
    "\n",
    "    def insert(self, data):\n",
    "        '''\n",
    "        Insert a node in the tree on the left if it's smaller, or right if it's larger.\n",
    "        This will start at the root, and call an internal recursive metod.\n",
    "        '''\n",
    "        # create a new tree node\n",
    "        new_node = TreeNode(data)\n",
    "\n",
    "        # if tree is empty, simply insert node as the root\n",
    "        if (self.root is None):\n",
    "            self.root = new_node\n",
    "        # else, starting at the root, call internal recursive function to to insert in the right place\n",
    "        else:\n",
    "            self._insert_node(new_node, self.root)\n",
    "\n",
    "    def _to_str(self, curr_node, level):\n",
    "        '''\n",
    "        Recursive function that will print elements of a tree, indenting to the right based on level\n",
    "        '''\n",
    "        # initialize return string\n",
    "        curr_str = \"\"\n",
    "        \n",
    "        # if the current node is not None ...\n",
    "        if curr_node:\n",
    "            # recusively add the right sub-tree, incresing the level (indentation)\n",
    "            curr_str += self._to_str(curr_node.right, level + 1) \n",
    "\n",
    "            # add the data in this node\n",
    "            curr_str += \"         \" * level + str(curr_node.data) + \"\\n\"\n",
    "\n",
    "            # recusively add the left sub-tree, incresing the level (indentation)\n",
    "            curr_str += self._to_str(curr_node.left, level + 1)\n",
    "\n",
    "        # return string for this node/sub-tree\n",
    "        return curr_str\n",
    "                \n",
    "\n",
    "    def __str__(self):\n",
    "        '''\n",
    "        Call internal method that will recursively print all nodes, starting with the root\n",
    "        '''\n",
    "        # starting add the root, generate string recursively\n",
    "        return self._to_str(self.root, 0)"
   ]
  },
  {
   "cell_type": "markdown",
   "id": "744c352b-a0cd-4bfd-829e-1b327d696ad8",
   "metadata": {},
   "source": [
    "#### Creating my Binary Tree"
   ]
  },
  {
   "cell_type": "code",
   "execution_count": null,
   "id": "b7f651cb-93dc-467f-98e2-c8cb2b30d599",
   "metadata": {},
   "outputs": [],
   "source": [
    "# create a new binary tree\n",
    "my_btree = BasicTree()"
   ]
  },
  {
   "cell_type": "markdown",
   "id": "6965749c-a91e-4026-a154-34135aba03ff",
   "metadata": {},
   "source": [
    "#### Adding elements to my tree"
   ]
  },
  {
   "cell_type": "code",
   "execution_count": null,
   "id": "c60b0d8c-8a91-4eee-bb08-2ef1e5df4222",
   "metadata": {},
   "outputs": [],
   "source": [
    "# add data to the tree\n",
    "my_btree.insert(\"Lexi\")\n",
    "my_btree.insert(\"Finn\")\n",
    "my_btree.insert(\"Sammy\")\n",
    "my_btree.insert(\"Tucker\")\n",
    "my_btree.insert(\"Rebecca\")\n",
    "my_btree.insert(\"Max\")"
   ]
  },
  {
   "cell_type": "markdown",
   "id": "8e2caa78-78f8-4f45-99a1-5d785f5458a4",
   "metadata": {},
   "source": [
    "#### Printing the current tree\n",
    "**At this point**, if we work it out **with pen and paper**, and look at the algorithm for inserting nodes, the **tree would look like this**. Note that this is **not a complete binary tree**, because all the **levels are not filled out uniformly**. "
   ]
  },
  {
   "attachments": {
    "48bbebfb-4903-4b20-89c1-f5c946529557.png": {
     "image/png": "[encoded data removed]"
    }
   },
   "cell_type": "markdown",
   "id": "5f514b97-ae83-406a-9fdb-22e24afb48fd",
   "metadata": {},
   "source": [
    "![Picture1.png](attachment:48bbebfb-4903-4b20-89c1-f5c946529557.png)"
   ]
  },
  {
   "cell_type": "markdown",
   "id": "8b682620-d37c-447d-b87c-c3efdd6d7e10",
   "metadata": {},
   "source": [
    "It's **possible to implement** a print **algorithm** that would **resemble that, but** it would take a **lot of work**. We have a **simple \\_\\_str\\_\\_ method** that tries to **approximate the structure** by **indenting** the **nodes** **according to their level**. You can try to visualize it as a tree layed on its side. Even that simplistic implementation **required** the use of **recursion**, which is a technique we have not discussed."
   ]
  },
  {
   "cell_type": "code",
   "execution_count": null,
   "id": "8f7b37e4-39d4-42b6-9163-73f950c03600",
   "metadata": {},
   "outputs": [],
   "source": [
    "# print current list\n",
    "print(my_btree)"
   ]
  },
  {
   "cell_type": "markdown",
   "id": "88387b16-04e7-4b0d-ac24-a477810f5a42",
   "metadata": {},
   "source": [
    "## Implementing a Min Heap using the heapq Module\n",
    "We just **saw** the **complexities** of **implementing** a **Binary Tree** from scratch, and implementing a **Heap** would be **even more work**. That's because the tree above didn't have to be readjusted. We just kept adding nodes, following the \"left smaller/right bigger\" rule. For a **min heap**, we would have to **keep readjusting** the tree, such that the **smallest element** was always the **root**, and reorganize all the nodes to **maintain** the **complete binary tree** format.\n",
    "\n",
    "Instead of trying all of that, we will have the **Python heapq module do** all **the hard work**."
   ]
  },
  {
   "attachments": {},
   "cell_type": "markdown",
   "id": "2170d67e-3ace-47fd-b03f-5d76be7f4d05",
   "metadata": {},
   "source": [
    "### Heap arrray representation\n",
    "Recall that a heap can be represented as an array, following these rules:\n",
    "- Root is at index 1\n",
    "- For a node at index i, the left child is at index 2 * i\n",
    "- For a node at index i, the right child is at index (2 * i) + 1\n"
   ]
  },
  {
   "attachments": {
    "1d446e8d-1022-463b-8dab-9f536e8caf39.png": {
     "image/png": "[encoded data removed]"
    }
   },
   "cell_type": "markdown",
   "id": "272b7148-3f9c-4c43-a337-48729debc01c",
   "metadata": {},
   "source": [
    "![Picture1.png](attachment:1d446e8d-1022-463b-8dab-9f536e8caf39.png)"
   ]
  },
  {
   "cell_type": "markdown",
   "id": "ae26612a-922a-410a-96d0-e02e179c9c0b",
   "metadata": {
    "editable": true,
    "slideshow": {
     "slide_type": ""
    },
    "tags": []
   },
   "source": [
    "### Python heapq Module\n",
    "The **[Python heapq module](https://docs.python.org/3/library/heapq.html)** provides an **implementation of** the **heap queue algorithm**. **heapq implements** a **min heap**. We will discuss later an approach to use it for a max heap.\n",
    "\n",
    "When we say it's \"implementing the algorithm\", is because **heapq** is **not** a **self-contained heap data structure**. It **operates on** a regular **Python list**, such that the **list** will **behave as** a **heap**. The **Python list** will **represent** a **heap** using the **standard array representation** seen above."
   ]
  },
  {
   "cell_type": "code",
   "execution_count": null,
   "id": "6f960b20-a32e-4322-b0d2-d511faa94c86",
   "metadata": {},
   "outputs": [],
   "source": [
    "import heapq as heap"
   ]
  },
  {
   "cell_type": "markdown",
   "id": "152422f0-963c-4547-99c5-8e292e83c91a",
   "metadata": {},
   "source": [
    "### Creating a min heap with heapq"
   ]
  },
  {
   "cell_type": "markdown",
   "id": "a19bd4b3-0c88-4856-981b-8e2f0aa14ae0",
   "metadata": {},
   "source": [
    "#### Create an random list of numbers, and make a copy so we can modify it"
   ]
  },
  {
   "cell_type": "code",
   "execution_count": null,
   "id": "abda4220-f6ce-4162-bb39-17a2bec8eb43",
   "metadata": {},
   "outputs": [],
   "source": [
    "# original list with random numbers\n",
    "original_list = [34, 72, -12, 13, 45, -6, 28]\n",
    "\n",
    "# make a copy of the original list, which will eventually become our min heap\n",
    "min_heap = original_list.copy()\n",
    "\n",
    "# print original list\n",
    "print(f\"Original list: {original_list}\")"
   ]
  },
  {
   "cell_type": "markdown",
   "id": "5abb53fd-c2fd-4da9-848b-ff9ec3ff6a5a",
   "metadata": {},
   "source": [
    "#### Use heapq to *heapify* the list"
   ]
  },
  {
   "cell_type": "code",
   "execution_count": null,
   "id": "5d7c0298-3dee-481e-89c8-25a037a200d1",
   "metadata": {},
   "outputs": [],
   "source": [
    "heap.heapify(min_heap)"
   ]
  },
  {
   "cell_type": "markdown",
   "id": "1b8f147d-9b1b-4e88-be7a-682badf6d4f0",
   "metadata": {},
   "source": [
    "##### Compare original list with heapified min_heap"
   ]
  },
  {
   "cell_type": "code",
   "execution_count": null,
   "id": "6234d707-d1f4-48a1-88e3-b27e77f65d60",
   "metadata": {},
   "outputs": [],
   "source": [
    "# print original list\n",
    "print(f\"Original list: {original_list}\")\n",
    "\n",
    "# print heapified min heap (add some extra space in case we want to draw)\n",
    "print(f\"\\n\\nMin heap: {min_heap}\\n\\n\")"
   ]
  },
  {
   "cell_type": "markdown",
   "id": "b7ad069e-ce4b-4cbe-9356-8ab03ebc51a4",
   "metadata": {},
   "source": [
    "We may need pen and paper to **visually** if the new **list** was correctly **made into a heap**, **remembering** the **rule** for **how heaps** are **represented as arrays**."
   ]
  },
  {
   "cell_type": "markdown",
   "id": "d204ea61-81bf-480c-8ed7-cd321c78eb5b",
   "metadata": {},
   "source": [
    "### Operating a min heap with heapq\n",
    "Remember, building the heap is only half the battle. **Readjusting** the **list** to **maintain** the **heap structure** when we add or remove items, is where a **lot of** the extra **work** is. The **heapq** module will also handle that."
   ]
  },
  {
   "cell_type": "markdown",
   "id": "33cb372d-8021-4592-9315-8d8c9964a478",
   "metadata": {},
   "source": [
    "#### Popping the smallest item"
   ]
  },
  {
   "cell_type": "code",
   "execution_count": null,
   "id": "3f2faa46-fbd1-471d-ae6c-3068a836aa33",
   "metadata": {},
   "outputs": [],
   "source": [
    "smallest_item = heap.heappop(min_heap)\n",
    "print(f\"Popped smallest element from heap: {smallest_item}\")\n",
    "print(f\"\\nUpdated min heap: {min_heap}\\n\")"
   ]
  },
  {
   "cell_type": "markdown",
   "id": "14dc0492-3c66-4236-8e45-bd4746dde5a8",
   "metadata": {},
   "source": [
    "#### Pushing some new items"
   ]
  },
  {
   "cell_type": "code",
   "execution_count": null,
   "id": "ab732aa9-0414-4028-8161-883e52467e37",
   "metadata": {},
   "outputs": [],
   "source": [
    "# push some new items to the heap\n",
    "heap.heappush(min_heap, 21)\n",
    "heap.heappush(min_heap, -14)\n",
    "heap.heappush(min_heap, 53)\n",
    "\n",
    "print(f\"\\nUpdated min heap: {min_heap}\\n\")"
   ]
  },
  {
   "cell_type": "markdown",
   "id": "9ba3b3e8-fd3a-4274-ab11-3ad3ce1b22ac",
   "metadata": {},
   "source": [
    "It's getting harder to quickly visualize, but next couple of functions might help confirm everything is working"
   ]
  },
  {
   "cell_type": "markdown",
   "id": "b2422fb2-6aa8-424b-a1e2-7dddaa9f8561",
   "metadata": {},
   "source": [
    "#### Retrieving smallest and largest items\n",
    "**heapq** has **methods** that will allow you to **retrieve** (without removing) the **largest** and the **smallest** items."
   ]
  },
  {
   "cell_type": "code",
   "execution_count": null,
   "id": "baa8ba42-93bc-483c-bcef-e6739beaadc1",
   "metadata": {},
   "outputs": [],
   "source": [
    "# retrieve and print the top 3 smallest items\n",
    "smallest_items = heap.nsmallest(3, min_heap)\n",
    "print(f\"Smallest 3 items: {smallest_items}\")\n",
    "\n",
    "# retrieve and print the top 5 largest items\n",
    "largest_items = heap.nlargest(5, min_heap)\n",
    "print(f\"Largest 5 items: {largest_items}\")"
   ]
  },
  {
   "cell_type": "markdown",
   "id": "1f0c0ca6-654b-4921-8924-7c5f5a4ce1b3",
   "metadata": {},
   "source": [
    "### Using heapq for a Max Heap\n",
    "Although **heapq implements** a **min heap**, we **can use** a little **\"trick\"** to use it **for** a **max heap**. All we need to do is **invert** the **values** of **every item** (from negative to positive, and positive to negative) when we **hepify or push**. Then we **revert back** when we **retrieve it**.\n",
    "\n",
    "Let's quickly look at the example below."
   ]
  },
  {
   "cell_type": "markdown",
   "id": "4e87d38f-4403-4497-a100-36f57f340a47",
   "metadata": {},
   "source": [
    "#### Creating a max heap from the same original list"
   ]
  },
  {
   "cell_type": "code",
   "execution_count": null,
   "id": "497a6434-adf7-461b-964a-5c444a985a3a",
   "metadata": {},
   "outputs": [],
   "source": [
    "# make another copy of the original list, which will eventually become our max heap\n",
    "max_heap = original_list.copy()\n",
    "\n",
    "# print original list\n",
    "print(f\"Original list: {original_list}\")"
   ]
  },
  {
   "cell_type": "markdown",
   "id": "05544794-8363-4f4b-b9a6-b951d6872d92",
   "metadata": {},
   "source": [
    "#### Negate every item in the list\n",
    "We use list comprehension to invert the sign of every number in the original list."
   ]
  },
  {
   "cell_type": "code",
   "execution_count": null,
   "id": "87a65edc-fac1-438e-a377-41eecf5ec3a1",
   "metadata": {},
   "outputs": [],
   "source": [
    "max_heap = [ -x for x in max_heap]\n",
    "print(f\"\\nUpdated nagated list: {max_heap}\\n\")"
   ]
  },
  {
   "cell_type": "markdown",
   "id": "415fec27-3c1e-4c5f-bb4e-670df1dc69c8",
   "metadata": {},
   "source": [
    "**As is**, **this new list** does **not** satisfy either the **min heap or max heap** property. **But** we have it r**eady for the next step ...**"
   ]
  },
  {
   "cell_type": "markdown",
   "id": "5662bde1-1e5a-427c-bebf-5a475ea0982e",
   "metadata": {},
   "source": [
    "#### Use heapq to *heapify* the list"
   ]
  },
  {
   "cell_type": "code",
   "execution_count": null,
   "id": "a3d86159-d4c6-4a29-8f05-32f499484f3d",
   "metadata": {},
   "outputs": [],
   "source": [
    "heap.heapify(max_heap)"
   ]
  },
  {
   "cell_type": "markdown",
   "id": "4028f0a6-f465-42aa-9b5c-3db92635a449",
   "metadata": {},
   "source": [
    "##### Compare original list with heapified min_heap"
   ]
  },
  {
   "cell_type": "code",
   "execution_count": null,
   "id": "c3380f88-e018-416e-aaa7-498ec81df016",
   "metadata": {},
   "outputs": [],
   "source": [
    "# print original list\n",
    "print(f\"Original list: {original_list}\")\n",
    "\n",
    "# print heapified min heap\n",
    "print(f\"Max heap: {max_heap}\")"
   ]
  },
  {
   "cell_type": "markdown",
   "id": "13a1e3c0-04c7-4c2f-8ffb-ee919377b378",
   "metadata": {},
   "source": [
    "The **looks right. Sort of**. We can see the **first element** (-72 in my original example), which **is the largest** number in original list, **but** it **shows with the sign reversed**. So we'll have to **handle** that **when we retrieve** it."
   ]
  },
  {
   "cell_type": "markdown",
   "id": "c6560820-57ad-4ad1-a9fe-adcabf40fc1f",
   "metadata": {},
   "source": [
    "### Operating on the improvised max heap\n",
    "We'll **use the same operations** on our \"max heap\", since it's actually a min heap. But we'll **need to reverse the signs when** we want to **show results**. "
   ]
  },
  {
   "cell_type": "markdown",
   "id": "31249c4a-407d-4688-925b-4d654bf4d5fa",
   "metadata": {},
   "source": [
    "#### Popping the \"largest\" item\n",
    "We put largest in quotes, because it's really the smallest after we inverted, but we can just **invert it** back **in the way out**."
   ]
  },
  {
   "cell_type": "code",
   "execution_count": null,
   "id": "72ab5b4e-1a5d-47cc-9a61-2c2f06b49ff5",
   "metadata": {},
   "outputs": [],
   "source": [
    "# pop the largest item from the heap, reversing the sign\n",
    "largest_item = -(heap.heappop(max_heap))\n",
    "print(f\"Popped largest element from heap: {largest_item}\")"
   ]
  },
  {
   "cell_type": "markdown",
   "id": "38cb248f-77d9-4b63-8bb3-141a2b0cfecb",
   "metadata": {},
   "source": [
    "#### Pushing some new items\n",
    "We push new items with the same *heappush* operation, but we'll have to **invert it in the way in, to maintain our \"trick\"**"
   ]
  },
  {
   "cell_type": "code",
   "execution_count": null,
   "id": "4a844210-5284-4817-ad7d-9dd5d3c1b7de",
   "metadata": {
    "editable": true,
    "slideshow": {
     "slide_type": ""
    },
    "tags": []
   },
   "outputs": [],
   "source": [
    "# define new items for my heap (the first one is a new max)\n",
    "new_item1 = 101\n",
    "new_item2= -20\n",
    "\n",
    "# push items, but add a \"-\" before them to invert the sign\n",
    "heap.heappush(max_heap, -new_item1)\n",
    "heap.heappush(max_heap, -new_item2)\n",
    "print(f\"\\nUpdated max heap: {max_heap}\\n\")"
   ]
  },
  {
   "cell_type": "markdown",
   "id": "6f9a076c-6c38-4859-9b85-fa34fd77662a",
   "metadata": {},
   "source": [
    "**Inverting** the **values back and forth** may be a little **awkward**. **If** we **want to make it nicer**, we can **wrap** that **around our own class**. If you want to see that, we have an **exmaple implementation** of it in the **optional section** of this notebook."
   ]
  },
  {
   "attachments": {},
   "cell_type": "markdown",
   "id": "c4de525a-62f5-45f0-9bfd-59f5dddf500b",
   "metadata": {},
   "source": [
    "### Heaps with different data types\n",
    "We've been **using examples with integers**, because they are the **easiest to visualize**, and are commonly used with heaps. However you **can use heap** structures for **anything** where the concept of **smaller or larger applies**."
   ]
  },
  {
   "cell_type": "markdown",
   "id": "1c746338-815b-4d59-9219-6494c9abb49a",
   "metadata": {},
   "source": [
    "#### A heap for strings\n",
    "A heap with strings will simply put the lowest string in alphabetical order in front, and so on."
   ]
  },
  {
   "cell_type": "markdown",
   "id": "9ab8ba17-c5e3-4fb8-8766-4bdd839a965b",
   "metadata": {},
   "source": [
    "##### Create a string heap"
   ]
  },
  {
   "cell_type": "code",
   "execution_count": null,
   "id": "24800df4-3a95-4036-b8ef-286f926ba920",
   "metadata": {},
   "outputs": [],
   "source": [
    "# create a list with strings, which we will turn into a heap\n",
    "str_heap = [\"Richard\", \"Fernando\", \"Krishna\", \"Jason\", \"Dima\", \"Ava\"]\n",
    "print(f\"Original string list: {str_heap}\")\n",
    "\n",
    "# heapify the list and print\n",
    "heap.heapify(str_heap)\n",
    "print(f\"Heapified string list: {str_heap}\")"
   ]
  },
  {
   "cell_type": "markdown",
   "id": "360f1ee4-f59c-47a6-9254-12c6e0736e68",
   "metadata": {},
   "source": [
    "##### Perform push and pop operations"
   ]
  },
  {
   "cell_type": "code",
   "execution_count": null,
   "id": "999cb6c8-2a33-4c2a-8256-8f6ea4c88521",
   "metadata": {},
   "outputs": [],
   "source": [
    "# pop smallest name alphabetically\n",
    "smallest_name = heap.heappop(str_heap)\n",
    "print(f\"Popped smallest name: {smallest_name}\")\n",
    "print(f\"Updated string heap: {str_heap}\\n\")\n",
    "\n",
    "# insert a couple names\n",
    "heap.heappush(str_heap, \"Aniekan\")\n",
    "heap.heappush(str_heap, \"Nikki\")\n",
    "print(f\"Added two new names.\")\n",
    "print(f\"Updated string heap: {str_heap}\\n\")\n",
    "\n",
    "# pop next smallest name alphabetically\n",
    "smallest_name = heap.heappop(str_heap)\n",
    "print(f\"Popped smallest name: {smallest_name}\")\n",
    "print(f\"Updated string heap: {str_heap}\\n\")\n"
   ]
  },
  {
   "attachments": {},
   "cell_type": "markdown",
   "id": "bdd29078-d2a4-4f81-a070-250066f1d5c6",
   "metadata": {},
   "source": [
    "### Heaps with Custom Classes\n",
    "We mentioned **can use heap** structures for **anything** where the concept of **smaller or larger applies**. So if you have your **own class**, you can use a **heap to organize items** as long as the class **has** a formal **definition** of the **\"<\" operator**, so the heapq class can sort it.\n",
    "\n",
    "We have an **example** of that in the **optional section** of the Notebook."
   ]
  },
  {
   "cell_type": "markdown",
   "id": "a992d7f3-ab91-4462-9769-02247728d163",
   "metadata": {},
   "source": [
    "# <span style=\"color:blue\"> OPTIONAL"
   ]
  },
  {
   "attachments": {},
   "cell_type": "markdown",
   "id": "4c6daf71-01d2-4dbb-9319-66261294e856",
   "metadata": {},
   "source": [
    "## Example of Heaps with Custom Classes\n",
    "We mentioned earlier that we can use heaps for any class that has an operator < defined. Let's look at an example here."
   ]
  },
  {
   "cell_type": "markdown",
   "id": "e9a11ba7-5d6f-4e9a-aec5-f930aaa90ee1",
   "metadata": {},
   "source": [
    "### Fastest Laps in a Race\n",
    "In racing, drivers do several laps to decide on the starting line up for the race. In our example, we want to quickly **record timing for multiple laps for racers**, and **quickly get the top laps at any point**."
   ]
  },
  {
   "cell_type": "markdown",
   "id": "a570472a-d478-42de-a63b-a73fc2bcefd9",
   "metadata": {},
   "source": [
    "#### The LapTime Class\n",
    "This class will store the result of a Lap for a racer."
   ]
  },
  {
   "cell_type": "code",
   "execution_count": null,
   "id": "8d723547-7720-407c-a13f-1a6d5d9ebbd4",
   "metadata": {
    "editable": true,
    "slideshow": {
     "slide_type": ""
    },
    "tags": []
   },
   "outputs": [],
   "source": [
    "class LapTime:\n",
    "    '''\n",
    "    A class to store the result of a lap for a racer.\n",
    "    '''\n",
    "    def __init__(self, racer, time):\n",
    "        '''\n",
    "        Constructor to initialize a LapTime object.\n",
    "        '''\n",
    "        self.racer = racer\n",
    "        self.time = time\n",
    "\n",
    "    def __lt__(self, other):\n",
    "        '''\n",
    "        Define a lap is less than another based on the lap time\n",
    "        '''\n",
    "        return self.time < other.time\n",
    "\n",
    "    def __str__(self):\n",
    "        '''\n",
    "        String representation of the LapTime object.\n",
    "        '''\n",
    "        # return string, with name left justfied and padded to 16 characters\n",
    "        return f\"{self.racer: <16} - Lap time: {self.time} seconds\""
   ]
  },
  {
   "cell_type": "markdown",
   "id": "95177f13-4112-4e24-ba1d-1a61ca29573e",
   "metadata": {},
   "source": [
    "#### Create a list of racers\n",
    "We'll create a list of racers. In this case, we're using racers from the 2024 Formula 1 season."
   ]
  },
  {
   "cell_type": "code",
   "execution_count": null,
   "id": "c59196fd-d4a8-47c4-ad0a-3ce6de146b60",
   "metadata": {},
   "outputs": [],
   "source": [
    "f1_racers = [\n",
    "\t\"Max Verstappen\",\n",
    "\t\"Lando Norris\",\n",
    "\t\"Charles Leclerc\",\n",
    "\t\"Carlos Sainz\",\n",
    "\t\"Oscar Piastri\",\n",
    "\t\"Sergio Perez\",\n",
    "\t\"George Russell\",\n",
    "\t\"Lewis Hamilton\",\n",
    "\t\"Fernando Alonso\",\n",
    "\t\"Lance Stroll\",\n",
    "\t\"Nico Hulkenberg\",\n",
    "\t\"Yuki Tsunoda\",\n",
    "\t\"Daniel Ricciardo\",\n",
    "\t\"Oliver Bearman\",\n",
    "\t\"Pierre Gasly\",\n",
    "\t\"Kevin Magnussen\",\n",
    "\t\"Alexander Albon\",\n",
    "\t\"Esteban Ocon\",\n",
    "\t\"Zhou Guanyu\",\n",
    "\t\"Logan Sargeant\",\n",
    "\t\"Valtteri Bottas\"\n",
    "]"
   ]
  },
  {
   "cell_type": "markdown",
   "id": "802d4ac8-6215-4c40-9305-525a3f14ea5f",
   "metadata": {},
   "source": [
    "#### Generate random lap times for all the racers, and collect them in a list\n",
    "**Assume** the viable range of a **lap** in this race is **between 120 and 130 seconds**. We will **generate random lap times** (up to millisecond in precision) in that range, using the Python *random* module, and **assign** them **to racers**."
   ]
  },
  {
   "cell_type": "code",
   "execution_count": null,
   "id": "f230e706-8f50-4a76-a1ca-b970bc7e660a",
   "metadata": {},
   "outputs": [],
   "source": [
    "import random\n",
    "racer_laps = []\n",
    "\n",
    "# iterate to list of racers\n",
    "for racer_name in f1_racers:\n",
    "    # generate a random lap times between 120.000 and 130.000 seconds\n",
    "    lap_time = round(random.uniform(120, 130), 3)\n",
    "\n",
    "    # create a lapTime object for this racer\n",
    "    racer_lap = LapTime(racer_name, lap_time)\n",
    "\n",
    "    # append the lap to the list\n",
    "    racer_laps.append(racer_lap)"
   ]
  },
  {
   "cell_type": "markdown",
   "id": "5110698d-9f0d-4f52-bf8f-65723cde362d",
   "metadata": {},
   "source": [
    "#### List all of the unsorted racer laps"
   ]
  },
  {
   "cell_type": "code",
   "execution_count": null,
   "id": "1a461723-f4d9-4f63-af67-863fabfd82b3",
   "metadata": {},
   "outputs": [],
   "source": [
    "for lap in racer_laps:\n",
    "    print(lap)"
   ]
  },
  {
   "cell_type": "markdown",
   "id": "c672426c-016f-4166-9f21-49c5b777b52d",
   "metadata": {},
   "source": [
    "#### Heapify the list of racer laps"
   ]
  },
  {
   "cell_type": "code",
   "execution_count": null,
   "id": "548d87cf-0716-4a38-a861-44dad4e996b8",
   "metadata": {},
   "outputs": [],
   "source": [
    "# Heapify the list of racer laps\n",
    "heap.heapify(racer_laps)\n",
    "\n",
    "# print updated list\n",
    "for lap in racer_laps:\n",
    "    print(lap)"
   ]
  },
  {
   "cell_type": "markdown",
   "id": "fde968a0-5e1f-4763-b625-cbea88c0813f",
   "metadata": {},
   "source": [
    "That **seems to work**. Remember, this is **not** a **sorted order**, but a tree structure. However we can see the **first element**, which is the **root of the heap**, is the **smallest (fastest) lap**."
   ]
  },
  {
   "cell_type": "markdown",
   "id": "e038b1b2-fa45-47f3-8998-d89bfc2234b4",
   "metadata": {},
   "source": [
    "#### Print the Top 10 Fastest Laps"
   ]
  },
  {
   "cell_type": "code",
   "execution_count": null,
   "id": "44c82d4f-a944-4712-bfb1-824de18ade46",
   "metadata": {},
   "outputs": [],
   "source": [
    "# retrieve the top 10 smallest element from our heap\n",
    "top_10_fastest_laps = heap.nsmallest(10, racer_laps)\n",
    "\n",
    "# print the top 10 fastest laps\n",
    "print(\"Top 10 Fastest Laps:\")\n",
    "for lap in top_10_fastest_laps:\n",
    "    print(lap)"
   ]
  },
  {
   "cell_type": "markdown",
   "id": "d6b933d5-7f97-4691-85ff-5a28e2f755ea",
   "metadata": {},
   "source": [
    "## Max Heap Class with heapq\n",
    "We discussed earlier that we **use** the **heapq** module to **implement** a **max heap**, by using a technique of **inverting values** in the way in, then reverting that in the way out. If we want to **hide that complexity** from the user, we can **create our own class** to do that. \n",
    "\n",
    "All of the **actual complexity of heapifying** the lists is **still done** my the **heapq module**. We're **just handling** the simple **sign conversions**, but that will make the usage a lot more intuitive."
   ]
  },
  {
   "cell_type": "markdown",
   "id": "2cce3323-f5d1-4101-ada5-5c2415d2808b",
   "metadata": {},
   "source": [
    "### The MaxHeap Class"
   ]
  },
  {
   "cell_type": "code",
   "execution_count": null,
   "id": "71369d6c-b9a0-45b6-8532-e08c0b96c177",
   "metadata": {},
   "outputs": [],
   "source": [
    "import heapq as heap\n",
    "\n",
    "class MaxHeap:\n",
    "    '''\n",
    "    Implements a max heap by using the heapq library, and inverting values when we perform operations.\n",
    "    '''\n",
    "\n",
    "    def __init__(self, list):\n",
    "        '''\n",
    "        Constructs the max heap by inverting the values in the list, and then heapifying the list.\n",
    "        '''\n",
    "        self.heap = [-x for x in list]\n",
    "        heap.heapify(self.heap)\n",
    "\n",
    "    def push(self, item):\n",
    "        '''\n",
    "        Pushes an item onto the heap, inverting the value in the way in\n",
    "        '''\n",
    "        heap.heappush(self.heap, -item)\n",
    "\n",
    "    def pop(self):\n",
    "        '''\n",
    "        Pops the largest item from the heap, by inverting in the way out\n",
    "        '''\n",
    "        return -heap.heappop(self.heap)\n",
    "\n",
    "    def nlargest(self, n):\n",
    "        '''\n",
    "        Returns the n largest items from the heap. Since the items have been reversed, this will\n",
    "        actually be the nsmallest, adn we'll reverse them in the way out\n",
    "        '''\n",
    "        return [-x for x in heap.nsmallest(n, self.heap)]\n",
    "\n",
    "    def nsmallest(self, n):\n",
    "        '''\n",
    "        Returns the n smallest items from the heap\n",
    "        '''\n",
    "        return [-x for x in heap.nlargest(n, self.heap)]\n",
    "\n",
    "    def __str__(self):\n",
    "        '''\n",
    "        Returns a string representation of the heap, inverting the values\n",
    "        '''\n",
    "        return str([-x for x in self.heap])"
   ]
  },
  {
   "cell_type": "markdown",
   "id": "f6b53af1-bd37-40c5-859a-54fdea59d145",
   "metadata": {},
   "source": [
    "#### Using the MaxHeap class\n",
    "We'll **repeat the same operations** we did earlier, but **without** the **need** of **inverting values**. All of that is hidden inside the MaxHeap class."
   ]
  },
  {
   "attachments": {},
   "cell_type": "markdown",
   "id": "f7cf927c-0cf1-4e18-a042-3cba273ae50f",
   "metadata": {},
   "source": [
    "##### Creating a MaxHeap from the same original list"
   ]
  },
  {
   "cell_type": "code",
   "execution_count": null,
   "id": "b10aeebb-f5d0-4243-abb7-cb5a4a016907",
   "metadata": {},
   "outputs": [],
   "source": [
    "max_heap = MaxHeap(original_list)"
   ]
  },
  {
   "cell_type": "markdown",
   "id": "36150458-b7e9-4583-b9ac-632137d1233d",
   "metadata": {},
   "source": [
    "##### Compare the original list with our new MaxHeap"
   ]
  },
  {
   "cell_type": "code",
   "execution_count": null,
   "id": "e7305402-9040-4500-be53-776763615200",
   "metadata": {},
   "outputs": [],
   "source": [
    "print(f\"Original list: {original_list}\")\n",
    "print(f\"MaxHeap: {max_heap}\")"
   ]
  },
  {
   "cell_type": "markdown",
   "id": "79ab3380-2b32-4402-a010-e912d18024e3",
   "metadata": {},
   "source": [
    "Looking good so far, and nothing shows up inverted"
   ]
  },
  {
   "cell_type": "markdown",
   "id": "19991b61-a03f-492a-85b3-f91043d4e573",
   "metadata": {},
   "source": [
    "##### Popping the largest item"
   ]
  },
  {
   "cell_type": "code",
   "execution_count": null,
   "id": "cefaa4e2-550c-4270-8c2c-1b0d7e16f935",
   "metadata": {},
   "outputs": [],
   "source": [
    "largest_item = max_heap.pop()\n",
    "print(f\"Popped largest element from heap: {largest_item}\")\n",
    "print(f\"Updated MaxHeap: {max_heap}\")"
   ]
  },
  {
   "cell_type": "markdown",
   "id": "dfe270e8-ad39-4424-b993-a9b51c2370a8",
   "metadata": {},
   "source": [
    "##### Pushing some new items"
   ]
  },
  {
   "cell_type": "code",
   "execution_count": null,
   "id": "faab03ff-0565-4bbd-8dca-9ec61bc0bfc7",
   "metadata": {},
   "outputs": [],
   "source": [
    "# push some new items to the heap\n",
    "max_heap.push(101)\n",
    "max_heap.push(-20)\n",
    "max_heap.push(52)\n",
    "max_heap.push(19)\n",
    "print(f\"Updated max heap: {max_heap}\")"
   ]
  },
  {
   "cell_type": "markdown",
   "id": "2d8663f0-5692-44b3-ab8e-8aaf2792f9f8",
   "metadata": {},
   "source": [
    "##### Retrieving smallest and largest items"
   ]
  },
  {
   "cell_type": "code",
   "execution_count": null,
   "id": "13c714ab-c314-4e1a-b7bd-41f31b93ad18",
   "metadata": {
    "editable": true,
    "slideshow": {
     "slide_type": ""
    },
    "tags": []
   },
   "outputs": [],
   "source": [
    "# retrieve and print the top 3 smallest items\n",
    "smallest_items = max_heap.nsmallest(3)\n",
    "print(f\"Smallest 3 items: {smallest_items}\")\n",
    "\n",
    "# retrieve and print the top 5 largest items\n",
    "largest_items = max_heap.nlargest(5)\n",
    "print(f\"Largest 5 items: {largest_items}\")"
   ]
  },
  {
   "cell_type": "code",
   "execution_count": null,
   "id": "8bb41579-b44d-4c79-b888-7c2fe7785dff",
   "metadata": {
    "editable": true,
    "slideshow": {
     "slide_type": ""
    },
    "tags": []
   },
   "outputs": [],
   "source": []
  }
 ],
 "metadata": {
  "kernelspec": {
   "display_name": "Python 3 (ipykernel)",
   "language": "python",
   "name": "python3"
  },
  "language_info": {
   "codemirror_mode": {
    "name": "ipython",
    "version": 3
   },
   "file_extension": ".py",
   "mimetype": "text/x-python",
   "name": "python",
   "nbconvert_exporter": "python",
   "pygments_lexer": "ipython3",
   "version": "3.9.2"
  }
 },
 "nbformat": 4,
 "nbformat_minor": 5
}
