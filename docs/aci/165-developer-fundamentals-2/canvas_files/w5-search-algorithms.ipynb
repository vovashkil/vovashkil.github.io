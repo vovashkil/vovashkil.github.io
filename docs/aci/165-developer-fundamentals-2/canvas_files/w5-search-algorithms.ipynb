{
 "cells": [
  {
   "cell_type": "markdown",
   "id": "318b7d83-d49d-42f7-877a-4b225bf074a0",
   "metadata": {},
   "source": [
    "# <span style=\"color:blue\"> Search Algorithms\n",
    "AWS CLOUD INSTITUTE: PROVIDED FOR EDUCATIONAL INSTRUCTIONAL PURPOSES ONLY."
   ]
  },
  {
   "cell_type": "markdown",
   "id": "16ee0755-a25f-4e9e-9f9e-c7c1e3a78b5f",
   "metadata": {},
   "source": [
    "# Linear Search"
   ]
  },
  {
   "attachments": {},
   "cell_type": "markdown",
   "id": "f4045fe0-6d88-416c-88c4-3630f73c1a5a",
   "metadata": {},
   "source": [
    "The **linear search algorithm** tries to **search** for the desired element by **going over** the **list sequentially**. It **compares every element** in the list **to** the **one** you are **looking for**."
   ]
  },
  {
   "cell_type": "markdown",
   "id": "f9dbe997-5a36-4db0-9e4e-3d18221f58e1",
   "metadata": {},
   "source": [
    "## Search for location of an item in a list or array\n",
    "This method will do the common operation of **searching for** an **item in a list** or array. It will **return** the **index of the item** if found, or **-1 if not found**."
   ]
  },
  {
   "cell_type": "code",
   "execution_count": null,
   "id": "926ef493-a61a-433b-a34d-072334b24fe8",
   "metadata": {},
   "outputs": [],
   "source": [
    "def linear_search(items, search_value):\n",
    "    for i in range(len(items)):\n",
    "        if items[i] == search_value:\n",
    "            return i\n",
    "    return -1"
   ]
  },
  {
   "cell_type": "markdown",
   "id": "db7de00e-c85f-4acc-8f1b-a2505a9eae48",
   "metadata": {},
   "source": [
    "This function **can be used** for **any data type** that **supports** an **equality operator**."
   ]
  },
  {
   "cell_type": "markdown",
   "id": "8be3690b-7d07-4f29-9436-1d4612b0352a",
   "metadata": {},
   "source": [
    "### Time and space complexity\n",
    "- **Time complexity: <span style=\"color:blue\">O(n)**</span>\n",
    "- **Space complexity: <span style=\"color:blue\">O(1)**</span>"
   ]
  },
  {
   "cell_type": "markdown",
   "id": "1fd1cbbf-ca2d-4f67-8e65-a49ab0c94de7",
   "metadata": {},
   "source": [
    "### Test with builtin Python data types"
   ]
  },
  {
   "cell_type": "markdown",
   "id": "6a1f062b-c116-4fef-a34e-67bc0425be04",
   "metadata": {},
   "source": [
    "#### Test with integers"
   ]
  },
  {
   "cell_type": "code",
   "execution_count": null,
   "id": "55bcd4ae-d585-4ea9-b7e7-3b5b776314ad",
   "metadata": {},
   "outputs": [],
   "source": [
    "# Define a simple list of 10 numbers\n",
    "int_list = [8, 2, 9, 7, 10, 6, 3, 1, 4, 5]"
   ]
  },
  {
   "cell_type": "code",
   "execution_count": null,
   "id": "3931dc7e-464e-4ffb-b0b7-2346afa107ff",
   "metadata": {},
   "outputs": [],
   "source": [
    "# Test with item present in the list\n",
    "val = 4\n",
    "idx = linear_search(int_list, val)\n",
    "if (idx != -1):\n",
    "    print(f\"Index of {val} is {idx}\")\n",
    "else:\n",
    "    print(f\"{val} was not found\")\n",
    "\n",
    "# Test with item NOT present in the list\n",
    "val = 20\n",
    "idx = linear_search(int_list, val)\n",
    "if (idx != -1):\n",
    "    print(f\"Index of {val} is {idx}\")\n",
    "else:\n",
    "    print(f\"{val} was not found\")"
   ]
  },
  {
   "cell_type": "markdown",
   "id": "7c0a1f13-35c3-4da2-9ada-7be84a43c6f8",
   "metadata": {},
   "source": [
    "Note that this is **exactly** the **same result** we would get **if** we **used** the **standard Python list** *index()* method. Let's **copy/paste almost the same test**, but **use** the *index()* **operation** instead. The **only difference** is that instead of returning a \"-1\" when an item is not found, the **Python list** method **raises** an **exception** we need to catch."
   ]
  },
  {
   "cell_type": "code",
   "execution_count": null,
   "id": "e350aae6-694a-49d3-9840-3d86795f17e8",
   "metadata": {},
   "outputs": [],
   "source": [
    "# Test with item present in the list\n",
    "val = 4\n",
    "try:\n",
    "    idx = int_list.index(val)\n",
    "    print(f\"Index of {val} is {idx}\")\n",
    "except ValueError:\n",
    "    print(f\"{val} was not found\")\n",
    "\n",
    "\n",
    "# Test with item NOT present in the list\n",
    "val = 20\n",
    "try:\n",
    "    idx = int_list.index(val)\n",
    "    print(f\"Index of {val} is {idx}\")\n",
    "except ValueError:\n",
    "    print(f\"{val} was not found\")"
   ]
  },
  {
   "cell_type": "markdown",
   "id": "c1ff935f-3f0a-4e7d-aa5a-4047b0ebbf82",
   "metadata": {},
   "source": [
    "As expected, the **result** is **precisely the same**. But **now** when we use the Python list *index()* method, **we know what's happening underneath**."
   ]
  },
  {
   "cell_type": "markdown",
   "id": "4841f0ba-9d1b-493f-b7e0-06ea68fa228f",
   "metadata": {},
   "source": [
    "#### Test with string"
   ]
  },
  {
   "cell_type": "code",
   "execution_count": null,
   "id": "810feed0-ad53-439d-95e0-fab3aa3cd917",
   "metadata": {},
   "outputs": [],
   "source": [
    "# create a list of strings with some of my dogs and cats\n",
    "str_list = [\"Rebecca\", \"Tracy\", \"Sammy\", \"Luke\", \"Max\", \"Tucker\", \"Moose\", \n",
    "            \"Miley\", \"Mittenz\",  \"Lexi\", \"Finn\"]"
   ]
  },
  {
   "cell_type": "code",
   "execution_count": null,
   "id": "4941c586-d109-4860-a2a5-1c030156b8f4",
   "metadata": {},
   "outputs": [],
   "source": [
    "# Test with item present in the list\n",
    "val = \"Luke\"\n",
    "idx = linear_search(str_list, val)\n",
    "if (idx != -1):\n",
    "    print(f\"Index of {val} is {idx}\")\n",
    "else:\n",
    "    print(f\"{val} was not found\")\n",
    "    \n",
    "# Test with item NOT present in the list\n",
    "val = \"Scooby Doo\"\n",
    "idx = linear_search(str_list, val)\n",
    "if (idx != -1):\n",
    "    print(f\"Index of {val} is {idx}\")\n",
    "else:\n",
    "    print(f\"{val} was not found\")"
   ]
  },
  {
   "cell_type": "markdown",
   "id": "376318b9-f07e-4760-bbc2-b24ce0422ecf",
   "metadata": {
    "jp-MarkdownHeadingCollapsed": true
   },
   "source": [
    "### <span style=\"color:blue\">Optional:</span> Test with custom types\n",
    "**If** we **want** to **perform** a **linear search with** my **own class** objects, I just need to make sure items can be compared. For a custom class, that means the **class** needs to **implement** the ***\\_\\_eq\\_\\_*** operator.\n",
    "\n",
    "**Note** that I'm **not changing** my **linear search function**. It's the same one I used for ints and strings. "
   ]
  },
  {
   "cell_type": "markdown",
   "id": "34b39c71-25da-4df9-b688-ee2200b20fdd",
   "metadata": {},
   "source": [
    "#### Define my own class"
   ]
  },
  {
   "cell_type": "code",
   "execution_count": null,
   "id": "03d8dde3-7b78-4dec-9c14-b6750cffa65f",
   "metadata": {},
   "outputs": [],
   "source": [
    "class Pet:\n",
    "    '''\n",
    "    This class stores information about a house pet.\n",
    "    '''\n",
    "    def __init__(self, name, species, breed):\n",
    "        self.name = name\n",
    "        self.species = species\n",
    "        self.breed = breed\n",
    "\n",
    "    def __eq__(self, other):\n",
    "        '''\n",
    "        This method overrides the equality operator.\n",
    "        '''\n",
    "        return (self.name == other.name and \n",
    "                self.species == other.species and\n",
    "                self.breed == other.breed)\n",
    "\n",
    "    def __repr__(self):\n",
    "        return f\"({self.name},{self.species},{self.breed})\"\n",
    "        \n",
    "    def __str__(self):\n",
    "        return f\"{self.name} - {self.species} - {self.breed}\""
   ]
  },
  {
   "cell_type": "code",
   "execution_count": null,
   "id": "2af04b7b-995b-4087-ba2f-7cf8f160dae1",
   "metadata": {},
   "outputs": [],
   "source": [
    "# create a list of Pet objects with some of my dogs, cats, ferrets, guinea pigs, hamsters, and birds\n",
    "pet_list = [Pet(\"Rebecca\", \"Dog\", \"Golden Retriever\"),\n",
    "            Pet(\"Tracy\", \"Dog\", \"Golden Retriever\"),\n",
    "            Pet(\"Sammy\", \"Dog\", \"Labrador Retriever\"),\n",
    "            Pet(\"Luke\", \"Dog\", \"Labrador Retriever\"),\n",
    "            Pet(\"Max\", \"Dog\", \"Cavalier King Charles Spaniel\"),\n",
    "            Pet(\"Tucker\", \"Dog\", \"Golden Retriever\"),\n",
    "            Pet(\"Moose\", \"Dog\", \"German Spitz\"),\n",
    "            Pet(\"Miley\", \"Cat\", \"American Shorthair\"),\n",
    "            Pet(\"Mittenz\", \"Cat\", \"Calico\"),\n",
    "            Pet(\"Lexi\", \"Cat\", \"Munchkin\"),\n",
    "            Pet(\"Finn\", \"Cat\", \"Munchkin\"),\n",
    "            Pet(\"Indy\", \"Ferret\", \"Sable\"),\n",
    "            Pet(\"Deedee\", \"Ferret\", \"Sable\"),\n",
    "            Pet(\"Ruby\", \"Ferret\", \"Sable\"),\n",
    "            Pet(\"Bullet\", \"Tortoise\", \"Greek\"),\n",
    "            Pet(\"Buttercup Baby\", \"Guinea Pig\", \"American\"),\n",
    "            Pet(\"Mickey\", \"Hamster\", \"Syrian\"),\n",
    "            Pet(\"Bluey\", \"Parakeet\", \"Budgerigar\"),\n",
    "            Pet(\"Greeney\", \"Parakeet\", \"Budgerigar\")\n",
    "           ]\n",
    "print(pet_list)"
   ]
  },
  {
   "cell_type": "code",
   "execution_count": null,
   "id": "a39438fa-3965-444f-8961-c90d5050313d",
   "metadata": {},
   "outputs": [],
   "source": [
    "# Test with item present in the list\n",
    "val = Pet(\"Tucker\", \"Dog\", \"Golden Retriever\")\n",
    "idx = linear_search(pet_list, val)\n",
    "if (idx != -1):\n",
    "    print(f\"Index of {val.name} is {idx}\")\n",
    "else:\n",
    "    print(f\"{val.name} was not found\")\n",
    "    \n",
    "# Test with item NOT present in the list\n",
    "val = Pet(\"Otto\", \"Dog\", \"Doberman\")\n",
    "idx = linear_search(pet_list, val)\n",
    "if (idx != -1):\n",
    "    print(f\"Index of {val.name} is {idx}\")\n",
    "else:\n",
    "    print(f\"{val.name} was not found\")"
   ]
  },
  {
   "cell_type": "markdown",
   "id": "0717f556-1080-4cc3-9d63-c82f42d5241b",
   "metadata": {},
   "source": [
    "# Binary Search"
   ]
  },
  {
   "attachments": {},
   "cell_type": "markdown",
   "id": "e277ed6b-e2ca-4042-88f5-38fce959531e",
   "metadata": {},
   "source": [
    "**Binary search searches for the desired element** by **repeatedly eliminating half** of the **search space** and searching in the other half. It divides the search space into two in every iteration, hence the name binary. Binary search **requires** that a **list is in order**, ascending or descending.\n",
    "\n",
    "You can **implement binary search using regular iteration, or recursion**. Let's examine both."
   ]
  },
  {
   "cell_type": "markdown",
   "id": "2ca063ba-f4f1-4044-9d66-993cc9bfd3ff",
   "metadata": {},
   "source": [
    "## Binary Search using iteration\n",
    "Let's implement the **same function** we **used in** the **linear search example, but** using a **binary search instead**. Remember that in this case, there is a **required assumption** that the **list** is **sorted**."
   ]
  },
  {
   "cell_type": "code",
   "execution_count": null,
   "id": "e78f668b-4fd7-4987-95db-01be4b30ce6e",
   "metadata": {},
   "outputs": [],
   "source": [
    "def binary_search_loop(items, search_value):\n",
    "    '''\n",
    "    This method will search for an item in a list of ascending order.\n",
    "    It will retur the index of the item if found, or -1 if not found.\n",
    "    '''\n",
    "\n",
    "    # initialize the start and end of our loop, which will be updated as the search progresses\n",
    "    start = 0\n",
    "    end = len(items) - 1\n",
    "\n",
    "    # continue the loop as long as start is <= to end. If we \"cross over\", and the end is smaller\n",
    "    # it will mean that we never found the item\n",
    "    while start <= end:\n",
    "        # split the search space in half, by getting the middle value between the current start and end\n",
    "        middle = (start + end) // 2\n",
    "\n",
    "        # if the search value is equal to the middle value, then we found it, so return the index\n",
    "        if items[middle] == search_value:\n",
    "            return middle\n",
    "        # else, if the search value is less than the middle value, update the end to look at the lower half\n",
    "        elif search_value < items[middle]:\n",
    "            end = middle - 1\n",
    "        # else, the search value is greater than the middle value, so update the start to look at the upper half\n",
    "        else:\n",
    "            start = middle + 1\n",
    "\n",
    "    # if we get here, we never found the item, so return -1\n",
    "    return -1"
   ]
  },
  {
   "cell_type": "markdown",
   "id": "1776ff7c-6bed-4a19-bca4-30c6065bf28c",
   "metadata": {},
   "source": [
    "#### Test for integers\n",
    "Let's try our **binary search for integers** with the **same *int_list*** we had **used for the linear search**. In fact we'll copy paste the same test code, anf just update the function call."
   ]
  },
  {
   "cell_type": "code",
   "execution_count": null,
   "id": "d32150b8-b77c-443d-ab08-63927a9d4595",
   "metadata": {},
   "outputs": [],
   "source": [
    "# Test with item present in the list\n",
    "val = 4\n",
    "idx = binary_search_loop(int_list, val)\n",
    "if (idx != -1):\n",
    "    print(f\"Index of {val} is {idx}\")\n",
    "else:\n",
    "    print(f\"{val} was not found\")\n",
    "\n",
    "# Test with item NOT present in the list\n",
    "val = 20\n",
    "idx = binary_search_loop(int_list, val)\n",
    "if (idx != -1):\n",
    "    print(f\"Index of {val} is {idx}\")\n",
    "else:\n",
    "    print(f\"{val} was not found\")"
   ]
  },
  {
   "cell_type": "markdown",
   "id": "fa9d0b3b-df47-48af-9fc9-6f8e5fe99a38",
   "metadata": {},
   "source": [
    "Hum ... that doesn't seem right. **4 is in my list! Why didn't my fancy binary search find it?!**"
   ]
  },
  {
   "cell_type": "code",
   "execution_count": null,
   "id": "131f40f4-169a-445b-88be-a75ab926b39c",
   "metadata": {},
   "outputs": [],
   "source": [
    "# print int_list\n",
    "print(int_list)"
   ]
  },
  {
   "cell_type": "markdown",
   "id": "d4cd6613-ad65-4c27-82ce-9a60c06ab354",
   "metadata": {},
   "source": [
    "Ahh ... I forgot! **Binary search requires** that the **list must be sorted**. Let's **try** that **again with** a **sorted list**."
   ]
  },
  {
   "cell_type": "code",
   "execution_count": null,
   "id": "5d9b38e5-8bf3-4ca5-ae2c-745f9eb28582",
   "metadata": {},
   "outputs": [],
   "source": [
    "sorted_int_list = sorted(int_list)\n",
    "print(sorted_int_list)"
   ]
  },
  {
   "cell_type": "code",
   "execution_count": null,
   "id": "75e84467-f799-4e2c-bcf8-c3b2b0c5138c",
   "metadata": {},
   "outputs": [],
   "source": [
    "# Test with item present in the list\n",
    "val = 4\n",
    "idx = binary_search_loop(sorted_int_list, val)\n",
    "if (idx != -1):\n",
    "    print(f\"Index of {val} is {idx}\")\n",
    "else:\n",
    "    print(f\"{val} was not found\")\n",
    "\n",
    "# Test with item NOT present in the list\n",
    "val = 20\n",
    "idx = binary_search_loop(sorted_int_list, val)\n",
    "if (idx != -1):\n",
    "    print(f\"Index of {val} is {idx}\")\n",
    "else:\n",
    "    print(f\"{val} was not found\")"
   ]
  },
  {
   "cell_type": "markdown",
   "id": "4e8d69de-04a8-40d9-a78a-618f6a85732e",
   "metadata": {},
   "source": [
    "Now **that's more likely!**"
   ]
  },
  {
   "cell_type": "markdown",
   "id": "79cd5464-2d12-4c55-8b29-3bf3241efcb4",
   "metadata": {},
   "source": [
    "### Time and space complexity\n",
    "- **Time complexity: <span style=\"color:blue\">O(log n)**</span>\n",
    "- **Space complexity: <span style=\"color:blue\">O(1)**</span>"
   ]
  },
  {
   "cell_type": "markdown",
   "id": "a9c4e052-bde0-4e37-b2ce-63a887a47b43",
   "metadata": {},
   "source": [
    "## Binary Search using recursion\n",
    "The **binary search algorithm with recursion** follows the **same principle as** the **one with the loop**. It's **just** a **different way to implement** the same thing.\n",
    "\n",
    "Once again, let's implement the **same search function** we **used in** the previous examples."
   ]
  },
  {
   "cell_type": "code",
   "execution_count": null,
   "id": "2dc9dffd-2a1d-4831-9968-47c1c54198e8",
   "metadata": {},
   "outputs": [],
   "source": [
    "def _binary_search_recursive(items, search_value, start, end):\n",
    "    '''\n",
    "    This method will search for an item in a list of ascending order.\n",
    "    It will retur the index of the item if found, or -1 if not found.\n",
    "    '''\n",
    "\n",
    "    # If we \"cross over\", and the end is smaller, it means we dind't find the item\n",
    "    if start > end:\n",
    "        return -1\n",
    "\n",
    "    # split the search space in the middle\n",
    "    middle = (start + end) // 2\n",
    "\n",
    "    # if the search value is equal to the middle value, then we found it, so return the index\n",
    "    if search_value == items[middle]:\n",
    "        return middle\n",
    "        \n",
    "    # else, if the search value is less than the middle value, recursively search the lower half\n",
    "    elif search_value < items[middle]:\n",
    "        return _binary_search_recursive(items, search_value, start, middle - 1)\n",
    "        \n",
    "    # else, the search value is greater than the middle value, recursively search the upper half\n",
    "    else:\n",
    "        return _binary_search_recursive(items, search_value, middle + 1, end)\n",
    "\n",
    "def binary_search_recursive(items, search_value):\n",
    "    '''\n",
    "    Invokes the recursive function implementing the binary search, passing the initial start end end values\n",
    "    '''\n",
    "    return _binary_search_recursive(items, search_value, 0, len(items) - 1)"
   ]
  },
  {
   "cell_type": "markdown",
   "id": "abd056b2-e75a-4786-ab58-58cf36d2ac4c",
   "metadata": {},
   "source": [
    "#### Test for strings\n",
    "Let's try our **binary search for strings** with the **same *str_list*** we had **used for the linear search**. But this time we'll **remember to sort the list.**"
   ]
  },
  {
   "cell_type": "code",
   "execution_count": null,
   "id": "b02a7711-6415-4886-ac4b-99ab5912d50c",
   "metadata": {},
   "outputs": [],
   "source": [
    "sorted_str_list = sorted(str_list)\n",
    "print(sorted_str_list)"
   ]
  },
  {
   "cell_type": "code",
   "execution_count": null,
   "id": "9e9134ba-6e9c-431a-bd62-22866320bb5a",
   "metadata": {},
   "outputs": [],
   "source": [
    "# Test with item present in the list\n",
    "val = \"Luke\"\n",
    "idx = binary_search_recursive(sorted_str_list, val)\n",
    "if (idx != -1):\n",
    "    print(f\"Index of {val} is {idx}\")\n",
    "else:\n",
    "    print(f\"{val} was not found\")\n",
    "    \n",
    "# Test with item NOT present in the list\n",
    "val = \"Scooby Doo\"\n",
    "idx = binary_search_recursive(sorted_str_list, val)\n",
    "if (idx != -1):\n",
    "    print(f\"Index of {val} is {idx}\")\n",
    "else:\n",
    "    print(f\"{val} was not found\")"
   ]
  },
  {
   "cell_type": "markdown",
   "id": "c0ce3ac3-6ce3-4186-b95d-c1f2366900f8",
   "metadata": {},
   "source": [
    "### Time and space complexity\n",
    "- **Time complexity: <span style=\"color:blue\">O(log n)**</span>\n",
    "- **Space complexity: <span style=\"color:blue\">O(log n)**</span>\n",
    "\n",
    "Do you **see a difference?** The **time complexity** is the **same**, **but** the **space complexity changed from O(1) to O(log n)**. That's because **recursion** will require **extra memory**."
   ]
  },
  {
   "cell_type": "markdown",
   "id": "c301a5cf-38df-4b8e-acba-a2ccfff9114a",
   "metadata": {},
   "source": [
    "### Simple example: number guessing game\n",
    "**Binary Search** is so effective, that the **log n performance** feels **practically like magic**. Many many ... many years ago, **when** I **first learned of \"binary search\"**, I **wrote** my first **\"computer game\"** to impress friends and relatives: **fguess** (clearly I wasn't a marketing genious at that young age)"
   ]
  },
  {
   "cell_type": "markdown",
   "id": "c483a559-35ce-4c4b-9333-0f84a9365388",
   "metadata": {},
   "source": [
    "#### Audience picks a number between 1 - 500, or I'll let the computer pick"
   ]
  },
  {
   "cell_type": "code",
   "execution_count": null,
   "id": "3ee8a8a6-2814-49bd-b09a-8a3ceca2a7b1",
   "metadata": {},
   "outputs": [],
   "source": [
    "# if nobody in the audience wants to pick, generate a random integer between 1 and 500\n",
    "import random\n",
    "secret_number = random.randint(1, 500)\n",
    "print(f\"Computer picked {secret_number}. Shhh .... don't tell anyone\")"
   ]
  },
  {
   "cell_type": "markdown",
   "id": "9bfac4f6-7db8-4cee-8881-a53141becc82",
   "metadata": {},
   "source": [
    "#### Define the amazing ***fguess*** game"
   ]
  },
  {
   "cell_type": "code",
   "execution_count": null,
   "id": "e61937ce-3cd2-4569-9ad3-985701eafb4b",
   "metadata": {},
   "outputs": [],
   "source": [
    "# define constant for maximum number\n",
    "MAX_NUMBER = 500\n",
    "\n",
    "def fguess():\n",
    "    '''\n",
    "    This function will ask the player to pick a number, and then it will use a binary search to \n",
    "    repeatedly narrow down the options, and eventually guess the number.\n",
    "    '''\n",
    "\n",
    "    # Explain the game, and wait for user to press enter to start\n",
    "    print(f\"Think of a number between 1 and {MAX_NUMBER}, and don't tell me. I'll guess it!\\n\")\n",
    "    input(\"Press Enter to start ... \")\n",
    "\n",
    "    # write some fun and exciting sentences\n",
    "    print(\"\\n\\nOk, let's go!\")\n",
    "    print(\"I'm looking inside your brain ... and reading your mind ... \\n\")\n",
    "\n",
    "    # initialize the start and end of our loop, which will be updated as the search progresses\n",
    "    start = 1\n",
    "    end = MAX_NUMBER\n",
    "\n",
    "    # count the number of tries\n",
    "    tries = 1\n",
    "    \n",
    "    # continue the loop as long as start is <= to end. If we \"cross over\", and the end is smaller\n",
    "    # it will mean that we never found the item\n",
    "    while start <= end:\n",
    "        # split the search space in the middle\n",
    "        middle = (start + end) // 2\n",
    "        \n",
    "        # ask the user if the number is equal, higher, or lower\n",
    "        answer = input(f\"\\nHow about ... {middle}?\\nAnswer Yes (y), Higher(h) or Lower(l)\").lower()\n",
    "\n",
    "        # if the answer is \"y\", we found the number, so return\n",
    "        if (answer == \"y\"):\n",
    "            print(f\"\\nAh ha! I thought so! I only needed {tries} tries to guess it!\\nThanks for playing.\\nGoodbye now.\")\n",
    "            return\n",
    "        # if the answer is \"l\", the number is lower\n",
    "        elif (answer == \"l\") : \n",
    "            # print fun message, then update the search space to the lower half\n",
    "            print(\"I had a feeling that was the case! I feel I'm getting closer\")\n",
    "            end = middle - 1\n",
    "        # else, the number must be higher\n",
    "        else:\n",
    "            # print fun message, then update the search space to the higher half\n",
    "            print(\"I know I'n getting hotter! You can run but you can't hide\")\n",
    "            start = middle + 1\n",
    "\n",
    "        # increment the number of tries\n",
    "        tries += 1\n",
    "        \n",
    "    # if we get here, and we never guessed it, something went wrong\n",
    "    print(\"\\nHum ... I smell a rat!\\nWere you paying attention?\")\n",
    "    print(\"I think you answered something wrong.\\nPlease try again.\")\n"
   ]
  },
  {
   "cell_type": "markdown",
   "id": "d0150844-f94d-40b4-981e-cef9c50d0441",
   "metadata": {},
   "source": [
    "#### Play the game!"
   ]
  },
  {
   "cell_type": "code",
   "execution_count": null,
   "id": "f0bbeadf-686f-4f61-a7e7-5ea26078c2fb",
   "metadata": {},
   "outputs": [],
   "source": [
    "# call fguess function to play the game\n",
    "fguess()"
   ]
  },
  {
   "cell_type": "markdown",
   "id": "ecba4e3b-9e20-411f-89fb-7fdf06c5699d",
   "metadata": {},
   "source": [
    "Obviously that are a lot more practical examples than a simple game. **Binary search** is **widely used** to **search** for **items in a collection**. The only thing to **remember**, is that the **list must be maintained in order**."
   ]
  },
  {
   "cell_type": "markdown",
   "id": "ca3d516d-f440-44c3-b331-32bbbec44773",
   "metadata": {},
   "source": [
    "### <span style=\"color:blue\">Optional:</span> Test with custom types\n",
    "Similar to what we did in the linear search, **if** we **want** to **perform** a **binary search with** my **own class** objects, I just need to make sure items can be compared for greater than and/or less than (depedning on which one I used in my function). For a custom class, that means the **class** needs to **overload the operators for <, <=, >, and >=**. So let's **update** the **previous Pet class** to **add these operators**. And let's not forget, my list will need to be sorted."
   ]
  },
  {
   "cell_type": "markdown",
   "id": "4e9758e4-1f25-412e-857f-295fb7998cec",
   "metadata": {},
   "source": [
    "#### Define my own class"
   ]
  },
  {
   "cell_type": "code",
   "execution_count": null,
   "id": "c0c8e386-96d1-4977-a7f1-03626eea1f0d",
   "metadata": {},
   "outputs": [],
   "source": [
    "class Pet:\n",
    "    '''\n",
    "    This class stores information about a house pet.\n",
    "    '''\n",
    "    def __init__(self, name, species, breed):\n",
    "        self.name = name\n",
    "        self.species = species\n",
    "        self.breed = breed\n",
    "\n",
    "    def __eq__(self, other):\n",
    "        '''\n",
    "        This method overrides the equality operator.\n",
    "        '''\n",
    "        return (self.name == other.name and \n",
    "                self.species == other.species and\n",
    "                self.breed == other.breed)\n",
    "\n",
    "    def __lt__(self, other):\n",
    "        '''\n",
    "        This method overrides the < operator. The method will compare by name, then breed, then species\n",
    "        '''\n",
    "\n",
    "        # compare by name first\n",
    "        if self.name < other.name:\n",
    "            return True\n",
    "        elif self.name > other.name:\n",
    "            return False\n",
    "        # name is equal, so compare by breed\n",
    "        else:\n",
    "            if self.breed < other.breed:\n",
    "                return True\n",
    "            elif self.breed > other.breed:\n",
    "                return False\n",
    "            # bread is equal, so compare by species\n",
    "            else:\n",
    "                if self.species < other.species:\n",
    "                    return True\n",
    "                else:\n",
    "                    return False\n",
    "\n",
    "    def __le__(self, other):\n",
    "        '''\n",
    "        This method overrides the <= operator. The method will compare by name, then breed, then species\n",
    "        '''\n",
    "\n",
    "        # compare by name first\n",
    "        if self.name < other.name:\n",
    "            return True\n",
    "        elif self.name > other.name:\n",
    "            return False\n",
    "        # name is equal, so compare by breed\n",
    "        else:\n",
    "            if self.breed < other.breed:\n",
    "                return True\n",
    "            elif self.breed > other.breed:\n",
    "                return False\n",
    "            # bread is equal, so compare by species\n",
    "            else:\n",
    "                if self.species > other.species:\n",
    "                    return False\n",
    "                else:\n",
    "                    return True\n",
    "\n",
    "    def __gt__(self, other):\n",
    "        '''\n",
    "        This method overrides the > operator. The method will compare by name, then breed, then species\n",
    "        '''\n",
    "\n",
    "        # compare by name first\n",
    "        if self.name > other.name:\n",
    "            return True\n",
    "        elif self.name < other.name:\n",
    "            return False\n",
    "        # name is equal, so compare by breed\n",
    "        else:\n",
    "            if self.breed > other.breed:\n",
    "                return True\n",
    "            elif self.breed < other.breed:\n",
    "                return False\n",
    "            # bread is equal, so compare by species\n",
    "            else:\n",
    "                if self.species > other.species:\n",
    "                    return True\n",
    "                else:\n",
    "                    return False\n",
    "\n",
    "    def __ge__(self, other):\n",
    "        '''\n",
    "        This method overrides the >= operator. The method will compare by name, then breed, then species\n",
    "        '''\n",
    "\n",
    "        # compare by name first\n",
    "        if self.name > other.name:\n",
    "            return True\n",
    "        elif self.name < other.name:\n",
    "            return False\n",
    "        # name is equal, so compare by breed\n",
    "        else:\n",
    "            if self.breed > other.breed:\n",
    "                return True\n",
    "            elif self.breed < other.breed:\n",
    "                return False\n",
    "            # bread is equal, so compare by species\n",
    "            else:\n",
    "                if self.species < other.species:\n",
    "                    return False\n",
    "                else:\n",
    "                    return True\n",
    "\n",
    "    def __repr__(self):\n",
    "        return f\"({self.name},{self.species},{self.breed})\"\n",
    "    \n",
    "    def __str__(self):\n",
    "        return f\"{self.name} - {self.species} - {self.breed}\""
   ]
  },
  {
   "cell_type": "markdown",
   "id": "d82b2fa2-f8ba-4f50-a520-a6407d54d15b",
   "metadata": {},
   "source": [
    "#### Bonus! I can now use the standarded Python sorted function with my custom class\n",
    "**Because** we have **defined** the **comparison operators**, I will be **able to use** the standard **Python *sorted* function**. I won't bother showing, but you can test that if you do not have those operators, *sorted* will return an error. \n",
    "\n",
    "I'll have the recreate my original list of Pets, because the previous one was created using the Pet class that didn't have these new operators defined yet."
   ]
  },
  {
   "cell_type": "code",
   "execution_count": null,
   "id": "896b199a-e45d-4211-ac80-7ee8fcc7191b",
   "metadata": {},
   "outputs": [],
   "source": [
    "# re-create my original list of Pet objects, using the updated Pet class\n",
    "pet_list = [Pet(\"Rebecca\", \"Dog\", \"Golden Retriever\"),\n",
    "            Pet(\"Tracy\", \"Dog\", \"Golden Retriever\"),\n",
    "            Pet(\"Sammy\", \"Dog\", \"Labrador Retriever\"),\n",
    "            Pet(\"Luke\", \"Dog\", \"Labrador Retriever\"),\n",
    "            Pet(\"Max\", \"Dog\", \"Cavalier King Charles Spaniel\"),\n",
    "            Pet(\"Tucker\", \"Dog\", \"Golden Retriever\"),\n",
    "            Pet(\"Moose\", \"Dog\", \"German Spitz\"),\n",
    "            Pet(\"Miley\", \"Cat\", \"American Shorthair\"),\n",
    "            Pet(\"Mittenz\", \"Cat\", \"Calico\"),\n",
    "            Pet(\"Lexi\", \"Cat\", \"Munchkin\"),\n",
    "            Pet(\"Finn\", \"Cat\", \"Munchkin\"),\n",
    "            Pet(\"Indy\", \"Ferret\", \"Sable\"),\n",
    "            Pet(\"Deedee\", \"Ferret\", \"Sable\"),\n",
    "            Pet(\"Ruby\", \"Ferret\", \"Sable\"),\n",
    "            Pet(\"Bullet\", \"Tortoise\", \"Greek\"),\n",
    "            Pet(\"Buttercup Baby\", \"Guinea Pig\", \"American\"),\n",
    "            Pet(\"Mickey\", \"Hamster\", \"Syrian\"),\n",
    "            Pet(\"Bluey\", \"Parakeet\", \"Budgerigar\"),\n",
    "            Pet(\"Greeney\", \"Parakeet\", \"Budgerigar\")\n",
    "           ]\n",
    "\n",
    "# sort the list of Pet objects\n",
    "sorted_pet_list = sorted(pet_list)\n",
    "print(sorted_pet_list)"
   ]
  },
  {
   "cell_type": "markdown",
   "id": "da3cf998-ba5f-48ee-8ba2-749cb8097446",
   "metadata": {},
   "source": [
    "#### Test with both the iterative and the recursive versions"
   ]
  },
  {
   "cell_type": "code",
   "execution_count": null,
   "id": "a56deb3e-9335-4900-92c5-21aae32cfa50",
   "metadata": {},
   "outputs": [],
   "source": [
    "# Test with item present in the list on iterative version\n",
    "print(\"Testing the iterative version ...\")\n",
    "val = Pet(\"Tucker\", \"Dog\", \"Golden Retriever\")\n",
    "idx = binary_search_loop(sorted_pet_list, val)\n",
    "if (idx != -1):\n",
    "    print(f\"Index of {val.name} is {idx}\")\n",
    "else:\n",
    "    print(f\"{val.name} was not found\")\n",
    "    \n",
    "# Test with item NOT present in the list on iterative version\n",
    "val = Pet(\"Otto\", \"Dog\", \"Doberman\")\n",
    "idx = binary_search_loop(sorted_pet_list, val)\n",
    "if (idx != -1):\n",
    "    print(f\"Index of {val.name} is {idx}\")\n",
    "else:\n",
    "    print(f\"{val.name} was not found\")\n",
    "\n",
    "# Test with item present in the list on recursive version\n",
    "print(\"\\nTesting the recursive version ...\")\n",
    "val = Pet(\"Indy\", \"Ferret\", \"Sable\")\n",
    "idx = binary_search_recursive(sorted_pet_list, val)\n",
    "if (idx != -1):\n",
    "    print(f\"Index of {val.name} is {idx}\")\n",
    "else:\n",
    "    print(f\"{val.name} was not found\")\n",
    "    \n",
    "# Test with item NOT present in the list on recursive version\n",
    "val = Pet(\"Giles Villeneuve\", \"Dog\", \"German Shephard\")\n",
    "idx = binary_search_recursive(sorted_pet_list, val)\n",
    "if (idx != -1):\n",
    "    print(f\"Index of {val.name} is {idx}\")\n",
    "else:\n",
    "    print(f\"{val.name} was not found\")"
   ]
  },
  {
   "cell_type": "markdown",
   "id": "0791ab0e-ca84-487a-a316-46b1c7c25e7d",
   "metadata": {},
   "source": [
    "# Comparing Linear Search and Binary Search Performance\n",
    "This is going to be very similar to what we did when we compared Binary Search Trees against a regular Python list. The **key point** here is to **highlight** the **difference between** an **O(n) search, vs and Order (log n) search**."
   ]
  },
  {
   "cell_type": "markdown",
   "id": "791daced-fb35-4e5f-95ea-a71536b1b330",
   "metadata": {},
   "source": [
    "##### Import modules\n",
    "We'll be using a couple of modules in the upcoming analysis, so we'll import them here"
   ]
  },
  {
   "cell_type": "code",
   "execution_count": null,
   "id": "c1f79665-983d-4a79-87e2-45b62ffd84ca",
   "metadata": {},
   "outputs": [],
   "source": [
    "import time\n",
    "import random"
   ]
  },
  {
   "cell_type": "markdown",
   "id": "be0048ab-5e84-4adc-9c1b-2fcbb249050d",
   "metadata": {},
   "source": [
    "#### Loading data for my search\n",
    "To **test** my **searches** I **need** to have a **lot of keys**. The binary search requires an orderdered list, so I'll use integers in order, but I'll covert them to strings, and left-pad with zeros (so they are sorted alphabetically properly)."
   ]
  },
  {
   "cell_type": "code",
   "execution_count": null,
   "id": "b6fbac58-719c-4afc-abe6-01f7d212676c",
   "metadata": {},
   "outputs": [],
   "source": [
    "# Use a variable to control the number of keys I generate, because we may want to change that to do different tests.\n",
    "NUMBER_OF_KEYS = 10000"
   ]
  },
  {
   "cell_type": "code",
   "execution_count": null,
   "id": "f577aed1-fa44-46fb-be8c-05bb0610ddfe",
   "metadata": {},
   "outputs": [],
   "source": [
    "# initialize and empty key list\n",
    "key_list = []\n",
    "\n",
    "# iterate through the required number of keys\n",
    "for num_key in range(NUMBER_OF_KEYS):\n",
    "    # I want my keys to have 10 characters, so I'll convert the number to a string, and left pad it with zero up to 10 characters\n",
    "    str_key = str(num_key).zfill(10)\n",
    "    # append the key to my list\n",
    "    key_list.append(str_key)\n",
    "\n",
    "# print the first 5 and last 5 items so we can confirm it looks right\n",
    "print(f\"Sample keys: {key_list[0:5]} ... {key_list[-5:]}\")"
   ]
  },
  {
   "cell_type": "markdown",
   "id": "bda94d15-81b2-43bb-9fa5-67d095ac8238",
   "metadata": {},
   "source": [
    "#### Testing the performance of linear and binary searches\n",
    "Let's **search** the **same elements** in the list **using both linear and binary search**, and **test the performance**. **We'll use** the **iterative version** of the binary search, which should be the **same as the recursive from a performance standpoint**. We'll use the same Python time module we have used in previous examples to measure the execution time."
   ]
  },
  {
   "cell_type": "code",
   "execution_count": null,
   "id": "bd7c84a2-d393-4f5f-80ad-e6882ce5ab18",
   "metadata": {},
   "outputs": [],
   "source": [
    "# generate some random keys from our list to searcho for\n",
    "random_keys = []\n",
    "for x in range(10):\n",
    "    random_keys.append(key_list[random.randint(0, len(key_list) - 1)])\n",
    "\n",
    "print(f\"------------------ Searching through {len(key_list):,d} elements ------------------\")\n",
    "\n",
    "print(\"\\nLinear Search:\\n--------------\")\n",
    "\n",
    "# initialize total linear search time\n",
    "total_linear_search_time = 0\n",
    "                     \n",
    "# iterate through search words\n",
    "for search_key in random_keys:  \n",
    "    # start timer\n",
    "    start_time = time.perf_counter()\n",
    "\n",
    "    # perform linear search\n",
    "    idx = linear_search(key_list, search_key)\n",
    "\n",
    "    # stop timer\n",
    "    end_time = time.perf_counter()\n",
    "    \n",
    "    # print result\n",
    "    print(f\"Search for {search_key} completed in {(end_time - start_time):.6f} seconds\")\n",
    "    \n",
    "    # accumulate the search times so we can average in the end\n",
    "    total_linear_search_time += (end_time - start_time)\n",
    "\n",
    "# calculate final average across all searches\n",
    "avg_linear_search_time = total_linear_search_time / len(random_keys)\n",
    "print(f\"\\nAverage linear search time: {avg_linear_search_time:.6f} seconds\")\n",
    "\n",
    "print(\"\\n\\nBinary Search:\\n--------------\")\n",
    "\n",
    "# initialize total linear search time\n",
    "total_binary_search_time = 0\n",
    "                     \n",
    "# iterate through search words\n",
    "for search_key in random_keys:  \n",
    "    # start timer\n",
    "    start_time = time.perf_counter()\n",
    "\n",
    "    # perform linear search\n",
    "    idx = binary_search_loop(key_list, search_key)\n",
    "\n",
    "    # stop timer\n",
    "    end_time = time.perf_counter()\n",
    "    \n",
    "    # print result\n",
    "    print(f\"Search for {search_key} completed in {(end_time - start_time):.6f} seconds\")\n",
    "    \n",
    "    # accumulate the search times so we can average in the end\n",
    "    total_binary_search_time += (end_time - start_time)\n",
    "\n",
    "# calculate final average across all searches\n",
    "avg_binary_search_time = total_binary_search_time / len(random_keys)\n",
    "print(f\"\\nAverage binary search time: {avg_binary_search_time:.6f} seconds\")\n",
    "\n",
    "# compare the two average values\n",
    "perf_factor = int(avg_linear_search_time / avg_binary_search_time)\n",
    "print(f\"\\nFor {len(key_list)} items, the binary search is about {perf_factor} times faster than the linear search\")\n"
   ]
  },
  {
   "cell_type": "markdown",
   "id": "08f6b5fb-97d7-444e-8006-6548d7eb14ce",
   "metadata": {},
   "source": [
    "#### Turbo charging that comparison ...\n",
    "Now that we get the idea of how I'm testinh this, let's **do it for many different list sizes**. **To simplify** the output, I'll **only print the average** (so no individual results), but you can varify I'll be doing the same calls.\n",
    "\n"
   ]
  },
  {
   "cell_type": "markdown",
   "id": "8c1dc106-bc60-4e0f-a74e-d7897b42140d",
   "metadata": {},
   "source": [
    "##### Define the list sizes I want to test"
   ]
  },
  {
   "cell_type": "code",
   "execution_count": null,
   "id": "5d094088-f2c3-4ad6-8b72-9fd186ae8f33",
   "metadata": {},
   "outputs": [],
   "source": [
    "list_sizes = [1000, 10000, 100000, 1000000, 10000000]"
   ]
  },
  {
   "cell_type": "markdown",
   "id": "480fa9a4-dc71-4494-8912-3313dc417378",
   "metadata": {},
   "source": [
    "##### Iterate to create lists for each test size, and compare average performance for them"
   ]
  },
  {
   "cell_type": "code",
   "execution_count": null,
   "id": "e9f589c0-d873-4717-94d5-b743506515cc",
   "metadata": {},
   "outputs": [],
   "source": [
    "# iterate through all requested list sizes\n",
    "for list_size in list_sizes:\n",
    "    \n",
    "    # create a key list of the requested size\n",
    "    key_list = []\n",
    "    for num_key in range(list_size):\n",
    "        str_key = str(num_key).zfill(10)\n",
    "        key_list.append(str_key)\n",
    "\n",
    "    # generate some random keys from our list to search for\n",
    "    random_keys = []\n",
    "    for x in range(10):\n",
    "        random_keys.append(key_list[random.randint(0, len(key_list) - 1)])\n",
    "\n",
    "    print(f\"\\n------------------ Searching through {len(key_list):,d} elements ------------------\")\n",
    "    \n",
    "    # perform the linear search and time it\n",
    "    total_linear_search_time = 0\n",
    "    for search_key in random_keys:\n",
    "        start_time = time.perf_counter()\n",
    "        idx = linear_search(key_list, search_key)\n",
    "        end_time = time.perf_counter()\n",
    "        total_linear_search_time += (end_time - start_time)\n",
    "        \n",
    "    # calculate the average linear search time\n",
    "    avg_linear_search_time = total_linear_search_time / len(random_keys)\n",
    "\n",
    "    \n",
    "    # perform the binary search and time it\n",
    "    total_binary_search_time = 0\n",
    "    for search_key in random_keys:\n",
    "        start_time = time.perf_counter()\n",
    "        idx = binary_search_loop(key_list, search_key)\n",
    "        end_time = time.perf_counter()\n",
    "        total_binary_search_time += (end_time - start_time)\n",
    "        \n",
    "    # calculate the average binary search time\n",
    "    avg_binary_search_time = total_binary_search_time / len(random_keys)\n",
    "\n",
    "    # calculate the performance improvement\n",
    "    perf_factor = int(avg_linear_search_time / avg_binary_search_time)\n",
    "\n",
    "    # print the results\n",
    "    print(f\"Average linear search time: {avg_linear_search_time:.6f} seconds\")\n",
    "    print(f\"Average binary search time: {avg_binary_search_time:.6f} seconds\")\n",
    "    print(f\"Binary search is about {perf_factor} times faster than the linear search\")\n"
   ]
  },
  {
   "cell_type": "markdown",
   "id": "71ac55dd-f890-4d15-8e51-053cf9dbdf3f",
   "metadata": {},
   "source": [
    "##### Why is it faster?\n",
    "\n",
    "At the risk of sounding like a broken record ...\n",
    "- The **regular list** has **O(n) time complexity**, because it will have through **walk through the whole list** to locate the one you want.\n",
    "- The **Binary Search** has **O(log n) time complexity**, because it **splits** the **search space in half each time** you progress down the tree."
   ]
  },
  {
   "attachments": {},
   "cell_type": "markdown",
   "id": "2300030b-f307-4bf3-86c6-b1cf12b1211e",
   "metadata": {},
   "source": [
    "# <span style=\"color:blue\">Optional:</span> Jump Search\n",
    "There are a **lot of other search algorithms out there**, with **various** different **time complexity values**. **Many** of them **follow** the similar **\"dive and conquer\" approach** of binary search, where the **search space** is **reduced each time**. Just to change things up, I figured I'd **cover one** that **uses** a **different approach: Jump Search.**\n",
    "\n"
   ]
  },
  {
   "cell_type": "markdown",
   "id": "b63567a1-97a5-4684-abe5-3b89488e3cfa",
   "metadata": {
    "jp-MarkdownHeadingCollapsed": true
   },
   "source": [
    "### Jump Search Algorithm\n",
    "The Jump Search Algorithm reduces the number of steps by \"jumping ahead\". It requires a sorted list, and follows these steps:\n",
    "- Select a jump step, or \"block size\". That's usually the square root of the list size. So for instance, for a list of 16 items, the block size would be 4.\n",
    "- Instead of searching each item, skip ahead each time by the block size\n",
    "- After each skip, compare again the current item\n",
    "    - If the current item is greater than the search value, then back track to the previous\n",
    "    - Otherwise jump forward again\n",
    "- After backtracking, perform a linear search forward until the search value is found"
   ]
  },
  {
   "cell_type": "markdown",
   "id": "154e1201-b60e-4c53-acc9-2e72e6194747",
   "metadata": {},
   "source": [
    "### Jump Search Implementation"
   ]
  },
  {
   "cell_type": "code",
   "execution_count": null,
   "id": "d1500e50-1264-4646-b598-d3c0a1bd3b6d",
   "metadata": {},
   "outputs": [],
   "source": [
    "import math\n",
    "\n",
    "def jump_search(list, search_value):\n",
    "    '''\n",
    "    Implements the jump search algorithm\n",
    "    '''\n",
    "\n",
    "    # define the block step as the square root of the list size, and initialize starting step and last step\n",
    "    block_size = int(math.sqrt(len(list)))\n",
    "    step = block_size\n",
    "    last_step = 0\n",
    "\n",
    "    # Loop skipping ahead by the block size, until we've gone past the search value or past the end of the list\n",
    "    while list[min(step, len(list) - 1)] < search_value:\n",
    "        # remember the previews step, then advance step by the block size\n",
    "        last_step = step\n",
    "        step += block_size\n",
    "\n",
    "        # if we when past the end of the list, the item is not found\n",
    "        if last_step > len(list):\n",
    "            return -1\n",
    "\n",
    "    # at this point, we should be at the beginning of the block that has the value (if the value is there)\n",
    "    # so perform linear search within the block.\n",
    "    end_block = min(step, len(list))\n",
    "    for i in range(last_step, end_block):\n",
    "        # check for the item\n",
    "        if list[i] == search_value:\n",
    "            return i\n",
    "    \n",
    "    # if we got to the end of the block and did not exit the loop, the item is not in the list\n",
    "    return -1"
   ]
  },
  {
   "cell_type": "markdown",
   "id": "286ca6ed-8727-40c2-9c4b-7c490c78a1ea",
   "metadata": {},
   "source": [
    "### Time and space complexity\n",
    "- **Time complexity: <span style=\"color:blue\">O(sqrt(n))**</span>\n",
    "- **Space complexity: <span style=\"color:blue\">O(1)**</span>"
   ]
  },
  {
   "cell_type": "markdown",
   "id": "7792e628-4401-4d1c-82a3-d35aef9e2bcd",
   "metadata": {},
   "source": [
    "### Quick test with integers\n",
    "We'll do the same test with did for the lenear and binary search"
   ]
  },
  {
   "cell_type": "code",
   "execution_count": null,
   "id": "578fcdbb-33a2-4d11-9a6f-83d5502b1862",
   "metadata": {},
   "outputs": [],
   "source": [
    "int_list = [ 0, 1, 2, 3, 5, 8, 13, 21, 34, 55, 89, 144, 233, 377, 610 ]"
   ]
  },
  {
   "cell_type": "code",
   "execution_count": null,
   "id": "8d70eb47-7f76-4a3c-b2fd-bfa340f8e80a",
   "metadata": {},
   "outputs": [],
   "source": [
    "# Test with item present in the list\n",
    "val = 34\n",
    "idx = jump_search(int_list, val)\n",
    "if (idx != -1):\n",
    "    print(f\"Index of {val} is {idx}\")\n",
    "else:\n",
    "    print(f\"{val} was not found\")\n",
    "\n",
    "# Test with item NOT present in the list\n",
    "val = 20\n",
    "idx = jump_search(int_list, val)\n",
    "if (idx != -1):\n",
    "    print(f\"Index of {val} is {idx}\")\n",
    "else:\n",
    "    print(f\"{val} was not found\")"
   ]
  },
  {
   "cell_type": "markdown",
   "id": "e47f3d94-6e6d-400c-9c92-1ab78c834d3b",
   "metadata": {},
   "source": [
    "## The final showdown ...\n",
    "**Let's compare all three searches now!**\n",
    "We'll use exactly the **same comparison code** we did before."
   ]
  },
  {
   "cell_type": "markdown",
   "id": "32847553-043b-49f6-8ed2-53f6fd62f72f",
   "metadata": {},
   "source": [
    "##### Define the list sizes I want to test"
   ]
  },
  {
   "cell_type": "code",
   "execution_count": null,
   "id": "1d97c09e-d777-4823-a500-bc4ac20e8119",
   "metadata": {},
   "outputs": [],
   "source": [
    "list_sizes = [1000, 10000, 100000, 1000000, 10000000]"
   ]
  },
  {
   "cell_type": "markdown",
   "id": "3d427757-17ad-4b6f-bcad-2fa75add6b27",
   "metadata": {},
   "source": [
    "##### Iterate to create lists for each test size, and compare average performance for them"
   ]
  },
  {
   "cell_type": "code",
   "execution_count": null,
   "id": "bcd4f36e-b4ab-41d9-9f3d-db03ece134b5",
   "metadata": {},
   "outputs": [],
   "source": [
    "# iterate through all requested list sizes\n",
    "for list_size in list_sizes:\n",
    "    \n",
    "    # create a key list of the requested size\n",
    "    key_list = []\n",
    "    for num_key in range(list_size):\n",
    "        str_key = str(num_key).zfill(10)\n",
    "        key_list.append(str_key)\n",
    "\n",
    "    # generate some random keys from our list to search for\n",
    "    random_keys = []\n",
    "    for x in range(10):\n",
    "        random_keys.append(key_list[random.randint(0, len(key_list) - 1)])\n",
    "\n",
    "    print(f\"\\n------------------ Searching through {len(key_list):,d} elements ------------------\")\n",
    "    \n",
    "    # perform the linear search and time it\n",
    "    total_linear_search_time = 0\n",
    "    for search_key in random_keys:\n",
    "        start_time = time.perf_counter()\n",
    "        idx = linear_search(key_list, search_key)\n",
    "        end_time = time.perf_counter()\n",
    "        total_linear_search_time += (end_time - start_time)\n",
    "        \n",
    "    # calculate the average linear search time\n",
    "    avg_linear_search_time = total_linear_search_time / len(random_keys)\n",
    "\n",
    "    \n",
    "    # perform the binary search and time it\n",
    "    total_binary_search_time = 0\n",
    "    for search_key in random_keys:\n",
    "        start_time = time.perf_counter()\n",
    "        idx = binary_search_loop(key_list, search_key)\n",
    "        end_time = time.perf_counter()\n",
    "        total_binary_search_time += (end_time - start_time)\n",
    "        \n",
    "    # calculate the average binary search time\n",
    "    avg_binary_search_time = total_binary_search_time / len(random_keys)\n",
    "\n",
    "    # perform the jump search and time it\n",
    "    total_jump_search_time = 0\n",
    "    for search_key in random_keys:\n",
    "        start_time = time.perf_counter()\n",
    "        idx = jump_search(key_list, search_key)\n",
    "        end_time = time.perf_counter()\n",
    "        total_jump_search_time += (end_time - start_time)\n",
    "        \n",
    "    # calculate the average binary search time\n",
    "    avg_jump_search_time = total_jump_search_time / len(random_keys)\n",
    "    \n",
    "    # calculate the performance improvement2\n",
    "    perf_factor1 = int(avg_linear_search_time / avg_jump_search_time)\n",
    "    perf_factor2 = int(avg_linear_search_time / avg_binary_search_time)\n",
    "\n",
    "    # print the results\n",
    "    print(f\"Average linear search time: {avg_linear_search_time:.6f} seconds\")\n",
    "    print(f\"Average jump search time: {avg_jump_search_time:.6f} seconds\")\n",
    "    print(f\"Average binary search time: {avg_binary_search_time:.6f} seconds\")\n",
    "    print(f\"Jump search is about {perf_factor1} times faster than the linear search\")\n",
    "    print(f\"Binary search is about {perf_factor2} times faster than the linear search\")"
   ]
  },
  {
   "cell_type": "code",
   "execution_count": null,
   "id": "d588cf75-315e-44db-b59c-c507e6b7bbbb",
   "metadata": {},
   "outputs": [],
   "source": []
  }
 ],
 "metadata": {
  "kernelspec": {
   "display_name": "Python 3 (ipykernel)",
   "language": "python",
   "name": "python3"
  },
  "language_info": {
   "codemirror_mode": {
    "name": "ipython",
    "version": 3
   },
   "file_extension": ".py",
   "mimetype": "text/x-python",
   "name": "python",
   "nbconvert_exporter": "python",
   "pygments_lexer": "ipython3",
   "version": "3.9.2"
  }
 },
 "nbformat": 4,
 "nbformat_minor": 5
}
