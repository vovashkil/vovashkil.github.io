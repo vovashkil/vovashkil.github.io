{
 "cells": [
  {
   "cell_type": "markdown",
   "id": "6487494f-9a69-4401-b282-c51b6aedb070",
   "metadata": {},
   "source": [
    "# <span style=\"color:blue\">Stacks and Queues\n",
    "AWS CLOUD INSTITUTE: PROVIDED FOR EDUCATIONAL INSTRUCTIONAL PURPOSES ONLY."
   ]
  },
  {
   "cell_type": "markdown",
   "id": "29755bb0-38da-4c55-82ea-2b5796b1f1dc",
   "metadata": {},
   "source": [
    "# Stacks in Python"
   ]
  },
  {
   "cell_type": "markdown",
   "id": "cd2b9b1a-f275-41dc-b0c0-4dd2496cfe09",
   "metadata": {},
   "source": [
    "There are **multiple ways** that you can **implement stacks in Python**. Some of them were already covered in the eLearning. We'll give some examples here (some are in the eLearning, and some are not)."
   ]
  },
  {
   "cell_type": "markdown",
   "id": "7e3a96e0-2bb4-40f6-bb7e-8c88bfc7a258",
   "metadata": {},
   "source": [
    "## Implementation #1: Using the built-in Python List as is\n",
    "The **standard Python List** class already has all the methods you need to implement a stack. It even **has a built-in** ***pop()*** method! As long as remember that the ***append()* method will be equivalent to a \"push\"**, because it adds an element at the end of the list, then you're done. When looking at the list, you need to **think of the end of the list as the top, and the first element as the bottom.**"
   ]
  },
  {
   "cell_type": "markdown",
   "id": "ad6a5cc7-f90f-4757-a2d6-793ccded1c92",
   "metadata": {},
   "source": [
    "#### Creating my stack list"
   ]
  },
  {
   "cell_type": "code",
   "execution_count": null,
   "id": "83090bb9-0f89-4023-abf9-2ea6992cd266",
   "metadata": {},
   "outputs": [],
   "source": [
    "# Create a list to implement a stack. Having \"stack\" somewhere in the variable will remind me I want to use it as a stack\n",
    "my_plain_stack = []"
   ]
  },
  {
   "cell_type": "markdown",
   "id": "05850ef0-cdf8-48fb-af2d-1bdadfa49a4f",
   "metadata": {},
   "source": [
    "#### Push elements to the stack using append()"
   ]
  },
  {
   "cell_type": "code",
   "execution_count": null,
   "id": "49a4b7d5-f7e9-46aa-96a8-2d2132e62001",
   "metadata": {},
   "outputs": [],
   "source": [
    "# push a few items with append\n",
    "my_plain_stack.append(\"First Item\")\n",
    "my_plain_stack.append(\"Second Item\")\n",
    "my_plain_stack.append(\"Third Item\")\n",
    "my_plain_stack.append(\"Fourth Item\")"
   ]
  },
  {
   "cell_type": "markdown",
   "id": "0f5a63c0-aae7-4d54-aa7d-d00f9dc27c43",
   "metadata": {},
   "source": [
    "#### Check my stack\n",
    "We can print the list to view the stack. Again, we have to **visualize** the **beginning as the bottom**, and the **end as the top**."
   ]
  },
  {
   "cell_type": "code",
   "execution_count": null,
   "id": "91cde5f9-a699-463a-9a1c-e580407f620b",
   "metadata": {},
   "outputs": [],
   "source": [
    "print(my_plain_stack)"
   ]
  },
  {
   "cell_type": "markdown",
   "id": "a77541de-6b1a-42cd-8032-b752d688ca1e",
   "metadata": {},
   "source": [
    "#### Pop top element from the stack\n",
    "We pop using the **standard *pop()* method** in List, which **also returns the element** that was popped."
   ]
  },
  {
   "cell_type": "code",
   "execution_count": null,
   "id": "563379c7-1711-4157-80aa-82dd5f407fee",
   "metadata": {},
   "outputs": [],
   "source": [
    "# pop the top element from the stack\n",
    "top_element = my_plain_stack.pop()\n",
    "print(f'I just popped \"{top_element}\" from the stack')\n",
    "\n",
    "# print the stack to confirm element is gone\n",
    "print(f\"Now the stack is: {my_plain_stack}\")"
   ]
  },
  {
   "cell_type": "markdown",
   "id": "20f12296-ffcd-49be-b61d-cfc82f31fcbd",
   "metadata": {},
   "source": [
    "Let's do a few more (if we don't need the value popped, we don't need to assign it to a variable) ..."
   ]
  },
  {
   "cell_type": "code",
   "execution_count": null,
   "id": "fe7776c6-c24b-4f2e-a0a4-38465c5b435c",
   "metadata": {},
   "outputs": [],
   "source": [
    "# pop two items\n",
    "my_plain_stack.pop()\n",
    "my_plain_stack.pop()\n",
    "\n",
    "# push (append) a new item\n",
    "my_plain_stack.append(\"New second item\")\n",
    "\n",
    "# check the stack\n",
    "print(f\"Now the stack is: {my_plain_stack}\")"
   ]
  },
  {
   "cell_type": "markdown",
   "id": "92ab24f4-c18d-449a-8917-b6195d656644",
   "metadata": {},
   "source": [
    "### Error handling, or lack thereoff\n",
    "So **what** happens **if** I try to **pop more items than I have?**"
   ]
  },
  {
   "cell_type": "code",
   "execution_count": null,
   "id": "cae0777d-3a2d-4e83-a5bd-2169636c0bd8",
   "metadata": {},
   "outputs": [],
   "source": [
    "# pop three items, but I only have two\n",
    "print(my_plain_stack.pop())\n",
    "print(my_plain_stack.pop())\n",
    "\n",
    "# this one will ... BOOM!\n",
    "print(my_plain_stack.pop())"
   ]
  },
  {
   "cell_type": "markdown",
   "id": "8ed64f3c-f06b-4f33-8ccf-a3610c023ee8",
   "metadata": {},
   "source": [
    "## Implementation #2: Custom stack class based on built-in List\n",
    "If we want to have **more robust error handling**, and implement some **additional friendly methods**, we can still **use** the **built-in List class**, but **wrap it around a class**. The MyStack below adds the following \"enhancements\":\n",
    "- A **\"legit\" *push()*** method\n",
    "- ***pop()*** method **preventing exception**\n",
    "- Added **friendly methods** like *peek()*, *length()*, and *is_empty()*\n",
    "- Added a ***print_stack()*** method that prints the stack so it **looks like a top to bottom stack**, with indicators"
   ]
  },
  {
   "cell_type": "code",
   "execution_count": null,
   "id": "4c4737cf-53ee-491d-9175-8ecb754a7246",
   "metadata": {},
   "outputs": [],
   "source": [
    "class MyStack:\n",
    "    '''\n",
    "    This class implements a standard Stack data structure using a Python built-in list class\n",
    "    '''\n",
    "    \n",
    "    def __init__(self):\n",
    "        '''\n",
    "        Initialize the stack as an empty list\n",
    "        '''\n",
    "        self.list = []\n",
    "\n",
    "    def push(self, item):\n",
    "        '''\n",
    "        Push an item onto the stack using the standard append method\n",
    "        '''\n",
    "        self.list.append(item)\n",
    "\n",
    "    def pop(self):\n",
    "        '''\n",
    "        Pop the top item from the stack, or None if the stack is empty\n",
    "        '''\n",
    "        if self.is_empty():\n",
    "            return None\n",
    "        else:\n",
    "            return self.list.pop()\n",
    "\n",
    "    def peek(self):\n",
    "        '''\n",
    "        Return the top item from the stack without popping it, or None if the stack is empty\n",
    "        '''\n",
    "        if self.is_empty():\n",
    "            return None\n",
    "        else:\n",
    "            return self.list[-1]\n",
    "\n",
    "    def is_empty(self):\n",
    "        '''\n",
    "        Return True if stack is empty, or False if note\n",
    "        '''\n",
    "        return (len(self.list) == 0)\n",
    "        \n",
    "    def length(self):  \n",
    "        '''\n",
    "        Return the number of items in the stack\n",
    "        '''\n",
    "        return len(self.list)\n",
    "\n",
    "    def print_stack(self):\n",
    "        '''\n",
    "        Print the stack like a stack, with items stacked top to bottom. The output will also have indicators for Top and Bottom\n",
    "        '''\n",
    "        # check for empty stack\n",
    "        if (self.is_empty()):\n",
    "            print(\"Stack is empty\")\n",
    "            return\n",
    "        \n",
    "        # print list items in reverse order, with a line break in between, so that last element is on top\n",
    "        for n in reversed(range(len(self.list))):\n",
    "            item = self.list[n]\n",
    "            \n",
    "            # if this is the first/bottom item, print an indicator for it\n",
    "            if (n == 0):\n",
    "                print(\"Bottom --> \".rjust(11), end = \"\")\n",
    "            # else, pad the left with enough spaces to align, ehtn print item\n",
    "            else:\n",
    "                print(\"\".rjust(11), end = \"\")\n",
    "\n",
    "            # now print the item\n",
    "            print(item, end = \"\")\n",
    "\n",
    "            # if this is the last/top item, print an indicator for it\n",
    "            if (n == len(self.list) - 1):\n",
    "                print(\" <-- Top\")\n",
    "            # else, just print a line break\n",
    "            else:\n",
    "                print()"
   ]
  },
  {
   "cell_type": "markdown",
   "id": "efa708e5-ddaa-499a-80f7-337138eddcdb",
   "metadata": {},
   "source": [
    "#### Creating my fancy stack object "
   ]
  },
  {
   "cell_type": "code",
   "execution_count": null,
   "id": "6cb02923-a0ba-4521-88d0-adae1ca2d503",
   "metadata": {},
   "outputs": [],
   "source": [
    "my_fancy_stack = MyStack()"
   ]
  },
  {
   "cell_type": "markdown",
   "id": "2077a7ab-60d7-4af3-b323-d11f823ec3cb",
   "metadata": {},
   "source": [
    "#### Push items into the stack, using our \"legit\" *push* method"
   ]
  },
  {
   "cell_type": "code",
   "execution_count": null,
   "id": "be6d6a1e-cb6d-4ab3-8e70-0c06583de2f8",
   "metadata": {},
   "outputs": [],
   "source": [
    "# push a few items\n",
    "my_fancy_stack.push(\"First Item\")\n",
    "my_fancy_stack.push(\"Second Item\")\n",
    "my_fancy_stack.push(\"Third Item\")\n",
    "my_fancy_stack.push(\"Fourth Item\")"
   ]
  },
  {
   "cell_type": "markdown",
   "id": "df23ce6c-41c1-47c4-88ed-3694ef5a8551",
   "metadata": {},
   "source": [
    "#### Check my stack using my fancy *print_stack()*"
   ]
  },
  {
   "cell_type": "code",
   "execution_count": null,
   "id": "c77fc275-3a39-49ad-9dbe-fe6128334767",
   "metadata": {},
   "outputs": [],
   "source": [
    "my_fancy_stack.print_stack()"
   ]
  },
  {
   "cell_type": "markdown",
   "id": "9afebfb3-def1-4d89-8cdd-1d097d4878dc",
   "metadata": {},
   "source": [
    "Ooohhhh ... **how cool was that?!**"
   ]
  },
  {
   "cell_type": "markdown",
   "id": "e2d5584f-3dc7-4837-89f1-3994821415ef",
   "metadata": {},
   "source": [
    "#### Pop the top item, and check again"
   ]
  },
  {
   "cell_type": "code",
   "execution_count": null,
   "id": "8fa67b34-12ed-4a5c-aee5-4d63306760d5",
   "metadata": {},
   "outputs": [],
   "source": [
    "# pop the top element from the stack\n",
    "top_element = my_fancy_stack.pop()\n",
    "print(f'I just popped \"{top_element}\" from the stack')\n",
    "\n",
    "# print the stack to confirm element is gone\n",
    "print(\"\\nStack now is:\")\n",
    "my_fancy_stack.print_stack()"
   ]
  },
  {
   "cell_type": "markdown",
   "id": "e55e3d65-ba4e-46b1-b879-efee1fdb8eae",
   "metadata": {},
   "source": [
    "#### Try to break this one by popping more items than the stack has"
   ]
  },
  {
   "cell_type": "code",
   "execution_count": null,
   "id": "b2694f22-e9cf-465c-991c-86530f5cdc94",
   "metadata": {},
   "outputs": [],
   "source": [
    "print(my_fancy_stack.pop())\n",
    "print(my_fancy_stack.pop())\n",
    "print(my_fancy_stack.pop())\n",
    "print(my_fancy_stack.pop())\n",
    "print(my_fancy_stack.pop())\n",
    "print(my_fancy_stack.pop())"
   ]
  },
  {
   "cell_type": "markdown",
   "id": "7b24bd0e-461b-44dc-b7e6-2bc7bb0e0245",
   "metadata": {},
   "source": [
    "## Implementation #3: Using the Collections module\n",
    "The **Collections module** (https://docs.python.org/3/library/collections.html) provides a number of **specialized data structure classes**. One such class is **Deque** (**pronounced \"deck\"**), which stands for ***\"double ended queue\"***, and we can use it to implement a stack or a queue. Deque offers a few useful features:\n",
    "- Uses **less memory** than the built-in list\n",
    "- **Items** can be **retrieved from either end** very efficiently\n",
    "\n",
    "**Like** the **List** class, **deque has** a ***pop()*** method, and it has an ***append()*** we can use in liu of push. In fact it **also has** ***appendleft()*** and ***popleft()*** if we want to consider the left side as \"top of the stack\". It makes no difference, as long as we used it consistently.\n",
    "\n",
    "In my **example** I'll **use append()/pop() to emphasize** it is very much **like using a regular list**. In fact I'll use nearly the same steps I did for List."
   ]
  },
  {
   "cell_type": "markdown",
   "id": "e8e3b583-bd36-45d3-b080-873b72a45c10",
   "metadata": {},
   "source": [
    "#### Import collections.deque\n",
    "As usual, we need to import the module to use it."
   ]
  },
  {
   "cell_type": "code",
   "execution_count": null,
   "id": "6908d23b-b342-4fcd-b74e-e76caf359a6a",
   "metadata": {},
   "outputs": [],
   "source": [
    "from collections import deque"
   ]
  },
  {
   "cell_type": "markdown",
   "id": "c38a7b9e-c6bd-478e-9e9b-8c3d927c1b6f",
   "metadata": {},
   "source": [
    "#### Creating my stack deque "
   ]
  },
  {
   "cell_type": "code",
   "execution_count": null,
   "id": "84d75f88-64b6-4805-a61f-b7ae0cb96b91",
   "metadata": {},
   "outputs": [],
   "source": [
    "# Create a new stack using deque   \n",
    "my_dq_stack = deque()"
   ]
  },
  {
   "cell_type": "markdown",
   "id": "8dc58a4f-6536-485e-9468-6e20a7c4df44",
   "metadata": {},
   "source": [
    "#### Push elements to the stack using append()"
   ]
  },
  {
   "cell_type": "code",
   "execution_count": null,
   "id": "92489b3a-2d9b-4f33-9746-249b36429caa",
   "metadata": {},
   "outputs": [],
   "source": [
    "# push a few items with append\n",
    "my_dq_stack.append(\"First Item\")\n",
    "my_dq_stack.append(\"Second Item\")\n",
    "my_dq_stack.append(\"Third Item\")\n",
    "my_dq_stack.append(\"Fourth Item\")"
   ]
  },
  {
   "cell_type": "markdown",
   "id": "9b549618-afa7-490b-95b8-37266b6488ef",
   "metadata": {},
   "source": [
    "#### Check my stack\n",
    "We can **print** the **deque** to view the stack. Just like with the list, since we're appending to the end of the deque, we have to **visualize** the **beginning** as the **bottom of the stack**, and the **end as the top**."
   ]
  },
  {
   "cell_type": "code",
   "execution_count": null,
   "id": "b047e526-72a6-4052-b4e5-1701f1b4ed2f",
   "metadata": {},
   "outputs": [],
   "source": [
    "print(my_dq_stack)"
   ]
  },
  {
   "cell_type": "markdown",
   "id": "90630a53-dfe0-4826-89ed-537eaf175f3c",
   "metadata": {},
   "source": [
    "#### Pop top element from the stack\n",
    "We pop using the **standard *pop()* method** in deque, which **also returns the element** that was popped."
   ]
  },
  {
   "cell_type": "code",
   "execution_count": null,
   "id": "d55cab46-ddf0-4482-b839-146bb24aaaf7",
   "metadata": {},
   "outputs": [],
   "source": [
    "# pop the top element from the stack\n",
    "top_element = my_dq_stack.pop()\n",
    "print(f'I just popped \"{top_element}\" from the stack')\n",
    "\n",
    "# print the stack to confirm element is gone\n",
    "print(f\"Now the stack is: {my_dq_stack}\")"
   ]
  },
  {
   "cell_type": "markdown",
   "id": "6a74ad68-8739-46fc-ae3a-ba1e1e2d11b2",
   "metadata": {},
   "source": [
    "Let's do a few more (if we don't need the value popped, we don't need to assign it to a variable) ..."
   ]
  },
  {
   "cell_type": "code",
   "execution_count": null,
   "id": "9dbf83ed-a6c7-432a-a1ee-a71dc8086582",
   "metadata": {},
   "outputs": [],
   "source": [
    "# pop two items\n",
    "my_dq_stack.pop()\n",
    "my_dq_stack.pop()\n",
    "\n",
    "# push (append) a new item\n",
    "my_dq_stack.append(\"New second item\")\n",
    "\n",
    "# check the stack\n",
    "print(f\"Now the stack is: {my_dq_stack}\")"
   ]
  },
  {
   "cell_type": "markdown",
   "id": "5106bf3c-3c86-4ef6-a2fa-2e332da7f547",
   "metadata": {},
   "source": [
    "### Error handling\n",
    "Just like the List example, **if** we **try** to **pop more items than we have**, we get an **exception**."
   ]
  },
  {
   "cell_type": "code",
   "execution_count": null,
   "id": "c8a0955e-c0b4-4f84-a92f-3bf55750b911",
   "metadata": {},
   "outputs": [],
   "source": [
    "# pop three items, but I only have two\n",
    "print(my_dq_stack.pop())\n",
    "print(my_dq_stack.pop())\n",
    "\n",
    "# this one will ... BOOM!\n",
    "print(my_dq_stack.pop())"
   ]
  },
  {
   "cell_type": "markdown",
   "id": "c3c22d53-4e59-414e-85cd-8d400cf4cda9",
   "metadata": {},
   "source": [
    "# Queues in Python"
   ]
  },
  {
   "cell_type": "markdown",
   "id": "284f049d-9efc-4c41-9e30-a021e421ddcc",
   "metadata": {},
   "source": [
    "There are **multiple ways** that you can **implement queues in Python**. In fact, it's not surprising that we can use the **same** types of **approaches** that we **used for stacks**. We are just changing which way we are inserting and retrieving from. For stacks, we inserted and removed from the same end (LIFO approach), for **queues** we we'll **insert in one end and remove from the other** (**FIFO** approach)"
   ]
  },
  {
   "cell_type": "markdown",
   "id": "a988f5f0-e4b3-4566-bcbd-bb0891448793",
   "metadata": {},
   "source": [
    "## Implementation #1: Using the built-in Python List as is\n",
    "The **standard Python List** class has all the methods you need to implement a queue. The ***append()* method** will be **equivalent to an \"enqueue\"**. *append()* will **keep appending to** the **end of the list**, **so** we can **envision** the **end of the list** as the **back of the queueu**. The **first element of the list** is the **front of the queue**, so **to dequeue an item**, we need to **retrieve and remove the first element**. The ***pop()*** method in List **can do that**, if we **pass \"0\" as an argument**. As we saw earlier, *pop()* by default removes and returns the last element in the list, but you pass an argument specifying a specific index for an item to remove."
   ]
  },
  {
   "cell_type": "markdown",
   "id": "6bdd93bf-fa17-4edb-b8ea-e6af18e68e16",
   "metadata": {},
   "source": [
    "#### Creating my queue list "
   ]
  },
  {
   "cell_type": "code",
   "execution_count": null,
   "id": "4fcaaa6f-e865-4fd5-9536-7c074b5ff322",
   "metadata": {},
   "outputs": [],
   "source": [
    "# Create a list to implement a queue. Having \"queue\" somewhere in the variable will remind me I want to use it as a queue\n",
    "my_plain_queue = []"
   ]
  },
  {
   "cell_type": "markdown",
   "id": "bc3161d3-af0a-4793-867e-b54e4cca532e",
   "metadata": {},
   "source": [
    "#### Enqueue elements to the queue using append()"
   ]
  },
  {
   "cell_type": "code",
   "execution_count": null,
   "id": "0d74009a-4fa5-4b13-a28a-4ecda822565c",
   "metadata": {},
   "outputs": [],
   "source": [
    "# enqueue a few items with append\n",
    "my_plain_queue.append(\"First Item\")\n",
    "my_plain_queue.append(\"Second Item\")\n",
    "my_plain_queue.append(\"Third Item\")\n",
    "my_plain_queue.append(\"Fourth Item\")"
   ]
  },
  {
   "cell_type": "markdown",
   "id": "b0dfcfdb-f332-475d-b0a5-1e53e3792744",
   "metadata": {},
   "source": [
    "#### Check my queue\n",
    "We can print the list to view the queue. Again, we have to **visualize** the **beginning as the front of the queue**, and the **end as the back**."
   ]
  },
  {
   "cell_type": "code",
   "execution_count": null,
   "id": "dab27894-45b9-4010-8a7e-d7d79f7c57a8",
   "metadata": {},
   "outputs": [],
   "source": [
    "print(my_plain_queue)"
   ]
  },
  {
   "cell_type": "markdown",
   "id": "c115bbfb-d1ac-4e67-a7b6-e44432660118",
   "metadata": {},
   "source": [
    "#### Dequeue element from the queue\n",
    "We pop using the **standard *pop()* method** in List, **passing \"0\" as an argument**, which pops the first element from the list."
   ]
  },
  {
   "cell_type": "code",
   "execution_count": null,
   "id": "dc714e65-6b5a-4217-a42b-4d7ecb2197ce",
   "metadata": {},
   "outputs": [],
   "source": [
    "# pop the top element from the stack\n",
    "first_element = my_plain_queue.pop(0)\n",
    "print(f'I just dequed \"{first_element}\" from the queue')\n",
    "\n",
    "# print the queue to confirm element is gone\n",
    "print(f\"Now the queue is: {my_plain_queue}\")"
   ]
  },
  {
   "cell_type": "markdown",
   "id": "f6525d7a-f162-4a21-bb06-f57a30bc6877",
   "metadata": {},
   "source": [
    "Let's do a few more ..."
   ]
  },
  {
   "cell_type": "code",
   "execution_count": null,
   "id": "63be9549-956e-448e-99bd-ede4b6b6f500",
   "metadata": {},
   "outputs": [],
   "source": [
    "# dequeue two items\n",
    "my_plain_queue.pop(0)\n",
    "my_plain_queue.pop(0)\n",
    "\n",
    "# enqueue a new item\n",
    "my_plain_queue.append(\"New second item\")\n",
    "\n",
    "# check the stack\n",
    "print(f\"Now the queue is: {my_plain_queue}\")"
   ]
  },
  {
   "cell_type": "markdown",
   "id": "38df782e-8e65-4a83-a050-5dc94590796c",
   "metadata": {},
   "source": [
    "### Error handling, or lack thereoff\n",
    "Just like with the stack implementation, we can't dequeue more than we have in the list ..."
   ]
  },
  {
   "cell_type": "code",
   "execution_count": null,
   "id": "acb613b5-7b89-402d-bc6a-f51a78746ba2",
   "metadata": {},
   "outputs": [],
   "source": [
    "# dequeue/pop three items, but I only have two\n",
    "print(my_plain_queue.pop(0))\n",
    "print(my_plain_queue.pop(0))\n",
    "\n",
    "# this one will ... BOOM!\n",
    "print(my_plain_queue.pop(0))"
   ]
  },
  {
   "cell_type": "markdown",
   "id": "df66e63d-1f92-4f5e-b4fb-8c119895fbc0",
   "metadata": {},
   "source": [
    "## Implementation #2: Custom queue class based on built-in List\n",
    "Justy like we did with stacks, we can **create** a **fancier queue class** **wrapping it around a class**. The MyQueue below adds the following \"enhancements\":\n",
    "- **\"Legit\" *enqueue()* and *dequeue()*** methods\n",
    "- ***dequeue()*** method **preventing exception**\n",
    "- Added **friendly methods** like *peek()*, *length()*, and *is_empty()*\n",
    "- Added a ***print_queue()*** method that **prints the queue with clear indicators**"
   ]
  },
  {
   "cell_type": "code",
   "execution_count": null,
   "id": "ca935ea1-8df7-4436-ab54-3f83ddb6230b",
   "metadata": {},
   "outputs": [],
   "source": [
    "class MyQueue:\n",
    "    '''\n",
    "    This class implements a standard Queue data structure using a Python built-in list class\n",
    "    '''\n",
    "    \n",
    "    def __init__(self):\n",
    "        '''\n",
    "        Initialize the queue as an empty list\n",
    "        '''\n",
    "        self.list = []\n",
    "\n",
    "    def enqueue(self, item):\n",
    "        '''\n",
    "        Append an item to the end of the queue using the standard append method\n",
    "        '''\n",
    "        self.list.append(item)\n",
    "\n",
    "\n",
    "    def dequeue(self):\n",
    "        '''\n",
    "        Pop the first item from the queue, or None if the stack is empty\n",
    "        '''\n",
    "        if self.is_empty():\n",
    "            return None\n",
    "        else:\n",
    "            return self.list.pop(0)\n",
    "\n",
    "    def peek(self):\n",
    "        '''\n",
    "        Return the first item from the queue without dequeing it, or None if the queue is empty\n",
    "        '''\n",
    "        if self.is_empty():\n",
    "            return None\n",
    "        else:\n",
    "            return self.list[0]\n",
    "\n",
    "    def is_empty(self):\n",
    "        '''\n",
    "        Return True if queue is empty, or False if note\n",
    "        '''\n",
    "        return (len(self.list) == 0)\n",
    "        \n",
    "    def length(self):  \n",
    "        '''\n",
    "        Return the number of items in the queue\n",
    "        '''\n",
    "        return len(self.list)\n",
    "\n",
    "    def print_queue(self):\n",
    "        '''\n",
    "        Print the queue with clear indicators of front and back\n",
    "        '''\n",
    "        # check for empty stack\n",
    "        if (self.is_empty()):\n",
    "            print(\"Queue is empty\")\n",
    "            return\n",
    "        \n",
    "        # iterate through list items\n",
    "        for n in range(len(self.list)):\n",
    "            # if this is the front of the queue, print an indicator\n",
    "            if (n == 0):\n",
    "                print(\"[FRONT] \", end=\"\")\n",
    "                \n",
    "            # print the item\n",
    "            print(self.list[n], end=\"\")\n",
    "\n",
    "            # if this is not the last item, print an indicator of a queue order\n",
    "            if (n < len(self.list) - 1):\n",
    "                print(\" <-- \", end=\"\")\n",
    "            # else, just print an indicator line break\n",
    "            else:\n",
    "                print(\" [BACK]\")"
   ]
  },
  {
   "cell_type": "markdown",
   "id": "d9fc80a0-90b6-4dfc-8f36-441328239f9b",
   "metadata": {},
   "source": [
    "#### Creating my fancy queue object "
   ]
  },
  {
   "cell_type": "code",
   "execution_count": null,
   "id": "c68bb828-b700-4a48-be0e-e2f4d9908d20",
   "metadata": {},
   "outputs": [],
   "source": [
    "my_fancy_queue = MyQueue()"
   ]
  },
  {
   "cell_type": "markdown",
   "id": "5d7cad4b-e60d-49ed-8996-1684aea8a62e",
   "metadata": {},
   "source": [
    "#### Enqueue items into the queue, using our \"legit\" *queue* method"
   ]
  },
  {
   "cell_type": "code",
   "execution_count": null,
   "id": "e7eef695-720b-45ab-815d-2c3ffa94e3e3",
   "metadata": {},
   "outputs": [],
   "source": [
    "# enqueue a few items\n",
    "my_fancy_queue.enqueue(\"First Item\")\n",
    "my_fancy_queue.enqueue(\"Second Item\")\n",
    "my_fancy_queue.enqueue(\"Third Item\")\n",
    "my_fancy_queue.enqueue(\"Fourth Item\")"
   ]
  },
  {
   "cell_type": "markdown",
   "id": "8b9780a9-952f-4d11-bae1-e1c3e350d360",
   "metadata": {},
   "source": [
    "#### Check my queue using my fancy *print_queue()*"
   ]
  },
  {
   "cell_type": "code",
   "execution_count": null,
   "id": "366dab2b-6595-4c71-82f8-7b0ba3b153af",
   "metadata": {},
   "outputs": [],
   "source": [
    "my_fancy_queue.print_queue()"
   ]
  },
  {
   "cell_type": "markdown",
   "id": "de36f442-e1ff-44c9-8d26-9aa010bb1c35",
   "metadata": {},
   "source": [
    "Ahhhh ... so pretty ..."
   ]
  },
  {
   "cell_type": "markdown",
   "id": "1b276931-a347-44d9-83f1-99486b2c304a",
   "metadata": {},
   "source": [
    "#### Dequeue the front item, and check again"
   ]
  },
  {
   "cell_type": "code",
   "execution_count": null,
   "id": "2dc66dcc-3cc2-488a-ba7d-0f6c3750aab1",
   "metadata": {},
   "outputs": [],
   "source": [
    "# pop the top element from the stack\n",
    "first_element = my_fancy_queue.dequeue()\n",
    "print(f'I just dequed \"{first_element}\" from the queue')\n",
    "\n",
    "# print the queue to confirm element is gone\n",
    "print(\"\\nQueue now is:\")\n",
    "my_fancy_queue.print_queue()"
   ]
  },
  {
   "cell_type": "markdown",
   "id": "d5aede81-aa1f-449f-8fb9-b54d33bc9954",
   "metadata": {},
   "source": [
    "#### Try to break this one by dequeing more items than the queue has"
   ]
  },
  {
   "cell_type": "code",
   "execution_count": null,
   "id": "36f9d684-90a2-472e-9652-d6e0ebebf8ab",
   "metadata": {},
   "outputs": [],
   "source": [
    "print(my_fancy_queue.dequeue())\n",
    "print(my_fancy_queue.dequeue())\n",
    "print(my_fancy_queue.dequeue())\n",
    "print(my_fancy_queue.dequeue())\n",
    "print(my_fancy_queue.dequeue())\n",
    "print(my_fancy_queue.dequeue())"
   ]
  },
  {
   "cell_type": "markdown",
   "id": "7995d0c7-9a7d-432e-8817-94673230ccaf",
   "metadata": {},
   "source": [
    "## Implementation #3: Using the Collections module\n",
    "This will be nearly a repeat of what we did with stacks, using the **Deque** class. Recall that deque can insert and retrieve from either end, so we'll use ***append()*** to enqueue, and ***popleft()*** to dequeue."
   ]
  },
  {
   "cell_type": "markdown",
   "id": "aaf64aa4-b696-4c32-8b75-1c8664704d1a",
   "metadata": {},
   "source": [
    "#### Import collections.deque\n",
    "As usual, we need to import the module to use it."
   ]
  },
  {
   "cell_type": "code",
   "execution_count": null,
   "id": "9858a35b-4491-483e-84bf-a1e020c447a9",
   "metadata": {},
   "outputs": [],
   "source": [
    "from collections import deque"
   ]
  },
  {
   "cell_type": "markdown",
   "id": "96ec8924-ddd7-4a2e-8039-f7d7afab0f1e",
   "metadata": {},
   "source": [
    "#### Creating my queue deque "
   ]
  },
  {
   "cell_type": "code",
   "execution_count": null,
   "id": "9494a2f5-7e1f-428b-b9f5-b0ff08234191",
   "metadata": {},
   "outputs": [],
   "source": [
    "# Create a new stack using deque   \n",
    "my_dq_queue = deque()"
   ]
  },
  {
   "cell_type": "markdown",
   "id": "963db92a-4a80-4237-8e33-4e1688da817c",
   "metadata": {},
   "source": [
    "#### Enqueue elements to the queue using append()"
   ]
  },
  {
   "cell_type": "code",
   "execution_count": null,
   "id": "a7ea6a71-fde4-406a-8256-b85f83f68f53",
   "metadata": {},
   "outputs": [],
   "source": [
    "# enqueue a few items with append\n",
    "my_dq_queue.append(\"First Item\")\n",
    "my_dq_queue.append(\"Second Item\")\n",
    "my_dq_queue.append(\"Third Item\")\n",
    "my_dq_queue.append(\"Fourth Item\")"
   ]
  },
  {
   "cell_type": "markdown",
   "id": "00a6eb60-f6b9-4973-9da3-59e207a52902",
   "metadata": {},
   "source": [
    "#### Check my queue\n",
    "We can print the deque to view the queue. Just like with the list, we have to visualize the beginning as the front of the queue, and the end as the back."
   ]
  },
  {
   "cell_type": "code",
   "execution_count": null,
   "id": "0cea9d53-97d4-460b-a1e9-f3c12edfabb1",
   "metadata": {},
   "outputs": [],
   "source": [
    "print(my_dq_queue)"
   ]
  },
  {
   "cell_type": "markdown",
   "id": "b9a3d0ce-f37d-4af8-88b4-ad8cf9aafe59",
   "metadata": {},
   "source": [
    "#### Dequeue first element from the queue\n",
    "We dequeue using the ***popleft()*** method in deque, which **also returns the element** that was popped."
   ]
  },
  {
   "cell_type": "code",
   "execution_count": null,
   "id": "b5ccda4d-62e4-4d51-ae5e-d28d5a0eb9db",
   "metadata": {},
   "outputs": [],
   "source": [
    "# dequeue the first element from the queue\n",
    "first_element = my_dq_queue.popleft()\n",
    "print(f'I just dequeued \"{first_element}\" from the queue')\n",
    "\n",
    "# print the queue to confirm element is gone\n",
    "print(f\"Now the queue is: {my_dq_queue}\")"
   ]
  },
  {
   "cell_type": "markdown",
   "id": "35a19d39-01bd-4e99-902f-202bc221047b",
   "metadata": {},
   "source": [
    "Let's do a few more ..."
   ]
  },
  {
   "cell_type": "code",
   "execution_count": null,
   "id": "3c645f71-1c42-48fa-80ef-f547eb3084cf",
   "metadata": {},
   "outputs": [],
   "source": [
    "# dequeue/pop two items\n",
    "my_dq_queue.popleft()\n",
    "my_dq_queue.popleft()\n",
    "\n",
    "# enqueue (append) a new item\n",
    "my_dq_queue.append(\"New second item\")\n",
    "\n",
    "# check the queue\n",
    "print(f\"Now the queue is: {my_dq_queue}\")"
   ]
  },
  {
   "cell_type": "markdown",
   "id": "424c70f1-461f-47de-a923-f022fbeb0adc",
   "metadata": {},
   "source": [
    "### Error handling\n",
    "Just like the List example, **if** we **try** to **dequeue more items than we have**, we get an **exception**."
   ]
  },
  {
   "cell_type": "code",
   "execution_count": null,
   "id": "1bce284c-3e36-4adc-9518-334fb07266f9",
   "metadata": {},
   "outputs": [],
   "source": [
    "# dequeue three items, but I only have two\n",
    "print(my_dq_queue.popleft())\n",
    "print(my_dq_queue.popleft())\n",
    "\n",
    "# this one will ... BOOM!\n",
    "print(my_dq_queue.popleft())"
   ]
  }
 ],
 "metadata": {
  "kernelspec": {
   "display_name": "Python 3 (ipykernel)",
   "language": "python",
   "name": "python3"
  },
  "language_info": {
   "codemirror_mode": {
    "name": "ipython",
    "version": 3
   },
   "file_extension": ".py",
   "mimetype": "text/x-python",
   "name": "python",
   "nbconvert_exporter": "python",
   "pygments_lexer": "ipython3",
   "version": "3.9.2"
  }
 },
 "nbformat": 4,
 "nbformat_minor": 5
}
