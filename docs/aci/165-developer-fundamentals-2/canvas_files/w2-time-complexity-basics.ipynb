{
 "cells": [
  {
   "cell_type": "markdown",
   "id": "d4f78b3d-b06b-4d1a-bbc9-3eb7dda113be",
   "metadata": {},
   "source": [
    "# <span style=\"color:blue\">Time Complexity Basics\n",
    "AWS CLOUD INSTITUTE: PROVIDED FOR EDUCATIONAL INSTRUCTIONAL PURPOSES ONLY."
   ]
  },
  {
   "attachments": {},
   "cell_type": "markdown",
   "id": "765db471-34aa-4c70-8c71-222e6bf2ec52",
   "metadata": {},
   "source": [
    "Time complexity measures the relative efficiency of an algorithm. "
   ]
  },
  {
   "cell_type": "markdown",
   "id": "65a52163-d065-4652-8359-a6203a289408",
   "metadata": {},
   "source": [
    "#### Measuring time with Python's Time Libray\n",
    "If we're going to compare time efficiency, let's use a Python module to measure it. There are a few available choices, and we'll use the **time** module (https://docs.python.org/3/library/time.html)."
   ]
  },
  {
   "cell_type": "code",
   "execution_count": null,
   "id": "8c5d268b-5421-4438-b70f-7103c762fd88",
   "metadata": {},
   "outputs": [],
   "source": [
    "import time"
   ]
  },
  {
   "cell_type": "markdown",
   "id": "0cad53ec-1bd9-48bf-a0ac-1d74e88faa3a",
   "metadata": {},
   "source": [
    "#### Example of time measure\n",
    "We will **use the *perf_counter* function** in the time module, which returns a simple time stamp in seconds"
   ]
  },
  {
   "cell_type": "code",
   "execution_count": null,
   "id": "f27a24aa-8d44-4c65-bc29-5b15ce1f3a3d",
   "metadata": {},
   "outputs": [],
   "source": [
    "# take a timestamp before doing something\n",
    "start_time = time.perf_counter()\n",
    "print(f\"Start timestamp: {start_time:.4f} seconds\")\n",
    "\n",
    "# do something\n",
    "print(\"\\nDoing something...\")\n",
    "for x in range(100):\n",
    "    print(x, end=\"-\")\n",
    "print(\"\\nDone\\n\")\n",
    "\n",
    "# take a final timestamp and calculated ellapsed time\n",
    "end_time = time.perf_counter()\n",
    "print(f\"End timestamp: {end_time:.4f} seconds\\n\")\n",
    "print(f\"Ellapsed time: {(end_time - start_time):.4f} seconds\")"
   ]
  },
  {
   "cell_type": "markdown",
   "id": "11ccb2d6-a5d6-4ce3-ab1e-ff65af6cdfb7",
   "metadata": {},
   "source": [
    "######\n",
    "We can see that **even looping 100 times**, took **fractions of seconds**. Which leads us to ..."
   ]
  },
  {
   "cell_type": "markdown",
   "id": "5f6098da-d7f4-4406-baae-51851441a6c2",
   "metadata": {},
   "source": [
    "### Computers are really fast ..."
   ]
  },
  {
   "cell_type": "markdown",
   "id": "c0e9ebb6-2e7f-4365-9907-018160403dde",
   "metadata": {},
   "source": [
    "Relative **small differences in the number of steps** performed **won't make** a really **big difference** in time. Let's try this out, using our timer."
   ]
  },
  {
   "cell_type": "markdown",
   "id": "224ab285-851f-4574-96d7-bb88779b8d52",
   "metadata": {},
   "source": [
    "## Constant Time Complexity: O(1)\n",
    "A few non-repetitive operations are practically instanteneous"
   ]
  },
  {
   "cell_type": "markdown",
   "id": "d98eda53-faef-44ef-8c93-b0cd0363e6c2",
   "metadata": {},
   "source": [
    "##### Algorithm"
   ]
  },
  {
   "cell_type": "code",
   "execution_count": null,
   "id": "d65d851d-e185-4f78-bca3-1ccdadaa81e9",
   "metadata": {},
   "outputs": [],
   "source": [
    "def add_numbers(x , n):\n",
    "    print(f\"Adding {x} and {n}\")\n",
    "    sum = x + n\n",
    "    return sum"
   ]
  },
  {
   "cell_type": "markdown",
   "id": "48f0c4f2-6336-41f0-9021-9743125dfc2c",
   "metadata": {},
   "source": [
    "##### Time measurement"
   ]
  },
  {
   "cell_type": "code",
   "execution_count": null,
   "id": "39245760-70ea-4e0d-a44b-abd98785ee95",
   "metadata": {},
   "outputs": [],
   "source": [
    "start_time = time.perf_counter()\n",
    "\n",
    "# do a couple operations\n",
    "x = 10\n",
    "n = 30\n",
    "print(f\"{x} + {n} = \", add_numbers(x, n))\n",
    "\n",
    "end_time = time.perf_counter()\n",
    "\n",
    "print(f\"Ellapsed time: {(end_time - start_time):.4f} seconds\")"
   ]
  },
  {
   "cell_type": "markdown",
   "id": "a00fc1a3-cf33-49a3-ac84-1262de5259d7",
   "metadata": {},
   "source": [
    "<br>We say these **few quick, non-repeatitice operations**, occur in **\"Constant Time\"**, and use the notation **O(1)**"
   ]
  },
  {
   "cell_type": "markdown",
   "id": "183f196c-59b8-4e36-bcd6-3af8c2fd65e0",
   "metadata": {},
   "source": [
    "## Linear Time Complexity: O(n)\n",
    "Repeatitive steps in a single loop are still pretty fast, as long as I'm not significantly changing the number of iterations."
   ]
  },
  {
   "cell_type": "markdown",
   "id": "c79beaf9-9aea-43f8-88f4-3156f4a39d25",
   "metadata": {},
   "source": [
    "##### Algorithm"
   ]
  },
  {
   "cell_type": "code",
   "execution_count": null,
   "id": "db7e77dd-1b7f-4769-9ade-6ca640200928",
   "metadata": {},
   "outputs": [],
   "source": [
    "def multiply_numbers(x , n):\n",
    "    total = 0\n",
    "    for i in range(n):\n",
    "        total += x\n",
    "    return total"
   ]
  },
  {
   "cell_type": "markdown",
   "id": "52274a77-7796-4a07-8087-8d2cf309dff0",
   "metadata": {},
   "source": [
    "##### Time measurement"
   ]
  },
  {
   "cell_type": "code",
   "execution_count": null,
   "id": "842eae4e-c7e5-41da-aae3-0d25bfd9df02",
   "metadata": {},
   "outputs": [],
   "source": [
    "start_time = time.perf_counter()\n",
    "\n",
    "# do a couple operations\n",
    "x = 10\n",
    "n = 30\n",
    "print(f\"{x} * {n} = \", multiply_numbers(x, n))\n",
    "\n",
    "end_time = time.perf_counter()\n",
    "\n",
    "print(f\"Ellapsed time: {(end_time - start_time):.4f} seconds\")"
   ]
  },
  {
   "cell_type": "markdown",
   "id": "62d18469-a14d-4303-a5de-6d17f9dda62a",
   "metadata": {},
   "source": [
    "#### Changes in the same order of magnitude won't make a big difference\n",
    "Let's **try changing *n*** above to **make the loops longer**, and **see the impact** in the time."
   ]
  },
  {
   "cell_type": "markdown",
   "id": "7e9ea799-f0f2-45dc-a013-5adcc6f6b12e",
   "metadata": {},
   "source": [
    "My results the were:\n",
    "- 30 loops: 0.0002 seconds\n",
    "- 300 loops: 0.0003 seconds\n",
    "- 3,000 loops: 0.0006 seconds\n",
    "- 30,000 loops: 0.0023 seconds\n",
    "\n",
    "So it took a loop 1,000 times bigger to begin making a significant difference. Another fancy way of saying this, is that **only a change of a significant \"order of magnitute\", makes a significant difference**. That's what the **\"O\" in the Big O notation** stands for: *\"Order of\"*.\n",
    "\n",
    "In this case, where we have a **single loop**, that will only **change the number of steps depending on one variable**, we say they occur in **\"Linear Time\"**, and use the notation **O(n)**"
   ]
  },
  {
   "cell_type": "markdown",
   "id": "d572351d-fcea-4cb4-a4c2-c8e3395ddf7f",
   "metadata": {},
   "source": [
    "## Quadratic Time Complexity: O(n<sup>2</sup>)\n"
   ]
  },
  {
   "cell_type": "markdown",
   "id": "fcf1dd66-556c-49c0-aae6-471ef2f5b666",
   "metadata": {},
   "source": [
    "What if we have a **loop, inside a loop**? Something like this:\n",
    "```\n",
    "for x in range(100):\n",
    "    for y in range(200):\n",
    "        print(x + y)\n",
    "```\n",
    "In this case, for **every iteration** of the **first loop**, we do a **full iteration of the second loop**. So that print statement would run **100 x 200 times**. That's the kind of thing that would **change** our **\"order of magnitute\"**. Let's test it out."
   ]
  },
  {
   "cell_type": "markdown",
   "id": "b5894fd2-3a43-4ba4-aeac-0f1f1c556ab3",
   "metadata": {},
   "source": [
    "##### Algorithm"
   ]
  },
  {
   "cell_type": "code",
   "execution_count": null,
   "id": "5e213c00-2b2a-4f01-8b1f-0fdf0d92b5f9",
   "metadata": {},
   "outputs": [],
   "source": [
    "def square_number(n):\n",
    "    total = 0\n",
    "    for i in range(n):\n",
    "        for j in range(n):\n",
    "            total += 1\n",
    "    return total"
   ]
  },
  {
   "cell_type": "markdown",
   "id": "9222b206-34bc-4d3e-9362-b9334bdbf282",
   "metadata": {},
   "source": [
    "##### Time measurement"
   ]
  },
  {
   "cell_type": "code",
   "execution_count": null,
   "id": "ec6a08d1-59ca-4e40-ad70-115ea697c12c",
   "metadata": {},
   "outputs": [],
   "source": [
    "start_time = time.perf_counter()\n",
    "\n",
    "# do a couple operations\n",
    "n = 30\n",
    "print(f\"{n} square = \", square_number(n))\n",
    "\n",
    "end_time = time.perf_counter()\n",
    "\n",
    "print(f\"Ellapsed time: {(end_time - start_time):.4f} seconds\")"
   ]
  },
  {
   "cell_type": "markdown",
   "id": "d00dbc59-6713-4da9-952f-9f4a96613da5",
   "metadata": {},
   "source": [
    "#### Changes that are squared, will make an impact much quicker ...\n",
    "With a small number like \"30\", even this is pretty fast. It's good to remember that even a bad algorithm will probably run fast if you only have a few steps to run.\n",
    "\n",
    "However ...\n",
    "\n",
    "Let's **try changing *n*** above again to **make both loops longer**, and **see the impact** in the time.\n",
    "\n",
    "My initial results the were:\n",
    "- 30 loops: 0.0004 seconds\n",
    "- 300 loops: 0.0053 seconds\n",
    "- 3,000 loops: 0.3708 seconds\n",
    "- 30,000 loops: 41.2883 seconds\n",
    "\n",
    "**Wow!!** Now that got ugly fast :-)  "
   ]
  },
  {
   "cell_type": "markdown",
   "id": "355af8ab-a835-4ee1-8756-2e5d7393dbad",
   "metadata": {},
   "source": [
    "So moral of the story is, when you have **loops insides loops**, you need to be **careful** with **how many iterations** you have, because they can **significantly change the order of magnitute**. We say they occur in **\"Quadratic Time\"**, and use the notation **O(n<sup>2</sup>)**"
   ]
  },
  {
   "cell_type": "markdown",
   "id": "73c0f5ea-03ea-499e-b427-b7d9d37690cb",
   "metadata": {},
   "source": [
    "## Logarithmic Time Complexity: O(log(n))\n"
   ]
  },
  {
   "cell_type": "markdown",
   "id": "07754c22-cd62-4dba-b56b-f2e2680a7ff4",
   "metadata": {},
   "source": [
    "Don't get scared with the Math. The simple question is, what if I have a **loop** that **keeps splitting something in half**, over and over. For instance\n",
    "```\n",
    "while n > 1:\n",
    "    n = n // 2\n",
    "    print(\"New n is\", n)\n",
    "```\n",
    "Just printing the number may seem useless, but we'll see **many cases** in upcoming modules where **loops like this** will be **very useful**. Let's test how it performs."
   ]
  },
  {
   "cell_type": "markdown",
   "id": "6256e838-4e2f-47db-b994-48603976511d",
   "metadata": {},
   "source": [
    "##### Algorithm\n",
    "In this algorithm we'll count how many times we split the number before it's less than one (which is the number of times we go through the loop)"
   ]
  },
  {
   "cell_type": "code",
   "execution_count": null,
   "id": "bb1e5737-aff0-4c46-854c-05aa2e53f430",
   "metadata": {},
   "outputs": [],
   "source": [
    "def count_splits(n):\n",
    "    total = 0\n",
    "    # while n greated than 1, keep diving it by 2\n",
    "    while n > 1:\n",
    "        n = n // 2\n",
    "        total += 1\n",
    "    \n",
    "    return total"
   ]
  },
  {
   "cell_type": "markdown",
   "id": "52397341-57ed-4cd2-b535-918dd0dcf8f0",
   "metadata": {},
   "source": [
    "##### Time measurement"
   ]
  },
  {
   "cell_type": "code",
   "execution_count": null,
   "id": "83168e91-b69d-44a4-a4c7-d9da8627e5e6",
   "metadata": {},
   "outputs": [],
   "source": [
    "start_time = time.perf_counter()\n",
    "\n",
    "# do a couple operations\n",
    "n = 30\n",
    "print(f\"To fully split {n}, we looped {count_splits(n)} times\")\n",
    "\n",
    "end_time = time.perf_counter()\n",
    "\n",
    "print(f\"Ellapsed time: {(end_time - start_time):.4f} seconds\")"
   ]
  },
  {
   "cell_type": "markdown",
   "id": "843aceb8-c0f2-4f1c-9672-acf60ab4ac6b",
   "metadata": {},
   "source": [
    "#### So how will the performance progress here ...\n",
    "With a small number like \"30\", as usual, this is pretty fast.\n",
    "\n",
    "Let's **try changing *n*** above again and **see the impact** in the time.\n",
    "\n",
    "My initial results the were:\n",
    "- 30 loops: 0.0003 seconds\n",
    "- 300 loops: 0.0007 seconds\n",
    "- 3,000 loops: 0.0003 seconds\n",
    "- 30,000 loops: 0.0004 seconds\n",
    "\n",
    "What's hapenning here?! I can't seem to make this bad. So let's go crazy ...\n",
    "- 30,000,000  loops: 0.0004 seconds\n",
    "\n",
    "What?! Is this an algorithm or a super-villan? I'm not giving up\n",
    "- 30,000,000,000 loops: 0.0004 seconds\n",
    "\n",
    "Ok, now I give up :-) "
   ]
  },
  {
   "cell_type": "markdown",
   "id": "73be7fe6-4e22-4ac1-a2da-d97307912452",
   "metadata": {},
   "source": [
    "So moral of the story is, when you have a **loop** like that, **where steps are based on something being split in half multiple times**, the **performance is great**. That's because as we can see in the output, the number of steps stay very small, even for large numbers."
   ]
  },
  {
   "cell_type": "markdown",
   "id": "d2c8457b-df80-443b-aa75-178431a4f528",
   "metadata": {},
   "source": [
    "##### So how many loop iterations I need to divide a number in half down to 1?\n",
    "You **don't need to memorize**, but that's a **Math thing**. The number of **steps will be** the **log base 2 of n**. Python has a function that calculates that, so let's run it with our numbers (and round it off)"
   ]
  },
  {
   "cell_type": "code",
   "execution_count": null,
   "id": "2976c91a-e19a-470a-acf3-d9c69e474075",
   "metadata": {},
   "outputs": [],
   "source": [
    "import math\n",
    "print(int(math.log2(300)))\n",
    "print(int(math.log2(300000)))\n",
    "print(int(math.log2(300000000)))"
   ]
  },
  {
   "cell_type": "markdown",
   "id": "8a01beb7-201d-4e15-b8c1-ca9fbd7c2988",
   "metadata": {},
   "source": [
    "You don't need to understand the Math to see the number of iterations will grow very slowly. We say that these **algorithms** that keep **splitting the loop in half** have occur in \"**Logarithmic Time**\", and use the notation **O(log(n))**"
   ]
  },
  {
   "cell_type": "markdown",
   "id": "e7ad97b7-81ee-429c-90dd-569c10978877",
   "metadata": {},
   "source": [
    "## And there is more ..."
   ]
  },
  {
   "cell_type": "markdown",
   "id": "4aaf33df-998f-43b8-9dd2-d8b9624e5372",
   "metadata": {},
   "source": [
    "These were simple examples to explain the basic concepts, but there is a lot more. We **also have time complexities** of **O(n log(n)), O(2n), O(n!)**, etc.  But that's a **topic for another time** ..."
   ]
  }
 ],
 "metadata": {
  "kernelspec": {
   "display_name": "Python 3 (ipykernel)",
   "language": "python",
   "name": "python3"
  },
  "language_info": {
   "codemirror_mode": {
    "name": "ipython",
    "version": 3
   },
   "file_extension": ".py",
   "mimetype": "text/x-python",
   "name": "python",
   "nbconvert_exporter": "python",
   "pygments_lexer": "ipython3",
   "version": "3.9.2"
  }
 },
 "nbformat": 4,
 "nbformat_minor": 5
}
