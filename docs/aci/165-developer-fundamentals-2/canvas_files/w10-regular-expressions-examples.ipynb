{
 "cells": [
  {
   "cell_type": "markdown",
   "id": "b4d25147-62fb-4481-a76f-41e04b2f0dfc",
   "metadata": {},
   "source": [
    "# <span style=\"color:blue\"> Regular Expressions Examples\n",
    "AWS CLOUD INSTITUTE: PROVIDED FOR EDUCATIONAL INSTRUCTIONAL PURPOSES ONLY."
   ]
  },
  {
   "cell_type": "markdown",
   "id": "0bd68c17-fca1-4bec-a3c6-902ab0b9c42c",
   "metadata": {},
   "source": [
    "## Prerequisite\n",
    "**This is a continuation of the *\"w10-regular-expressions-concepts\"* notebook**, which covers all the basic constructs and functions. Unless you are confortable with all the RegEx constructs and Python re functions, **you should review that notebook first**."
   ]
  },
  {
   "cell_type": "markdown",
   "id": "b2a87b25-79cb-47e9-a547-718072085d5e",
   "metadata": {},
   "source": [
    "## Python re Module\n",
    "**Python's built-in re module**, part of the Python Standard Library, provides a **comprehensive suite of functions** for working with **regular expressions**. You can view the **full documention** for the re module **here: https://docs.python.org/3/library/re.html**"
   ]
  },
  {
   "cell_type": "code",
   "execution_count": null,
   "id": "c834f2ee-e95b-4ac9-bb88-bea4422e5499",
   "metadata": {},
   "outputs": [],
   "source": [
    "import re"
   ]
  },
  {
   "cell_type": "markdown",
   "id": "8ce3b344-b704-4288-929a-3ecd41f6ff79",
   "metadata": {},
   "source": [
    "# Redacting text\n",
    "Redacting is a process of replacing certain sensitive text with placeholders. It's very common when you want to remove **Personal Identifiable Information (PII)** from documents. That **includes, but is not limitted to, names, phone numbers, IP addresses, email addresses, etc.**"
   ]
  },
  {
   "cell_type": "markdown",
   "id": "dbfdd432-4bf0-4de0-9747-90382a3d3aed",
   "metadata": {},
   "source": [
    "## Basic python implementation\n",
    "To be very clear, **this is just a simple example for educational purposes**. I'm not claiming in any way that this is a sufficient or accurate mechanism for redacting personal details.\n",
    "\n",
    "In this example, we will be looking for:\n",
    "- Phone numbers\n",
    "- IP addresses\n",
    "- Email addresses\n",
    "- Social security numbers"
   ]
  },
  {
   "cell_type": "markdown",
   "id": "b3218dfb-0664-46cb-8d09-a68924140b4a",
   "metadata": {},
   "source": [
    "### Input Data\n",
    "In most cases we would be reading this from a file, but for the sake of simplicity, I'll just use long multi-line strings here."
   ]
  },
  {
   "cell_type": "markdown",
   "id": "6f95da18-51b4-41a0-bad0-3edbb74813d8",
   "metadata": {},
   "source": [
    "#### An example of a customer complaint email.\n",
    "This **example has** *emails, phone numbers and IP addresses**. **No social security** number here."
   ]
  },
  {
   "cell_type": "code",
   "execution_count": null,
   "id": "b436198d-d95c-4d78-85f3-762c1a5a8489",
   "metadata": {},
   "outputs": [],
   "source": [
    "input_text = \"\\\n",
    "To whom it may concern:\\n\\n\\\n",
    "My names is Carlos Salazar, and I am having an issue with my router. I initially get a connection, but after a while it drops.\\n\\\n",
    "My telephone number, in case you need to call me, is 732-555-0278. I'm available after 5pm everyday.\\n\\\n",
    "You can also email me at carlos_salazar@example.com . I'll monitor my email regularly.\\n\\\n",
    "Finally, if you need to do some troubleshooting, my IP address is 192.168.2.8, but I think that might be an internal one. \\n\\\n",
    "I'm not sure what my external IP would be.\\n\\n\\\n",
    "Thanks\\n\\n\\\n",
    "Carlos Salazar\\n\""
   ]
  },
  {
   "cell_type": "code",
   "execution_count": null,
   "id": "8aa2856f-03e1-4c6d-a046-a2a092bb04de",
   "metadata": {},
   "outputs": [],
   "source": [
    "print(\"-------------- Initial Text --------------\")\n",
    "print(input_text)"
   ]
  },
  {
   "cell_type": "markdown",
   "id": "d5e5d1ba-e550-404a-8808-b6e91b026f50",
   "metadata": {},
   "source": [
    "### Patterns used\n",
    "The key **patterns I used here** to match each element where:\n",
    "- **Phone numbers** - \"(?:1-)?\\d{3}-\\d{3}-\\d{4}\"\n",
    "- **IP addresses** - \"(?:(?:25[0-5]|2[0-4]\\d|1\\d\\d|[1-9]?\\d)\\.){3}(?:25[0-5]|2[0-4]\\d|1\\d\\d|[1-9]?\\d)\"\n",
    "- **Email addresses** - \"\\w+@(?:\\w+\\.)+(?:com|edu|net|org)\"\n",
    "- **Social security numbers** - \"\\d{3}-\\d{2}-\\d{4}\"\n",
    "\n",
    "Please note that the details about these patterns were discussed in the \"w10-regular-expressions-concepts\" notebook."
   ]
  },
  {
   "cell_type": "markdown",
   "id": "a6fc3589-9748-4271-9bb3-3be06ff486cb",
   "metadata": {},
   "source": [
    "### Pattern Application"
   ]
  },
  {
   "cell_type": "markdown",
   "id": "043463ba-587c-46f4-a8d3-bac979c73c3b",
   "metadata": {},
   "source": [
    "#### Redact phone numbers"
   ]
  },
  {
   "cell_type": "code",
   "execution_count": null,
   "id": "e6bbbf00-e152-48e4-82a3-d6416c52f944",
   "metadata": {},
   "outputs": [],
   "source": [
    "pattern = r\"(?:1-)?\\d{3}-\\d{3}-\\d{4}\""
   ]
  },
  {
   "cell_type": "code",
   "execution_count": null,
   "id": "685d1387-0da3-4181-83b3-a4d0a7edf79f",
   "metadata": {},
   "outputs": [],
   "source": [
    "new_text = re.sub(pattern, \"###-###-####\", input_text)\n",
    "print(\"-------------- Redacted Phone Numbers --------------\")\n",
    "print(new_text)"
   ]
  },
  {
   "cell_type": "markdown",
   "id": "535e97e9-79e7-4271-a3b6-0f0943dac9d0",
   "metadata": {},
   "source": [
    "#### Redact IP addresses"
   ]
  },
  {
   "cell_type": "code",
   "execution_count": null,
   "id": "3d426a7c-a2e4-4f18-83c8-d731dd7290a5",
   "metadata": {},
   "outputs": [],
   "source": [
    "pattern = r\"(?:(?:25[0-5]|2[0-4]\\d|1\\d\\d|[1-9]?\\d).){3}(?:25[0-5]|2[0-4]\\d|1\\d\\d|[1-9]?\\d)\""
   ]
  },
  {
   "cell_type": "code",
   "execution_count": null,
   "id": "93300711-0a84-4e31-8078-8d82f531138d",
   "metadata": {},
   "outputs": [],
   "source": [
    "new_text = re.sub(pattern, \"###.###.###.###\", new_text)\n",
    "print(\"-------------- Redacted IP Addresses --------------\")\n",
    "print(new_text)"
   ]
  },
  {
   "cell_type": "markdown",
   "id": "e0fe9109-e70d-496d-bfa9-4ad5e7ba4725",
   "metadata": {},
   "source": [
    "#### Redact email addresses"
   ]
  },
  {
   "cell_type": "code",
   "execution_count": null,
   "id": "1a88f59e-0cd9-486d-8cad-dd595cb02f91",
   "metadata": {},
   "outputs": [],
   "source": [
    "pattern = r\"\\w+@(?:\\w+.)+(?:com|edu|net|org)\""
   ]
  },
  {
   "cell_type": "code",
   "execution_count": null,
   "id": "de28668b-025b-450f-a229-b3fee2f49aaa",
   "metadata": {},
   "outputs": [],
   "source": [
    "new_text = re.sub(pattern, \"####@###.###\", new_text)\n",
    "print(\"-------------- Redacted email Addresses --------------\")\n",
    "print(new_text)"
   ]
  },
  {
   "cell_type": "markdown",
   "id": "6b4dfc65-32aa-4247-8466-76bb0638c841",
   "metadata": {},
   "source": [
    "#### Redact social security numbers\n",
    "Our current **input doesn't have** any **social security numbers**, but **if** the **pattern doesn't match**, we simply **get** the **same text back**."
   ]
  },
  {
   "cell_type": "code",
   "execution_count": null,
   "id": "141bc22d-bb6c-442b-b347-1550d3c72ab3",
   "metadata": {},
   "outputs": [],
   "source": [
    "pattern = r\"\\d{3}-\\d{2}-\\d{4}\""
   ]
  },
  {
   "cell_type": "code",
   "execution_count": null,
   "id": "80bfdde6-8443-40d3-ba2e-707335dbe0fd",
   "metadata": {},
   "outputs": [],
   "source": [
    "new_text = re.sub(pattern, \"###-##-####\", new_text)\n",
    "print(\"-------------- Redacted social security numbers --------------\")\n",
    "print(new_text)"
   ]
  },
  {
   "cell_type": "markdown",
   "id": "123a7d1f-69f5-412d-a8e3-0bd02376799b",
   "metadata": {},
   "source": [
    "# Parsing Logs\n",
    "Parsing logs to look for specific information is another common usage of regular expressions. **There are logs of every type, shape, and size**. **Some** are **very structured** in format, and **others** allow for more **free form text**. "
   ]
  },
  {
   "cell_type": "markdown",
   "id": "c97284ec-2a22-436b-9104-093fb7cda369",
   "metadata": {},
   "source": [
    "## Parsing CloudWatch Logs\n",
    "As an example, we will look at AWS CLoudWatch logs. Even within CloudWatch, each log will have their own formats. For this example, we will look at logs for AWS CodeBuild. I have downloaded **CloudWatch log files for the \"Tucker Pet Adoption\" application CodeBuild Project**. **Tucker Pet Adoption** is an application which **was used in Developer Fundamentals 1 as an example for DevOps**. In particular, the logs are for the **build phase** of the project deployment.\n"
   ]
  },
  {
   "cell_type": "markdown",
   "id": "e2e77755-2ff3-4d81-8faf-11bad86bf211",
   "metadata": {},
   "source": [
    "### Input Data"
   ]
  },
  {
   "cell_type": "code",
   "execution_count": null,
   "id": "f103d8f7-2bd5-4fb1-bf6f-ce4ca9191d93",
   "metadata": {},
   "outputs": [],
   "source": [
    "# log file name\n",
    "log_file_name = r\"data\\TuckerPetAdoptionBuildProject.log\""
   ]
  },
  {
   "cell_type": "code",
   "execution_count": null,
   "id": "000cc596-b3c4-4d38-a319-46825ddc30fc",
   "metadata": {},
   "outputs": [],
   "source": [
    "# read log file lines\n",
    "log_file = open(log_file_name, 'r')\n",
    "log_lines = log_file.readlines()\n",
    "log_file.close()"
   ]
  },
  {
   "cell_type": "code",
   "execution_count": null,
   "id": "80de91ac-b836-40eb-9790-25b6912e7d31",
   "metadata": {},
   "outputs": [],
   "source": [
    "# print the first 10 lines\n",
    "for i in range(10):\n",
    "    print(log_lines[i])"
   ]
  },
  {
   "cell_type": "markdown",
   "id": "7c31c68e-159e-4b24-8916-9200efb078bc",
   "metadata": {},
   "source": [
    "### Patterns used\n",
    "The patterns used will obviously depend on what is it that I'm interested looking for in the log. **For my particular example**, let's **assume** I was having **occasional issues** with my the build. The application in question is a **NodeJS based application**, so the **npm tool critical in the build process**. Therefore, the **pattern** I'm using **looks for warnings and errors for npm**.\n",
    "- Pattern to look for npm warnings and errors - \"npm\\s(ERR|WARN)\""
   ]
  },
  {
   "cell_type": "markdown",
   "id": "a9181222-d7e8-4b68-84f9-f44359df63ca",
   "metadata": {},
   "source": [
    "### Pattern Application"
   ]
  },
  {
   "cell_type": "code",
   "execution_count": null,
   "id": "dad0db75-db7d-4c06-8afb-12bfbe974cf8",
   "metadata": {},
   "outputs": [],
   "source": [
    "# RegEx search pattern\n",
    "pattern = r\"npm\\s(ERR|WARN)\""
   ]
  },
  {
   "cell_type": "code",
   "execution_count": null,
   "id": "7f3842d6-8b74-46fb-b813-86f23e867f43",
   "metadata": {},
   "outputs": [],
   "source": [
    "# iterate through log lines\n",
    "for line in log_lines:\n",
    "    # apply RE to each line\n",
    "    result = re.search(pattern, line)\n",
    "    if (result):\n",
    "        print(line)"
   ]
  },
  {
   "cell_type": "markdown",
   "id": "b6bda8d2-b56a-40b1-af30-a2b52fa97547",
   "metadata": {},
   "source": [
    "#### Tweaking the pattern\n",
    "Looking at the data, **I see** that **all the warnings** are **related to deprecated libraries**. This **probably wouldn't cause a build to fail** at this.\n",
    "\n",
    "So it's **not uncommon to update the pattern to focus on different areas**. So we'll **tweak** the **pattern to remove** any **matches that include \"deprecated\"** after the match.\n",
    "- Updated pattern to remove \"deprecated\" - \"npm\\s(ERR|WARN)(?! deprecated)\"\n",
    "\n",
    "This is **using** an **advanced feature called** a **\"Negative Lookahead\"**. That's what you see in the *\"(?! deprecated)\"* expression."
   ]
  },
  {
   "cell_type": "markdown",
   "id": "17cd506b-b8bb-4485-bd44-c3be91a91c6a",
   "metadata": {},
   "source": [
    "### Pattern Application"
   ]
  },
  {
   "cell_type": "code",
   "execution_count": null,
   "id": "45c1f428-b94c-4078-b966-565dad5bb5bb",
   "metadata": {},
   "outputs": [],
   "source": [
    "# RegEx search pattern\n",
    "pattern = r\"npm\\s(ERR|WARN)(?! deprecated)\""
   ]
  },
  {
   "cell_type": "code",
   "execution_count": null,
   "id": "01b698d5-81e8-487d-b129-3e534c0c024d",
   "metadata": {},
   "outputs": [],
   "source": [
    "# iterate through log lines\n",
    "for line in log_lines:\n",
    "    # apply RE to each line\n",
    "    result = re.search(pattern, line)\n",
    "    if (result):\n",
    "        print(line)"
   ]
  },
  {
   "cell_type": "markdown",
   "id": "defa7004-64e0-4b0d-9f47-96f7c428e8f9",
   "metadata": {},
   "source": [
    "### Final observations\n",
    "**After removing warnings for deprecated features**, we are **only left with errors**, which seem to be **related to issues opening a log file**. This would lead me to look at **potential issues with disk space**, or previous **build processes that didn't complete gracefully**. \n",
    "\n",
    "Based on the timestamp on the file, it looks like this log is from March 2024, so at this point it's not something we can look and troubleshoot in detail. But hopefully this provided an example of how we can use the pattern matching to zero in on specific areas of interest."
   ]
  },
  {
   "cell_type": "markdown",
   "id": "a0c30c43-7b35-45a1-9a4b-aa86f73d9325",
   "metadata": {},
   "source": [
    "# <span style=\"color:blue\">OPTIONAL FOR REVIEW</span>"
   ]
  },
  {
   "cell_type": "markdown",
   "id": "489812d8-659b-44cd-b39a-43fa9e236809",
   "metadata": {},
   "source": [
    "## Parsing API Gateway Access Logs\n",
    "**When working with REST APIs**, it is very **important to understand what requests are being made, where they are coming from, and whether the request was sucessfull**. **API Gateway provides** the ability to create **access logs** that will log basic information for every request. We will look at real access log from an educational application used on other AWS classes.\n",
    "\n",
    "We **will show multiple examples of parsing logs** with regular expressions, based on ficticious scenarios. The scenarios will look for:\n",
    "- **Filter** a request **based on location**\n",
    "- **Filter** requests **based on the HTTP status code**\n",
    "- **Filter** requests **based on API resource called**"
   ]
  },
  {
   "cell_type": "markdown",
   "id": "da88b007-4bc8-4192-ba3d-21ecb16a7ef4",
   "metadata": {},
   "source": [
    "### Input Data"
   ]
  },
  {
   "cell_type": "code",
   "execution_count": null,
   "id": "fa7240bb-db14-439e-bfd4-9ccfff2d6b09",
   "metadata": {},
   "outputs": [],
   "source": [
    "# log file name\n",
    "log_file_name = r\"data\\api_gateway_accesss_log.log\""
   ]
  },
  {
   "cell_type": "code",
   "execution_count": null,
   "id": "26ab4e21-77d6-4654-acc9-ee974c01375a",
   "metadata": {},
   "outputs": [],
   "source": [
    "# read log file lines\n",
    "log_file = open(log_file_name, 'r')\n",
    "log_lines = log_file.readlines()\n",
    "log_file.close()"
   ]
  },
  {
   "cell_type": "code",
   "execution_count": null,
   "id": "da1a1b22-a5ab-49b2-b5f8-01bd92e30e6f",
   "metadata": {},
   "outputs": [],
   "source": [
    "# print the first 10 lines\n",
    "for i in range(10):\n",
    "    print(log_lines[i])"
   ]
  },
  {
   "cell_type": "markdown",
   "id": "5026d527-a28e-4d93-8bbc-d3af49c488fa",
   "metadata": {},
   "source": [
    "### Patterns to filter based on request location\n",
    "**In order to determine the source of the REST API call**, and common mechanism is to **look at the IP address**. In most cases that should provide the country of origin. **In our scenario**, we'll assume we were trying to **look for calls originating outside the United States**, to determine our international adoption.\n",
    "\n",
    "For my example, I used a VPN to original calls from **Brazil, Turkey, India, China, and the Ukraine**. This was a random selection based on no particular reason. I then looked up the IP address to match the countries they originated from."
   ]
  },
  {
   "cell_type": "markdown",
   "id": "36cbd2ad-51db-4efc-b4b9-8605e5e779f1",
   "metadata": {},
   "source": [
    "#### Patterns used\n",
    "**DISLAIMER**: The patterns below are based on an unnoficial lookup, and only represent a small sampling of IP addresses for these countries. **This should not be used in any way as a complete or accurate way to map IP addresses to these countries**.\n",
    "\n",
    "From my sampling, I created the following rules from matching locations:\n",
    "- API calls from **Brazil** = r\"193\\\\.\\d{1,3}\\\\.\\d{1,3}\\\\.\\d{1,3}\"\n",
    "- API calls from **India** = r\"81\\\\.\\d{1,3}\\\\.\\d{1,3}\\\\.\\d{1,3}\"\n",
    "- API calls from **China** = r\"(111|123)\\\\.\\d{1,3}\\.\\d{1,3}\\\\.\\d{1,3}\"\n",
    "- API calls from **Ukraine** = r\"37\\\\.\\d{1,3}\\\\.\\d{1,3}\\\\.\\d{1,3}\"\n",
    "- API calls from **Turkey** = r\"195\\\\.\\d{1,3}\\\\.\\d{1,3}\\\\.\\d{1,3}\""
   ]
  },
  {
   "cell_type": "markdown",
   "id": "82ed823b-e0cd-4175-9649-87b698fcda4c",
   "metadata": {},
   "source": [
    "#### Pattern Application"
   ]
  },
  {
   "cell_type": "markdown",
   "id": "12a6772d-6a1b-44fd-b840-45ab922c52ae",
   "metadata": {},
   "source": [
    "##### API calls from India"
   ]
  },
  {
   "cell_type": "code",
   "execution_count": null,
   "id": "23ea1cbc-b7b4-4d7a-b8da-5d66f1cf6a6f",
   "metadata": {},
   "outputs": [],
   "source": [
    "# RegEx search pattern\n",
    "pattern = r\"81.\\d{1,3}.\\d{1,3}.\\d{1,3}\""
   ]
  },
  {
   "cell_type": "code",
   "execution_count": null,
   "id": "44d790ac-8f24-4b5a-8fe6-8ffa23b04756",
   "metadata": {},
   "outputs": [],
   "source": [
    "# iterate through log lines\n",
    "for line in log_lines:\n",
    "    # apply RE to each line\n",
    "    result = re.search(pattern, line)\n",
    "    if (result):\n",
    "        print(line)"
   ]
  },
  {
   "cell_type": "markdown",
   "id": "183acdfd-ce27-4230-a55e-577a5910cf55",
   "metadata": {},
   "source": [
    "**Hold on** ... **I see** some **calls from IP addresses** that do **not start with 81. For instance**:\n",
    "```\n",
    "| 1713481524320 | { \"requestId\":\"cd09a709-7933-4803-b886-bcd8a12e14d7\", \"ip\": \"89.248.171.23\", \"caller\":\"-\", \"user\":\"-\",\"requestTime\":\"18/Apr/2024:23:05:24 +0000\", \"httpMethod\":\"GET\",\"resourcePath\":\"/moviesummary\", \"status\":\"200\",\"protocol\":\"HTTP/1.1\", \"responseLength\":\"4478\" }     | 8cdc959f069244cb30b8ad47bce0771d\n",
    "```\n",
    "**What gives?**\n",
    "\n",
    "Looking closer at my **pattern, \"81.\\d{1,3}.\\d{1,3}.\\d{1,3}\"**, it **looks right, but** I made a mistake. I used the \".\" to represent the dot in the IP address. But **I forgot that \".\" has a very special meaning in RegEx**, which is to **match any item**. So basically I ended up macthing any sequence of numbers that had an 81 in it. If you look at that log line, you'll see that the very first time stamp. \"17134**81**524320\" has the number **81** in it, followed by other numbers.\n",
    "\n",
    "The fix is simply to **use \"\\\\\" to escape the dots**, and have them be interpreted literally."
   ]
  },
  {
   "cell_type": "code",
   "execution_count": null,
   "id": "638e0950-a7c3-4eae-b428-b48fba97ff6a",
   "metadata": {},
   "outputs": [],
   "source": [
    "# RegEx search pattern\n",
    "pattern = r\"81\\.\\d{1,3}\\.\\d{1,3}\\.\\d{1,3}\""
   ]
  },
  {
   "cell_type": "code",
   "execution_count": null,
   "id": "f3f65559-0160-47b4-86e3-f6e4c3f36484",
   "metadata": {},
   "outputs": [],
   "source": [
    "# iterate through log lines\n",
    "for line in log_lines:\n",
    "    # apply RE to each line\n",
    "    result = re.search(pattern, line)\n",
    "    if (result):\n",
    "        print(line)"
   ]
  },
  {
   "cell_type": "markdown",
   "id": "7f5131c8-6a22-47f6-9ae1-106878b8b8bb",
   "metadata": {},
   "source": [
    "**Much better!**"
   ]
  },
  {
   "cell_type": "markdown",
   "id": "ca9447b6-783c-4110-878c-db82016ec05b",
   "metadata": {},
   "source": [
    "##### API calls from Brazil"
   ]
  },
  {
   "cell_type": "code",
   "execution_count": null,
   "id": "353c905d-dc09-4e04-b357-a28ad62d3bc7",
   "metadata": {},
   "outputs": [],
   "source": [
    "# RegEx search pattern\n",
    "pattern = r\"193\\.\\d{1,3}\\.\\d{1,3}\\.\\d{1,3}\""
   ]
  },
  {
   "cell_type": "code",
   "execution_count": null,
   "id": "967e7a0a-35de-4d3d-848f-63b62bd9e1fe",
   "metadata": {},
   "outputs": [],
   "source": [
    "# iterate through log lines\n",
    "for line in log_lines:\n",
    "    # apply RE to each line\n",
    "    result = re.search(pattern, line)\n",
    "    if (result):\n",
    "        print(line)"
   ]
  },
  {
   "cell_type": "markdown",
   "id": "5948b1a3-1e32-4a8b-ae9b-3484ebe27986",
   "metadata": {},
   "source": [
    "##### API calls from China"
   ]
  },
  {
   "cell_type": "code",
   "execution_count": null,
   "id": "3eca6c4b-6717-4725-9aab-6758d788fc2e",
   "metadata": {},
   "outputs": [],
   "source": [
    "# RegEx search pattern\n",
    "pattern = r\"(111|123)\\.\\d{1,3}\\.\\d{1,3}\\.\\d{1,3}\""
   ]
  },
  {
   "cell_type": "code",
   "execution_count": null,
   "id": "abf475e5-4c81-4985-8be5-a7a04b1608df",
   "metadata": {},
   "outputs": [],
   "source": [
    "# iterate through log lines\n",
    "for line in log_lines:\n",
    "    # apply RE to each line\n",
    "    result = re.search(pattern, line)\n",
    "    if (result):\n",
    "        print(line)"
   ]
  },
  {
   "cell_type": "markdown",
   "id": "ea85ee0d-2728-406e-803e-e0612788d649",
   "metadata": {},
   "source": [
    "##### API calls from Ukraine or Turkey\n",
    "Just to show we can, let's group both Turkey and Ukraine together. Perhaps we were looking for calls from Eastern Europe."
   ]
  },
  {
   "cell_type": "code",
   "execution_count": null,
   "id": "3e753a08-8766-483c-a805-4b01a3f4b68a",
   "metadata": {},
   "outputs": [],
   "source": [
    "# RegEx search pattern\n",
    "pattern = r\"37\\.\\d{1,3}\\.\\d{1,3}\\.\\d{1,3}|195\\.\\d{1,3}\\.\\d{1,3}.\\d{1,3}\""
   ]
  },
  {
   "cell_type": "code",
   "execution_count": null,
   "id": "0cd13e71-9a6b-4644-aad8-308e9a1b27a3",
   "metadata": {},
   "outputs": [],
   "source": [
    "# iterate through log lines\n",
    "for line in log_lines:\n",
    "    # apply RE to each line\n",
    "    result = re.search(pattern, line)\n",
    "    if (result):\n",
    "        print(line)"
   ]
  },
  {
   "cell_type": "markdown",
   "id": "e8f089e9-fa37-4243-a2a3-4cc4294a4db4",
   "metadata": {},
   "source": [
    "### Patterns to filter based on HTTP return\n",
    "As you can see in the log examples, there is field from the response that includes the status. Generally speaking, with an **HTTP request**, a **response in the 200 range** is **considered a success**. So let's **look for responses** that do **NOT have a status starting with 2**. So essentially we are looking for failed requests.\n",
    "- Pattern for non 2XX responses: '\"status\":\"[^2]'\n",
    "\n",
    "**Two things to notice** in that pattern:\n",
    "- Because I **wanted to match the literal double quote** character (\") in the log, I **used a single quote to specify the pattern**. Another option would have been to escape the double quotes with a backslash.\n",
    "- The **[^2] expression matches anything which is NOT a number 2**. That **can be confusiong because \"^\" is also used as an anchor** for the beginning of a sentence in other patterns. **But when placed** in the **beginning of a set**, it has the **property of negating a set**."
   ]
  },
  {
   "cell_type": "markdown",
   "id": "e45b316a-b1e7-439a-ac78-3a4e302c68d5",
   "metadata": {},
   "source": [
    "#### Pattern Application"
   ]
  },
  {
   "cell_type": "code",
   "execution_count": null,
   "id": "0ef389da-7d80-4c6c-bde0-b3ac6715097c",
   "metadata": {},
   "outputs": [],
   "source": [
    "# RegEx search pattern\n",
    "pattern = r'\"status\":\"[^2]'"
   ]
  },
  {
   "cell_type": "code",
   "execution_count": null,
   "id": "68f2618e-d2c3-49b4-a52c-90f8428418a7",
   "metadata": {},
   "outputs": [],
   "source": [
    "# iterate through log lines\n",
    "for line in log_lines:\n",
    "    # apply RE to each line\n",
    "    result = re.search(pattern, line)\n",
    "    if (result):\n",
    "        print(line)"
   ]
  },
  {
   "cell_type": "markdown",
   "id": "e9d585c4-282c-4654-8500-1c0849e434e0",
   "metadata": {},
   "source": [
    "#### Observations\n",
    "At this point, I would **examine** these **failed calls** to try **to understand a potential problem**. Looking up the **status code 403**, I would find that it is used to indicate that a **request was made without propper access**. It's **also known as a \"Forbidden\" response**. That is in fact something important to check, because it implies a possiple malicious attack. In my case, those were simulated by me, requesting resources I knew were not valid, so we are all good :-)\n",
    "\n"
   ]
  },
  {
   "cell_type": "markdown",
   "id": "1381b84d-b233-46dc-9a65-ccddb631ca8c",
   "metadata": {},
   "source": [
    "### Patterns to filter based on the resource requested\n",
    "In an **REST API**, we **use HTTP requests to get or add information on specific resources**. **Multiple resources can be supported by the same API**. In this example, we will **assume** we are **looking specifically for the \"movies\" resource**. Just to make it a little more interesting, **also assume** we were **trying to find accesses** originating **from a specific IP address** (4.105.94.144 in this example). Perhaps there was a **report of an unusual high number of calls** to the resource **from that IP**, which **could indicate a denial of service attack**.\n",
    "- Pattern for specific resource from a specific IP: '\"74.105.94.144\"[\\w\\W]*\"resourcePath\":\"/movies\"'"
   ]
  },
  {
   "cell_type": "markdown",
   "id": "15e61af0-9380-498f-be59-aaad91d7d46c",
   "metadata": {},
   "source": [
    "#### Pattern Application"
   ]
  },
  {
   "cell_type": "code",
   "execution_count": null,
   "id": "50c601b8-bed3-4550-a0e2-e7c5018102b6",
   "metadata": {},
   "outputs": [],
   "source": [
    "# RegEx search pattern\n",
    "pattern = r'\"ip\": \"74.105.94.144\".*\"resourcePath\":\"/movies\"'"
   ]
  },
  {
   "cell_type": "code",
   "execution_count": null,
   "id": "9af79474-ea83-4b41-bc69-24618be87e55",
   "metadata": {},
   "outputs": [],
   "source": [
    "# iterate through log lines\n",
    "for line in log_lines:\n",
    "    # apply RE to each line\n",
    "    result = re.search(pattern, line)\n",
    "    if (result):\n",
    "        print(line)"
   ]
  },
  {
   "cell_type": "markdown",
   "id": "608f6cae-5b02-474f-8ce9-ab79d51899d2",
   "metadata": {},
   "source": [
    "#### Observations\n",
    "I do **see a cluster of calls** on 9/11/2024, so **maybe there is any issue ...**\n",
    "\n",
    "Fortunately in this case, I know the nefarious character making those calls was me. **That's my IP address in good old New Jersey** :-)"
   ]
  }
 ],
 "metadata": {
  "kernelspec": {
   "display_name": "Python 3 (ipykernel)",
   "language": "python",
   "name": "python3"
  },
  "language_info": {
   "codemirror_mode": {
    "name": "ipython",
    "version": 3
   },
   "file_extension": ".py",
   "mimetype": "text/x-python",
   "name": "python",
   "nbconvert_exporter": "python",
   "pygments_lexer": "ipython3",
   "version": "3.9.2"
  }
 },
 "nbformat": 4,
 "nbformat_minor": 5
}
