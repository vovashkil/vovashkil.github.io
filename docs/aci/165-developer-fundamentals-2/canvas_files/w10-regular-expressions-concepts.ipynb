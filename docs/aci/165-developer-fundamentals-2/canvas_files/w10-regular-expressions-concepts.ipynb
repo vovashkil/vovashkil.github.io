{
 "cells": [
  {
   "cell_type": "markdown",
   "id": "0dfe7801-ffd9-4412-b65c-ba848478fd0e",
   "metadata": {},
   "source": [
    "# <span style=\"color:blue\"> Regular Expressions\n",
    "AWS CLOUD INSTITUTE: PROVIDED FOR EDUCATIONAL INSTRUCTIONAL PURPOSES ONLY."
   ]
  },
  {
   "cell_type": "markdown",
   "id": "93922efb-177c-4f03-82f4-ae8b527815ae",
   "metadata": {},
   "source": [
    "# Regular expressions introduction\n",
    "**Regular expressions** make use of **literal characters and special characters** to match patterns in strings. We will examnine a number of them here through examples."
   ]
  },
  {
   "cell_type": "markdown",
   "id": "1b810b77-50e9-422b-a5f3-ed6c1fc0b203",
   "metadata": {},
   "source": [
    "## Regular expressions in Python\n",
    "**Python's built-in re module**, part of the Python Standard Library, provides a **comprehensive suite of functions** for working with **regular expressions**. You can view the **full documention** for the re module **here: https://docs.python.org/3/library/re.html**"
   ]
  },
  {
   "cell_type": "code",
   "execution_count": null,
   "id": "962d9a59-7143-441b-b255-9cd2b9735260",
   "metadata": {},
   "outputs": [],
   "source": [
    "import re"
   ]
  },
  {
   "cell_type": "markdown",
   "id": "4aef3812-e47d-488d-a062-b3b6075acbc9",
   "metadata": {},
   "source": [
    "### Python re functions\n",
    "There are a number of functions supported in the re module. We will look more into them later, but for now, we'll introduce a few that will be used in our first few demos:\n",
    "- **re.search** - Returns the **first occurrence of a pattern** anywhere in the target string.\n",
    "- **re.findall** - Returns a **list containing all matches** in the target string.\n",
    "\n",
    "For most of the examples I'll use the findall function, because it let's me show examples of multiple matches in the same target string. I'll also use search later on."
   ]
  },
  {
   "cell_type": "markdown",
   "id": "c8de526f-d3e4-48b8-ba8a-701af35577d5",
   "metadata": {},
   "source": [
    "### Match Object\n",
    "Many of the **Python re functions**, including *search*, will **return** one or more **Match object** in their result. The Match object encpasulates the information about the search and the result.\n",
    "\n",
    "The **Match object** has functions to return these **key properties**:\n",
    "- **span()** - returns a **tuple containing** the **start and end positions of** the **match**\n",
    "- **string** - returns the **string passed** into the function\n",
    "- **group()** - returns the **part(s) of** the **string where** the **match was found**\n",
    "\n",
    "We will discuss groups later in the notebook."
   ]
  },
  {
   "cell_type": "markdown",
   "id": "9fbbfb67-80e1-465e-a617-30e9a501cc22",
   "metadata": {},
   "source": [
    "## Refresher - Python Raw Strings\n",
    "We will see later that there are **many cases** where we **need to use** the **backslash character (\"\\\\\")** to **express** different **things in regular expressions**. The problem is, **\"\\\\\"** is **also used for many things in Python strings**, such as indicating new lines (\"\\\\n\"), tabs (\"\\\\t\") or escapaing other special characters. In fact a plain \"\\\\\" won't even print in a Python string (you would need to use \"\\\\\\\\\\\\\").\n",
    "\n",
    "**In order** to have the **\"\\\\\" to be left as is**, so it can be used in RegEx expressions, we **use** a the Python feature of a **\"raw string\"**. This is not something specific to regular expressions, but it's useful here. In a raw string, all characters are interpreted literally. **Raw strings** are **denoted with an \"r\" preceeding the string**, so ***r\"Hello\"*** is a raw string.\n",
    "\n",
    "Let's look at some examples."
   ]
  },
  {
   "cell_type": "code",
   "execution_count": null,
   "id": "4bc065de-e513-4a65-bbee-2c8ed768fe1f",
   "metadata": {},
   "outputs": [],
   "source": [
    "# string with new line\n",
    "regular_string = \"Hello\\nMy name is Fernando\"\n",
    "raw_string = r\"Hello\\nMy name is Fernando\"\n",
    "\n",
    "# print regular and raw strings\n",
    "print(regular_string)\n",
    "print(\"----------------------\")\n",
    "print(raw_string)"
   ]
  },
  {
   "cell_type": "code",
   "execution_count": null,
   "id": "253d68de-11ac-4496-93a5-5118ad8def87",
   "metadata": {},
   "outputs": [],
   "source": [
    "# String with \\b, which has a special meaning for regular expressions. \n",
    "regular_string = \"In regular expressions, \\b represents the beginning of a word\"\n",
    "raw_string = r\"In regular expressions, \\b represents the beginning of a word\"\n",
    "\n",
    "# print regular and raw strings\n",
    "print(regular_string)\n",
    "print(\"----------------------\")\n",
    "print(raw_string)"
   ]
  },
  {
   "cell_type": "markdown",
   "id": "b0636bc9-8946-4393-a705-d54992b9e39c",
   "metadata": {},
   "source": [
    "In most cases, I'm using regular strings in my examples. But from time to time, as needed, I also use raw strings. Generally I use it when I need to use backslash in my pattern."
   ]
  },
  {
   "cell_type": "markdown",
   "id": "0f2124e8-43a4-4a79-92a7-5fb659a08bd4",
   "metadata": {},
   "source": [
    "# Regular Expression Constructs\n",
    "We will look at the various constructs used for regular expressions using examples. In most cases, we'll look at them individually. Later, we'll look at various examples of combining them to make complex patterns."
   ]
  },
  {
   "cell_type": "markdown",
   "id": "28e4d5bb-386a-4f00-8dfe-57bc90ac502f",
   "metadata": {},
   "source": [
    "## Literal Characters\n",
    "Literal characters, also known as ordinary characters, match exactly what they represent and have a literal meaning in RegEx."
   ]
  },
  {
   "cell_type": "markdown",
   "id": "fb56c035-285c-408b-bcb7-95b2759c66ec",
   "metadata": {},
   "source": [
    "#### Examples"
   ]
  },
  {
   "cell_type": "markdown",
   "id": "5fb662f4-370d-4d07-a566-458b6c087d8d",
   "metadata": {},
   "source": [
    "##### Success case"
   ]
  },
  {
   "cell_type": "code",
   "execution_count": null,
   "id": "7d348c5e-8a43-4bf8-8d1a-a9e975e97988",
   "metadata": {},
   "outputs": [],
   "source": [
    "# Target text\n",
    "target_text = \"Outbreak\"\n",
    "\n",
    "# RegEx search pattern\n",
    "pattern = \"break\"\n",
    "\n",
    "# Find all occurrances of pattern and check result\n",
    "result = re.findall(pattern, target_text)\n",
    "if (result):\n",
    "    print(f'Found \"{pattern}\" in \"{target_text}\"')\n",
    "    print(f'- Matched substrings: {result}')\n",
    "else:\n",
    "    print(f'Did NOT find \"{pattern}\" in \"{target_text}\"')"
   ]
  },
  {
   "cell_type": "markdown",
   "id": "4c8da13d-17b5-4a23-a9c2-744567f9cd1c",
   "metadata": {},
   "source": [
    "##### Fail case"
   ]
  },
  {
   "cell_type": "code",
   "execution_count": null,
   "id": "d4ef87a6-79e6-446d-8f58-b90d3dde0b8e",
   "metadata": {},
   "outputs": [],
   "source": [
    "# Target text\n",
    "target_text = \"Coma\"\n",
    "\n",
    "# RegEx search pattern\n",
    "pattern = \"Comma\"\n",
    "\n",
    "# Find all occurrances of pattern and check result\n",
    "result = re.findall(pattern, target_text)\n",
    "if (result):\n",
    "    print(f'Found \"{pattern}\" in \"{target_text}\"')\n",
    "    print(f'- Matched substrings: {result}')\n",
    "else:\n",
    "    print(f'Did NOT find \"{pattern}\" in \"{target_text}\"')"
   ]
  },
  {
   "cell_type": "markdown",
   "id": "a1bc99f3-db33-4839-bcd1-200c3cdc9bfe",
   "metadata": {},
   "source": [
    "### Case sensitivity\n",
    "**By default, searches will be case sensitive**. When we look at re flags later, we'll see how we can change that. But for now, we can assume our examples are case sensitive."
   ]
  },
  {
   "cell_type": "code",
   "execution_count": null,
   "id": "22f00f7f-315b-4e2e-9ceb-8ccbed0daa06",
   "metadata": {},
   "outputs": [],
   "source": [
    "# Target text\n",
    "target_text = \"Replay\"\n",
    "\n",
    "# RegEx search pattern\n",
    "pattern = \"replay\"\n",
    "\n",
    "# Find all occurrances of pattern and check result\n",
    "result = re.findall(pattern, target_text)\n",
    "if (result):\n",
    "    print(f'Found \"{pattern}\" in \"{target_text}\"')\n",
    "    print(f'- Matched substrings: {result}')\n",
    "else:\n",
    "    print(f'Did NOT find \"{pattern}\" in \"{target_text}\"')"
   ]
  },
  {
   "cell_type": "markdown",
   "id": "92838d6b-7fd8-43af-8232-ac4105217c5d",
   "metadata": {},
   "source": [
    "## Character Sets\n",
    "To define a character set, place a group of characters inside square brackets. They will match any one of these characters in the text. "
   ]
  },
  {
   "cell_type": "markdown",
   "id": "802834bd-c367-4217-b537-5e230b6696ca",
   "metadata": {},
   "source": [
    "### Simple sets"
   ]
  },
  {
   "cell_type": "markdown",
   "id": "fea59675-bbb3-4913-b8f5-1e3f888dc1fe",
   "metadata": {},
   "source": [
    "#### Examples"
   ]
  },
  {
   "cell_type": "markdown",
   "id": "9ad69bb2-df7c-4f9d-9496-c56041266adf",
   "metadata": {},
   "source": [
    "##### Success case"
   ]
  },
  {
   "cell_type": "code",
   "execution_count": null,
   "id": "5bc3fbda-522e-4056-b413-5eb0447fef25",
   "metadata": {},
   "outputs": [],
   "source": [
    "# Target text\n",
    "target_text = \"The Dragon Reborn\"\n",
    "\n",
    "# RegEx search pattern\n",
    "pattern = \"[Tgbx]\"\n",
    "\n",
    "# Find all occurrances of pattern and check result\n",
    "result = re.findall(pattern, target_text)\n",
    "if (result):\n",
    "    print(f'Found \"{pattern}\" in \"{target_text}\"')\n",
    "    print(f'- Matched substrings: {result}')\n",
    "else:\n",
    "    print(f'Did NOT find \"{pattern}\" in \"{target_text}\"')"
   ]
  },
  {
   "cell_type": "markdown",
   "id": "e722575e-a064-482d-8a40-2c993eea2e1d",
   "metadata": {},
   "source": [
    "##### Fail case"
   ]
  },
  {
   "cell_type": "code",
   "execution_count": null,
   "id": "2519aabc-047d-4b9e-9c17-9fb0d1331fb9",
   "metadata": {},
   "outputs": [],
   "source": [
    "# Target text\n",
    "target_text = \"The Dragon Reborn\"\n",
    "\n",
    "# RegEx search pattern\n",
    "pattern = \"[ABC]\"\n",
    "\n",
    "# Find all occurrances of pattern and check result\n",
    "result = re.findall(pattern, target_text)\n",
    "if (result):\n",
    "    print(f'Found \"{pattern}\" in \"{target_text}\"')\n",
    "    print(f'- Matched substrings: {result}')\n",
    "else:\n",
    "    print(f'Did NOT find \"{pattern}\" in \"{target_text}\"')"
   ]
  },
  {
   "cell_type": "markdown",
   "id": "b0db5d70-f116-4d71-bcf9-964c58bbc646",
   "metadata": {},
   "source": [
    "### Mixing cases and digits"
   ]
  },
  {
   "cell_type": "markdown",
   "id": "2ac1c812-f82e-4317-a078-49a00c482079",
   "metadata": {},
   "source": [
    "#### Examples"
   ]
  },
  {
   "cell_type": "code",
   "execution_count": null,
   "id": "1609aa1c-e135-447d-9ea2-210ceca7be83",
   "metadata": {},
   "outputs": [],
   "source": [
    "# Target text\n",
    "target_text = \"4.50 from Paddington\"\n",
    "\n",
    "# RegEx search pattern\n",
    "pattern = \"[4fqd]\"\n",
    "\n",
    "# Find all occurrances of pattern and check result\n",
    "result = re.findall(pattern, target_text)\n",
    "if (result):\n",
    "    print(f'Found \"{pattern}\" in \"{target_text}\"')\n",
    "    print(f'- Matched substrings: {result}')\n",
    "else:\n",
    "    print(f'Did NOT find \"{pattern}\" in \"{target_text}\"')"
   ]
  },
  {
   "cell_type": "code",
   "execution_count": null,
   "id": "2b9a6b21-caa3-4138-92b0-cac7a6f96246",
   "metadata": {},
   "outputs": [],
   "source": [
    "# Target text\n",
    "target_text = \"Ysabel\"\n",
    "\n",
    "# RegEx search pattern\n",
    "pattern = \"[Y1BLe]\"\n",
    "\n",
    "# Find all occurrances of pattern and check result\n",
    "result = re.findall(pattern, target_text)\n",
    "if (result):\n",
    "    print(f'Found \"{pattern}\" in \"{target_text}\"')\n",
    "    print(f'- Matched substrings: {result}')\n",
    "else:\n",
    "    print(f'Did NOT find \"{pattern}\" in \"{target_text}\"')"
   ]
  },
  {
   "cell_type": "markdown",
   "id": "e0018649-2f15-47a3-b4cf-7cb9e2f6e1ab",
   "metadata": {},
   "source": [
    "### Combining sets and literals in longer patterns\n",
    "In the previous examples, we were matching a single character based on a set. But we can look for a longer string pattern based on a combination of sets and literals."
   ]
  },
  {
   "cell_type": "markdown",
   "id": "0a1c7c75-e839-44da-8ea3-9f652d367d6e",
   "metadata": {},
   "source": [
    "#### Examples"
   ]
  },
  {
   "cell_type": "code",
   "execution_count": null,
   "id": "65ea52ab-dc4d-4e7f-8928-c4f62d833f9c",
   "metadata": {},
   "outputs": [],
   "source": [
    "# Target text\n",
    "target_text = \"Ready player one\"\n",
    "\n",
    "# RegEx search pattern\n",
    "pattern = \"pl[abc][wyz]er\"\n",
    "\n",
    "# Find all occurrances of pattern and check result\n",
    "result = re.findall(pattern, target_text)\n",
    "if (result):\n",
    "    print(f'Found \"{pattern}\" in \"{target_text}\"')\n",
    "    print(f'- Matched substrings: {result}')\n",
    "else:\n",
    "    print(f'Did NOT find \"{pattern}\" in \"{target_text}\"')"
   ]
  },
  {
   "cell_type": "code",
   "execution_count": null,
   "id": "346adaa2-a1b3-443c-9ea3-b1a3505b2dc2",
   "metadata": {},
   "outputs": [],
   "source": [
    "# Target text\n",
    "target_text = \"Elantris\"\n",
    "\n",
    "# RegEx search pattern\n",
    "pattern = \"[E123]lan[rst987]\"\n",
    "\n",
    "# Find all occurrances of pattern and check result\n",
    "result = re.findall(pattern, target_text)\n",
    "if (result):\n",
    "    print(f'Found \"{pattern}\" in \"{target_text}\"')\n",
    "    print(f'- Matched substrings: {result}')\n",
    "else:\n",
    "    print(f'Did NOT find \"{pattern}\" in \"{target_text}\"')"
   ]
  },
  {
   "cell_type": "markdown",
   "id": "273ae217-7420-45be-8c4f-e9aec8aa3ff1",
   "metadata": {},
   "source": [
    "## Character Ranges\n",
    "A character range is similar to a character set, but it simplifies the notation for common range of characters. "
   ]
  },
  {
   "cell_type": "markdown",
   "id": "8c082603-b3fb-4231-8f93-066f766e1a30",
   "metadata": {},
   "source": [
    "### Simple ranges"
   ]
  },
  {
   "cell_type": "markdown",
   "id": "5001a1e5-c988-44e0-899d-accc3a60db18",
   "metadata": {},
   "source": [
    "#### Examples"
   ]
  },
  {
   "cell_type": "code",
   "execution_count": null,
   "id": "83d07a08-2db8-4b9a-8758-1d2bd8f77632",
   "metadata": {},
   "outputs": [],
   "source": [
    "# Target text\n",
    "target_text = \"Dune\"\n",
    "\n",
    "# RegEx search pattern\n",
    "pattern = \"[A-Z]\"\n",
    "\n",
    "# Find all occurrances of pattern and check result\n",
    "result = re.findall(pattern, target_text)\n",
    "if (result):\n",
    "    print(f'Found \"{pattern}\" in \"{target_text}\"')\n",
    "    print(f'- Matched substrings: {result}')\n",
    "else:\n",
    "    print(f'Did NOT find \"{pattern}\" in \"{target_text}\"')"
   ]
  },
  {
   "cell_type": "code",
   "execution_count": null,
   "id": "64f8032d-2ebb-448f-8073-395b2bfb23b9",
   "metadata": {},
   "outputs": [],
   "source": [
    "# Target text\n",
    "target_text = \"2010: Odyssey Two\"\n",
    "\n",
    "# RegEx search pattern\n",
    "pattern = \"[0-9]\"\n",
    "\n",
    "# Find all occurrances of pattern and check result\n",
    "result = re.findall(pattern, target_text)\n",
    "if (result):\n",
    "    print(f'Found \"{pattern}\" in \"{target_text}\"')\n",
    "    print(f'- Matched substrings: {result}')\n",
    "else:\n",
    "    print(f'Did NOT find \"{pattern}\" in \"{target_text}\"')"
   ]
  },
  {
   "cell_type": "markdown",
   "id": "ee69feba-20f2-4393-bd99-2c7a13224303",
   "metadata": {},
   "source": [
    "### Combining ranges, sets, and literals"
   ]
  },
  {
   "cell_type": "markdown",
   "id": "780c0fff-7370-48f4-b57e-398a1a3d92b0",
   "metadata": {},
   "source": [
    "#### Examples"
   ]
  },
  {
   "cell_type": "code",
   "execution_count": null,
   "id": "db1bf930-d2e0-4eac-9b9a-27f2a9aed377",
   "metadata": {},
   "outputs": [],
   "source": [
    "# Target text\n",
    "target_text = \"The Martian\"\n",
    "\n",
    "# RegEx search pattern\n",
    "pattern = \"[A-Z]h[12345abcde] [A-Za-z]artia[a-z0-9]\"\n",
    "\n",
    "# Find all occurrances of pattern and check result\n",
    "result = re.findall(pattern, target_text)\n",
    "if (result):\n",
    "    print(f'Found \"{pattern}\" in \"{target_text}\"')\n",
    "    print(f'- Matched substrings: {result}')\n",
    "else:\n",
    "    print(f'Did NOT find \"{pattern}\" in \"{target_text}\"')"
   ]
  },
  {
   "cell_type": "markdown",
   "id": "d6c69c63-4280-4ab9-b5cd-f594a58223a9",
   "metadata": {},
   "source": [
    "## Negative Sets and Ranges ([^...])\n",
    "**Sometimes** you may **need to express** that a **pattern does NOT include a character, or set of characters**. You **can do** that by **using the format [^ ]**. Note that the \"^\" only has that behavior when used right after the opening \"[\", because we'll see \"^\" being used for a different purpose later."
   ]
  },
  {
   "cell_type": "markdown",
   "id": "c571f018-6dbf-4d99-a58f-68d0915d1182",
   "metadata": {},
   "source": [
    "### Negating a set"
   ]
  },
  {
   "cell_type": "markdown",
   "id": "dc91c3d2-fbed-4c48-a5d9-ee0d8e879962",
   "metadata": {},
   "source": [
    "#### Examples"
   ]
  },
  {
   "cell_type": "markdown",
   "id": "c39922ac-3a71-4cda-b77f-8430aa0c1aaa",
   "metadata": {},
   "source": [
    "##### Success case"
   ]
  },
  {
   "cell_type": "code",
   "execution_count": null,
   "id": "58bcd0be-eab3-4831-aa51-1b746ee34516",
   "metadata": {},
   "outputs": [],
   "source": [
    "# Target text\n",
    "target_text = \"Divergent\"\n",
    "\n",
    "# RegEx search pattern\n",
    "pattern = \"[^IA]iver\"\n",
    "\n",
    "# Find all occurrances of pattern and check result\n",
    "result = re.findall(pattern, target_text)\n",
    "if (result):\n",
    "    print(f'Found \"{pattern}\" in \"{target_text}\"')\n",
    "    print(f'- Matched substrings: {result}')\n",
    "else:\n",
    "    print(f'Did NOT find \"{pattern}\" in \"{target_text}\"')"
   ]
  },
  {
   "cell_type": "markdown",
   "id": "34df029a-7140-4821-8839-bfd6d39bb10f",
   "metadata": {},
   "source": [
    "**This worked** because the first \"D\" in Divergent was neither \"I\" or \"A\""
   ]
  },
  {
   "cell_type": "markdown",
   "id": "15806f77-51e2-4716-ba19-f1fd5df33474",
   "metadata": {},
   "source": [
    "##### Fail case"
   ]
  },
  {
   "cell_type": "code",
   "execution_count": null,
   "id": "34408570-372d-4691-adce-9e05fba90b3c",
   "metadata": {},
   "outputs": [],
   "source": [
    "# Target text\n",
    "target_text = \"Insurgent\"\n",
    "\n",
    "# RegEx search pattern\n",
    "pattern = \"[^IA]nsurg\"\n",
    "\n",
    "# Find all occurrances of pattern and check result\n",
    "result = re.findall(pattern, target_text)\n",
    "if (result):\n",
    "    print(f'Found \"{pattern}\" in \"{target_text}\"')\n",
    "    print(f'- Matched substrings: {result}')\n",
    "else:\n",
    "    print(f'Did NOT find \"{pattern}\" in \"{target_text}\"')"
   ]
  },
  {
   "cell_type": "markdown",
   "id": "2e312ee2-c593-4d0c-859a-22033db534b4",
   "metadata": {},
   "source": [
    "**This failed** because the first \"I\" in Insuregen was excluded by the [^IA] in the pattern."
   ]
  },
  {
   "cell_type": "markdown",
   "id": "5a3fcbb3-deb1-4e9e-9657-d56f2063c550",
   "metadata": {},
   "source": [
    "### Negating a range"
   ]
  },
  {
   "cell_type": "markdown",
   "id": "c0b117f0-435a-4734-b429-62792cbae05c",
   "metadata": {},
   "source": [
    "#### Examples"
   ]
  },
  {
   "cell_type": "markdown",
   "id": "5b69e47c-1e1c-454b-a2a1-02f53b332b9f",
   "metadata": {},
   "source": [
    "##### Success case"
   ]
  },
  {
   "cell_type": "code",
   "execution_count": null,
   "id": "4f313c29-1aeb-426f-8e1b-a5887fbe3268",
   "metadata": {},
   "outputs": [],
   "source": [
    "# Target text\n",
    "target_text = \"1984\"\n",
    "\n",
    "# RegEx search pattern\n",
    "pattern = \"[^A-Za-z]\"\n",
    "\n",
    "# Find all occurrances of pattern and check result\n",
    "result = re.findall(pattern, target_text)\n",
    "if (result):\n",
    "    print(f'Found \"{pattern}\" in \"{target_text}\"')\n",
    "    print(f'- Matched substrings: {result}')\n",
    "else:\n",
    "    print(f'Did NOT find \"{pattern}\" in \"{target_text}\"')"
   ]
  },
  {
   "cell_type": "markdown",
   "id": "8536987c-99a8-4d8c-96ca-c5eeb12610cc",
   "metadata": {},
   "source": [
    "**This matched everything**, because it's a rare **title with no characters**."
   ]
  },
  {
   "cell_type": "code",
   "execution_count": null,
   "id": "331ad2c0-175e-401d-a9f4-e9563862276a",
   "metadata": {},
   "outputs": [],
   "source": [
    "# Target text\n",
    "target_text = \"Flight 714 to Sydney\"\n",
    "\n",
    "# RegEx search pattern\n",
    "pattern = \"[^0-9]\"\n",
    "\n",
    "# Find all occurrances of pattern and check result\n",
    "result = re.findall(pattern, target_text)\n",
    "if (result):\n",
    "    print(f'Found \"{pattern}\" in \"{target_text}\"')\n",
    "    print(f'- Matched substrings: {result}')\n",
    "else:\n",
    "    print(f'Did NOT find \"{pattern}\" in \"{target_text}\"')"
   ]
  },
  {
   "cell_type": "markdown",
   "id": "40e8f2a8-4c40-4aec-973a-3f306409eeeb",
   "metadata": {},
   "source": [
    "And this one **excluded all the digits**."
   ]
  },
  {
   "cell_type": "markdown",
   "id": "cb233209-9a2b-4532-bdda-26d5a47166d0",
   "metadata": {},
   "source": [
    "## Quantifiers\n",
    "Quantifiers **allow a pattern to apply to a different numbers of characters**."
   ]
  },
  {
   "cell_type": "markdown",
   "id": "9177cae1-cc23-4aef-bd4c-f721a54c825b",
   "metadata": {},
   "source": [
    "### Dot (.)\n",
    "**Matches any single character**, except for a newline character (\\n)"
   ]
  },
  {
   "cell_type": "markdown",
   "id": "1a0f87c4-71bf-46e7-84a6-027e0f30950b",
   "metadata": {},
   "source": [
    "#### Examples"
   ]
  },
  {
   "cell_type": "code",
   "execution_count": null,
   "id": "6b1fd976-6ea0-4d81-acd5-41be321d351a",
   "metadata": {},
   "outputs": [],
   "source": [
    "# Target text\n",
    "target_text = \"Without Remorse\"\n",
    "\n",
    "# RegEx search pattern\n",
    "pattern = \"Wit.out\"\n",
    "\n",
    "# Find all occurrances of pattern and check result\n",
    "result = re.findall(pattern, target_text)\n",
    "if (result):\n",
    "    print(f'Found \"{pattern}\" in \"{target_text}\"')\n",
    "    print(f'- Matched substrings: {result}')\n",
    "else:\n",
    "    print(f'Did NOT find \"{pattern}\" in \"{target_text}\"')"
   ]
  },
  {
   "cell_type": "code",
   "execution_count": null,
   "id": "95125029-415f-4afd-8ae5-a538833bc592",
   "metadata": {},
   "outputs": [],
   "source": [
    "# Target text\n",
    "target_text = \"The mirror of her dreams\"\n",
    "\n",
    "# RegEx search pattern\n",
    "pattern = \".r\"\n",
    "\n",
    "# Find all occurrances of pattern and check result\n",
    "result = re.findall(pattern, target_text)\n",
    "if (result):\n",
    "    print(f'Found \"{pattern}\" in \"{target_text}\"')\n",
    "    print(f'- Matched substrings: {result}')\n",
    "else:\n",
    "    print(f'Did NOT find \"{pattern}\" in \"{target_text}\"')"
   ]
  },
  {
   "cell_type": "markdown",
   "id": "9242ff62-8e38-495b-a04d-d81fab2febb6",
   "metadata": {},
   "source": [
    "### Question mark (?)\n",
    "**Matches the preceding character, group, or character** class either **zero or one time**."
   ]
  },
  {
   "cell_type": "markdown",
   "id": "3af21621-7e29-42a1-b3d3-6d95def37b2c",
   "metadata": {},
   "source": [
    "#### Examples"
   ]
  },
  {
   "cell_type": "code",
   "execution_count": null,
   "id": "dc331e23-7a8e-4504-9850-5f4ecb246d54",
   "metadata": {},
   "outputs": [],
   "source": [
    "# Target text\n",
    "target_text = \"And then there was none\"\n",
    "\n",
    "# RegEx search pattern\n",
    "pattern = \"the[n]?\"\n",
    "\n",
    "# Find all occurrances of pattern and check result\n",
    "result = re.findall(pattern, target_text)\n",
    "if (result):\n",
    "    print(f'Found \"{pattern}\" in \"{target_text}\"')\n",
    "    print(f'- Matched substrings: {result}')\n",
    "else:\n",
    "    print(f'Did NOT find \"{pattern}\" in \"{target_text}\"')"
   ]
  },
  {
   "cell_type": "markdown",
   "id": "89a74a88-0342-4a80-8e43-0a951275fb21",
   "metadata": {},
   "source": [
    "### Asterisk (*)\n",
    "**Matches zero or more occurrences** of the preceding **character, group, or character class**"
   ]
  },
  {
   "cell_type": "markdown",
   "id": "92d1fa73-b487-45a6-abc7-1e9553e84435",
   "metadata": {},
   "source": [
    "#### Examples"
   ]
  },
  {
   "cell_type": "code",
   "execution_count": null,
   "id": "dad0db75-db7d-4c06-8afb-12bfbe974cf8",
   "metadata": {},
   "outputs": [],
   "source": [
    "# Target text\n",
    "target_text = \"The name of the Wind\"\n",
    "\n",
    "# RegEx search pattern\n",
    "pattern = \"[A-Z][a-z]* \"\n",
    "\n",
    "# Find all occurrances of pattern and check result\n",
    "result = re.findall(pattern, target_text)\n",
    "if (result):\n",
    "    print(f'Found \"{pattern}\" in \"{target_text}\"')\n",
    "    print(f'- Matched substrings: {result}')\n",
    "else:\n",
    "    print(f'Did NOT find \"{pattern}\" in \"{target_text}\"')"
   ]
  },
  {
   "cell_type": "code",
   "execution_count": null,
   "id": "b9c786d9-46fe-45fa-81a3-d872b33e7444",
   "metadata": {},
   "outputs": [],
   "source": [
    "# Target text\n",
    "target_text = \"Rebecca\"\n",
    "\n",
    "# RegEx search pattern\n",
    "pattern = \"[A-Z][12345]*[a-z]*\"\n",
    "\n",
    "# Find all occurrances of pattern and check result\n",
    "result = re.findall(pattern, target_text)\n",
    "if (result):\n",
    "    print(f'Found \"{pattern}\" in \"{target_text}\"')\n",
    "    print(f'- Matched substrings: {result}')\n",
    "else:\n",
    "    print(f'Did NOT find \"{pattern}\" in \"{target_text}\"')"
   ]
  },
  {
   "cell_type": "markdown",
   "id": "b7a2d898-5d0e-4c3a-ae2c-5cc6afab0738",
   "metadata": {},
   "source": [
    "**Notice** in we **didn't have character in** the **[12345]** set, **but that works for \"*\"**, because \"*\" is for **ZERO** or more occurrances."
   ]
  },
  {
   "cell_type": "markdown",
   "id": "dc8dbe2b-a22b-40f0-aec3-ad94e5e2556d",
   "metadata": {},
   "source": [
    "### Plus sign (+)\n",
    "**Matches one or more occurrences** of the preceding **character, group, or character class**. So this is similar to \"*\", but there needs to be at least one match."
   ]
  },
  {
   "cell_type": "markdown",
   "id": "8d85cfa5-a1e5-4a8a-a3c1-47a61892cf09",
   "metadata": {},
   "source": [
    "#### Examples"
   ]
  },
  {
   "cell_type": "markdown",
   "id": "33012098-b0fb-4999-9fd9-b14d7a68fc1b",
   "metadata": {},
   "source": [
    "##### Success case"
   ]
  },
  {
   "cell_type": "code",
   "execution_count": null,
   "id": "365feb65-b565-4d18-884e-e3c12eb49fd6",
   "metadata": {},
   "outputs": [],
   "source": [
    "# Target text\n",
    "target_text = \"The Word\"\n",
    "\n",
    "# RegEx search pattern\n",
    "pattern = \"[A-Z]+\"\n",
    "\n",
    "# Find all occurrances of pattern and check result\n",
    "result = re.findall(pattern, target_text)\n",
    "if (result):\n",
    "    print(f'Found \"{pattern}\" in \"{target_text}\"')\n",
    "    print(f'- Matched substrings: {result}')\n",
    "else:\n",
    "    print(f'Did NOT find \"{pattern}\" in \"{target_text}\"')"
   ]
  },
  {
   "cell_type": "markdown",
   "id": "e3eebfe8-37f9-46da-ae45-8d6fb73c9371",
   "metadata": {},
   "source": [
    "##### Fail case"
   ]
  },
  {
   "cell_type": "code",
   "execution_count": null,
   "id": "bfbad5d8-04dc-4412-952a-9f6f06feb9fa",
   "metadata": {},
   "outputs": [],
   "source": [
    "# Target text\n",
    "target_text = \"It\"\n",
    "\n",
    "# RegEx search pattern\n",
    "pattern = \"[0-9]+It\"\n",
    "\n",
    "# Find all occurrances of pattern and check result\n",
    "result = re.findall(pattern, target_text)\n",
    "if (result):\n",
    "    print(f'Found \"{pattern}\" in \"{target_text}\"')\n",
    "    print(f'- Matched substrings: {result}')\n",
    "else:\n",
    "    print(f'Did NOT find \"{pattern}\" in \"{target_text}\"')"
   ]
  },
  {
   "cell_type": "markdown",
   "id": "303adebf-ed9c-496d-9b0e-3db379031ac0",
   "metadata": {},
   "source": [
    "### Brace quantifier ({n})\n",
    "Matches a **specific number occurrences** of the preceding element. There are three variations:\n",
    "- **{n}** - Matches exactly n occurrences of the preceding element\n",
    "- **{n,}** - Matches at least n occurrences of the preceding element\n",
    "- **{m,n}** - Matches between m and n occurrences of the preceding element"
   ]
  },
  {
   "cell_type": "markdown",
   "id": "09ceab78-dbcc-4d4d-9fe2-177db0b6d906",
   "metadata": {},
   "source": [
    "#### {n} - Exactly *n* occurances"
   ]
  },
  {
   "cell_type": "markdown",
   "id": "487ad3fe-2f31-4609-9a0f-eae66e5be23f",
   "metadata": {},
   "source": [
    "##### Success case"
   ]
  },
  {
   "cell_type": "code",
   "execution_count": null,
   "id": "cb54f73f-839d-4cd1-a49d-b740e55ca758",
   "metadata": {},
   "outputs": [],
   "source": [
    "# Target text\n",
    "target_text = \"Hotel\"\n",
    "\n",
    "# RegEx search pattern\n",
    "pattern = \"[A-Za-z]{5}\"\n",
    "\n",
    "# Find all occurrances of pattern and check result\n",
    "result = re.findall(pattern, target_text)\n",
    "if (result):\n",
    "    print(f'Found \"{pattern}\" in \"{target_text}\"')\n",
    "    print(f'- Matched substrings: {result}')\n",
    "else:\n",
    "    print(f'Did NOT find \"{pattern}\" in \"{target_text}\"')"
   ]
  },
  {
   "cell_type": "markdown",
   "id": "5a35fd37-5c8a-4240-9ef4-0b79f92fe415",
   "metadata": {},
   "source": [
    "##### Fail case"
   ]
  },
  {
   "cell_type": "code",
   "execution_count": null,
   "id": "c83369ee-69e2-4504-a666-7a6a70c67313",
   "metadata": {},
   "outputs": [],
   "source": [
    "# Target text\n",
    "target_text = \"Hotel\"\n",
    "\n",
    "# RegEx search pattern\n",
    "pattern = \"[A-Za-z]{6}\"\n",
    "\n",
    "# Find all occurrances of pattern and check result\n",
    "result = re.findall(pattern, target_text)\n",
    "if (result):\n",
    "    print(f'Found \"{pattern}\" in \"{target_text}\"')\n",
    "    print(f'- Matched substrings: {result}')\n",
    "else:\n",
    "    print(f'Did NOT find \"{pattern}\" in \"{target_text}\"')"
   ]
  },
  {
   "cell_type": "markdown",
   "id": "06c15da3-fbb2-43bd-8fd2-1a7a1cd29a14",
   "metadata": {},
   "source": [
    "#### {m,n} - Between *m* and *n* occurances"
   ]
  },
  {
   "cell_type": "markdown",
   "id": "67c37cd0-12ad-4c23-98d4-0161126b3c17",
   "metadata": {},
   "source": [
    "##### Success case"
   ]
  },
  {
   "cell_type": "code",
   "execution_count": null,
   "id": "3ca43ea8-c973-45d4-b337-b72fcabc8a63",
   "metadata": {},
   "outputs": [],
   "source": [
    "# Target text\n",
    "target_text = \"The Path of Daggers\"\n",
    "\n",
    "# RegEx search pattern\n",
    "pattern = \"[A-Za-z]{4,7}\"\n",
    "\n",
    "# Find all occurrances of pattern and check result\n",
    "result = re.findall(pattern, target_text)\n",
    "if (result):\n",
    "    print(f'Found \"{pattern}\" in \"{target_text}\"')\n",
    "    print(f'- Matched substrings: {result}')\n",
    "else:\n",
    "    print(f'Did NOT find \"{pattern}\" in \"{target_text}\"')"
   ]
  },
  {
   "cell_type": "markdown",
   "id": "25903786-228d-4d56-9f1e-832282ede409",
   "metadata": {},
   "source": [
    "## Special Character Sequences with backslash\n",
    "We've see sets and ranges as a way to specify valid combination of characters. **For some common combinations**, we can also **use special sequences using a backslash \"\\\\\"**.\n",
    "- **\\w** searches for alphanumeric characters (including the underscore), serving as a shorthand for [a-zA-Z0-9_].\n",
    "- **\\d** searches for digits in a target, serving as shorthand for the zero through nine character set [0-9].\n",
    "- **\\A** matches the expression at the start of a string, whether single-line or multi-line.\n",
    "- **\\b** matches the empty string at the word boundary, either at the beginning or the end of a word.\n",
    "- **\\B** matches positions where \\b does not, typically within words.\n",
    "- **\\D** matches any non-digit character, equivalent to [^0-9].\n",
    "- **\\s** matches any whitespace character, including tab (\\t), newline (\\n), return (\\r), and space.\n",
    "- **\\S** matches any non-whitespace character.\n",
    "- **\\W** matches non-alphanumeric characters, equivalent to [^a-zA-Z0-9].\n",
    "- **\\Z** matches the position at the end of a string.\n",
    "\n",
    "We'll look at some examples here, and other ones in context later."
   ]
  },
  {
   "cell_type": "markdown",
   "id": "fb09c498-b57a-4ffb-bf04-a55a8f384e1d",
   "metadata": {},
   "source": [
    "### Alphanumerics: \\w\n",
    "Searches for alphanumeric characters (including the underscore), serving as a **shorthand for [a-zA-Z0-9_].**"
   ]
  },
  {
   "cell_type": "markdown",
   "id": "6113b924-875c-48f3-8c6c-e5c8e9b01b94",
   "metadata": {},
   "source": [
    "#### Examples"
   ]
  },
  {
   "cell_type": "code",
   "execution_count": null,
   "id": "d2e07e4a-01c1-48da-b394-adf62e672c8f",
   "metadata": {},
   "outputs": [],
   "source": [
    "# Target text\n",
    "target_text = \"Ender's Game\"\n",
    "\n",
    "# RegEx search pattern\n",
    "pattern = r\"\\w\"\n",
    "\n",
    "# Find all occurrances of pattern and check result\n",
    "result = re.findall(pattern, target_text)\n",
    "if (result):\n",
    "    print(f'Found \"{pattern}\" in \"{target_text}\"')\n",
    "    print(f'- Matched substrings: {result}')\n",
    "else:\n",
    "    print(f'Did NOT find \"{pattern}\" in \"{target_text}\"')"
   ]
  },
  {
   "cell_type": "markdown",
   "id": "e3c528b7-8e72-4912-9a39-58cfaa18b91f",
   "metadata": {},
   "source": [
    "**Note** the apostrophe was not matched."
   ]
  },
  {
   "cell_type": "markdown",
   "id": "d3596bd9-118f-4586-8781-f856fcd3f9b3",
   "metadata": {},
   "source": [
    "### Digits: \\d\n",
    "\\d searches for digits in a target, serving as shorthand for the zero through nine character set [0-9]."
   ]
  },
  {
   "cell_type": "markdown",
   "id": "00722ef8-4b0a-4094-ad50-ad973cc0afe1",
   "metadata": {},
   "source": [
    "#### Examples"
   ]
  },
  {
   "cell_type": "code",
   "execution_count": null,
   "id": "1f388016-1539-4b7c-bd2c-191e2e580013",
   "metadata": {},
   "outputs": [],
   "source": [
    "# Target text\n",
    "target_text = \"11/22/63\"\n",
    "\n",
    "# RegEx search pattern\n",
    "pattern = r\"\\d\"\n",
    "\n",
    "# Find all occurrances of pattern and check result\n",
    "result = re.findall(pattern, target_text)\n",
    "if (result):\n",
    "    print(f'Found \"{pattern}\" in \"{target_text}\"')\n",
    "    print(f'- Matched substrings: {result}')\n",
    "else:\n",
    "    print(f'Did NOT find \"{pattern}\" in \"{target_text}\"')"
   ]
  },
  {
   "cell_type": "markdown",
   "id": "ae361a93-458e-4bab-b034-eba03f9084fa",
   "metadata": {},
   "source": [
    "### White Space: \\s\n",
    "**\\s** matches any whitespace character, including tab (\\t), newline (\\n), return (\\r), and space."
   ]
  },
  {
   "cell_type": "markdown",
   "id": "33d6f076-68f8-4fe2-8f5b-17ea0b35ec47",
   "metadata": {},
   "source": [
    "#### Examples\n",
    "In this example, we are looking for **words sourrounded by spaces**. We use the \"+\" quantifier we saw earlier."
   ]
  },
  {
   "cell_type": "code",
   "execution_count": null,
   "id": "b01e3ad3-71ff-4ea0-a3e5-94b05b596972",
   "metadata": {},
   "outputs": [],
   "source": [
    "# Target text\n",
    "target_text = \"The Other Side of Midnight\"\n",
    "\n",
    "# RegEx search pattern\n",
    "pattern = r\"\\s\\w+\\s\"\n",
    "\n",
    "# Find all occurrances of pattern and check result\n",
    "result = re.findall(pattern, target_text)\n",
    "if (result):\n",
    "    print(f'Found \"{pattern}\" in \"{target_text}\"')\n",
    "    print(f'- Matched substrings: {result}')\n",
    "else:\n",
    "    print(f'Did NOT find \"{pattern}\" in \"{target_text}\"')"
   ]
  },
  {
   "cell_type": "markdown",
   "id": "79c88923-78e5-4bec-beb8-4ebf4cc42d7f",
   "metadata": {},
   "source": [
    "**Note** that the words \"Side\" was not found, even though it is sorrounded by spaces. Why is that? That's because when the regular expression used the space after the word \"Other\" for its match. That space cannot be reused for another match. Later on, we'll see a better way to capture words."
   ]
  },
  {
   "cell_type": "markdown",
   "id": "2c67380e-71c9-400e-8d34-ecc04d84d53e",
   "metadata": {},
   "source": [
    "## Non-alphanumeric characters\n",
    "Most of the examples I'm showing are for regular alpha-numeric strings. However **ponctuations, and other special characters can** definitely **be specified in regular expressions**. Some special characters are used as part of regular expressions, so they will have to be escaped (we'll see that). The ability of **matching special characters** is **important** in **many practical examples** we'll show later.\n",
    "\n",
    "For now, I'll just show some basic examples of matches non alpha-numeric chracters."
   ]
  },
  {
   "cell_type": "markdown",
   "id": "06eaf516-581d-434a-a86e-8b6b93531fd2",
   "metadata": {},
   "source": [
    "### Examples\n",
    "#### Examples with literal match"
   ]
  },
  {
   "cell_type": "code",
   "execution_count": null,
   "id": "65cae9e1-4b9f-49e0-9322-266c7e12c8cb",
   "metadata": {},
   "outputs": [],
   "source": [
    "# Target text\n",
    "target_text = \"Emails need a @ in them\"\n",
    "\n",
    "# RegEx search pattern\n",
    "pattern = r\"@\"\n",
    "\n",
    "# Find all occurrances of pattern and check result\n",
    "result = re.findall(pattern, target_text)\n",
    "if (result):\n",
    "    print(f'Found \"{pattern}\" in \"{target_text}\"')\n",
    "    print(f'- Matched substrings: {result}')\n",
    "else:\n",
    "    print(f'Did NOT find \"{pattern}\" in \"{target_text}\"')"
   ]
  },
  {
   "cell_type": "code",
   "execution_count": null,
   "id": "864b3a99-8bc1-42ff-b9eb-459c136991f2",
   "metadata": {},
   "outputs": [],
   "source": [
    "# Target text\n",
    "target_text = \"What about - , ; = & and other ones?\"\n",
    "\n",
    "# RegEx search pattern\n",
    "pattern = r\"[-,;=&]\"\n",
    "\n",
    "# Find all occurrances of pattern and check result\n",
    "result = re.findall(pattern, target_text)\n",
    "if (result):\n",
    "    print(f'Found \"{pattern}\" in \"{target_text}\"')\n",
    "    print(f'- Matched substrings: {result}')\n",
    "else:\n",
    "    print(f'Did NOT find \"{pattern}\" in \"{target_text}\"')"
   ]
  },
  {
   "cell_type": "markdown",
   "id": "9247c495-0eb9-4eeb-86b5-5e7a865f017f",
   "metadata": {},
   "source": [
    "#### Examples using \\W\n",
    "\\W matches non-alphanumeric characters, equivalent to [^a-zA-Z0-9]."
   ]
  },
  {
   "cell_type": "code",
   "execution_count": null,
   "id": "5ad9ddbc-324d-49fa-8e14-fa86d0411244",
   "metadata": {},
   "outputs": [],
   "source": [
    "# Target text\n",
    "target_text = \"A bunch of them: %, @, :, &, ), ; , etc\"\n",
    "\n",
    "# RegEx search pattern\n",
    "pattern = r\"\\W\"\n",
    "\n",
    "# Find all occurrances of pattern and check result\n",
    "result = re.findall(pattern, target_text)\n",
    "if (result):\n",
    "    print(f'Found \"{pattern}\" in \"{target_text}\"')\n",
    "    print(f'- Matched substrings: {result}')\n",
    "else:\n",
    "    print(f'Did NOT find \"{pattern}\" in \"{target_text}\"')"
   ]
  },
  {
   "cell_type": "markdown",
   "id": "041dd6c0-8aaa-4a0e-a0a1-a50b6dfaf68a",
   "metadata": {},
   "source": [
    "## Anchors\n",
    "Anchor metacharacters specify **where to look for a pattern string within a target string**."
   ]
  },
  {
   "cell_type": "markdown",
   "id": "da776b4c-57ef-4273-8ded-226844b46c06",
   "metadata": {},
   "source": [
    "### Caret (^)\n",
    "**Indicates** that the following **pattern must appear at the beginning** of the string or line"
   ]
  },
  {
   "cell_type": "markdown",
   "id": "d5d1a987-7be6-4f53-8270-b2829edcd9e8",
   "metadata": {},
   "source": [
    "#### Example"
   ]
  },
  {
   "cell_type": "code",
   "execution_count": null,
   "id": "1aae4744-e035-49ab-8106-a004465284da",
   "metadata": {},
   "outputs": [],
   "source": [
    "# Target text\n",
    "target_text = \"The Eye of the World\"\n",
    "\n",
    "# RegEx search pattern\n",
    "pattern = \"^[Tt]he\"\n",
    "\n",
    "# Find all occurrances of pattern and check result\n",
    "result = re.findall(pattern, target_text)\n",
    "if (result):\n",
    "    print(f'Found \"{pattern}\" in \"{target_text}\"')\n",
    "    print(f'- Matched substrings: {result}')\n",
    "else:\n",
    "    print(f'Did NOT find \"{pattern}\" in \"{target_text}\"')"
   ]
  },
  {
   "cell_type": "markdown",
   "id": "b221460d-8908-4ed7-ac0e-0ea7d6121e8f",
   "metadata": {},
   "source": [
    "Note that it **matched only** the **first \"The\" at the beginning of the string**, with the capital T, but not the second."
   ]
  },
  {
   "cell_type": "markdown",
   "id": "3d3ee4b7-3336-41ae-bae8-b499bea291bc",
   "metadata": {},
   "source": [
    "### Dollar sign ($)\n",
    "**Indicates** that the following **pattern must appear at the end** of the string or line"
   ]
  },
  {
   "cell_type": "markdown",
   "id": "bf228c92-ec1f-4ddc-85c9-0eb61ddd4878",
   "metadata": {},
   "source": [
    "#### Examples"
   ]
  },
  {
   "cell_type": "markdown",
   "id": "305ae9f3-07e0-4926-b7da-90848e517314",
   "metadata": {},
   "source": [
    "##### Success case"
   ]
  },
  {
   "cell_type": "code",
   "execution_count": null,
   "id": "4a94daa1-e817-407e-90f2-61d0dad444a6",
   "metadata": {},
   "outputs": [],
   "source": [
    "# Target text\n",
    "target_text = \"Master of the Game\"\n",
    "\n",
    "# RegEx search pattern\n",
    "pattern = \"Game$\"\n",
    "\n",
    "# Find all occurrances of pattern and check result\n",
    "result = re.findall(pattern, target_text)\n",
    "if (result):\n",
    "    print(f'Found \"{pattern}\" in \"{target_text}\"')\n",
    "    print(f'- Matched substrings: {result}')\n",
    "else:\n",
    "    print(f'Did NOT find \"{pattern}\" in \"{target_text}\"')"
   ]
  },
  {
   "cell_type": "markdown",
   "id": "404c097d-cbe5-4ad2-b436-ee9b66cf3a15",
   "metadata": {},
   "source": [
    "##### Fail case"
   ]
  },
  {
   "cell_type": "code",
   "execution_count": null,
   "id": "8b36eeee-837e-4e02-95e6-18536f8f691d",
   "metadata": {},
   "outputs": [],
   "source": [
    "# Target text\n",
    "target_text = \"A Game of Thrones\"\n",
    "\n",
    "# RegEx search pattern\n",
    "pattern = \"Game$\"\n",
    "\n",
    "# Find all occurrances of pattern and check result\n",
    "result = re.findall(pattern, target_text)\n",
    "if (result):\n",
    "    print(f'Found \"{pattern}\" in \"{target_text}\"')\n",
    "    print(f'- Matched substrings: {result}')\n",
    "else:\n",
    "    print(f'Did NOT find \"{pattern}\" in \"{target_text}\"')"
   ]
  },
  {
   "cell_type": "markdown",
   "id": "a986fa09-1be5-472e-ac2c-7b36bafccd1c",
   "metadata": {},
   "source": [
    "## Word Boundaries\n",
    "Word boundaries denote the **start and end of a word**. Similar to the anchors, they don't match a specific character, but simply help mark the position of matched characters."
   ]
  },
  {
   "cell_type": "markdown",
   "id": "d404c2d6-3504-4e07-b2bd-764a744bbbce",
   "metadata": {},
   "source": [
    "### Word begin/end (\\b)\n",
    "\\b Indicates a match where characters are at the beginning or end of a word."
   ]
  },
  {
   "cell_type": "markdown",
   "id": "f26597f2-2b6d-442a-8cc9-c924772c3c4e",
   "metadata": {},
   "source": [
    "#### Examples"
   ]
  },
  {
   "cell_type": "code",
   "execution_count": null,
   "id": "b31b05cd-6682-46c4-9e3a-e44f1e79dac7",
   "metadata": {},
   "outputs": [],
   "source": [
    "# Target text\n",
    "target_text = \"red rackham's treasure\"\n",
    "\n",
    "# RegEx search pattern\n",
    "pattern = r\"\\br..\"\n",
    "\n",
    "# Find all occurrances of pattern and check result\n",
    "result = re.findall(pattern, target_text)\n",
    "if (result):\n",
    "    print(f'Found \"{pattern}\" in \"{target_text}\"')\n",
    "    print(f'- Matched substrings: {result}')\n",
    "else:\n",
    "    print(f'Did NOT find \"{pattern}\" in \"{target_text}\"')"
   ]
  },
  {
   "cell_type": "markdown",
   "id": "0d5c4e56-3e25-4bac-9098-26234325e1fd",
   "metadata": {},
   "source": [
    "**Note** that we matched the \"r\" in \"**r**ed**\" and the \"r\" \"**r**ackham\", because they were the start of a word, but neither \"r\" in \"Treasure\", because they were in the middle."
   ]
  },
  {
   "cell_type": "code",
   "execution_count": null,
   "id": "70650459-fad9-47d0-a747-5a0c1d1f56af",
   "metadata": {},
   "outputs": [],
   "source": [
    "# Target text\n",
    "target_text = \"the secret of the unicorn\"\n",
    "\n",
    "# RegEx search pattern\n",
    "pattern = r\"...t\\b\"\n",
    "\n",
    "# Find all occurrances of pattern and check result\n",
    "result = re.findall(pattern, target_text)\n",
    "if (result):\n",
    "    print(f'Found \"{pattern}\" in \"{target_text}\"')\n",
    "    print(f'- Matched substrings: {result}')\n",
    "else:\n",
    "    print(f'Did NOT find \"{pattern}\" in \"{target_text}\"')"
   ]
  },
  {
   "cell_type": "markdown",
   "id": "59cfdc3a-57c2-4434-9a41-38f2298456e5",
   "metadata": {},
   "source": [
    "**Note** that we matched the \"t\" in \"secret\" because it was at the end of a word, but not the \"t\" in \"the\"."
   ]
  },
  {
   "cell_type": "markdown",
   "id": "e5e22fb6-691b-44a8-9e8c-7b0ce6219f8c",
   "metadata": {},
   "source": [
    "#### Comparing with \\s for finding words\n",
    "As you might recall, in a previous example we used the pattern \"\\s\\w+\\s\" similarly to find words. That worked ok, but some words were not found, because a space used in one pattern couldn't be reused in the next. That's not the case with \\b. It only marks the beging/end of the word, but does not need to capture a space around it."
   ]
  },
  {
   "cell_type": "code",
   "execution_count": null,
   "id": "a14e8048-4aa5-4b4e-a7c9-950882e75046",
   "metadata": {},
   "outputs": [],
   "source": [
    "# Target text\n",
    "target_text = \"The Other Side of Midnight\"\n",
    "\n",
    "# RegEx search pattern\n",
    "pattern = r\"\\b\\w+\\b\"\n",
    "\n",
    "# Find all occurrances of pattern and check result\n",
    "result = re.findall(pattern, target_text)\n",
    "if (result):\n",
    "    print(f'Found \"{pattern}\" in \"{target_text}\"')\n",
    "    print(f'- Matched substrings: {result}')\n",
    "else:\n",
    "    print(f'Did NOT find \"{pattern}\" in \"{target_text}\"')"
   ]
  },
  {
   "cell_type": "markdown",
   "id": "371075e3-b516-4995-9378-c9165d3c7d71",
   "metadata": {},
   "source": [
    "Using **\\b, all the words are found**."
   ]
  },
  {
   "cell_type": "markdown",
   "id": "3d86a9d2-f6aa-4057-8b98-58d70abf7617",
   "metadata": {},
   "source": [
    "### Word does not begin/end (\\B)\n",
    "**\\B is the opposite of \\b**. It indicates a match where characters are NOT at the beginning or end of a word. We'll use the same example, so you can see we'll get the opposite matches."
   ]
  },
  {
   "cell_type": "markdown",
   "id": "3bc8a48b-c283-49a9-b3d5-88efba3a078e",
   "metadata": {},
   "source": [
    "#### Examples"
   ]
  },
  {
   "cell_type": "code",
   "execution_count": null,
   "id": "b5dc425d-5e7c-4e92-9d88-2fe25d951ac8",
   "metadata": {},
   "outputs": [],
   "source": [
    "# Target text\n",
    "target_text = \"red rackham's treasure\"\n",
    "\n",
    "# RegEx search pattern\n",
    "pattern = r\"\\Br..\"\n",
    "\n",
    "# Find all occurrances of pattern and check result\n",
    "result = re.findall(pattern, target_text)\n",
    "if (result):\n",
    "    print(f'Found \"{pattern}\" in \"{target_text}\"')\n",
    "    print(f'- Matched substrings: {result}')\n",
    "else:\n",
    "    print(f'Did NOT find \"{pattern}\" in \"{target_text}\"')"
   ]
  },
  {
   "cell_type": "code",
   "execution_count": null,
   "id": "b0942a35-e4cc-4566-abbb-5a704d1fbcdd",
   "metadata": {},
   "outputs": [],
   "source": [
    "# Target text\n",
    "target_text = \"the secret of the unicorn\"\n",
    "\n",
    "# RegEx search pattern\n",
    "pattern = r\"...t\\B\"\n",
    "\n",
    "# Find all occurrances of pattern and check result\n",
    "result = re.findall(pattern, target_text)\n",
    "if (result):\n",
    "    print(f'Found \"{pattern}\" in \"{target_text}\"')\n",
    "    print(f'- Matched substrings: {result}')\n",
    "else:\n",
    "    print(f'Did NOT find \"{pattern}\" in \"{target_text}\"')"
   ]
  },
  {
   "cell_type": "markdown",
   "id": "962121df-b2b1-46b5-b77c-14943dd398f9",
   "metadata": {},
   "source": [
    "## Using Backslash (\\\\) as Escape Character\n",
    "With **seen a number of special characters** used for various purposes in regular expressions (*, +, ^, ?, etc). But **what if** the **pattern you are looking for includes** one of those **special characters**?\n",
    "\n",
    "The **backlash \"\\\\\" character**, referred in this context as a **escape character**, specifies that the **character should be taken literaly**."
   ]
  },
  {
   "cell_type": "markdown",
   "id": "88fc6eee-cfee-4f20-b900-30389724781e",
   "metadata": {},
   "source": [
    "### Example: searching for a question\n",
    "Assume you are **trying to match** a **question in a string**."
   ]
  },
  {
   "cell_type": "markdown",
   "id": "77d85d9a-d25a-4bd7-870e-736f237b5949",
   "metadata": {},
   "source": [
    "#### Without \"\\\\\"\n",
    "First we try a pattern **\"^[A-Za-z0-9\\ ']\\*?\"**, which attempts to look for **any combination of alphanumerical characters, spaces or apostrophe following by a question.**"
   ]
  },
  {
   "cell_type": "code",
   "execution_count": null,
   "id": "6cf85cd0-f3b8-4aff-96ea-9f24c6d24594",
   "metadata": {},
   "outputs": [],
   "source": [
    "# Target text\n",
    "target_text = \"The Firm\"\n",
    "\n",
    "# RegEx search pattern\n",
    "pattern = r\"^[A-Za-z0-9' ]*?\"\n",
    "\n",
    "# Find all occurrances of pattern and check result\n",
    "result = re.findall(pattern, target_text)\n",
    "if (result):\n",
    "    print(f'Found \"{pattern}\" in \"{target_text}\"')\n",
    "    print(f'- Matched substrings: {result}')\n",
    "else:\n",
    "    print(f'Did NOT find \"{pattern}\" in \"{target_text}\"')"
   ]
  },
  {
   "cell_type": "code",
   "execution_count": null,
   "id": "b570ed91-93e8-4c31-a4c7-768ef6310cdc",
   "metadata": {},
   "outputs": [],
   "source": [
    "# Target text\n",
    "target_text = \"The Firm\"\n",
    "\n",
    "# RegEx search pattern\n",
    "pattern = r\"^[A-Za-z0-9' ]*?\"\n",
    "\n",
    "# Find all occurrances of pattern and check result\n",
    "result = re.findall(pattern, target_text)\n",
    "if (result):\n",
    "    print(f'Found \"{pattern}\" in \"{target_text}\"')\n",
    "    print(f'- Matched substrings: {result}')\n",
    "else:\n",
    "    print(f'Did NOT find \"{pattern}\" in \"{target_text}\"')"
   ]
  },
  {
   "cell_type": "markdown",
   "id": "73c01176-a1b9-41af-8c90-6734367a383c",
   "metadata": {},
   "source": [
    "That **incorrectly returned a match**, even though this wasn't a question. That's because the \"?\" was interpreted as the special RegEx character that matches zero or one occurrance."
   ]
  },
  {
   "cell_type": "markdown",
   "id": "73c6d0af-af6e-49b8-b969-dfb1096e2e4b",
   "metadata": {},
   "source": [
    "#### With \"\\\\\"\n",
    "Now we try the **same pattern**, but we **add the \"\\\" to escape the \"?\" character**. This will for the RegEx to look for the literal character \"?\""
   ]
  },
  {
   "cell_type": "markdown",
   "id": "f8db803b-4879-49d5-b7ae-dcda8251ac80",
   "metadata": {},
   "source": [
    "#### Fail case"
   ]
  },
  {
   "cell_type": "code",
   "execution_count": null,
   "id": "19fa763e-efd2-45f3-a78a-9acae8abdcbd",
   "metadata": {},
   "outputs": [],
   "source": [
    "# Target text\n",
    "target_text = \"The Firm\"\n",
    "\n",
    "# RegEx search pattern\n",
    "pattern = r\"^[A-Za-z0-9' ]*\\?\"\n",
    "\n",
    "# Find all occurrances of pattern and check result\n",
    "result = re.findall(pattern, target_text)\n",
    "if (result):\n",
    "    print(f'Found \"{pattern}\" in \"{target_text}\"')\n",
    "    print(f'- Matched substrings: {result}')\n",
    "else:\n",
    "    print(f'Did NOT find \"{pattern}\" in \"{target_text}\"')"
   ]
  },
  {
   "cell_type": "markdown",
   "id": "3c4f2a00-9d8d-4bdf-b799-07139521a37b",
   "metadata": {},
   "source": [
    "This time we **did not match, which is correct** since this wasn't a question."
   ]
  },
  {
   "cell_type": "markdown",
   "id": "c673844a-fb4b-49c3-bc7e-8853e959c92e",
   "metadata": {},
   "source": [
    "#### Success case\n",
    "Let's make sure that we can match a sentence with a question."
   ]
  },
  {
   "cell_type": "code",
   "execution_count": null,
   "id": "de2da826-668b-4aa7-bc21-08794fd0a0b5",
   "metadata": {},
   "outputs": [],
   "source": [
    "# Target text\n",
    "target_text = \"Why didn't they ask Evans?\"\n",
    "\n",
    "# RegEx search pattern\n",
    "pattern = r\"^[A-Za-z0-9' ]*\\?\"\n",
    "\n",
    "# Find all occurrances of pattern and check result\n",
    "result = re.findall(pattern, target_text)\n",
    "if (result):\n",
    "    print(f'Found \"{pattern}\" in \"{target_text}\"')\n",
    "    print(f'- Matched substrings: {result}')\n",
    "else:\n",
    "    print(f'Did NOT find \"{pattern}\" in \"{target_text}\"')"
   ]
  },
  {
   "cell_type": "markdown",
   "id": "b32fd3cf-676f-4271-829d-04ec933fcf87",
   "metadata": {},
   "source": [
    "Yep that works."
   ]
  },
  {
   "cell_type": "markdown",
   "id": "156ed951-6e57-4829-b086-b6566ecea77b",
   "metadata": {},
   "source": [
    "## Alternation using pipe (|)\n",
    "**Matches either** of the **expressions** appearing before or after the pipe"
   ]
  },
  {
   "cell_type": "markdown",
   "id": "4b2c3963-38ed-4a5d-9ef8-04f96c99cbc8",
   "metadata": {},
   "source": [
    "#### Examples"
   ]
  },
  {
   "cell_type": "code",
   "execution_count": null,
   "id": "77783162-4776-49f0-9a1e-0f7d6376b515",
   "metadata": {},
   "outputs": [],
   "source": [
    "# Target text\n",
    "target_text = \"The Chronicles of Thomas Covenant\"\n",
    "\n",
    "# RegEx search pattern\n",
    "pattern = \"Tom|Thomas\"\n",
    "\n",
    "# Find all occurrances of pattern and check result\n",
    "result = re.findall(pattern, target_text)\n",
    "if (result):\n",
    "    print(f'Found \"{pattern}\" in \"{target_text}\"')\n",
    "    print(f'- Matched substrings: {result}')\n",
    "else:\n",
    "    print(f'Did NOT find \"{pattern}\" in \"{target_text}\"')"
   ]
  },
  {
   "cell_type": "markdown",
   "id": "9dd89e1c-abdf-4b50-88ea-0026b2a2e46f",
   "metadata": {},
   "source": [
    "## Groups\n",
    "Groups allow you to break up your pattern into multiple parts. Each part can be evaluated separately, and you can view the results separately for each when needed. There are two variations of groups:\n",
    "- **Capturing groups** - In a capturing group, the regular expression will maintain the individual matches per group in the mattern\n",
    "- **Non-capturing groups** - A non-capturing group will still have different groups in the patterm, wit mostly the same syntax, but it will not maintain seperate results.\n",
    "\n",
    "It's one of the more complex topics in regular expressions, so let's look at a few examples. "
   ]
  },
  {
   "cell_type": "markdown",
   "id": "209a25e8-c360-4b68-bf61-adcb1fdaa398",
   "metadata": {},
   "source": [
    "### Group results with findall and search\n",
    "We have been using the findall function for most of our examples, but we will also look at some examples with search later.  ***findall()*** and ***search()*** will show group results differently:\n",
    "- **findall** returns a list of tuples for each result matching the groups\n",
    "- **search** always returns a ***Match*** object. Withing that object, you can call the *groups()* method to get a tuple with all the group results, or the group() call passing a group number to retrieve a specific group result."
   ]
  },
  {
   "cell_type": "markdown",
   "id": "db82c2ef-621b-460c-93b2-5d982589cdda",
   "metadata": {},
   "source": [
    "### Example: Capturing characters and numbers separately\n",
    "In this example, let's assume we have a list of people's names and ages. We don't know how they were separated (using \",\", \"-\", \":\" or anything else. So we want to match strings and numbers only, being able to track them separately."
   ]
  },
  {
   "cell_type": "markdown",
   "id": "fcc1b7eb-ca24-4ec2-b398-6f3d1410ab76",
   "metadata": {},
   "source": [
    "#### *findall()* example"
   ]
  },
  {
   "cell_type": "code",
   "execution_count": null,
   "id": "da16f52f-291b-4775-bf4e-609df2543d36",
   "metadata": {},
   "outputs": [],
   "source": [
    "# Target text\n",
    "target_text = \"Jane Doe: 25, Juan Li - 30, Kwesi Manu/23, Saanvi Sarkar: 19\"\n",
    "\n",
    "# RegEx search pattern\n",
    "# \\w+\\s*\\w* matches names\n",
    "# \\W+ matches at least on non-alphanumeric separator\n",
    "# \\d matches digits\n",
    "pattern = r\"(\\w+\\s*\\w*)\\W+(\\d+)\"\n",
    "\n",
    "# Find all occurrances of pattern and check result\n",
    "result = re.findall(pattern, target_text)\n",
    "if (result):\n",
    "    print(f'Found \"{pattern}\" in \"{target_text}\"')\n",
    "    print(f'- Matched substrings: {result}')\n",
    "\n",
    "    # print individual group results\n",
    "    print('\\nIndividual group results: ')\n",
    "    for i in range(len(result[0])):\n",
    "        group_result = [item[i] for item in result]\n",
    "        print(f'- Result group {i+1}: {group_result}')\n",
    "else:\n",
    "    print(f'Did NOT find \"{pattern}\" in \"{target_text}\"')\n"
   ]
  },
  {
   "cell_type": "markdown",
   "id": "83b5ec12-3030-4307-8504-ce4d51291e61",
   "metadata": {},
   "source": [
    "#### *search()* example\n",
    "Remember that *search* only returns the first match, as a Match object."
   ]
  },
  {
   "cell_type": "code",
   "execution_count": null,
   "id": "dd1f1962-6bb0-48b9-91f5-49cb71e63606",
   "metadata": {},
   "outputs": [],
   "source": [
    "# Target text\n",
    "target_text = \"Jane Doe: 25, Juan Li - 30, Kwesi Manu/23, Saanvi Sarkar: 19\"\n",
    "\n",
    "# RegEx search pattern\n",
    "# (\\w+\\s*\\w*) matches names\n",
    "# \\W+ matches at least on non-alphanumeric separator\n",
    "# (\\d) matches digits\n",
    "pattern = r\"(\\w+\\s*\\w*)\\W+(\\d+)\"\n",
    "\n",
    "# Find all occurrances of pattern and check result\n",
    "result = re.search(pattern, target_text)\n",
    "if (result):\n",
    "    print(f'Found \"{pattern}\" in \"{target_text}\"') \n",
    "    print(f'- Matched string: {result.groups()}')\n",
    "    \n",
    "    # print individual group results\n",
    "    print('\\nIndividual group results: ')\n",
    "    for i in range(len(result.groups())):\n",
    "        print(f'- Result group {i+1}: {result.group(i+1)}')\n",
    "else:\n",
    "    print(f'Did NOT find \"{pattern}\" in \"{target_text}\"')"
   ]
  },
  {
   "cell_type": "markdown",
   "id": "845b2000-3f91-4a37-bb94-dc8b0654ab32",
   "metadata": {},
   "source": [
    "### Example: Capturing appointments with month, day, year, hour and minute\n",
    "In this example, let's assume we have a **list of appointments in the following CSV format**: \n",
    "- ***\\<appointment title>, \\<date as mm/dd/yyyy>, \\<time as hh24:mi>***\n",
    "\n",
    "I want to be able to match the format, and also extract each component separately.\n"
   ]
  },
  {
   "cell_type": "markdown",
   "id": "8fef6f20-1a4e-4447-b935-571176e25805",
   "metadata": {},
   "source": [
    "#### *findall()* example"
   ]
  },
  {
   "cell_type": "code",
   "execution_count": null,
   "id": "be578a61-4016-47fa-be63-ea770fa84f5e",
   "metadata": {},
   "outputs": [],
   "source": [
    "# Target text\n",
    "target_text = \"\\n\\\n",
    "Tucker's vet,10/03/2024,14:30\\n\\\n",
    "Tucker and Finn,09/15/2023,16:20\\n\\\n",
    "Bathe Moose,9/4/2024,09:00\\n\\\n",
    "Finn pills,9/7/2024,13:45\"\n",
    "\n",
    "# RegEx search pattern\n",
    "# (([a-zA-Z]+[\\w ']*) matches something that starts with a letter, and continues with alphanumeric, apostrophe or spaces\n",
    "# , (used multuple times) will match the literal \",\" used as a separator\n",
    "# (\\d{1,2}/\\d{1,2}/\\d{4}) matches a date, where the days and months can be 1 or 2 digits, and the year is expected as 4 digits\n",
    "# (\\d{1,2}:\\d{2}) matches a time in 24 hour format, where the hour can be \n",
    "pattern = r\"([a-zA-Z]+[\\w ']*),(\\d{1,2}/\\d{1,2}/\\d{4}),(\\d{1,2}:\\d{2})\"\n",
    "\n",
    "# Find all occurrances of pattern and check result\n",
    "result = re.findall(pattern, target_text)\n",
    "if (result):\n",
    "    print(f'Found \"{pattern}\" in \"{target_text}\"')\n",
    "    print(f'- Matched substrings: {result}')\n",
    "\n",
    "    # print individual group results\n",
    "    print('\\nIndividual group results: ')\n",
    "    for i in range(len(result[0])):\n",
    "        group_result = [item[i] for item in result]\n",
    "        print(f'- Result group {i+1}: {group_result}')\n",
    "else:\n",
    "    print(f'Did NOT find \"{pattern}\" in \"{target_text}\"')\n"
   ]
  },
  {
   "cell_type": "markdown",
   "id": "4b14a5f3-51fa-4e29-9f6d-fd49849800d8",
   "metadata": {},
   "source": [
    "### Backreferences\n",
    "Backreferences allow you to **reference and reuse** the **text captured by a group** within the same regex pattern. This is useful if a text includes repeated patterns you want to identify."
   ]
  },
  {
   "cell_type": "markdown",
   "id": "bfa0dc82-8b2d-4171-af0e-07af0eba641a",
   "metadata": {},
   "source": [
    "#### Example: Finding duplicate words\n",
    "Most of us have encountered the scenario where a grammar check warns us that we have a **repeated word in a sentence**. How can you implement that check using regular expressions?"
   ]
  },
  {
   "cell_type": "code",
   "execution_count": null,
   "id": "7bf2c49e-fa36-42a9-ba10-49effb2e7d0a",
   "metadata": {},
   "outputs": [],
   "source": [
    "# Target text\n",
    "target_text = \"There are so many different different RegEx constructs. This notebook is getting huge.\"\n",
    "\n",
    "# RegEx search pattern\n",
    "# (\\w+) will match a word\n",
    "# \\s+ ensures we match one or more spaces\n",
    "# \\1 will look for that same word imediatelly following\n",
    "pattern = r\"(\\w+)\\s+\\1\"\n",
    "\n",
    "# Find all occurrances of pattern and check result\n",
    "result = re.search(pattern, target_text)\n",
    "if (result):\n",
    "    print(f'Found \"{pattern}\" in \"{target_text}\"') \n",
    "    \n",
    "    # print individual group results\n",
    "    print('\\nGroup results: ')\n",
    "    for i in range(len(result.groups())):\n",
    "        print(f'- Result group {i+1}: {result.group(i+1)}')\n",
    "else:\n",
    "    print(f'Did NOT find \"{pattern}\" in \"{target_text}\"')\n"
   ]
  },
  {
   "cell_type": "markdown",
   "id": "abc37ff3-d021-4c70-9287-f524115fdd29",
   "metadata": {},
   "source": [
    "### Non-capturing groups\n",
    "**Non-apturing groups** will **work largely the same way**, **but** they **won't record** the **individual results of groups**. But you can still use them to group parts of the pattern, and apply other constructs on them.\n",
    "\n",
    "The example below is intentionally the same one I used early, but not that I simply a **\"?:\" at the beginning of each group**. That is the **notation** you use **to indicate** this is a **non-capturing group**. I removed the additional print statements for the individual group results, because they wouldn't work here, since the information is not kept for the groups."
   ]
  },
  {
   "cell_type": "code",
   "execution_count": null,
   "id": "0d1933ae-410a-43cb-8bf1-626769b6717f",
   "metadata": {},
   "outputs": [],
   "source": [
    "# Target text\n",
    "target_text = \"Jane Doe: 25, Juan Li - 30, Kwesi Manu/23, Saanvi Sarkar: 19\"\n",
    "\n",
    "# RegEx search pattern\n",
    "# \\w+\\s*\\w* matches names\n",
    "# \\W+ matches at least on non-alphanumeric separator\n",
    "# \\d matches digits\n",
    "pattern = r\"(?:\\w+\\s*\\w*)\\W+(?:\\d+)\"\n",
    "\n",
    "# Find all occurrances of pattern and check result\n",
    "result = re.findall(pattern, target_text)\n",
    "if (result):\n",
    "    print(f'Found \"{pattern}\" in \"{target_text}\"')\n",
    "    print(f'- Matched substrings: {result}')\n",
    "else:\n",
    "    print(f'Did NOT find \"{pattern}\" in \"{target_text}\"')\n"
   ]
  },
  {
   "cell_type": "markdown",
   "id": "123ec7b5-9155-401d-81ce-de93dc0c5c12",
   "metadata": {},
   "source": [
    "## Greety vs lazy quantifiers\n",
    "**Quantifiers** in regular expressions are **categorized as greedy or lazy** based on how they search and match patterns within a string. **Greedy quantifiers attempt to match as much** of the input **as possible**, whereas **lazy (or non-greedy) quantifiers match as little as possible**.\n",
    "\n",
    "The **quantifiers** we **saw earlier, \"?\", \"\\*\", \"+\", and \"{n,m}\"** are **considered greedy**, because they will try to **match as many characters as possible** that satisfy their condition. The **lazy alternative** to them is **achieved by adding \"?\" after** each. So **\"??\", \"\\*?\", \"+?\", and \"{n,m}?\" are the non-greedy** versions.\n",
    "\n",
    "The best way to understand is to see the comparison between them, so we'll **look at a couple examples** for some."
   ]
  },
  {
   "cell_type": "markdown",
   "id": "b6e801ca-b46e-46fd-ae0e-b931c2a03958",
   "metadata": {},
   "source": [
    "### Greedy \"\\*\" vs Lazy \"\\*?\""
   ]
  },
  {
   "cell_type": "markdown",
   "id": "fd18ecc8-e7c6-402b-9bab-f69efa2946eb",
   "metadata": {},
   "source": [
    "#### Greedy example"
   ]
  },
  {
   "cell_type": "code",
   "execution_count": null,
   "id": "47dde730-c8be-4883-9ca1-f3b4db915c05",
   "metadata": {},
   "outputs": [],
   "source": [
    "# Target text\n",
    "target_text = \"Jonathan Livingston Seagull\"\n",
    "\n",
    "# RegEx search pattern\n",
    "pattern = r\"[A-Z]\\w*n\"\n",
    "\n",
    "# Find all occurrances of pattern and check result\n",
    "result = re.findall(pattern, target_text)\n",
    "if (result):\n",
    "    print(f'Found \"{pattern}\" in \"{target_text}\"')\n",
    "    print(f'- Matched substrings: {result}')\n",
    "else:\n",
    "    print(f'Did NOT find \"{pattern}\" in \"{target_text}\"')"
   ]
  },
  {
   "cell_type": "markdown",
   "id": "6e1b0a13-fea8-4206-a399-befce47c696f",
   "metadata": {},
   "source": [
    "**Notice** in this gready case, how the **\"\\w\\*\"** expression **caught as many alphanumeric characters as possible**, before it finds and \"n\". For both \"Jonathan\", and \"Linvingston\", even after it finds an \"n\", it still tries to match more alphanumerics before a 2nd \"n\":"
   ]
  },
  {
   "cell_type": "markdown",
   "id": "402b68e9-0484-4d4a-9e85-3bd00dfc61cc",
   "metadata": {},
   "source": [
    "#### Lazy example"
   ]
  },
  {
   "cell_type": "code",
   "execution_count": null,
   "id": "25076182-cdbd-4062-b78e-d3dbc6671022",
   "metadata": {},
   "outputs": [],
   "source": [
    "# Target text\n",
    "target_text = \"Jonathan Livingston Seagull\"\n",
    "\n",
    "# RegEx search pattern\n",
    "pattern = r\"[A-Z]\\w*?n\"\n",
    "\n",
    "# Find all occurrances of pattern and check result\n",
    "result = re.findall(pattern, target_text)\n",
    "if (result):\n",
    "    print(f'Found \"{pattern}\" in \"{target_text}\"')\n",
    "    print(f'- Matched substrings: {result}')\n",
    "else:\n",
    "    print(f'Did NOT find \"{pattern}\" in \"{target_text}\"')"
   ]
  },
  {
   "cell_type": "markdown",
   "id": "0930df6a-a746-4634-b7f2-3d6c2fae3fb6",
   "metadata": {},
   "source": [
    "**Notice** in the non-greedy case, how the **\"\\w\\*?\"** expression **caught as little as possible**, before it finds an \"n\". So the moment it finds the first occurring \"n\" in that completes the pattern, it stops."
   ]
  },
  {
   "cell_type": "markdown",
   "id": "173fabc4-53ed-4b0a-b62a-32520f08d1bc",
   "metadata": {},
   "source": [
    "### Greedy \"{n,m}\" vs Lazy \"{n,m}?\""
   ]
  },
  {
   "cell_type": "markdown",
   "id": "eb3aa0fb-b3bb-4ab9-a334-4fc118935e2d",
   "metadata": {},
   "source": [
    "#### Greedy example"
   ]
  },
  {
   "cell_type": "code",
   "execution_count": null,
   "id": "073994fd-7f8e-45c7-81a2-08368bdd49cb",
   "metadata": {},
   "outputs": [],
   "source": [
    "# Target text\n",
    "target_text = \"2001: A Space Odyssey\"\n",
    "\n",
    "# RegEx search pattern\n",
    "pattern = r\"\\d{2,4}\"\n",
    "\n",
    "# Find all occurrances of pattern and check result\n",
    "result = re.findall(pattern, target_text)\n",
    "if (result):\n",
    "    print(f'Found \"{pattern}\" in \"{target_text}\"')\n",
    "    print(f'- Matched substrings: {result}')\n",
    "else:\n",
    "    print(f'Did NOT find \"{pattern}\" in \"{target_text}\"')"
   ]
  },
  {
   "cell_type": "markdown",
   "id": "4b142504-b725-4507-a229-7fc97fac8d71",
   "metadata": {},
   "source": [
    "**Notice** in this greedy case, how the **\"{2,4}\"** expression **tries to match as many digits as possible up to the limit of 4**, so it will match the entire year."
   ]
  },
  {
   "cell_type": "markdown",
   "id": "01df0dd7-8931-4d12-82fd-7277c51a0498",
   "metadata": {},
   "source": [
    "#### Lazy example"
   ]
  },
  {
   "cell_type": "code",
   "execution_count": null,
   "id": "be22c347-52ff-4e16-8031-328a7d8d3532",
   "metadata": {},
   "outputs": [],
   "source": [
    "# Target text\n",
    "target_text = \"2001: A Space Odyssey\"\n",
    "\n",
    "# RegEx search pattern\n",
    "pattern = r\"\\d{2,4}?\"\n",
    "\n",
    "# Find all occurrances of pattern and check result\n",
    "result = re.findall(pattern, target_text)\n",
    "if (result):\n",
    "    print(f'Found \"{pattern}\" in \"{target_text}\"')\n",
    "    print(f'- Matched substrings: {result}')\n",
    "else:\n",
    "    print(f'Did NOT find \"{pattern}\" in \"{target_text}\"')"
   ]
  },
  {
   "cell_type": "markdown",
   "id": "d0e0f695-9549-4027-9452-6bc9c7208db3",
   "metadata": {},
   "source": [
    "**Notice** in the non-greedy case, how the **\"{2,4}\"** expression **matches as little as possible that satisfies the minimum of 2**, so it will match two different portions of the year."
   ]
  },
  {
   "cell_type": "markdown",
   "id": "b987a585-6f4f-472c-ad6c-e5fc541b083b",
   "metadata": {},
   "source": [
    "# A Few Practical Examples\n",
    "We've already seen some practical examples as we went through the constructs, but let's look at a few others."
   ]
  },
  {
   "cell_type": "markdown",
   "id": "d0e67e87-b234-4f82-b398-8a7b3b3044a2",
   "metadata": {},
   "source": [
    "### Example: basic email\n",
    "**I'm not being exaustive in the possible combinations or precise valid email characters** in the following example (didn't have the patience to check all the official rules). The point is to give a general idea."
   ]
  },
  {
   "cell_type": "markdown",
   "id": "605bff72-2651-434e-9067-3ec2aca16702",
   "metadata": {},
   "source": [
    "##### Success cases"
   ]
  },
  {
   "cell_type": "code",
   "execution_count": null,
   "id": "2b549dc5-da63-4a23-988d-74f3de832be3",
   "metadata": {},
   "outputs": [],
   "source": [
    "# an email example\n",
    "target_text = \"tucker@cs.finncollege.edu\"\n",
    "\n",
    "# RegEx search pattern\n",
    "# \\w+ matches a word\n",
    "# @ matches the literal @ symbol\n",
    "# (?:\\w+\\.)+ matches one or more word characters followed by a period, at least one time\n",
    "# (?:com|edu|net|org) matches one of the specified top-level domains\n",
    "# Note that I used non-capturing groups (?:) because I don't need separate matches for each group\n",
    "pattern = r\"\\w+@(?:\\w+\\.)+(?:com|edu|net|org)\"\n",
    "\n",
    "# Find all occurrances of pattern and check result\n",
    "result = re.findall(pattern, target_text)\n",
    "if (result):\n",
    "    print(f'Found \"{pattern}\" in \"{target_text}\"')\n",
    "    print(f'- Matched substrings: {result}')\n",
    "else:\n",
    "    print(f'Did NOT find \"{pattern}\" in \"{target_text}\"')"
   ]
  },
  {
   "cell_type": "code",
   "execution_count": null,
   "id": "a424b4da-10f8-428f-afe2-537446dbc04f",
   "metadata": {},
   "outputs": [],
   "source": [
    "# an email example\n",
    "target_text = \"lexi@lexicorp.org\"\n",
    "\n",
    "# RegEx search pattern\n",
    "# \\w+ matches a word\n",
    "# @ matches the literal @ symbol\n",
    "# (?:\\w+\\.)+ matches one or more word characters followed by a period, at least one time\n",
    "# (?:com|edu|net|org) matches one of the specified top-level domains\n",
    "# Note that I used non-capturing groups (?:) because I don't need separate matches for each group\n",
    "pattern = r\"\\w+@(?:\\w+\\.)+(?:com|edu|net|org)\"\n",
    "\n",
    "# Find all occurrances of pattern and check result\n",
    "result = re.findall(pattern, target_text)\n",
    "if (result):\n",
    "    print(f'Found \"{pattern}\" in \"{target_text}\"')\n",
    "    print(f'- Matched substrings: {result}')\n",
    "else:\n",
    "    print(f'Did NOT find \"{pattern}\" in \"{target_text}\"')"
   ]
  },
  {
   "cell_type": "markdown",
   "id": "8a86cc08-fb0d-490a-b59a-be74718be8ae",
   "metadata": {},
   "source": [
    "##### Fail case"
   ]
  },
  {
   "cell_type": "code",
   "execution_count": null,
   "id": "779a0100-a443-423d-a55b-b198b684eee9",
   "metadata": {},
   "outputs": [],
   "source": [
    "# an email example\n",
    "target_text = \"lexilexicorp.org\"\n",
    "\n",
    "# RegEx search pattern\n",
    "# \\w+ matches a word\n",
    "# @ matches the literal @ symbol\n",
    "# (?:\\w+\\.)+ matches one or more word characters followed by a period, at least one time\n",
    "# (?:com|edu|net|org) matches one of the specified top-level domains\n",
    "# Note that I used non-capturing groups (?:) because I don't need separate matches for each group\n",
    "pattern = r\"\\w+@(?:\\w+\\.)+(?:com|edu|net|org)\"\n",
    "\n",
    "# Find all occurrances of pattern and check result\n",
    "result = re.findall(pattern, target_text)\n",
    "if (result):\n",
    "    print(f'Found \"{pattern}\" in \"{target_text}\"')\n",
    "    print(f'- Matched substrings: {result}')\n",
    "else:\n",
    "    print(f'Did NOT find \"{pattern}\" in \"{target_text}\"')"
   ]
  },
  {
   "cell_type": "markdown",
   "id": "a562201d-60fe-46a2-8a13-c52dfe6b2ea0",
   "metadata": {},
   "source": [
    "### Example: Telephone numbers\n",
    "Again, this is just a general check based on US number formats"
   ]
  },
  {
   "cell_type": "markdown",
   "id": "1bc0e91c-fcbb-4bcf-8a67-ee3767ca15a8",
   "metadata": {},
   "source": [
    "##### Success cases"
   ]
  },
  {
   "cell_type": "code",
   "execution_count": null,
   "id": "1b2bf365-f7cd-4daa-adae-295642018df4",
   "metadata": {},
   "outputs": [],
   "source": [
    "# a telephone example\n",
    "target_text = \"732-555-1212\"\n",
    "\n",
    "# RegEx search pattern\n",
    "# (?:1-)? matches 0 or 1 occurances of the \"1-\" prefix\n",
    "# \\d{3}-\\d{3}-\\d{4} matches the expected the number of digits separated with dashes\n",
    "pattern = r\"(?:1-)?\\d{3}-\\d{3}-\\d{4}\"\n",
    "\n",
    "# Find all occurrances of pattern and check result\n",
    "result = re.findall(pattern, target_text)\n",
    "if (result):\n",
    "    print(f'Found \"{pattern}\" in \"{target_text}\"')\n",
    "    print(f'- Matched substrings: {result}')\n",
    "else:\n",
    "    print(f'Did NOT find \"{pattern}\" in \"{target_text}\"')"
   ]
  },
  {
   "cell_type": "code",
   "execution_count": null,
   "id": "fc9711ec-8b79-4f9d-b257-4c13e98e7dfb",
   "metadata": {},
   "outputs": [],
   "source": [
    "# a telephone example\n",
    "target_text = \"1-732-555-1212\"\n",
    "\n",
    "# RegEx search pattern\n",
    "# (?:1-)? matches 0 or 1 occurances of the \"1-\" prefix\n",
    "# \\d{3}-\\d{3}-\\d{4} matches the expected the number of digits separated with dashes\n",
    "pattern = r\"(?:1-)?\\d{3}-\\d{3}-\\d{4}\"\n",
    "\n",
    "# Find all occurrances of pattern and check result\n",
    "result = re.findall(pattern, target_text)\n",
    "if (result):\n",
    "    print(f'Found \"{pattern}\" in \"{target_text}\"')\n",
    "    print(f'- Matched substrings: {result}')\n",
    "else:\n",
    "    print(f'Did NOT find \"{pattern}\" in \"{target_text}\"')"
   ]
  },
  {
   "cell_type": "markdown",
   "id": "d5047052-b5eb-492c-acd4-bdc9b161bc62",
   "metadata": {},
   "source": [
    "##### Fail case\n",
    "This is common cell phone number ib Brazil. They have added an extra digit to support more numbers. But our format only supports US numbers."
   ]
  },
  {
   "cell_type": "code",
   "execution_count": null,
   "id": "859887dd-b815-42b9-9fed-f14a004d078f",
   "metadata": {},
   "outputs": [],
   "source": [
    "# a possible brazilian cell phone example\n",
    "target_text = \"021-9992-1212\"\n",
    "\n",
    "# RegEx search pattern\n",
    "# (?:1-)? matches 0 or 1 occurances of the \"1-\" prefix\n",
    "# \\d{3}-\\d{3}-\\d{4} matches the expected the number of digits separated with dashes\n",
    "pattern = r\"(?:1-)?\\d{3}-\\d{3}-\\d{4}\"\n",
    "\n",
    "# Find all occurrances of pattern and check result\n",
    "result = re.findall(pattern, target_text)\n",
    "if (result):\n",
    "    print(f'Found \"{pattern}\" in \"{target_text}\"')\n",
    "    print(f'- Matched substrings: {result}')\n",
    "else:\n",
    "    print(f'Did NOT find \"{pattern}\" in \"{target_text}\"')"
   ]
  },
  {
   "cell_type": "markdown",
   "id": "4a398734-505b-4d10-b5a7-af21af31afe6",
   "metadata": {},
   "source": [
    "### Example: IP addresses"
   ]
  },
  {
   "cell_type": "markdown",
   "id": "1ff20436-47c6-456d-a814-a5ab94c4af58",
   "metadata": {},
   "source": [
    "#### Simple but not accurate IP address check\n",
    "This regular expression simply checks for 1 to 3 digit blocks, but does not account for the fact that not every 3 digit number is a vali IP address (max value is 255)"
   ]
  },
  {
   "cell_type": "markdown",
   "id": "57f7ae84-a35c-4d5f-8805-efbde53f38e7",
   "metadata": {},
   "source": [
    "##### Success cases"
   ]
  },
  {
   "cell_type": "code",
   "execution_count": null,
   "id": "60359fbf-9d0f-4953-808c-d18dff7c489e",
   "metadata": {},
   "outputs": [],
   "source": [
    "# valid IP address\n",
    "target_text = \"192.168.1.21\"\n",
    "\n",
    "# RegEx search pattern\n",
    "pattern = r\"\\d{1,3}\\.\\d{1,3}\\.\\d{1,3}\\.\\d{1,3}\"\n",
    "\n",
    "# Find all occurrances of pattern and check result\n",
    "result = re.findall(pattern, target_text)\n",
    "if (result):\n",
    "    print(f'Found \"{pattern}\" in \"{target_text}\"')\n",
    "    print(f'- Matched substrings: {result}')\n",
    "else:\n",
    "    print(f'Did NOT find \"{pattern}\" in \"{target_text}\"')"
   ]
  },
  {
   "cell_type": "code",
   "execution_count": null,
   "id": "18b5b657-9225-4cb0-aabf-deaff5e2c286",
   "metadata": {},
   "outputs": [],
   "source": [
    "# invalid IP address, but good enough to pass the simple test\n",
    "target_text = \"192.922.1.21\"\n",
    "\n",
    "# RegEx search pattern\n",
    "pattern = r\"\\d{1,3}\\.\\d{1,3}\\.\\d{1,3}\\.\\d{1,3}\"\n",
    "\n",
    "# Find all occurrances of pattern and check result\n",
    "result = re.findall(pattern, target_text)\n",
    "if (result):\n",
    "    print(f'Found \"{pattern}\" in \"{target_text}\"')\n",
    "    print(f'- Matched substrings: {result}')\n",
    "else:\n",
    "    print(f'Did NOT find \"{pattern}\" in \"{target_text}\"')"
   ]
  },
  {
   "cell_type": "markdown",
   "id": "5960ef2c-e7f2-44b8-b9ce-1c52f35c959d",
   "metadata": {},
   "source": [
    "**This was a success**, **but** in the real world it **shouldn't be. \"922\"** is **not valid in an IP address.**"
   ]
  },
  {
   "cell_type": "markdown",
   "id": "9cdaa127-6b15-4ab9-9d12-cf0601b43ec0",
   "metadata": {},
   "source": [
    "##### Fail case"
   ]
  },
  {
   "cell_type": "code",
   "execution_count": null,
   "id": "04001812-2bfe-4f2f-a7e9-9d64925d2a4a",
   "metadata": {},
   "outputs": [],
   "source": [
    "# invalid IP address,missing one component\n",
    "target_text = \"192.1.21\"\n",
    "\n",
    "# RegEx search pattern \n",
    "pattern = r\"\\d{1,3}\\.\\d{1,3}\\.\\d{1,3}\\.\\d{1,3}\"\n",
    "\n",
    "# Find all occurrances of pattern and check result\n",
    "result = re.findall(pattern, target_text)\n",
    "if (result):\n",
    "    print(f'Found \"{pattern}\" in \"{target_text}\"')\n",
    "    print(f'- Matched substrings: {result}')\n",
    "else:\n",
    "    print(f'Did NOT find \"{pattern}\" in \"{target_text}\"')"
   ]
  },
  {
   "cell_type": "markdown",
   "id": "ef8f013a-6096-4503-8bcc-61e2e1641350",
   "metadata": {},
   "source": [
    "#### Accurate but very long IP address check\n",
    "This regular expression should validate properly, but it's a lot harder to visualize."
   ]
  },
  {
   "cell_type": "markdown",
   "id": "d1c8a64e-c7ce-46f7-ab45-9931aaccc94a",
   "metadata": {},
   "source": [
    "##### Success cases"
   ]
  },
  {
   "cell_type": "code",
   "execution_count": null,
   "id": "1a104657-4b17-4ce5-892e-ac577371a04a",
   "metadata": {},
   "outputs": [],
   "source": [
    "# valid IP address\n",
    "target_text = \"192.168.1.21\"\n",
    "\n",
    "# RegEx search pattern\n",
    "pattern = r\"(?:(?:25[0-5]|2[0-4]\\d|1\\d\\d|[1-9]?\\d)\\.){3}(?:25[0-5]|2[0-4]\\d|1\\d\\d|[1-9]?\\d)\"\n",
    "\n",
    "# Find all occurrances of pattern and check result\n",
    "result = re.findall(pattern, target_text)\n",
    "if (result):\n",
    "    print(f'Found \"{pattern}\" in \"{target_text}\"')\n",
    "    print(f'- Matched substrings: {result}')\n",
    "else:\n",
    "    print(f'Did NOT find \"{pattern}\" in \"{target_text}\"')"
   ]
  },
  {
   "cell_type": "markdown",
   "id": "c5779996-8fc5-4fe7-8f55-864cae484861",
   "metadata": {},
   "source": [
    "##### Fail case"
   ]
  },
  {
   "cell_type": "code",
   "execution_count": null,
   "id": "53c9704f-3714-45e9-9aab-c5c60a71cb0a",
   "metadata": {},
   "outputs": [],
   "source": [
    "# invalid IP address, which the better RegEx will catch\n",
    "target_text = \"192.922.1.21\"\n",
    "\n",
    "# RegEx search pattern\n",
    "pattern = r\"(?:(?:25[0-5]|2[0-4]\\d|1\\d\\d|[1-9]?\\d)\\.){3}(?:25[0-5]|2[0-4]\\d|1\\d\\d|[1-9]?\\d)\"\n",
    "\n",
    "# Find all occurrances of pattern and check result\n",
    "result = re.findall(pattern, target_text)\n",
    "if (result):\n",
    "    print(f'Found \"{pattern}\" in \"{target_text}\"')\n",
    "    print(f'- Matched substrings: {result}')\n",
    "else:\n",
    "    print(f'Did NOT find \"{pattern}\" in \"{target_text}\"')"
   ]
  },
  {
   "cell_type": "markdown",
   "id": "8e6f6dae-9987-453f-89ac-03324e5e4e5c",
   "metadata": {},
   "source": [
    "### Example: DS1 Private Line CLCI format\n",
    "**Say what?!!!**\n",
    "\n",
    "I **don't expect anyone** who did not work in telecommunication many years ago **to know** about the **format of a DS1 Private Line circuit id** (aka, it's CLCI). The **point is**, there are a **lot of specialized notations across industries** that **require very specific formats** that may need to be validated. You can use regular expressions to check them.\n",
    "\n",
    "Chances are this is not 100% correct (it's been many many years), but it was something like this ..."
   ]
  },
  {
   "cell_type": "markdown",
   "id": "a883e7f6-8ee0-4fd0-8ae4-fde9f0b7bdcf",
   "metadata": {},
   "source": [
    "##### Success case"
   ]
  },
  {
   "cell_type": "code",
   "execution_count": null,
   "id": "0a4a966a-0a8c-490e-a4f5-2a7465aa333c",
   "metadata": {},
   "outputs": [],
   "source": [
    "# a DS1 CLSI example\n",
    "target_text = \"DHEC/123/100/ATI/003\"\n",
    "\n",
    "# RegEx search pattern for a CLCI\n",
    "pattern = r\"[A-Z]{2,4}/\\d{1,6}/\\d{3}/ATI/\\d{0,3}\"\n",
    "\n",
    "# Find all occurrances of pattern and check result\n",
    "result = re.findall(pattern, target_text)\n",
    "if (result):\n",
    "    print(f'Found \"{pattern}\" in \"{target_text}\"')\n",
    "    print(f'- Matched substrings: {result}')\n",
    "else:\n",
    "    print(f'Did NOT find \"{pattern}\" in \"{target_text}\"')"
   ]
  },
  {
   "cell_type": "markdown",
   "id": "b0cddecd-fe3f-4e3e-8850-0cbba1e15989",
   "metadata": {},
   "source": [
    "##### Fail case"
   ]
  },
  {
   "cell_type": "code",
   "execution_count": null,
   "id": "a77ee424-70be-4578-9049-0aba1de236e3",
   "metadata": {},
   "outputs": [],
   "source": [
    "# a DS1 CLSI example\n",
    "target_text = \"DHEC/1234/10/ATI/003\"\n",
    "\n",
    "# RegEx search pattern for a CLCI\n",
    "pattern = r\"[A-Z]{2,4}/\\d{1,6}/\\d{3}/ATI/\\d{0,3}\"\n",
    "\n",
    "# Find all occurrances of pattern and check result\n",
    "result = re.findall(pattern, target_text)\n",
    "if (result):\n",
    "    print(f'Found \"{pattern}\" in \"{target_text}\"')\n",
    "    print(f'- Matched substrings: {result}')\n",
    "else:\n",
    "    print(f'Did NOT find \"{pattern}\" in \"{target_text}\"')"
   ]
  },
  {
   "cell_type": "markdown",
   "id": "c4657f7d-a730-4362-b674-67d75dea4943",
   "metadata": {},
   "source": [
    "# Python re Module\n",
    "We've **already been using Python's built-in re module** in all the sections above, but we've limitted ourselves to just the findall and search functions, since we wanted to focus on regular expressions themselves. Let's not look a bit moere at the **comprehensive suite of functions** for working with **regular expressions**."
   ]
  },
  {
   "cell_type": "markdown",
   "id": "403d5914-8ae0-42ba-9538-034e00e775d9",
   "metadata": {
    "jp-MarkdownHeadingCollapsed": true
   },
   "source": [
    "## Functions\n",
    "We've seen these functions already:\n",
    "- **search()** - Returns the **first occurrence of a pattern** anywhere in the target string.\n",
    "- **findall()** - Returns a **list containing all matches** in the target string.\n",
    "\n",
    "Here are a few other functions available (and there are more):\n",
    "- **match()** - **Finds** a **pattern** match at the **beginning of a string**.\n",
    "- **fullmatch()** - Checks whether the **entire string matches the pattern**.\n",
    "- **compile()** -  **Compiles** a **regular expression pattern into** a **regular expression** object that can be repeatedly used more efficiently.\n",
    "- **split()** - **Splits string by** the occurrences of **pattern.**\n",
    "- **finditer()** - **Return** an **iterator yielding Match objects** as **string is scanned left-to-right**. This is a way to repeatedly invoke the equivalent of the search() function across an entire string (recall that search only returns the first match).\n",
    "- **sub()** - **Return** the **string obtained** by **substituting** the **first match** of a pattern **with** a **provided replacement**.\n",
    "\n",
    "For the **official documentation** on **all available functions**, click here: **https://docs.python.org/3/library/re.html#functions**"
   ]
  },
  {
   "cell_type": "markdown",
   "id": "8a97618d-9481-4edd-964d-5293c8f1e739",
   "metadata": {},
   "source": [
    "## Flags\n",
    "The behavior of some the functions above can be modified by passing various flags. We will look at these using examples:\n",
    "- **re.M or re.MULTILINE** - Makes the caret (^) and dollar sign ($) able to match the start and end of each line, not only the start and end of the string\n",
    "- **re.I or re.IGNORECASE** - Makes case-insensitive matching possible, so characters can match regardless of case\n",
    "- **re.S or re.DOTALL** - Makes the dot (.) match every character, including newline characters, which it does not normally match\n",
    "\n",
    "For the **official documentation** on **all available flags**, click here: **https://docs.python.org/3/library/re.html#flags**"
   ]
  },
  {
   "cell_type": "markdown",
   "id": "75573120-18b4-4222-815f-b1e128a8616f",
   "metadata": {},
   "source": [
    "### re.M or re.MULTILINE\n",
    "**Makes** the **caret (^) and dollar sign ($)** able to **match the start and end of each line**, not only the start and end of the string. This is very useful when looking for patterns across a whole document."
   ]
  },
  {
   "cell_type": "markdown",
   "id": "5c8f32ab-23e0-4c18-b91a-b5ae24ff5533",
   "metadata": {},
   "source": [
    "#### Example WITHOUT the flag\n",
    "We'll use the **first stanza of a famous William Shakespeare poem**. Why? Because I had to memorize that in 12th grade, and never forgot, so I might as well make some use of it. Let's **look for all the places** where a **sentence starts with \"O \"**, which is not used anymore."
   ]
  },
  {
   "cell_type": "code",
   "execution_count": null,
   "id": "b1539c79-bd6e-4ce7-8eb2-b4e691454a1a",
   "metadata": {},
   "outputs": [],
   "source": [
    "# Target text\n",
    "target_text = \"\\\n",
    "O Mistress mine where are you roaming?\\n\\\n",
    "O stay and hear, your true love's coming,\\n\\\n",
    "That can sing both high and low.\\n\\\n",
    "Trip no further pretty sweeting.\\n\\\n",
    "Journeys end in lovers' meeting,\\n\\\n",
    "Every wise man's son doth know.\"\n",
    "\n",
    "# RegEx search pattern\n",
    "pattern = \"^O[\\w\\s]*\"\n",
    "\n",
    "# Find all occurrances of pattern and check result\n",
    "result = re.findall(pattern, target_text)\n",
    "if (result):\n",
    "    print(f'Found \"{pattern}\"')\n",
    "    print(f'- Matched substrings: {result}')\n",
    "else:\n",
    "    print(f'Did NOT find \"{pattern}\" in \"{target_text}\"')"
   ]
  },
  {
   "cell_type": "markdown",
   "id": "0a375e70-4db0-4165-ba44-ffb42f9c420c",
   "metadata": {},
   "source": [
    "**Note** that **only the very first line was found**."
   ]
  },
  {
   "cell_type": "markdown",
   "id": "3a90693c-0845-42ba-a7f3-7f295a31d04e",
   "metadata": {},
   "source": [
    "#### Example WITH the flag"
   ]
  },
  {
   "cell_type": "code",
   "execution_count": null,
   "id": "d0ca4fc3-0b14-438a-a2ea-76e29704e91b",
   "metadata": {},
   "outputs": [],
   "source": [
    "# Target text\n",
    "target_text = \"\\\n",
    "O Mistress mine where are you roaming?\\n\\\n",
    "O stay and hear, your true love's coming,\\n\\\n",
    "That can sing both high and low.\\n\\\n",
    "Trip no further pretty sweeting.\\n\\\n",
    "Journeys end in lovers' meeting,\\n\\\n",
    "Every wise man's son doth know.\"\n",
    "\n",
    "# RegEx search pattern\n",
    "pattern = \"^O[\\w\\s]*\"\n",
    "\n",
    "# Find all occurrances of pattern and check result\n",
    "result = re.findall(pattern, target_text, flags=re.MULTILINE)\n",
    "if (result):\n",
    "    print(f'Found \"{pattern}\"')\n",
    "    print(f'- Matched substrings: {result}')\n",
    "else:\n",
    "    print(f'Did NOT find \"{pattern}\" in \"{target_text}\"')"
   ]
  },
  {
   "cell_type": "markdown",
   "id": "70a198ca-9891-437f-9e98-f76fe1d76b57",
   "metadata": {},
   "source": [
    "**Note** that now **both occurrances were found**."
   ]
  },
  {
   "cell_type": "markdown",
   "id": "17398c82-e5b9-492f-8bbd-0089e72967d3",
   "metadata": {},
   "source": [
    "### re.I or re.IGNORECASE\n",
    "Makes case-insensitive matching possible, so characters can match regardless of case."
   ]
  },
  {
   "cell_type": "markdown",
   "id": "9bd384e3-e5a8-47bd-b5b4-688f3a3c2f6d",
   "metadata": {},
   "source": [
    "#### Example WITHOUT the flag"
   ]
  },
  {
   "cell_type": "code",
   "execution_count": null,
   "id": "3012f5b2-9cfb-416c-b253-963bd66feaf4",
   "metadata": {},
   "outputs": [],
   "source": [
    "# Target text\n",
    "target_text = \"The Caves of Steel\"\n",
    "\n",
    "# RegEx search pattern\n",
    "pattern = \"caves\"\n",
    "\n",
    "# Find all occurrances of pattern and check result\n",
    "result = re.findall(pattern, target_text)\n",
    "if (result):\n",
    "    print(f'Found \"{pattern}\" in \"{target_text}\"')\n",
    "    print(f'- Matched substrings: {result}')\n",
    "else:\n",
    "    print(f'Did NOT find \"{pattern}\" in \"{target_text}\"')"
   ]
  },
  {
   "cell_type": "markdown",
   "id": "9b5050be-0ae3-40bd-9ded-efeeefbf3393",
   "metadata": {},
   "source": [
    "#### Example WITH the flag"
   ]
  },
  {
   "cell_type": "code",
   "execution_count": null,
   "id": "3bcbe18e-fa83-499c-adb4-e55e895fc02d",
   "metadata": {},
   "outputs": [],
   "source": [
    "# Target text\n",
    "target_text = \"The Caves of Steel\"\n",
    "\n",
    "# RegEx search pattern\n",
    "pattern = \"caves\"\n",
    "\n",
    "# Find all occurrances of pattern and check result\n",
    "result = re.findall(pattern, target_text, flags=re.I)\n",
    "if (result):\n",
    "    print(f'Found \"{pattern}\" in \"{target_text}\"')\n",
    "    print(f'- Matched substrings: {result}')\n",
    "else:\n",
    "    print(f'Did NOT find \"{pattern}\" in \"{target_text}\"')"
   ]
  },
  {
   "cell_type": "markdown",
   "id": "dea360c7-c54c-4693-b5e5-bb53ad18ef46",
   "metadata": {},
   "source": [
    "### <span style=\"color:blue\"> OPTIONAL: </span>re.S or re.DOTALL\n",
    "Makes the **dot (.) match every character, including newline (/n)** characters, Without it, \".\" would not match a /n."
   ]
  },
  {
   "cell_type": "markdown",
   "id": "a32519e7-2008-45e4-a2a6-e3c0ea72ead2",
   "metadata": {},
   "source": [
    "#### Example WITHOUT the flag"
   ]
  },
  {
   "cell_type": "code",
   "execution_count": null,
   "id": "eca63855-abc0-4d1c-84fb-4ecb538ebd1f",
   "metadata": {},
   "outputs": [],
   "source": [
    "# Target text\n",
    "target_text = \"\\\n",
    "The Hunger Games\\n\\\n",
    "Catching Fire\"\n",
    "\n",
    "# RegEx search pattern\n",
    "pattern = \"The Hunger Games.....\"\n",
    "\n",
    "# Find all occurrances of pattern and check result\n",
    "result = re.findall(pattern, target_text)\n",
    "if (result):\n",
    "    print(f'Found \"{pattern}\" in \"{target_text}\"')\n",
    "    print(f'- Matched substrings: {result}')\n",
    "else:\n",
    "    print(f'Did NOT find \"{pattern}\" in \"{target_text}\"')"
   ]
  },
  {
   "cell_type": "markdown",
   "id": "3c264bc8-9e90-4f5b-ae5b-0aa26438b9e0",
   "metadata": {},
   "source": [
    "Notice how we **couldn't match** the **characters in** the **second line**, because the **pattern stopped when** it **reached the \\n**."
   ]
  },
  {
   "cell_type": "markdown",
   "id": "b042029b-55d8-4293-9323-8591cea2dd32",
   "metadata": {},
   "source": [
    "#### Example WITH the flag"
   ]
  },
  {
   "cell_type": "code",
   "execution_count": null,
   "id": "f662df26-760d-4ebe-9288-39d9f9785453",
   "metadata": {},
   "outputs": [],
   "source": [
    "# Target text\n",
    "target_text = \"\\\n",
    "The Hunger Games\\n\\\n",
    "Catching Fire\"\n",
    "\n",
    "# RegEx search pattern\n",
    "pattern = \"The Hunger Games.....\"\n",
    "\n",
    "# Find all occurrances of pattern and check result\n",
    "result = re.findall(pattern, target_text, flags=re.DOTALL)\n",
    "if (result):\n",
    "    print(f'Found \"{pattern}\" in \"{target_text}\"')\n",
    "    print(f'- Matched substrings: {result}')\n",
    "else:\n",
    "    print(f'Did NOT find \"{pattern}\" in \"{target_text}\"')"
   ]
  },
  {
   "cell_type": "markdown",
   "id": "5c7f7228-5a29-4fff-ac60-bf76545dd6df",
   "metadata": {},
   "source": [
    "**With the flag**, the **\\n between the books was matched by the \".\"**, so we found a match."
   ]
  },
  {
   "cell_type": "markdown",
   "id": "904609e8-c07a-4581-a6c9-cdd7a8782a5e",
   "metadata": {},
   "source": [
    "## The search, match and fullmatch functions\n",
    "As we mentioned earlier:\n",
    "- **match()** - **Finds** a **pattern** match at the **beginning of a string**.\n",
    "- **fullmatch()** - Checks whether the **entire string matches the pattern**.\n",
    "- **search()** - Returns the **first occurrence of a pattern** anywhere in the target string.\n",
    "\n",
    "All three of these return a *Match* object. Let's look at a simple example accross all three, to see that it's simply a matter of hoe flexible each is."
   ]
  },
  {
   "cell_type": "markdown",
   "id": "ac1f6eb4-93c3-41ad-be44-348f03674f8f",
   "metadata": {},
   "source": [
    "### The match() function"
   ]
  },
  {
   "cell_type": "code",
   "execution_count": null,
   "id": "6ef0e081-5dca-48dc-9535-09ece205a0cb",
   "metadata": {},
   "outputs": [],
   "source": [
    "# Target text\n",
    "target_text = \"All the Light We Cannot See\"\n",
    "\n",
    "# RegEx search pattern\n",
    "pattern = \"All\"\n",
    "\n",
    "# Invoke function and check result\n",
    "result = re.match(pattern, target_text)\n",
    "if (result):\n",
    "    print(f'Found \"{pattern}\" in \"{target_text}\"')\n",
    "    print(f'- Matched substring: {result.group()}')\n",
    "else:\n",
    "    print(f'Did NOT find \"{pattern}\" in \"{target_text}\"')\n",
    "\n",
    "print(\"\\nHowever ... \\n\")\n",
    "\n",
    "# RegEx search pattern\n",
    "pattern = \"Light\"\n",
    "\n",
    "# Invoke function and check result\n",
    "result = re.match(pattern, target_text)\n",
    "if (result):\n",
    "    print(f'Found \"{pattern}\" in \"{target_text}\"')\n",
    "    print(f'- Matched substring: {result.group()}')\n",
    "else:\n",
    "    print(f'Did NOT find \"{pattern}\" in \"{target_text}\"')"
   ]
  },
  {
   "cell_type": "markdown",
   "id": "487edbdc-1044-4741-a427-d8658eca4390",
   "metadata": {},
   "source": [
    "### The fullmatch() function"
   ]
  },
  {
   "cell_type": "code",
   "execution_count": null,
   "id": "a76b2101-d6c1-4f75-ac48-9a7f93a191aa",
   "metadata": {},
   "outputs": [],
   "source": [
    "# Target text\n",
    "target_text = \"All the Light We Cannot See\"\n",
    "\n",
    "# RegEx search pattern\n",
    "# (?:\\b\\w+\\b\\s*){6} matches exactly 6 words\n",
    "pattern = r\"(?:\\b\\w+\\b\\s*){6}\"\n",
    "\n",
    "# Invoke function and check result\n",
    "result = re.fullmatch(pattern, target_text)\n",
    "if (result):\n",
    "    print(f'Found \"{pattern}\" in \"{target_text}\"')\n",
    "    print(f'- Matched substring: {result.group()}')\n",
    "else:\n",
    "    print(f'Did NOT find \"{pattern}\" in \"{target_text}\"')\n",
    "\n",
    "print(\"\\nHowever ... \\n\")\n",
    "\n",
    "# RegEx search pattern\n",
    "# (?:\\b\\w+\\b\\s*){5} matches exactly 5 words\n",
    "pattern = r\"(?:\\b\\w+\\b\\s*){5}\"\n",
    "\n",
    "# Invoke function and check result\n",
    "result = re.fullmatch(pattern, target_text)\n",
    "if (result):\n",
    "    print(f'Found \"{pattern}\" in \"{target_text}\"')\n",
    "    print(f'- Matched substring: {result.group()}')\n",
    "else:\n",
    "    print(f'Did NOT find \"{pattern}\" in \"{target_text}\"')"
   ]
  },
  {
   "cell_type": "markdown",
   "id": "d33a2d91-78ac-45d2-868b-7cd2c2736012",
   "metadata": {},
   "source": [
    "### The search() function"
   ]
  },
  {
   "cell_type": "code",
   "execution_count": null,
   "id": "dd7053de-dfd5-4b27-bb6a-73424d2d8af9",
   "metadata": {},
   "outputs": [],
   "source": [
    "# Target text\n",
    "target_text = \"All the Light We Cannot See\"\n",
    "\n",
    "# RegEx search pattern\n",
    "# (?:\\b\\w+\\b\\s*){5} matches exactly 5 words\n",
    "pattern = r\"(?:\\b\\w+\\b\\s*){5}\"\n",
    "\n",
    "# Invoke function and check result\n",
    "result = re.search(pattern, target_text)\n",
    "if (result):\n",
    "    print(f'Found \"{pattern}\" in \"{target_text}\"')\n",
    "    print(f'- Matched substring: {result.group()}')\n",
    "else:\n",
    "    print(f'Did NOT find \"{pattern}\" in \"{target_text}\"')\n",
    "\n",
    "print(\"\\nand ... \\n\")\n",
    "\n",
    "# RegEx search pattern\n",
    "pattern = \"All\"\n",
    "\n",
    "# Invoke function and check result\n",
    "result = re.search(pattern, target_text)\n",
    "if (result):\n",
    "    print(f'Found \"{pattern}\" in \"{target_text}\"')\n",
    "    print(f'- Matched substring: {result.group()}')\n",
    "else:\n",
    "    print(f'Did NOT find \"{pattern}\" in \"{target_text}\"')\n",
    "\n",
    "print(\"\\nand also ... \\n\")\n",
    "\n",
    "# RegEx search pattern\n",
    "pattern = \"Light\"\n",
    "\n",
    "# Invoke function and check result\n",
    "result = re.search(pattern, target_text)\n",
    "if (result):\n",
    "    print(f'Found \"{pattern}\" in \"{target_text}\"')\n",
    "    print(f'- Matched substring: {result.group()}')\n",
    "else:\n",
    "    print(f'Did NOT find \"{pattern}\" in \"{target_text}\"')"
   ]
  },
  {
   "cell_type": "markdown",
   "id": "322f260d-c38f-4fc7-9639-a626f8176b69",
   "metadata": {
    "jp-MarkdownHeadingCollapsed": true
   },
   "source": [
    "## <span style=\"color:blue\"> OPTIONAL: </span>The findall and finditer functions\n",
    "As we mentioned earlier:\n",
    "- **findall()** - Returns a **list containing all matches** in the target string.\n",
    "- **finditer()** - **Return** an **iterator yielding Match objects** as **string is scanned left-to-right**. This is a way to repeatedly invoke the equivalent of the search() function across an entire string (recall that search only returns the first match).\n",
    "\n",
    "Both of these functions allow you to find multiple matches in the same string. **findall** does it **all in one call, returning a list**. We've already seen countless examples of it. **finditter works with an iterator**, that is essentially repeatedly calling a  search, and returning a *Match* object. Let's look at it now."
   ]
  },
  {
   "cell_type": "markdown",
   "id": "f82a16f5-8d44-4fea-87d0-96473bb13a4b",
   "metadata": {},
   "source": [
    "### The findall function\n",
    "We've already seen a number of examples, but we'll just repeate one more for contrast. **With findall**, **note** the **results coming back in a list** which I can print directly."
   ]
  },
  {
   "cell_type": "code",
   "execution_count": null,
   "id": "a75ad7a2-d529-48e6-a5a0-417673c6b99b",
   "metadata": {},
   "outputs": [],
   "source": [
    "# Target text\n",
    "target_text = \"Journey to the Center of the Earth\"\n",
    "\n",
    "# RegEx search pattern\n",
    "pattern = r\"the\\s\\w+\"\n",
    "\n",
    "# Find all occurrances of pattern and check result\n",
    "result = re.findall(pattern, target_text)\n",
    "if (result):\n",
    "    print(f'Found \"{pattern}\" in \"{target_text}\"')\n",
    "    print(f'- Matched substrings: {result}')\n",
    "else:\n",
    "    print(f'Did NOT find \"{pattern}\" in \"{target_text}\"')"
   ]
  },
  {
   "cell_type": "markdown",
   "id": "6416616d-980b-4c44-b0f2-1657b78ec57f",
   "metadata": {},
   "source": [
    "### The finditer function\n",
    "We'll do the same search using finditer. **With finditer**, **note** the **use of an iterator** to get the **matches one at a time**. One issue with that, is that you **cannot easily check if no matches were found**. This is not an issue with finditer, but a **general behavior of Python iterators**. There is no simple \"is_empty\" or \"len\" type of call for iterators. So we have to change the code to **keep a variable** for **tracking if matches were found**."
   ]
  },
  {
   "cell_type": "code",
   "execution_count": null,
   "id": "c0be9f00-86cd-4042-b880-5c626b920f7e",
   "metadata": {},
   "outputs": [],
   "source": [
    "# Target text\n",
    "target_text = \"Journey to the Center of the Earth\"\n",
    "\n",
    "# RegEx search pattern\n",
    "pattern = r\"the\\s\\w+\"\n",
    "\n",
    "# get an iterator to search for successive occurances\n",
    "result_iter = re.finditer(pattern, target_text)\n",
    "\n",
    "# iterate through match results\n",
    "match_count = 0\n",
    "for match in result_iter:\n",
    "    match_count += 1\n",
    "    print(f'Match #{match_count}: {match.group()}')\n",
    "\n",
    "# print message if not matches were found\n",
    "if (match_count == 0):\n",
    "    print(f'Did NOT find \"{pattern}\" in \"{target_text}\"')"
   ]
  },
  {
   "cell_type": "markdown",
   "id": "e53dbeee-b7c8-4dbf-abee-1fd7c54c4bbe",
   "metadata": {},
   "source": [
    "## The split() function\n",
    "As we mentioned earlier:\n",
    "- **split()** - Splits string by the occurrences of pattern.\n",
    "\n",
    "This one is simple enough to see in an example."
   ]
  },
  {
   "cell_type": "markdown",
   "id": "c41827af-fc62-4003-b908-eea6b048971b",
   "metadata": {},
   "source": [
    "### Example"
   ]
  },
  {
   "cell_type": "code",
   "execution_count": null,
   "id": "232cbc6b-3160-4da8-b86a-dbfb0708b51e",
   "metadata": {},
   "outputs": [],
   "source": [
    "# Target text\n",
    "target_text = \"Whip Hand, Bolt, In the Frame, Field of Thirteen\"\n",
    "\n",
    "# RegEx search pattern\n",
    "pattern = r\"\\s*,\\s*\"\n",
    "\n",
    "# Invoke function and check result\n",
    "str_list = re.split(pattern, target_text)\n",
    "print(f\"String list: {str_list}\")"
   ]
  },
  {
   "cell_type": "markdown",
   "id": "49c36a00-b566-40e3-8dc2-bc53299ffbf9",
   "metadata": {},
   "source": [
    "## The sub() function\n",
    "As we mentioned earlier:\n",
    "- **sub()** - **Return** the **string obtained** by **replacing the first match of a pattern by a provided in replacement.\n",
    "\n",
    "To me, **sub()** is one of the more interestaing functions, because it's the only one that does **more than simply find a pattern**. It gives us the **opportunity to change it**."
   ]
  },
  {
   "cell_type": "markdown",
   "id": "05e17717-f462-4214-99e7-7e216cbf69a6",
   "metadata": {},
   "source": [
    "### Simple replacement example"
   ]
  },
  {
   "cell_type": "code",
   "execution_count": null,
   "id": "784369e5-bb1f-4f5f-9989-2d412ad65601",
   "metadata": {},
   "outputs": [],
   "source": [
    "# Target text\n",
    "target_text = \"Foundation\"\n",
    "\n",
    "# RegEx search pattern\n",
    "pattern = r\"Foundation\"\n",
    "\n",
    "# Replacement text\n",
    "replacement = \"Foundation and Empire\"\n",
    "\n",
    "# Invoke function and check result\n",
    "new_text = re.sub(pattern, replacement, target_text) \n",
    "print(f\"Original text: {target_text}\")\n",
    "print(f\"New text: {new_text}\")\n",
    "print()\n",
    "\n",
    "# Replacement text\n",
    "replacement = \"Second Foundation\"\n",
    "\n",
    "# Invoke function and check result\n",
    "new_text = re.sub(pattern, replacement, target_text) \n",
    "print(f\"Original text: {target_text}\")\n",
    "print(f\"New text: {new_text}\")\n",
    "print()\n",
    "\n",
    "# Replacement text\n",
    "replacement = \"Foundation's Edge\"\n",
    "\n",
    "# Invoke function and check result\n",
    "new_text = re.sub(pattern, replacement, target_text) \n",
    "print(f\"Original text: {target_text}\")\n",
    "print(f\"New text: {new_text}\")\n",
    "print()"
   ]
  },
  {
   "cell_type": "markdown",
   "id": "ac9c2b89-ab2b-400c-b7c8-20be40834166",
   "metadata": {},
   "source": [
    "### Replacement using back references\n",
    "In this example, let's update the data format used in most of the world, to conform with the one used in the United States. **Most of of the world represents dates as Day/Month/Year**. So \"10/09/2024\" would be September 10th, 2024. The **United States** \"dares to be different\", and **uses** the well known **Month/Day/Year** format. If you have relatives in other parts of the world, that can lead to some confusion. So let's solve that with an automatic translator :-)\n",
    "\n",
    "We will need to **use not just substitution**, but **also groups and backreferences**."
   ]
  },
  {
   "cell_type": "code",
   "execution_count": null,
   "id": "6c05a934-c161-4108-bcdc-63057881f50d",
   "metadata": {},
   "outputs": [],
   "source": [
    "# This is a date invitation for September 10th, 2024, using the United States format\n",
    "target_text = \"Hi Marcia. I'm looking forward to our date on 09/10/2024, at the top of the Sugarloaf mountain\"\n",
    "\n",
    "# Pattern search for a US based date\n",
    "pattern = r\"(\\d{1,2})/(\\d{1,2})/(\\d{4})\"\n",
    "\n",
    "# Replacement text swapping the day and the month\n",
    "replacement = r\"\\2/\\1/\\3\"\n",
    "\n",
    "# Invoke function and check result\n",
    "new_text = re.sub(pattern, replacement, target_text) \n",
    "print(f\"Original text: {target_text}\")\n",
    "print(f\"New text: {new_text}\")"
   ]
  },
  {
   "cell_type": "markdown",
   "id": "41764592-6b40-4794-ade2-14909c5ee4d1",
   "metadata": {},
   "source": [
    "Did you **notice how the month and day were swapped in the replacement**? Thanks to the sub function, nobody was left standing and dejected at the top of the mountain."
   ]
  },
  {
   "cell_type": "markdown",
   "id": "9f6515c7-924e-4605-bbd5-77be5c594b20",
   "metadata": {},
   "source": [
    "# <span style=\"color:blue\"> OPTIONAL</span>"
   ]
  },
  {
   "cell_type": "markdown",
   "id": "a7d5c908-3569-46f6-a467-f24e654df7c8",
   "metadata": {},
   "source": [
    "## Find words that have \"a\" in them\n",
    "This was a question I got from a learner during the session, and I didn't have time to answer in real time. But since I love questions, I added as a bonus example here."
   ]
  },
  {
   "cell_type": "markdown",
   "id": "d20573a9-1c98-4673-ab30-74487d319172",
   "metadata": {},
   "source": [
    "### Pattern used\n",
    "The pattern that did the trick was \"\\b\\w*[Aa]\\w*\\b\"\n",
    "- The \"\\b\" in the beginning and end mark the word boundaries\n",
    "- In the middle, \"\\w*[Aa]\\w*\" will give me any combination of alphanumerics on each side, with an \"a\" or \"A\" in the middle."
   ]
  },
  {
   "cell_type": "markdown",
   "id": "e3f4f6c3-b3c7-4e72-aaaf-2d7f01c5af72",
   "metadata": {},
   "source": [
    "#### A bunch of successfull cases\n",
    "I'm using a list here to save time a test a bunch of success cases in one block"
   ]
  },
  {
   "cell_type": "code",
   "execution_count": null,
   "id": "a4f99c14-5cd6-44fe-8573-1c12f18b24fb",
   "metadata": {},
   "outputs": [],
   "source": [
    "# Target text\n",
    "target_texts = [\"The A.B.C. Murders\", \"Pillars of the Earth\", \"Tigana\", \"Planet of the Apes\", \"Steelheart\", \"Belgarath the Sorcerer\"]\n",
    "\n",
    "# RegEx search pattern\n",
    "pattern = r\"\\b\\w*[Aa]\\w*\\b\"\n",
    "\n",
    "# Find all occurrances of pattern and check result\n",
    "for target_text in target_texts:\n",
    "    result = re.findall(pattern, target_text)\n",
    "    if (result):\n",
    "        print(f'Found \"{pattern}\" in \"{target_text}\"')\n",
    "        print(f'- Matched substrings: {result}')\n",
    "    else:\n",
    "        print(f'Did NOT find \"{pattern}\" in \"{target_text}\"')\n",
    "    print()"
   ]
  },
  {
   "cell_type": "markdown",
   "id": "26e575f5-cd60-434a-88a3-6c0dcb023f89",
   "metadata": {},
   "source": [
    "#### A bunch of fail cases"
   ]
  },
  {
   "cell_type": "code",
   "execution_count": null,
   "id": "0ad4f5ff-a427-4935-9d81-d358fb77c8e6",
   "metadata": {},
   "outputs": [],
   "source": [
    "# Target text\n",
    "target_texts = [\"Presumed Innocent\", \"Time to Kill\", \"Fever\"]\n",
    "\n",
    "# RegEx search pattern\n",
    "pattern = r\"\\b\\w*[Aa]\\w*\\b\"\n",
    "\n",
    "# Find all occurrances of pattern and check result\n",
    "for target_text in target_texts:\n",
    "    result = re.findall(pattern, target_text)\n",
    "    if (result):\n",
    "        print(f'Found \"{pattern}\" in \"{target_text}\"')\n",
    "        print(f'- Matched substrings: {result}')\n",
    "    else:\n",
    "        print(f'Did NOT find \"{pattern}\" in \"{target_text}\"')\n",
    "    print()"
   ]
  },
  {
   "cell_type": "code",
   "execution_count": null,
   "id": "dac5331a-769a-480e-b492-a197d5f079ed",
   "metadata": {},
   "outputs": [],
   "source": []
  }
 ],
 "metadata": {
  "kernelspec": {
   "display_name": "Python 3 (ipykernel)",
   "language": "python",
   "name": "python3"
  },
  "language_info": {
   "codemirror_mode": {
    "name": "ipython",
    "version": 3
   },
   "file_extension": ".py",
   "mimetype": "text/x-python",
   "name": "python",
   "nbconvert_exporter": "python",
   "pygments_lexer": "ipython3",
   "version": "3.9.2"
  }
 },
 "nbformat": 4,
 "nbformat_minor": 5
}
